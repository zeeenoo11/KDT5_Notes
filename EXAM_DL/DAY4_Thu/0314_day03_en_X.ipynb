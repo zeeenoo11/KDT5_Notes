{
 "cells": [
  {
   "cell_type": "markdown",
   "metadata": {},
   "source": [
    "#### [ 미니 테스트  2024-03-14 ]<hr>"
   ]
  },
  {
   "cell_type": "markdown",
   "metadata": {},
   "source": [
    "[1] 지도학습에 대한 설명과 종류에 대해서 간략하게 설명해 주세요."
   ]
  },
  {
   "cell_type": "markdown",
   "metadata": {},
   "source": [
    "데이터와 라벨을 주고 정답을 알려주면서 기계를 학습하는 방법, 종류에는 회귀와 분류가 있다."
   ]
  },
  {
   "cell_type": "markdown",
   "metadata": {},
   "source": [
    "[2] 지도학습의 학습 프로세스를 간략하게 설명해 주세요."
   ]
  },
  {
   "cell_type": "markdown",
   "metadata": {},
   "source": [
    "데이터확인(상관계수 및 시각화) -> 데이터 전처리(인코딩, 범주화, 스케일링, 이상치-중복치-결측치 제거 or 대체) -> 데이터셋 나누기 -> 모델 학습 -> 모델 평가 -> 예측 -> 활용"
   ]
  },
  {
   "cell_type": "markdown",
   "metadata": {},
   "source": [
    "[3] 선형회귀 대해 간략하게 설명해주세요.  \n",
    "    - 개념  \n",
    "    - 조건  \n",
    "    - 동작원리  \n",
    "    - 선형식  \n",
    "    - 오차/잔차 계산 방법  "
   ]
  },
  {
   "cell_type": "markdown",
   "metadata": {},
   "source": [
    "- 선형회귀는 데이터에 대한 선형 관계를 가정하여 데이터를 예측하는 모델\n",
    "- 상관계수를 봤을때, 상관계수가 높거나,  산점도를 확인 했을때, 데이터가 선형적으로 분포되어 있어야 한다.\n",
    "- 오차가 가장 적은 선을 찾는다.\n",
    "- 선형식 : 예측값 = 가중치 * 입력값 + 절편\n",
    "- 오차/잔차 계산 방법 : 오차 = 타겟값 - 예측"
   ]
  },
  {
   "cell_type": "markdown",
   "metadata": {},
   "source": [
    "[4] 로지스틱회귀 대해 간략하게 설명해주세요.  \n",
    "   - 개념  \n",
    "   - 조건  \n",
    "   - 동작원리  \n",
    "   - 선형식  \n",
    "   - 오차/잔차 계산 방법  "
   ]
  },
  {
   "cell_type": "markdown",
   "metadata": {},
   "source": [
    "- 로지스틱회귀는 분류 문제를 해결하기 위한 회귀 모델 : 2진 분류 / 0 아니면 1\n",
    "- 타겟의 개수가 2개이고, 예측값이 0과 1 사이여야 한다. \n",
    "- \n",
    "- \n",
    "- 타겟이 1일때 오차값 + 타겟이 0일때 오차값 / 오차함수가 총 두개"
   ]
  },
  {
   "cell_type": "markdown",
   "metadata": {},
   "source": [
    "[5] Fashion MNIST 데이터셋에서 10개 카테고리 중 하나를 선택해서 2진 분류로 구현해 주세요.  \n",
    "- 데이터셋 : scikit-learn의 datasets 사용\n",
    "    - from sklearn.datasets import fetch_openml \n",
    "    - db_name = 'Fashion-MNIST'\n",
    "    - fashion_data = fetch_openml(name=db_name, parser='auto')"
   ]
  },
  {
   "cell_type": "markdown",
   "source": [
    "[1] 모듈 로딩"
   ],
   "metadata": {
    "collapsed": false
   }
  },
  {
   "cell_type": "code",
   "execution_count": 78,
   "metadata": {
    "ExecuteTime": {
     "end_time": "2024-03-14T05:37:36.698877500Z",
     "start_time": "2024-03-14T05:37:36.612905Z"
    }
   },
   "outputs": [],
   "source": [
    "from sklearn.datasets import fetch_openml\n",
    "import pandas as pd\n",
    "import torch\n",
    "import torch.nn as nn      # LinearRegressoion 기능의 클래스 Linear\n",
    "import torch.nn.functional as F\n",
    "import torch.optim as optim\n",
    "from sklearn.preprocessing import OneHotEncoder"
   ]
  },
  {
   "cell_type": "code",
   "execution_count": 79,
   "metadata": {
    "ExecuteTime": {
     "end_time": "2024-03-14T05:37:40.597506700Z",
     "start_time": "2024-03-14T05:37:36.703013500Z"
    }
   },
   "outputs": [],
   "source": [
    "fashion_data = fetch_openml(name='Fashion-MNIST', parser='auto',as_frame=True) "
   ]
  },
  {
   "cell_type": "code",
   "outputs": [
    {
     "data": {
      "text/plain": "(['pixel1',\n  'pixel2',\n  'pixel3',\n  'pixel4',\n  'pixel5',\n  'pixel6',\n  'pixel7',\n  'pixel8',\n  'pixel9',\n  'pixel10',\n  'pixel11',\n  'pixel12',\n  'pixel13',\n  'pixel14',\n  'pixel15',\n  'pixel16',\n  'pixel17',\n  'pixel18',\n  'pixel19',\n  'pixel20',\n  'pixel21',\n  'pixel22',\n  'pixel23',\n  'pixel24',\n  'pixel25',\n  'pixel26',\n  'pixel27',\n  'pixel28',\n  'pixel29',\n  'pixel30',\n  'pixel31',\n  'pixel32',\n  'pixel33',\n  'pixel34',\n  'pixel35',\n  'pixel36',\n  'pixel37',\n  'pixel38',\n  'pixel39',\n  'pixel40',\n  'pixel41',\n  'pixel42',\n  'pixel43',\n  'pixel44',\n  'pixel45',\n  'pixel46',\n  'pixel47',\n  'pixel48',\n  'pixel49',\n  'pixel50',\n  'pixel51',\n  'pixel52',\n  'pixel53',\n  'pixel54',\n  'pixel55',\n  'pixel56',\n  'pixel57',\n  'pixel58',\n  'pixel59',\n  'pixel60',\n  'pixel61',\n  'pixel62',\n  'pixel63',\n  'pixel64',\n  'pixel65',\n  'pixel66',\n  'pixel67',\n  'pixel68',\n  'pixel69',\n  'pixel70',\n  'pixel71',\n  'pixel72',\n  'pixel73',\n  'pixel74',\n  'pixel75',\n  'pixel76',\n  'pixel77',\n  'pixel78',\n  'pixel79',\n  'pixel80',\n  'pixel81',\n  'pixel82',\n  'pixel83',\n  'pixel84',\n  'pixel85',\n  'pixel86',\n  'pixel87',\n  'pixel88',\n  'pixel89',\n  'pixel90',\n  'pixel91',\n  'pixel92',\n  'pixel93',\n  'pixel94',\n  'pixel95',\n  'pixel96',\n  'pixel97',\n  'pixel98',\n  'pixel99',\n  'pixel100',\n  'pixel101',\n  'pixel102',\n  'pixel103',\n  'pixel104',\n  'pixel105',\n  'pixel106',\n  'pixel107',\n  'pixel108',\n  'pixel109',\n  'pixel110',\n  'pixel111',\n  'pixel112',\n  'pixel113',\n  'pixel114',\n  'pixel115',\n  'pixel116',\n  'pixel117',\n  'pixel118',\n  'pixel119',\n  'pixel120',\n  'pixel121',\n  'pixel122',\n  'pixel123',\n  'pixel124',\n  'pixel125',\n  'pixel126',\n  'pixel127',\n  'pixel128',\n  'pixel129',\n  'pixel130',\n  'pixel131',\n  'pixel132',\n  'pixel133',\n  'pixel134',\n  'pixel135',\n  'pixel136',\n  'pixel137',\n  'pixel138',\n  'pixel139',\n  'pixel140',\n  'pixel141',\n  'pixel142',\n  'pixel143',\n  'pixel144',\n  'pixel145',\n  'pixel146',\n  'pixel147',\n  'pixel148',\n  'pixel149',\n  'pixel150',\n  'pixel151',\n  'pixel152',\n  'pixel153',\n  'pixel154',\n  'pixel155',\n  'pixel156',\n  'pixel157',\n  'pixel158',\n  'pixel159',\n  'pixel160',\n  'pixel161',\n  'pixel162',\n  'pixel163',\n  'pixel164',\n  'pixel165',\n  'pixel166',\n  'pixel167',\n  'pixel168',\n  'pixel169',\n  'pixel170',\n  'pixel171',\n  'pixel172',\n  'pixel173',\n  'pixel174',\n  'pixel175',\n  'pixel176',\n  'pixel177',\n  'pixel178',\n  'pixel179',\n  'pixel180',\n  'pixel181',\n  'pixel182',\n  'pixel183',\n  'pixel184',\n  'pixel185',\n  'pixel186',\n  'pixel187',\n  'pixel188',\n  'pixel189',\n  'pixel190',\n  'pixel191',\n  'pixel192',\n  'pixel193',\n  'pixel194',\n  'pixel195',\n  'pixel196',\n  'pixel197',\n  'pixel198',\n  'pixel199',\n  'pixel200',\n  'pixel201',\n  'pixel202',\n  'pixel203',\n  'pixel204',\n  'pixel205',\n  'pixel206',\n  'pixel207',\n  'pixel208',\n  'pixel209',\n  'pixel210',\n  'pixel211',\n  'pixel212',\n  'pixel213',\n  'pixel214',\n  'pixel215',\n  'pixel216',\n  'pixel217',\n  'pixel218',\n  'pixel219',\n  'pixel220',\n  'pixel221',\n  'pixel222',\n  'pixel223',\n  'pixel224',\n  'pixel225',\n  'pixel226',\n  'pixel227',\n  'pixel228',\n  'pixel229',\n  'pixel230',\n  'pixel231',\n  'pixel232',\n  'pixel233',\n  'pixel234',\n  'pixel235',\n  'pixel236',\n  'pixel237',\n  'pixel238',\n  'pixel239',\n  'pixel240',\n  'pixel241',\n  'pixel242',\n  'pixel243',\n  'pixel244',\n  'pixel245',\n  'pixel246',\n  'pixel247',\n  'pixel248',\n  'pixel249',\n  'pixel250',\n  'pixel251',\n  'pixel252',\n  'pixel253',\n  'pixel254',\n  'pixel255',\n  'pixel256',\n  'pixel257',\n  'pixel258',\n  'pixel259',\n  'pixel260',\n  'pixel261',\n  'pixel262',\n  'pixel263',\n  'pixel264',\n  'pixel265',\n  'pixel266',\n  'pixel267',\n  'pixel268',\n  'pixel269',\n  'pixel270',\n  'pixel271',\n  'pixel272',\n  'pixel273',\n  'pixel274',\n  'pixel275',\n  'pixel276',\n  'pixel277',\n  'pixel278',\n  'pixel279',\n  'pixel280',\n  'pixel281',\n  'pixel282',\n  'pixel283',\n  'pixel284',\n  'pixel285',\n  'pixel286',\n  'pixel287',\n  'pixel288',\n  'pixel289',\n  'pixel290',\n  'pixel291',\n  'pixel292',\n  'pixel293',\n  'pixel294',\n  'pixel295',\n  'pixel296',\n  'pixel297',\n  'pixel298',\n  'pixel299',\n  'pixel300',\n  'pixel301',\n  'pixel302',\n  'pixel303',\n  'pixel304',\n  'pixel305',\n  'pixel306',\n  'pixel307',\n  'pixel308',\n  'pixel309',\n  'pixel310',\n  'pixel311',\n  'pixel312',\n  'pixel313',\n  'pixel314',\n  'pixel315',\n  'pixel316',\n  'pixel317',\n  'pixel318',\n  'pixel319',\n  'pixel320',\n  'pixel321',\n  'pixel322',\n  'pixel323',\n  'pixel324',\n  'pixel325',\n  'pixel326',\n  'pixel327',\n  'pixel328',\n  'pixel329',\n  'pixel330',\n  'pixel331',\n  'pixel332',\n  'pixel333',\n  'pixel334',\n  'pixel335',\n  'pixel336',\n  'pixel337',\n  'pixel338',\n  'pixel339',\n  'pixel340',\n  'pixel341',\n  'pixel342',\n  'pixel343',\n  'pixel344',\n  'pixel345',\n  'pixel346',\n  'pixel347',\n  'pixel348',\n  'pixel349',\n  'pixel350',\n  'pixel351',\n  'pixel352',\n  'pixel353',\n  'pixel354',\n  'pixel355',\n  'pixel356',\n  'pixel357',\n  'pixel358',\n  'pixel359',\n  'pixel360',\n  'pixel361',\n  'pixel362',\n  'pixel363',\n  'pixel364',\n  'pixel365',\n  'pixel366',\n  'pixel367',\n  'pixel368',\n  'pixel369',\n  'pixel370',\n  'pixel371',\n  'pixel372',\n  'pixel373',\n  'pixel374',\n  'pixel375',\n  'pixel376',\n  'pixel377',\n  'pixel378',\n  'pixel379',\n  'pixel380',\n  'pixel381',\n  'pixel382',\n  'pixel383',\n  'pixel384',\n  'pixel385',\n  'pixel386',\n  'pixel387',\n  'pixel388',\n  'pixel389',\n  'pixel390',\n  'pixel391',\n  'pixel392',\n  'pixel393',\n  'pixel394',\n  'pixel395',\n  'pixel396',\n  'pixel397',\n  'pixel398',\n  'pixel399',\n  'pixel400',\n  'pixel401',\n  'pixel402',\n  'pixel403',\n  'pixel404',\n  'pixel405',\n  'pixel406',\n  'pixel407',\n  'pixel408',\n  'pixel409',\n  'pixel410',\n  'pixel411',\n  'pixel412',\n  'pixel413',\n  'pixel414',\n  'pixel415',\n  'pixel416',\n  'pixel417',\n  'pixel418',\n  'pixel419',\n  'pixel420',\n  'pixel421',\n  'pixel422',\n  'pixel423',\n  'pixel424',\n  'pixel425',\n  'pixel426',\n  'pixel427',\n  'pixel428',\n  'pixel429',\n  'pixel430',\n  'pixel431',\n  'pixel432',\n  'pixel433',\n  'pixel434',\n  'pixel435',\n  'pixel436',\n  'pixel437',\n  'pixel438',\n  'pixel439',\n  'pixel440',\n  'pixel441',\n  'pixel442',\n  'pixel443',\n  'pixel444',\n  'pixel445',\n  'pixel446',\n  'pixel447',\n  'pixel448',\n  'pixel449',\n  'pixel450',\n  'pixel451',\n  'pixel452',\n  'pixel453',\n  'pixel454',\n  'pixel455',\n  'pixel456',\n  'pixel457',\n  'pixel458',\n  'pixel459',\n  'pixel460',\n  'pixel461',\n  'pixel462',\n  'pixel463',\n  'pixel464',\n  'pixel465',\n  'pixel466',\n  'pixel467',\n  'pixel468',\n  'pixel469',\n  'pixel470',\n  'pixel471',\n  'pixel472',\n  'pixel473',\n  'pixel474',\n  'pixel475',\n  'pixel476',\n  'pixel477',\n  'pixel478',\n  'pixel479',\n  'pixel480',\n  'pixel481',\n  'pixel482',\n  'pixel483',\n  'pixel484',\n  'pixel485',\n  'pixel486',\n  'pixel487',\n  'pixel488',\n  'pixel489',\n  'pixel490',\n  'pixel491',\n  'pixel492',\n  'pixel493',\n  'pixel494',\n  'pixel495',\n  'pixel496',\n  'pixel497',\n  'pixel498',\n  'pixel499',\n  'pixel500',\n  'pixel501',\n  'pixel502',\n  'pixel503',\n  'pixel504',\n  'pixel505',\n  'pixel506',\n  'pixel507',\n  'pixel508',\n  'pixel509',\n  'pixel510',\n  'pixel511',\n  'pixel512',\n  'pixel513',\n  'pixel514',\n  'pixel515',\n  'pixel516',\n  'pixel517',\n  'pixel518',\n  'pixel519',\n  'pixel520',\n  'pixel521',\n  'pixel522',\n  'pixel523',\n  'pixel524',\n  'pixel525',\n  'pixel526',\n  'pixel527',\n  'pixel528',\n  'pixel529',\n  'pixel530',\n  'pixel531',\n  'pixel532',\n  'pixel533',\n  'pixel534',\n  'pixel535',\n  'pixel536',\n  'pixel537',\n  'pixel538',\n  'pixel539',\n  'pixel540',\n  'pixel541',\n  'pixel542',\n  'pixel543',\n  'pixel544',\n  'pixel545',\n  'pixel546',\n  'pixel547',\n  'pixel548',\n  'pixel549',\n  'pixel550',\n  'pixel551',\n  'pixel552',\n  'pixel553',\n  'pixel554',\n  'pixel555',\n  'pixel556',\n  'pixel557',\n  'pixel558',\n  'pixel559',\n  'pixel560',\n  'pixel561',\n  'pixel562',\n  'pixel563',\n  'pixel564',\n  'pixel565',\n  'pixel566',\n  'pixel567',\n  'pixel568',\n  'pixel569',\n  'pixel570',\n  'pixel571',\n  'pixel572',\n  'pixel573',\n  'pixel574',\n  'pixel575',\n  'pixel576',\n  'pixel577',\n  'pixel578',\n  'pixel579',\n  'pixel580',\n  'pixel581',\n  'pixel582',\n  'pixel583',\n  'pixel584',\n  'pixel585',\n  'pixel586',\n  'pixel587',\n  'pixel588',\n  'pixel589',\n  'pixel590',\n  'pixel591',\n  'pixel592',\n  'pixel593',\n  'pixel594',\n  'pixel595',\n  'pixel596',\n  'pixel597',\n  'pixel598',\n  'pixel599',\n  'pixel600',\n  'pixel601',\n  'pixel602',\n  'pixel603',\n  'pixel604',\n  'pixel605',\n  'pixel606',\n  'pixel607',\n  'pixel608',\n  'pixel609',\n  'pixel610',\n  'pixel611',\n  'pixel612',\n  'pixel613',\n  'pixel614',\n  'pixel615',\n  'pixel616',\n  'pixel617',\n  'pixel618',\n  'pixel619',\n  'pixel620',\n  'pixel621',\n  'pixel622',\n  'pixel623',\n  'pixel624',\n  'pixel625',\n  'pixel626',\n  'pixel627',\n  'pixel628',\n  'pixel629',\n  'pixel630',\n  'pixel631',\n  'pixel632',\n  'pixel633',\n  'pixel634',\n  'pixel635',\n  'pixel636',\n  'pixel637',\n  'pixel638',\n  'pixel639',\n  'pixel640',\n  'pixel641',\n  'pixel642',\n  'pixel643',\n  'pixel644',\n  'pixel645',\n  'pixel646',\n  'pixel647',\n  'pixel648',\n  'pixel649',\n  'pixel650',\n  'pixel651',\n  'pixel652',\n  'pixel653',\n  'pixel654',\n  'pixel655',\n  'pixel656',\n  'pixel657',\n  'pixel658',\n  'pixel659',\n  'pixel660',\n  'pixel661',\n  'pixel662',\n  'pixel663',\n  'pixel664',\n  'pixel665',\n  'pixel666',\n  'pixel667',\n  'pixel668',\n  'pixel669',\n  'pixel670',\n  'pixel671',\n  'pixel672',\n  'pixel673',\n  'pixel674',\n  'pixel675',\n  'pixel676',\n  'pixel677',\n  'pixel678',\n  'pixel679',\n  'pixel680',\n  'pixel681',\n  'pixel682',\n  'pixel683',\n  'pixel684',\n  'pixel685',\n  'pixel686',\n  'pixel687',\n  'pixel688',\n  'pixel689',\n  'pixel690',\n  'pixel691',\n  'pixel692',\n  'pixel693',\n  'pixel694',\n  'pixel695',\n  'pixel696',\n  'pixel697',\n  'pixel698',\n  'pixel699',\n  'pixel700',\n  'pixel701',\n  'pixel702',\n  'pixel703',\n  'pixel704',\n  'pixel705',\n  'pixel706',\n  'pixel707',\n  'pixel708',\n  'pixel709',\n  'pixel710',\n  'pixel711',\n  'pixel712',\n  'pixel713',\n  'pixel714',\n  'pixel715',\n  'pixel716',\n  'pixel717',\n  'pixel718',\n  'pixel719',\n  'pixel720',\n  'pixel721',\n  'pixel722',\n  'pixel723',\n  'pixel724',\n  'pixel725',\n  'pixel726',\n  'pixel727',\n  'pixel728',\n  'pixel729',\n  'pixel730',\n  'pixel731',\n  'pixel732',\n  'pixel733',\n  'pixel734',\n  'pixel735',\n  'pixel736',\n  'pixel737',\n  'pixel738',\n  'pixel739',\n  'pixel740',\n  'pixel741',\n  'pixel742',\n  'pixel743',\n  'pixel744',\n  'pixel745',\n  'pixel746',\n  'pixel747',\n  'pixel748',\n  'pixel749',\n  'pixel750',\n  'pixel751',\n  'pixel752',\n  'pixel753',\n  'pixel754',\n  'pixel755',\n  'pixel756',\n  'pixel757',\n  'pixel758',\n  'pixel759',\n  'pixel760',\n  'pixel761',\n  'pixel762',\n  'pixel763',\n  'pixel764',\n  'pixel765',\n  'pixel766',\n  'pixel767',\n  'pixel768',\n  'pixel769',\n  'pixel770',\n  'pixel771',\n  'pixel772',\n  'pixel773',\n  'pixel774',\n  'pixel775',\n  'pixel776',\n  'pixel777',\n  'pixel778',\n  'pixel779',\n  'pixel780',\n  'pixel781',\n  'pixel782',\n  'pixel783',\n  'pixel784'],\n ['class'],\n None)"
     },
     "execution_count": 80,
     "metadata": {},
     "output_type": "execute_result"
    }
   ],
   "source": [
    "fashion_data['feature_names'], fashion_data['target_names'], fashion_data['categories']  # DF면 categories 속성 볼 수 없음 - 고유값 확인 속성\n",
    "# DF의 경우 target.unique()"
   ],
   "metadata": {
    "collapsed": false,
    "ExecuteTime": {
     "end_time": "2024-03-14T05:37:40.614235700Z",
     "start_time": "2024-03-14T05:37:40.600796400Z"
    }
   },
   "execution_count": 80
  },
  {
   "cell_type": "markdown",
   "source": [
    "[2] 데이터 가공 및 전처리 <hr>\n",
    "- 결측 / 중복 / 이상치 => 없음\n",
    "- 다중분류 ==> 2진분류 변환 : target 변환\n",
    "- 표준화 ==> 이미지 동일 크기 및 색상 채널 : 동일 크기(28*28)와 채널(흑백 1)\n",
    "- 정규화 ==> 피쳐 정규화 / 타겟 정규화"
   ],
   "metadata": {
    "collapsed": false
   }
  },
  {
   "cell_type": "code",
   "execution_count": 81,
   "metadata": {
    "ExecuteTime": {
     "end_time": "2024-03-14T05:37:40.704699500Z",
     "start_time": "2024-03-14T05:37:40.616621800Z"
    }
   },
   "outputs": [],
   "source": [
    "# 정규화 ==> 피쳐 정규화 : 784개는 색상값 즉, 0 ~ 255 범위의 값\n",
    "feature = fashion_data.data / 255.   # 실수로 나누기 ! => 정수/실수 = 실수 => 형변환\n",
    "target = fashion_data.target"
   ]
  },
  {
   "cell_type": "code",
   "execution_count": 82,
   "metadata": {
    "ExecuteTime": {
     "end_time": "2024-03-14T05:37:40.724351100Z",
     "start_time": "2024-03-14T05:37:40.706778900Z"
    }
   },
   "outputs": [
    {
     "data": {
      "text/plain": "((70000, 784), (70000,))"
     },
     "execution_count": 82,
     "metadata": {},
     "output_type": "execute_result"
    }
   ],
   "source": [
    "feature.shape, target.shape"
   ]
  },
  {
   "cell_type": "code",
   "outputs": [],
   "source": [
    "target = target.astype('float')"
   ],
   "metadata": {
    "collapsed": false,
    "ExecuteTime": {
     "end_time": "2024-03-14T05:37:40.766422600Z",
     "start_time": "2024-03-14T05:37:40.724351100Z"
    }
   },
   "execution_count": 83
  },
  {
   "cell_type": "code",
   "execution_count": 84,
   "metadata": {
    "ExecuteTime": {
     "end_time": "2024-03-14T05:37:40.768494700Z",
     "start_time": "2024-03-14T05:37:40.741626800Z"
    }
   },
   "outputs": [
    {
     "data": {
      "text/plain": "class\n9.0    7000\n0.0    7000\n3.0    7000\n2.0    7000\n7.0    7000\n5.0    7000\n1.0    7000\n6.0    7000\n4.0    7000\n8.0    7000\nName: count, dtype: int64"
     },
     "execution_count": 84,
     "metadata": {},
     "output_type": "execute_result"
    }
   ],
   "source": [
    "target.value_counts() # 0과 나머지"
   ]
  },
  {
   "cell_type": "code",
   "execution_count": 85,
   "metadata": {
    "ExecuteTime": {
     "end_time": "2024-03-14T05:37:40.822085200Z",
     "start_time": "2024-03-14T05:37:40.754045900Z"
    }
   },
   "outputs": [
    {
     "data": {
      "text/plain": "class\n1.0    63000\n0.0     7000\nName: count, dtype: int64"
     },
     "execution_count": 85,
     "metadata": {},
     "output_type": "execute_result"
    }
   ],
   "source": [
    "# 다중분류  ==> 2진분류 변환 : target 변환\n",
    "target.replace([1,2,3,4,5,6,7,8,9],1, inplace = True)\n",
    "target.value_counts()"
   ]
  },
  {
   "cell_type": "code",
   "outputs": [],
   "source": [
    "# 원핫 인코딩\n",
    "# sparse_output = False : ndarray 타입으로 반환\n",
    "# encoder = OneHotEncoder(sparse=False) \n",
    "# encoder.fit([target])"
   ],
   "metadata": {
    "collapsed": false,
    "ExecuteTime": {
     "end_time": "2024-03-14T05:37:40.823125100Z",
     "start_time": "2024-03-14T05:37:40.782992800Z"
    }
   },
   "execution_count": 86
  },
  {
   "cell_type": "code",
   "outputs": [],
   "source": [
    "# encoder.transform([target]) # sparse = False 라서 바로 풀려서 반환"
   ],
   "metadata": {
    "collapsed": false,
    "ExecuteTime": {
     "end_time": "2024-03-14T05:37:40.824155600Z",
     "start_time": "2024-03-14T05:37:40.800501700Z"
    }
   },
   "execution_count": 87
  },
  {
   "cell_type": "code",
   "outputs": [],
   "source": [
    "# target = encoder.transform([target])"
   ],
   "metadata": {
    "collapsed": false,
    "ExecuteTime": {
     "end_time": "2024-03-14T05:37:40.845781500Z",
     "start_time": "2024-03-14T05:37:40.814950800Z"
    }
   },
   "execution_count": 88
  },
  {
   "cell_type": "code",
   "outputs": [],
   "source": [
    "# target.shape, target.ndim"
   ],
   "metadata": {
    "collapsed": false,
    "ExecuteTime": {
     "end_time": "2024-03-14T05:37:40.845781500Z",
     "start_time": "2024-03-14T05:37:40.829324800Z"
    }
   },
   "execution_count": 89
  },
  {
   "cell_type": "code",
   "outputs": [],
   "source": [
    "# encoder.transform([target]).toarray()  # 풀기 위해서 toarray() # sparse = False 하면 그럴 필요 없음"
   ],
   "metadata": {
    "collapsed": false,
    "ExecuteTime": {
     "end_time": "2024-03-14T05:37:40.877918600Z",
     "start_time": "2024-03-14T05:37:40.845781500Z"
    }
   },
   "execution_count": 90
  },
  {
   "cell_type": "markdown",
   "source": [
    "[3] 학습 준비 <hr>\n",
    "- 텐서화\n",
    "- 데이터셋 준비 : 훈련용, 테스트용\n",
    "- 학습 방법 : 지도학습 - 이진분류 => Linear 클래스 + Sigmoid 함수\n",
    "- 최적화 방법 : 경사하강법 기반의 방법 => Adm, SGD, ...\n",
    "- 손실 함수 : 이진분류 손실 계산 함수=> binary_cross_entropy"
   ],
   "metadata": {
    "collapsed": false
   }
  },
  {
   "cell_type": "code",
   "outputs": [],
   "source": [
    "### ===> 데이터셋 준비 : 60000개 훈련, 10000개 테스트"
   ],
   "metadata": {
    "collapsed": false,
    "ExecuteTime": {
     "end_time": "2024-03-14T05:37:40.879005700Z",
     "start_time": "2024-03-14T05:37:40.861328100Z"
    }
   },
   "execution_count": 91
  },
  {
   "cell_type": "code",
   "outputs": [
    {
     "data": {
      "text/plain": "(0        1.0\n 1        0.0\n 2        0.0\n 3        1.0\n 4        0.0\n         ... \n 59995    1.0\n 59996    1.0\n 59997    1.0\n 59998    0.0\n 59999    1.0\n Name: class, Length: 60000, dtype: float64,\n 60000    1.0\n 60001    1.0\n 60002    1.0\n 60003    1.0\n 60004    1.0\n         ... \n 69995    1.0\n 69996    1.0\n 69997    1.0\n 69998    1.0\n 69999    1.0\n Name: class, Length: 10000, dtype: float64)"
     },
     "execution_count": 92,
     "metadata": {},
     "output_type": "execute_result"
    }
   ],
   "source": [
    "limit = 60000\n",
    "xtrain = feature[:limit]\n",
    "ytrain = target[:limit]\n",
    "\n",
    "xtest = feature[limit:]\n",
    "ytest = target[limit:]\n",
    "ytrain, ytest"
   ],
   "metadata": {
    "collapsed": false,
    "ExecuteTime": {
     "end_time": "2024-03-14T05:37:40.930951900Z",
     "start_time": "2024-03-14T05:37:40.879005700Z"
    }
   },
   "execution_count": 92
  },
  {
   "cell_type": "code",
   "execution_count": 93,
   "metadata": {
    "ExecuteTime": {
     "end_time": "2024-03-14T05:37:40.952615600Z",
     "start_time": "2024-03-14T05:37:40.892453900Z"
    }
   },
   "outputs": [],
   "source": [
    "# 텐서로 바꾸기\n",
    "xtrain = torch.tensor(xtrain.values, dtype = torch.float32)\n",
    "xtest = torch.tensor(xtest.values, dtype = torch.float32)"
   ]
  },
  {
   "cell_type": "code",
   "execution_count": 94,
   "metadata": {
    "ExecuteTime": {
     "end_time": "2024-03-14T05:37:40.953612300Z",
     "start_time": "2024-03-14T05:37:40.939194800Z"
    }
   },
   "outputs": [
    {
     "data": {
      "text/plain": "(torch.Size([60000, 784]), 2)"
     },
     "execution_count": 94,
     "metadata": {},
     "output_type": "execute_result"
    }
   ],
   "source": [
    "xtrain.shape, xtrain.ndim"
   ]
  },
  {
   "cell_type": "code",
   "execution_count": 95,
   "metadata": {
    "ExecuteTime": {
     "end_time": "2024-03-14T05:37:41.007296300Z",
     "start_time": "2024-03-14T05:37:40.954697400Z"
    }
   },
   "outputs": [],
   "source": [
    "ytrain = torch.tensor(ytrain.values, dtype = torch.float32).unsqueeze(dim = 1)\n",
    "ytest = torch.tensor(ytest.values, dtype = torch.float32).unsqueeze(dim = 1)"
   ]
  },
  {
   "cell_type": "code",
   "execution_count": 96,
   "metadata": {
    "ExecuteTime": {
     "end_time": "2024-03-14T05:37:41.008345300Z",
     "start_time": "2024-03-14T05:37:40.969157900Z"
    }
   },
   "outputs": [
    {
     "data": {
      "text/plain": "(torch.Size([60000, 1]), torch.Size([10000, 1]))"
     },
     "execution_count": 96,
     "metadata": {},
     "output_type": "execute_result"
    }
   ],
   "source": [
    "ytrain.shape, ytest.shape"
   ]
  },
  {
   "cell_type": "code",
   "outputs": [],
   "source": [
    "# 텐서 원핫 인코딩\n",
    "# y_one_hot = torch.zeros(60000,2)\n",
    "# y_one_hot.scatter_(1, ytrain.long(), 1)"
   ],
   "metadata": {
    "collapsed": false,
    "ExecuteTime": {
     "end_time": "2024-03-14T05:37:41.010340Z",
     "start_time": "2024-03-14T05:37:40.983602800Z"
    }
   },
   "execution_count": 97
  },
  {
   "cell_type": "code",
   "outputs": [
    {
     "data": {
      "text/plain": "Linear(in_features=784, out_features=1, bias=True)"
     },
     "execution_count": 98,
     "metadata": {},
     "output_type": "execute_result"
    }
   ],
   "source": [
    "## 학습 인스턴스 생성\n",
    "in_,out_ = xtrain.shape[1], ytrain.shape[1]\n",
    "model = nn.Linear(in_,out_)\n",
    "model"
   ],
   "metadata": {
    "collapsed": false,
    "ExecuteTime": {
     "end_time": "2024-03-14T05:37:41.081053800Z",
     "start_time": "2024-03-14T05:37:41.002169600Z"
    }
   },
   "execution_count": 98
  },
  {
   "cell_type": "code",
   "outputs": [],
   "source": [
    "## 최적화 인스턴스 생성\n",
    "optimizer = (optim.Adam(model.parameters()))"
   ],
   "metadata": {
    "collapsed": false,
    "ExecuteTime": {
     "end_time": "2024-03-14T05:37:41.081053800Z",
     "start_time": "2024-03-14T05:37:41.016552700Z"
    }
   },
   "execution_count": 99
  },
  {
   "cell_type": "markdown",
   "source": [],
   "metadata": {
    "collapsed": false
   }
  },
  {
   "cell_type": "markdown",
   "source": [
    "[4] 학습 <hr>\n",
    "- 반복횟수만큼 학습을 진행"
   ],
   "metadata": {
    "collapsed": false
   }
  },
  {
   "cell_type": "code",
   "outputs": [
    {
     "name": "stdout",
     "output_type": "stream",
     "text": [
      "[ 0 / 150 ] loss = 0.7141015529632568 accuracy = 0.4124000072479248 \n",
      "[ 1 / 150 ] loss = 0.6310162544250488 accuracy = 0.7408166527748108 \n",
      "[ 2 / 150 ] loss = 0.5631771087646484 accuracy = 0.8807166814804077 \n",
      "[ 3 / 150 ] loss = 0.5096501111984253 accuracy = 0.8972499966621399 \n",
      "[ 4 / 150 ] loss = 0.468742698431015 accuracy = 0.8994666934013367 \n",
      "[ 5 / 150 ] loss = 0.4383537769317627 accuracy = 0.8998666405677795 \n",
      "[ 6 / 150 ] loss = 0.4163256883621216 accuracy = 0.8999999761581421 \n",
      "[ 7 / 150 ] loss = 0.40068164467811584 accuracy = 0.8999999761581421 \n",
      "[ 8 / 150 ] loss = 0.3897400498390198 accuracy = 0.8999999761581421 \n",
      "[ 9 / 150 ] loss = 0.3821415603160858 accuracy = 0.8999999761581421 \n",
      "[ 10 / 150 ] loss = 0.37682703137397766 accuracy = 0.8999999761581421 \n",
      "[ 11 / 150 ] loss = 0.3729931712150574 accuracy = 0.8999999761581421 \n",
      "[ 12 / 150 ] loss = 0.3700442612171173 accuracy = 0.8999999761581421 \n",
      "[ 13 / 150 ] loss = 0.3675476908683777 accuracy = 0.8999999761581421 \n",
      "[ 14 / 150 ] loss = 0.3651959002017975 accuracy = 0.8999999761581421 \n",
      "[ 15 / 150 ] loss = 0.36277681589126587 accuracy = 0.8999999761581421 \n",
      "[ 16 / 150 ] loss = 0.36015018820762634 accuracy = 0.8999999761581421 \n",
      "[ 17 / 150 ] loss = 0.3572298288345337 accuracy = 0.8999999761581421 \n",
      "[ 18 / 150 ] loss = 0.35397017002105713 accuracy = 0.8999999761581421 \n",
      "[ 19 / 150 ] loss = 0.35035625100135803 accuracy = 0.8999999761581421 \n",
      "[ 20 / 150 ] loss = 0.3463957607746124 accuracy = 0.8999999761581421 \n",
      "[ 21 / 150 ] loss = 0.3421136140823364 accuracy = 0.8999999761581421 \n",
      "[ 22 / 150 ] loss = 0.33754727244377136 accuracy = 0.8999999761581421 \n",
      "[ 23 / 150 ] loss = 0.33274367451667786 accuracy = 0.8999999761581421 \n",
      "[ 24 / 150 ] loss = 0.32775604724884033 accuracy = 0.8999999761581421 \n",
      "[ 25 / 150 ] loss = 0.32264211773872375 accuracy = 0.8999999761581421 \n",
      "[ 26 / 150 ] loss = 0.3174617886543274 accuracy = 0.8999999761581421 \n",
      "[ 27 / 150 ] loss = 0.31227532029151917 accuracy = 0.9000166654586792 \n",
      "[ 28 / 150 ] loss = 0.3071420192718506 accuracy = 0.9000166654586792 \n",
      "[ 29 / 150 ] loss = 0.3021177649497986 accuracy = 0.9000166654586792 \n",
      "[ 30 / 150 ] loss = 0.29725363850593567 accuracy = 0.9000166654586792 \n",
      "[ 31 / 150 ] loss = 0.2925940454006195 accuracy = 0.9000333547592163 \n",
      "[ 32 / 150 ] loss = 0.2881748080253601 accuracy = 0.9000166654586792 \n",
      "[ 33 / 150 ] loss = 0.28402167558670044 accuracy = 0.9000333547592163 \n",
      "[ 34 / 150 ] loss = 0.2801488935947418 accuracy = 0.9000333547592163 \n",
      "[ 35 / 150 ] loss = 0.27655860781669617 accuracy = 0.9000499844551086 \n",
      "[ 36 / 150 ] loss = 0.27324074506759644 accuracy = 0.9000833630561829 \n",
      "[ 37 / 150 ] loss = 0.2701737880706787 accuracy = 0.9001333117485046 \n",
      "[ 38 / 150 ] loss = 0.26732659339904785 accuracy = 0.9002000093460083 \n",
      "[ 39 / 150 ] loss = 0.26466071605682373 accuracy = 0.9004833102226257 \n",
      "[ 40 / 150 ] loss = 0.2621338665485382 accuracy = 0.9007166624069214 \n",
      "[ 41 / 150 ] loss = 0.2597031593322754 accuracy = 0.9010999798774719 \n",
      "[ 42 / 150 ] loss = 0.25732889771461487 accuracy = 0.9014333486557007 \n",
      "[ 43 / 150 ] loss = 0.2549772560596466 accuracy = 0.9019333124160767 \n",
      "[ 44 / 150 ] loss = 0.2526225447654724 accuracy = 0.902916669845581 \n",
      "[ 45 / 150 ] loss = 0.25024858117103577 accuracy = 0.9037500023841858 \n",
      "[ 46 / 150 ] loss = 0.24784857034683228 accuracy = 0.9048666954040527 \n",
      "[ 47 / 150 ] loss = 0.24542418122291565 accuracy = 0.9057666659355164 \n",
      "[ 48 / 150 ] loss = 0.24298425018787384 accuracy = 0.9068666696548462 \n",
      "[ 49 / 150 ] loss = 0.2405422478914261 accuracy = 0.9078999757766724 \n",
      "[ 50 / 150 ] loss = 0.23811444640159607 accuracy = 0.9088833332061768 \n",
      "[ 51 / 150 ] loss = 0.23571747541427612 accuracy = 0.909683346748352 \n",
      "[ 52 / 150 ] loss = 0.23336675763130188 accuracy = 0.9103833436965942 \n",
      "[ 53 / 150 ] loss = 0.23107506334781647 accuracy = 0.9109333157539368 \n",
      "[ 54 / 150 ] loss = 0.2288517951965332 accuracy = 0.9113166928291321 \n",
      "[ 55 / 150 ] loss = 0.22670260071754456 accuracy = 0.9118166565895081 \n",
      "[ 56 / 150 ] loss = 0.22462959587574005 accuracy = 0.9125333428382874 \n",
      "[ 57 / 150 ] loss = 0.22263163328170776 accuracy = 0.9129833579063416 \n",
      "[ 58 / 150 ] loss = 0.22070512175559998 accuracy = 0.9134666919708252 \n",
      "[ 59 / 150 ] loss = 0.21884466707706451 accuracy = 0.9140666723251343 \n",
      "[ 60 / 150 ] loss = 0.2170438915491104 accuracy = 0.9147999882698059 \n",
      "[ 61 / 150 ] loss = 0.21529611945152283 accuracy = 0.9155499935150146 \n",
      "[ 62 / 150 ] loss = 0.2135949283838272 accuracy = 0.916266679763794 \n",
      "[ 63 / 150 ] loss = 0.21193455159664154 accuracy = 0.9173499941825867 \n",
      "[ 64 / 150 ] loss = 0.21031033992767334 accuracy = 0.9186000227928162 \n",
      "[ 65 / 150 ] loss = 0.20871874690055847 accuracy = 0.9196833372116089 \n",
      "[ 66 / 150 ] loss = 0.20715738832950592 accuracy = 0.9212833046913147 \n",
      "[ 67 / 150 ] loss = 0.20562496781349182 accuracy = 0.9228333234786987 \n",
      "[ 68 / 150 ] loss = 0.2041211724281311 accuracy = 0.9243333339691162 \n",
      "[ 69 / 150 ] loss = 0.20264628529548645 accuracy = 0.9260833263397217 \n",
      "[ 70 / 150 ] loss = 0.20120111107826233 accuracy = 0.9277166724205017 \n",
      "[ 71 / 150 ] loss = 0.19978664815425873 accuracy = 0.9291333556175232 \n",
      "[ 72 / 150 ] loss = 0.1984039694070816 accuracy = 0.9309166669845581 \n",
      "[ 73 / 150 ] loss = 0.19705387949943542 accuracy = 0.9321833252906799 \n",
      "[ 74 / 150 ] loss = 0.19573694467544556 accuracy = 0.9335166811943054 \n",
      "[ 75 / 150 ] loss = 0.19445331394672394 accuracy = 0.9351166486740112 \n",
      "[ 76 / 150 ] loss = 0.19320279359817505 accuracy = 0.9362499713897705 \n",
      "[ 77 / 150 ] loss = 0.19198472797870636 accuracy = 0.9375333189964294 \n",
      "[ 78 / 150 ] loss = 0.19079814851284027 accuracy = 0.9384833574295044 \n",
      "[ 79 / 150 ] loss = 0.18964174389839172 accuracy = 0.9394999742507935 \n",
      "[ 80 / 150 ] loss = 0.18851418793201447 accuracy = 0.9405333399772644 \n",
      "[ 81 / 150 ] loss = 0.18741396069526672 accuracy = 0.9415000081062317 \n",
      "[ 82 / 150 ] loss = 0.1863396018743515 accuracy = 0.9422833323478699 \n",
      "[ 83 / 150 ] loss = 0.18528969585895538 accuracy = 0.9430333375930786 \n",
      "[ 84 / 150 ] loss = 0.18426302075386047 accuracy = 0.9436666369438171 \n",
      "[ 85 / 150 ] loss = 0.18325848877429962 accuracy = 0.9441333413124084 \n",
      "[ 86 / 150 ] loss = 0.1822752207517624 accuracy = 0.944599986076355 \n",
      "[ 87 / 150 ] loss = 0.18131253123283386 accuracy = 0.9450333118438721 \n",
      "[ 88 / 150 ] loss = 0.18036985397338867 accuracy = 0.9453333616256714 \n",
      "[ 89 / 150 ] loss = 0.1794467717409134 accuracy = 0.9456833600997925 \n",
      "[ 90 / 150 ] loss = 0.17854297161102295 accuracy = 0.9459499716758728 \n",
      "[ 91 / 150 ] loss = 0.17765814065933228 accuracy = 0.9462500214576721 \n",
      "[ 92 / 150 ] loss = 0.17679205536842346 accuracy = 0.9465000033378601 \n",
      "[ 93 / 150 ] loss = 0.17594444751739502 accuracy = 0.9466500282287598 \n",
      "[ 94 / 150 ] loss = 0.17511503398418427 accuracy = 0.9469666481018066 \n",
      "[ 95 / 150 ] loss = 0.17430348694324493 accuracy = 0.9473166465759277 \n",
      "[ 96 / 150 ] loss = 0.1735093742609024 accuracy = 0.947616696357727 \n",
      "[ 97 / 150 ] loss = 0.17273235321044922 accuracy = 0.9477999806404114 \n",
      "[ 98 / 150 ] loss = 0.17197194695472717 accuracy = 0.9479833245277405 \n",
      "[ 99 / 150 ] loss = 0.17122766375541687 accuracy = 0.9481333494186401 \n",
      "[ 100 / 150 ] loss = 0.17049899697303772 accuracy = 0.948366641998291 \n",
      "[ 101 / 150 ] loss = 0.1697854846715927 accuracy = 0.9484999775886536 \n",
      "[ 102 / 150 ] loss = 0.16908659040927887 accuracy = 0.9487000107765198 \n",
      "[ 103 / 150 ] loss = 0.16840192675590515 accuracy = 0.9489499926567078 \n",
      "[ 104 / 150 ] loss = 0.16773101687431335 accuracy = 0.9490833282470703 \n",
      "[ 105 / 150 ] loss = 0.16707344353199005 accuracy = 0.949316680431366 \n",
      "[ 106 / 150 ] loss = 0.166428804397583 accuracy = 0.9495999813079834 \n",
      "[ 107 / 150 ] loss = 0.16579681634902954 accuracy = 0.949733316898346 \n",
      "[ 108 / 150 ] loss = 0.165177121758461 accuracy = 0.9498166441917419 \n",
      "[ 109 / 150 ] loss = 0.16456937789916992 accuracy = 0.9499666690826416 \n",
      "[ 110 / 150 ] loss = 0.1639733612537384 accuracy = 0.9501500129699707 \n",
      "[ 111 / 150 ] loss = 0.16338877379894257 accuracy = 0.9503833055496216 \n",
      "[ 112 / 150 ] loss = 0.16281536221504211 accuracy = 0.9504833221435547 \n",
      "[ 113 / 150 ] loss = 0.16225285828113556 accuracy = 0.9506166577339172 \n",
      "[ 114 / 150 ] loss = 0.1617010086774826 accuracy = 0.9507833123207092 \n",
      "[ 115 / 150 ] loss = 0.16115957498550415 accuracy = 0.9508833289146423 \n",
      "[ 116 / 150 ] loss = 0.1606283038854599 accuracy = 0.951033353805542 \n",
      "[ 117 / 150 ] loss = 0.16010692715644836 accuracy = 0.9511333107948303 \n",
      "[ 118 / 150 ] loss = 0.15959522128105164 accuracy = 0.9514666795730591 \n",
      "[ 119 / 150 ] loss = 0.15909291803836823 accuracy = 0.9516000151634216 \n",
      "[ 120 / 150 ] loss = 0.15859979391098022 accuracy = 0.9516000151634216 \n",
      "[ 121 / 150 ] loss = 0.15811561048030853 accuracy = 0.9517666697502136 \n",
      "[ 122 / 150 ] loss = 0.15764012932777405 accuracy = 0.9518833160400391 \n",
      "[ 123 / 150 ] loss = 0.15717311203479767 accuracy = 0.9521166682243347 \n",
      "[ 124 / 150 ] loss = 0.15671439468860626 accuracy = 0.9521999955177307 \n",
      "[ 125 / 150 ] loss = 0.15626372396945953 accuracy = 0.9522500038146973 \n",
      "[ 126 / 150 ] loss = 0.15582093596458435 accuracy = 0.9523166418075562 \n",
      "[ 127 / 150 ] loss = 0.155385822057724 accuracy = 0.9523666501045227 \n",
      "[ 128 / 150 ] loss = 0.15495823323726654 accuracy = 0.9524666666984558 \n",
      "[ 129 / 150 ] loss = 0.15453796088695526 accuracy = 0.9525166749954224 \n",
      "[ 130 / 150 ] loss = 0.15412484109401703 accuracy = 0.9526166915893555 \n",
      "[ 131 / 150 ] loss = 0.1537187248468399 accuracy = 0.9527166485786438 \n",
      "[ 132 / 150 ] loss = 0.15331946313381195 accuracy = 0.9527999758720398 \n",
      "[ 133 / 150 ] loss = 0.15292689204216003 accuracy = 0.9528999924659729 \n",
      "[ 134 / 150 ] loss = 0.15254084765911102 accuracy = 0.9529333114624023 \n",
      "[ 135 / 150 ] loss = 0.15216122567653656 accuracy = 0.9530666470527649 \n",
      "[ 136 / 150 ] loss = 0.15178784728050232 accuracy = 0.9531166553497314 \n",
      "[ 137 / 150 ] loss = 0.15142057836055756 accuracy = 0.9531333446502686 \n",
      "[ 138 / 150 ] loss = 0.15105926990509033 accuracy = 0.9532833099365234 \n",
      "[ 139 / 150 ] loss = 0.1507038176059723 accuracy = 0.9533666372299194 \n",
      "[ 140 / 150 ] loss = 0.15035408735275269 accuracy = 0.9534333348274231 \n",
      "[ 141 / 150 ] loss = 0.15000993013381958 accuracy = 0.9534000158309937 \n",
      "[ 142 / 150 ] loss = 0.1496712565422058 accuracy = 0.9534500241279602 \n",
      "[ 143 / 150 ] loss = 0.14933791756629944 accuracy = 0.9534333348274231 \n",
      "[ 144 / 150 ] loss = 0.1490098088979721 accuracy = 0.953416645526886 \n",
      "[ 145 / 150 ] loss = 0.14868681132793427 accuracy = 0.9534500241279602 \n",
      "[ 146 / 150 ] loss = 0.14836883544921875 accuracy = 0.9534000158309937 \n",
      "[ 147 / 150 ] loss = 0.14805573225021362 accuracy = 0.9534500241279602 \n",
      "[ 148 / 150 ] loss = 0.1477474570274353 accuracy = 0.9535166621208191 \n",
      "[ 149 / 150 ] loss = 0.14744384586811066 accuracy = 0.9535333514213562 \n",
      "[ 150 / 150 ] loss = 0.1471448391675949 accuracy = 0.953499972820282 \n"
     ]
    }
   ],
   "source": [
    "# 학습 횟수 => 샘플 처음부터 끝까지 읽는 것 기준으로 횟수 지정\n",
    "epochs = 150 \n",
    "loss_accuracy = [[],[]]\n",
    "min_loss = 100.0\n",
    "for epoch in range(epochs+1):\n",
    "    # 모델 학습\n",
    "    ypre = model(xtrain)\n",
    "    # 분류값 변환\n",
    "    ypre2 = F.sigmoid(ypre)\n",
    "    loss = F.binary_cross_entropy(ypre2,ytrain)\n",
    "    \n",
    "    optimizer.zero_grad()\n",
    "    loss.backward() # 손실함수 계산값으로 미분 진행하여 새로운 W, b 계산\n",
    "    optimizer.step() # 업데이트\n",
    "    \n",
    "    # 정확도 계산 => 예측값을 0과 1로 변환 => 정단과 비교\n",
    "    train_accuracy = (ytrain == (ypre2 >=0.5)).sum() / ytrain.shape[0]\n",
    "    \n",
    "    loss_accuracy[0].append(loss.item())\n",
    "    loss_accuracy[1].append(train_accuracy)\n",
    "    print(f'[ {epoch} / {epochs} ] loss = {loss.item()} accuracy = {train_accuracy} ')\n",
    "    "
   ],
   "metadata": {
    "collapsed": false,
    "ExecuteTime": {
     "end_time": "2024-03-14T05:37:42.774217300Z",
     "start_time": "2024-03-14T05:37:41.035261800Z"
    }
   },
   "execution_count": 100
  },
  {
   "cell_type": "code",
   "outputs": [
    {
     "data": {
      "text/plain": "Text(0.5, 1.0, '[training loss and accuracy]')"
     },
     "execution_count": 101,
     "metadata": {},
     "output_type": "execute_result"
    },
    {
     "data": {
      "text/plain": "<Figure size 640x480 with 2 Axes>",
      "image/png": "[encoded data removed]"
     },
     "metadata": {},
     "output_type": "display_data"
    }
   ],
   "source": [
    "# 손실과 정확도 시각화\n",
    "import matplotlib.pyplot as plt\n",
    "\n",
    "fig, ax1 = plt.subplots()\n",
    "ax1.plot(loss_accuracy[0], label = 'training loss')\n",
    "ax1.legend()\n",
    "ax1.twinx()\n",
    "plt.plot(loss_accuracy[1], label = 'training accuracy', color = 'red')\n",
    "plt.legend()\n",
    "plt.title('[training loss and accuracy]')\n"
   ],
   "metadata": {
    "collapsed": false,
    "ExecuteTime": {
     "end_time": "2024-03-14T05:37:43.059415400Z",
     "start_time": "2024-03-14T05:37:42.778449500Z"
    }
   },
   "execution_count": 101
  }
 ],
 "metadata": {
  "kernelspec": {
   "display_name": "TORCH_PY38",
   "language": "python",
   "name": "python3"
  },
  "language_info": {
   "codemirror_mode": {
    "name": "ipython",
    "version": 3
   },
   "file_extension": ".py",
   "mimetype": "text/x-python",
   "name": "python",
   "nbconvert_exporter": "python",
   "pygments_lexer": "ipython3",
   "version": "3.8.18"
  }
 },
 "nbformat": 4,
 "nbformat_minor": 2
}
