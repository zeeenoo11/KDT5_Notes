{
 "cells": [
  {
   "cell_type": "markdown",
   "metadata": {},
   "source": [
    "과제 : 패션 데이터 지도 학습 시키기\n"
   ]
  },
  {
   "cell_type": "code",
   "execution_count": 110,
   "metadata": {},
   "outputs": [],
   "source": [
    "from sklearn.datasets import fetch_openml\n",
    "import torch\n",
    "import torch.nn as nn\n",
    "from torch.utils.data import Dataset, DataLoader\n",
    "import numpy as np\n",
    "import pandas as pd"
   ]
  },
  {
   "cell_type": "markdown",
   "metadata": {},
   "source": [
    "1. 데이터 준비"
   ]
  },
  {
   "cell_type": "code",
   "execution_count": 111,
   "metadata": {},
   "outputs": [],
   "source": [
    "# 1. Load Data\n",
    "mnist = fetch_openml('mnist_784', as_frame=True, parser='auto')"
   ]
  },
  {
   "cell_type": "code",
   "execution_count": 112,
   "metadata": {},
   "outputs": [
    {
     "data": {
      "text/plain": [
       "(   pixel1  pixel2  pixel3  pixel4  pixel5  pixel6  pixel7  pixel8  pixel9  \\\n",
       " 0       0       0       0       0       0       0       0       0       0   \n",
       " 1       0       0       0       0       0       0       0       0       0   \n",
       " 2       0       0       0       0       0       0       0       0       0   \n",
       " 3       0       0       0       0       0       0       0       0       0   \n",
       " 4       0       0       0       0       0       0       0       0       0   \n",
       " \n",
       "    pixel10  ...  pixel775  pixel776  pixel777  pixel778  pixel779  pixel780  \\\n",
       " 0        0  ...         0         0         0         0         0         0   \n",
       " 1        0  ...         0         0         0         0         0         0   \n",
       " 2        0  ...         0         0         0         0         0         0   \n",
       " 3        0  ...         0         0         0         0         0         0   \n",
       " 4        0  ...         0         0         0         0         0         0   \n",
       " \n",
       "    pixel781  pixel782  pixel783  pixel784  \n",
       " 0         0         0         0         0  \n",
       " 1         0         0         0         0  \n",
       " 2         0         0         0         0  \n",
       " 3         0         0         0         0  \n",
       " 4         0         0         0         0  \n",
       " \n",
       " [5 rows x 784 columns],\n",
       " 0    5\n",
       " 1    0\n",
       " 2    4\n",
       " 3    1\n",
       " 4    9\n",
       " Name: class, dtype: category\n",
       " Categories (10, object): ['0', '1', '2', '3', ..., '6', '7', '8', '9'])"
      ]
     },
     "execution_count": 112,
     "metadata": {},
     "output_type": "execute_result"
    }
   ],
   "source": [
    "mnist.data.head(), mnist.target.head()"
   ]
  },
  {
   "cell_type": "code",
   "execution_count": 113,
   "metadata": {},
   "outputs": [
    {
     "name": "stdout",
     "output_type": "stream",
     "text": [
      "(70000, 1) (70000, 784)\n",
      "<class 'pandas.core.frame.DataFrame'> <class 'pandas.core.frame.DataFrame'>\n",
      "class    10\n",
      "dtype: int64\n"
     ]
    }
   ],
   "source": [
    "# 1-3. Split\n",
    "target = mnist.target.astype(int).to_frame()\n",
    "feature = mnist.data\n",
    "print(target.shape, feature.shape)\n",
    "print(type(target), type(feature))\n",
    "print(target.nunique())"
   ]
  },
  {
   "cell_type": "markdown",
   "metadata": {},
   "source": [
    "2. Create DataSet"
   ]
  },
  {
   "cell_type": "code",
   "execution_count": 114,
   "metadata": {},
   "outputs": [],
   "source": [
    "# 2-1. Define Dataset class\n",
    "class fashion_dataset(Dataset):\n",
    "    def __init__(self, x_data, y_data):  # 초기화 함수\n",
    "        super().__init__()\n",
    "        x_data = x_data.values if isinstance(x_data, pd.DataFrame) else x_data  \n",
    "        y_data = y_data.values if isinstance(y_data, pd.DataFrame) else y_data\n",
    "        \n",
    "        # ndarray ==> Tensor\n",
    "        self.feature = torch.FloatTensor(x_data)\n",
    "        self.target = torch.LongTensor(y_data)\n",
    "\n",
    "    def __len__(self):  # 갯수 확인 콜백 함수\n",
    "        return self.target.shape[0]\n",
    "\n",
    "    def __getitem__(self, index):   # 특정 인덱스 데이터+라벨 반환 콜백 함수\n",
    "        return self.feature[index], self.target[index]"
   ]
  },
  {
   "cell_type": "code",
   "execution_count": 115,
   "metadata": {},
   "outputs": [],
   "source": [
    "# 2-2. Set my_dataset\n",
    "my_dataset = fashion_dataset(feature, target)\n",
    "# my_dataset[0], feature.iloc[0], target.iloc[0]"
   ]
  },
  {
   "cell_type": "code",
   "execution_count": 116,
   "metadata": {},
   "outputs": [
    {
     "name": "stdout",
     "output_type": "stream",
     "text": [
      "[train, val, test] (49000, 7000, 14000)\n"
     ]
    }
   ],
   "source": [
    "# 2-3. Split train, validate, test\n",
    "from torch.utils.data import random_split\n",
    "\n",
    "seed = torch.Generator().manual_seed(11)\n",
    "\n",
    "train_ds, val_ds, test_ds = random_split(my_dataset, [0.7, 0.1, 0.2], generator=seed)\n",
    "print(f\"[train, val, test] {len(train_ds), len(val_ds), len(test_ds)}\")"
   ]
  },
  {
   "cell_type": "markdown",
   "metadata": {},
   "source": [
    "3. Create DataLoader"
   ]
  },
  {
   "cell_type": "code",
   "execution_count": 117,
   "metadata": {},
   "outputs": [
    {
     "data": {
      "text/plain": [
       "(307, 44, 88)"
      ]
     },
     "execution_count": 117,
     "metadata": {},
     "output_type": "execute_result"
    }
   ],
   "source": [
    "# 3. Create dataLoader\n",
    "batch = 160\n",
    "train_dl = DataLoader(train_ds, batch_size=batch)\n",
    "val_dl = DataLoader(val_ds, batch_size=batch)\n",
    "test_dl = DataLoader(test_ds, batch_size=batch)\n",
    "len(train_dl), len(val_dl), len(test_dl)"
   ]
  },
  {
   "cell_type": "markdown",
   "metadata": {},
   "source": [
    "4. Define Model Class"
   ]
  },
  {
   "cell_type": "code",
   "execution_count": 118,
   "metadata": {},
   "outputs": [],
   "source": [
    "# 4. define class\n",
    "class ClassiModel(nn.Module):\n",
    "    def __init__(self, in_dim, out_dim):\n",
    "        in_to_hidden = 100\n",
    "        hidden_to_out = 50\n",
    "        super(ClassiModel, self).__init__()\n",
    "        self.input_layer = nn.Linear(in_dim, in_to_hidden)\n",
    "        self.relu = nn.ReLU()\n",
    "        self.hidden_layer = nn.Linear(in_to_hidden, hidden_to_out)\n",
    "        self.output_layer = nn.Linear(hidden_to_out, out_dim)\n",
    "\n",
    "    def forward(self, x):\n",
    "        y = self.input_layer(x)\n",
    "        y = self.relu(y)\n",
    "        y = self.hidden_layer(y)\n",
    "        y = self.relu(y)\n",
    "        y = self.output_layer(y)\n",
    "        return y"
   ]
  },
  {
   "cell_type": "code",
   "execution_count": 119,
   "metadata": {},
   "outputs": [],
   "source": [
    "class NewClassiModel(nn.Module):\n",
    "    def __init__(self, IN, hidden_sizes, OUT):\n",
    "        \"\"\"\n",
    "        IN: int, 입력 특성의 수\n",
    "        hidden_sizes: list of int, 각 은닉층의 노드 수\n",
    "        OUT: int, 출력 노드 수\n",
    "        model\n",
    "        \"\"\"\n",
    "        super(NewClassiModel, self).__init__()\n",
    "        self.input_layer = nn.Linear(IN, hidden_sizes[0])\n",
    "        self.relu = nn.ReLU()\n",
    "        self.hidden_layers = nn.ModuleList()\n",
    "        for i in range(len(hidden_sizes) - 1):\n",
    "            self.hidden_layers.append(nn.Linear(hidden_sizes[i], hidden_sizes[i+1]))\n",
    "        self.output_layer = nn.Linear(hidden_sizes[-1], OUT)\n",
    "\n",
    "    def forward(self, x):\n",
    "        \"\"\"\n",
    "        x: torch.Tensor, 입력 데이터\n",
    "        \"\"\"\n",
    "        y = self.input_layer(x)\n",
    "        y = self.relu(y)\n",
    "        for hidden_layer in self.hidden_layers:\n",
    "            y = hidden_layer(y)\n",
    "            y = self.relu(y)\n",
    "        y = self.output_layer(y)\n",
    "        return y"
   ]
  },
  {
   "cell_type": "markdown",
   "metadata": {},
   "source": [
    "5. Prepare Training"
   ]
  },
  {
   "cell_type": "code",
   "execution_count": 120,
   "metadata": {},
   "outputs": [],
   "source": [
    "# 1) Set device\n",
    "DEVICE = \"cuda\" if torch.cuda.is_available() else \"cpu\"\n",
    "# 2) Train count\n",
    "Epoch = 20\n",
    "# 3) Model instance\n",
    "IN, OUT = my_dataset.feature.shape[1], len(torch.unique(my_dataset.target))\n",
    "hidden_sizes = [50, 30]\n",
    "# model = ClassiModel(IN, OUT).to(DEVICE)\n",
    "model = NewClassiModel(IN, hidden_sizes, OUT).to(DEVICE)\n",
    "\n",
    "# 4) loss func.\n",
    "LOSS_FUNC = nn.CrossEntropyLoss().to(DEVICE)\n",
    "\n",
    "# 5) Optimize instance\n",
    "import torch.optim as optim\n",
    "\n",
    "OPTIMIZER = optim.Adam(model.parameters(), lr=0.01)\n",
    "\n",
    "# 6) Scheduler\n",
    "from torch.optim.lr_scheduler import ReduceLROnPlateau\n",
    "\n",
    "SCHEDULER = ReduceLROnPlateau(OPTIMIZER, mode=\"min\", patience=10)\n",
    "\n",
    "# 7) 분류 개수\n",
    "CLASSES = 10"
   ]
  },
  {
   "cell_type": "markdown",
   "metadata": {},
   "source": [
    "6. Define Train / Validate functions"
   ]
  },
  {
   "cell_type": "code",
   "execution_count": 121,
   "metadata": {},
   "outputs": [],
   "source": [
    "import torchmetrics.functional as metrics"
   ]
  },
  {
   "cell_type": "code",
   "execution_count": 122,
   "metadata": {},
   "outputs": [
    {
     "data": {
      "text/plain": [
       "((70000, 1), (70000,))"
      ]
     },
     "execution_count": 122,
     "metadata": {},
     "output_type": "execute_result"
    }
   ],
   "source": [
    "target.shape, target.squeeze().shape"
   ]
  },
  {
   "cell_type": "markdown",
   "metadata": {},
   "source": [
    "6-1. Train Function"
   ]
  },
  {
   "cell_type": "code",
   "execution_count": 123,
   "metadata": {},
   "outputs": [],
   "source": [
    "def training(epoch):\n",
    "    model.train()   # training mode activate\n",
    "    train_report = [[], [], []]  # [loss, acc]\n",
    "    for cnt, (feature, target) in enumerate(train_dl):\n",
    "        feature, target = feature.to(DEVICE), target.to(DEVICE)   # Set to DEVICE\n",
    "        target = target.squeeze()   # (70000,1) -> (70000,)\n",
    "        \n",
    "        pred = model(feature)    # Prediction from feature\n",
    "        # 손실 계산\n",
    "        loss = LOSS_FUNC(pred, target)    # Calculate loss function\n",
    "        train_report[0].append(loss)\n",
    "        \n",
    "        # 성능 평가\n",
    "        acc = metrics.accuracy(pred, target, task=\"multiclass\", num_classes=CLASSES)\n",
    "        train_report[1].append(acc)\n",
    "        \n",
    "        f1 = metrics.f1_score(pred, target, task=\"multiclass\", num_classes=CLASSES)\n",
    "        train_report[2].append(f1)        \n",
    "        \n",
    "        OPTIMIZER.zero_grad()   # Reset W, b\n",
    "        loss.backward()         # Proceed backward to loss values\n",
    "        OPTIMIZER.step()        # Update W, b\n",
    "        \n",
    "        if not cnt % 50: print('.', end='')\n",
    "    \n",
    "    loss_score = (sum(train_report[0]) / batch).item()\n",
    "    acc_score = (sum(train_report[1]) / len(train_dl)).item()\n",
    "    f1_score = (sum(train_report[2]) / len(train_dl)).item()\n",
    "    \n",
    "    return loss_score, acc_score, f1_score"
   ]
  },
  {
   "cell_type": "markdown",
   "metadata": {},
   "source": [
    "6-2. Validate Function"
   ]
  },
  {
   "cell_type": "code",
   "execution_count": 124,
   "metadata": {},
   "outputs": [
    {
     "name": "stdout",
     "output_type": "stream",
     "text": [
      "[31 Test] Loss ==> 2.918, Accuracy ==> 0.029, F1 Score ==> 0.029\n"
     ]
    },
    {
     "data": {
      "text/plain": [
       "(2.9183201789855957, 0.02881510555744171, 0.02881510555744171)"
      ]
     },
     "execution_count": 124,
     "metadata": {},
     "output_type": "execute_result"
    }
   ],
   "source": [
    "def testing(epoch, kind='validation'):\n",
    "    model.eval()   # testing mode activate\n",
    "    \n",
    "    with torch.no_grad():\n",
    "        test_report = [[], [], []]\n",
    "        dataLoader = val_dl if kind == 'validation' else test_dl\n",
    "        for cnt, (feature, target) in enumerate(dataLoader):\n",
    "            feature, target = feature.to(DEVICE), target.to(DEVICE)\n",
    "            target = target.squeeze()\n",
    "            pred = model(feature)\n",
    "            \n",
    "            loss = LOSS_FUNC(pred, target)\n",
    "            test_report[0].append(loss)\n",
    "            \n",
    "            acc = metrics.accuracy(pred, target, task=\"multiclass\", num_classes=CLASSES)\n",
    "            test_report[1].append(acc)\n",
    "            \n",
    "            f1 = metrics.f1_score(pred, target, task=\"multiclass\", num_classes=CLASSES)\n",
    "            test_report[2].append(f1)\n",
    "            \n",
    "    testing_type = \"Validation\" if kind == 'valid' else \"Test\"\n",
    "    \n",
    "    loss_score = (sum(test_report[0])/batch).item()\n",
    "    acc_score = (sum(test_report[1])/batch).item()\n",
    "    f1_score = (sum(test_report[2])/batch).item()\n",
    "    print(f'[{epoch+1} {testing_type}] Loss ==> {loss_score:.3f}, Accuracy ==> {acc_score:.3f}, F1 Score ==> {f1_score:.3f}')\n",
    "    \n",
    "    return loss_score, acc_score, f1_score\n",
    "\n",
    "testing(30)"
   ]
  },
  {
   "cell_type": "markdown",
   "metadata": {},
   "source": [
    "6. 학습 관련 함수 정의\n",
    "<hr>"
   ]
  },
  {
   "cell_type": "code",
   "execution_count": 125,
   "metadata": {},
   "outputs": [],
   "source": [
    "# 학습 중 모델 저장 관련 변수\n",
    "dir = '../model/'\n",
    "filename = dir + 'best_model.pth'\n",
    "\n",
    "import os\n",
    "if not os.path.exists(dir):\n",
    "    # os.mkdir(dir)         => 하위 폴더만 생성, data 폴더가 없으면 에러 발생\n",
    "    os.makedirs(dir)      # => 상위, 하위 폴더 생성"
   ]
  },
  {
   "cell_type": "code",
   "execution_count": 126,
   "metadata": {},
   "outputs": [
    {
     "name": "stdout",
     "output_type": "stream",
     "text": [
      "[Epoch : 1].......[1 Test] Loss ==> 0.265, Accuracy ==> 0.181, F1 Score ==> 0.181\n",
      "[Epoch : 2].......[2 Test] Loss ==> 0.152, Accuracy ==> 0.234, F1 Score ==> 0.234\n",
      "[Epoch : 3].......[3 Test] Loss ==> 0.120, Accuracy ==> 0.244, F1 Score ==> 0.244\n",
      "[Epoch : 4].......[4 Test] Loss ==> 0.105, Accuracy ==> 0.248, F1 Score ==> 0.248\n",
      "[Epoch : 5].......[5 Test] Loss ==> 0.104, Accuracy ==> 0.249, F1 Score ==> 0.249\n",
      "[Epoch : 6].......[6 Test] Loss ==> 0.110, Accuracy ==> 0.248, F1 Score ==> 0.248\n",
      "[Epoch : 7].......[7 Test] Loss ==> 0.097, Accuracy ==> 0.251, F1 Score ==> 0.251\n",
      "[Epoch : 8].......[8 Test] Loss ==> 0.102, Accuracy ==> 0.251, F1 Score ==> 0.251\n",
      "[Epoch : 9].......[9 Test] Loss ==> 0.112, Accuracy ==> 0.252, F1 Score ==> 0.252\n",
      "[Epoch : 10].......[10 Test] Loss ==> 0.097, Accuracy ==> 0.253, F1 Score ==> 0.253\n",
      "[Epoch : 11].......[11 Test] Loss ==> 0.098, Accuracy ==> 0.253, F1 Score ==> 0.253\n",
      "[Epoch : 12].......[12 Test] Loss ==> 0.107, Accuracy ==> 0.252, F1 Score ==> 0.252\n",
      "[Epoch : 13].......[13 Test] Loss ==> 0.106, Accuracy ==> 0.253, F1 Score ==> 0.253\n",
      "[Epoch : 14].......[14 Test] Loss ==> 0.164, Accuracy ==> 0.229, F1 Score ==> 0.229\n",
      "[Epoch : 15].......[15 Test] Loss ==> 0.118, Accuracy ==> 0.250, F1 Score ==> 0.250\n",
      "[Epoch : 16].......[16 Test] Loss ==> 0.122, Accuracy ==> 0.248, F1 Score ==> 0.248\n",
      "[Epoch : 17].......[17 Test] Loss ==> 0.111, Accuracy ==> 0.252, F1 Score ==> 0.252\n",
      "[Epoch : 18].......[18 Test] Loss ==> 0.124, Accuracy ==> 0.251, F1 Score ==> 0.251\n",
      "[Epoch : 19].......[19 Test] Loss ==> 0.146, Accuracy ==> 0.247, F1 Score ==> 0.247\n",
      "[Epoch : 20].......[20 Test] Loss ==> 0.240, Accuracy ==> 0.211, F1 Score ==> 0.211\n",
      "Training and Validation finished\n"
     ]
    }
   ],
   "source": [
    "# 학습 및 검증 데이터별 성능 지표 값\n",
    "train_ = {'loss':[], 'acc':[], 'f1':[]}\n",
    "val_ = {'loss':[], 'acc':[], 'f1':[]}\n",
    "\n",
    "# for i, key in enumerate(train_):\n",
    "#     print(i, key)\n",
    "pre_va_score = 0    # 모델 저장 관련 함수\n",
    "\n",
    "for epoch in range(Epoch):\n",
    "    print(f'[Epoch : {epoch+1}]', end='')\n",
    "    \n",
    "    tr_score = training(epoch)\n",
    "    va_score = testing(epoch, 'validation')\n",
    "    # print(tr_score, va_score)\n",
    "    \n",
    "    for idx, key in enumerate(train_):\n",
    "        train_[key].append(tr_score[idx])\n",
    "        val_[key].append(va_score[idx])\n",
    "\n",
    "print('Training and Validation finished')"
   ]
  },
  {
   "cell_type": "code",
   "execution_count": 128,
   "metadata": {},
   "outputs": [
    {
     "data": {
      "image/png": "[encoded data removed]",
      "text/plain": [
       "<Figure size 1000x600 with 1 Axes>"
      ]
     },
     "metadata": {},
     "output_type": "display_data"
    }
   ],
   "source": [
    "import matplotlib.pyplot as plt\n",
    "\n",
    "# Plot training and validation performance metrics\n",
    "plt.figure(figsize=(10, 6))\n",
    "plt.plot(train_['loss'], label='Training Loss')\n",
    "plt.plot(val_['loss'], label='Validation Loss')\n",
    "plt.plot(train_['acc'], label='Training Accuracy')\n",
    "plt.plot(val_['acc'], label='Validation Accuracy')\n",
    "plt.plot(train_['f1'], label='Training F1 Score')\n",
    "plt.plot(val_['f1'], label='Validation F1 Score')\n",
    "plt.xlabel('Epoch')\n",
    "plt.ylabel('Metric')\n",
    "plt.title('Training and Validation Performance')\n",
    "plt.legend()\n",
    "plt.show()\n"
   ]
  },
  {
   "cell_type": "code",
   "execution_count": 129,
   "metadata": {},
   "outputs": [
    {
     "data": {
      "image/png": "[encoded data removed]",
      "text/plain": [
       "<Figure size 640x480 with 1 Axes>"
      ]
     },
     "metadata": {},
     "output_type": "display_data"
    }
   ],
   "source": [
    "# Plot training and validation loss\n",
    "plt.plot(train_['loss'], label='Training Loss')\n",
    "plt.plot(val_['loss'], label='Validation Loss')\n",
    "plt.xlabel('Epoch')\n",
    "plt.ylabel('Loss')\n",
    "plt.title('Training and Validation Loss')\n",
    "plt.legend()\n",
    "plt.show()\n"
   ]
  },
  {
   "cell_type": "markdown",
   "metadata": {},
   "source": [
    "Modulelist()"
   ]
  },
  {
   "cell_type": "code",
   "execution_count": null,
   "metadata": {},
   "outputs": [],
   "source": [
    "import torch\n",
    "import torch.nn as nn\n",
    "\n",
    "class MyModel(nn.Module):\n",
    "    def __init__(self):\n",
    "        super(MyModel, self).__init__()\n",
    "        self.layers = nn.ModuleList([nn.Linear(10, 20), nn.ReLU(), nn.Linear(20, 1)])\n",
    "\n",
    "    def forward(self, x):\n",
    "        for layer in self.layers:\n",
    "            x = layer(x)\n",
    "        return x\n",
    "\n",
    "model = MyModel()\n",
    "input_data = torch.randn(10)\n",
    "output = model(input_data)\n",
    "print(output)"
   ]
  }
 ],
 "metadata": {
  "kernelspec": {
   "display_name": "Torch_PY38",
   "language": "python",
   "name": "python3"
  },
  "language_info": {
   "codemirror_mode": {
    "name": "ipython",
    "version": 3
   },
   "file_extension": ".py",
   "mimetype": "text/x-python",
   "name": "python",
   "nbconvert_exporter": "python",
   "pygments_lexer": "ipython3",
   "version": "3.8.18"
  }
 },
 "nbformat": 4,
 "nbformat_minor": 2
}
