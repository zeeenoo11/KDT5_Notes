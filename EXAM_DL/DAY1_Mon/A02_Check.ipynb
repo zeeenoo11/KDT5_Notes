{
 "cells": [
  {
   "cell_type": "code",
   "execution_count": 3,
   "metadata": {},
   "outputs": [
    {
     "name": "stdout",
     "output_type": "stream",
     "text": [
      "Pandas v2.0.3\n",
      "Seaborn v0.13.2\n",
      "Matplotlib v3.7.4\n",
      "Scikit-learn v1.3.2\n",
      "pytorch v2.2.0\n"
     ]
    }
   ],
   "source": [
    "import pandas as pd\n",
    "import seaborn as sns\n",
    "import matplotlib\n",
    "import sklearn\n",
    "import torch\n",
    "\n",
    "# 버전 정보 출력\n",
    "print(f'Pandas v{pd.__version__}')\n",
    "print(f'Seaborn v{sns.__version__}')\n",
    "print(f'Matplotlib v{matplotlib.__version__}')\n",
    "print(f'Scikit-learn v{sklearn.__version__}')\n",
    "print(f'pytorch v{torch.__version__}')"
   ]
  },
  {
   "cell_type": "code",
   "execution_count": 4,
   "metadata": {},
   "outputs": [
    {
     "name": "stdout",
     "output_type": "stream",
     "text": [
      "GPU -> False\n"
     ]
    }
   ],
   "source": [
    "# 해당 PC에 GPU 여부\n",
    "print(f'GPU -> {torch.cuda.is_available()}')"
   ]
  },
  {
   "cell_type": "code",
   "execution_count": null,
   "metadata": {},
   "outputs": [],
   "source": [
    "# 저장 및 실행 Device 설정\n",
    "DEVICE = 'gpu' if torch.cuda.is_available() else 'cpu'"
   ]
  }
 ],
 "metadata": {
  "kernelspec": {
   "display_name": "Torch_PY38",
   "language": "python",
   "name": "python3"
  },
  "language_info": {
   "codemirror_mode": {
    "name": "ipython",
    "version": 3
   },
   "file_extension": ".py",
   "mimetype": "text/x-python",
   "name": "python",
   "nbconvert_exporter": "python",
   "pygments_lexer": "ipython3",
   "version": "3.8.18"
  }
 },
 "nbformat": 4,
 "nbformat_minor": 2
}
