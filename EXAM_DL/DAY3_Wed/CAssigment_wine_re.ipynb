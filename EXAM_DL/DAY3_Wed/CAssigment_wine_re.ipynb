{
 "cells": [
  {
   "cell_type": "markdown",
   "metadata": {},
   "source": [
    "Logistic Regression"
   ]
  },
  {
   "cell_type": "code",
   "execution_count": 73,
   "metadata": {},
   "outputs": [],
   "source": [
    "# 이진 분류로 진행, Logistic Regression\n",
    "# 이진 분류를 위한 활성화 함수 sigmoid 함수 사용\n",
    "# 최적의 W, b를 찾기 위한 함수 cost 함수 사용\n",
    "import torch\n",
    "import torch.nn as nn\n",
    "import torch.nn.functional as F\n",
    "import torch.optim as optim"
   ]
  },
  {
   "cell_type": "code",
   "execution_count": 74,
   "metadata": {},
   "outputs": [
    {
     "data": {
      "text/plain": [
       "<torch._C.Generator at 0x1c54862e7d0>"
      ]
     },
     "execution_count": 74,
     "metadata": {},
     "output_type": "execute_result"
    }
   ],
   "source": [
    "# 랜덤 시드 설정\n",
    "torch.manual_seed(1)"
   ]
  },
  {
   "cell_type": "code",
   "execution_count": 75,
   "metadata": {},
   "outputs": [
    {
     "name": "stdout",
     "output_type": "stream",
     "text": [
      "<class 'pandas.core.frame.DataFrame'>\n",
      "RangeIndex: 4898 entries, 0 to 4897\n",
      "Data columns (total 12 columns):\n",
      " #   Column                Non-Null Count  Dtype  \n",
      "---  ------                --------------  -----  \n",
      " 0   fixed acidity         4898 non-null   float64\n",
      " 1   volatile acidity      4898 non-null   float64\n",
      " 2   citric acid           4898 non-null   float64\n",
      " 3   residual sugar        4898 non-null   float64\n",
      " 4   chlorides             4898 non-null   float64\n",
      " 5   free sulfur dioxide   4898 non-null   float64\n",
      " 6   total sulfur dioxide  4898 non-null   float64\n",
      " 7   density               4898 non-null   float64\n",
      " 8   pH                    4898 non-null   float64\n",
      " 9   sulphates             4898 non-null   float64\n",
      " 10  alcohol               4898 non-null   float64\n",
      " 11  quality               4898 non-null   int64  \n",
      "dtypes: float64(11), int64(1)\n",
      "memory usage: 459.3 KB\n"
     ]
    },
    {
     "data": {
      "text/plain": [
       "(None,\n",
       "        fixed acidity  volatile acidity  citric acid  residual sugar  \\\n",
       " count    4898.000000       4898.000000  4898.000000     4898.000000   \n",
       " mean        6.854788          0.278241     0.334192        6.391415   \n",
       " std         0.843868          0.100795     0.121020        5.072058   \n",
       " min         3.800000          0.080000     0.000000        0.600000   \n",
       " 25%         6.300000          0.210000     0.270000        1.700000   \n",
       " 50%         6.800000          0.260000     0.320000        5.200000   \n",
       " 75%         7.300000          0.320000     0.390000        9.900000   \n",
       " max        14.200000          1.100000     1.660000       65.800000   \n",
       " \n",
       "          chlorides  free sulfur dioxide  total sulfur dioxide      density  \\\n",
       " count  4898.000000          4898.000000           4898.000000  4898.000000   \n",
       " mean      0.045772            35.308085            138.360657     0.994027   \n",
       " std       0.021848            17.007137             42.498065     0.002991   \n",
       " min       0.009000             2.000000              9.000000     0.987110   \n",
       " 25%       0.036000            23.000000            108.000000     0.991723   \n",
       " 50%       0.043000            34.000000            134.000000     0.993740   \n",
       " 75%       0.050000            46.000000            167.000000     0.996100   \n",
       " max       0.346000           289.000000            440.000000     1.038980   \n",
       " \n",
       "                 pH    sulphates      alcohol      quality  \n",
       " count  4898.000000  4898.000000  4898.000000  4898.000000  \n",
       " mean      3.188267     0.489847    10.514267     5.877909  \n",
       " std       0.151001     0.114126     1.230621     0.885639  \n",
       " min       2.720000     0.220000     8.000000     3.000000  \n",
       " 25%       3.090000     0.410000     9.500000     5.000000  \n",
       " 50%       3.180000     0.470000    10.400000     6.000000  \n",
       " 75%       3.280000     0.550000    11.400000     6.000000  \n",
       " max       3.820000     1.080000    14.200000     9.000000  )"
      ]
     },
     "execution_count": 75,
     "metadata": {},
     "output_type": "execute_result"
    }
   ],
   "source": [
    "# 데이터 로딩\n",
    "import numpy as np\n",
    "import pandas as pd\n",
    "\n",
    "dataDF = pd.read_csv('winequality-white.csv', sep=';')\n",
    "dataDF.info(), dataDF.describe()"
   ]
  },
  {
   "cell_type": "code",
   "execution_count": 88,
   "metadata": {},
   "outputs": [
    {
     "data": {
      "text/plain": [
       "(tensor([[ 8.8000],\n",
       "         [ 9.5000],\n",
       "         [10.1000],\n",
       "         ...,\n",
       "         [ 9.4000],\n",
       "         [12.8000],\n",
       "         [11.8000]]),\n",
       " tensor(0.6652))"
      ]
     },
     "execution_count": 88,
     "metadata": {},
     "output_type": "execute_result"
    }
   ],
   "source": [
    "# Train Data\n",
    "feature = dataDF['alcohol']\n",
    "target = dataDF['quality']\n",
    "\n",
    "# Transform into tensor\n",
    "x_train = torch.tensor(feature.values, dtype=torch.float32)\n",
    "y_train_init = torch.tensor(target.values)\n",
    "x_train = x_train.unsqueeze(1)\n",
    "y_train_init = y_train_init.unsqueeze(1)\n",
    "\n",
    "# Transfrom into bionary value\n",
    "y_train = torch.where(y_train_init < 6, 0., 1.)\n",
    "x_train, torch.mean(y_train)"
   ]
  },
  {
   "cell_type": "code",
   "execution_count": 77,
   "metadata": {},
   "outputs": [
    {
     "data": {
      "text/plain": [
       "(torch.Size([4898, 1]), torch.Size([4898, 1]))"
      ]
     },
     "execution_count": 77,
     "metadata": {},
     "output_type": "execute_result"
    }
   ],
   "source": [
    "x_train.shape, y_train.shape"
   ]
  },
  {
   "cell_type": "code",
   "execution_count": 92,
   "metadata": {},
   "outputs": [],
   "source": [
    "# Design Model\n",
    "model = nn.Sequential(\n",
    "    nn.Linear(1,1),\n",
    "    nn.Sigmoid()\n",
    ")\n",
    "\n",
    "# Set Optimizer : SGD\n",
    "optimizer = optim.SGD(model.parameters(), lr=0.1)"
   ]
  },
  {
   "cell_type": "code",
   "execution_count": 109,
   "metadata": {},
   "outputs": [],
   "source": [
    "def training():\n",
    "    nb_epochs = 1000\n",
    "    for epoch in range(1, nb_epochs + 1):\n",
    "        \n",
    "        # H(x)\n",
    "        hypothesis = model(x_train)\n",
    "        \n",
    "        # Cost\n",
    "        # .binary_cross_entropy : 이진분류 손실함수\n",
    "        cost = F.binary_cross_entropy(hypothesis, y_train)\n",
    "        \n",
    "        # Update W, b\n",
    "        optimizer.zero_grad()\n",
    "        cost.backward()\n",
    "        optimizer.step()\n",
    "        \n",
    "        # Print log\n",
    "        if epoch % 20 == 0:\n",
    "            prediction = hypothesis >= torch.FloatTensor([0.5])     # 예측값이 0.5를 넘으면 True로 간주\n",
    "            correct_prediction = prediction.float() == y_train      # 실제값과 일치하는 경우만 True로 간주\n",
    "            accuracy = correct_prediction.sum().item() / len(correct_prediction) # 정확도를 계산\n",
    " \n",
    "            print(f'Epoch {epoch:4d}/{nb_epochs} Cost: {cost.item():.6f} Accuracy {accuracy * 100:2.2f}%')\n",
    "            "
   ]
  },
  {
   "cell_type": "code",
   "execution_count": 110,
   "metadata": {},
   "outputs": [
    {
     "name": "stdout",
     "output_type": "stream",
     "text": [
      "Epoch   20/1000 Cost: 0.688145 Accuracy 53.86%\n",
      "Epoch   40/1000 Cost: 0.687514 Accuracy 53.86%\n",
      "Epoch   60/1000 Cost: 0.686887 Accuracy 53.88%\n",
      "Epoch   80/1000 Cost: 0.686263 Accuracy 53.90%\n",
      "Epoch  100/1000 Cost: 0.685643 Accuracy 53.96%\n",
      "Epoch  120/1000 Cost: 0.685027 Accuracy 55.66%\n",
      "Epoch  140/1000 Cost: 0.684414 Accuracy 55.66%\n",
      "Epoch  160/1000 Cost: 0.683804 Accuracy 55.66%\n",
      "Epoch  180/1000 Cost: 0.683198 Accuracy 55.68%\n",
      "Epoch  200/1000 Cost: 0.682596 Accuracy 55.68%\n",
      "Epoch  220/1000 Cost: 0.681996 Accuracy 55.68%\n",
      "Epoch  240/1000 Cost: 0.681400 Accuracy 55.68%\n",
      "Epoch  260/1000 Cost: 0.680807 Accuracy 57.19%\n",
      "Epoch  280/1000 Cost: 0.680218 Accuracy 57.19%\n",
      "Epoch  300/1000 Cost: 0.679631 Accuracy 57.19%\n",
      "Epoch  320/1000 Cost: 0.679048 Accuracy 57.19%\n",
      "Epoch  340/1000 Cost: 0.678468 Accuracy 57.19%\n",
      "Epoch  360/1000 Cost: 0.677891 Accuracy 57.19%\n",
      "Epoch  380/1000 Cost: 0.677317 Accuracy 57.19%\n",
      "Epoch  400/1000 Cost: 0.676746 Accuracy 57.19%\n",
      "Epoch  420/1000 Cost: 0.676178 Accuracy 58.11%\n",
      "Epoch  440/1000 Cost: 0.675613 Accuracy 58.11%\n",
      "Epoch  460/1000 Cost: 0.675050 Accuracy 58.11%\n",
      "Epoch  480/1000 Cost: 0.674491 Accuracy 58.13%\n",
      "Epoch  500/1000 Cost: 0.673935 Accuracy 58.13%\n",
      "Epoch  520/1000 Cost: 0.673381 Accuracy 58.13%\n",
      "Epoch  540/1000 Cost: 0.672830 Accuracy 58.13%\n",
      "Epoch  560/1000 Cost: 0.672282 Accuracy 58.13%\n",
      "Epoch  580/1000 Cost: 0.671736 Accuracy 58.13%\n",
      "Epoch  600/1000 Cost: 0.671193 Accuracy 58.13%\n",
      "Epoch  620/1000 Cost: 0.670653 Accuracy 60.49%\n",
      "Epoch  640/1000 Cost: 0.670116 Accuracy 60.49%\n",
      "Epoch  660/1000 Cost: 0.669581 Accuracy 60.47%\n",
      "Epoch  680/1000 Cost: 0.669048 Accuracy 60.47%\n",
      "Epoch  700/1000 Cost: 0.668518 Accuracy 60.53%\n",
      "Epoch  720/1000 Cost: 0.667990 Accuracy 60.53%\n",
      "Epoch  740/1000 Cost: 0.667465 Accuracy 60.53%\n",
      "Epoch  760/1000 Cost: 0.666942 Accuracy 60.53%\n",
      "Epoch  780/1000 Cost: 0.666422 Accuracy 60.58%\n",
      "Epoch  800/1000 Cost: 0.665905 Accuracy 60.58%\n",
      "Epoch  820/1000 Cost: 0.665389 Accuracy 60.58%\n",
      "Epoch  840/1000 Cost: 0.664875 Accuracy 60.58%\n",
      "Epoch  860/1000 Cost: 0.664365 Accuracy 61.47%\n",
      "Epoch  880/1000 Cost: 0.663856 Accuracy 61.47%\n",
      "Epoch  900/1000 Cost: 0.663350 Accuracy 61.47%\n",
      "Epoch  920/1000 Cost: 0.662845 Accuracy 61.47%\n",
      "Epoch  940/1000 Cost: 0.662344 Accuracy 61.47%\n",
      "Epoch  960/1000 Cost: 0.661844 Accuracy 61.47%\n",
      "Epoch  980/1000 Cost: 0.661346 Accuracy 61.47%\n",
      "Epoch 1000/1000 Cost: 0.660850 Accuracy 61.47%\n"
     ]
    }
   ],
   "source": [
    "training()"
   ]
  },
  {
   "cell_type": "code",
   "execution_count": 111,
   "metadata": {},
   "outputs": [
    {
     "name": "stdout",
     "output_type": "stream",
     "text": [
      "W : 0.5161390900611877\n",
      "b : -3.2900876998901367\n"
     ]
    }
   ],
   "source": [
    "# Check W, b\n",
    "params = list(model.parameters())\n",
    "print('W :', params[0].item())\n",
    "print('b :', params[1].item())"
   ]
  },
  {
   "cell_type": "code",
   "execution_count": 112,
   "metadata": {},
   "outputs": [
    {
     "data": {
      "text/plain": [
       "tensor([[2.3874]])"
      ]
     },
     "execution_count": 112,
     "metadata": {},
     "output_type": "execute_result"
    }
   ],
   "source": [
    "# Predict\n",
    "val = torch.FloatTensor([[11.0]])\n",
    "W = params[0].item()\n",
    "b = params[1].item()\n",
    "\n",
    "y_pred = W * val + b\n",
    "y_pred"
   ]
  },
  {
   "cell_type": "code",
   "execution_count": 113,
   "metadata": {},
   "outputs": [
    {
     "data": {
      "text/plain": [
       "tensor([[0.9159]], grad_fn=<SigmoidBackward0>)"
      ]
     },
     "execution_count": 113,
     "metadata": {},
     "output_type": "execute_result"
    }
   ],
   "source": [
    "model(val)"
   ]
  },
  {
   "cell_type": "markdown",
   "metadata": {},
   "source": [
    "검색 결과 : sigmoid() 에서 0.9159은 91.59%의 확신도로 1일 것이라 판단하는 것\n",
    "           => 알코올이 1일 확률이 91.59% 이다."
   ]
  },
  {
   "cell_type": "code",
   "execution_count": null,
   "metadata": {},
   "outputs": [],
   "source": []
  }
 ],
 "metadata": {
  "kernelspec": {
   "display_name": "Torch_PY38",
   "language": "python",
   "name": "python3"
  },
  "language_info": {
   "codemirror_mode": {
    "name": "ipython",
    "version": 3
   },
   "file_extension": ".py",
   "mimetype": "text/x-python",
   "name": "python",
   "nbconvert_exporter": "python",
   "pygments_lexer": "ipython3",
   "version": "3.8.18"
  }
 },
 "nbformat": 4,
 "nbformat_minor": 2
}
