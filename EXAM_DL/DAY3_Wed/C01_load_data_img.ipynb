{
 "cells": [
  {
   "cell_type": "code",
   "execution_count": 5,
   "metadata": {},
   "outputs": [],
   "source": [
    "# 모듈 로딩\n",
    "import torch\n",
    "import imageio.v2 as imageio"
   ]
  },
  {
   "cell_type": "code",
   "execution_count": 6,
   "metadata": {},
   "outputs": [],
   "source": [
    "# 이미지 데이터 로딩\n",
    "filename = \"h e e j i n.png\""
   ]
  },
  {
   "cell_type": "code",
   "execution_count": 9,
   "metadata": {},
   "outputs": [
    {
     "name": "stdout",
     "output_type": "stream",
     "text": [
      "(602, 613, 4) 3\n"
     ]
    }
   ],
   "source": [
    "# ndarry 타입의 이미지 데이터\n",
    "image_data = imageio.imread(filename)    # warning 제거 : imageio.v2 로 변경\n",
    "print(image_data.shape, image_data.ndim)"
   ]
  },
  {
   "cell_type": "code",
   "execution_count": 11,
   "metadata": {},
   "outputs": [
    {
     "name": "stdout",
     "output_type": "stream",
     "text": [
      "torch.Size([602, 613, 4]) 3\n",
      "torch.Size([602, 613, 4]) 3\n",
      "torch.Size([602, 613, 4]) 3\n"
     ]
    }
   ],
   "source": [
    "# ndarray => tensor 변환\n",
    "img_t1 = torch.tensor(image_data)\n",
    "img_t2 = torch.from_numpy(image_data)\n",
    "img_t3 = torch.as_tensor(image_data)\n",
    "\n",
    "print(img_t1.shape, img_t1.ndim)\n",
    "print(img_t2.shape, img_t2.ndim)\n",
    "print(img_t3.shape, img_t3.ndim)"
   ]
  },
  {
   "cell_type": "code",
   "execution_count": 12,
   "metadata": {},
   "outputs": [
    {
     "data": {
      "text/plain": [
       "torch.Size([4, 602, 613])"
      ]
     },
     "execution_count": 12,
     "metadata": {},
     "output_type": "execute_result"
    }
   ],
   "source": [
    "# 위치 변환 : [행(높이), 열(너비), 채널] => [채널, 행, 열]\n",
    "img_t1.permute(2, 0, 1).shape"
   ]
  },
  {
   "cell_type": "code",
   "execution_count": 2,
   "metadata": {},
   "outputs": [],
   "source": [
    "# 채널\n",
    "# - 4개일 경우 : 투명도인 alpha 값 차원이 포함됨\n",
    "# - 보통 3개 : R, G, B 하나씩\n",
    "\n",
    "# batch : 연산 단위; 어떻게 사용되는 "
   ]
  },
  {
   "cell_type": "code",
   "execution_count": null,
   "metadata": {},
   "outputs": [],
   "source": [
    "# fin."
   ]
  }
 ],
 "metadata": {
  "kernelspec": {
   "display_name": "Torch_PY38",
   "language": "python",
   "name": "python3"
  },
  "language_info": {
   "codemirror_mode": {
    "name": "ipython",
    "version": 3
   },
   "file_extension": ".py",
   "mimetype": "text/x-python",
   "name": "python",
   "nbconvert_exporter": "python",
   "pygments_lexer": "ipython3",
   "version": "3.8.18"
  }
 },
 "nbformat": 4,
 "nbformat_minor": 2
}
