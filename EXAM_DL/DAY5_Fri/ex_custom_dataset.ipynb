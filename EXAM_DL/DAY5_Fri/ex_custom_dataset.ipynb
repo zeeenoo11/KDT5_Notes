{
 "cells": [
  {
   "cell_type": "markdown",
   "source": [
    "### Dataset & DataLoader 살펴보기\n",
    "- Pytorch에서 배치크기만큼 데이터를 조절하기 위한 메커니즘\n",
    "- Dataset : 사용 데이터를 기반으로 사용자정의 클래스 작성\n",
    "- DataLoader : 지정된 Dataset에서 지정된 batch size만큼 피쳐와 타겟을 추출하여 전달"
   ],
   "metadata": {
    "collapsed": false
   },
   "id": "d16f442d20e77c12"
  },
  {
   "cell_type": "markdown",
   "source": [
    "[1] 모듈 로딩 및 데이터 준비 <hr>"
   ],
   "metadata": {
    "collapsed": false
   },
   "id": "533d94a4d362cbb4"
  },
  {
   "cell_type": "code",
   "outputs": [],
   "source": [
    "import torch\n",
    "import torch.nn as nn\n",
    "from torch.utils.data import DataLoader, Dataset\n",
    "\n",
    "import numpy as np\n",
    "import pandas as pd"
   ],
   "metadata": {
    "collapsed": false,
    "ExecuteTime": {
     "end_time": "2024-03-15T06:21:34.069991400Z",
     "start_time": "2024-03-15T06:21:33.957367700Z"
    }
   },
   "id": "209b4d832235e4e6",
   "execution_count": 128
  },
  {
   "cell_type": "code",
   "outputs": [
    {
     "data": {
      "text/plain": "(torch.Size([5, 3]), 2, torch.Size([5, 1]), 2)"
     },
     "execution_count": 129,
     "metadata": {},
     "output_type": "execute_result"
    }
   ],
   "source": [
    "x_data = torch.IntTensor([ [10,20,30], [20,30,40], [30,40,50], [40,50,60], [50,60,70] ])\n",
    "y_data = torch.IntTensor([ [20], [30], [40], [50], [60] ])\n",
    "# x_data, y_data shape[0]이 다르면 dataset 생성 안 됨\n",
    "x_data.shape, x_data.ndim, y_data.shape, y_data.ndim"
   ],
   "metadata": {
    "collapsed": false
   },
   "id": "76d3516ed547dda0",
   "execution_count": 129
  },
  {
   "cell_type": "markdown",
   "source": [
    "[2] 데이터셋 생성<hr>\n",
    "- [2-1] TensorDataset 활용 : Dataset의 sub_class"
   ],
   "metadata": {
    "collapsed": false
   },
   "id": "d7899622d5ba5612"
  },
  {
   "cell_type": "code",
   "outputs": [],
   "source": [
    "# TensorDataset 클래스 로딩\n",
    "from torch.utils.data import TensorDataset"
   ],
   "metadata": {
    "collapsed": false
   },
   "id": "e08282742eac3cb2",
   "execution_count": 130
  },
  {
   "cell_type": "code",
   "outputs": [
    {
     "data": {
      "text/plain": "<torch.utils.data.dataset.TensorDataset at 0x1bb4902b0d0>"
     },
     "execution_count": 131,
     "metadata": {},
     "output_type": "execute_result"
    }
   ],
   "source": [
    "dataset = TensorDataset(x_data, y_data)\n",
    "dataset"
   ],
   "metadata": {
    "collapsed": false
   },
   "id": "5a12d32e1aa125d7",
   "execution_count": 131
  },
  {
   "cell_type": "code",
   "outputs": [
    {
     "data": {
      "text/plain": "(tensor([[10, 20, 30],\n         [20, 30, 40],\n         [30, 40, 50],\n         [40, 50, 60],\n         [50, 60, 70]], dtype=torch.int32),\n tensor([[20],\n         [30],\n         [40],\n         [50],\n         [60]], dtype=torch.int32))"
     },
     "execution_count": 132,
     "metadata": {},
     "output_type": "execute_result"
    }
   ],
   "source": [
    "# 데이터셋의 정보 반환\n",
    "dataset.tensors"
   ],
   "metadata": {
    "collapsed": false
   },
   "id": "5b120056cfe5725b",
   "execution_count": 132
  },
  {
   "cell_type": "code",
   "outputs": [
    {
     "data": {
      "text/plain": "(tensor([10, 20, 30], dtype=torch.int32), tensor([20], dtype=torch.int32))"
     },
     "execution_count": 133,
     "metadata": {},
     "output_type": "execute_result"
    }
   ],
   "source": [
    "# __getitem__ 메서드 호ㅗ출\n",
    "dataset[0]"
   ],
   "metadata": {
    "collapsed": false
   },
   "id": "3d64a83650bbec86",
   "execution_count": 133
  },
  {
   "cell_type": "code",
   "outputs": [
    {
     "data": {
      "text/plain": "5"
     },
     "execution_count": 134,
     "metadata": {},
     "output_type": "execute_result"
    }
   ],
   "source": [
    "len(dataset)"
   ],
   "metadata": {
    "collapsed": false
   },
   "id": "696ce47fb2fbdac7",
   "execution_count": 134
  },
  {
   "cell_type": "markdown",
   "source": [
    "- [2-2] 사용자 정의 데이터셋 생성"
   ],
   "metadata": {
    "collapsed": false
   },
   "id": "6b7f976ec63f2a9d"
  },
  {
   "cell_type": "code",
   "outputs": [
    {
     "name": "stdout",
     "output_type": "stream",
     "text": [
      "<class 'pandas.core.frame.DataFrame'>\n",
      "RangeIndex: 150 entries, 0 to 149\n",
      "Data columns (total 5 columns):\n",
      " #   Column        Non-Null Count  Dtype  \n",
      "---  ------        --------------  -----  \n",
      " 0   sepal.length  150 non-null    float64\n",
      " 1   sepal.width   150 non-null    float64\n",
      " 2   petal.length  150 non-null    float64\n",
      " 3   petal.width   150 non-null    float64\n",
      " 4   variety       150 non-null    object \n",
      "dtypes: float64(4), object(1)\n",
      "memory usage: 6.0+ KB\n"
     ]
    }
   ],
   "source": [
    "filename = '../data/iris.csv'\n",
    "\n",
    "# pandas\n",
    "irisDF = pd.read_csv(filename)\n",
    "irisDF.info()"
   ],
   "metadata": {
    "collapsed": false,
    "ExecuteTime": {
     "end_time": "2024-03-15T06:21:34.304343300Z",
     "start_time": "2024-03-15T06:21:34.226469100Z"
    }
   },
   "id": "57e7ef3a5cb2170f",
   "execution_count": 135
  },
  {
   "cell_type": "code",
   "outputs": [],
   "source": [
    "# numpy\n",
    "irisNP = np.loadtxt(filename, delimiter=',', usecols = [0,1,2,3], skiprows=1) # target 없는 데이터  # target은 문자열이라 못 불러옴"
   ],
   "metadata": {
    "collapsed": false
   },
   "id": "ce47b6fff842145",
   "execution_count": 136
  },
  {
   "cell_type": "code",
   "outputs": [
    {
     "name": "stdout",
     "output_type": "stream",
     "text": [
      "DF\n"
     ]
    }
   ],
   "source": [
    "# 데이터의 타입 체크\n",
    "if irisDF.__class__.__name__ == 'DataFrame':\n",
    "    print('DF')\n",
    "else:\n",
    "    print('----')"
   ],
   "metadata": {
    "collapsed": false
   },
   "id": "bcb5e57320d47a99",
   "execution_count": 137
  },
  {
   "cell_type": "code",
   "outputs": [
    {
     "data": {
      "text/plain": "(True, True)"
     },
     "execution_count": 138,
     "metadata": {},
     "output_type": "execute_result"
    }
   ],
   "source": [
    "# True or False로 반환\n",
    "isinstance(irisDF, pd.DataFrame),isinstance(irisNP, np.ndarray)"
   ],
   "metadata": {
    "collapsed": false
   },
   "id": "47468e888841f5ad",
   "execution_count": 138
  },
  {
   "cell_type": "code",
   "outputs": [],
   "source": [
    "# 사용자 정의 Dataset 클래스\n",
    "# - 데이터의 Tensor 변환\n",
    "class DLDataset(Dataset):\n",
    "    \n",
    "    # 초기화 함수\n",
    "    def __init__(self,x_data,y_data):\n",
    "        super().__init__()\n",
    "        # x, y data => ndarray\n",
    "        x_data = x_data.values if isinstance(x_data, pd.DataFrame) else x_data\n",
    "        y_data = y_data.values if isinstance(y_data, pd.DataFrame) else y_data\n",
    "        \n",
    "        # ndarray => tensor : 텐서화\n",
    "        self.feature = torch.FloatTensor(x_data)\n",
    "        self.target = torch.FloatTensor(y_data)\n",
    "        \n",
    "    # 데이터셋의 갯수 체크 함수\n",
    "    def __len__(self):\n",
    "        return self.target.shape[0]\n",
    "        pass\n",
    "    \n",
    "    # 특정 인덱스 데이터 + 라벨 반환 콜백 함수 - 튜플로 반환\n",
    "    def __getitem__(self,index):\n",
    "        return self.feature[index],self.target[index]\n",
    "        pass"
   ],
   "metadata": {
    "collapsed": false,
    "ExecuteTime": {
     "end_time": "2024-03-15T06:21:34.423944800Z",
     "start_time": "2024-03-15T06:21:34.375108700Z"
    }
   },
   "id": "287c42a876486da9",
   "execution_count": 139
  },
  {
   "cell_type": "code",
   "outputs": [],
   "source": [
    "# 피쳐와 라벨로 분리\n",
    "featureDF = irisDF[irisDF.columns[:-1]]\n",
    "targetDF = irisDF[irisDF.columns[-1]]  \n",
    "# target이 문자열이라 인코딩 필요 -> replace or encoder 이용\n",
    "# 2차원이어야 하니까 .to_frame() 해야함 / 밑에 라벨인코더 사용하기 위해 1차원으로 놔둠 / 라벨인코더는 1차원으로 받음"
   ],
   "metadata": {
    "collapsed": false,
    "ExecuteTime": {
     "end_time": "2024-03-15T06:21:34.441884300Z",
     "start_time": "2024-03-15T06:21:34.393047700Z"
    }
   },
   "id": "d2d70a639ec192f",
   "execution_count": 140
  },
  {
   "cell_type": "code",
   "outputs": [
    {
     "data": {
      "text/plain": "((150, 4), 2, (150,), 1)"
     },
     "execution_count": 141,
     "metadata": {},
     "output_type": "execute_result"
    }
   ],
   "source": [
    "featureDF.shape, featureDF.ndim, targetDF.shape, targetDF.ndim"
   ],
   "metadata": {
    "collapsed": false
   },
   "id": "7697a177b9d9d742",
   "execution_count": 141
  },
  {
   "cell_type": "code",
   "outputs": [
    {
     "data": {
      "text/plain": "((150,), 1)"
     },
     "execution_count": 142,
     "metadata": {},
     "output_type": "execute_result"
    }
   ],
   "source": [
    "from sklearn.preprocessing import LabelEncoder\n",
    "\n",
    "targetNP = LabelEncoder().fit_transform(targetDF)\n",
    "\n",
    "# 차원늘리기\n",
    "targetNP = targetNP.reshape(-1,1)\n",
    "targetNP.shape, targetNP.ndim"
   ],
   "metadata": {
    "collapsed": false,
    "ExecuteTime": {
     "end_time": "2024-03-15T06:21:34.516971600Z",
     "start_time": "2024-03-15T06:21:34.475111900Z"
    }
   },
   "id": "d16ff1b2f6cdc14c",
   "execution_count": 142
  },
  {
   "cell_type": "code",
   "outputs": [],
   "source": [
    "# 데이터셋 생성 -> DF, NP\n",
    "my_dataset = DLDataset(featureDF,targetNP)"
   ],
   "metadata": {
    "collapsed": false,
    "ExecuteTime": {
     "end_time": "2024-03-15T06:21:34.554845600Z",
     "start_time": "2024-03-15T06:21:34.518964400Z"
    }
   },
   "id": "2aec7da9ece4a4e7",
   "execution_count": 143
  },
  {
   "cell_type": "code",
   "outputs": [
    {
     "data": {
      "text/plain": "((tensor([5.1000, 3.5000, 1.4000, 0.2000]), tensor(0.)),\n sepal.length    5.1\n sepal.width     3.5\n petal.length    1.4\n petal.width     0.2\n Name: 0, dtype: float64,\n 'Setosa')"
     },
     "execution_count": 144,
     "metadata": {},
     "output_type": "execute_result"
    }
   ],
   "source": [
    "my_dataset[0], featureDF.iloc[0], targetDF[0]"
   ],
   "metadata": {
    "collapsed": false,
    "ExecuteTime": {
     "end_time": "2024-03-15T06:21:34.585741200Z",
     "start_time": "2024-03-15T06:21:34.541889400Z"
    }
   },
   "id": "c3defb7a379b6373",
   "execution_count": 144
  },
  {
   "cell_type": "code",
   "outputs": [],
   "source": [
    "# 데이터셋 생성 -> NP, NP\n",
    "my_dataset2 = DLDataset(irisNP,targetNP)"
   ],
   "metadata": {
    "collapsed": false,
    "ExecuteTime": {
     "end_time": "2024-03-15T06:21:34.639631800Z",
     "start_time": "2024-03-15T06:21:34.588732Z"
    }
   },
   "id": "bde656b3c3a53d28",
   "execution_count": 145
  },
  {
   "cell_type": "code",
   "outputs": [
    {
     "data": {
      "text/plain": "(tensor([5.1000, 3.5000, 1.4000, 0.2000]), tensor(0.))"
     },
     "execution_count": 146,
     "metadata": {},
     "output_type": "execute_result"
    }
   ],
   "source": [
    "my_dataset2[0]"
   ],
   "metadata": {
    "collapsed": false,
    "ExecuteTime": {
     "end_time": "2024-03-15T06:21:34.644617Z",
     "start_time": "2024-03-15T06:21:34.610729200Z"
    }
   },
   "id": "f37d8938197b1026",
   "execution_count": 146
  },
  {
   "cell_type": "markdown",
   "source": [
    "- [2-3] 학습용, 검증용, 테스트용 Dataset<hr>"
   ],
   "metadata": {
    "collapsed": false
   },
   "id": "42146d640f157780"
  },
  {
   "cell_type": "code",
   "outputs": [
    {
     "name": "stdout",
     "output_type": "stream",
     "text": [
      "train_ds: 105개, val_ds: 15개, test_ds: 30개\n"
     ]
    },
    {
     "data": {
      "text/plain": "([42,\n  95,\n  30,\n  64,\n  52,\n  35,\n  130,\n  40,\n  82,\n  17,\n  108,\n  94,\n  68,\n  97,\n  117,\n  127,\n  41,\n  44,\n  57,\n  140,\n  149,\n  32,\n  23,\n  102,\n  16,\n  113,\n  71,\n  18,\n  67,\n  66,\n  0,\n  25,\n  101,\n  112,\n  91,\n  3,\n  59,\n  116,\n  86,\n  84,\n  106,\n  142,\n  43,\n  39,\n  26,\n  98,\n  93,\n  20,\n  87,\n  19,\n  120,\n  114,\n  7,\n  63,\n  76,\n  89,\n  36,\n  45,\n  37,\n  56,\n  58,\n  122,\n  51,\n  145,\n  24,\n  21,\n  105,\n  62,\n  15,\n  11,\n  48,\n  133,\n  88,\n  50,\n  6,\n  134,\n  111,\n  8,\n  49,\n  75,\n  69,\n  124,\n  4,\n  147,\n  80,\n  100,\n  99,\n  141,\n  47,\n  107,\n  13,\n  109,\n  129,\n  28,\n  38,\n  53,\n  121,\n  5,\n  55,\n  31,\n  73,\n  74,\n  54,\n  29,\n  12],\n [22, 104, 81, 1, 103, 125, 85, 2, 96, 128, 27, 118, 77, 110, 146],\n [72,\n  139,\n  131,\n  60,\n  65,\n  92,\n  135,\n  83,\n  14,\n  34,\n  137,\n  10,\n  119,\n  9,\n  148,\n  79,\n  78,\n  70,\n  144,\n  143,\n  123,\n  115,\n  61,\n  132,\n  90,\n  46,\n  126,\n  136,\n  33,\n  138])"
     },
     "execution_count": 147,
     "metadata": {},
     "output_type": "execute_result"
    }
   ],
   "source": [
    "# 파이토치\n",
    "from torch.utils.data import random_split\n",
    "\n",
    "# 학습용, 검증용, 테스트용 데이터 비율\n",
    "seed = torch.Generator().manual_seed(42)\n",
    "trainDS, validDS, testDS = random_split(my_dataset2, [0.7,0.1,0.2], generator=seed) # generator : 랜덤 씨드 설정\n",
    "\n",
    "print(f\"train_ds: {len(trainDS)}개, val_ds: {len(validDS)}개, test_ds: {len(testDS)}개\")\n",
    "# Subset 타입 \n",
    "# Subset 속성 - indices, dataset\n",
    "trainDS.indices, validDS.indices, testDS.indices  # 빼온 데이터의 인덱스"
   ],
   "metadata": {
    "collapsed": false,
    "ExecuteTime": {
     "end_time": "2024-03-15T06:21:34.704428100Z",
     "start_time": "2024-03-15T06:21:34.647607600Z"
    }
   },
   "id": "2aab19658c7002a9",
   "execution_count": 147
  },
  {
   "cell_type": "markdown",
   "source": [
    "[3] DataLoder 생성<hr>"
   ],
   "metadata": {
    "collapsed": false
   },
   "id": "8f43f71465c6490c"
  },
  {
   "cell_type": "code",
   "outputs": [],
   "source": [
    "# DataLoder 생성\n",
    "# drop_last 매개변수 : 배치사이즈로 데이터셋 분리 후 남는 데이터 처리 방법 설정 [기본 : False]\n",
    "batch = 10\n",
    "trainDL = DataLoader(trainDS, batch_size=batch)\n",
    "validDL = DataLoader(validDS, batch_size=batch)\n",
    "testDL = DataLoader(testDS, batch_size=batch)"
   ],
   "metadata": {
    "collapsed": false,
    "ExecuteTime": {
     "end_time": "2024-03-15T06:21:34.740296600Z",
     "start_time": "2024-03-15T06:21:34.690463100Z"
    }
   },
   "id": "a25a676bdc67de86",
   "execution_count": 148
  },
  {
   "cell_type": "code",
   "outputs": [
    {
     "data": {
      "text/plain": "(11, 2, 3)"
     },
     "execution_count": 149,
     "metadata": {},
     "output_type": "execute_result"
    }
   ],
   "source": [
    "# Epoch당 데이터 뽑아내는 횟수 \n",
    "# 5개(batch size)씩 21번 / 3번 / 6번\n",
    "# if batch size = 10 -> 10번 / 2번 / 3번\n",
    "len(trainDL), len(validDL), len(testDL) "
   ],
   "metadata": {
    "collapsed": false,
    "ExecuteTime": {
     "end_time": "2024-03-15T06:21:34.761226900Z",
     "start_time": "2024-03-15T06:21:34.744282700Z"
    }
   },
   "id": "56eadb6d75b4721a",
   "execution_count": 149
  },
  {
   "cell_type": "code",
   "outputs": [
    {
     "name": "stdout",
     "output_type": "stream",
     "text": [
      "[0] feature: tensor([[4.6000, 3.6000, 1.0000, 0.2000],\n",
      "        [6.5000, 3.0000, 5.8000, 2.2000],\n",
      "        [5.5000, 2.4000, 3.7000, 1.0000],\n",
      "        [4.9000, 3.0000, 1.4000, 0.2000],\n",
      "        [6.3000, 2.9000, 5.6000, 1.8000],\n",
      "        [7.2000, 3.2000, 6.0000, 1.8000],\n",
      "        [6.0000, 3.4000, 4.5000, 1.6000],\n",
      "        [4.7000, 3.2000, 1.3000, 0.2000],\n",
      "        [5.7000, 2.9000, 4.2000, 1.3000],\n",
      "        [6.4000, 2.8000, 5.6000, 2.1000]]), target: tensor([0., 2., 1., 0., 2., 2., 1., 0., 1., 2.])\n",
      "[1] feature: tensor([[5.2000, 3.5000, 1.5000, 0.2000],\n",
      "        [7.7000, 2.6000, 6.9000, 2.3000],\n",
      "        [6.7000, 3.0000, 5.0000, 1.7000],\n",
      "        [6.5000, 3.2000, 5.1000, 2.0000],\n",
      "        [6.3000, 2.5000, 5.0000, 1.9000]]), target: tensor([0., 2., 1., 2., 2.])\n"
     ]
    }
   ],
   "source": [
    "# DataLoder 속성\n",
    "for _,(feature,target) in enumerate(validDL):\n",
    "    print(f'[{_}] feature: {feature}, target: {target}')\n",
    "    # 로더에서 가지고 온 데이터만큼 학습 진행"
   ],
   "metadata": {
    "collapsed": false,
    "ExecuteTime": {
     "end_time": "2024-03-15T06:21:34.807581600Z",
     "start_time": "2024-03-15T06:21:34.765212100Z"
    }
   },
   "id": "f047ef7256ee3e72",
   "execution_count": 150
  },
  {
   "cell_type": "markdown",
   "source": [
    "[4] Model 클래스 정의<hr>\n",
    "- 입/출력 피쳐 수, 층 수, 은닉층의 노드 수\n",
    "- 구조 설계\n",
    "    * 입력층 : 입력 = 피쳐 갯수 -> iris 4개\n",
    "    * 은닉층 : 마음대로 알아서 잘\n",
    "    * 출력층 : 출력 = [분류] 타겟 클래스 갯수 -> iris 3개 [회귀] 1개"
   ],
   "metadata": {
    "collapsed": false
   },
   "id": "a307f767f53843dc"
  },
  {
   "cell_type": "code",
   "outputs": [],
   "source": [
    "import torch.nn.functional as F"
   ],
   "metadata": {
    "collapsed": false,
    "ExecuteTime": {
     "end_time": "2024-03-15T06:21:34.811569900Z",
     "start_time": "2024-03-15T06:21:34.784655300Z"
    }
   },
   "id": "9b3ff757bedd089e",
   "execution_count": 151
  },
  {
   "cell_type": "code",
   "outputs": [],
   "source": [
    "import torch.nn as nn\n",
    "\n",
    "class Iris(nn.Module):\n",
    "    \n",
    "    # 모델 구조 설정\n",
    "    def __init__(self):\n",
    "        super().__init__()\n",
    "        self.layer1 = nn.Linear(4, 10)\n",
    "        self.layer2 = nn.ReLU()  # 입력 차원을 지정하지 않음\n",
    "        self.layer3 = nn.Linear(10, 3)  # 입력 차원을 지정\n",
    "        self.softmax = nn.Softmax(dim=1)  # 클래스 수에 해당하는 출력 차원 지정\n",
    "        \n",
    "    # 순방향 학습 진행 콜백 함수\n",
    "    def forward(self, x): # 입력데이터 : x\n",
    "        y = self.layer1(x)\n",
    "        y = self.layer2(y)\n",
    "        y = self.layer3(y)\n",
    "        y = self.softmax(y)\n",
    "        return y\n"
   ],
   "metadata": {
    "collapsed": false,
    "ExecuteTime": {
     "end_time": "2024-03-15T06:21:34.864402300Z",
     "start_time": "2024-03-15T06:21:34.817548400Z"
    }
   },
   "id": "c55af4a92a815f8e",
   "execution_count": 152
  },
  {
   "cell_type": "code",
   "outputs": [],
   "source": [
    "# 모델 클래스 정의\n",
    "# 클래스명 : CModel\n",
    "class CModel(nn.Module):\n",
    "    \n",
    "    # 모델 구조 설정\n",
    "    def __init__(self, in_dim, out_dim):\n",
    "        super().__init__()\n",
    "        self.input_layer = nn.Linear(in_dim, 100)\n",
    "        self.relu = nn.ReLU()  # 0보다 작거나 같으면 0 / 0보다 크면 1\n",
    "        self.hidden_layer = nn.Linear(100, 27) \n",
    "        self.output_layer = nn.Linear(27, out_dim) \n",
    "        \n",
    "    # 순방향 학습 진행 콜백 함수\n",
    "    def forward(self, x): # 입력데이터 : x\n",
    "        y = self.input_layer(x)   # W1*X1 + W2*X2 + ..Wm*Xm +b 100개 반환\n",
    "        \n",
    "        y = self.relu(y)          # relu() 결과 100개 반환  \n",
    "        \n",
    "        y = self.hidden_layer()   # W1*X1 + W2*X2 + ..Wm*Xm +b 27개 반환\n",
    "        \n",
    "        y = self.relu(y)          # relu() 결과 27개 반환\n",
    "        \n",
    "        y = self.output_layer()   # W1*X1 + W2*X2 + ..Wm*Xm +b 3개 반환\n",
    "        \n",
    "        return y\n"
   ],
   "metadata": {
    "collapsed": false,
    "ExecuteTime": {
     "end_time": "2024-03-15T06:21:34.865389400Z",
     "start_time": "2024-03-15T06:21:34.837481600Z"
    }
   },
   "id": "10603fed211b9f04",
   "execution_count": 153
  },
  {
   "cell_type": "markdown",
   "source": [
    "[5] 학습 준비 <hr>\n",
    "- 실행 디바이스, 모델, 최적화, 손실함수, 학습횟수, 학습함수, 평가함수, 예측함수"
   ],
   "metadata": {
    "collapsed": false
   },
   "id": "20abfb4778bb7b39"
  },
  {
   "cell_type": "code",
   "outputs": [],
   "source": [
    "# 실행 디바이스 설정\n",
    "DEVICE = 'cuda' if torch.cuda.is_available() else 'cpu'\n",
    "\n",
    "# 학습 횟수\n",
    "EPOCHS = 50"
   ],
   "metadata": {
    "collapsed": false,
    "ExecuteTime": {
     "end_time": "2024-03-15T06:21:34.893306100Z",
     "start_time": "2024-03-15T06:21:34.868378600Z"
    }
   },
   "id": "1dfbcd1cf07b3580",
   "execution_count": 154
  },
  {
   "cell_type": "code",
   "outputs": [],
   "source": [
    "# 모델 인스턴스\n",
    "IN_DIM = my_dataset2.feature.shape[1]\n",
    "OUT_DIM = len(torch.unique(my_dataset2.target))  # or len(np.unique(targetNP) or tragetDF.nunique()\n",
    "\n",
    "model = CModel(IN_DIM, OUT_DIM).to(DEVICE)"
   ],
   "metadata": {
    "collapsed": false,
    "ExecuteTime": {
     "end_time": "2024-03-15T06:21:34.918342100Z",
     "start_time": "2024-03-15T06:21:34.896415200Z"
    }
   },
   "id": "d7c51afc483ff8df",
   "execution_count": 155
  },
  {
   "cell_type": "code",
   "outputs": [],
   "source": [
    "# 손실함수\n",
    "LOSS_FUNCTION = nn.CrossEntropyLoss().to(DEVICE)\n",
    "\n",
    "# 최적화 인스턴스\n",
    "import torch.optim as optim\n",
    "OPTIMIZER = optim.Adam(model.parameters())"
   ],
   "metadata": {
    "collapsed": false,
    "ExecuteTime": {
     "end_time": "2024-03-15T06:21:34.923326Z",
     "start_time": "2024-03-15T06:21:34.917344900Z"
    }
   },
   "id": "a954366b0310a737",
   "execution_count": 156
  },
  {
   "cell_type": "markdown",
   "source": [
    "- 학습 및 검증관련 함수 정의"
   ],
   "metadata": {
    "collapsed": false
   },
   "id": "cf242f656086332d"
  },
  {
   "cell_type": "code",
   "outputs": [],
   "source": [
    "# 학습 진행함수\n",
    "def training():\n",
    "    # 학습모드 => 정규화, 경사하강법, 드랍아웃 등의 기능 활성화\n",
    "    model.train() \n",
    "    \n",
    "    # 배치크기만큼 학습진행\n",
    "    train_loss = []\n",
    "    for cnt, (feature, target) in enumerate(trainDL):\n",
    "        feature, target = feature.to(DEVICE), target.to(DEVICE)\n",
    "        \n",
    "        # 학습\n",
    "        pre_target = model(feature)\n",
    "        print(pre_target.type())\n",
    "        # 손실계산\n",
    "        loss = LOSS_FUNCTION(pre_target, target)\n",
    "        train_loss.append(loss)\n",
    "        print(loss.type())\n",
    "        \n",
    "        # W, b 업데이트 \n",
    "        OPTIMIZER.zero_grad()\n",
    "        loss.backward(loss)\n",
    "        OPTIMIZER.step()\n",
    "        \n",
    "        # 배치 사이즈 단위 학습 진행 메시지 출력\n",
    "        # print(f'[{cnt}] : [Train batch loss] ==> {loss}')\n",
    "        \n",
    "    # 에포크 단위 학습 진행 메시지 출력\n",
    "    print(f'[Train loss ==> {loss}]')\n",
    "    \n",
    "    return train_loss"
   ],
   "metadata": {
    "collapsed": false,
    "ExecuteTime": {
     "end_time": "2024-03-15T06:21:34.940269100Z",
     "start_time": "2024-03-15T06:21:34.926315700Z"
    }
   },
   "id": "d87cf35a0540d992",
   "execution_count": 157
  },
  {
   "cell_type": "code",
   "outputs": [
    {
     "ename": "TypeError",
     "evalue": "forward() missing 1 required positional argument: 'input'",
     "output_type": "error",
     "traceback": [
      "\u001B[1;31m---------------------------------------------------------------------------\u001B[0m",
      "\u001B[1;31mTypeError\u001B[0m                                 Traceback (most recent call last)",
      "Cell \u001B[1;32mIn[158], line 1\u001B[0m\n\u001B[1;32m----> 1\u001B[0m \u001B[43mtraining\u001B[49m\u001B[43m(\u001B[49m\u001B[43m)\u001B[49m\n",
      "Cell \u001B[1;32mIn[157], line 12\u001B[0m, in \u001B[0;36mtraining\u001B[1;34m()\u001B[0m\n\u001B[0;32m      9\u001B[0m feature, target \u001B[38;5;241m=\u001B[39m feature\u001B[38;5;241m.\u001B[39mto(DEVICE), target\u001B[38;5;241m.\u001B[39mto(DEVICE)\n\u001B[0;32m     11\u001B[0m \u001B[38;5;66;03m# 학습\u001B[39;00m\n\u001B[1;32m---> 12\u001B[0m pre_target \u001B[38;5;241m=\u001B[39m \u001B[43mmodel\u001B[49m\u001B[43m(\u001B[49m\u001B[43mfeature\u001B[49m\u001B[43m)\u001B[49m\n\u001B[0;32m     13\u001B[0m \u001B[38;5;28mprint\u001B[39m(pre_target\u001B[38;5;241m.\u001B[39mtype())\n\u001B[0;32m     14\u001B[0m \u001B[38;5;66;03m# 손실계산\u001B[39;00m\n",
      "File \u001B[1;32m~\\.conda\\envs\\Torch_PY38\\lib\\site-packages\\torch\\nn\\modules\\module.py:1511\u001B[0m, in \u001B[0;36mModule._wrapped_call_impl\u001B[1;34m(self, *args, **kwargs)\u001B[0m\n\u001B[0;32m   1509\u001B[0m     \u001B[38;5;28;01mreturn\u001B[39;00m \u001B[38;5;28mself\u001B[39m\u001B[38;5;241m.\u001B[39m_compiled_call_impl(\u001B[38;5;241m*\u001B[39margs, \u001B[38;5;241m*\u001B[39m\u001B[38;5;241m*\u001B[39mkwargs)  \u001B[38;5;66;03m# type: ignore[misc]\u001B[39;00m\n\u001B[0;32m   1510\u001B[0m \u001B[38;5;28;01melse\u001B[39;00m:\n\u001B[1;32m-> 1511\u001B[0m     \u001B[38;5;28;01mreturn\u001B[39;00m \u001B[38;5;28;43mself\u001B[39;49m\u001B[38;5;241;43m.\u001B[39;49m\u001B[43m_call_impl\u001B[49m\u001B[43m(\u001B[49m\u001B[38;5;241;43m*\u001B[39;49m\u001B[43margs\u001B[49m\u001B[43m,\u001B[49m\u001B[43m \u001B[49m\u001B[38;5;241;43m*\u001B[39;49m\u001B[38;5;241;43m*\u001B[39;49m\u001B[43mkwargs\u001B[49m\u001B[43m)\u001B[49m\n",
      "File \u001B[1;32m~\\.conda\\envs\\Torch_PY38\\lib\\site-packages\\torch\\nn\\modules\\module.py:1520\u001B[0m, in \u001B[0;36mModule._call_impl\u001B[1;34m(self, *args, **kwargs)\u001B[0m\n\u001B[0;32m   1515\u001B[0m \u001B[38;5;66;03m# If we don't have any hooks, we want to skip the rest of the logic in\u001B[39;00m\n\u001B[0;32m   1516\u001B[0m \u001B[38;5;66;03m# this function, and just call forward.\u001B[39;00m\n\u001B[0;32m   1517\u001B[0m \u001B[38;5;28;01mif\u001B[39;00m \u001B[38;5;129;01mnot\u001B[39;00m (\u001B[38;5;28mself\u001B[39m\u001B[38;5;241m.\u001B[39m_backward_hooks \u001B[38;5;129;01mor\u001B[39;00m \u001B[38;5;28mself\u001B[39m\u001B[38;5;241m.\u001B[39m_backward_pre_hooks \u001B[38;5;129;01mor\u001B[39;00m \u001B[38;5;28mself\u001B[39m\u001B[38;5;241m.\u001B[39m_forward_hooks \u001B[38;5;129;01mor\u001B[39;00m \u001B[38;5;28mself\u001B[39m\u001B[38;5;241m.\u001B[39m_forward_pre_hooks\n\u001B[0;32m   1518\u001B[0m         \u001B[38;5;129;01mor\u001B[39;00m _global_backward_pre_hooks \u001B[38;5;129;01mor\u001B[39;00m _global_backward_hooks\n\u001B[0;32m   1519\u001B[0m         \u001B[38;5;129;01mor\u001B[39;00m _global_forward_hooks \u001B[38;5;129;01mor\u001B[39;00m _global_forward_pre_hooks):\n\u001B[1;32m-> 1520\u001B[0m     \u001B[38;5;28;01mreturn\u001B[39;00m \u001B[43mforward_call\u001B[49m\u001B[43m(\u001B[49m\u001B[38;5;241;43m*\u001B[39;49m\u001B[43margs\u001B[49m\u001B[43m,\u001B[49m\u001B[43m \u001B[49m\u001B[38;5;241;43m*\u001B[39;49m\u001B[38;5;241;43m*\u001B[39;49m\u001B[43mkwargs\u001B[49m\u001B[43m)\u001B[49m\n\u001B[0;32m   1522\u001B[0m \u001B[38;5;28;01mtry\u001B[39;00m:\n\u001B[0;32m   1523\u001B[0m     result \u001B[38;5;241m=\u001B[39m \u001B[38;5;28;01mNone\u001B[39;00m\n",
      "Cell \u001B[1;32mIn[153], line 19\u001B[0m, in \u001B[0;36mCModel.forward\u001B[1;34m(self, x)\u001B[0m\n\u001B[0;32m     15\u001B[0m y \u001B[38;5;241m=\u001B[39m \u001B[38;5;28mself\u001B[39m\u001B[38;5;241m.\u001B[39minput_layer(x)   \u001B[38;5;66;03m# W1*X1 + W2*X2 + ..Wm*Xm +b 100개 반환\u001B[39;00m\n\u001B[0;32m     17\u001B[0m y \u001B[38;5;241m=\u001B[39m \u001B[38;5;28mself\u001B[39m\u001B[38;5;241m.\u001B[39mrelu(y)          \u001B[38;5;66;03m# relu() 결과 100개 반환  \u001B[39;00m\n\u001B[1;32m---> 19\u001B[0m y \u001B[38;5;241m=\u001B[39m \u001B[38;5;28;43mself\u001B[39;49m\u001B[38;5;241;43m.\u001B[39;49m\u001B[43mhidden_layer\u001B[49m\u001B[43m(\u001B[49m\u001B[43m)\u001B[49m   \u001B[38;5;66;03m# W1*X1 + W2*X2 + ..Wm*Xm +b 27개 반환\u001B[39;00m\n\u001B[0;32m     21\u001B[0m y \u001B[38;5;241m=\u001B[39m \u001B[38;5;28mself\u001B[39m\u001B[38;5;241m.\u001B[39mrelu(y)          \u001B[38;5;66;03m# relu() 결과 27개 반환\u001B[39;00m\n\u001B[0;32m     23\u001B[0m y \u001B[38;5;241m=\u001B[39m \u001B[38;5;28mself\u001B[39m\u001B[38;5;241m.\u001B[39moutput_layer()   \u001B[38;5;66;03m# W1*X1 + W2*X2 + ..Wm*Xm +b 3개 반환\u001B[39;00m\n",
      "File \u001B[1;32m~\\.conda\\envs\\Torch_PY38\\lib\\site-packages\\torch\\nn\\modules\\module.py:1511\u001B[0m, in \u001B[0;36mModule._wrapped_call_impl\u001B[1;34m(self, *args, **kwargs)\u001B[0m\n\u001B[0;32m   1509\u001B[0m     \u001B[38;5;28;01mreturn\u001B[39;00m \u001B[38;5;28mself\u001B[39m\u001B[38;5;241m.\u001B[39m_compiled_call_impl(\u001B[38;5;241m*\u001B[39margs, \u001B[38;5;241m*\u001B[39m\u001B[38;5;241m*\u001B[39mkwargs)  \u001B[38;5;66;03m# type: ignore[misc]\u001B[39;00m\n\u001B[0;32m   1510\u001B[0m \u001B[38;5;28;01melse\u001B[39;00m:\n\u001B[1;32m-> 1511\u001B[0m     \u001B[38;5;28;01mreturn\u001B[39;00m \u001B[38;5;28;43mself\u001B[39;49m\u001B[38;5;241;43m.\u001B[39;49m\u001B[43m_call_impl\u001B[49m\u001B[43m(\u001B[49m\u001B[38;5;241;43m*\u001B[39;49m\u001B[43margs\u001B[49m\u001B[43m,\u001B[49m\u001B[43m \u001B[49m\u001B[38;5;241;43m*\u001B[39;49m\u001B[38;5;241;43m*\u001B[39;49m\u001B[43mkwargs\u001B[49m\u001B[43m)\u001B[49m\n",
      "File \u001B[1;32m~\\.conda\\envs\\Torch_PY38\\lib\\site-packages\\torch\\nn\\modules\\module.py:1520\u001B[0m, in \u001B[0;36mModule._call_impl\u001B[1;34m(self, *args, **kwargs)\u001B[0m\n\u001B[0;32m   1515\u001B[0m \u001B[38;5;66;03m# If we don't have any hooks, we want to skip the rest of the logic in\u001B[39;00m\n\u001B[0;32m   1516\u001B[0m \u001B[38;5;66;03m# this function, and just call forward.\u001B[39;00m\n\u001B[0;32m   1517\u001B[0m \u001B[38;5;28;01mif\u001B[39;00m \u001B[38;5;129;01mnot\u001B[39;00m (\u001B[38;5;28mself\u001B[39m\u001B[38;5;241m.\u001B[39m_backward_hooks \u001B[38;5;129;01mor\u001B[39;00m \u001B[38;5;28mself\u001B[39m\u001B[38;5;241m.\u001B[39m_backward_pre_hooks \u001B[38;5;129;01mor\u001B[39;00m \u001B[38;5;28mself\u001B[39m\u001B[38;5;241m.\u001B[39m_forward_hooks \u001B[38;5;129;01mor\u001B[39;00m \u001B[38;5;28mself\u001B[39m\u001B[38;5;241m.\u001B[39m_forward_pre_hooks\n\u001B[0;32m   1518\u001B[0m         \u001B[38;5;129;01mor\u001B[39;00m _global_backward_pre_hooks \u001B[38;5;129;01mor\u001B[39;00m _global_backward_hooks\n\u001B[0;32m   1519\u001B[0m         \u001B[38;5;129;01mor\u001B[39;00m _global_forward_hooks \u001B[38;5;129;01mor\u001B[39;00m _global_forward_pre_hooks):\n\u001B[1;32m-> 1520\u001B[0m     \u001B[38;5;28;01mreturn\u001B[39;00m \u001B[43mforward_call\u001B[49m\u001B[43m(\u001B[49m\u001B[38;5;241;43m*\u001B[39;49m\u001B[43margs\u001B[49m\u001B[43m,\u001B[49m\u001B[43m \u001B[49m\u001B[38;5;241;43m*\u001B[39;49m\u001B[38;5;241;43m*\u001B[39;49m\u001B[43mkwargs\u001B[49m\u001B[43m)\u001B[49m\n\u001B[0;32m   1522\u001B[0m \u001B[38;5;28;01mtry\u001B[39;00m:\n\u001B[0;32m   1523\u001B[0m     result \u001B[38;5;241m=\u001B[39m \u001B[38;5;28;01mNone\u001B[39;00m\n",
      "\u001B[1;31mTypeError\u001B[0m: forward() missing 1 required positional argument: 'input'"
     ]
    }
   ],
   "source": [
    "training()"
   ],
   "metadata": {
    "collapsed": false,
    "ExecuteTime": {
     "end_time": "2024-03-15T06:21:35.047908300Z",
     "start_time": "2024-03-15T06:21:34.942262200Z"
    }
   },
   "id": "1b1f5c214ea86d16",
   "execution_count": 158
  },
  {
   "cell_type": "code",
   "outputs": [],
   "source": [
    "# 검증 및 평가 진행함수\n",
    "def testing():\n",
    "    pass"
   ],
   "metadata": {
    "collapsed": false,
    "ExecuteTime": {
     "start_time": "2024-03-15T06:21:35.042924500Z"
    }
   },
   "id": "d37d6df31a4f0d43",
   "execution_count": null
  },
  {
   "cell_type": "code",
   "outputs": [],
   "source": [
    "# 예측 함수\n",
    "def predict():\n",
    "    pass"
   ],
   "metadata": {
    "collapsed": false,
    "ExecuteTime": {
     "start_time": "2024-03-15T06:21:35.045932400Z"
    }
   },
   "id": "11e2eddb6c26c7d3",
   "execution_count": null
  },
  {
   "cell_type": "markdown",
   "source": [
    "[6] 학습 진행 <hr>"
   ],
   "metadata": {
    "collapsed": false
   },
   "id": "1e397eeaac29bfd4"
  },
  {
   "cell_type": "code",
   "outputs": [],
   "source": [
    "for eps in range(EPOCHS):\n",
    "    # 학습\n",
    "    training()\n",
    "    # 검증\n",
    "    testing()"
   ],
   "metadata": {
    "collapsed": false,
    "ExecuteTime": {
     "start_time": "2024-03-15T06:21:35.046924100Z"
    }
   },
   "id": "cb07a2d01cc67893",
   "execution_count": null
  }
 ],
 "metadata": {
  "kernelspec": {
   "display_name": "Python 3",
   "language": "python",
   "name": "python3"
  },
  "language_info": {
   "codemirror_mode": {
    "name": "ipython",
    "version": 2
   },
   "file_extension": ".py",
   "mimetype": "text/x-python",
   "name": "python",
   "nbconvert_exporter": "python",
   "pygments_lexer": "ipython2",
   "version": "2.7.6"
  }
 },
 "nbformat": 4,
 "nbformat_minor": 5
}
