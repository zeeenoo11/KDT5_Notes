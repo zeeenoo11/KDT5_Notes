{
 "cells": [
  {
   "cell_type": "markdown",
   "metadata": {},
   "source": [
    "과제 : 패션 데이터 가져오기"
   ]
  },
  {
   "cell_type": "code",
   "execution_count": 1,
   "metadata": {},
   "outputs": [],
   "source": [
    "from sklearn.datasets import fetch_openml\n"
   ]
  },
  {
   "cell_type": "code",
   "execution_count": 2,
   "metadata": {},
   "outputs": [
    {
     "name": "stderr",
     "output_type": "stream",
     "text": [
      "C:\\Users\\wjs31\\AppData\\Roaming\\Python\\Python38\\site-packages\\sklearn\\datasets\\_openml.py:1022: FutureWarning: The default value of `parser` will change from `'liac-arff'` to `'auto'` in 1.4. You can set `parser='auto'` to silence this warning. Therefore, an `ImportError` will be raised from 1.4 if the dataset is dense and pandas is not installed. Note that the pandas parser may return different data types. See the Notes Section in fetch_openml's API doc for details.\n",
      "  warn(\n"
     ]
    }
   ],
   "source": [
    "# 1. Load Data\n",
    "mnist = fetch_openml('mnist_784', as_frame=True)"
   ]
  },
  {
   "cell_type": "code",
   "execution_count": 4,
   "metadata": {},
   "outputs": [
    {
     "data": {
      "text/plain": [
       "(   pixel1  pixel2  pixel3  pixel4  pixel5  pixel6  pixel7  pixel8  pixel9  \\\n",
       " 0     0.0     0.0     0.0     0.0     0.0     0.0     0.0     0.0     0.0   \n",
       " 1     0.0     0.0     0.0     0.0     0.0     0.0     0.0     0.0     0.0   \n",
       " 2     0.0     0.0     0.0     0.0     0.0     0.0     0.0     0.0     0.0   \n",
       " 3     0.0     0.0     0.0     0.0     0.0     0.0     0.0     0.0     0.0   \n",
       " 4     0.0     0.0     0.0     0.0     0.0     0.0     0.0     0.0     0.0   \n",
       " \n",
       "    pixel10  ...  pixel775  pixel776  pixel777  pixel778  pixel779  pixel780  \\\n",
       " 0      0.0  ...       0.0       0.0       0.0       0.0       0.0       0.0   \n",
       " 1      0.0  ...       0.0       0.0       0.0       0.0       0.0       0.0   \n",
       " 2      0.0  ...       0.0       0.0       0.0       0.0       0.0       0.0   \n",
       " 3      0.0  ...       0.0       0.0       0.0       0.0       0.0       0.0   \n",
       " 4      0.0  ...       0.0       0.0       0.0       0.0       0.0       0.0   \n",
       " \n",
       "    pixel781  pixel782  pixel783  pixel784  \n",
       " 0       0.0       0.0       0.0       0.0  \n",
       " 1       0.0       0.0       0.0       0.0  \n",
       " 2       0.0       0.0       0.0       0.0  \n",
       " 3       0.0       0.0       0.0       0.0  \n",
       " 4       0.0       0.0       0.0       0.0  \n",
       " \n",
       " [5 rows x 784 columns],\n",
       " 0    5\n",
       " 1    0\n",
       " 2    4\n",
       " 3    1\n",
       " 4    9\n",
       " Name: class, dtype: category\n",
       " Categories (10, object): ['0', '1', '2', '3', ..., '6', '7', '8', '9'])"
      ]
     },
     "execution_count": 4,
     "metadata": {},
     "output_type": "execute_result"
    }
   ],
   "source": [
    "mnist.data.head(), mnist.target.head()"
   ]
  },
  {
   "cell_type": "code",
   "execution_count": 5,
   "metadata": {},
   "outputs": [
    {
     "name": "stdout",
     "output_type": "stream",
     "text": [
      "(70000,) (70000, 784)\n"
     ]
    }
   ],
   "source": [
    "# 2-1. Split\n",
    "target = mnist['target']\n",
    "feature = mnist.data\n",
    "print(target.shape, feature.shape)"
   ]
  },
  {
   "cell_type": "code",
   "execution_count": null,
   "metadata": {},
   "outputs": [],
   "source": []
  }
 ],
 "metadata": {
  "kernelspec": {
   "display_name": "Torch_PY38",
   "language": "python",
   "name": "python3"
  },
  "language_info": {
   "codemirror_mode": {
    "name": "ipython",
    "version": 3
   },
   "file_extension": ".py",
   "mimetype": "text/x-python",
   "name": "python",
   "nbconvert_exporter": "python",
   "pygments_lexer": "ipython3",
   "version": "3.8.18"
  }
 },
 "nbformat": 4,
 "nbformat_minor": 2
}
