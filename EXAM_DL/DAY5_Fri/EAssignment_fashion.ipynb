{
 "cells": [
  {
   "cell_type": "markdown",
   "metadata": {},
   "source": [
    "과제 : 패션 데이터 지도 학습 시키기\n"
   ]
  },
  {
   "cell_type": "code",
   "execution_count": 1,
   "metadata": {},
   "outputs": [],
   "source": [
    "from sklearn.datasets import fetch_openml\n",
    "import torch\n",
    "import torch.nn as nn\n",
    "from torch.utils.data import Dataset, DataLoader\n",
    "import numpy as np\n",
    "import pandas as pd"
   ]
  },
  {
   "cell_type": "markdown",
   "metadata": {},
   "source": [
    "1. 데이터 준비"
   ]
  },
  {
   "cell_type": "code",
   "execution_count": 2,
   "metadata": {},
   "outputs": [],
   "source": [
    "# 1. Load Data\n",
    "mnist = fetch_openml('mnist_784', as_frame=True, parser='auto')"
   ]
  },
  {
   "cell_type": "code",
   "execution_count": 3,
   "metadata": {},
   "outputs": [
    {
     "data": {
      "text/plain": [
       "(   pixel1  pixel2  pixel3  pixel4  pixel5  pixel6  pixel7  pixel8  pixel9  \\\n",
       " 0       0       0       0       0       0       0       0       0       0   \n",
       " 1       0       0       0       0       0       0       0       0       0   \n",
       " 2       0       0       0       0       0       0       0       0       0   \n",
       " 3       0       0       0       0       0       0       0       0       0   \n",
       " 4       0       0       0       0       0       0       0       0       0   \n",
       " \n",
       "    pixel10  ...  pixel775  pixel776  pixel777  pixel778  pixel779  pixel780  \\\n",
       " 0        0  ...         0         0         0         0         0         0   \n",
       " 1        0  ...         0         0         0         0         0         0   \n",
       " 2        0  ...         0         0         0         0         0         0   \n",
       " 3        0  ...         0         0         0         0         0         0   \n",
       " 4        0  ...         0         0         0         0         0         0   \n",
       " \n",
       "    pixel781  pixel782  pixel783  pixel784  \n",
       " 0         0         0         0         0  \n",
       " 1         0         0         0         0  \n",
       " 2         0         0         0         0  \n",
       " 3         0         0         0         0  \n",
       " 4         0         0         0         0  \n",
       " \n",
       " [5 rows x 784 columns],\n",
       " 0    5\n",
       " 1    0\n",
       " 2    4\n",
       " 3    1\n",
       " 4    9\n",
       " Name: class, dtype: category\n",
       " Categories (10, object): ['0', '1', '2', '3', ..., '6', '7', '8', '9'])"
      ]
     },
     "execution_count": 3,
     "metadata": {},
     "output_type": "execute_result"
    }
   ],
   "source": [
    "mnist.data.head(), mnist.target.head()"
   ]
  },
  {
   "cell_type": "code",
   "execution_count": 4,
   "metadata": {},
   "outputs": [
    {
     "name": "stdout",
     "output_type": "stream",
     "text": [
      "(70000, 1) (70000, 784)\n",
      "<class 'pandas.core.frame.DataFrame'> <class 'pandas.core.frame.DataFrame'>\n",
      "class    10\n",
      "dtype: int64\n"
     ]
    }
   ],
   "source": [
    "# 1-3. Split\n",
    "target = mnist.target.astype(int).to_frame()\n",
    "feature = mnist.data\n",
    "print(target.shape, feature.shape)\n",
    "print(type(target), type(feature))\n",
    "print(target.nunique())"
   ]
  },
  {
   "cell_type": "markdown",
   "metadata": {},
   "source": [
    "2. Create DataSet"
   ]
  },
  {
   "cell_type": "code",
   "execution_count": 5,
   "metadata": {},
   "outputs": [],
   "source": [
    "# 2-1. Define Dataset class\n",
    "class fashion_dataset(Dataset):\n",
    "    def __init__(self, x_data, y_data):  # 초기화 함수\n",
    "        super().__init__()\n",
    "        x_data = x_data.values if isinstance(x_data, pd.DataFrame) else x_data  \n",
    "        y_data = y_data.values if isinstance(y_data, pd.DataFrame) else y_data\n",
    "        \n",
    "        # ndarray ==> Tensor\n",
    "        self.feature = torch.FloatTensor(x_data)\n",
    "        self.target = torch.LongTensor(y_data)\n",
    "\n",
    "    def __len__(self):  # 갯수 확인 콜백 함수\n",
    "        return self.target.shape[0]\n",
    "\n",
    "    def __getitem__(self, index):   # 특정 인덱스 데이터+라벨 반환 콜백 함수\n",
    "        return self.feature[index], self.target[index]"
   ]
  },
  {
   "cell_type": "code",
   "execution_count": 6,
   "metadata": {},
   "outputs": [],
   "source": [
    "# 2-2. Set my_dataset\n",
    "my_dataset = fashion_dataset(feature, target)\n",
    "# my_dataset[0], feature.iloc[0], target.iloc[0]"
   ]
  },
  {
   "cell_type": "code",
   "execution_count": 7,
   "metadata": {},
   "outputs": [
    {
     "name": "stdout",
     "output_type": "stream",
     "text": [
      "[train, val, test] (49000, 7000, 14000)\n"
     ]
    }
   ],
   "source": [
    "# 2-3. Split train, validate, test\n",
    "from torch.utils.data import random_split\n",
    "\n",
    "seed = torch.Generator().manual_seed(11)\n",
    "\n",
    "train_ds, val_ds, test_ds = random_split(my_dataset, [0.7, 0.1, 0.2], generator=seed)\n",
    "print(f\"[train, val, test] {len(train_ds), len(val_ds), len(test_ds)}\")"
   ]
  },
  {
   "cell_type": "markdown",
   "metadata": {},
   "source": [
    "3. Create DataLoader"
   ]
  },
  {
   "cell_type": "code",
   "execution_count": 8,
   "metadata": {},
   "outputs": [
    {
     "data": {
      "text/plain": [
       "(1532, 219, 438)"
      ]
     },
     "execution_count": 8,
     "metadata": {},
     "output_type": "execute_result"
    }
   ],
   "source": [
    "# 3. Create dataLoader\n",
    "batch = 32\n",
    "train_dl = DataLoader(train_ds, batch_size=batch)\n",
    "val_dl = DataLoader(val_ds, batch_size=batch)\n",
    "test_dl = DataLoader(test_ds, batch_size=batch)\n",
    "len(train_dl), len(val_dl), len(test_dl)"
   ]
  },
  {
   "cell_type": "markdown",
   "metadata": {},
   "source": [
    "4. Define Model Class"
   ]
  },
  {
   "cell_type": "code",
   "execution_count": 9,
   "metadata": {},
   "outputs": [],
   "source": [
    "# 4. define class\n",
    "class ClassiModel(nn.Module):\n",
    "    def __init__(self, in_dim, out_dim):\n",
    "        in_to_hidden = 100\n",
    "        hidden_to_out = 50\n",
    "        super(ClassiModel, self).__init__()\n",
    "        self.input_layer = nn.Linear(in_dim, in_to_hidden)\n",
    "        self.relu = nn.ReLU()\n",
    "        self.hidden_layer = nn.Linear(in_to_hidden, hidden_to_out)\n",
    "        self.output_layer = nn.Linear(hidden_to_out, out_dim)\n",
    "\n",
    "    def forward(self, x):\n",
    "        y = self.input_layer(x)\n",
    "        y = self.relu(y)\n",
    "        y = self.hidden_layer(y)\n",
    "        y = self.relu(y)\n",
    "        y = self.output_layer(y)\n",
    "        return y"
   ]
  },
  {
   "cell_type": "markdown",
   "metadata": {},
   "source": [
    "5. Prepare Training"
   ]
  },
  {
   "cell_type": "code",
   "execution_count": 10,
   "metadata": {},
   "outputs": [],
   "source": [
    "# 1) Set device\n",
    "DEVICE = \"cuda\" if torch.cuda.is_available() else \"cpu\"\n",
    "# 2) Train count\n",
    "Epoch = 50\n",
    "# 3) Model instance\n",
    "IN, OUT = my_dataset.feature.shape[1], len(torch.unique(my_dataset.target))\n",
    "# print(IN, OUT)\n",
    "model = ClassiModel(IN, OUT).to(DEVICE)\n",
    "\n",
    "# 4) loss func.\n",
    "LOSS_FUNC = nn.CrossEntropyLoss().to(DEVICE)\n",
    "\n",
    "# 5) Optimize instance\n",
    "import torch.optim as optim\n",
    "\n",
    "OPTIMIZER = optim.Adam(model.parameters(), lr=0.01)\n",
    "\n",
    "# 6) Scheduler\n",
    "from torch.optim.lr_scheduler import ReduceLROnPlateau\n",
    "\n",
    "SCHEDULER = ReduceLROnPlateau(OPTIMIZER, mode=\"min\", patience=10)"
   ]
  },
  {
   "cell_type": "markdown",
   "metadata": {},
   "source": [
    "6. Define Train / Validate functions"
   ]
  },
  {
   "cell_type": "code",
   "execution_count": 11,
   "metadata": {},
   "outputs": [],
   "source": [
    "import torchmetrics.functional as metrics"
   ]
  },
  {
   "cell_type": "code",
   "execution_count": 12,
   "metadata": {},
   "outputs": [
    {
     "data": {
      "text/plain": [
       "((70000, 1), (70000,))"
      ]
     },
     "execution_count": 12,
     "metadata": {},
     "output_type": "execute_result"
    }
   ],
   "source": [
    "target.shape, target.squeeze().shape"
   ]
  },
  {
   "cell_type": "markdown",
   "metadata": {},
   "source": [
    "6-1. Train Function"
   ]
  },
  {
   "cell_type": "code",
   "execution_count": 13,
   "metadata": {},
   "outputs": [
    {
     "name": "stdout",
     "output_type": "stream",
     "text": [
      "[ Total Run : 1532 ]\n",
      "Mean train loss : 0.7915234565734863, final acc : 0.8317966461181641\n"
     ]
    },
    {
     "data": {
      "text/plain": [
       "tensor(0.7915, grad_fn=<DivBackward0>)"
      ]
     },
     "execution_count": 13,
     "metadata": {},
     "output_type": "execute_result"
    }
   ],
   "source": [
    "def training(PRINT=False):\n",
    "    model.train()\n",
    "    train_loss, train_acc = [], []\n",
    "    for cnt, (data, target) in enumerate(train_dl):\n",
    "        data, target = data.to(DEVICE), target.to(DEVICE)   # Set to DEVICE\n",
    "        target = target.squeeze()   # (70000,1) -> (70000,)\n",
    "        \n",
    "        pre_target = model(data)    # Prediction from feature\n",
    "        \n",
    "        loss = LOSS_FUNC(pre_target, target)    # Calculate loss function\n",
    "        train_loss.append(loss)\n",
    "        \n",
    "        OPTIMIZER.zero_grad()   # Reset W, b\n",
    "        loss.backward()         # Proceed backward to loss values\n",
    "        OPTIMIZER.step()        # Update W, b\n",
    "        \n",
    "        acc = metrics.accuracy(pre_target, target, task=\"multiclass\", num_classes=OUT)\n",
    "        # print(acc)\n",
    "        train_acc.append(acc)\n",
    "    \n",
    "    mean_train_loss = sum(train_loss)/len(train_loss)\n",
    "    \n",
    "    if PRINT:\n",
    "        print(f'[ Total Run : {cnt+1} ]')\n",
    "        print(f'Mean train loss : {mean_train_loss}, final acc : {sum(train_acc)/len(train_acc)}')\n",
    "\n",
    "    return mean_train_loss\n",
    "\n",
    "training(PRINT=True)  # for testing"
   ]
  },
  {
   "cell_type": "markdown",
   "metadata": {},
   "source": [
    "6-2. Validate Function"
   ]
  },
  {
   "cell_type": "code",
   "execution_count": null,
   "metadata": {},
   "outputs": [],
   "source": []
  },
  {
   "cell_type": "code",
   "execution_count": null,
   "metadata": {},
   "outputs": [],
   "source": []
  },
  {
   "cell_type": "code",
   "execution_count": null,
   "metadata": {},
   "outputs": [],
   "source": []
  },
  {
   "cell_type": "code",
   "execution_count": null,
   "metadata": {},
   "outputs": [],
   "source": []
  },
  {
   "cell_type": "code",
   "execution_count": null,
   "metadata": {},
   "outputs": [],
   "source": []
  },
  {
   "cell_type": "code",
   "execution_count": 14,
   "metadata": {},
   "outputs": [
    {
     "data": {
      "text/plain": [
       "<matplotlib.image.AxesImage at 0x1ef48e61c40>"
      ]
     },
     "execution_count": 14,
     "metadata": {},
     "output_type": "execute_result"
    },
    {
     "data": {
      "image/png": "[encoded data removed]",
      "text/plain": [
       "<Figure size 640x480 with 1 Axes>"
      ]
     },
     "metadata": {},
     "output_type": "display_data"
    }
   ],
   "source": [
    "import matplotlib.pyplot as plt\n",
    "\n",
    "# feature[0] 이미지화\n",
    "plt.imshow(feature.iloc[0].values.reshape(28,28), cmap='Blues')\n"
   ]
  },
  {
   "cell_type": "code",
   "execution_count": 15,
   "metadata": {},
   "outputs": [],
   "source": [
    "# "
   ]
  }
 ],
 "metadata": {
  "kernelspec": {
   "display_name": "Torch_PY38",
   "language": "python",
   "name": "python3"
  },
  "language_info": {
   "codemirror_mode": {
    "name": "ipython",
    "version": 3
   },
   "file_extension": ".py",
   "mimetype": "text/x-python",
   "name": "python",
   "nbconvert_exporter": "python",
   "pygments_lexer": "ipython3",
   "version": "3.8.18"
  }
 },
 "nbformat": 4,
 "nbformat_minor": 2
}
