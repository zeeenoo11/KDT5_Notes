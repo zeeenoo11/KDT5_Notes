{
 "cells": [
  {
   "cell_type": "markdown",
   "source": [
    "### [ 6장 독립동일분포 ]  \n",
    "교재 9장\n",
    "1) 독립성\n",
    "2) 합의 분포\n",
    "3) 표본 평균의 분포"
   ],
   "metadata": {
    "collapsed": false
   },
   "id": "83475a0694bebd5e"
  },
  {
   "cell_type": "code",
   "execution_count": 3,
   "id": "initial_id",
   "metadata": {
    "collapsed": true,
    "ExecuteTime": {
     "end_time": "2024-02-21T04:45:08.262032300Z",
     "start_time": "2024-02-21T04:45:08.249227800Z"
    }
   },
   "outputs": [],
   "source": [
    "# 0. 준비\n",
    "import  numpy as np\n",
    "import  matplotlib.pyplot as plt\n",
    "from scipy import stats\n",
    "\n",
    "np.random.seed(0)\n",
    "%precision %.3f\n",
    "%matplotlib inline\n",
    "\n",
    "linestyles = ['-','--','-.',':']\n",
    "\n",
    "def E(XY, g):\n",
    "    x_set, y_set, f_XY = XY\n",
    "    return np.sum([g(x_i, y_j) * f_XY(x_i, y_j) for x_i in x_set for y_j in y_set])\n",
    "\n",
    "def Cov(XY):\n",
    "    "
   ]
  },
  {
   "cell_type": "code",
   "outputs": [],
   "source": [
    "# 독립성의 정의\n",
    "# "
   ],
   "metadata": {
    "collapsed": false
   },
   "id": "2a090da5d9af3811"
  }
 ],
 "metadata": {
  "kernelspec": {
   "display_name": "Python 3",
   "language": "python",
   "name": "python3"
  },
  "language_info": {
   "codemirror_mode": {
    "name": "ipython",
    "version": 2
   },
   "file_extension": ".py",
   "mimetype": "text/x-python",
   "name": "python",
   "nbconvert_exporter": "python",
   "pygments_lexer": "ipython2",
   "version": "2.7.6"
  }
 },
 "nbformat": 4,
 "nbformat_minor": 5
}
