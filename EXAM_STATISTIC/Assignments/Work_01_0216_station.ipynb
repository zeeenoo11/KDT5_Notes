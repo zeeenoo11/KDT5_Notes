{
 "cells": [
  {
   "cell_type": "code",
   "execution_count": 3,
   "id": "initial_id",
   "metadata": {
    "collapsed": true,
    "ExecuteTime": {
     "end_time": "2024-02-17T12:30:51.620582100Z",
     "start_time": "2024-02-17T12:30:51.603200300Z"
    }
   },
   "outputs": [],
   "source": [
    "import pandas as pd\n",
    "import matplotlib.pyplot as plt\n",
    "import koreanize_matplotlib\n",
    "import numpy as np\n",
    "\n",
    "# [ 과제1 ] 서울시 지하철 역별 이용객수\n",
    "# 1. 역별 평균 이용객 수\n",
    "# 2. 역별 이용객 수의 표준편차\n",
    "# 3. 가장 많은 이용객이 있는 역의 이용객 수\n",
    "# 4. 가장 적은 이용객이 있는 역의 이용객 수\n",
    "# 5. 가장 많은 이용객이 있는 역의 이름\n",
    "# 6. 가장 적은 이용객이 있는 역의 이름\n",
    "# 7. 이용객 수의 분포를 히스토그램으로 시각화\n",
    "# -------------------------------------------"
   ]
  },
  {
   "cell_type": "code",
   "outputs": [
    {
     "data": {
      "text/plain": "            연번        수송일자   호선   역번호   역명 승하차구분  06시이전  06-07시간대  07-08시간대  \\\n0            1  2023-01-01  1호선   150  서울역    승차    215       145       231   \n1            2  2023-01-01  1호선   150  서울역    하차    154       636       595   \n2            3  2023-01-01  1호선   151   시청    승차     48        73       106   \n3            4  2023-01-01  1호선   151   시청    하차     64       247       293   \n4            5  2023-01-01  1호선   152   종각    승차    407       235       158   \n...        ...         ...  ...   ...  ...   ...    ...       ...       ...   \n148790  148791  2023-09-30  8호선  2826   수진    하차      8         0         8   \n148791  148792  2023-09-30  8호선  2827   모란    승차     39         0        39   \n148792  148793  2023-09-30  8호선  2827   모란    하차      9         0         9   \n148793  148794  2023-09-30  8호선  2828  남위례    승차     20         0        20   \n148794  148795  2023-09-30  8호선  2828  남위례    하차     16         0        16   \n\n        08-09시간대  09-10시간대  10-11시간대  11-12시간대  12-13시간대  13-14시간대  14-15시간대  \\\n0            594       923      1383      2024      2540      2394      1787   \n1            939      1306      1324      1471      2036      1994      2246   \n2            194       239       295       493       622       557       717   \n3            463       522       569       598       797       804       728   \n4            201       188       284       470       708       738      1021   \n...          ...       ...       ...       ...       ...       ...       ...   \n148790        40        30        38        66        93        93       110   \n148791        34        54        87       122       132       170       208   \n148792        45        46        72        58       104       133       128   \n148793        54        54        98       153       167       245       224   \n148794        53        38        85       118        91       115       162   \n\n        15-16시간대  16-17시간대  17-18시간대  18-19시간대  19-20시간대  20-21시간대  21-22시간대  \\\n0           2655      2509      2696      2549      2462      2177      2190   \n1           2282      2295      2526      1930      1897      1487       991   \n2            843       895       959       985       670       630       515   \n3            602       575       533       456       285       267       246   \n4           1145      1402      1223      1272       911       913       906   \n...          ...       ...       ...       ...       ...       ...       ...   \n148790       195       165       136       171       190       178       132   \n148791       200       189       205       233       219       169       103   \n148792       132       156       164       165       216       215       176   \n148793       184       211       201       214       182       189       112   \n148794       157       152       198       228       228       230       221   \n\n        22-23시간대  23-24시간대  24시이후  \n0           1808       734      7  \n1            609       280     46  \n2            330       146      0  \n3            154        79     18  \n4            602       232      3  \n...          ...       ...    ...  \n148790       153       162    133  \n148791       137       117    105  \n148792       121       113    113  \n148793       131       134    105  \n148794       188       173    171  \n\n[148795 rows x 26 columns]",
      "text/html": "<div>\n<style scoped>\n    .dataframe tbody tr th:only-of-type {\n        vertical-align: middle;\n    }\n\n    .dataframe tbody tr th {\n        vertical-align: top;\n    }\n\n    .dataframe thead th {\n        text-align: right;\n    }\n</style>\n<table border=\"1\" class=\"dataframe\">\n  <thead>\n    <tr style=\"text-align: right;\">\n      <th></th>\n      <th>연번</th>\n      <th>수송일자</th>\n      <th>호선</th>\n      <th>역번호</th>\n      <th>역명</th>\n      <th>승하차구분</th>\n      <th>06시이전</th>\n      <th>06-07시간대</th>\n      <th>07-08시간대</th>\n      <th>08-09시간대</th>\n      <th>09-10시간대</th>\n      <th>10-11시간대</th>\n      <th>11-12시간대</th>\n      <th>12-13시간대</th>\n      <th>13-14시간대</th>\n      <th>14-15시간대</th>\n      <th>15-16시간대</th>\n      <th>16-17시간대</th>\n      <th>17-18시간대</th>\n      <th>18-19시간대</th>\n      <th>19-20시간대</th>\n      <th>20-21시간대</th>\n      <th>21-22시간대</th>\n      <th>22-23시간대</th>\n      <th>23-24시간대</th>\n      <th>24시이후</th>\n    </tr>\n  </thead>\n  <tbody>\n    <tr>\n      <th>0</th>\n      <td>1</td>\n      <td>2023-01-01</td>\n      <td>1호선</td>\n      <td>150</td>\n      <td>서울역</td>\n      <td>승차</td>\n      <td>215</td>\n      <td>145</td>\n      <td>231</td>\n      <td>594</td>\n      <td>923</td>\n      <td>1383</td>\n      <td>2024</td>\n      <td>2540</td>\n      <td>2394</td>\n      <td>1787</td>\n      <td>2655</td>\n      <td>2509</td>\n      <td>2696</td>\n      <td>2549</td>\n      <td>2462</td>\n      <td>2177</td>\n      <td>2190</td>\n      <td>1808</td>\n      <td>734</td>\n      <td>7</td>\n    </tr>\n    <tr>\n      <th>1</th>\n      <td>2</td>\n      <td>2023-01-01</td>\n      <td>1호선</td>\n      <td>150</td>\n      <td>서울역</td>\n      <td>하차</td>\n      <td>154</td>\n      <td>636</td>\n      <td>595</td>\n      <td>939</td>\n      <td>1306</td>\n      <td>1324</td>\n      <td>1471</td>\n      <td>2036</td>\n      <td>1994</td>\n      <td>2246</td>\n      <td>2282</td>\n      <td>2295</td>\n      <td>2526</td>\n      <td>1930</td>\n      <td>1897</td>\n      <td>1487</td>\n      <td>991</td>\n      <td>609</td>\n      <td>280</td>\n      <td>46</td>\n    </tr>\n    <tr>\n      <th>2</th>\n      <td>3</td>\n      <td>2023-01-01</td>\n      <td>1호선</td>\n      <td>151</td>\n      <td>시청</td>\n      <td>승차</td>\n      <td>48</td>\n      <td>73</td>\n      <td>106</td>\n      <td>194</td>\n      <td>239</td>\n      <td>295</td>\n      <td>493</td>\n      <td>622</td>\n      <td>557</td>\n      <td>717</td>\n      <td>843</td>\n      <td>895</td>\n      <td>959</td>\n      <td>985</td>\n      <td>670</td>\n      <td>630</td>\n      <td>515</td>\n      <td>330</td>\n      <td>146</td>\n      <td>0</td>\n    </tr>\n    <tr>\n      <th>3</th>\n      <td>4</td>\n      <td>2023-01-01</td>\n      <td>1호선</td>\n      <td>151</td>\n      <td>시청</td>\n      <td>하차</td>\n      <td>64</td>\n      <td>247</td>\n      <td>293</td>\n      <td>463</td>\n      <td>522</td>\n      <td>569</td>\n      <td>598</td>\n      <td>797</td>\n      <td>804</td>\n      <td>728</td>\n      <td>602</td>\n      <td>575</td>\n      <td>533</td>\n      <td>456</td>\n      <td>285</td>\n      <td>267</td>\n      <td>246</td>\n      <td>154</td>\n      <td>79</td>\n      <td>18</td>\n    </tr>\n    <tr>\n      <th>4</th>\n      <td>5</td>\n      <td>2023-01-01</td>\n      <td>1호선</td>\n      <td>152</td>\n      <td>종각</td>\n      <td>승차</td>\n      <td>407</td>\n      <td>235</td>\n      <td>158</td>\n      <td>201</td>\n      <td>188</td>\n      <td>284</td>\n      <td>470</td>\n      <td>708</td>\n      <td>738</td>\n      <td>1021</td>\n      <td>1145</td>\n      <td>1402</td>\n      <td>1223</td>\n      <td>1272</td>\n      <td>911</td>\n      <td>913</td>\n      <td>906</td>\n      <td>602</td>\n      <td>232</td>\n      <td>3</td>\n    </tr>\n    <tr>\n      <th>...</th>\n      <td>...</td>\n      <td>...</td>\n      <td>...</td>\n      <td>...</td>\n      <td>...</td>\n      <td>...</td>\n      <td>...</td>\n      <td>...</td>\n      <td>...</td>\n      <td>...</td>\n      <td>...</td>\n      <td>...</td>\n      <td>...</td>\n      <td>...</td>\n      <td>...</td>\n      <td>...</td>\n      <td>...</td>\n      <td>...</td>\n      <td>...</td>\n      <td>...</td>\n      <td>...</td>\n      <td>...</td>\n      <td>...</td>\n      <td>...</td>\n      <td>...</td>\n      <td>...</td>\n    </tr>\n    <tr>\n      <th>148790</th>\n      <td>148791</td>\n      <td>2023-09-30</td>\n      <td>8호선</td>\n      <td>2826</td>\n      <td>수진</td>\n      <td>하차</td>\n      <td>8</td>\n      <td>0</td>\n      <td>8</td>\n      <td>40</td>\n      <td>30</td>\n      <td>38</td>\n      <td>66</td>\n      <td>93</td>\n      <td>93</td>\n      <td>110</td>\n      <td>195</td>\n      <td>165</td>\n      <td>136</td>\n      <td>171</td>\n      <td>190</td>\n      <td>178</td>\n      <td>132</td>\n      <td>153</td>\n      <td>162</td>\n      <td>133</td>\n    </tr>\n    <tr>\n      <th>148791</th>\n      <td>148792</td>\n      <td>2023-09-30</td>\n      <td>8호선</td>\n      <td>2827</td>\n      <td>모란</td>\n      <td>승차</td>\n      <td>39</td>\n      <td>0</td>\n      <td>39</td>\n      <td>34</td>\n      <td>54</td>\n      <td>87</td>\n      <td>122</td>\n      <td>132</td>\n      <td>170</td>\n      <td>208</td>\n      <td>200</td>\n      <td>189</td>\n      <td>205</td>\n      <td>233</td>\n      <td>219</td>\n      <td>169</td>\n      <td>103</td>\n      <td>137</td>\n      <td>117</td>\n      <td>105</td>\n    </tr>\n    <tr>\n      <th>148792</th>\n      <td>148793</td>\n      <td>2023-09-30</td>\n      <td>8호선</td>\n      <td>2827</td>\n      <td>모란</td>\n      <td>하차</td>\n      <td>9</td>\n      <td>0</td>\n      <td>9</td>\n      <td>45</td>\n      <td>46</td>\n      <td>72</td>\n      <td>58</td>\n      <td>104</td>\n      <td>133</td>\n      <td>128</td>\n      <td>132</td>\n      <td>156</td>\n      <td>164</td>\n      <td>165</td>\n      <td>216</td>\n      <td>215</td>\n      <td>176</td>\n      <td>121</td>\n      <td>113</td>\n      <td>113</td>\n    </tr>\n    <tr>\n      <th>148793</th>\n      <td>148794</td>\n      <td>2023-09-30</td>\n      <td>8호선</td>\n      <td>2828</td>\n      <td>남위례</td>\n      <td>승차</td>\n      <td>20</td>\n      <td>0</td>\n      <td>20</td>\n      <td>54</td>\n      <td>54</td>\n      <td>98</td>\n      <td>153</td>\n      <td>167</td>\n      <td>245</td>\n      <td>224</td>\n      <td>184</td>\n      <td>211</td>\n      <td>201</td>\n      <td>214</td>\n      <td>182</td>\n      <td>189</td>\n      <td>112</td>\n      <td>131</td>\n      <td>134</td>\n      <td>105</td>\n    </tr>\n    <tr>\n      <th>148794</th>\n      <td>148795</td>\n      <td>2023-09-30</td>\n      <td>8호선</td>\n      <td>2828</td>\n      <td>남위례</td>\n      <td>하차</td>\n      <td>16</td>\n      <td>0</td>\n      <td>16</td>\n      <td>53</td>\n      <td>38</td>\n      <td>85</td>\n      <td>118</td>\n      <td>91</td>\n      <td>115</td>\n      <td>162</td>\n      <td>157</td>\n      <td>152</td>\n      <td>198</td>\n      <td>228</td>\n      <td>228</td>\n      <td>230</td>\n      <td>221</td>\n      <td>188</td>\n      <td>173</td>\n      <td>171</td>\n    </tr>\n  </tbody>\n</table>\n<p>148795 rows × 26 columns</p>\n</div>"
     },
     "execution_count": 4,
     "metadata": {},
     "output_type": "execute_result"
    }
   ],
   "source": [
    "# 0. 파일 준비\n",
    "pd.set_option('display.max_columns', None)  # 인덱스 전체 출력\n",
    "pd.set_option('display.precision', 0)  # 인덱스 전체 출력\n",
    "file = pd.read_csv('DATA/서울교통공사_역별 일별 시간대별 승하차인원 정보.csv', encoding='utf-8')\n",
    "file"
   ],
   "metadata": {
    "collapsed": false,
    "ExecuteTime": {
     "end_time": "2024-02-17T12:30:51.986818Z",
     "start_time": "2024-02-17T12:30:51.610206800Z"
    }
   },
   "id": "26c160b393a44d92",
   "execution_count": 4
  },
  {
   "cell_type": "code",
   "outputs": [
    {
     "data": {
      "text/plain": "                     역명     합계\n수송일자                          \n2023-01-01         가락시장  11728\n2023-01-01      가산디지털단지  17304\n2023-01-01           강남  49515\n2023-01-01         강남구청   6674\n2023-01-01           강동  14672\n...                 ...    ...\n2023-09-30           홍제  17211\n2023-09-30           화곡  23059\n2023-09-30  화랑대(서울여대입구)   8040\n2023-09-30    회현(남대문시장)  16857\n2023-09-30        효창공원앞   4758\n\n[65269 rows x 2 columns]",
      "text/html": "<div>\n<style scoped>\n    .dataframe tbody tr th:only-of-type {\n        vertical-align: middle;\n    }\n\n    .dataframe tbody tr th {\n        vertical-align: top;\n    }\n\n    .dataframe thead th {\n        text-align: right;\n    }\n</style>\n<table border=\"1\" class=\"dataframe\">\n  <thead>\n    <tr style=\"text-align: right;\">\n      <th></th>\n      <th>역명</th>\n      <th>합계</th>\n    </tr>\n    <tr>\n      <th>수송일자</th>\n      <th></th>\n      <th></th>\n    </tr>\n  </thead>\n  <tbody>\n    <tr>\n      <th>2023-01-01</th>\n      <td>가락시장</td>\n      <td>11728</td>\n    </tr>\n    <tr>\n      <th>2023-01-01</th>\n      <td>가산디지털단지</td>\n      <td>17304</td>\n    </tr>\n    <tr>\n      <th>2023-01-01</th>\n      <td>강남</td>\n      <td>49515</td>\n    </tr>\n    <tr>\n      <th>2023-01-01</th>\n      <td>강남구청</td>\n      <td>6674</td>\n    </tr>\n    <tr>\n      <th>2023-01-01</th>\n      <td>강동</td>\n      <td>14672</td>\n    </tr>\n    <tr>\n      <th>...</th>\n      <td>...</td>\n      <td>...</td>\n    </tr>\n    <tr>\n      <th>2023-09-30</th>\n      <td>홍제</td>\n      <td>17211</td>\n    </tr>\n    <tr>\n      <th>2023-09-30</th>\n      <td>화곡</td>\n      <td>23059</td>\n    </tr>\n    <tr>\n      <th>2023-09-30</th>\n      <td>화랑대(서울여대입구)</td>\n      <td>8040</td>\n    </tr>\n    <tr>\n      <th>2023-09-30</th>\n      <td>회현(남대문시장)</td>\n      <td>16857</td>\n    </tr>\n    <tr>\n      <th>2023-09-30</th>\n      <td>효창공원앞</td>\n      <td>4758</td>\n    </tr>\n  </tbody>\n</table>\n<p>65269 rows × 2 columns</p>\n</div>"
     },
     "execution_count": 5,
     "metadata": {},
     "output_type": "execute_result"
    }
   ],
   "source": [
    "# 0-1. 자료 확인\n",
    "# print(file.dtypes)  # int 자료형 확인\n",
    "# print(file.sort_values(['수송일자','역명']))  # 일자별 호선별 2행씩 존재\n",
    "\n",
    "# 0-2. 전처리: 합계 구하기\n",
    "file['합계'] = file.iloc[:, 6:].sum(axis=1)    # 합산 후 새 컬럼에 추가\n",
    "file_refine_1 = file.loc[:, ['수송일자', '역명', '합계']]\n",
    "file_refine_final = file_refine_1.groupby(['수송일자', '역명'], as_index=False).sum()\n",
    "file_refine_final.set_index('수송일자')"
   ],
   "metadata": {
    "collapsed": false,
    "ExecuteTime": {
     "end_time": "2024-02-17T12:30:52.104358400Z",
     "start_time": "2024-02-17T12:30:51.998924700Z"
    }
   },
   "id": "c400e0393583952c",
   "execution_count": 5
  },
  {
   "cell_type": "code",
   "outputs": [
    {
     "data": {
      "text/plain": "              역명 평균 이용객 수\n0           가락시장    32027\n1        가산디지털단지    75201\n2             강남    14699\n3           강남구청    31428\n4             강동    33685\n..           ...      ...\n240           홍제    33453\n241           화곡    52311\n242  화랑대(서울여대입구)    19915\n243    회현(남대문시장)    49852\n244        효창공원앞    13263\n\n[245 rows x 2 columns]",
      "text/html": "<div>\n<style scoped>\n    .dataframe tbody tr th:only-of-type {\n        vertical-align: middle;\n    }\n\n    .dataframe tbody tr th {\n        vertical-align: top;\n    }\n\n    .dataframe thead th {\n        text-align: right;\n    }\n</style>\n<table border=\"1\" class=\"dataframe\">\n  <thead>\n    <tr style=\"text-align: right;\">\n      <th></th>\n      <th>역명</th>\n      <th>평균 이용객 수</th>\n    </tr>\n  </thead>\n  <tbody>\n    <tr>\n      <th>0</th>\n      <td>가락시장</td>\n      <td>32027</td>\n    </tr>\n    <tr>\n      <th>1</th>\n      <td>가산디지털단지</td>\n      <td>75201</td>\n    </tr>\n    <tr>\n      <th>2</th>\n      <td>강남</td>\n      <td>14699</td>\n    </tr>\n    <tr>\n      <th>3</th>\n      <td>강남구청</td>\n      <td>31428</td>\n    </tr>\n    <tr>\n      <th>4</th>\n      <td>강동</td>\n      <td>33685</td>\n    </tr>\n    <tr>\n      <th>...</th>\n      <td>...</td>\n      <td>...</td>\n    </tr>\n    <tr>\n      <th>240</th>\n      <td>홍제</td>\n      <td>33453</td>\n    </tr>\n    <tr>\n      <th>241</th>\n      <td>화곡</td>\n      <td>52311</td>\n    </tr>\n    <tr>\n      <th>242</th>\n      <td>화랑대(서울여대입구)</td>\n      <td>19915</td>\n    </tr>\n    <tr>\n      <th>243</th>\n      <td>회현(남대문시장)</td>\n      <td>49852</td>\n    </tr>\n    <tr>\n      <th>244</th>\n      <td>효창공원앞</td>\n      <td>13263</td>\n    </tr>\n  </tbody>\n</table>\n<p>245 rows × 2 columns</p>\n</div>"
     },
     "execution_count": 6,
     "metadata": {},
     "output_type": "execute_result"
    }
   ],
   "source": [
    "# 1. 평균 이용객 수 : 하루 이용객 기준으로 전체 기간의 평균 산정\n",
    "#   - 기간 : 2023/01/01 ~ 2023/09/30\n",
    "station_mean = file_refine_final.groupby('역명')['합계'].mean().reset_index()\n",
    "# station_mean.dtypes\n",
    "pd.DataFrame(station_mean.values, columns = ['역명', '평균 이용객 수'])"
   ],
   "metadata": {
    "collapsed": false,
    "ExecuteTime": {
     "end_time": "2024-02-17T12:30:52.128352500Z",
     "start_time": "2024-02-17T12:30:52.080374200Z"
    }
   },
   "id": "8a17bb9d2ec88b0a",
   "execution_count": 6
  },
  {
   "cell_type": "code",
   "outputs": [
    {
     "data": {
      "text/plain": "           수송일자 평균 이용객 수\n0    2023-01-01    15907\n1    2023-01-02    35352\n2    2023-01-03    37178\n3    2023-01-04    37917\n4    2023-01-05     3836\n..          ...      ...\n268  2023-09-26    41401\n269  2023-09-27    40178\n270  2023-09-28    16687\n271  2023-09-29    13613\n272  2023-09-30    16889\n\n[273 rows x 2 columns]",
      "text/html": "<div>\n<style scoped>\n    .dataframe tbody tr th:only-of-type {\n        vertical-align: middle;\n    }\n\n    .dataframe tbody tr th {\n        vertical-align: top;\n    }\n\n    .dataframe thead th {\n        text-align: right;\n    }\n</style>\n<table border=\"1\" class=\"dataframe\">\n  <thead>\n    <tr style=\"text-align: right;\">\n      <th></th>\n      <th>수송일자</th>\n      <th>평균 이용객 수</th>\n    </tr>\n  </thead>\n  <tbody>\n    <tr>\n      <th>0</th>\n      <td>2023-01-01</td>\n      <td>15907</td>\n    </tr>\n    <tr>\n      <th>1</th>\n      <td>2023-01-02</td>\n      <td>35352</td>\n    </tr>\n    <tr>\n      <th>2</th>\n      <td>2023-01-03</td>\n      <td>37178</td>\n    </tr>\n    <tr>\n      <th>3</th>\n      <td>2023-01-04</td>\n      <td>37917</td>\n    </tr>\n    <tr>\n      <th>4</th>\n      <td>2023-01-05</td>\n      <td>3836</td>\n    </tr>\n    <tr>\n      <th>...</th>\n      <td>...</td>\n      <td>...</td>\n    </tr>\n    <tr>\n      <th>268</th>\n      <td>2023-09-26</td>\n      <td>41401</td>\n    </tr>\n    <tr>\n      <th>269</th>\n      <td>2023-09-27</td>\n      <td>40178</td>\n    </tr>\n    <tr>\n      <th>270</th>\n      <td>2023-09-28</td>\n      <td>16687</td>\n    </tr>\n    <tr>\n      <th>271</th>\n      <td>2023-09-29</td>\n      <td>13613</td>\n    </tr>\n    <tr>\n      <th>272</th>\n      <td>2023-09-30</td>\n      <td>16889</td>\n    </tr>\n  </tbody>\n</table>\n<p>273 rows × 2 columns</p>\n</div>"
     },
     "execution_count": 7,
     "metadata": {},
     "output_type": "execute_result"
    }
   ],
   "source": [
    "# 1-2. 전체 평균 이용자수 (일자별)\n",
    "date_mean = file_refine_final.groupby('수송일자')['합계'].mean().reset_index()\n",
    "pd.DataFrame(date_mean.values, columns = ['수송일자', '평균 이용객 수'])"
   ],
   "metadata": {
    "collapsed": false,
    "ExecuteTime": {
     "end_time": "2024-02-17T12:30:52.239893200Z",
     "start_time": "2024-02-17T12:30:52.108358300Z"
    }
   },
   "id": "13eba734205c529b",
   "execution_count": 7
  },
  {
   "cell_type": "code",
   "outputs": [
    {
     "data": {
      "text/plain": "              역명   표준편차\n0           가락시장   9016\n1        가산디지털단지  35258\n2             강남  43258\n3           강남구청  11193\n4             강동   8569\n..           ...    ...\n237           홍제   7609\n238           화곡    131\n239  화랑대(서울여대입구)   6206\n240    회현(남대문시장)  14752\n241        효창공원앞   3827\n\n[242 rows x 2 columns]",
      "text/html": "<div>\n<style scoped>\n    .dataframe tbody tr th:only-of-type {\n        vertical-align: middle;\n    }\n\n    .dataframe tbody tr th {\n        vertical-align: top;\n    }\n\n    .dataframe thead th {\n        text-align: right;\n    }\n</style>\n<table border=\"1\" class=\"dataframe\">\n  <thead>\n    <tr style=\"text-align: right;\">\n      <th></th>\n      <th>역명</th>\n      <th>표준편차</th>\n    </tr>\n  </thead>\n  <tbody>\n    <tr>\n      <th>0</th>\n      <td>가락시장</td>\n      <td>9016</td>\n    </tr>\n    <tr>\n      <th>1</th>\n      <td>가산디지털단지</td>\n      <td>35258</td>\n    </tr>\n    <tr>\n      <th>2</th>\n      <td>강남</td>\n      <td>43258</td>\n    </tr>\n    <tr>\n      <th>3</th>\n      <td>강남구청</td>\n      <td>11193</td>\n    </tr>\n    <tr>\n      <th>4</th>\n      <td>강동</td>\n      <td>8569</td>\n    </tr>\n    <tr>\n      <th>...</th>\n      <td>...</td>\n      <td>...</td>\n    </tr>\n    <tr>\n      <th>237</th>\n      <td>홍제</td>\n      <td>7609</td>\n    </tr>\n    <tr>\n      <th>238</th>\n      <td>화곡</td>\n      <td>131</td>\n    </tr>\n    <tr>\n      <th>239</th>\n      <td>화랑대(서울여대입구)</td>\n      <td>6206</td>\n    </tr>\n    <tr>\n      <th>240</th>\n      <td>회현(남대문시장)</td>\n      <td>14752</td>\n    </tr>\n    <tr>\n      <th>241</th>\n      <td>효창공원앞</td>\n      <td>3827</td>\n    </tr>\n  </tbody>\n</table>\n<p>242 rows × 2 columns</p>\n</div>"
     },
     "execution_count": 8,
     "metadata": {},
     "output_type": "execute_result"
    }
   ],
   "source": [
    "# 2. 역별 이용객 수의 표준편차\n",
    "station_std = file_refine_final.groupby('역명')['합계'].std().dropna().reset_index()  # 표준편차: .std\n",
    "pd.DataFrame(station_std.values, columns = ['역명', '표준편차'])"
   ],
   "metadata": {
    "collapsed": false,
    "ExecuteTime": {
     "end_time": "2024-02-17T12:30:52.270881800Z",
     "start_time": "2024-02-17T12:30:52.140352400Z"
    }
   },
   "id": "7d8a7bdf4b26563a",
   "execution_count": 8
  },
  {
   "cell_type": "code",
   "outputs": [
    {
     "data": {
      "text/plain": "역명\n잠실(송파구청)    49384021\nName: 합계, dtype: int64"
     },
     "execution_count": 9,
     "metadata": {},
     "output_type": "execute_result"
    }
   ],
   "source": [
    "# 3. 가장 많은 이용객이 있는 역의 이용객 수\n",
    "# 5. 가장 많은 이용객이 있는 역의 이름\n",
    "station_sum = file_refine_final.groupby('역명')['합계'].sum()  # 합계: .sum, 최대값 : .max\n",
    "station_max = station_sum[station_sum.values == station_sum.max()]  # 해당 값이 .max에 해당하는 행을 추출\n",
    "station_max"
   ],
   "metadata": {
    "collapsed": false,
    "ExecuteTime": {
     "end_time": "2024-02-17T12:30:52.273404900Z",
     "start_time": "2024-02-17T12:30:52.152353100Z"
    }
   },
   "id": "a5eb6c21cbc85233",
   "execution_count": 9
  },
  {
   "cell_type": "code",
   "outputs": [
    {
     "data": {
      "text/plain": "역명\n남태령    669999\nName: 합계, dtype: int64"
     },
     "execution_count": 10,
     "metadata": {},
     "output_type": "execute_result"
    }
   ],
   "source": [
    "# 4. 가장 작은 이용객이 있는 역의 이용객 수\n",
    "# 6. 가장 작은 이용객이 있는 역의 이름\n",
    "station_min = station_sum[station_sum.values == station_sum[station_sum > 0].min()]  # .min에 해당하는 행을 추출, 0 값 제외\n",
    "station_min"
   ],
   "metadata": {
    "collapsed": false,
    "ExecuteTime": {
     "end_time": "2024-02-17T12:30:52.287405900Z",
     "start_time": "2024-02-17T12:30:52.170358300Z"
    }
   },
   "id": "dab80a85352f9d04",
   "execution_count": 10
  },
  {
   "cell_type": "code",
   "outputs": [
    {
     "data": {
      "text/plain": "<Figure size 640x480 with 1 Axes>",
      "image/png": "[encoded data removed]"
     },
     "metadata": {},
     "output_type": "display_data"
    }
   ],
   "source": [
    "# 7. 이용객 수의 분포를 히스토그램으로 시각화\n",
    "# - 역별 평규값을 이용\n",
    "station_mean_hist = np.array(file_refine_final.groupby('역명')['합계'].mean())\n",
    "plt.hist(station_mean_hist, bins = 100)\n",
    "plt.title('전체 이용객 수 분포')\n",
    "plt.xlabel('이용객 수')\n",
    "plt.ylabel('역 개수')\n",
    "plt.show()"
   ],
   "metadata": {
    "collapsed": false,
    "ExecuteTime": {
     "end_time": "2024-02-17T12:31:36.311536Z",
     "start_time": "2024-02-17T12:31:36.119110800Z"
    }
   },
   "id": "f611a8644aed98be",
   "execution_count": 14
  },
  {
   "cell_type": "code",
   "outputs": [
    {
     "data": {
      "text/plain": "<Figure size 640x480 with 1 Axes>",
      "image/png": "[encoded data removed]"
     },
     "metadata": {},
     "output_type": "display_data"
    }
   ],
   "source": [
    "# boxplot 표현 : 2만5천명 구간이 가장 많다\n",
    "plt.boxplot(station_mean_hist, vert=False)\n",
    "plt.title('전체 이용객 수 분포')\n",
    "plt.xlabel('이용객 수')\n",
    "plt.ylabel('역 개수')\n",
    "plt.show()"
   ],
   "metadata": {
    "collapsed": false,
    "ExecuteTime": {
     "end_time": "2024-02-17T12:44:08.656170600Z",
     "start_time": "2024-02-17T12:44:08.551751900Z"
    }
   },
   "id": "c5ecc1312d6cebd2",
   "execution_count": 17
  },
  {
   "cell_type": "code",
   "outputs": [],
   "source": [],
   "metadata": {
    "collapsed": false
   },
   "id": "c7d92d292aa3569c"
  }
 ],
 "metadata": {
  "kernelspec": {
   "display_name": "Python 3",
   "language": "python",
   "name": "python3"
  },
  "language_info": {
   "codemirror_mode": {
    "name": "ipython",
    "version": 2
   },
   "file_extension": ".py",
   "mimetype": "text/x-python",
   "name": "python",
   "nbconvert_exporter": "python",
   "pygments_lexer": "ipython2",
   "version": "2.7.6"
  }
 },
 "nbformat": 4,
 "nbformat_minor": 5
}
