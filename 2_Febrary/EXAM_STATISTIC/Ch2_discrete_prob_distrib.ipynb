{
 "cells": [
  {
   "cell_type": "markdown",
   "source": [
    "### [ 2장 이산형 확률분포 ]  \n",
    "교재 4장 : 추측통계의 기본\n",
    "1) 모집단과 표본\n",
    "2) 확률 모형\n",
    "3) 추측통계의 확률"
   ],
   "metadata": {
    "collapsed": false
   },
   "id": "28e2ee53b9d259e9"
  },
  {
   "cell_type": "code",
   "outputs": [],
   "source": [
    "# 0. 첫 페이지 : 변수 표현\n",
    "# - np. 의 표현, str과 int 차이 등등"
   ],
   "metadata": {
    "collapsed": false,
    "ExecuteTime": {
     "end_time": "2024-02-20T00:52:43.621955300Z",
     "start_time": "2024-02-20T00:52:43.537299Z"
    }
   },
   "id": "e1ac2b6c481321a6",
   "execution_count": 5
  },
  {
   "cell_type": "code",
   "outputs": [],
   "source": [
    "import numpy as np\n",
    "import pandas as pd\n",
    "import matplotlib.pyplot as plt\n",
    "\n",
    "%precision %.3f\n",
    "pd.set_option('display.precision', 3)   # DataFrame의 출력을 소수점 이하 3자리로 제한"
   ],
   "metadata": {
    "collapsed": false,
    "ExecuteTime": {
     "end_time": "2024-02-20T00:52:45.747956100Z",
     "start_time": "2024-02-20T00:52:43.627397800Z"
    }
   },
   "id": "607f215c299b06ee",
   "execution_count": 6
  },
  {
   "cell_type": "code",
   "outputs": [
    {
     "data": {
      "text/plain": "array([76, 55, 80, 80, 74, 61, 81, 76, 23, 80], dtype=int64)"
     },
     "execution_count": 7,
     "metadata": {},
     "output_type": "execute_result"
    }
   ],
   "source": [
    "# 0. Data prepare\n",
    "df = pd.read_csv('DATA/python_stat_sample-master/data/ch4_scores400.csv')\n",
    "scores = np.array(df['score'])\n",
    "scores[:10]"
   ],
   "metadata": {
    "collapsed": false,
    "ExecuteTime": {
     "end_time": "2024-02-20T00:52:45.788112300Z",
     "start_time": "2024-02-20T00:52:45.751957700Z"
    }
   },
   "id": "c811433eacc600ed",
   "execution_count": 7
  },
  {
   "cell_type": "code",
   "outputs": [],
   "source": [
    "# [ 1. 모집단과 표본 ]\n",
    "# 1. 추측 통계\n",
    "# - 일부 데이터로 전체의 통계적 성질을 추측\n",
    "# - 전체를 알 수 없을 때\n",
    "\n",
    "# 2. 모집단과 표본\n",
    "# - 모집단 : 전체 데이터\n",
    "# - 표본 : 일부 데이터\n",
    "# - 표본크기 : 표본의 수"
   ],
   "metadata": {
    "collapsed": false,
    "ExecuteTime": {
     "end_time": "2024-02-20T00:52:45.811420300Z",
     "start_time": "2024-02-20T00:52:45.778963Z"
    }
   },
   "id": "20ddebf6ac2d78a2",
   "execution_count": 8
  },
  {
   "cell_type": "code",
   "outputs": [
    {
     "data": {
      "text/plain": "array([2, 3, 1])"
     },
     "execution_count": 9,
     "metadata": {},
     "output_type": "execute_result"
    }
   ],
   "source": [
    "# 3. 표본 추출 방법\n",
    "# - 무작위 추출\n",
    "#   1. 복원 추출 : 겹치는 것 허용\n",
    "\n",
    "#   2. 비복원 추출 : 겹치지 않음\n",
    "#   - replace=False : 겹치지 않게 하는 매개 변수\n",
    "np.random.choice([1,2,3],3, replace=False)\n",
    "\n",
    "# - 시드 0 : 항상 동일한 결과\n"
   ],
   "metadata": {
    "collapsed": false,
    "ExecuteTime": {
     "end_time": "2024-02-20T00:52:45.835213800Z",
     "start_time": "2024-02-20T00:52:45.798143600Z"
    }
   },
   "id": "8e6fcf9dfbadf4f3",
   "execution_count": 9
  },
  {
   "cell_type": "code",
   "outputs": [],
   "source": [
    "# [ 2. 확률 모형 ]\n",
    "# 1. 확률의 기본\n",
    "# - 확률\n",
    "# - 확률 모형\n",
    "# - 확률 변수\n",
    "#   : 결과를 알아맞힐 수 없지만\n",
    "#     취하는 값과 그 값이 나올 확률이 결정되어 있는 것\n",
    "# - 시행\n",
    "#   : 확률 변수의 결과를 관측\n",
    "# - 실현값\n",
    "#   : 시행에 의해 관측하는 것\n",
    "# - 사건 \n",
    "#   : 시행 결과로 나타날 수 있는 값\n",
    "#     주사위 눈이 1이 되는 것\n",
    "# - 근원 사건\n",
    "#   : 더 분해될 수 없는 사건 (눈이 1)\n",
    "# - 상호 배반\n",
    "#   : 동시에 일어날 수 없는 사건\n",
    "#     눈이 1인 동시에 2"
   ],
   "metadata": {
    "collapsed": false,
    "ExecuteTime": {
     "end_time": "2024-02-20T00:52:45.836216400Z",
     "start_time": "2024-02-20T00:52:45.812420Z"
    }
   },
   "id": "348130e5fb2a0348",
   "execution_count": 10
  },
  {
   "cell_type": "code",
   "outputs": [],
   "source": [
    "# 2. 확률 변수\n",
    "# - 확률 변수가 어떻게 움직이는지를 나타낸 것\n",
    "# - 공정과 불공정 : 확률이 일정하지 않을 때\n",
    "\n",
    "# 1) 불공정한 주사위의 확률 구하기\n"
   ],
   "metadata": {
    "collapsed": false,
    "ExecuteTime": {
     "end_time": "2024-02-20T00:52:45.853249Z",
     "start_time": "2024-02-20T00:52:45.829118100Z"
    }
   },
   "id": "1a8ea3192c7cdede",
   "execution_count": 11
  },
  {
   "cell_type": "code",
   "outputs": [],
   "source": [
    "# 2) 히스토그램\n",
    "# : 1,000회 시행 시 실제의 확률 분포에 가까워짐"
   ],
   "metadata": {
    "collapsed": false,
    "ExecuteTime": {
     "end_time": "2024-02-20T00:52:45.870248500Z",
     "start_time": "2024-02-20T00:52:45.842832900Z"
    }
   },
   "id": "3fe0d057fc1843ef",
   "execution_count": 12
  },
  {
   "cell_type": "code",
   "outputs": [
    {
     "data": {
      "text/plain": "66"
     },
     "execution_count": 13,
     "metadata": {},
     "output_type": "execute_result"
    }
   ],
   "source": [
    "# [ 3. 추측 통계의 확률 ]\n",
    "# 1. 추측 통계의 확률\n",
    "# - 추측 통계 : 일부 데이터로 전체를 추측\n",
    "# - 예: \n",
    "#   69점인 학생이 전교생의 4% 일때, \n",
    "#   무작위추출을 수행하면 4% 확률로 \n",
    "#   69점이라는 표본을 얻음\n",
    "np.random.choice(scores)    # 무작위 추출"
   ],
   "metadata": {
    "collapsed": false,
    "ExecuteTime": {
     "end_time": "2024-02-20T00:52:45.897282500Z",
     "start_time": "2024-02-20T00:52:45.862253100Z"
    }
   },
   "id": "a72fa49752c166a7",
   "execution_count": 13
  },
  {
   "cell_type": "code",
   "outputs": [
    {
     "data": {
      "text/plain": "<Figure size 640x480 with 1 Axes>",
      "image/png": "[encoded data removed]"
     },
     "metadata": {},
     "output_type": "display_data"
    }
   ],
   "source": [
    "# 2. 무작위 추출을 만 번 반복\n",
    "# - 20개의 표본을 추출하고 표본 평균 연산\n",
    "# - 이를 만 번 반복\n",
    "sample_means = [np.random.choice(scores, 20).mean() for _ in range(10000)]\n",
    "\n",
    "plt.hist(sample_means, bins=100, range=(50,85))\n",
    "plt.show()  \n",
    "# =>  표본 평균은 모평균 중심으로 분포한다\n",
    "#     무작위 추출 표본 평균으로 모평균 추측 가능"
   ],
   "metadata": {
    "collapsed": false,
    "ExecuteTime": {
     "end_time": "2024-02-20T00:52:46.466182700Z",
     "start_time": "2024-02-20T00:52:45.875281800Z"
    }
   },
   "id": "3136f5bfcedf2deb",
   "execution_count": 14
  },
  {
   "cell_type": "markdown",
   "source": [
    "### [ 5장 이산형 확률변수 ]\n",
    "1) 1차원 이산형 확률 변수\n",
    "2) 2차원 이산형 확률 변수"
   ],
   "metadata": {
    "collapsed": false
   },
   "id": "86248acdea5b5944"
  },
  {
   "cell_type": "code",
   "outputs": [],
   "source": [
    "# [ 1. 1차원 이산현 확률 변수 ]\n",
    "# \n",
    "# - 앞부분 빠르게 지나감\n",
    "\n",
    "x_set = np.array([1,2,3,4,5,6])\n",
    "\n",
    "def f(x):\n",
    "    if x in x_set:\n",
    "        return x / 21\n",
    "    else:\n",
    "        return 0\n",
    "    \n",
    "X = [x_set, f]  # x_set과 f 포함하는 리스트"
   ],
   "metadata": {
    "collapsed": false,
    "ExecuteTime": {
     "end_time": "2024-02-20T00:52:46.519251400Z",
     "start_time": "2024-02-20T00:52:46.471191400Z"
    }
   },
   "id": "97131010f4f80647",
   "execution_count": 15
  },
  {
   "cell_type": "code",
   "outputs": [
    {
     "data": {
      "text/plain": "{1: 0.048, 2: 0.095, 3: 0.143, 4: 0.190, 5: 0.238, 6: 0.286}"
     },
     "execution_count": 16,
     "metadata": {},
     "output_type": "execute_result"
    }
   ],
   "source": [
    "# 확률 연산\n",
    "prob = np.array([f(x_k) for x_k in x_set])\n",
    "dict(zip(x_set, prob))"
   ],
   "metadata": {
    "collapsed": false,
    "ExecuteTime": {
     "end_time": "2024-02-20T00:52:46.520251600Z",
     "start_time": "2024-02-20T00:52:46.482476800Z"
    }
   },
   "id": "eba0de85fd1b524c",
   "execution_count": 16
  },
  {
   "cell_type": "code",
   "outputs": [
    {
     "data": {
      "text/plain": "0.286"
     },
     "execution_count": 17,
     "metadata": {},
     "output_type": "execute_result"
    }
   ],
   "source": [
    "# 1) 확률의 성질\n",
    "#   (1) f(x_k) >= 0\n",
    "#   (2) sum(f(x_k)) = 1\n",
    "\n",
    "# 4. 누적분포함수 (분포함수) F(x)\n",
    "# 1) 누적분포함수 : X가 x 이하가 될 때의 확률\n",
    "\n",
    "def F(x):\n",
    "    return np.sum([f(x_k) for x_k in x_set if x_k <= x])\n",
    "\n",
    "F(3)    # 눈이 3 이하일 확률"
   ],
   "metadata": {
    "collapsed": false,
    "ExecuteTime": {
     "end_time": "2024-02-20T00:52:46.567260300Z",
     "start_time": "2024-02-20T00:52:46.498825200Z"
    }
   },
   "id": "61cdb9f9631c2281",
   "execution_count": 17
  },
  {
   "cell_type": "code",
   "outputs": [
    {
     "data": {
      "text/plain": "{5: 0.048, 7: 0.095, 9: 0.143, 11: 0.190, 13: 0.238, 15: 0.286}"
     },
     "execution_count": 18,
     "metadata": {},
     "output_type": "execute_result"
    }
   ],
   "source": [
    "# 2) 확률 변수의 변환\n",
    "#   - Y = 2X+3\n",
    "#   - 변환 후 확률 변수 Y의 분포 구하기\n",
    "\n",
    "y_set = np.array([2*x_k + 3 for x_k in x_set])\n",
    "prob =  np.array([f(x_k) for x_k in x_set])\n",
    "dict(zip(y_set, prob))"
   ],
   "metadata": {
    "collapsed": false,
    "ExecuteTime": {
     "end_time": "2024-02-20T00:52:46.569257Z",
     "start_time": "2024-02-20T00:52:46.514828600Z"
    }
   },
   "id": "f0c7dff954250b76",
   "execution_count": 18
  },
  {
   "cell_type": "code",
   "outputs": [],
   "source": [
    "# 5. 1차형 이산형 확률 변수의 지표\n",
    "# 5-1. 기대값 : 확률변수의 평균\n",
    "#             무제한 시행에 얻어진 실험값의 평균\n",
    "\n",
    "# 2) sampling : \n",
    "# 3) 람다 함수\n"
   ],
   "metadata": {
    "collapsed": false,
    "ExecuteTime": {
     "end_time": "2024-02-20T00:52:46.570257Z",
     "start_time": "2024-02-20T00:52:46.530253100Z"
    }
   },
   "id": "61a9cb7eec1b0a37",
   "execution_count": 19
  },
  {
   "cell_type": "code",
   "outputs": [],
   "source": [
    "# 5-2. 분산\n",
    "# : V(X) = sum(x_k - u)^2 * f(x_k)\n"
   ],
   "metadata": {
    "collapsed": false,
    "ExecuteTime": {
     "end_time": "2024-02-20T00:52:46.613214800Z",
     "start_time": "2024-02-20T00:52:46.545252100Z"
    }
   },
   "id": "9e50021ee9481cc2",
   "execution_count": 20
  },
  {
   "cell_type": "markdown",
   "source": [
    "### [ 2월 20일 ]"
   ],
   "metadata": {
    "collapsed": false
   },
   "id": "604e1c3c1600093f"
  },
  {
   "cell_type": "code",
   "outputs": [
    {
     "data": {
      "text/plain": "<Figure size 1000x800 with 2 Axes>",
      "image/png": "[encoded data removed]"
     },
     "metadata": {},
     "output_type": "display_data"
    }
   ],
   "source": [
    "# [ 2. 2차원 이산형 확률 변수 ]\n",
    "# 1. 결합 확률변수\n",
    "#   : 확률 변수 X가 x_i를, Y가  y_j를 가질 때의 확률\n",
    "#   : sum_i(sum_j(f(x_i, y_j))) = 1\n",
    "#   : def f_XY(x, y) -> 변수 두 개\n",
    "x_set = np.arange(2, 13)\n",
    "y_set = np.arange(1, 7)\n",
    "\n",
    "def f_XY(x,y):\n",
    "    if 1<= y <= 6 and 1 <= x-y <=6:\n",
    "        return y * (x-y) / 441\n",
    "    else:\n",
    "        return 0\n",
    "\n",
    "# 2. 확률 분포의 히트맵\n",
    "# - 그리는 법 나와 있음: ax.pcolor(prob)\n",
    "prob = np.array([[f_XY(x_k, y_k) for y_k in y_set] for x_k in x_set])\n",
    "\n",
    "fig = plt.figure(figsize=(10, 8))\n",
    "ax = fig.add_subplot(111)\n",
    "\n",
    "c = ax.pcolor(prob)\n",
    "ax.set_xticks(np.arange(prob.shape[1])+ 0.5, minor=False)\n",
    "ax.set_yticks(np.arange(prob.shape[0])+ 0.5, minor=False)\n",
    "ax.set_xticklabels(np.arange(1,7), minor=False)\n",
    "ax.set_yticklabels(np.arange(2,13), minor=False)\n",
    "ax.invert_yaxis()   # y축 위아래 역전\n",
    "ax.xaxis.tick_top() # x축 눈금을 그래프 위에 표시\n",
    "fig.colorbar(c, ax=ax)\n",
    "plt.show()"
   ],
   "metadata": {
    "collapsed": false,
    "ExecuteTime": {
     "end_time": "2024-02-20T00:57:32.456780100Z",
     "start_time": "2024-02-20T00:57:32.251150800Z"
    }
   },
   "id": "a88890de2a7bbbd6",
   "execution_count": 29
  },
  {
   "cell_type": "code",
   "outputs": [
    {
     "data": {
      "text/plain": "<Figure size 1000x800 with 0 Axes>"
     },
     "metadata": {},
     "output_type": "display_data"
    }
   ],
   "source": [
    "\"\"# 3. 주변 확률 분포\n",
    "# - f_X(x) = sum(f_Y(x, y_k))\n",
    "#  : X의 확률은 나머지 Y의 확률을 모두 합한 값과 같다"
   ],
   "metadata": {
    "collapsed": false,
    "ExecuteTime": {
     "end_time": "2024-02-20T00:53:15.063283500Z",
     "start_time": "2024-02-20T00:53:14.991313600Z"
    }
   },
   "id": "83a74a250bac1b67",
   "execution_count": 24
  },
  {
   "cell_type": "code",
   "outputs": [],
   "source": [
    "# 4. 2차원 이산형 확률 변수의 지표\n",
    "# 1) 기대값: 확률변수의 평균; sum(확률변수의 값 * 확률)\n",
    "#           u_x = E(X) = sum(sum(x_i * f_XY(x_i, y_j)))\n",
    "#           E(g(X,Y)) = sum(sum(g(x_i, y_j) * f_XY(x_i, y_j))) \n",
    "#           ; g(x,y) = 람다함수: g(x, y)의 확률을 구하는 것\n",
    "\n",
    "def E(XY, g):\n",
    "    x_set, y_set, f_XY = XY\n",
    "    return np.sum([g(x_i, y_j) * f_XY(x_i, y_j) for x_i in x_set for y_j in y_set])"
   ],
   "metadata": {
    "collapsed": false,
    "ExecuteTime": {
     "end_time": "2024-02-20T00:52:46.616213Z",
     "start_time": "2024-02-20T00:52:46.577646800Z"
    }
   },
   "id": "33718bd113e59e83",
   "execution_count": 22
  },
  {
   "cell_type": "code",
   "outputs": [],
   "source": [
    "# 2) 분산 : V(X) = sum(sum((x_i - u_x)^2 * f_XY(x_i, y_j)))\n",
    "def  V(XY, g):\n",
    "    x_set, y_set, f_XY = XY\n",
    "    mean = E(XY, g)\n",
    "    return np.sum([(g(x_i, y_j) - mean)**2 * f_XY(x_i, y_j) for x_i in x_set for y_j in y_set])"
   ],
   "metadata": {
    "collapsed": false,
    "ExecuteTime": {
     "end_time": "2024-02-20T00:52:46.645212800Z",
     "start_time": "2024-02-20T00:52:46.590957200Z"
    }
   },
   "id": "a689415904993eee",
   "execution_count": 23
  },
  {
   "cell_type": "code",
   "outputs": [],
   "source": [],
   "metadata": {
    "collapsed": false,
    "ExecuteTime": {
     "end_time": "2024-02-20T00:52:46.647213200Z",
     "start_time": "2024-02-20T00:52:46.607215800Z"
    }
   },
   "id": "1c38d2ce38047a77",
   "execution_count": 23
  }
 ],
 "metadata": {
  "kernelspec": {
   "display_name": "Python 3",
   "language": "python",
   "name": "python3"
  },
  "language_info": {
   "codemirror_mode": {
    "name": "ipython",
    "version": 2
   },
   "file_extension": ".py",
   "mimetype": "text/x-python",
   "name": "python",
   "nbconvert_exporter": "python",
   "pygments_lexer": "ipython2",
   "version": "2.7.6"
  }
 },
 "nbformat": 4,
 "nbformat_minor": 5
}
