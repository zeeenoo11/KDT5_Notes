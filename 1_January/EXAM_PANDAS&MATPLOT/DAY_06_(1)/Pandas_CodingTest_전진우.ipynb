{
 "cells": [
  {
   "cell_type": "code",
   "execution_count": 218,
   "id": "27227112",
   "metadata": {},
   "outputs": [],
   "source": [
    "# 준비하기\n",
    "import pandas as pd"
   ]
  },
  {
   "cell_type": "markdown",
   "id": "4ea0c66e-e763-4b1e-8a51-f783d73be47f",
   "metadata": {},
   "source": [
    "[문1] 아래 조건을 만족하는 Series를 생성하세요.\n",
    "1) 데이터 : 1~50 범위에서 7의 배수 정수\n",
    "2) 인덱스 : 'a~z' 범위에서 데이터 갯수 만큼의 알파벳\n",
    "3) 타  입 : 부호가 없는 1바이트 정수\n",
    "4) 이  름 : sevens\n",
    "5) 속  성 : index, values, dtype, ndim, shape, size"
   ]
  },
  {
   "cell_type": "code",
   "execution_count": 219,
   "id": "4de17faf-c756-4097-bfc0-79a85b573196",
   "metadata": {},
   "outputs": [],
   "source": [
    "seven = pd.Series([i for i in range(1,51) if i%7==0], dtype=(int))"
   ]
  },
  {
   "cell_type": "code",
   "execution_count": 236,
   "id": "d1b38626",
   "metadata": {},
   "outputs": [
    {
     "data": {
      "text/plain": [
       "a     7\n",
       "b    14\n",
       "c    21\n",
       "d    28\n",
       "e    35\n",
       "f    42\n",
       "g    49\n",
       "dtype: int32"
      ]
     },
     "execution_count": 236,
     "metadata": {},
     "output_type": "execute_result"
    }
   ],
   "source": [
    "seven.index = ['a', 'b', 'c', 'd', 'e', 'f', 'g']\n",
    "seven"
   ]
  },
  {
   "cell_type": "code",
   "execution_count": 243,
   "id": "ed3d967d-dcdb-430c-8cbc-2b29b34c5410",
   "metadata": {},
   "outputs": [
    {
     "data": {
      "text/plain": [
       "count     7.000000\n",
       "mean     28.000000\n",
       "std      15.121728\n",
       "min       7.000000\n",
       "25%      17.500000\n",
       "50%      28.000000\n",
       "75%      38.500000\n",
       "max      49.000000\n",
       "dtype: float64"
      ]
     },
     "execution_count": 243,
     "metadata": {},
     "output_type": "execute_result"
    }
   ],
   "source": [
    "seven.describe(include='all')"
   ]
  },
  {
   "cell_type": "markdown",
   "id": "6e816108-d335-45c5-bbc0-3ceeed3c7f60",
   "metadata": {},
   "source": [
    "[문2] 아래 조건을 만족하는 데이터 객체를 생성하세요.\n",
    "1) 데이터 : knu_data.csv\n",
    "2) 인덱스 : 컬럼 중 하나를 인덱스로 설정\n",
    "3) 속성 정보 출력 \n",
    "4) 데이터 확인 정보 출력\n",
    "5) 타입과 실제 데이터 타입 일치 "
   ]
  },
  {
   "cell_type": "code",
   "execution_count": 221,
   "id": "a76e542d-311c-4eda-914e-2f89eb182df3",
   "metadata": {},
   "outputs": [
    {
     "data": {
      "text/html": [
       "<div>\n",
       "<style scoped>\n",
       "    .dataframe tbody tr th:only-of-type {\n",
       "        vertical-align: middle;\n",
       "    }\n",
       "\n",
       "    .dataframe tbody tr th {\n",
       "        vertical-align: top;\n",
       "    }\n",
       "\n",
       "    .dataframe thead th {\n",
       "        text-align: right;\n",
       "    }\n",
       "</style>\n",
       "<table border=\"1\" class=\"dataframe\">\n",
       "  <thead>\n",
       "    <tr style=\"text-align: right;\">\n",
       "      <th></th>\n",
       "      <th>team</th>\n",
       "      <th>time</th>\n",
       "    </tr>\n",
       "    <tr>\n",
       "      <th>mem_id</th>\n",
       "      <th></th>\n",
       "      <th></th>\n",
       "    </tr>\n",
       "  </thead>\n",
       "  <tbody>\n",
       "    <tr>\n",
       "      <th>knu_21</th>\n",
       "      <td>경영지원팀</td>\n",
       "      <td>20231102200000</td>\n",
       "    </tr>\n",
       "    <tr>\n",
       "      <th>knu_03</th>\n",
       "      <td>대외협력팀</td>\n",
       "      <td>20231117200000</td>\n",
       "    </tr>\n",
       "    <tr>\n",
       "      <th>knu_01</th>\n",
       "      <td>대외협력팀</td>\n",
       "      <td>20231109200000</td>\n",
       "    </tr>\n",
       "    <tr>\n",
       "      <th>knu_09</th>\n",
       "      <td>경영지원팀</td>\n",
       "      <td>20221122200000</td>\n",
       "    </tr>\n",
       "    <tr>\n",
       "      <th>knu_01</th>\n",
       "      <td>경영지원팀</td>\n",
       "      <td>20221111200000</td>\n",
       "    </tr>\n",
       "  </tbody>\n",
       "</table>\n",
       "</div>"
      ],
      "text/plain": [
       "          team            time\n",
       "mem_id                        \n",
       "knu_21   경영지원팀  20231102200000\n",
       "knu_03   대외협력팀  20231117200000\n",
       "knu_01   대외협력팀  20231109200000\n",
       "knu_09   경영지원팀  20221122200000\n",
       "knu_01   경영지원팀  20221111200000"
      ]
     },
     "execution_count": 221,
     "metadata": {},
     "output_type": "execute_result"
    }
   ],
   "source": [
    "DF2 = pd.read_csv('../DATA/knu_data.csv', index_col=['mem_id'])\n",
    "DF2"
   ]
  },
  {
   "cell_type": "code",
   "execution_count": 222,
   "id": "3ae58fb0-6a09-40c6-860d-c846ae2fdad5",
   "metadata": {},
   "outputs": [
    {
     "name": "stdout",
     "output_type": "stream",
     "text": [
      "<class 'pandas.core.frame.DataFrame'>\n",
      "Index: 5 entries, knu_21 to knu_01\n",
      "Data columns (total 2 columns):\n",
      " #   Column  Non-Null Count  Dtype \n",
      "---  ------  --------------  ----- \n",
      " 0   team    5 non-null      object\n",
      " 1   time    5 non-null      int64 \n",
      "dtypes: int64(1), object(1)\n",
      "memory usage: 120.0+ bytes\n"
     ]
    }
   ],
   "source": [
    "# 3.속성 정보 출력\n",
    "DF2.info()"
   ]
  },
  {
   "cell_type": "code",
   "execution_count": 237,
   "id": "811b809c",
   "metadata": {},
   "outputs": [
    {
     "data": {
      "text/plain": [
       "<bound method NDFrame.describe of mem_id\n",
       "knu_21   1970-01-01 05:37:11.102200\n",
       "knu_03   1970-01-01 05:37:11.117200\n",
       "knu_01   1970-01-01 05:37:11.109200\n",
       "knu_09   1970-01-01 05:37:01.122200\n",
       "knu_01   1970-01-01 05:37:01.111200\n",
       "Name: time, dtype: datetime64[ns]>"
      ]
     },
     "execution_count": 237,
     "metadata": {},
     "output_type": "execute_result"
    }
   ],
   "source": [
    "# 4. 데이터 확인 정보 출력?\n",
    "DF2.describe"
   ]
  },
  {
   "cell_type": "code",
   "execution_count": 224,
   "id": "5f62871c",
   "metadata": {},
   "outputs": [],
   "source": [
    "# 5. 타입과 셀제 데이터 타입 일치 여부\n",
    "# 'time' 열은 날짜 단위이므로 datetime 으로 변환\n",
    "DF2 = DF2.time.astype('datetime64[ns]')"
   ]
  },
  {
   "cell_type": "markdown",
   "id": "ed5b8afb-0d0e-4337-82a5-b74c857a5f67",
   "metadata": {},
   "source": [
    "[문3] 아래 조건을 만족하는 데이터 객체를 생성하세요.\n",
    "1) 데이터 : stats_100701.xlsx\n",
    "2) 년도별 인구가 가장 많은 지역과 가장 적은 지역 \n",
    "3) 6대 광역시에서 년도별 인구가 가장 많은 지역과 가장 적은 지역 \n",
    "4) 8도 중 7도에서 년도별 인구가 가장 많은 지역과 가장 적은 지역 "
   ]
  },
  {
   "cell_type": "code",
   "execution_count": 225,
   "id": "07f3b5e3-f715-4766-95b1-3bd99a341bfb",
   "metadata": {},
   "outputs": [
    {
     "data": {
      "text/html": [
       "<div>\n",
       "<style scoped>\n",
       "    .dataframe tbody tr th:only-of-type {\n",
       "        vertical-align: middle;\n",
       "    }\n",
       "\n",
       "    .dataframe tbody tr th {\n",
       "        vertical-align: top;\n",
       "    }\n",
       "\n",
       "    .dataframe thead th {\n",
       "        text-align: right;\n",
       "    }\n",
       "</style>\n",
       "<table border=\"1\" class=\"dataframe\">\n",
       "  <thead>\n",
       "    <tr style=\"text-align: right;\">\n",
       "      <th></th>\n",
       "      <th>2015</th>\n",
       "      <th>2016</th>\n",
       "      <th>2017</th>\n",
       "      <th>2018</th>\n",
       "    </tr>\n",
       "  </thead>\n",
       "  <tbody>\n",
       "    <tr>\n",
       "      <th>계</th>\n",
       "      <td>51015</td>\n",
       "      <td>51218</td>\n",
       "      <td>51362</td>\n",
       "      <td>51607</td>\n",
       "    </tr>\n",
       "    <tr>\n",
       "      <th>서울</th>\n",
       "      <td>9941</td>\n",
       "      <td>9843</td>\n",
       "      <td>9766</td>\n",
       "      <td>9705</td>\n",
       "    </tr>\n",
       "    <tr>\n",
       "      <th>부산</th>\n",
       "      <td>3452</td>\n",
       "      <td>3447</td>\n",
       "      <td>3424</td>\n",
       "      <td>3400</td>\n",
       "    </tr>\n",
       "    <tr>\n",
       "      <th>대구</th>\n",
       "      <td>2469</td>\n",
       "      <td>2461</td>\n",
       "      <td>2458</td>\n",
       "      <td>2450</td>\n",
       "    </tr>\n",
       "    <tr>\n",
       "      <th>인천</th>\n",
       "      <td>2883</td>\n",
       "      <td>2907</td>\n",
       "      <td>2924</td>\n",
       "      <td>2939</td>\n",
       "    </tr>\n",
       "    <tr>\n",
       "      <th>광주</th>\n",
       "      <td>1506</td>\n",
       "      <td>1502</td>\n",
       "      <td>1495</td>\n",
       "      <td>1493</td>\n",
       "    </tr>\n",
       "    <tr>\n",
       "      <th>대전</th>\n",
       "      <td>1542</td>\n",
       "      <td>1536</td>\n",
       "      <td>1528</td>\n",
       "      <td>1518</td>\n",
       "    </tr>\n",
       "    <tr>\n",
       "      <th>울산</th>\n",
       "      <td>1164</td>\n",
       "      <td>1166</td>\n",
       "      <td>1159</td>\n",
       "      <td>1154</td>\n",
       "    </tr>\n",
       "    <tr>\n",
       "      <th>세종</th>\n",
       "      <td>187</td>\n",
       "      <td>234</td>\n",
       "      <td>266</td>\n",
       "      <td>304</td>\n",
       "    </tr>\n",
       "    <tr>\n",
       "      <th>경기</th>\n",
       "      <td>12423</td>\n",
       "      <td>12600</td>\n",
       "      <td>12786</td>\n",
       "      <td>13031</td>\n",
       "    </tr>\n",
       "    <tr>\n",
       "      <th>강원</th>\n",
       "      <td>1517</td>\n",
       "      <td>1521</td>\n",
       "      <td>1521</td>\n",
       "      <td>1521</td>\n",
       "    </tr>\n",
       "    <tr>\n",
       "      <th>충북</th>\n",
       "      <td>1589</td>\n",
       "      <td>1601</td>\n",
       "      <td>1609</td>\n",
       "      <td>1619</td>\n",
       "    </tr>\n",
       "    <tr>\n",
       "      <th>충남</th>\n",
       "      <td>2103</td>\n",
       "      <td>2126</td>\n",
       "      <td>2153</td>\n",
       "      <td>2180</td>\n",
       "    </tr>\n",
       "    <tr>\n",
       "      <th>전북</th>\n",
       "      <td>1835</td>\n",
       "      <td>1835</td>\n",
       "      <td>1829</td>\n",
       "      <td>1820</td>\n",
       "    </tr>\n",
       "    <tr>\n",
       "      <th>전남</th>\n",
       "      <td>1797</td>\n",
       "      <td>1798</td>\n",
       "      <td>1795</td>\n",
       "      <td>1790</td>\n",
       "    </tr>\n",
       "    <tr>\n",
       "      <th>경북</th>\n",
       "      <td>2678</td>\n",
       "      <td>2683</td>\n",
       "      <td>2675</td>\n",
       "      <td>2674</td>\n",
       "    </tr>\n",
       "    <tr>\n",
       "      <th>경남</th>\n",
       "      <td>3330</td>\n",
       "      <td>3338</td>\n",
       "      <td>3339</td>\n",
       "      <td>3356</td>\n",
       "    </tr>\n",
       "    <tr>\n",
       "      <th>제주</th>\n",
       "      <td>599</td>\n",
       "      <td>618</td>\n",
       "      <td>635</td>\n",
       "      <td>653</td>\n",
       "    </tr>\n",
       "    <tr>\n",
       "      <th>수도권</th>\n",
       "      <td>25247</td>\n",
       "      <td>25350</td>\n",
       "      <td>25476</td>\n",
       "      <td>25675</td>\n",
       "    </tr>\n",
       "  </tbody>\n",
       "</table>\n",
       "</div>"
      ],
      "text/plain": [
       "      2015   2016   2017   2018\n",
       "계    51015  51218  51362  51607\n",
       "서울    9941   9843   9766   9705\n",
       "부산    3452   3447   3424   3400\n",
       "대구    2469   2461   2458   2450\n",
       "인천    2883   2907   2924   2939\n",
       "광주    1506   1502   1495   1493\n",
       "대전    1542   1536   1528   1518\n",
       "울산    1164   1166   1159   1154\n",
       "세종     187    234    266    304\n",
       "경기   12423  12600  12786  13031\n",
       "강원    1517   1521   1521   1521\n",
       "충북    1589   1601   1609   1619\n",
       "충남    2103   2126   2153   2180\n",
       "전북    1835   1835   1829   1820\n",
       "전남    1797   1798   1795   1790\n",
       "경북    2678   2683   2675   2674\n",
       "경남    3330   3338   3339   3356\n",
       "제주     599    618    635    653\n",
       "수도권  25247  25350  25476  25675"
      ]
     },
     "execution_count": 225,
     "metadata": {},
     "output_type": "execute_result"
    }
   ],
   "source": [
    "DF3 = pd.read_excel('../DATA/stats_100701.xlsx', header=[1], index_col=[0]) # 이름 지정 및 인덱스와 제목열 수정\n",
    "DF3"
   ]
  },
  {
   "cell_type": "code",
   "execution_count": 226,
   "id": "5b916d8a",
   "metadata": {},
   "outputs": [],
   "source": [
    "DF3_del = DF3.drop(index='계', axis='rows')  # 불필요한 합계 인덱스 제거"
   ]
  },
  {
   "cell_type": "code",
   "execution_count": 227,
   "id": "70f87bd2-182d-4a9f-b184-db7e1905cf55",
   "metadata": {},
   "outputs": [
    {
     "name": "stdout",
     "output_type": "stream",
     "text": [
      "2016년 인구가 가장 많은 지역 : 수도권\n",
      "2016년 인구가 가장 적은 지역 : 세종\n",
      "\n",
      "2017년 인구가 가장 많은 지역 : 수도권\n",
      "2017년 인구가 가장 적은 지역 : 세종\n",
      "\n",
      "2018년 인구가 가장 많은 지역 : 수도권\n",
      "2018년 인구가 가장 적은 지역 : 세종\n",
      "\n"
     ]
    }
   ],
   "source": [
    "# 2. 연도별 인구가 가장 많은 지역과 적은 지역\n",
    "for year in DF3.columns[1:]:\n",
    "    DF3_sort = DF3_del.sort_values(by=year)\n",
    "    print(f'{year}년 인구가 가장 많은 지역 : {DF3_sort.index[-1]}')\n",
    "    print(f'{year}년 인구가 가장 적은 지역 : {DF3_sort.index[0]}')\n",
    "    print()"
   ]
  },
  {
   "cell_type": "code",
   "execution_count": 228,
   "metadata": {},
   "outputs": [
    {
     "name": "stdout",
     "output_type": "stream",
     "text": [
      "6대 광역시 기준 :\n",
      "2016년 인구가 가장 많은 지역 : 서울\n",
      "2016년 인구가 가장 적은 지역 : 울산\n",
      "\n",
      "6대 광역시 기준 :\n",
      "2017년 인구가 가장 많은 지역 : 서울\n",
      "2017년 인구가 가장 적은 지역 : 울산\n",
      "\n",
      "6대 광역시 기준 :\n",
      "2018년 인구가 가장 많은 지역 : 서울\n",
      "2018년 인구가 가장 적은 지역 : 울산\n",
      "\n"
     ]
    }
   ],
   "source": [
    "# 3. 6대 광역시 인구 비교\n",
    "DF3_3 = DF3_sort.drop(\n",
    "   labels=['세종', '경기', '강원', '충북', '충남', '전북', '전남', '경북', '경남', '제주', '수도권'], axis='index'\n",
    "   )\n",
    "for year in DF3.columns[1:]:\n",
    "   DF3_sort = DF3_3.sort_values(by=year)\n",
    "   print('6대 광역시 기준 :')\n",
    "   print(f'{year}년 인구가 가장 많은 지역 : {DF3_3.index[-1]}')\n",
    "   print(f'{year}년 인구가 가장 적은 지역 : {DF3_3.index[0]}')\n",
    "   print()"
   ]
  },
  {
   "cell_type": "code",
   "execution_count": 229,
   "id": "5a8fb0f5",
   "metadata": {},
   "outputs": [
    {
     "data": {
      "text/plain": [
       "Index(['서울', '부산', '대구', '인천', '광주', '대전', '울산', '세종', '경기', '강원', '충북', '충남',\n",
       "       '전북', '전남', '경북', '경남', '제주', '수도권'],\n",
       "      dtype='object')"
      ]
     },
     "execution_count": 229,
     "metadata": {},
     "output_type": "execute_result"
    }
   ],
   "source": [
    "DF3_del.index"
   ]
  },
  {
   "cell_type": "code",
   "execution_count": 230,
   "id": "759157f8",
   "metadata": {},
   "outputs": [
    {
     "name": "stdout",
     "output_type": "stream",
     "text": [
      "7도 기준 :\n",
      "2016년 인구가 가장 많은 지역 : 경남\n",
      "2016년 인구가 가장 적은 지역 : 경기\n",
      "\n",
      "7도 기준 :\n",
      "2017년 인구가 가장 많은 지역 : 경남\n",
      "2017년 인구가 가장 적은 지역 : 경기\n",
      "\n",
      "7도 기준 :\n",
      "2018년 인구가 가장 많은 지역 : 경남\n",
      "2018년 인구가 가장 적은 지역 : 경기\n",
      "\n"
     ]
    }
   ],
   "source": [
    "# 3. 7도 인구 비교\n",
    "DF3_4 = DF3_del.drop(\n",
    "   labels=['서울', '부산', '대구', '인천', '광주', '대전', '울산', '세종', '강원', '제주', '수도권'], axis='index'\n",
    "   )\n",
    "for year in DF3.columns[1:]:\n",
    "   DF3_sort = DF3_4.sort_values(by=year)\n",
    "   print('7도 기준 :')\n",
    "   print(f'{year}년 인구가 가장 많은 지역 : {DF3_4.index[-1]}')\n",
    "   print(f'{year}년 인구가 가장 적은 지역 : {DF3_4.index[0]}')\n",
    "   print()"
   ]
  },
  {
   "cell_type": "markdown",
   "id": "6f694094-19ef-4c06-a0d2-2a547a29be4e",
   "metadata": {},
   "source": [
    "[문4] 아래 조건을 만족하는 데이터 객체를 생성하세요.\n",
    "1) 데이터 : stock price.xlsx\n",
    "2) 데이터 로딩 시 인덱스로 사용할 수 있는 컬럼 설정\n",
    "3) 결측치 처리 =>\n",
    "   (가) 1개라도 NaN이면 모두 제거 / price가 NaN이면 제거 / value가 10000이하면 제거\n",
    "   (나) 평균값으로 결측치 대체, 이전/이후 값으로 결측치 대체\n",
    "4) value가 1000이하 이거나 price가 90000이상인 데이터"
   ]
  },
  {
   "cell_type": "code",
   "execution_count": 231,
   "id": "fa648dd9-a90d-48cb-9080-ea3b1d3d539b",
   "metadata": {},
   "outputs": [
    {
     "name": "stdout",
     "output_type": "stream",
     "text": [
      "<class 'pandas.core.frame.DataFrame'>\n",
      "Index: 13 entries, 128940 to 207940\n",
      "Data columns (total 3 columns):\n",
      " #   Column      Non-Null Count  Dtype  \n",
      "---  ------      --------------  -----  \n",
      " 0   stock_name  13 non-null     object \n",
      " 1   value       11 non-null     float64\n",
      " 2   price       11 non-null     float64\n",
      "dtypes: float64(2), object(1)\n",
      "memory usage: 416.0+ bytes\n"
     ]
    }
   ],
   "source": [
    "DF4 = pd.read_excel('../DATA/stock price.xlsx', index_col='id')\n",
    "DF4.info()"
   ]
  },
  {
   "cell_type": "code",
   "execution_count": 232,
   "id": "a91524eb-e063-4fc2-9bb7-c39443d9ecdd",
   "metadata": {},
   "outputs": [
    {
     "data": {
      "text/html": [
       "<div>\n",
       "<style scoped>\n",
       "    .dataframe tbody tr th:only-of-type {\n",
       "        vertical-align: middle;\n",
       "    }\n",
       "\n",
       "    .dataframe tbody tr th {\n",
       "        vertical-align: top;\n",
       "    }\n",
       "\n",
       "    .dataframe thead th {\n",
       "        text-align: right;\n",
       "    }\n",
       "</style>\n",
       "<table border=\"1\" class=\"dataframe\">\n",
       "  <thead>\n",
       "    <tr style=\"text-align: right;\">\n",
       "      <th></th>\n",
       "      <th>stock_name</th>\n",
       "      <th>value</th>\n",
       "      <th>price</th>\n",
       "    </tr>\n",
       "    <tr>\n",
       "      <th>id</th>\n",
       "      <th></th>\n",
       "      <th></th>\n",
       "      <th></th>\n",
       "    </tr>\n",
       "  </thead>\n",
       "  <tbody>\n",
       "    <tr>\n",
       "      <th>128940</th>\n",
       "      <td>한미약품</td>\n",
       "      <td>59385.666667</td>\n",
       "      <td>421000.0</td>\n",
       "    </tr>\n",
       "    <tr>\n",
       "      <th>130960</th>\n",
       "      <td>CJ E&amp;M</td>\n",
       "      <td>58540.666667</td>\n",
       "      <td>98900.0</td>\n",
       "    </tr>\n",
       "    <tr>\n",
       "      <th>138250</th>\n",
       "      <td>엔에스쇼핑</td>\n",
       "      <td>14558.666667</td>\n",
       "      <td>13200.0</td>\n",
       "    </tr>\n",
       "    <tr>\n",
       "      <th>139480</th>\n",
       "      <td>이마트</td>\n",
       "      <td>239230.833333</td>\n",
       "      <td>254500.0</td>\n",
       "    </tr>\n",
       "    <tr>\n",
       "      <th>142280</th>\n",
       "      <td>녹십자엠에스</td>\n",
       "      <td>468.833333</td>\n",
       "      <td>10200.0</td>\n",
       "    </tr>\n",
       "    <tr>\n",
       "      <th>145990</th>\n",
       "      <td>삼양사</td>\n",
       "      <td>82750.000000</td>\n",
       "      <td>82000.0</td>\n",
       "    </tr>\n",
       "    <tr>\n",
       "      <th>185750</th>\n",
       "      <td>종근당</td>\n",
       "      <td>40293.666667</td>\n",
       "      <td>100500.0</td>\n",
       "    </tr>\n",
       "    <tr>\n",
       "      <th>192400</th>\n",
       "      <td>쿠쿠홀딩스</td>\n",
       "      <td>179204.666667</td>\n",
       "      <td>177500.0</td>\n",
       "    </tr>\n",
       "    <tr>\n",
       "      <th>199800</th>\n",
       "      <td>툴젠</td>\n",
       "      <td>-2514.333333</td>\n",
       "      <td>115400.0</td>\n",
       "    </tr>\n",
       "    <tr>\n",
       "      <th>204210</th>\n",
       "      <td>모두투어리츠</td>\n",
       "      <td>3093.333333</td>\n",
       "      <td>3475.0</td>\n",
       "    </tr>\n",
       "  </tbody>\n",
       "</table>\n",
       "</div>"
      ],
      "text/plain": [
       "       stock_name          value     price\n",
       "id                                        \n",
       "128940       한미약품   59385.666667  421000.0\n",
       "130960     CJ E&M   58540.666667   98900.0\n",
       "138250      엔에스쇼핑   14558.666667   13200.0\n",
       "139480        이마트  239230.833333  254500.0\n",
       "142280     녹십자엠에스     468.833333   10200.0\n",
       "145990        삼양사   82750.000000   82000.0\n",
       "185750        종근당   40293.666667  100500.0\n",
       "192400      쿠쿠홀딩스  179204.666667  177500.0\n",
       "199800         툴젠   -2514.333333  115400.0\n",
       "204210     모두투어리츠    3093.333333    3475.0"
      ]
     },
     "execution_count": 232,
     "metadata": {},
     "output_type": "execute_result"
    }
   ],
   "source": [
    "# 3. 결측치 처리\n",
    "\n",
    "# (가 - 1) 1개라도 NaN이면 모두 제거\n",
    "DF4.dropna()"
   ]
  },
  {
   "cell_type": "code",
   "execution_count": 233,
   "id": "aa040da9",
   "metadata": {},
   "outputs": [
    {
     "data": {
      "text/html": [
       "<div>\n",
       "<style scoped>\n",
       "    .dataframe tbody tr th:only-of-type {\n",
       "        vertical-align: middle;\n",
       "    }\n",
       "\n",
       "    .dataframe tbody tr th {\n",
       "        vertical-align: top;\n",
       "    }\n",
       "\n",
       "    .dataframe thead th {\n",
       "        text-align: right;\n",
       "    }\n",
       "</style>\n",
       "<table border=\"1\" class=\"dataframe\">\n",
       "  <thead>\n",
       "    <tr style=\"text-align: right;\">\n",
       "      <th></th>\n",
       "      <th>stock_name</th>\n",
       "      <th>value</th>\n",
       "      <th>price</th>\n",
       "    </tr>\n",
       "    <tr>\n",
       "      <th>id</th>\n",
       "      <th></th>\n",
       "      <th></th>\n",
       "      <th></th>\n",
       "    </tr>\n",
       "  </thead>\n",
       "  <tbody>\n",
       "    <tr>\n",
       "      <th>128940</th>\n",
       "      <td>한미약품</td>\n",
       "      <td>59385.666667</td>\n",
       "      <td>421000.0</td>\n",
       "    </tr>\n",
       "    <tr>\n",
       "      <th>130960</th>\n",
       "      <td>CJ E&amp;M</td>\n",
       "      <td>58540.666667</td>\n",
       "      <td>98900.0</td>\n",
       "    </tr>\n",
       "    <tr>\n",
       "      <th>138250</th>\n",
       "      <td>엔에스쇼핑</td>\n",
       "      <td>14558.666667</td>\n",
       "      <td>13200.0</td>\n",
       "    </tr>\n",
       "    <tr>\n",
       "      <th>139480</th>\n",
       "      <td>이마트</td>\n",
       "      <td>239230.833333</td>\n",
       "      <td>254500.0</td>\n",
       "    </tr>\n",
       "    <tr>\n",
       "      <th>142280</th>\n",
       "      <td>녹십자엠에스</td>\n",
       "      <td>468.833333</td>\n",
       "      <td>10200.0</td>\n",
       "    </tr>\n",
       "    <tr>\n",
       "      <th>145990</th>\n",
       "      <td>삼양사</td>\n",
       "      <td>82750.000000</td>\n",
       "      <td>82000.0</td>\n",
       "    </tr>\n",
       "    <tr>\n",
       "      <th>185750</th>\n",
       "      <td>종근당</td>\n",
       "      <td>40293.666667</td>\n",
       "      <td>100500.0</td>\n",
       "    </tr>\n",
       "    <tr>\n",
       "      <th>192400</th>\n",
       "      <td>쿠쿠홀딩스</td>\n",
       "      <td>179204.666667</td>\n",
       "      <td>177500.0</td>\n",
       "    </tr>\n",
       "    <tr>\n",
       "      <th>199800</th>\n",
       "      <td>툴젠</td>\n",
       "      <td>-2514.333333</td>\n",
       "      <td>115400.0</td>\n",
       "    </tr>\n",
       "    <tr>\n",
       "      <th>204210</th>\n",
       "      <td>모두투어리츠</td>\n",
       "      <td>3093.333333</td>\n",
       "      <td>3475.0</td>\n",
       "    </tr>\n",
       "    <tr>\n",
       "      <th>207940</th>\n",
       "      <td>삼성바이오로직스</td>\n",
       "      <td>NaN</td>\n",
       "      <td>91900.0</td>\n",
       "    </tr>\n",
       "  </tbody>\n",
       "</table>\n",
       "</div>"
      ],
      "text/plain": [
       "       stock_name          value     price\n",
       "id                                        \n",
       "128940       한미약품   59385.666667  421000.0\n",
       "130960     CJ E&M   58540.666667   98900.0\n",
       "138250      엔에스쇼핑   14558.666667   13200.0\n",
       "139480        이마트  239230.833333  254500.0\n",
       "142280     녹십자엠에스     468.833333   10200.0\n",
       "145990        삼양사   82750.000000   82000.0\n",
       "185750        종근당   40293.666667  100500.0\n",
       "192400      쿠쿠홀딩스  179204.666667  177500.0\n",
       "199800         툴젠   -2514.333333  115400.0\n",
       "204210     모두투어리츠    3093.333333    3475.0\n",
       "207940   삼성바이오로직스            NaN   91900.0"
      ]
     },
     "execution_count": 233,
     "metadata": {},
     "output_type": "execute_result"
    }
   ],
   "source": [
    "# (가 - 2) price가 NaN이면 제거\n",
    "DF4.dropna(subset='price')"
   ]
  },
  {
   "cell_type": "code",
   "execution_count": 241,
   "id": "86036af6",
   "metadata": {},
   "outputs": [
    {
     "ename": "TypeError",
     "evalue": "supplying multiple axes to axis is no longer supported.",
     "output_type": "error",
     "traceback": [
      "\u001b[1;31m---------------------------------------------------------------------------\u001b[0m",
      "\u001b[1;31mTypeError\u001b[0m                                 Traceback (most recent call last)",
      "\u001b[1;32m~\\AppData\\Local\\Temp\\ipykernel_12736\\2285640375.py\u001b[0m in \u001b[0;36m?\u001b[1;34m()\u001b[0m\n\u001b[1;32m----> 2\u001b[1;33m \u001b[1;31m# (가 - 3) value가 10000이하면 제거\u001b[0m\u001b[1;33m\u001b[0m\u001b[1;33m\u001b[0m\u001b[1;33m\u001b[0m\u001b[0m\n\u001b[0m\u001b[0;32m      3\u001b[0m \u001b[0mDF4\u001b[0m\u001b[1;33m.\u001b[0m\u001b[0mdropna\u001b[0m\u001b[1;33m(\u001b[0m\u001b[0mthresh\u001b[0m\u001b[1;33m=\u001b[0m\u001b[1;36m10000\u001b[0m\u001b[1;33m,\u001b[0m \u001b[0maxis\u001b[0m\u001b[1;33m=\u001b[0m\u001b[1;33m[\u001b[0m\u001b[1;34m'columns'\u001b[0m\u001b[1;33m]\u001b[0m\u001b[1;33m)\u001b[0m   \u001b[1;31m#  : 미완\u001b[0m\u001b[1;33m\u001b[0m\u001b[1;33m\u001b[0m\u001b[0m\n",
      "\u001b[1;32mc:\\ProgramData\\anaconda3\\envs\\My_38\\lib\\site-packages\\pandas\\core\\frame.py\u001b[0m in \u001b[0;36m?\u001b[1;34m(self, axis, how, thresh, subset, inplace, ignore_index)\u001b[0m\n\u001b[0;32m   6389\u001b[0m \u001b[1;33m\u001b[0m\u001b[0m\n\u001b[0;32m   6390\u001b[0m         \u001b[0minplace\u001b[0m \u001b[1;33m=\u001b[0m \u001b[0mvalidate_bool_kwarg\u001b[0m\u001b[1;33m(\u001b[0m\u001b[0minplace\u001b[0m\u001b[1;33m,\u001b[0m \u001b[1;34m\"inplace\"\u001b[0m\u001b[1;33m)\u001b[0m\u001b[1;33m\u001b[0m\u001b[1;33m\u001b[0m\u001b[0m\n\u001b[0;32m   6391\u001b[0m         \u001b[1;32mif\u001b[0m \u001b[0misinstance\u001b[0m\u001b[1;33m(\u001b[0m\u001b[0maxis\u001b[0m\u001b[1;33m,\u001b[0m \u001b[1;33m(\u001b[0m\u001b[0mtuple\u001b[0m\u001b[1;33m,\u001b[0m \u001b[0mlist\u001b[0m\u001b[1;33m)\u001b[0m\u001b[1;33m)\u001b[0m\u001b[1;33m:\u001b[0m\u001b[1;33m\u001b[0m\u001b[1;33m\u001b[0m\u001b[0m\n\u001b[0;32m   6392\u001b[0m             \u001b[1;31m# GH20987\u001b[0m\u001b[1;33m\u001b[0m\u001b[1;33m\u001b[0m\u001b[1;33m\u001b[0m\u001b[0m\n\u001b[1;32m-> 6393\u001b[1;33m             \u001b[1;32mraise\u001b[0m \u001b[0mTypeError\u001b[0m\u001b[1;33m(\u001b[0m\u001b[1;34m\"supplying multiple axes to axis is no longer supported.\"\u001b[0m\u001b[1;33m)\u001b[0m\u001b[1;33m\u001b[0m\u001b[1;33m\u001b[0m\u001b[0m\n\u001b[0m\u001b[0;32m   6394\u001b[0m \u001b[1;33m\u001b[0m\u001b[0m\n\u001b[0;32m   6395\u001b[0m         \u001b[0maxis\u001b[0m \u001b[1;33m=\u001b[0m \u001b[0mself\u001b[0m\u001b[1;33m.\u001b[0m\u001b[0m_get_axis_number\u001b[0m\u001b[1;33m(\u001b[0m\u001b[0maxis\u001b[0m\u001b[1;33m)\u001b[0m\u001b[1;33m\u001b[0m\u001b[1;33m\u001b[0m\u001b[0m\n\u001b[0;32m   6396\u001b[0m         \u001b[0magg_axis\u001b[0m \u001b[1;33m=\u001b[0m \u001b[1;36m1\u001b[0m \u001b[1;33m-\u001b[0m \u001b[0maxis\u001b[0m\u001b[1;33m\u001b[0m\u001b[1;33m\u001b[0m\u001b[0m\n",
      "\u001b[1;31mTypeError\u001b[0m: supplying multiple axes to axis is no longer supported."
     ]
    }
   ],
   "source": [
    "# (가 - 3) value가 10000이하면 제거\n",
    "DF4.dropna(thresh=10000, axis=['columns'])   #  : 미완"
   ]
  },
  {
   "cell_type": "code",
   "execution_count": 238,
   "id": "d570a534",
   "metadata": {},
   "outputs": [],
   "source": [
    "# (나) 평균값으로 결측치 대체, 이전/이후 값으로 결측치 대체"
   ]
  },
  {
   "cell_type": "code",
   "execution_count": null,
   "id": "dd69ae0e-a269-4457-8fc0-af8d0be3b4f5",
   "metadata": {},
   "outputs": [
    {
     "data": {
      "text/html": [
       "<div>\n",
       "<style scoped>\n",
       "    .dataframe tbody tr th:only-of-type {\n",
       "        vertical-align: middle;\n",
       "    }\n",
       "\n",
       "    .dataframe tbody tr th {\n",
       "        vertical-align: top;\n",
       "    }\n",
       "\n",
       "    .dataframe thead th {\n",
       "        text-align: right;\n",
       "    }\n",
       "</style>\n",
       "<table border=\"1\" class=\"dataframe\">\n",
       "  <thead>\n",
       "    <tr style=\"text-align: right;\">\n",
       "      <th></th>\n",
       "      <th>stock_name</th>\n",
       "      <th>value</th>\n",
       "      <th>price</th>\n",
       "    </tr>\n",
       "    <tr>\n",
       "      <th>id</th>\n",
       "      <th></th>\n",
       "      <th></th>\n",
       "      <th></th>\n",
       "    </tr>\n",
       "  </thead>\n",
       "  <tbody>\n",
       "    <tr>\n",
       "      <th>128940</th>\n",
       "      <td>한미약품</td>\n",
       "      <td>59385.666667</td>\n",
       "      <td>421000.0</td>\n",
       "    </tr>\n",
       "    <tr>\n",
       "      <th>138040</th>\n",
       "      <td>메리츠금융지주</td>\n",
       "      <td>827.500000</td>\n",
       "      <td>NaN</td>\n",
       "    </tr>\n",
       "    <tr>\n",
       "      <th>130960</th>\n",
       "      <td>CJ E&amp;M</td>\n",
       "      <td>58540.666667</td>\n",
       "      <td>98900.0</td>\n",
       "    </tr>\n",
       "    <tr>\n",
       "      <th>139480</th>\n",
       "      <td>이마트</td>\n",
       "      <td>239230.833333</td>\n",
       "      <td>254500.0</td>\n",
       "    </tr>\n",
       "    <tr>\n",
       "      <th>142280</th>\n",
       "      <td>녹십자엠에스</td>\n",
       "      <td>468.833333</td>\n",
       "      <td>10200.0</td>\n",
       "    </tr>\n",
       "    <tr>\n",
       "      <th>185750</th>\n",
       "      <td>종근당</td>\n",
       "      <td>40293.666667</td>\n",
       "      <td>100500.0</td>\n",
       "    </tr>\n",
       "    <tr>\n",
       "      <th>192400</th>\n",
       "      <td>쿠쿠홀딩스</td>\n",
       "      <td>179204.666667</td>\n",
       "      <td>177500.0</td>\n",
       "    </tr>\n",
       "    <tr>\n",
       "      <th>199800</th>\n",
       "      <td>툴젠</td>\n",
       "      <td>-2514.333333</td>\n",
       "      <td>115400.0</td>\n",
       "    </tr>\n",
       "    <tr>\n",
       "      <th>207940</th>\n",
       "      <td>삼성바이오로직스</td>\n",
       "      <td>NaN</td>\n",
       "      <td>91900.0</td>\n",
       "    </tr>\n",
       "  </tbody>\n",
       "</table>\n",
       "</div>"
      ],
      "text/plain": [
       "       stock_name          value     price\n",
       "id                                        \n",
       "128940       한미약품   59385.666667  421000.0\n",
       "138040    메리츠금융지주     827.500000       NaN\n",
       "130960     CJ E&M   58540.666667   98900.0\n",
       "139480        이마트  239230.833333  254500.0\n",
       "142280     녹십자엠에스     468.833333   10200.0\n",
       "185750        종근당   40293.666667  100500.0\n",
       "192400      쿠쿠홀딩스  179204.666667  177500.0\n",
       "199800         툴젠   -2514.333333  115400.0\n",
       "207940   삼성바이오로직스            NaN   91900.0"
      ]
     },
     "execution_count": 216,
     "metadata": {},
     "output_type": "execute_result"
    }
   ],
   "source": [
    "# 4. value가 1000이하 이거나 price가 90000이상인 데이터\n",
    "DF4[ (DF4.value <= 1000) | (DF4.price >= 90000) ]"
   ]
  },
  {
   "cell_type": "code",
   "execution_count": null,
   "id": "b01a6694",
   "metadata": {},
   "outputs": [],
   "source": []
  }
 ],
 "metadata": {
  "kernelspec": {
   "display_name": "Python 3 (ipykernel)",
   "language": "python",
   "name": "python3"
  },
  "language_info": {
   "codemirror_mode": {
    "name": "ipython",
    "version": 3
   },
   "file_extension": ".py",
   "mimetype": "text/x-python",
   "name": "python",
   "nbconvert_exporter": "python",
   "pygments_lexer": "ipython3",
   "version": "3.8.18"
  }
 },
 "nbformat": 4,
 "nbformat_minor": 5
}
