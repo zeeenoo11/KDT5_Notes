{
 "cells": [
  {
   "cell_type": "markdown",
   "id": "310fba96-85af-4e79-b153-18a4b6ce4edd",
   "metadata": {},
   "source": [
    "# [다양한 Series 객체 생성]"
   ]
  },
  {
   "cell_type": "code",
   "execution_count": 4,
   "id": "b04b545e-8887-4400-a15b-70d663f99cbf",
   "metadata": {},
   "outputs": [],
   "source": [
    "import pandas as pd"
   ]
  },
  {
   "cell_type": "markdown",
   "id": "c9733015-3fb0-4271-bffa-e662cd97e850",
   "metadata": {},
   "source": [
    "### (2) Series 객체 생성 - 방법 1"
   ]
  },
  {
   "cell_type": "code",
   "execution_count": 5,
   "id": "05f20726-83ad-4155-8093-fb7286573e03",
   "metadata": {},
   "outputs": [],
   "source": [
    "# Series( data, index=지정 ) "
   ]
  },
  {
   "cell_type": "code",
   "execution_count": 6,
   "id": "03750ac2-49f9-4920-8adb-508055f6438d",
   "metadata": {},
   "outputs": [
    {
     "data": {
      "text/plain": [
       "one      11\n",
       "two      22\n",
       "three    33\n",
       "dtype: int64"
      ]
     },
     "execution_count": 6,
     "metadata": {},
     "output_type": "execute_result"
    }
   ],
   "source": [
    "# index=[ ] 으로 인덱스 지정하기\n",
    "sr1=pd.Series([11,22,33], index=['one', 'two', 'three'])\n",
    "sr1"
   ]
  },
  {
   "cell_type": "markdown",
   "id": "f77bbfc6-f7d0-4902-8679-3f17e258fb4f",
   "metadata": {},
   "source": [
    "### (2) Series 객체 생성 - 방법 2"
   ]
  },
  {
   "cell_type": "code",
   "execution_count": 7,
   "id": "0e04a444-937b-4ca1-b983-4c941cd5fd97",
   "metadata": {},
   "outputs": [
    {
     "data": {
      "text/plain": [
       "one      11\n",
       "two      22\n",
       "three    33\n",
       "Name: Score, dtype: int64"
      ]
     },
     "execution_count": 7,
     "metadata": {},
     "output_type": "execute_result"
    }
   ],
   "source": [
    "# name=' ' 으로 이름을 저장하기\n",
    "sr1=pd.Series([11,22,33], index=['one', 'two', 'three'], name='Score')\n",
    "sr1"
   ]
  },
  {
   "cell_type": "markdown",
   "id": "b414657c-64f1-4ee8-8130-041563d46f91",
   "metadata": {},
   "source": [
    "### (3) Series 객체 생성 - 방법 3"
   ]
  },
  {
   "cell_type": "code",
   "execution_count": 8,
   "id": "763c335e-86c7-409b-abe7-2a2a625333ae",
   "metadata": {},
   "outputs": [
    {
     "data": {
      "text/plain": [
       "one      11\n",
       "two      22\n",
       "three    33\n",
       "Name: Score, dtype: uint8"
      ]
     },
     "execution_count": 8,
     "metadata": {},
     "output_type": "execute_result"
    }
   ],
   "source": [
    "# dtype = \n",
    "sr1=pd.Series([11,22,33], index=['one', 'two', 'three'], name='Score', dtype='uint8')\n",
    "sr1"
   ]
  },
  {
   "cell_type": "code",
   "execution_count": 9,
   "id": "87a393be-e67b-4d59-8398-d7574b16f457",
   "metadata": {},
   "outputs": [
    {
     "data": {
      "text/plain": [
       "name    홍길동\n",
       "age      12\n",
       "job      도적\n",
       "dtype: object"
      ]
     },
     "execution_count": 9,
     "metadata": {},
     "output_type": "execute_result"
    }
   ],
   "source": [
    "data = {'name':'홍길동', 'age':12, 'job':'도적'}\n",
    "sr1= pd.Series(data)\n",
    "sr1\n",
    "# 딕셔너리: 키가 인덱스로 들어감"
   ]
  },
  {
   "cell_type": "code",
   "execution_count": 10,
   "id": "c9ce7bd7-3019-4d6b-bbe7-257d505816c7",
   "metadata": {},
   "outputs": [
    {
     "name": "stdout",
     "output_type": "stream",
     "text": [
      "Index(['name', 'age', 'job'], dtype='object')\n",
      "['홍길동' 12 '도적']\n"
     ]
    }
   ],
   "source": [
    "# 속성 확인하기 - 리스트\n",
    "print(sr1.index, sr1.values, sep='\\n')"
   ]
  },
  {
   "cell_type": "code",
   "execution_count": 11,
   "id": "550b4175-aecc-45c0-8d3e-09bcc14c3ae9",
   "metadata": {},
   "outputs": [
    {
     "data": {
      "text/plain": [
       "(Index(['name', 'age', 'job'], dtype='object'),\n",
       " array(['홍길동', 12, '도적'], dtype=object))"
      ]
     },
     "execution_count": 11,
     "metadata": {},
     "output_type": "execute_result"
    }
   ],
   "source": [
    "sr1.index, sr1.values"
   ]
  },
  {
   "cell_type": "code",
   "execution_count": 12,
   "id": "9abb0521-4265-4409-a747-a4994e0cd825",
   "metadata": {},
   "outputs": [
    {
     "data": {
      "text/plain": [
       "1    홍길동\n",
       "2     12\n",
       "3     도적\n",
       "dtype: object"
      ]
     },
     "execution_count": 12,
     "metadata": {},
     "output_type": "execute_result"
    }
   ],
   "source": [
    "# set( ) => 순서가 없으니 그대로 넣지 못함\n",
    "data = {'홍길동', 12, '도적'}             # 그대로 못 넣음!\n",
    "\n",
    "# sr1-pd.Series(data, index=[1,2,3])     # typeError\n",
    "sr1=pd.Series(list(data), index=[1,2,3]) # list( ) 로 형변환 해야 한다.\n",
    "sr1\n"
   ]
  },
  {
   "cell_type": "code",
   "execution_count": 13,
   "id": "0b579b43-44b0-47ce-924f-26b445c5dc32",
   "metadata": {},
   "outputs": [
    {
     "data": {
      "text/plain": [
       "count       3\n",
       "unique      3\n",
       "top       홍길동\n",
       "freq        1\n",
       "dtype: object"
      ]
     },
     "execution_count": 13,
     "metadata": {},
     "output_type": "execute_result"
    }
   ],
   "source": [
    "sr1.describe()"
   ]
  },
  {
   "cell_type": "code",
   "execution_count": null,
   "id": "9f27d2e2",
   "metadata": {},
   "outputs": [],
   "source": []
  }
 ],
 "metadata": {
  "kernelspec": {
   "display_name": "Python 3 (ipykernel)",
   "language": "python",
   "name": "python3"
  },
  "language_info": {
   "codemirror_mode": {
    "name": "ipython",
    "version": 3
   },
   "file_extension": ".py",
   "mimetype": "text/x-python",
   "name": "python",
   "nbconvert_exporter": "python",
   "pygments_lexer": "ipython3",
   "version": "3.8.18"
  }
 },
 "nbformat": 4,
 "nbformat_minor": 5
}
