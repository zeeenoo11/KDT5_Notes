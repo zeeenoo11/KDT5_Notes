{
 "cells": [
  {
   "cell_type": "markdown",
   "id": "f8bef532-b38a-45a2-ba42-57ce33c84428",
   "metadata": {},
   "source": [
    "# [ DataFrame 살펴보기 ]\n",
    "* 데이터를 테이블, 즉 표 형태로 저장하는 자료 구조\n",
    "* 구성 : 행 + 열\n",
    "* 생성 : pandas.DataFrame() 생성자 메서드"
   ]
  },
  {
   "cell_type": "markdown",
   "id": "cdb5049f-56f6-4643-92ec-e7e3c14d9e91",
   "metadata": {},
   "source": [
    "### (1) 모듈 로딩 --------------------------"
   ]
  },
  {
   "cell_type": "code",
   "execution_count": 7,
   "id": "5035661d-3f89-4e0b-9429-f2b132d89a35",
   "metadata": {},
   "outputs": [],
   "source": [
    "from pandas import DataFrame"
   ]
  },
  {
   "cell_type": "markdown",
   "id": "a9809e5e-9d5d-4f17-baee-5ada887e4f57",
   "metadata": {},
   "source": [
    "### (2) 데이터 준비 --------------------------"
   ]
  },
  {
   "cell_type": "code",
   "execution_count": 104,
   "id": "ba0cb067-bc1f-451f-b855-cc79d015e633",
   "metadata": {},
   "outputs": [],
   "source": [
    "data = [ [11, 22, 33], [44, 55, 66], [77, 88, 99] ]"
   ]
  },
  {
   "cell_type": "markdown",
   "id": "75fbfcff-efdd-4315-8ee3-36988376c941",
   "metadata": {},
   "source": [
    "### (3) DataFrame으로 저장 (= 객체 생성) --------------------------"
   ]
  },
  {
   "cell_type": "code",
   "execution_count": 105,
   "id": "3922f464-3a2b-4e34-9a9b-2439e6a26352",
   "metadata": {},
   "outputs": [
    {
     "data": {
      "text/html": [
       "<div>\n",
       "<style scoped>\n",
       "    .dataframe tbody tr th:only-of-type {\n",
       "        vertical-align: middle;\n",
       "    }\n",
       "\n",
       "    .dataframe tbody tr th {\n",
       "        vertical-align: top;\n",
       "    }\n",
       "\n",
       "    .dataframe thead th {\n",
       "        text-align: right;\n",
       "    }\n",
       "</style>\n",
       "<table border=\"1\" class=\"dataframe\">\n",
       "  <thead>\n",
       "    <tr style=\"text-align: right;\">\n",
       "      <th></th>\n",
       "      <th>0</th>\n",
       "      <th>1</th>\n",
       "      <th>2</th>\n",
       "    </tr>\n",
       "  </thead>\n",
       "  <tbody>\n",
       "    <tr>\n",
       "      <th>0</th>\n",
       "      <td>11</td>\n",
       "      <td>22</td>\n",
       "      <td>33</td>\n",
       "    </tr>\n",
       "    <tr>\n",
       "      <th>1</th>\n",
       "      <td>44</td>\n",
       "      <td>55</td>\n",
       "      <td>66</td>\n",
       "    </tr>\n",
       "    <tr>\n",
       "      <th>2</th>\n",
       "      <td>77</td>\n",
       "      <td>88</td>\n",
       "      <td>99</td>\n",
       "    </tr>\n",
       "  </tbody>\n",
       "</table>\n",
       "</div>"
      ],
      "text/plain": [
       "    0   1   2\n",
       "0  11  22  33\n",
       "1  44  55  66\n",
       "2  77  88  99"
      ]
     },
     "execution_count": 105,
     "metadata": {},
     "output_type": "execute_result"
    }
   ],
   "source": [
    "df1 = DataFrame(data)\n",
    "df1\n",
    "# list를 주면 행으로 들어간다? \n",
    "# => 데이터 타입은 같은 열 내에서 같음\n",
    "# => 리스트 내 데이터 타입 순서가 다 같아야 함!"
   ]
  },
  {
   "cell_type": "markdown",
   "id": "c11dcd40-8e12-4c41-a0dc-5ea1889400cc",
   "metadata": {},
   "source": [
    "### (4) DataFrame의 속성 읽기 => 객체변수명.속성명 ------------------"
   ]
  },
  {
   "cell_type": "code",
   "execution_count": 10,
   "id": "b3dc5704-a9da-4b9a-9067-a25eebdfbf27",
   "metadata": {},
   "outputs": [
    {
     "data": {
      "text/plain": [
       "RangeIndex(start=0, stop=2, step=1)"
      ]
     },
     "execution_count": 10,
     "metadata": {},
     "output_type": "execute_result"
    }
   ],
   "source": [
    "df1.index    # 행"
   ]
  },
  {
   "cell_type": "code",
   "execution_count": 14,
   "id": "7b0c7147-fee5-4875-a811-039643146bb8",
   "metadata": {},
   "outputs": [
    {
     "data": {
      "text/plain": [
       "RangeIndex(start=0, stop=3, step=1)"
      ]
     },
     "execution_count": 14,
     "metadata": {},
     "output_type": "execute_result"
    }
   ],
   "source": [
    "df1.columns  # 열"
   ]
  },
  {
   "cell_type": "code",
   "execution_count": 15,
   "id": "79053b07-bc38-415f-a406-5ff513fbc01a",
   "metadata": {},
   "outputs": [
    {
     "data": {
      "text/plain": [
       "array([[11, 22, 33],\n",
       "       [44, 55, 66]], dtype=int64)"
      ]
     },
     "execution_count": 15,
     "metadata": {},
     "output_type": "execute_result"
    }
   ],
   "source": [
    "df1.values   # 값; 리스트로 반환 (자동 줄바꿈)"
   ]
  },
  {
   "cell_type": "code",
   "execution_count": 17,
   "id": "0838934a-8d3e-4cd4-b471-f8051feb96be",
   "metadata": {},
   "outputs": [
    {
     "data": {
      "text/plain": [
       "(2, 3)"
      ]
     },
     "execution_count": 17,
     "metadata": {},
     "output_type": "execute_result"
    }
   ],
   "source": [
    "df1.shape  # 2행 3열 => 행, 열"
   ]
  },
  {
   "cell_type": "code",
   "execution_count": 19,
   "id": "1d5b3562-5259-4abf-ba78-5cd3c3cbb648",
   "metadata": {},
   "outputs": [
    {
     "data": {
      "text/plain": [
       "2"
      ]
     },
     "execution_count": 19,
     "metadata": {},
     "output_type": "execute_result"
    }
   ],
   "source": [
    "df1.ndim   # n dimension : 차원 정보 반환"
   ]
  },
  {
   "cell_type": "code",
   "execution_count": 20,
   "id": "8b276598-459b-4451-9091-9549bbc61a1b",
   "metadata": {},
   "outputs": [
    {
     "data": {
      "text/plain": [
       "0    int64\n",
       "1    int64\n",
       "2    int64\n",
       "dtype: object"
      ]
     },
     "execution_count": 20,
     "metadata": {},
     "output_type": "execute_result"
    }
   ],
   "source": [
    "df1.dtypes # column 별 데이터 타입"
   ]
  },
  {
   "cell_type": "markdown",
   "id": "e9d192da-e781-4f88-8740-5b72325e7a9b",
   "metadata": {},
   "source": [
    "### (5) 원소 읽기; 행과 열 지정 ==> 1개의 원소  "
   ]
  },
  {
   "cell_type": "markdown",
   "id": "194e16e5-387e-40fe-98a9-04374dc3c200",
   "metadata": {},
   "source": [
    "#### (5-1) 컬럼 (열) 읽기 : [index]"
   ]
  },
  {
   "cell_type": "code",
   "execution_count": 23,
   "id": "6a2de776-73fe-4b69-bb3d-868aa5a4f544",
   "metadata": {},
   "outputs": [
    {
     "data": {
      "text/plain": [
       "0    11\n",
       "1    44\n",
       "Name: 0, dtype: int64"
      ]
     },
     "execution_count": 23,
     "metadata": {},
     "output_type": "execute_result"
    }
   ],
   "source": [
    "df1[0]   # 0번 열"
   ]
  },
  {
   "cell_type": "code",
   "execution_count": 108,
   "id": "4c36d05d-00b2-4051-a473-0982971ec161",
   "metadata": {},
   "outputs": [
    {
     "data": {
      "text/html": [
       "<div>\n",
       "<style scoped>\n",
       "    .dataframe tbody tr th:only-of-type {\n",
       "        vertical-align: middle;\n",
       "    }\n",
       "\n",
       "    .dataframe tbody tr th {\n",
       "        vertical-align: top;\n",
       "    }\n",
       "\n",
       "    .dataframe thead th {\n",
       "        text-align: right;\n",
       "    }\n",
       "</style>\n",
       "<table border=\"1\" class=\"dataframe\">\n",
       "  <thead>\n",
       "    <tr style=\"text-align: right;\">\n",
       "      <th></th>\n",
       "      <th>A</th>\n",
       "      <th>B</th>\n",
       "      <th>C</th>\n",
       "    </tr>\n",
       "  </thead>\n",
       "  <tbody>\n",
       "    <tr>\n",
       "      <th>0</th>\n",
       "      <td>11</td>\n",
       "      <td>22</td>\n",
       "      <td>33</td>\n",
       "    </tr>\n",
       "    <tr>\n",
       "      <th>1</th>\n",
       "      <td>44</td>\n",
       "      <td>55</td>\n",
       "      <td>66</td>\n",
       "    </tr>\n",
       "    <tr>\n",
       "      <th>2</th>\n",
       "      <td>77</td>\n",
       "      <td>88</td>\n",
       "      <td>99</td>\n",
       "    </tr>\n",
       "  </tbody>\n",
       "</table>\n",
       "</div>"
      ],
      "text/plain": [
       "    A   B   C\n",
       "0  11  22  33\n",
       "1  44  55  66\n",
       "2  77  88  99"
      ]
     },
     "execution_count": 108,
     "metadata": {},
     "output_type": "execute_result"
    }
   ],
   "source": [
    "# 컬럼 변경하기\n",
    "df1.columns = ['A', 'B','C']\n",
    "df1"
   ]
  },
  {
   "cell_type": "code",
   "execution_count": 43,
   "id": "d9f5796d-c9f8-4070-ae8e-65cd43c1e22e",
   "metadata": {},
   "outputs": [
    {
     "data": {
      "text/plain": [
       "A    11\n",
       "B    44\n",
       "Name: A, dtype: int64"
      ]
     },
     "execution_count": 43,
     "metadata": {},
     "output_type": "execute_result"
    }
   ],
   "source": [
    "df1['A']"
   ]
  },
  {
   "cell_type": "code",
   "execution_count": 44,
   "id": "3d91b5c7-b97d-4e52-b6c0-687cbf262fe7",
   "metadata": {},
   "outputs": [
    {
     "data": {
      "text/plain": [
       "A    11\n",
       "B    44\n",
       "Name: A, dtype: int64"
      ]
     },
     "execution_count": 44,
     "metadata": {},
     "output_type": "execute_result"
    }
   ],
   "source": [
    "df1.A   # 숫자랑은 쓸 수 없다 ( df1.0 -> X )"
   ]
  },
  {
   "cell_type": "code",
   "execution_count": 48,
   "id": "bafaa620-adf1-43d2-a1ef-24efce4cd1e4",
   "metadata": {},
   "outputs": [
    {
     "data": {
      "text/html": [
       "<div>\n",
       "<style scoped>\n",
       "    .dataframe tbody tr th:only-of-type {\n",
       "        vertical-align: middle;\n",
       "    }\n",
       "\n",
       "    .dataframe tbody tr th {\n",
       "        vertical-align: top;\n",
       "    }\n",
       "\n",
       "    .dataframe thead th {\n",
       "        text-align: right;\n",
       "    }\n",
       "</style>\n",
       "<table border=\"1\" class=\"dataframe\">\n",
       "  <thead>\n",
       "    <tr style=\"text-align: right;\">\n",
       "      <th></th>\n",
       "      <th>0</th>\n",
       "      <th>1</th>\n",
       "      <th>2</th>\n",
       "    </tr>\n",
       "  </thead>\n",
       "  <tbody>\n",
       "    <tr>\n",
       "      <th>A</th>\n",
       "      <td>11</td>\n",
       "      <td>22</td>\n",
       "      <td>33</td>\n",
       "    </tr>\n",
       "    <tr>\n",
       "      <th>B</th>\n",
       "      <td>44</td>\n",
       "      <td>55</td>\n",
       "      <td>66</td>\n",
       "    </tr>\n",
       "  </tbody>\n",
       "</table>\n",
       "</div>"
      ],
      "text/plain": [
       "    0   1   2\n",
       "A  11  22  33\n",
       "B  44  55  66"
      ]
     },
     "execution_count": 48,
     "metadata": {},
     "output_type": "execute_result"
    }
   ],
   "source": [
    "df1.columns=[0,1,2]\n",
    "# df1.0  => 숫자는 불가"
   ]
  },
  {
   "cell_type": "code",
   "execution_count": 110,
   "id": "da7c3322-9a55-48dd-819c-aea50b512fe7",
   "metadata": {},
   "outputs": [
    {
     "data": {
      "text/html": [
       "<div>\n",
       "<style scoped>\n",
       "    .dataframe tbody tr th:only-of-type {\n",
       "        vertical-align: middle;\n",
       "    }\n",
       "\n",
       "    .dataframe tbody tr th {\n",
       "        vertical-align: top;\n",
       "    }\n",
       "\n",
       "    .dataframe thead th {\n",
       "        text-align: right;\n",
       "    }\n",
       "</style>\n",
       "<table border=\"1\" class=\"dataframe\">\n",
       "  <thead>\n",
       "    <tr style=\"text-align: right;\">\n",
       "      <th></th>\n",
       "      <th>A</th>\n",
       "      <th>B</th>\n",
       "      <th>C</th>\n",
       "    </tr>\n",
       "  </thead>\n",
       "  <tbody>\n",
       "    <tr>\n",
       "      <th>one</th>\n",
       "      <td>11</td>\n",
       "      <td>22</td>\n",
       "      <td>33</td>\n",
       "    </tr>\n",
       "    <tr>\n",
       "      <th>two</th>\n",
       "      <td>44</td>\n",
       "      <td>55</td>\n",
       "      <td>66</td>\n",
       "    </tr>\n",
       "    <tr>\n",
       "      <th>three</th>\n",
       "      <td>77</td>\n",
       "      <td>88</td>\n",
       "      <td>99</td>\n",
       "    </tr>\n",
       "  </tbody>\n",
       "</table>\n",
       "</div>"
      ],
      "text/plain": [
       "        A   B   C\n",
       "one    11  22  33\n",
       "two    44  55  66\n",
       "three  77  88  99"
      ]
     },
     "execution_count": 110,
     "metadata": {},
     "output_type": "execute_result"
    }
   ],
   "source": [
    "# 컬\n",
    "df1.index = ['one', 'two', 'three']\n",
    "df1"
   ]
  },
  {
   "cell_type": "markdown",
   "id": "7817fc51-be1c-44a3-b231-1bd11a3b1f8d",
   "metadata": {},
   "source": [
    "### (6) 행 읽기 ==> 방법 2가지\n",
    "    * 위치 인덱스로 읽기 : 객체변수명.iloc[index]\n",
    "    * 레이블 인덱스로 읽기 : 객체변수명.loc[인덱스(명)]"
   ]
  },
  {
   "cell_type": "code",
   "execution_count": 60,
   "id": "2db30723-2896-4a82-8804-f29939f94a21",
   "metadata": {},
   "outputs": [
    {
     "data": {
      "text/plain": [
       "0    11\n",
       "1    22\n",
       "2    33\n",
       "Name: one, dtype: int64"
      ]
     },
     "execution_count": 60,
     "metadata": {},
     "output_type": "execute_result"
    }
   ],
   "source": [
    "df1.loc['one']   # 열을 이름으로 읽기\n",
    "# 참고 : type(df1.loc['one']) = Series"
   ]
  },
  {
   "cell_type": "code",
   "execution_count": 59,
   "id": "d0ff6d17-141e-4e0c-87af-e2eb066a9aa6",
   "metadata": {},
   "outputs": [
    {
     "data": {
      "text/plain": [
       "0    11\n",
       "1    22\n",
       "2    33\n",
       "Name: one, dtype: int64"
      ]
     },
     "execution_count": 59,
     "metadata": {},
     "output_type": "execute_result"
    }
   ],
   "source": [
    "df1.iloc[0]    # 열을 인덱스로 읽기"
   ]
  },
  {
   "cell_type": "markdown",
   "id": "6dc2f17c-8b08-4f64-ab0a-7fb6981fdc58",
   "metadata": {},
   "source": [
    "### (6) 모든 원소를 한 번에 한 개씩만 출력"
   ]
  },
  {
   "cell_type": "code",
   "execution_count": 61,
   "id": "51745205-7692-49f1-9da2-4d97898d3bd7",
   "metadata": {},
   "outputs": [
    {
     "data": {
      "text/html": [
       "<div>\n",
       "<style scoped>\n",
       "    .dataframe tbody tr th:only-of-type {\n",
       "        vertical-align: middle;\n",
       "    }\n",
       "\n",
       "    .dataframe tbody tr th {\n",
       "        vertical-align: top;\n",
       "    }\n",
       "\n",
       "    .dataframe thead th {\n",
       "        text-align: right;\n",
       "    }\n",
       "</style>\n",
       "<table border=\"1\" class=\"dataframe\">\n",
       "  <thead>\n",
       "    <tr style=\"text-align: right;\">\n",
       "      <th></th>\n",
       "      <th>0</th>\n",
       "      <th>1</th>\n",
       "      <th>2</th>\n",
       "    </tr>\n",
       "  </thead>\n",
       "  <tbody>\n",
       "    <tr>\n",
       "      <th>one</th>\n",
       "      <td>11</td>\n",
       "      <td>22</td>\n",
       "      <td>33</td>\n",
       "    </tr>\n",
       "    <tr>\n",
       "      <th>two</th>\n",
       "      <td>44</td>\n",
       "      <td>55</td>\n",
       "      <td>66</td>\n",
       "    </tr>\n",
       "  </tbody>\n",
       "</table>\n",
       "</div>"
      ],
      "text/plain": [
       "      0   1   2\n",
       "one  11  22  33\n",
       "two  44  55  66"
      ]
     },
     "execution_count": 61,
     "metadata": {},
     "output_type": "execute_result"
    }
   ],
   "source": [
    "df1"
   ]
  },
  {
   "cell_type": "code",
   "execution_count": 72,
   "id": "889436a3-d6c9-46fa-b613-14d96dcfe026",
   "metadata": {},
   "outputs": [
    {
     "name": "stdout",
     "output_type": "stream",
     "text": [
      "11\n",
      "44\n",
      "22\n",
      "55\n",
      "33\n",
      "66\n"
     ]
    }
   ],
   "source": [
    "# 방법 1 : 0열부터 잘못 뽑았는데 정상 작동은 하기에\n",
    "for col in df1.columns:   # columns 만으로 for 돌아감\n",
    "    for idx in df1.index:\n",
    "        print(df1[col].loc[idx])  # 인덱스명이 따로 지정되어 있으므로 .loc"
   ]
  },
  {
   "cell_type": "code",
   "execution_count": 77,
   "id": "92cc6977-ebf4-478f-80e8-1b6ac5312ef1",
   "metadata": {},
   "outputs": [
    {
     "name": "stdout",
     "output_type": "stream",
     "text": [
      "11\n",
      "44\n",
      "22\n",
      "55\n",
      "33\n",
      "66\n"
     ]
    }
   ],
   "source": [
    "# 방법 2 : .iloc[idx, col]\n",
    "for col in df1.columns:\n",
    "    for idx in df1.index:\n",
    "        print(df1.loc[idx, col])    # [idx, col] 로 좌표를 나타낼 수 있다\n",
    "\n",
    "# 제대로 이해하려면 for idx / for idx 해야함\n",
    "# 행 -> 열로 접근!!\n",
    "# DataFrame 으로 만들고 -> 한 행씩 가로로 읽어간다고 느끼기 "
   ]
  },
  {
   "cell_type": "code",
   "execution_count": 78,
   "id": "f3671432-c5a8-4af1-8335-ae9281a97699",
   "metadata": {},
   "outputs": [
    {
     "data": {
      "text/plain": [
       "22"
      ]
     },
     "execution_count": 78,
     "metadata": {},
     "output_type": "execute_result"
    }
   ],
   "source": [
    "df1.iloc[0,1]   # i loc 는 무조건 숫자"
   ]
  },
  {
   "cell_type": "code",
   "execution_count": 80,
   "id": "07270442-8ae0-4a68-9018-49d7ccff26c6",
   "metadata": {},
   "outputs": [
    {
     "data": {
      "text/plain": [
       "22"
      ]
     },
     "execution_count": 80,
     "metadata": {},
     "output_type": "execute_result"
    }
   ],
   "source": [
    "df1.iloc[0][1]  # 이렇게 인덱스를 따로 표현해도 됨"
   ]
  },
  {
   "cell_type": "markdown",
   "id": "4812328d-6db6-4e9f-97e9-f0def3d09bdd",
   "metadata": {},
   "source": [
    "#### - 객체ㅇㅇㅇ.iloc = [행인덱스, 열인덱스], ㅇㅇㅇ.loc(행레이블, 열이름)"
   ]
  },
  {
   "cell_type": "code",
   "execution_count": 87,
   "id": "ceeec88b-18e1-494c-b1a8-2a24d41636e6",
   "metadata": {},
   "outputs": [
    {
     "data": {
      "text/plain": [
       "A    11\n",
       "B    22\n",
       "C    33\n",
       "Name: one, dtype: int64"
      ]
     },
     "execution_count": 87,
     "metadata": {},
     "output_type": "execute_result"
    }
   ],
   "source": [
    "zero = df1.iloc[0]    # 이건 행 기준으로 뽑는 거\n",
    "zero"
   ]
  },
  {
   "cell_type": "code",
   "execution_count": 88,
   "id": "b236740b-97fe-4d95-a27e-8cda17ff5cbc",
   "metadata": {},
   "outputs": [
    {
     "data": {
      "text/plain": [
       "one    22\n",
       "two    55\n",
       "Name: B, dtype: int64"
      ]
     },
     "execution_count": 88,
     "metadata": {},
     "output_type": "execute_result"
    }
   ],
   "source": [
    "b = df1['B']      # 이건 열 기준으로 뽑는 거\n",
    "b"
   ]
  },
  {
   "cell_type": "code",
   "execution_count": 93,
   "id": "726d2aed-b62b-4a04-9297-2df2dfc93eda",
   "metadata": {},
   "outputs": [
    {
     "data": {
      "text/plain": [
       "(2, 3)"
      ]
     },
     "execution_count": 93,
     "metadata": {},
     "output_type": "execute_result"
    }
   ],
   "source": [
    "# 개꿀팁!!!! 이렇게 행 열 수를 추출할 수 있다(for)\n",
    "df1.shape[0], df1.shape[1]    # shape -> (행, 열)"
   ]
  },
  {
   "cell_type": "code",
   "execution_count": 98,
   "id": "5409d619-440a-457c-8b46-cc914d1c4012",
   "metadata": {},
   "outputs": [
    {
     "name": "stdout",
     "output_type": "stream",
     "text": [
      "0\n",
      "0 0 11\n",
      "0 1 22\n",
      "0 2 33\n",
      "1\n",
      "1 0 44\n",
      "1 1 55\n",
      "1 2 66\n"
     ]
    }
   ],
   "source": [
    "# iloc를 활용한 모든 원소 출력 => 행과 열의 번호\n",
    "for row in range(df1.shape[0]):\n",
    "    print(row)\n",
    "    for col in range(df1.shape[1]):\n",
    "        print(row, col, df1.iloc[row, col])"
   ]
  },
  {
   "cell_type": "markdown",
   "id": "77307308-3f90-4d12-bd8b-23ab5df2b6a4",
   "metadata": {},
   "source": [
    "* loc를 활용한 모든 원소 출력 ==> 행 레이블/이름과 열 레이블/이름"
   ]
  },
  {
   "cell_type": "code",
   "execution_count": 99,
   "id": "274c2fa9-9102-44cf-bbe2-1db1b1865d81",
   "metadata": {},
   "outputs": [
    {
     "data": {
      "text/plain": [
       "(Index(['one', 'two'], dtype='object'), Index(['A', 'B', 'C'], dtype='object'))"
      ]
     },
     "execution_count": 99,
     "metadata": {},
     "output_type": "execute_result"
    }
   ],
   "source": [
    "df1.index, df1.columns"
   ]
  },
  {
   "cell_type": "code",
   "execution_count": 111,
   "id": "fa5b9f82-da91-4d03-8bba-0ea643147433",
   "metadata": {},
   "outputs": [
    {
     "name": "stdout",
     "output_type": "stream",
     "text": [
      "one\n",
      "one A 11\n",
      "one B 22\n",
      "one C 33\n",
      "two\n",
      "two A 44\n",
      "two B 55\n",
      "two C 66\n",
      "three\n",
      "three A 77\n",
      "three B 88\n",
      "three C 99\n"
     ]
    }
   ],
   "source": [
    "for row in df1.index:\n",
    "    print(row)\n",
    "    for col in df1.columns:\n",
    "        print(row, col, df1.loc[row, col])"
   ]
  },
  {
   "cell_type": "markdown",
   "id": "1dd68101-687e-4a91-9418-e669a1ad1775",
   "metadata": {},
   "source": [
    "### [문제] one, three 행을 선택 후 저장"
   ]
  },
  {
   "cell_type": "code",
   "execution_count": 118,
   "id": "896d47eb-db83-493b-8240-7a4d4a73b0d0",
   "metadata": {},
   "outputs": [
    {
     "data": {
      "text/plain": [
       "(        A   B   C\n",
       " one    11  22  33\n",
       " three  77  88  99,\n",
       " pandas.core.frame.DataFrame)"
      ]
     },
     "execution_count": 118,
     "metadata": {},
     "output_type": "execute_result"
    }
   ],
   "source": [
    "# 내 풀이 \n",
    "saved = df1.loc['one'], df1.loc['three']\n",
    "saved\n",
    "# 윤서 풀이 - 천잰가??\n",
    "saved = df1.loc[['one', 'three']]\n",
    "saved, type(saved)"
   ]
  },
  {
   "cell_type": "code",
   "execution_count": 117,
   "id": "ef2cc9ab-490a-44d8-9c71-ebaf1c6115cd",
   "metadata": {},
   "outputs": [
    {
     "data": {
      "text/html": [
       "<div>\n",
       "<style scoped>\n",
       "    .dataframe tbody tr th:only-of-type {\n",
       "        vertical-align: middle;\n",
       "    }\n",
       "\n",
       "    .dataframe tbody tr th {\n",
       "        vertical-align: top;\n",
       "    }\n",
       "\n",
       "    .dataframe thead th {\n",
       "        text-align: right;\n",
       "    }\n",
       "</style>\n",
       "<table border=\"1\" class=\"dataframe\">\n",
       "  <thead>\n",
       "    <tr style=\"text-align: right;\">\n",
       "      <th></th>\n",
       "      <th>A</th>\n",
       "      <th>B</th>\n",
       "      <th>C</th>\n",
       "    </tr>\n",
       "  </thead>\n",
       "  <tbody>\n",
       "    <tr>\n",
       "      <th>one</th>\n",
       "      <td>11</td>\n",
       "      <td>22</td>\n",
       "      <td>33</td>\n",
       "    </tr>\n",
       "  </tbody>\n",
       "</table>\n",
       "</div>"
      ],
      "text/plain": [
       "      A   B   C\n",
       "one  11  22  33"
      ]
     },
     "execution_count": 117,
     "metadata": {},
     "output_type": "execute_result"
    }
   ],
   "source": [
    "df1.loc[['one']]"
   ]
  },
  {
   "cell_type": "code",
   "execution_count": null,
   "id": "ac138c35-3b13-4184-b898-37efa4494079",
   "metadata": {},
   "outputs": [],
   "source": []
  }
 ],
 "metadata": {
  "kernelspec": {
   "display_name": "Python 3 (ipykernel)",
   "language": "python",
   "name": "python3"
  },
  "language_info": {
   "codemirror_mode": {
    "name": "ipython",
    "version": 3
   },
   "file_extension": ".py",
   "mimetype": "text/x-python",
   "name": "python",
   "nbconvert_exporter": "python",
   "pygments_lexer": "ipython3",
   "version": "3.8.18"
  }
 },
 "nbformat": 4,
 "nbformat_minor": 5
}
