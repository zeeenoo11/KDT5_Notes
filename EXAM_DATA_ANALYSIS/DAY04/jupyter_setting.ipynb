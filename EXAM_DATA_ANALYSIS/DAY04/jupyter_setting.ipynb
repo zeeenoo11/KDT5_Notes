{
 "cells": [
  {
   "cell_type": "code",
   "execution_count": 1,
   "metadata": {},
   "outputs": [
    {
     "name": "stdout",
     "output_type": "stream",
     "text": [
      " C ����̺��� �������� �̸��� �����ϴ�.\n",
      " ���� �Ϸ� ��ȣ: 98BB-BD2D\n",
      "\n",
      " c:\\Users\\wjs31\\PycharmProjects\\DATA_ANALYSIS\\EXAM_DATA_ANALYSIS\\DAY04 ���͸�\n",
      "\n",
      "2024-01-29  ���� 11:12    <DIR>          .\n",
      "2024-01-29  ���� 09:10    <DIR>          ..\n",
      "2024-01-29  ���� 09:23    <DIR>          DATA\n",
      "2024-01-29  ���� 09:10                 0 Ex1.ipynb\n",
      "2024-01-29  ���� 11:12                 0 Ex2.ipynb\n",
      "               2�� ����                   0 ����Ʈ\n",
      "               3�� ���͸�  99,358,625,792 ����Ʈ ����\n"
     ]
    }
   ],
   "source": [
    "%ls"
   ]
  },
  {
   "cell_type": "code",
   "execution_count": 2,
   "metadata": {},
   "outputs": [],
   "source": [
    "# [ jupyter 환경 구축 ]\n",
    "# anaconda prompt > jupyter notebook --generate-config\n",
    "\n",
    "# \"C:\\Users\\wjs31\\.jupyter\\jupyter_notebook_config.py\" 파일 실행\n",
    "# \"c.NotebookApp.notebook_dir =\" 여기에 주피터 폴더 주소 입력 (\"C:\\jupyter notebook\")\n",
    "# 확인: "
   ]
  },
  {
   "cell_type": "code",
   "execution_count": 1,
   "metadata": {},
   "outputs": [
    {
     "data": {
      "text/plain": [
       "'c:\\\\Users\\\\wjs31\\\\PycharmProjects\\\\DATA_ANALYSIS\\\\EXAM_DATA_ANALYSIS\\\\DAY04'"
      ]
     },
     "execution_count": 1,
     "metadata": {},
     "output_type": "execute_result"
    }
   ],
   "source": [
    "%pwd"
   ]
  },
  {
   "cell_type": "code",
   "execution_count": null,
   "metadata": {},
   "outputs": [],
   "source": []
  }
 ],
 "metadata": {
  "kernelspec": {
   "display_name": "My_38",
   "language": "python",
   "name": "python3"
  },
  "language_info": {
   "codemirror_mode": {
    "name": "ipython",
    "version": 3
   },
   "file_extension": ".py",
   "mimetype": "text/x-python",
   "name": "python",
   "nbconvert_exporter": "python",
   "pygments_lexer": "ipython3",
   "version": "3.11.5"
  }
 },
 "nbformat": 4,
 "nbformat_minor": 2
}
