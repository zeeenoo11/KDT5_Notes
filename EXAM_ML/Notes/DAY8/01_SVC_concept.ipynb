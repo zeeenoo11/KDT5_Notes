{
 "cells": [
  {
   "cell_type": "markdown",
   "metadata": {},
   "source": []
  },
  {
   "cell_type": "code",
   "execution_count": null,
   "metadata": {},
   "outputs": [],
   "source": [
    "# [ SVM ] \n",
    "# : 구분선 기준 분류\n",
    "# - SV : Support Vector; 구분선을 그리는 기준이 되는 요소\n",
    "\n",
    "# [ 분류 ]\n",
    "# 1. 선형적 분류\n",
    "# - 선형 직선을 기준으로 나눔\n",
    "# - 마진 : 요소 집단과 선과의 거리\n",
    "#         수식   wx + b = 1    : 집단A의 SV를 1로 지정\n",
    "#                wx + b = 0    : 구분선을 0으로 지정\n",
    "#                wx + b = -1   : 집단B의 SV를 -1로 지정\n",
    "#         => 구분선과의 거리는 같음\n",
    "# - 3차원이면 평면 -> Hyper-Plane(초평면)\n",
    "\n",
    "# 2. 비선형적 분류 \n",
    "# - 구불구불 : 차원을 늘려버리자!   -> Polynominal\n",
    "# - 3차원 이상으로 만들고 평면으로 구분 -> 요소의 밀도\n",
    "# - Kernel Tick(Kernel function) \n",
    "# - 수식 중 alpha: SV를 조정하는 요소\n",
    "\n",
    "# [ 분류 오류 처리 방식 ]\n",
    "# - 일반화 : 과적합 문제 해결 방법\n",
    "#           기본 세팅 : 마진이 최대가 되는 구분선 설정\n",
    "# - 소프트 마진 : 일부 요소의 영역이 다른 걸 허용\n",
    "\n",
    "# [ SVM 객체 종류 ]\n",
    "# 1) C=1.0 : 규제 강도\n",
    "#            c 작아진다 => 규제가 강해진다 => 마진의 범위가 넓어진다 \n",
    "#            => 마진 내 없던 요소가 포함된다 \n",
    "#            => 오류가 많아진다(=분류되지 않는 요소가 된다)\n",
    "#           : 목표는 넓은 경계선을 찾는 것, 좁으면 과대적합\n",
    "#             매운 맛이라 생각 - 맵기 10 = 하드 마진; 개빡빡; 마진 거의 없\n",
    "# 2) gamma : 곡선의 굴곡\n",
    "# 3) degree : 다항식의 차수\n",
    "# 4) kernel : 고->저차원으로 옮길 때 연산을 빠르게 하도록 도와주는 도구 (하이퍼파라-)\n",
    "#             linear 선형   poly 다항   rbf 가우시안(정규분포)(=default)\n",
    "#             sigmoid 데이터가 띄엄띄엄 있을 때       \n",
    "#             precomputed \n",
    "#             \n",
    "# 5) coef0  : poly, sigmoid에서만 significant\n",
    "# 6) max_iter : default -1; no limit\n",
    "# \n",
    "# => 우리는 C, gamma, kernel 정도를 다룸\n",
    "\n",
    "\n",
    "# (참고) 회귀의 경우 : 마진 내 최대한 요소를 올리는 것!\n",
    "#                     분류와 회귀는 반대 성향을 띤다.\n",
    "# \n",
    "# (etc.)\n",
    "# scaling이 필요함\n",
    "# oneClassSVM : 하나의 클래스; 값의 크기로 분류"
   ]
  },
  {
   "cell_type": "code",
   "execution_count": null,
   "metadata": {},
   "outputs": [],
   "source": []
  }
 ],
 "metadata": {
  "language_info": {
   "name": "python"
  }
 },
 "nbformat": 4,
 "nbformat_minor": 2
}
