{
 "cells": [
  {
   "cell_type": "markdown",
   "source": [
    "### 목표 : 생선 품종 분류 모델\n",
    "  - 데이터 : 2가지 품종의 생선 데이터\n",
    "  - 피처 : Weight, Length\n",
    "  - 타겟 : Species\n",
    "  - 유형 : 지도학습 / 분류"
   ],
   "metadata": {
    "collapsed": false
   },
   "id": "708897a613bfa1b5"
  },
  {
   "cell_type": "code",
   "execution_count": 273,
   "id": "initial_id",
   "metadata": {
    "collapsed": true,
    "ExecuteTime": {
     "end_time": "2024-02-26T04:40:57.517743900Z",
     "start_time": "2024-02-26T04:40:57.440913700Z"
    }
   },
   "outputs": [],
   "source": [
    "import pandas as pd\n",
    "import matplotlib.pyplot as plt\n",
    "from sklearn.neighbors import KNeighborsClassifier  # 기계학습 관련 모듈"
   ]
  },
  {
   "cell_type": "code",
   "outputs": [
    {
     "data": {
      "text/plain": "    Species  Weight  Length  Diagonal   Height   Width\n0     Bream   242.0    25.4      30.0  11.5200  4.0200\n1     Bream   290.0    26.3      31.2  12.4800  4.3056\n2     Bream   340.0    26.5      31.1  12.3778  4.6961\n3     Bream   363.0    29.0      33.5  12.7300  4.4555\n4     Bream   430.0    29.0      34.0  12.4440  5.1340\n..      ...     ...     ...       ...      ...     ...\n154   Smelt    12.2    12.2      13.4   2.0904  1.3936\n155   Smelt    13.4    12.4      13.5   2.4300  1.2690\n156   Smelt    12.2    13.0      13.8   2.2770  1.2558\n157   Smelt    19.7    14.3      15.2   2.8728  2.0672\n158   Smelt    19.9    15.0      16.2   2.9322  1.8792\n\n[159 rows x 6 columns]",
      "text/html": "<div>\n<style scoped>\n    .dataframe tbody tr th:only-of-type {\n        vertical-align: middle;\n    }\n\n    .dataframe tbody tr th {\n        vertical-align: top;\n    }\n\n    .dataframe thead th {\n        text-align: right;\n    }\n</style>\n<table border=\"1\" class=\"dataframe\">\n  <thead>\n    <tr style=\"text-align: right;\">\n      <th></th>\n      <th>Species</th>\n      <th>Weight</th>\n      <th>Length</th>\n      <th>Diagonal</th>\n      <th>Height</th>\n      <th>Width</th>\n    </tr>\n  </thead>\n  <tbody>\n    <tr>\n      <th>0</th>\n      <td>Bream</td>\n      <td>242.0</td>\n      <td>25.4</td>\n      <td>30.0</td>\n      <td>11.5200</td>\n      <td>4.0200</td>\n    </tr>\n    <tr>\n      <th>1</th>\n      <td>Bream</td>\n      <td>290.0</td>\n      <td>26.3</td>\n      <td>31.2</td>\n      <td>12.4800</td>\n      <td>4.3056</td>\n    </tr>\n    <tr>\n      <th>2</th>\n      <td>Bream</td>\n      <td>340.0</td>\n      <td>26.5</td>\n      <td>31.1</td>\n      <td>12.3778</td>\n      <td>4.6961</td>\n    </tr>\n    <tr>\n      <th>3</th>\n      <td>Bream</td>\n      <td>363.0</td>\n      <td>29.0</td>\n      <td>33.5</td>\n      <td>12.7300</td>\n      <td>4.4555</td>\n    </tr>\n    <tr>\n      <th>4</th>\n      <td>Bream</td>\n      <td>430.0</td>\n      <td>29.0</td>\n      <td>34.0</td>\n      <td>12.4440</td>\n      <td>5.1340</td>\n    </tr>\n    <tr>\n      <th>...</th>\n      <td>...</td>\n      <td>...</td>\n      <td>...</td>\n      <td>...</td>\n      <td>...</td>\n      <td>...</td>\n    </tr>\n    <tr>\n      <th>154</th>\n      <td>Smelt</td>\n      <td>12.2</td>\n      <td>12.2</td>\n      <td>13.4</td>\n      <td>2.0904</td>\n      <td>1.3936</td>\n    </tr>\n    <tr>\n      <th>155</th>\n      <td>Smelt</td>\n      <td>13.4</td>\n      <td>12.4</td>\n      <td>13.5</td>\n      <td>2.4300</td>\n      <td>1.2690</td>\n    </tr>\n    <tr>\n      <th>156</th>\n      <td>Smelt</td>\n      <td>12.2</td>\n      <td>13.0</td>\n      <td>13.8</td>\n      <td>2.2770</td>\n      <td>1.2558</td>\n    </tr>\n    <tr>\n      <th>157</th>\n      <td>Smelt</td>\n      <td>19.7</td>\n      <td>14.3</td>\n      <td>15.2</td>\n      <td>2.8728</td>\n      <td>2.0672</td>\n    </tr>\n    <tr>\n      <th>158</th>\n      <td>Smelt</td>\n      <td>19.9</td>\n      <td>15.0</td>\n      <td>16.2</td>\n      <td>2.9322</td>\n      <td>1.8792</td>\n    </tr>\n  </tbody>\n</table>\n<p>159 rows × 6 columns</p>\n</div>"
     },
     "execution_count": 274,
     "metadata": {},
     "output_type": "execute_result"
    }
   ],
   "source": [
    "# 데이터 불러오기\n",
    "data_file = pd.read_csv('../DATA/fish.csv', encoding='utf-8')\n",
    "data_file"
   ],
   "metadata": {
    "collapsed": false,
    "ExecuteTime": {
     "end_time": "2024-02-26T04:40:57.541256Z",
     "start_time": "2024-02-26T04:40:57.519743200Z"
    }
   },
   "id": "e54e788854dd1fb1",
   "execution_count": 274
  },
  {
   "cell_type": "code",
   "outputs": [
    {
     "data": {
      "text/plain": "    Species  Weight  Length\n0     Bream   242.0    25.4\n1     Bream   290.0    26.3\n2     Bream   340.0    26.5\n3     Bream   363.0    29.0\n4     Bream   430.0    29.0\n..      ...     ...     ...\n154   Smelt    12.2    12.2\n155   Smelt    13.4    12.4\n156   Smelt    12.2    13.0\n157   Smelt    19.7    14.3\n158   Smelt    19.9    15.0\n\n[159 rows x 3 columns]",
      "text/html": "<div>\n<style scoped>\n    .dataframe tbody tr th:only-of-type {\n        vertical-align: middle;\n    }\n\n    .dataframe tbody tr th {\n        vertical-align: top;\n    }\n\n    .dataframe thead th {\n        text-align: right;\n    }\n</style>\n<table border=\"1\" class=\"dataframe\">\n  <thead>\n    <tr style=\"text-align: right;\">\n      <th></th>\n      <th>Species</th>\n      <th>Weight</th>\n      <th>Length</th>\n    </tr>\n  </thead>\n  <tbody>\n    <tr>\n      <th>0</th>\n      <td>Bream</td>\n      <td>242.0</td>\n      <td>25.4</td>\n    </tr>\n    <tr>\n      <th>1</th>\n      <td>Bream</td>\n      <td>290.0</td>\n      <td>26.3</td>\n    </tr>\n    <tr>\n      <th>2</th>\n      <td>Bream</td>\n      <td>340.0</td>\n      <td>26.5</td>\n    </tr>\n    <tr>\n      <th>3</th>\n      <td>Bream</td>\n      <td>363.0</td>\n      <td>29.0</td>\n    </tr>\n    <tr>\n      <th>4</th>\n      <td>Bream</td>\n      <td>430.0</td>\n      <td>29.0</td>\n    </tr>\n    <tr>\n      <th>...</th>\n      <td>...</td>\n      <td>...</td>\n      <td>...</td>\n    </tr>\n    <tr>\n      <th>154</th>\n      <td>Smelt</td>\n      <td>12.2</td>\n      <td>12.2</td>\n    </tr>\n    <tr>\n      <th>155</th>\n      <td>Smelt</td>\n      <td>13.4</td>\n      <td>12.4</td>\n    </tr>\n    <tr>\n      <th>156</th>\n      <td>Smelt</td>\n      <td>12.2</td>\n      <td>13.0</td>\n    </tr>\n    <tr>\n      <th>157</th>\n      <td>Smelt</td>\n      <td>19.7</td>\n      <td>14.3</td>\n    </tr>\n    <tr>\n      <th>158</th>\n      <td>Smelt</td>\n      <td>19.9</td>\n      <td>15.0</td>\n    </tr>\n  </tbody>\n</table>\n<p>159 rows × 3 columns</p>\n</div>"
     },
     "execution_count": 275,
     "metadata": {},
     "output_type": "execute_result"
    }
   ],
   "source": [
    "# 2개의 피처만 선택\n",
    "fish_df = pd.DataFrame(data_file, columns=['Species', 'Weight', 'Length'])\n",
    "# fish_df = pd.read_csv('../DATA/fish.csv', usecols=['Species', 'Weight', 'Length'])\n",
    "fish_df"
   ],
   "metadata": {
    "collapsed": false,
    "ExecuteTime": {
     "end_time": "2024-02-26T04:40:57.592253200Z",
     "start_time": "2024-02-26T04:40:57.545254400Z"
    }
   },
   "id": "37bb4cbaef2d90ab",
   "execution_count": 275
  },
  {
   "cell_type": "code",
   "outputs": [
    {
     "data": {
      "text/plain": "   Species  Weight  Length\n0    Bream   242.0    25.4\n1    Bream   290.0    26.3\n2    Bream   340.0    26.5\n3    Bream   363.0    29.0\n4    Bream   430.0    29.0\n5    Bream   450.0    29.7\n6    Bream   500.0    29.7\n7    Bream   390.0    30.0\n8    Bream   450.0    30.0\n9    Bream   500.0    30.7\n10   Bream   475.0    31.0\n11   Bream   500.0    31.0\n12   Bream   500.0    31.5\n13   Bream   340.0    32.0\n14   Bream   600.0    32.0\n15   Bream   600.0    32.0\n16   Bream   700.0    33.0\n17   Bream   700.0    33.0\n18   Bream   610.0    33.5\n19   Bream   650.0    33.5\n20   Bream   575.0    34.0\n21   Bream   685.0    34.0\n22   Bream   620.0    34.5\n23   Bream   680.0    35.0\n24   Bream   700.0    35.0\n25   Bream   725.0    35.0\n26   Bream   720.0    35.0\n27   Bream   714.0    36.0\n28   Bream   850.0    36.0\n29   Bream  1000.0    37.0\n30   Bream   920.0    38.5\n31   Bream   955.0    38.5\n32   Bream   925.0    39.5\n33   Bream   975.0    41.0\n34   Bream   950.0    41.0\n35   Smelt     6.7     9.8\n36   Smelt     7.5    10.5\n37   Smelt     7.0    10.6\n38   Smelt     9.7    11.0\n39   Smelt     9.8    11.2\n40   Smelt     8.7    11.3\n41   Smelt    10.0    11.8\n42   Smelt     9.9    11.8\n43   Smelt     9.8    12.0\n44   Smelt    12.2    12.2\n45   Smelt    13.4    12.4\n46   Smelt    12.2    13.0\n47   Smelt    19.7    14.3\n48   Smelt    19.9    15.0",
      "text/html": "<div>\n<style scoped>\n    .dataframe tbody tr th:only-of-type {\n        vertical-align: middle;\n    }\n\n    .dataframe tbody tr th {\n        vertical-align: top;\n    }\n\n    .dataframe thead th {\n        text-align: right;\n    }\n</style>\n<table border=\"1\" class=\"dataframe\">\n  <thead>\n    <tr style=\"text-align: right;\">\n      <th></th>\n      <th>Species</th>\n      <th>Weight</th>\n      <th>Length</th>\n    </tr>\n  </thead>\n  <tbody>\n    <tr>\n      <th>0</th>\n      <td>Bream</td>\n      <td>242.0</td>\n      <td>25.4</td>\n    </tr>\n    <tr>\n      <th>1</th>\n      <td>Bream</td>\n      <td>290.0</td>\n      <td>26.3</td>\n    </tr>\n    <tr>\n      <th>2</th>\n      <td>Bream</td>\n      <td>340.0</td>\n      <td>26.5</td>\n    </tr>\n    <tr>\n      <th>3</th>\n      <td>Bream</td>\n      <td>363.0</td>\n      <td>29.0</td>\n    </tr>\n    <tr>\n      <th>4</th>\n      <td>Bream</td>\n      <td>430.0</td>\n      <td>29.0</td>\n    </tr>\n    <tr>\n      <th>5</th>\n      <td>Bream</td>\n      <td>450.0</td>\n      <td>29.7</td>\n    </tr>\n    <tr>\n      <th>6</th>\n      <td>Bream</td>\n      <td>500.0</td>\n      <td>29.7</td>\n    </tr>\n    <tr>\n      <th>7</th>\n      <td>Bream</td>\n      <td>390.0</td>\n      <td>30.0</td>\n    </tr>\n    <tr>\n      <th>8</th>\n      <td>Bream</td>\n      <td>450.0</td>\n      <td>30.0</td>\n    </tr>\n    <tr>\n      <th>9</th>\n      <td>Bream</td>\n      <td>500.0</td>\n      <td>30.7</td>\n    </tr>\n    <tr>\n      <th>10</th>\n      <td>Bream</td>\n      <td>475.0</td>\n      <td>31.0</td>\n    </tr>\n    <tr>\n      <th>11</th>\n      <td>Bream</td>\n      <td>500.0</td>\n      <td>31.0</td>\n    </tr>\n    <tr>\n      <th>12</th>\n      <td>Bream</td>\n      <td>500.0</td>\n      <td>31.5</td>\n    </tr>\n    <tr>\n      <th>13</th>\n      <td>Bream</td>\n      <td>340.0</td>\n      <td>32.0</td>\n    </tr>\n    <tr>\n      <th>14</th>\n      <td>Bream</td>\n      <td>600.0</td>\n      <td>32.0</td>\n    </tr>\n    <tr>\n      <th>15</th>\n      <td>Bream</td>\n      <td>600.0</td>\n      <td>32.0</td>\n    </tr>\n    <tr>\n      <th>16</th>\n      <td>Bream</td>\n      <td>700.0</td>\n      <td>33.0</td>\n    </tr>\n    <tr>\n      <th>17</th>\n      <td>Bream</td>\n      <td>700.0</td>\n      <td>33.0</td>\n    </tr>\n    <tr>\n      <th>18</th>\n      <td>Bream</td>\n      <td>610.0</td>\n      <td>33.5</td>\n    </tr>\n    <tr>\n      <th>19</th>\n      <td>Bream</td>\n      <td>650.0</td>\n      <td>33.5</td>\n    </tr>\n    <tr>\n      <th>20</th>\n      <td>Bream</td>\n      <td>575.0</td>\n      <td>34.0</td>\n    </tr>\n    <tr>\n      <th>21</th>\n      <td>Bream</td>\n      <td>685.0</td>\n      <td>34.0</td>\n    </tr>\n    <tr>\n      <th>22</th>\n      <td>Bream</td>\n      <td>620.0</td>\n      <td>34.5</td>\n    </tr>\n    <tr>\n      <th>23</th>\n      <td>Bream</td>\n      <td>680.0</td>\n      <td>35.0</td>\n    </tr>\n    <tr>\n      <th>24</th>\n      <td>Bream</td>\n      <td>700.0</td>\n      <td>35.0</td>\n    </tr>\n    <tr>\n      <th>25</th>\n      <td>Bream</td>\n      <td>725.0</td>\n      <td>35.0</td>\n    </tr>\n    <tr>\n      <th>26</th>\n      <td>Bream</td>\n      <td>720.0</td>\n      <td>35.0</td>\n    </tr>\n    <tr>\n      <th>27</th>\n      <td>Bream</td>\n      <td>714.0</td>\n      <td>36.0</td>\n    </tr>\n    <tr>\n      <th>28</th>\n      <td>Bream</td>\n      <td>850.0</td>\n      <td>36.0</td>\n    </tr>\n    <tr>\n      <th>29</th>\n      <td>Bream</td>\n      <td>1000.0</td>\n      <td>37.0</td>\n    </tr>\n    <tr>\n      <th>30</th>\n      <td>Bream</td>\n      <td>920.0</td>\n      <td>38.5</td>\n    </tr>\n    <tr>\n      <th>31</th>\n      <td>Bream</td>\n      <td>955.0</td>\n      <td>38.5</td>\n    </tr>\n    <tr>\n      <th>32</th>\n      <td>Bream</td>\n      <td>925.0</td>\n      <td>39.5</td>\n    </tr>\n    <tr>\n      <th>33</th>\n      <td>Bream</td>\n      <td>975.0</td>\n      <td>41.0</td>\n    </tr>\n    <tr>\n      <th>34</th>\n      <td>Bream</td>\n      <td>950.0</td>\n      <td>41.0</td>\n    </tr>\n    <tr>\n      <th>35</th>\n      <td>Smelt</td>\n      <td>6.7</td>\n      <td>9.8</td>\n    </tr>\n    <tr>\n      <th>36</th>\n      <td>Smelt</td>\n      <td>7.5</td>\n      <td>10.5</td>\n    </tr>\n    <tr>\n      <th>37</th>\n      <td>Smelt</td>\n      <td>7.0</td>\n      <td>10.6</td>\n    </tr>\n    <tr>\n      <th>38</th>\n      <td>Smelt</td>\n      <td>9.7</td>\n      <td>11.0</td>\n    </tr>\n    <tr>\n      <th>39</th>\n      <td>Smelt</td>\n      <td>9.8</td>\n      <td>11.2</td>\n    </tr>\n    <tr>\n      <th>40</th>\n      <td>Smelt</td>\n      <td>8.7</td>\n      <td>11.3</td>\n    </tr>\n    <tr>\n      <th>41</th>\n      <td>Smelt</td>\n      <td>10.0</td>\n      <td>11.8</td>\n    </tr>\n    <tr>\n      <th>42</th>\n      <td>Smelt</td>\n      <td>9.9</td>\n      <td>11.8</td>\n    </tr>\n    <tr>\n      <th>43</th>\n      <td>Smelt</td>\n      <td>9.8</td>\n      <td>12.0</td>\n    </tr>\n    <tr>\n      <th>44</th>\n      <td>Smelt</td>\n      <td>12.2</td>\n      <td>12.2</td>\n    </tr>\n    <tr>\n      <th>45</th>\n      <td>Smelt</td>\n      <td>13.4</td>\n      <td>12.4</td>\n    </tr>\n    <tr>\n      <th>46</th>\n      <td>Smelt</td>\n      <td>12.2</td>\n      <td>13.0</td>\n    </tr>\n    <tr>\n      <th>47</th>\n      <td>Smelt</td>\n      <td>19.7</td>\n      <td>14.3</td>\n    </tr>\n    <tr>\n      <th>48</th>\n      <td>Smelt</td>\n      <td>19.9</td>\n      <td>15.0</td>\n    </tr>\n  </tbody>\n</table>\n</div>"
     },
     "execution_count": 276,
     "metadata": {},
     "output_type": "execute_result"
    }
   ],
   "source": [
    "# Bream, Smelt 품종만 추출\n",
    "mask = fish_df.Species.isin(['Bream', 'Smelt'])\n",
    "two_species_df = fish_df[mask]\n",
    "\n",
    "# index 정리\n",
    "two_species_df.reset_index(drop=True, inplace=True)\n",
    "two_species_df"
   ],
   "metadata": {
    "collapsed": false,
    "ExecuteTime": {
     "end_time": "2024-02-26T04:40:57.678825800Z",
     "start_time": "2024-02-26T04:40:57.580253600Z"
    }
   },
   "id": "b36212e2cd7d6077",
   "execution_count": 276
  },
  {
   "cell_type": "markdown",
   "source": [
    "#### 2) 데이터 전처리"
   ],
   "metadata": {
    "collapsed": false
   },
   "id": "152daefc6335e464"
  },
  {
   "cell_type": "code",
   "outputs": [
    {
     "data": {
      "text/plain": "Species     object\nWeight     float64\nLength     float64\ndtype: object"
     },
     "execution_count": 277,
     "metadata": {},
     "output_type": "execute_result"
    }
   ],
   "source": [
    "# 타겟 bool 처리\n",
    "# two_species_df['Species'] = two_species_df['Species'].replace({'Bream': 0, 'Smelt': 1}).copy()\n",
    "# - 오류 해결 방법 :\n",
    "# 1) slice copy warning    : .loc[:, ]\n",
    "# 2) type -> object        : .copy(deep=True)\n",
    "two_species_df.loc[:, 'Species'] = two_species_df['Species'].replace({'Bream': 0, 'Smelt': 1}).copy(deep=True)\n",
    "two_species_df.dtypes"
   ],
   "metadata": {
    "collapsed": false,
    "ExecuteTime": {
     "end_time": "2024-02-26T04:40:57.695845800Z",
     "start_time": "2024-02-26T04:40:57.633824400Z"
    }
   },
   "id": "72e78509b7958c81",
   "execution_count": 277
  },
  {
   "cell_type": "code",
   "outputs": [
    {
     "name": "stderr",
     "output_type": "stream",
     "text": [
      "C:\\Users\\wjs31\\AppData\\Local\\Temp\\ipykernel_31504\\1326719769.py:2: SettingWithCopyWarning: \n",
      "A value is trying to be set on a copy of a slice from a DataFrame.\n",
      "Try using .loc[row_indexer,col_indexer] = value instead\n",
      "\n",
      "See the caveats in the documentation: https://pandas.pydata.org/pandas-docs/stable/user_guide/indexing.html#returning-a-view-versus-a-copy\n",
      "  two_species_df['Species'] = two_species_df['Species'].astype(int)\n"
     ]
    },
    {
     "data": {
      "text/plain": "Species      int32\nWeight     float64\nLength     float64\ndtype: object"
     },
     "execution_count": 278,
     "metadata": {},
     "output_type": "execute_result"
    }
   ],
   "source": [
    "# Species -> int로 변환\n",
    "two_species_df['Species'] = two_species_df['Species'].astype(int)\n",
    "two_species_df.dtypes"
   ],
   "metadata": {
    "collapsed": false,
    "ExecuteTime": {
     "end_time": "2024-02-26T04:40:57.816329400Z",
     "start_time": "2024-02-26T04:40:57.699825700Z"
    }
   },
   "id": "72f88b87ffb90c2f",
   "execution_count": 278
  },
  {
   "cell_type": "code",
   "outputs": [
    {
     "data": {
      "text/plain": "<Figure size 640x480 with 1 Axes>",
      "image/png": "[encoded data removed]"
     },
     "metadata": {},
     "output_type": "display_data"
    }
   ],
   "source": [
    "# weight와 length로 품종 구별이 가능한지 시각화 확인\n",
    "plt.scatter(two_species_df['Weight'], two_species_df['Length'], c=two_species_df.Species)\n",
    "plt.show()"
   ],
   "metadata": {
    "collapsed": false,
    "ExecuteTime": {
     "end_time": "2024-02-26T04:40:57.929578700Z",
     "start_time": "2024-02-26T04:40:57.800063Z"
    }
   },
   "id": "22240e7f1ae50b8a",
   "execution_count": 279
  },
  {
   "cell_type": "markdown",
   "source": [
    "#### 3) 기계학습을 위한 데이터 준비\n",
    "- 피처 + 타겟\n",
    "- 학습용 데이터셋   : 75%\n",
    "- 테스트용 데이터셋 : 25%"
   ],
   "metadata": {
    "collapsed": false
   },
   "id": "1f37f3cc42195289"
  },
  {
   "cell_type": "code",
   "outputs": [
    {
     "name": "stdout",
     "output_type": "stream",
     "text": [
      "(49, 3)\n"
     ]
    },
    {
     "data": {
      "text/plain": "    Species  Weight  Length\n42        1     9.9    11.8\n18        0   610.0    33.5\n43        1     9.8    12.0\n27        0   714.0    36.0\n19        0   650.0    33.5",
      "text/html": "<div>\n<style scoped>\n    .dataframe tbody tr th:only-of-type {\n        vertical-align: middle;\n    }\n\n    .dataframe tbody tr th {\n        vertical-align: top;\n    }\n\n    .dataframe thead th {\n        text-align: right;\n    }\n</style>\n<table border=\"1\" class=\"dataframe\">\n  <thead>\n    <tr style=\"text-align: right;\">\n      <th></th>\n      <th>Species</th>\n      <th>Weight</th>\n      <th>Length</th>\n    </tr>\n  </thead>\n  <tbody>\n    <tr>\n      <th>42</th>\n      <td>1</td>\n      <td>9.9</td>\n      <td>11.8</td>\n    </tr>\n    <tr>\n      <th>18</th>\n      <td>0</td>\n      <td>610.0</td>\n      <td>33.5</td>\n    </tr>\n    <tr>\n      <th>43</th>\n      <td>1</td>\n      <td>9.8</td>\n      <td>12.0</td>\n    </tr>\n    <tr>\n      <th>27</th>\n      <td>0</td>\n      <td>714.0</td>\n      <td>36.0</td>\n    </tr>\n    <tr>\n      <th>19</th>\n      <td>0</td>\n      <td>650.0</td>\n      <td>33.5</td>\n    </tr>\n  </tbody>\n</table>\n</div>"
     },
     "execution_count": 280,
     "metadata": {},
     "output_type": "execute_result"
    }
   ],
   "source": [
    "# 데이터 섞기 -> 100% 모두 섞기\n",
    "# - frac= : 전체 중 데이터셋 비율 (1. : 100%)\n",
    "two_species_df = two_species_df.sample(frac=1.)\n",
    "\n",
    "print(two_species_df.shape)\n",
    "two_species_df.head()"
   ],
   "metadata": {
    "collapsed": false,
    "ExecuteTime": {
     "end_time": "2024-02-26T04:40:57.932578100Z",
     "start_time": "2024-02-26T04:40:57.897026200Z"
    }
   },
   "id": "9ca518cd5cfdf69e",
   "execution_count": 280
  },
  {
   "cell_type": "code",
   "outputs": [
    {
     "name": "stdout",
     "output_type": "stream",
     "text": [
      "train_df: (40, 3)\n",
      "    Species  Weight  Length\n",
      "28        0   850.0    36.0\n",
      "1         0   290.0    26.3\n",
      "46        1    12.2    13.0\n",
      "13        0   340.0    32.0\n",
      "48        1    19.9    15.0\n",
      "test_df: (9, 3)\n",
      "    Species  Weight  Length\n",
      "35        1     6.7     9.8\n",
      "22        0   620.0    34.5\n",
      "12        0   500.0    31.5\n",
      "40        1     8.7    11.3\n",
      "29        0  1000.0    37.0\n"
     ]
    }
   ],
   "source": [
    "# 학습과 테스트 비율 조절 갯수 계산\n",
    "#   : 일반적으로 80:20\n",
    "num = round(two_species_df.shape[0] *0.8)\n",
    "\n",
    "# 학습 데이터셋 추출\n",
    "train_df = two_species_df.iloc[:num+1]\n",
    "print('train_df:', train_df.shape)\n",
    "print(train_df.tail())\n",
    "\n",
    "# 테스트 데이터셋 추출\n",
    "#   : 학습 데이터셋 이후부터 추출\n",
    "#   : 학습되지 않은 데이터로 테스트 진행\n",
    "test_df = two_species_df.iloc[num+1:]\n",
    "print('test_df:', test_df.shape)\n",
    "print(test_df.tail())\n",
    "\n",
    "# 이렇게 임의로 만들기엔 어렵고 설정할 게 많다"
   ],
   "metadata": {
    "collapsed": false,
    "ExecuteTime": {
     "end_time": "2024-02-26T04:40:57.933580100Z",
     "start_time": "2024-02-26T04:40:57.914083700Z"
    }
   },
   "id": "b246570287caa222",
   "execution_count": 281
  },
  {
   "cell_type": "markdown",
   "source": [
    "### 3-2) scikit-learn 모듈\n",
    "- 추가 모듈 로딩"
   ],
   "metadata": {
    "collapsed": false
   },
   "id": "2ec9b4d16c0ccd9f"
  },
  {
   "cell_type": "code",
   "outputs": [],
   "source": [
    "from sklearn.model_selection import train_test_split"
   ],
   "metadata": {
    "collapsed": false,
    "ExecuteTime": {
     "end_time": "2024-02-26T04:40:58.026093600Z",
     "start_time": "2024-02-26T04:40:57.936579200Z"
    }
   },
   "id": "9b15c26900d483ae",
   "execution_count": 282
  },
  {
   "cell_type": "code",
   "outputs": [
    {
     "name": "stdout",
     "output_type": "stream",
     "text": [
      "target_SR :\n",
      " 42    1\n",
      "18    0\n",
      "Name: Species, dtype: int32\n",
      "feature_df :\n",
      "     Weight  Length\n",
      "42     9.9    11.8\n",
      "18   610.0    33.5\n"
     ]
    }
   ],
   "source": [
    "# [ feature와 target 분리 ]\n",
    "feature_df = two_species_df.drop(['Species'], axis=1)\n",
    "target_SR = two_species_df['Species']\n",
    "print('target_SR :\\n', target_SR.head(2))\n",
    "print('feature_df :\\n', feature_df.head(2))"
   ],
   "metadata": {
    "collapsed": false,
    "ExecuteTime": {
     "end_time": "2024-02-26T04:40:58.027094200Z",
     "start_time": "2024-02-26T04:40:57.952581200Z"
    }
   },
   "id": "b7f60575099cfc87",
   "execution_count": 283
  },
  {
   "cell_type": "code",
   "outputs": [
    {
     "name": "stdout",
     "output_type": "stream",
     "text": [
      "X_train: (44, 2) , y_train: (44,)\n",
      "    Weight  Length\n",
      "1    290.0    26.3\n",
      "41    10.0    11.8\n",
      "20   575.0    34.0\n",
      "6    500.0    29.7\n",
      "8    450.0    30.0\n",
      "0    242.0    25.4\n",
      "12   500.0    31.5\n",
      "10   475.0    31.0\n",
      "7    390.0    30.0\n",
      "31   955.0    38.5\n",
      "44    12.2    12.2\n",
      "29  1000.0    37.0\n",
      "30   920.0    38.5\n",
      "16   700.0    33.0\n",
      "32   925.0    39.5\n",
      "26   720.0    35.0\n",
      "39     9.8    11.2\n",
      "9    500.0    30.7\n",
      "11   500.0    31.0\n",
      "23   680.0    35.0\n",
      "42     9.9    11.8\n",
      "40     8.7    11.3\n",
      "28   850.0    36.0\n",
      "35     6.7     9.8\n",
      "17   700.0    33.0\n",
      "45    13.4    12.4\n",
      "18   610.0    33.5\n",
      "21   685.0    34.0\n",
      "47    19.7    14.3\n",
      "15   600.0    32.0\n",
      "22   620.0    34.5\n",
      "2    340.0    26.5\n",
      "37     7.0    10.6\n",
      "3    363.0    29.0\n",
      "43     9.8    12.0\n",
      "14   600.0    32.0\n",
      "38     9.7    11.0\n",
      "46    12.2    13.0\n",
      "5    450.0    29.7\n",
      "24   700.0    35.0\n",
      "25   725.0    35.0\n",
      "27   714.0    36.0\n",
      "36     7.5    10.5\n",
      "48    19.9    15.0 Rate : 14 / 44\n",
      "X_test: (5, 2) , y_test: (5,)\n",
      "    Weight  Length\n",
      "4    430.0    29.0\n",
      "34   950.0    41.0\n",
      "33   975.0    41.0\n",
      "19   650.0    33.5\n",
      "13   340.0    32.0 Rate : 0 / 5\n"
     ]
    }
   ],
   "source": [
    "# -- 임의로 비율 설정 없이 학습/테스트셋 분리\n",
    "# : (전달) feature, target\n",
    "# : (기본) shuffle=True, train:test = 0.75, 0.25\n",
    "# : (반환) train features, test features, train labels, test labels\n",
    "\n",
    "# : (parameters) \n",
    "#   (1) test_size=  : test의 비율 설정, train 자동 입력됨\n",
    "#       train_size= : train의 비율 설정, test 자동 입력, 둘 중 하나만 넣으면 됨\n",
    "X_train, X_test, y_train, y_test = train_test_split(feature_df, target_SR, test_size=0.1)\n",
    "\n",
    "print('X_train:', X_train.shape, ', y_train:', y_train.shape)\n",
    "print(X_train, 'Rate :', sum(y_train), '/', len(y_train))\n",
    "print('X_test:', X_test.shape, ', y_test:', y_test.shape)\n",
    "print(X_test, 'Rate :', sum(y_test), '/', len(y_test))"
   ],
   "metadata": {
    "collapsed": false,
    "ExecuteTime": {
     "end_time": "2024-02-26T04:40:58.156608100Z",
     "start_time": "2024-02-26T04:40:58.036094Z"
    }
   },
   "id": "6284ab56879895a2",
   "execution_count": 284
  },
  {
   "cell_type": "code",
   "outputs": [
    {
     "name": "stdout",
     "output_type": "stream",
     "text": [
      "X_train: (36, 2) , y_train: (36,)\n",
      "    Weight  Length\n",
      "30   920.0    38.5\n",
      "1    290.0    26.3\n",
      "40     8.7    11.3\n",
      "32   925.0    39.5\n",
      "31   955.0    38.5\n",
      "24   700.0    35.0\n",
      "14   600.0    32.0\n",
      "5    450.0    29.7\n",
      "8    450.0    30.0\n",
      "16   700.0    33.0\n",
      "3    363.0    29.0\n",
      "29  1000.0    37.0\n",
      "26   720.0    35.0\n",
      "21   685.0    34.0\n",
      "44    12.2    12.2\n",
      "25   725.0    35.0\n",
      "19   650.0    33.5\n",
      "38     9.7    11.0\n",
      "0    242.0    25.4\n",
      "23   680.0    35.0\n",
      "11   500.0    31.0\n",
      "41    10.0    11.8\n",
      "10   475.0    31.0\n",
      "2    340.0    26.5\n",
      "4    430.0    29.0\n",
      "39     9.8    11.2\n",
      "20   575.0    34.0\n",
      "15   600.0    32.0\n",
      "9    500.0    30.7\n",
      "45    13.4    12.4\n",
      "36     7.5    10.5\n",
      "42     9.9    11.8\n",
      "18   610.0    33.5\n",
      "46    12.2    13.0\n",
      "35     6.7     9.8\n",
      "6    500.0    29.7 Rate : 10 / 36\n",
      "X_test: (13, 2) , y_test: (13,)\n",
      "    Weight  Length\n",
      "28   850.0    36.0\n",
      "12   500.0    31.5\n",
      "33   975.0    41.0\n",
      "34   950.0    41.0\n",
      "43     9.8    12.0\n",
      "17   700.0    33.0\n",
      "27   714.0    36.0\n",
      "7    390.0    30.0\n",
      "37     7.0    10.6\n",
      "22   620.0    34.5\n",
      "47    19.7    14.3\n",
      "13   340.0    32.0\n",
      "48    19.9    15.0 Rate : 4 / 13\n"
     ]
    }
   ],
   "source": [
    "# \" (Paramenters)\n",
    "#   (2) stratify=   : target 비율이 불균일할 경우, 그 비율을 설정\n",
    "X_train, X_test, y_train, y_test = train_test_split(feature_df, target_SR, stratify=target_SR)\n",
    "\n",
    "print('X_train:', X_train.shape, ', y_train:', y_train.shape)\n",
    "print(X_train, 'Rate :', sum(y_train), '/', len(y_train))\n",
    "print('X_test:', X_test.shape, ', y_test:', y_test.shape)\n",
    "print(X_test, 'Rate :', sum(y_test), '/', len(y_test))"
   ],
   "metadata": {
    "collapsed": false,
    "ExecuteTime": {
     "end_time": "2024-02-26T04:40:58.257123500Z",
     "start_time": "2024-02-26T04:40:58.122608700Z"
    }
   },
   "id": "24f0aa1a5ac6f6",
   "execution_count": 285
  },
  {
   "cell_type": "code",
   "outputs": [],
   "source": [
    "# 검증용 데이터셋 준비 => 학습용 데이터셋에서 분리\n",
    "# - 학습  -> 학습 : X_train, y_train 에서 분리\n",
    "#            검증 : X_val, y_val 을 생성\n",
    "# - 테스트\n",
    "X_train, X_val, y_train, y_val = train_test_split(X_train, y_train, stratify=y_train)"
   ],
   "metadata": {
    "collapsed": false,
    "ExecuteTime": {
     "end_time": "2024-02-26T04:40:58.287123800Z",
     "start_time": "2024-02-26T04:40:58.202607500Z"
    }
   },
   "id": "60c69f776fff1e75",
   "execution_count": 286
  },
  {
   "cell_type": "markdown",
   "source": [
    "### 4) 학습 진행\n",
    "- 학습 방법 : 지도학습 / 분류 => KNN\n",
    "- 모델 인스턴스 생성 => .fit()"
   ],
   "metadata": {
    "collapsed": false
   },
   "id": "69c4b91082332b5"
  },
  {
   "cell_type": "code",
   "outputs": [
    {
     "data": {
      "text/plain": "KNeighborsClassifier()",
      "text/html": "<style>#sk-container-id-20 {color: black;}#sk-container-id-20 pre{padding: 0;}#sk-container-id-20 div.sk-toggleable {background-color: white;}#sk-container-id-20 label.sk-toggleable__label {cursor: pointer;display: block;width: 100%;margin-bottom: 0;padding: 0.3em;box-sizing: border-box;text-align: center;}#sk-container-id-20 label.sk-toggleable__label-arrow:before {content: \"▸\";float: left;margin-right: 0.25em;color: #696969;}#sk-container-id-20 label.sk-toggleable__label-arrow:hover:before {color: black;}#sk-container-id-20 div.sk-estimator:hover label.sk-toggleable__label-arrow:before {color: black;}#sk-container-id-20 div.sk-toggleable__content {max-height: 0;max-width: 0;overflow: hidden;text-align: left;background-color: #f0f8ff;}#sk-container-id-20 div.sk-toggleable__content pre {margin: 0.2em;color: black;border-radius: 0.25em;background-color: #f0f8ff;}#sk-container-id-20 input.sk-toggleable__control:checked~div.sk-toggleable__content {max-height: 200px;max-width: 100%;overflow: auto;}#sk-container-id-20 input.sk-toggleable__control:checked~label.sk-toggleable__label-arrow:before {content: \"▾\";}#sk-container-id-20 div.sk-estimator input.sk-toggleable__control:checked~label.sk-toggleable__label {background-color: #d4ebff;}#sk-container-id-20 div.sk-label input.sk-toggleable__control:checked~label.sk-toggleable__label {background-color: #d4ebff;}#sk-container-id-20 input.sk-hidden--visually {border: 0;clip: rect(1px 1px 1px 1px);clip: rect(1px, 1px, 1px, 1px);height: 1px;margin: -1px;overflow: hidden;padding: 0;position: absolute;width: 1px;}#sk-container-id-20 div.sk-estimator {font-family: monospace;background-color: #f0f8ff;border: 1px dotted black;border-radius: 0.25em;box-sizing: border-box;margin-bottom: 0.5em;}#sk-container-id-20 div.sk-estimator:hover {background-color: #d4ebff;}#sk-container-id-20 div.sk-parallel-item::after {content: \"\";width: 100%;border-bottom: 1px solid gray;flex-grow: 1;}#sk-container-id-20 div.sk-label:hover label.sk-toggleable__label {background-color: #d4ebff;}#sk-container-id-20 div.sk-serial::before {content: \"\";position: absolute;border-left: 1px solid gray;box-sizing: border-box;top: 0;bottom: 0;left: 50%;z-index: 0;}#sk-container-id-20 div.sk-serial {display: flex;flex-direction: column;align-items: center;background-color: white;padding-right: 0.2em;padding-left: 0.2em;position: relative;}#sk-container-id-20 div.sk-item {position: relative;z-index: 1;}#sk-container-id-20 div.sk-parallel {display: flex;align-items: stretch;justify-content: center;background-color: white;position: relative;}#sk-container-id-20 div.sk-item::before, #sk-container-id-20 div.sk-parallel-item::before {content: \"\";position: absolute;border-left: 1px solid gray;box-sizing: border-box;top: 0;bottom: 0;left: 50%;z-index: -1;}#sk-container-id-20 div.sk-parallel-item {display: flex;flex-direction: column;z-index: 1;position: relative;background-color: white;}#sk-container-id-20 div.sk-parallel-item:first-child::after {align-self: flex-end;width: 50%;}#sk-container-id-20 div.sk-parallel-item:last-child::after {align-self: flex-start;width: 50%;}#sk-container-id-20 div.sk-parallel-item:only-child::after {width: 0;}#sk-container-id-20 div.sk-dashed-wrapped {border: 1px dashed gray;margin: 0 0.4em 0.5em 0.4em;box-sizing: border-box;padding-bottom: 0.4em;background-color: white;}#sk-container-id-20 div.sk-label label {font-family: monospace;font-weight: bold;display: inline-block;line-height: 1.2em;}#sk-container-id-20 div.sk-label-container {text-align: center;}#sk-container-id-20 div.sk-container {/* jupyter's `normalize.less` sets `[hidden] { display: none; }` but bootstrap.min.css set `[hidden] { display: none !important; }` so we also need the `!important` here to be able to override the default hidden behavior on the sphinx rendered scikit-learn.org. See: https://github.com/scikit-learn/scikit-learn/issues/21755 */display: inline-block !important;position: relative;}#sk-container-id-20 div.sk-text-repr-fallback {display: none;}</style><div id=\"sk-container-id-20\" class=\"sk-top-container\"><div class=\"sk-text-repr-fallback\"><pre>KNeighborsClassifier()</pre><b>In a Jupyter environment, please rerun this cell to show the HTML representation or trust the notebook. <br />On GitHub, the HTML representation is unable to render, please try loading this page with nbviewer.org.</b></div><div class=\"sk-container\" hidden><div class=\"sk-item\"><div class=\"sk-estimator sk-toggleable\"><input class=\"sk-toggleable__control sk-hidden--visually\" id=\"sk-estimator-id-20\" type=\"checkbox\" checked><label for=\"sk-estimator-id-20\" class=\"sk-toggleable__label sk-toggleable__label-arrow\">KNeighborsClassifier</label><div class=\"sk-toggleable__content\"><pre>KNeighborsClassifier()</pre></div></div></div></div></div>"
     },
     "execution_count": 287,
     "metadata": {},
     "output_type": "execute_result"
    }
   ],
   "source": [
    "# 모델 인스턴스 생성\n",
    "model = KNeighborsClassifier()\n",
    "model"
   ],
   "metadata": {
    "collapsed": false,
    "ExecuteTime": {
     "end_time": "2024-02-26T04:40:58.328640500Z",
     "start_time": "2024-02-26T04:40:58.294123400Z"
    }
   },
   "id": "1f3e3e9dce892357",
   "execution_count": 287
  },
  {
   "cell_type": "code",
   "outputs": [
    {
     "data": {
      "text/plain": "KNeighborsClassifier()",
      "text/html": "<style>#sk-container-id-21 {color: black;}#sk-container-id-21 pre{padding: 0;}#sk-container-id-21 div.sk-toggleable {background-color: white;}#sk-container-id-21 label.sk-toggleable__label {cursor: pointer;display: block;width: 100%;margin-bottom: 0;padding: 0.3em;box-sizing: border-box;text-align: center;}#sk-container-id-21 label.sk-toggleable__label-arrow:before {content: \"▸\";float: left;margin-right: 0.25em;color: #696969;}#sk-container-id-21 label.sk-toggleable__label-arrow:hover:before {color: black;}#sk-container-id-21 div.sk-estimator:hover label.sk-toggleable__label-arrow:before {color: black;}#sk-container-id-21 div.sk-toggleable__content {max-height: 0;max-width: 0;overflow: hidden;text-align: left;background-color: #f0f8ff;}#sk-container-id-21 div.sk-toggleable__content pre {margin: 0.2em;color: black;border-radius: 0.25em;background-color: #f0f8ff;}#sk-container-id-21 input.sk-toggleable__control:checked~div.sk-toggleable__content {max-height: 200px;max-width: 100%;overflow: auto;}#sk-container-id-21 input.sk-toggleable__control:checked~label.sk-toggleable__label-arrow:before {content: \"▾\";}#sk-container-id-21 div.sk-estimator input.sk-toggleable__control:checked~label.sk-toggleable__label {background-color: #d4ebff;}#sk-container-id-21 div.sk-label input.sk-toggleable__control:checked~label.sk-toggleable__label {background-color: #d4ebff;}#sk-container-id-21 input.sk-hidden--visually {border: 0;clip: rect(1px 1px 1px 1px);clip: rect(1px, 1px, 1px, 1px);height: 1px;margin: -1px;overflow: hidden;padding: 0;position: absolute;width: 1px;}#sk-container-id-21 div.sk-estimator {font-family: monospace;background-color: #f0f8ff;border: 1px dotted black;border-radius: 0.25em;box-sizing: border-box;margin-bottom: 0.5em;}#sk-container-id-21 div.sk-estimator:hover {background-color: #d4ebff;}#sk-container-id-21 div.sk-parallel-item::after {content: \"\";width: 100%;border-bottom: 1px solid gray;flex-grow: 1;}#sk-container-id-21 div.sk-label:hover label.sk-toggleable__label {background-color: #d4ebff;}#sk-container-id-21 div.sk-serial::before {content: \"\";position: absolute;border-left: 1px solid gray;box-sizing: border-box;top: 0;bottom: 0;left: 50%;z-index: 0;}#sk-container-id-21 div.sk-serial {display: flex;flex-direction: column;align-items: center;background-color: white;padding-right: 0.2em;padding-left: 0.2em;position: relative;}#sk-container-id-21 div.sk-item {position: relative;z-index: 1;}#sk-container-id-21 div.sk-parallel {display: flex;align-items: stretch;justify-content: center;background-color: white;position: relative;}#sk-container-id-21 div.sk-item::before, #sk-container-id-21 div.sk-parallel-item::before {content: \"\";position: absolute;border-left: 1px solid gray;box-sizing: border-box;top: 0;bottom: 0;left: 50%;z-index: -1;}#sk-container-id-21 div.sk-parallel-item {display: flex;flex-direction: column;z-index: 1;position: relative;background-color: white;}#sk-container-id-21 div.sk-parallel-item:first-child::after {align-self: flex-end;width: 50%;}#sk-container-id-21 div.sk-parallel-item:last-child::after {align-self: flex-start;width: 50%;}#sk-container-id-21 div.sk-parallel-item:only-child::after {width: 0;}#sk-container-id-21 div.sk-dashed-wrapped {border: 1px dashed gray;margin: 0 0.4em 0.5em 0.4em;box-sizing: border-box;padding-bottom: 0.4em;background-color: white;}#sk-container-id-21 div.sk-label label {font-family: monospace;font-weight: bold;display: inline-block;line-height: 1.2em;}#sk-container-id-21 div.sk-label-container {text-align: center;}#sk-container-id-21 div.sk-container {/* jupyter's `normalize.less` sets `[hidden] { display: none; }` but bootstrap.min.css set `[hidden] { display: none !important; }` so we also need the `!important` here to be able to override the default hidden behavior on the sphinx rendered scikit-learn.org. See: https://github.com/scikit-learn/scikit-learn/issues/21755 */display: inline-block !important;position: relative;}#sk-container-id-21 div.sk-text-repr-fallback {display: none;}</style><div id=\"sk-container-id-21\" class=\"sk-top-container\"><div class=\"sk-text-repr-fallback\"><pre>KNeighborsClassifier()</pre><b>In a Jupyter environment, please rerun this cell to show the HTML representation or trust the notebook. <br />On GitHub, the HTML representation is unable to render, please try loading this page with nbviewer.org.</b></div><div class=\"sk-container\" hidden><div class=\"sk-item\"><div class=\"sk-estimator sk-toggleable\"><input class=\"sk-toggleable__control sk-hidden--visually\" id=\"sk-estimator-id-21\" type=\"checkbox\" checked><label for=\"sk-estimator-id-21\" class=\"sk-toggleable__label sk-toggleable__label-arrow\">KNeighborsClassifier</label><div class=\"sk-toggleable__content\"><pre>KNeighborsClassifier()</pre></div></div></div></div></div>"
     },
     "execution_count": 288,
     "metadata": {},
     "output_type": "execute_result"
    }
   ],
   "source": [
    "# 학습 진행 :학습용 데이터 진행 .fit(2D, 1D)\n",
    "model.fit(X_train, y_train)"
   ],
   "metadata": {
    "collapsed": false,
    "ExecuteTime": {
     "end_time": "2024-02-26T04:40:58.372677500Z",
     "start_time": "2024-02-26T04:40:58.336640400Z"
    }
   },
   "id": "6642a5941e3b0280",
   "execution_count": 288
  },
  {
   "cell_type": "markdown",
   "source": [
    "### 5) test 진행 : 학습에 사용되지 않은 데이터로 진행"
   ],
   "metadata": {
    "collapsed": false
   },
   "id": "bc0c473189d86556"
  },
  {
   "cell_type": "code",
   "outputs": [
    {
     "data": {
      "text/plain": "1.0"
     },
     "execution_count": 289,
     "metadata": {},
     "output_type": "execute_result"
    }
   ],
   "source": [
    "model.score(X_val, y_val)"
   ],
   "metadata": {
    "collapsed": false,
    "ExecuteTime": {
     "end_time": "2024-02-26T04:40:58.395641900Z",
     "start_time": "2024-02-26T04:40:58.363641900Z"
    }
   },
   "id": "3234906d86b3c77d",
   "execution_count": 289
  },
  {
   "cell_type": "markdown",
   "source": [
    "### 6) 모델 활용 예측 : 새로운 데이터로 진행"
   ],
   "metadata": {
    "collapsed": false
   },
   "id": "17b8a638862f71c8"
  },
  {
   "cell_type": "code",
   "outputs": [
    {
     "data": {
      "text/plain": "(array([0, 0, 0, 0, 1, 0, 0, 0, 1, 0, 1, 0, 1]),\n array([0, 0, 0, 0, 1, 0, 0, 0, 1, 0, 1, 0, 1]))"
     },
     "execution_count": 290,
     "metadata": {},
     "output_type": "execute_result"
    }
   ],
   "source": [
    "import numpy as np\n",
    "model.predict(X_test), np.array(y_test) # 잘 맞다"
   ],
   "metadata": {
    "collapsed": false,
    "ExecuteTime": {
     "end_time": "2024-02-26T04:40:58.456163300Z",
     "start_time": "2024-02-26T04:40:58.398640600Z"
    }
   },
   "id": "cc8014a1649dddc6",
   "execution_count": 290
  },
  {
   "cell_type": "markdown",
   "source": [
    "### 6-1) 사용자로부터 전달 받은 새로운 데이터에 대한 예측==> 학습할 때 전달되는 피처 형태와 동일한 데이터"
   ],
   "metadata": {
    "collapsed": false
   },
   "id": "ae3f97e66cbb11b"
  },
  {
   "cell_type": "code",
   "outputs": [
    {
     "data": {
      "text/plain": "   Weight  Length\n0     160      25",
      "text/html": "<div>\n<style scoped>\n    .dataframe tbody tr th:only-of-type {\n        vertical-align: middle;\n    }\n\n    .dataframe tbody tr th {\n        vertical-align: top;\n    }\n\n    .dataframe thead th {\n        text-align: right;\n    }\n</style>\n<table border=\"1\" class=\"dataframe\">\n  <thead>\n    <tr style=\"text-align: right;\">\n      <th></th>\n      <th>Weight</th>\n      <th>Length</th>\n    </tr>\n  </thead>\n  <tbody>\n    <tr>\n      <th>0</th>\n      <td>160</td>\n      <td>25</td>\n    </tr>\n  </tbody>\n</table>\n</div>"
     },
     "execution_count": 291,
     "metadata": {},
     "output_type": "execute_result"
    }
   ],
   "source": [
    "# [ 길이 25, 무게 160인 생선의 품종 예측 ]\n",
    "new_data = pd.DataFrame([[160, 25]], columns=two_species_df.columns[1:])\n",
    "new_data"
   ],
   "metadata": {
    "collapsed": false,
    "ExecuteTime": {
     "end_time": "2024-02-26T04:40:58.459161900Z",
     "start_time": "2024-02-26T04:40:58.418646500Z"
    }
   },
   "id": "da62d943627f2f13",
   "execution_count": 291
  },
  {
   "cell_type": "code",
   "outputs": [
    {
     "data": {
      "text/plain": "<Figure size 640x480 with 1 Axes>",
      "image/png": "[encoded data removed]"
     },
     "metadata": {},
     "output_type": "display_data"
    }
   ],
   "source": [
    "# 새로운 데이터와 학습 데이터의 시각화\n",
    "plt.plot(new_data.Weight, new_data.Length, 'ro', label='new data')\n",
    "plt.scatter(two_species_df.Weight, two_species_df.Length, c=two_species_df.Species, cmap='viridis')\n",
    "\n",
    "plt.title('Species Prediction')\n",
    "plt.xlabel('Weight')\n",
    "plt.ylabel('Length')\n",
    "plt.legend()\n",
    "plt.show()"
   ],
   "metadata": {
    "collapsed": false,
    "ExecuteTime": {
     "end_time": "2024-02-26T04:43:46.761103500Z",
     "start_time": "2024-02-26T04:43:46.658555600Z"
    }
   },
   "id": "f97d5125d1d487b8",
   "execution_count": 296
  },
  {
   "cell_type": "code",
   "outputs": [
    {
     "data": {
      "text/plain": "array([1])"
     },
     "execution_count": 293,
     "metadata": {},
     "output_type": "execute_result"
    }
   ],
   "source": [
    "# 생성된 모델로 새로운 데이터 품종 예측\n",
    "model.predict(new_data)"
   ],
   "metadata": {
    "collapsed": false,
    "ExecuteTime": {
     "end_time": "2024-02-26T04:40:58.550676200Z",
     "start_time": "2024-02-26T04:40:58.538677600Z"
    }
   },
   "id": "2c8d2d3de1959738",
   "execution_count": 293
  },
  {
   "cell_type": "code",
   "outputs": [
    {
     "data": {
      "text/plain": "[20, 8, 25, 1, 21]"
     },
     "execution_count": 294,
     "metadata": {},
     "output_type": "execute_result"
    }
   ],
   "source": [
    "# 새로운 데이터의 최근접 데이터 추출\n",
    "_, idx = model.kneighbors(new_data)\n",
    "idx.tolist()[0]         # .tolist() : numpy array 를 list 로 변환"
   ],
   "metadata": {
    "collapsed": false,
    "ExecuteTime": {
     "end_time": "2024-02-26T04:42:05.070851900Z",
     "start_time": "2024-02-26T04:42:05.025827100Z"
    }
   },
   "id": "40180805f66969cf",
   "execution_count": 294
  },
  {
   "cell_type": "code",
   "outputs": [
    {
     "data": {
      "text/plain": "    Species  Weight  Length\n15        0   600.0    32.0\n20        0   575.0    34.0\n21        0   685.0    34.0\n18        0   610.0    33.5\n11        0   500.0    31.0",
      "text/html": "<div>\n<style scoped>\n    .dataframe tbody tr th:only-of-type {\n        vertical-align: middle;\n    }\n\n    .dataframe tbody tr th {\n        vertical-align: top;\n    }\n\n    .dataframe thead th {\n        text-align: right;\n    }\n</style>\n<table border=\"1\" class=\"dataframe\">\n  <thead>\n    <tr style=\"text-align: right;\">\n      <th></th>\n      <th>Species</th>\n      <th>Weight</th>\n      <th>Length</th>\n    </tr>\n  </thead>\n  <tbody>\n    <tr>\n      <th>15</th>\n      <td>0</td>\n      <td>600.0</td>\n      <td>32.0</td>\n    </tr>\n    <tr>\n      <th>20</th>\n      <td>0</td>\n      <td>575.0</td>\n      <td>34.0</td>\n    </tr>\n    <tr>\n      <th>21</th>\n      <td>0</td>\n      <td>685.0</td>\n      <td>34.0</td>\n    </tr>\n    <tr>\n      <th>18</th>\n      <td>0</td>\n      <td>610.0</td>\n      <td>33.5</td>\n    </tr>\n    <tr>\n      <th>11</th>\n      <td>0</td>\n      <td>500.0</td>\n      <td>31.0</td>\n    </tr>\n  </tbody>\n</table>\n</div>"
     },
     "execution_count": 295,
     "metadata": {},
     "output_type": "execute_result"
    }
   ],
   "source": [
    "two_species_df.iloc[idx.tolist()[0]]"
   ],
   "metadata": {
    "collapsed": false,
    "ExecuteTime": {
     "end_time": "2024-02-26T04:42:48.098624200Z",
     "start_time": "2024-02-26T04:42:48.072084900Z"
    }
   },
   "id": "a456459a51016ed2",
   "execution_count": 295
  },
  {
   "cell_type": "code",
   "outputs": [],
   "source": [],
   "metadata": {
    "collapsed": false
   },
   "id": "a60597097e49dff9"
  }
 ],
 "metadata": {
  "kernelspec": {
   "display_name": "Python 3",
   "language": "python",
   "name": "python3"
  },
  "language_info": {
   "codemirror_mode": {
    "name": "ipython",
    "version": 2
   },
   "file_extension": ".py",
   "mimetype": "text/x-python",
   "name": "python",
   "nbconvert_exporter": "python",
   "pygments_lexer": "ipython2",
   "version": "2.7.6"
  }
 },
 "nbformat": 4,
 "nbformat_minor": 5
}
