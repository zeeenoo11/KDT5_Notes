{
 "cells": [
  {
   "cell_type": "markdown",
   "metadata": {},
   "source": [
    "### 목표 : 생선 품종 분류 모델\n",
    "- 데이터 : 2가지 품종의 생선 데이터 fish.csv\n",
    "- 피 쳐 : Weight, Length\n",
    "- 타 겟 : Species\n",
    "- 유 형 : 지도학습 + 분류"
   ]
  },
  {
   "cell_type": "markdown",
   "metadata": {},
   "source": [
    "(1) 모듈 로딩 & 데이터 준비"
   ]
  },
  {
   "cell_type": "code",
   "execution_count": 2,
   "metadata": {
    "ExecuteTime": {
     "end_time": "2024-02-26T02:31:46.403167200Z",
     "start_time": "2024-02-26T02:31:44.555599Z"
    }
   },
   "outputs": [],
   "source": [
    "import pandas as pd                                    # 데이터 파일 관련 모듈\n",
    "from sklearn.neighbors import KNeighborsClassifier     # 기계 학습 관련 모듈\n",
    "import matplotlib.pyplot as plt"
   ]
  },
  {
   "cell_type": "code",
   "execution_count": 3,
   "metadata": {
    "ExecuteTime": {
     "end_time": "2024-02-26T02:31:46.420388700Z",
     "start_time": "2024-02-26T02:31:46.406167500Z"
    }
   },
   "outputs": [],
   "source": [
    "data_file = '../data/fish.csv'"
   ]
  },
  {
   "cell_type": "code",
   "execution_count": 4,
   "metadata": {
    "ExecuteTime": {
     "end_time": "2024-02-26T02:31:46.453910800Z",
     "start_time": "2024-02-26T02:31:46.420388700Z"
    }
   },
   "outputs": [
    {
     "name": "stdout",
     "output_type": "stream",
     "text": [
      "<class 'pandas.core.frame.DataFrame'>\n",
      "RangeIndex: 159 entries, 0 to 158\n",
      "Data columns (total 3 columns):\n",
      " #   Column   Non-Null Count  Dtype  \n",
      "---  ------   --------------  -----  \n",
      " 0   Species  159 non-null    object \n",
      " 1   Weight   159 non-null    float64\n",
      " 2   Length   159 non-null    float64\n",
      "dtypes: float64(2), object(1)\n",
      "memory usage: 3.9+ KB\n"
     ]
    }
   ],
   "source": [
    "# 5개 피쳐/특성 중 2개의 피쳐/특성 선택\n",
    "fishDF = pd.read_csv(data_file, usecols=[0,1,2])\n",
    "\n",
    "fishDF.info()"
   ]
  },
  {
   "cell_type": "code",
   "execution_count": 5,
   "metadata": {
    "ExecuteTime": {
     "end_time": "2024-02-26T02:31:46.494525900Z",
     "start_time": "2024-02-26T02:31:46.451911500Z"
    }
   },
   "outputs": [
    {
     "name": "stdout",
     "output_type": "stream",
     "text": [
      "<class 'pandas.core.frame.DataFrame'>\n",
      "Index: 49 entries, 0 to 158\n",
      "Data columns (total 3 columns):\n",
      " #   Column   Non-Null Count  Dtype  \n",
      "---  ------   --------------  -----  \n",
      " 0   Species  49 non-null     object \n",
      " 1   Weight   49 non-null     float64\n",
      " 2   Length   49 non-null     float64\n",
      "dtypes: float64(2), object(1)\n",
      "memory usage: 1.5+ KB\n"
     ]
    }
   ],
   "source": [
    "# Bream, Smelt 품종 행만 추출\n",
    "twofishDF = fishDF[fishDF['Species'].isin(['Bream','Smelt'])]  # Boolean Indexing\n",
    "\n",
    "# 해당 행만 도출\n",
    "twofishDF.info()"
   ]
  },
  {
   "cell_type": "code",
   "execution_count": 6,
   "metadata": {
    "ExecuteTime": {
     "end_time": "2024-02-26T02:31:46.496528200Z",
     "start_time": "2024-02-26T02:31:46.472239900Z"
    }
   },
   "outputs": [
    {
     "data": {
      "text/plain": "   Species  Weight  Length\n0    Bream   242.0    25.4\n1    Bream   290.0    26.3\n2    Bream   340.0    26.5\n3    Bream   363.0    29.0\n4    Bream   430.0    29.0\n5    Bream   450.0    29.7\n6    Bream   500.0    29.7\n7    Bream   390.0    30.0\n8    Bream   450.0    30.0\n9    Bream   500.0    30.7\n10   Bream   475.0    31.0\n11   Bream   500.0    31.0\n12   Bream   500.0    31.5\n13   Bream   340.0    32.0\n14   Bream   600.0    32.0\n15   Bream   600.0    32.0\n16   Bream   700.0    33.0\n17   Bream   700.0    33.0\n18   Bream   610.0    33.5\n19   Bream   650.0    33.5\n20   Bream   575.0    34.0\n21   Bream   685.0    34.0\n22   Bream   620.0    34.5\n23   Bream   680.0    35.0\n24   Bream   700.0    35.0\n25   Bream   725.0    35.0\n26   Bream   720.0    35.0\n27   Bream   714.0    36.0\n28   Bream   850.0    36.0\n29   Bream  1000.0    37.0\n30   Bream   920.0    38.5\n31   Bream   955.0    38.5\n32   Bream   925.0    39.5\n33   Bream   975.0    41.0\n34   Bream   950.0    41.0\n35   Smelt     6.7     9.8\n36   Smelt     7.5    10.5\n37   Smelt     7.0    10.6\n38   Smelt     9.7    11.0\n39   Smelt     9.8    11.2\n40   Smelt     8.7    11.3\n41   Smelt    10.0    11.8\n42   Smelt     9.9    11.8\n43   Smelt     9.8    12.0\n44   Smelt    12.2    12.2\n45   Smelt    13.4    12.4\n46   Smelt    12.2    13.0\n47   Smelt    19.7    14.3\n48   Smelt    19.9    15.0",
      "text/html": "<div>\n<style scoped>\n    .dataframe tbody tr th:only-of-type {\n        vertical-align: middle;\n    }\n\n    .dataframe tbody tr th {\n        vertical-align: top;\n    }\n\n    .dataframe thead th {\n        text-align: right;\n    }\n</style>\n<table border=\"1\" class=\"dataframe\">\n  <thead>\n    <tr style=\"text-align: right;\">\n      <th></th>\n      <th>Species</th>\n      <th>Weight</th>\n      <th>Length</th>\n    </tr>\n  </thead>\n  <tbody>\n    <tr>\n      <th>0</th>\n      <td>Bream</td>\n      <td>242.0</td>\n      <td>25.4</td>\n    </tr>\n    <tr>\n      <th>1</th>\n      <td>Bream</td>\n      <td>290.0</td>\n      <td>26.3</td>\n    </tr>\n    <tr>\n      <th>2</th>\n      <td>Bream</td>\n      <td>340.0</td>\n      <td>26.5</td>\n    </tr>\n    <tr>\n      <th>3</th>\n      <td>Bream</td>\n      <td>363.0</td>\n      <td>29.0</td>\n    </tr>\n    <tr>\n      <th>4</th>\n      <td>Bream</td>\n      <td>430.0</td>\n      <td>29.0</td>\n    </tr>\n    <tr>\n      <th>5</th>\n      <td>Bream</td>\n      <td>450.0</td>\n      <td>29.7</td>\n    </tr>\n    <tr>\n      <th>6</th>\n      <td>Bream</td>\n      <td>500.0</td>\n      <td>29.7</td>\n    </tr>\n    <tr>\n      <th>7</th>\n      <td>Bream</td>\n      <td>390.0</td>\n      <td>30.0</td>\n    </tr>\n    <tr>\n      <th>8</th>\n      <td>Bream</td>\n      <td>450.0</td>\n      <td>30.0</td>\n    </tr>\n    <tr>\n      <th>9</th>\n      <td>Bream</td>\n      <td>500.0</td>\n      <td>30.7</td>\n    </tr>\n    <tr>\n      <th>10</th>\n      <td>Bream</td>\n      <td>475.0</td>\n      <td>31.0</td>\n    </tr>\n    <tr>\n      <th>11</th>\n      <td>Bream</td>\n      <td>500.0</td>\n      <td>31.0</td>\n    </tr>\n    <tr>\n      <th>12</th>\n      <td>Bream</td>\n      <td>500.0</td>\n      <td>31.5</td>\n    </tr>\n    <tr>\n      <th>13</th>\n      <td>Bream</td>\n      <td>340.0</td>\n      <td>32.0</td>\n    </tr>\n    <tr>\n      <th>14</th>\n      <td>Bream</td>\n      <td>600.0</td>\n      <td>32.0</td>\n    </tr>\n    <tr>\n      <th>15</th>\n      <td>Bream</td>\n      <td>600.0</td>\n      <td>32.0</td>\n    </tr>\n    <tr>\n      <th>16</th>\n      <td>Bream</td>\n      <td>700.0</td>\n      <td>33.0</td>\n    </tr>\n    <tr>\n      <th>17</th>\n      <td>Bream</td>\n      <td>700.0</td>\n      <td>33.0</td>\n    </tr>\n    <tr>\n      <th>18</th>\n      <td>Bream</td>\n      <td>610.0</td>\n      <td>33.5</td>\n    </tr>\n    <tr>\n      <th>19</th>\n      <td>Bream</td>\n      <td>650.0</td>\n      <td>33.5</td>\n    </tr>\n    <tr>\n      <th>20</th>\n      <td>Bream</td>\n      <td>575.0</td>\n      <td>34.0</td>\n    </tr>\n    <tr>\n      <th>21</th>\n      <td>Bream</td>\n      <td>685.0</td>\n      <td>34.0</td>\n    </tr>\n    <tr>\n      <th>22</th>\n      <td>Bream</td>\n      <td>620.0</td>\n      <td>34.5</td>\n    </tr>\n    <tr>\n      <th>23</th>\n      <td>Bream</td>\n      <td>680.0</td>\n      <td>35.0</td>\n    </tr>\n    <tr>\n      <th>24</th>\n      <td>Bream</td>\n      <td>700.0</td>\n      <td>35.0</td>\n    </tr>\n    <tr>\n      <th>25</th>\n      <td>Bream</td>\n      <td>725.0</td>\n      <td>35.0</td>\n    </tr>\n    <tr>\n      <th>26</th>\n      <td>Bream</td>\n      <td>720.0</td>\n      <td>35.0</td>\n    </tr>\n    <tr>\n      <th>27</th>\n      <td>Bream</td>\n      <td>714.0</td>\n      <td>36.0</td>\n    </tr>\n    <tr>\n      <th>28</th>\n      <td>Bream</td>\n      <td>850.0</td>\n      <td>36.0</td>\n    </tr>\n    <tr>\n      <th>29</th>\n      <td>Bream</td>\n      <td>1000.0</td>\n      <td>37.0</td>\n    </tr>\n    <tr>\n      <th>30</th>\n      <td>Bream</td>\n      <td>920.0</td>\n      <td>38.5</td>\n    </tr>\n    <tr>\n      <th>31</th>\n      <td>Bream</td>\n      <td>955.0</td>\n      <td>38.5</td>\n    </tr>\n    <tr>\n      <th>32</th>\n      <td>Bream</td>\n      <td>925.0</td>\n      <td>39.5</td>\n    </tr>\n    <tr>\n      <th>33</th>\n      <td>Bream</td>\n      <td>975.0</td>\n      <td>41.0</td>\n    </tr>\n    <tr>\n      <th>34</th>\n      <td>Bream</td>\n      <td>950.0</td>\n      <td>41.0</td>\n    </tr>\n    <tr>\n      <th>35</th>\n      <td>Smelt</td>\n      <td>6.7</td>\n      <td>9.8</td>\n    </tr>\n    <tr>\n      <th>36</th>\n      <td>Smelt</td>\n      <td>7.5</td>\n      <td>10.5</td>\n    </tr>\n    <tr>\n      <th>37</th>\n      <td>Smelt</td>\n      <td>7.0</td>\n      <td>10.6</td>\n    </tr>\n    <tr>\n      <th>38</th>\n      <td>Smelt</td>\n      <td>9.7</td>\n      <td>11.0</td>\n    </tr>\n    <tr>\n      <th>39</th>\n      <td>Smelt</td>\n      <td>9.8</td>\n      <td>11.2</td>\n    </tr>\n    <tr>\n      <th>40</th>\n      <td>Smelt</td>\n      <td>8.7</td>\n      <td>11.3</td>\n    </tr>\n    <tr>\n      <th>41</th>\n      <td>Smelt</td>\n      <td>10.0</td>\n      <td>11.8</td>\n    </tr>\n    <tr>\n      <th>42</th>\n      <td>Smelt</td>\n      <td>9.9</td>\n      <td>11.8</td>\n    </tr>\n    <tr>\n      <th>43</th>\n      <td>Smelt</td>\n      <td>9.8</td>\n      <td>12.0</td>\n    </tr>\n    <tr>\n      <th>44</th>\n      <td>Smelt</td>\n      <td>12.2</td>\n      <td>12.2</td>\n    </tr>\n    <tr>\n      <th>45</th>\n      <td>Smelt</td>\n      <td>13.4</td>\n      <td>12.4</td>\n    </tr>\n    <tr>\n      <th>46</th>\n      <td>Smelt</td>\n      <td>12.2</td>\n      <td>13.0</td>\n    </tr>\n    <tr>\n      <th>47</th>\n      <td>Smelt</td>\n      <td>19.7</td>\n      <td>14.3</td>\n    </tr>\n    <tr>\n      <th>48</th>\n      <td>Smelt</td>\n      <td>19.9</td>\n      <td>15.0</td>\n    </tr>\n  </tbody>\n</table>\n</div>"
     },
     "execution_count": 6,
     "metadata": {},
     "output_type": "execute_result"
    }
   ],
   "source": [
    "twofishDF.reset_index(drop = True, inplace=True)\n",
    "twofishDF"
   ]
  },
  {
   "cell_type": "markdown",
   "metadata": {},
   "source": [
    "(2) 데이터 전처리"
   ]
  },
  {
   "cell_type": "code",
   "execution_count": 7,
   "metadata": {
    "ExecuteTime": {
     "end_time": "2024-02-26T02:31:46.512237200Z",
     "start_time": "2024-02-26T02:31:46.498965800Z"
    }
   },
   "outputs": [
    {
     "name": "stderr",
     "output_type": "stream",
     "text": [
      "C:\\Users\\wjs31\\AppData\\Local\\Temp\\ipykernel_42464\\1510856585.py:3: SettingWithCopyWarning: \n",
      "A value is trying to be set on a copy of a slice from a DataFrame.\n",
      "Try using .loc[row_indexer,col_indexer] = value instead\n",
      "\n",
      "See the caveats in the documentation: https://pandas.pydata.org/pandas-docs/stable/user_guide/indexing.html#returning-a-view-versus-a-copy\n",
      "  twofishDF['Species'] = twofishDF['Species'].replace({'Bream':0,'Smelt':1}).copy()\n"
     ]
    }
   ],
   "source": [
    "# Bream, Smelt를 수치화\n",
    "# Bream => 0, Smelt => 1로 값 변환\n",
    "twofishDF['Species'] = twofishDF['Species'].replace({'Bream':0,'Smelt':1}).copy()"
   ]
  },
  {
   "cell_type": "code",
   "execution_count": 8,
   "metadata": {
    "ExecuteTime": {
     "end_time": "2024-02-26T02:31:46.668815300Z",
     "start_time": "2024-02-26T02:31:46.513239600Z"
    }
   },
   "outputs": [
    {
     "data": {
      "text/plain": "<Figure size 640x480 with 1 Axes>",
      "image/png": "[encoded data removed]"
     },
     "metadata": {},
     "output_type": "display_data"
    }
   ],
   "source": [
    "# Weight, Length로 품종 구별이 가능한지 시각화\n",
    "plt.scatter(twofishDF['Weight'], twofishDF['Length'], c = twofishDF['Species'])\n",
    "plt.xlabel('Weight')\n",
    "plt.ylabel('Length')\n",
    "plt.show()"
   ]
  },
  {
   "cell_type": "markdown",
   "metadata": {},
   "source": [
    "(3) 기계학습을 위한 데이터 준비 \n",
    "- 피쳐/특성 + 타겟/라벨/클래스\n",
    "- 학습용 데이터셋     : 80%\n",
    "- 테스트용 데이터셋   : 20%"
   ]
  },
  {
   "cell_type": "markdown",
   "source": [
    "(3-1) 직접 타겟/라벨 컬럼의 비율을 고려해서 학습&테스트용 데이터셋 준비"
   ],
   "metadata": {
    "collapsed": false
   }
  },
  {
   "cell_type": "code",
   "execution_count": 9,
   "metadata": {
    "ExecuteTime": {
     "end_time": "2024-02-26T02:31:46.669846900Z",
     "start_time": "2024-02-26T02:31:46.633663700Z"
    }
   },
   "outputs": [
    {
     "data": {
      "text/plain": "    Species  Weight  Length\n7         0   390.0    30.0\n45        1    13.4    12.4\n3         0   363.0    29.0\n1         0   290.0    26.3\n33        0   975.0    41.0\n18        0   610.0    33.5\n21        0   685.0    34.0\n34        0   950.0    41.0\n14        0   600.0    32.0\n24        0   700.0    35.0\n27        0   714.0    36.0\n12        0   500.0    31.5\n35        1     6.7     9.8\n28        0   850.0    36.0\n47        1    19.7    14.3\n46        1    12.2    13.0\n17        0   700.0    33.0\n22        0   620.0    34.5\n31        0   955.0    38.5\n40        1     8.7    11.3\n2         0   340.0    26.5\n10        0   475.0    31.0\n38        1     9.7    11.0\n4         0   430.0    29.0\n6         0   500.0    29.7\n42        1     9.9    11.8\n39        1     9.8    11.2\n44        1    12.2    12.2\n16        0   700.0    33.0\n32        0   925.0    39.5\n15        0   600.0    32.0\n20        0   575.0    34.0\n25        0   725.0    35.0\n41        1    10.0    11.8\n13        0   340.0    32.0\n48        1    19.9    15.0\n29        0  1000.0    37.0\n37        1     7.0    10.6\n30        0   920.0    38.5\n19        0   650.0    33.5\n9         0   500.0    30.7\n8         0   450.0    30.0\n26        0   720.0    35.0\n11        0   500.0    31.0\n43        1     9.8    12.0\n36        1     7.5    10.5\n0         0   242.0    25.4\n23        0   680.0    35.0\n5         0   450.0    29.7",
      "text/html": "<div>\n<style scoped>\n    .dataframe tbody tr th:only-of-type {\n        vertical-align: middle;\n    }\n\n    .dataframe tbody tr th {\n        vertical-align: top;\n    }\n\n    .dataframe thead th {\n        text-align: right;\n    }\n</style>\n<table border=\"1\" class=\"dataframe\">\n  <thead>\n    <tr style=\"text-align: right;\">\n      <th></th>\n      <th>Species</th>\n      <th>Weight</th>\n      <th>Length</th>\n    </tr>\n  </thead>\n  <tbody>\n    <tr>\n      <th>7</th>\n      <td>0</td>\n      <td>390.0</td>\n      <td>30.0</td>\n    </tr>\n    <tr>\n      <th>45</th>\n      <td>1</td>\n      <td>13.4</td>\n      <td>12.4</td>\n    </tr>\n    <tr>\n      <th>3</th>\n      <td>0</td>\n      <td>363.0</td>\n      <td>29.0</td>\n    </tr>\n    <tr>\n      <th>1</th>\n      <td>0</td>\n      <td>290.0</td>\n      <td>26.3</td>\n    </tr>\n    <tr>\n      <th>33</th>\n      <td>0</td>\n      <td>975.0</td>\n      <td>41.0</td>\n    </tr>\n    <tr>\n      <th>18</th>\n      <td>0</td>\n      <td>610.0</td>\n      <td>33.5</td>\n    </tr>\n    <tr>\n      <th>21</th>\n      <td>0</td>\n      <td>685.0</td>\n      <td>34.0</td>\n    </tr>\n    <tr>\n      <th>34</th>\n      <td>0</td>\n      <td>950.0</td>\n      <td>41.0</td>\n    </tr>\n    <tr>\n      <th>14</th>\n      <td>0</td>\n      <td>600.0</td>\n      <td>32.0</td>\n    </tr>\n    <tr>\n      <th>24</th>\n      <td>0</td>\n      <td>700.0</td>\n      <td>35.0</td>\n    </tr>\n    <tr>\n      <th>27</th>\n      <td>0</td>\n      <td>714.0</td>\n      <td>36.0</td>\n    </tr>\n    <tr>\n      <th>12</th>\n      <td>0</td>\n      <td>500.0</td>\n      <td>31.5</td>\n    </tr>\n    <tr>\n      <th>35</th>\n      <td>1</td>\n      <td>6.7</td>\n      <td>9.8</td>\n    </tr>\n    <tr>\n      <th>28</th>\n      <td>0</td>\n      <td>850.0</td>\n      <td>36.0</td>\n    </tr>\n    <tr>\n      <th>47</th>\n      <td>1</td>\n      <td>19.7</td>\n      <td>14.3</td>\n    </tr>\n    <tr>\n      <th>46</th>\n      <td>1</td>\n      <td>12.2</td>\n      <td>13.0</td>\n    </tr>\n    <tr>\n      <th>17</th>\n      <td>0</td>\n      <td>700.0</td>\n      <td>33.0</td>\n    </tr>\n    <tr>\n      <th>22</th>\n      <td>0</td>\n      <td>620.0</td>\n      <td>34.5</td>\n    </tr>\n    <tr>\n      <th>31</th>\n      <td>0</td>\n      <td>955.0</td>\n      <td>38.5</td>\n    </tr>\n    <tr>\n      <th>40</th>\n      <td>1</td>\n      <td>8.7</td>\n      <td>11.3</td>\n    </tr>\n    <tr>\n      <th>2</th>\n      <td>0</td>\n      <td>340.0</td>\n      <td>26.5</td>\n    </tr>\n    <tr>\n      <th>10</th>\n      <td>0</td>\n      <td>475.0</td>\n      <td>31.0</td>\n    </tr>\n    <tr>\n      <th>38</th>\n      <td>1</td>\n      <td>9.7</td>\n      <td>11.0</td>\n    </tr>\n    <tr>\n      <th>4</th>\n      <td>0</td>\n      <td>430.0</td>\n      <td>29.0</td>\n    </tr>\n    <tr>\n      <th>6</th>\n      <td>0</td>\n      <td>500.0</td>\n      <td>29.7</td>\n    </tr>\n    <tr>\n      <th>42</th>\n      <td>1</td>\n      <td>9.9</td>\n      <td>11.8</td>\n    </tr>\n    <tr>\n      <th>39</th>\n      <td>1</td>\n      <td>9.8</td>\n      <td>11.2</td>\n    </tr>\n    <tr>\n      <th>44</th>\n      <td>1</td>\n      <td>12.2</td>\n      <td>12.2</td>\n    </tr>\n    <tr>\n      <th>16</th>\n      <td>0</td>\n      <td>700.0</td>\n      <td>33.0</td>\n    </tr>\n    <tr>\n      <th>32</th>\n      <td>0</td>\n      <td>925.0</td>\n      <td>39.5</td>\n    </tr>\n    <tr>\n      <th>15</th>\n      <td>0</td>\n      <td>600.0</td>\n      <td>32.0</td>\n    </tr>\n    <tr>\n      <th>20</th>\n      <td>0</td>\n      <td>575.0</td>\n      <td>34.0</td>\n    </tr>\n    <tr>\n      <th>25</th>\n      <td>0</td>\n      <td>725.0</td>\n      <td>35.0</td>\n    </tr>\n    <tr>\n      <th>41</th>\n      <td>1</td>\n      <td>10.0</td>\n      <td>11.8</td>\n    </tr>\n    <tr>\n      <th>13</th>\n      <td>0</td>\n      <td>340.0</td>\n      <td>32.0</td>\n    </tr>\n    <tr>\n      <th>48</th>\n      <td>1</td>\n      <td>19.9</td>\n      <td>15.0</td>\n    </tr>\n    <tr>\n      <th>29</th>\n      <td>0</td>\n      <td>1000.0</td>\n      <td>37.0</td>\n    </tr>\n    <tr>\n      <th>37</th>\n      <td>1</td>\n      <td>7.0</td>\n      <td>10.6</td>\n    </tr>\n    <tr>\n      <th>30</th>\n      <td>0</td>\n      <td>920.0</td>\n      <td>38.5</td>\n    </tr>\n    <tr>\n      <th>19</th>\n      <td>0</td>\n      <td>650.0</td>\n      <td>33.5</td>\n    </tr>\n    <tr>\n      <th>9</th>\n      <td>0</td>\n      <td>500.0</td>\n      <td>30.7</td>\n    </tr>\n    <tr>\n      <th>8</th>\n      <td>0</td>\n      <td>450.0</td>\n      <td>30.0</td>\n    </tr>\n    <tr>\n      <th>26</th>\n      <td>0</td>\n      <td>720.0</td>\n      <td>35.0</td>\n    </tr>\n    <tr>\n      <th>11</th>\n      <td>0</td>\n      <td>500.0</td>\n      <td>31.0</td>\n    </tr>\n    <tr>\n      <th>43</th>\n      <td>1</td>\n      <td>9.8</td>\n      <td>12.0</td>\n    </tr>\n    <tr>\n      <th>36</th>\n      <td>1</td>\n      <td>7.5</td>\n      <td>10.5</td>\n    </tr>\n    <tr>\n      <th>0</th>\n      <td>0</td>\n      <td>242.0</td>\n      <td>25.4</td>\n    </tr>\n    <tr>\n      <th>23</th>\n      <td>0</td>\n      <td>680.0</td>\n      <td>35.0</td>\n    </tr>\n    <tr>\n      <th>5</th>\n      <td>0</td>\n      <td>450.0</td>\n      <td>29.7</td>\n    </tr>\n  </tbody>\n</table>\n</div>"
     },
     "execution_count": 9,
     "metadata": {},
     "output_type": "execute_result"
    }
   ],
   "source": [
    "# 데이터 섞기 => 100% 모두 섞기\n",
    "twofishDF = twofishDF.sample(frac = 1.)\n",
    "twofishDF"
   ]
  },
  {
   "cell_type": "code",
   "execution_count": 10,
   "metadata": {
    "ExecuteTime": {
     "end_time": "2024-02-26T02:31:46.705221400Z",
     "start_time": "2024-02-26T02:31:46.649076700Z"
    }
   },
   "outputs": [
    {
     "data": {
      "text/plain": "    Species  Weight  Length\n7         0   390.0    30.0\n45        1    13.4    12.4\n3         0   363.0    29.0\n1         0   290.0    26.3\n33        0   975.0    41.0\n18        0   610.0    33.5\n21        0   685.0    34.0\n34        0   950.0    41.0\n14        0   600.0    32.0\n24        0   700.0    35.0\n27        0   714.0    36.0\n12        0   500.0    31.5\n35        1     6.7     9.8\n28        0   850.0    36.0\n47        1    19.7    14.3\n46        1    12.2    13.0\n17        0   700.0    33.0\n22        0   620.0    34.5\n31        0   955.0    38.5\n40        1     8.7    11.3\n2         0   340.0    26.5\n10        0   475.0    31.0\n38        1     9.7    11.0\n4         0   430.0    29.0\n6         0   500.0    29.7\n42        1     9.9    11.8\n39        1     9.8    11.2\n44        1    12.2    12.2\n16        0   700.0    33.0\n32        0   925.0    39.5\n15        0   600.0    32.0\n20        0   575.0    34.0\n25        0   725.0    35.0\n41        1    10.0    11.8\n13        0   340.0    32.0\n48        1    19.9    15.0\n29        0  1000.0    37.0\n37        1     7.0    10.6\n30        0   920.0    38.5\n19        0   650.0    33.5",
      "text/html": "<div>\n<style scoped>\n    .dataframe tbody tr th:only-of-type {\n        vertical-align: middle;\n    }\n\n    .dataframe tbody tr th {\n        vertical-align: top;\n    }\n\n    .dataframe thead th {\n        text-align: right;\n    }\n</style>\n<table border=\"1\" class=\"dataframe\">\n  <thead>\n    <tr style=\"text-align: right;\">\n      <th></th>\n      <th>Species</th>\n      <th>Weight</th>\n      <th>Length</th>\n    </tr>\n  </thead>\n  <tbody>\n    <tr>\n      <th>7</th>\n      <td>0</td>\n      <td>390.0</td>\n      <td>30.0</td>\n    </tr>\n    <tr>\n      <th>45</th>\n      <td>1</td>\n      <td>13.4</td>\n      <td>12.4</td>\n    </tr>\n    <tr>\n      <th>3</th>\n      <td>0</td>\n      <td>363.0</td>\n      <td>29.0</td>\n    </tr>\n    <tr>\n      <th>1</th>\n      <td>0</td>\n      <td>290.0</td>\n      <td>26.3</td>\n    </tr>\n    <tr>\n      <th>33</th>\n      <td>0</td>\n      <td>975.0</td>\n      <td>41.0</td>\n    </tr>\n    <tr>\n      <th>18</th>\n      <td>0</td>\n      <td>610.0</td>\n      <td>33.5</td>\n    </tr>\n    <tr>\n      <th>21</th>\n      <td>0</td>\n      <td>685.0</td>\n      <td>34.0</td>\n    </tr>\n    <tr>\n      <th>34</th>\n      <td>0</td>\n      <td>950.0</td>\n      <td>41.0</td>\n    </tr>\n    <tr>\n      <th>14</th>\n      <td>0</td>\n      <td>600.0</td>\n      <td>32.0</td>\n    </tr>\n    <tr>\n      <th>24</th>\n      <td>0</td>\n      <td>700.0</td>\n      <td>35.0</td>\n    </tr>\n    <tr>\n      <th>27</th>\n      <td>0</td>\n      <td>714.0</td>\n      <td>36.0</td>\n    </tr>\n    <tr>\n      <th>12</th>\n      <td>0</td>\n      <td>500.0</td>\n      <td>31.5</td>\n    </tr>\n    <tr>\n      <th>35</th>\n      <td>1</td>\n      <td>6.7</td>\n      <td>9.8</td>\n    </tr>\n    <tr>\n      <th>28</th>\n      <td>0</td>\n      <td>850.0</td>\n      <td>36.0</td>\n    </tr>\n    <tr>\n      <th>47</th>\n      <td>1</td>\n      <td>19.7</td>\n      <td>14.3</td>\n    </tr>\n    <tr>\n      <th>46</th>\n      <td>1</td>\n      <td>12.2</td>\n      <td>13.0</td>\n    </tr>\n    <tr>\n      <th>17</th>\n      <td>0</td>\n      <td>700.0</td>\n      <td>33.0</td>\n    </tr>\n    <tr>\n      <th>22</th>\n      <td>0</td>\n      <td>620.0</td>\n      <td>34.5</td>\n    </tr>\n    <tr>\n      <th>31</th>\n      <td>0</td>\n      <td>955.0</td>\n      <td>38.5</td>\n    </tr>\n    <tr>\n      <th>40</th>\n      <td>1</td>\n      <td>8.7</td>\n      <td>11.3</td>\n    </tr>\n    <tr>\n      <th>2</th>\n      <td>0</td>\n      <td>340.0</td>\n      <td>26.5</td>\n    </tr>\n    <tr>\n      <th>10</th>\n      <td>0</td>\n      <td>475.0</td>\n      <td>31.0</td>\n    </tr>\n    <tr>\n      <th>38</th>\n      <td>1</td>\n      <td>9.7</td>\n      <td>11.0</td>\n    </tr>\n    <tr>\n      <th>4</th>\n      <td>0</td>\n      <td>430.0</td>\n      <td>29.0</td>\n    </tr>\n    <tr>\n      <th>6</th>\n      <td>0</td>\n      <td>500.0</td>\n      <td>29.7</td>\n    </tr>\n    <tr>\n      <th>42</th>\n      <td>1</td>\n      <td>9.9</td>\n      <td>11.8</td>\n    </tr>\n    <tr>\n      <th>39</th>\n      <td>1</td>\n      <td>9.8</td>\n      <td>11.2</td>\n    </tr>\n    <tr>\n      <th>44</th>\n      <td>1</td>\n      <td>12.2</td>\n      <td>12.2</td>\n    </tr>\n    <tr>\n      <th>16</th>\n      <td>0</td>\n      <td>700.0</td>\n      <td>33.0</td>\n    </tr>\n    <tr>\n      <th>32</th>\n      <td>0</td>\n      <td>925.0</td>\n      <td>39.5</td>\n    </tr>\n    <tr>\n      <th>15</th>\n      <td>0</td>\n      <td>600.0</td>\n      <td>32.0</td>\n    </tr>\n    <tr>\n      <th>20</th>\n      <td>0</td>\n      <td>575.0</td>\n      <td>34.0</td>\n    </tr>\n    <tr>\n      <th>25</th>\n      <td>0</td>\n      <td>725.0</td>\n      <td>35.0</td>\n    </tr>\n    <tr>\n      <th>41</th>\n      <td>1</td>\n      <td>10.0</td>\n      <td>11.8</td>\n    </tr>\n    <tr>\n      <th>13</th>\n      <td>0</td>\n      <td>340.0</td>\n      <td>32.0</td>\n    </tr>\n    <tr>\n      <th>48</th>\n      <td>1</td>\n      <td>19.9</td>\n      <td>15.0</td>\n    </tr>\n    <tr>\n      <th>29</th>\n      <td>0</td>\n      <td>1000.0</td>\n      <td>37.0</td>\n    </tr>\n    <tr>\n      <th>37</th>\n      <td>1</td>\n      <td>7.0</td>\n      <td>10.6</td>\n    </tr>\n    <tr>\n      <th>30</th>\n      <td>0</td>\n      <td>920.0</td>\n      <td>38.5</td>\n    </tr>\n    <tr>\n      <th>19</th>\n      <td>0</td>\n      <td>650.0</td>\n      <td>33.5</td>\n    </tr>\n  </tbody>\n</table>\n</div>"
     },
     "execution_count": 10,
     "metadata": {},
     "output_type": "execute_result"
    }
   ],
   "source": [
    "# 학습과 테스트 비율 조절 갯수 계산\n",
    "num = round(twofishDF.shape[0] * 0.8)\n",
    "\n",
    "# 학습 데이터셋 추출\n",
    "trainDF = twofishDF.iloc[:num+1]\n",
    "\n",
    "# 테스트 데이터셋 추출\n",
    "testDF = twofishDF.iloc[num+1:]\n",
    "trainDF"
   ]
  },
  {
   "cell_type": "markdown",
   "source": [
    "(3-2) scikit-learn 모듈 활용한 학습&테스트용 데이터셋 준비 \n",
    "- 추가 모듈 로딩\n",
    "- 비율 설정 없이 학습/테스트셋 분리\n",
    "- [전달] 피쳐 데이터, 타겟 데이터\n",
    "- [기본] shuffle = True, train:test = 0.75 : 0.25\n",
    "- [설정] train:test = 0.8 : 0.2 => test_size, train_size 매개변수 값 설정\n",
    "- 분류의 경우 target이 불균형일 경우 비율 지정하는 stratify 매개변수를 target으로 설정\n",
    "- [반환] 학습용 피쳐, 테스트용 피쳐, 학습용 타겟, 테스트용 타겟  "
   ],
   "metadata": {
    "collapsed": false
   }
  },
  {
   "cell_type": "code",
   "outputs": [],
   "source": [
    "from sklearn.model_selection import train_test_split"
   ],
   "metadata": {
    "collapsed": false,
    "ExecuteTime": {
     "end_time": "2024-02-26T02:31:46.707222100Z",
     "start_time": "2024-02-26T02:31:46.665175900Z"
    }
   },
   "execution_count": 11
  },
  {
   "cell_type": "code",
   "outputs": [],
   "source": [
    "# 특성과 타겟 분리\n",
    "featureDF = twofishDF[twofishDF.columns[1:]]\n",
    "targetSR = twofishDF['Species']"
   ],
   "metadata": {
    "collapsed": false,
    "ExecuteTime": {
     "end_time": "2024-02-26T02:31:46.728758500Z",
     "start_time": "2024-02-26T02:31:46.680399Z"
    }
   },
   "execution_count": 12
  },
  {
   "cell_type": "code",
   "outputs": [],
   "source": [
    "# 학습용 피쳐, 테스트용 피쳐, 학습용 타겟, 테스트용 타겟  \n",
    "# xTrain,xTest,yTrain,yTest = train_test_split(featureDF,targetSR)"
   ],
   "metadata": {
    "collapsed": false,
    "ExecuteTime": {
     "end_time": "2024-02-26T02:31:46.772205700Z",
     "start_time": "2024-02-26T02:31:46.694219400Z"
    }
   },
   "execution_count": 13
  },
  {
   "cell_type": "code",
   "outputs": [],
   "source": [
    "# train : test = 0.8 : 0.2\n",
    "# xTrain,xTest,yTrain,yTest = train_test_split(featureDF,targetSR, test_size = 0.2)\n",
    "# xTrain,xTest,yTrain,yTest = train_test_split(featureDF,targetSR, train_size = 0.8) - 위와 동일 -> 둘 중 하나 사용"
   ],
   "metadata": {
    "collapsed": false,
    "ExecuteTime": {
     "end_time": "2024-02-26T02:31:46.797488500Z",
     "start_time": "2024-02-26T02:31:46.712465300Z"
    }
   },
   "execution_count": 14
  },
  {
   "cell_type": "code",
   "outputs": [],
   "source": [
    "# target 비율 맞추기\n",
    "xTrain,xTest,yTrain,yTest = train_test_split(featureDF,targetSR, test_size = 0.2, stratify=targetSR)"
   ],
   "metadata": {
    "collapsed": false,
    "ExecuteTime": {
     "end_time": "2024-02-26T02:31:46.853861400Z",
     "start_time": "2024-02-26T02:31:46.727753300Z"
    }
   },
   "execution_count": 15
  },
  {
   "cell_type": "code",
   "outputs": [],
   "source": [
    "### 검증용 데이터셋 준비 -> 학습용 데이터셋에서 분리\n",
    "xTrain,xVal,yTrain,yVal = train_test_split(xTrain,yTrain, test_size = 0.1, stratify=yTrain)"
   ],
   "metadata": {
    "collapsed": false,
    "ExecuteTime": {
     "end_time": "2024-02-26T02:31:46.853861400Z",
     "start_time": "2024-02-26T02:31:46.742759200Z"
    }
   },
   "execution_count": 16
  },
  {
   "cell_type": "markdown",
   "source": [
    "(4) 학습 진행\n",
    "- 학습 방법 : 지도학습 + 분류 => KNN\n",
    "- 모델 인스턴스 생성 => fit() 메서드"
   ],
   "metadata": {
    "collapsed": false
   }
  },
  {
   "cell_type": "code",
   "outputs": [
    {
     "data": {
      "text/plain": "KNeighborsClassifier()",
      "text/html": "<style>#sk-container-id-1 {color: black;}#sk-container-id-1 pre{padding: 0;}#sk-container-id-1 div.sk-toggleable {background-color: white;}#sk-container-id-1 label.sk-toggleable__label {cursor: pointer;display: block;width: 100%;margin-bottom: 0;padding: 0.3em;box-sizing: border-box;text-align: center;}#sk-container-id-1 label.sk-toggleable__label-arrow:before {content: \"▸\";float: left;margin-right: 0.25em;color: #696969;}#sk-container-id-1 label.sk-toggleable__label-arrow:hover:before {color: black;}#sk-container-id-1 div.sk-estimator:hover label.sk-toggleable__label-arrow:before {color: black;}#sk-container-id-1 div.sk-toggleable__content {max-height: 0;max-width: 0;overflow: hidden;text-align: left;background-color: #f0f8ff;}#sk-container-id-1 div.sk-toggleable__content pre {margin: 0.2em;color: black;border-radius: 0.25em;background-color: #f0f8ff;}#sk-container-id-1 input.sk-toggleable__control:checked~div.sk-toggleable__content {max-height: 200px;max-width: 100%;overflow: auto;}#sk-container-id-1 input.sk-toggleable__control:checked~label.sk-toggleable__label-arrow:before {content: \"▾\";}#sk-container-id-1 div.sk-estimator input.sk-toggleable__control:checked~label.sk-toggleable__label {background-color: #d4ebff;}#sk-container-id-1 div.sk-label input.sk-toggleable__control:checked~label.sk-toggleable__label {background-color: #d4ebff;}#sk-container-id-1 input.sk-hidden--visually {border: 0;clip: rect(1px 1px 1px 1px);clip: rect(1px, 1px, 1px, 1px);height: 1px;margin: -1px;overflow: hidden;padding: 0;position: absolute;width: 1px;}#sk-container-id-1 div.sk-estimator {font-family: monospace;background-color: #f0f8ff;border: 1px dotted black;border-radius: 0.25em;box-sizing: border-box;margin-bottom: 0.5em;}#sk-container-id-1 div.sk-estimator:hover {background-color: #d4ebff;}#sk-container-id-1 div.sk-parallel-item::after {content: \"\";width: 100%;border-bottom: 1px solid gray;flex-grow: 1;}#sk-container-id-1 div.sk-label:hover label.sk-toggleable__label {background-color: #d4ebff;}#sk-container-id-1 div.sk-serial::before {content: \"\";position: absolute;border-left: 1px solid gray;box-sizing: border-box;top: 0;bottom: 0;left: 50%;z-index: 0;}#sk-container-id-1 div.sk-serial {display: flex;flex-direction: column;align-items: center;background-color: white;padding-right: 0.2em;padding-left: 0.2em;position: relative;}#sk-container-id-1 div.sk-item {position: relative;z-index: 1;}#sk-container-id-1 div.sk-parallel {display: flex;align-items: stretch;justify-content: center;background-color: white;position: relative;}#sk-container-id-1 div.sk-item::before, #sk-container-id-1 div.sk-parallel-item::before {content: \"\";position: absolute;border-left: 1px solid gray;box-sizing: border-box;top: 0;bottom: 0;left: 50%;z-index: -1;}#sk-container-id-1 div.sk-parallel-item {display: flex;flex-direction: column;z-index: 1;position: relative;background-color: white;}#sk-container-id-1 div.sk-parallel-item:first-child::after {align-self: flex-end;width: 50%;}#sk-container-id-1 div.sk-parallel-item:last-child::after {align-self: flex-start;width: 50%;}#sk-container-id-1 div.sk-parallel-item:only-child::after {width: 0;}#sk-container-id-1 div.sk-dashed-wrapped {border: 1px dashed gray;margin: 0 0.4em 0.5em 0.4em;box-sizing: border-box;padding-bottom: 0.4em;background-color: white;}#sk-container-id-1 div.sk-label label {font-family: monospace;font-weight: bold;display: inline-block;line-height: 1.2em;}#sk-container-id-1 div.sk-label-container {text-align: center;}#sk-container-id-1 div.sk-container {/* jupyter's `normalize.less` sets `[hidden] { display: none; }` but bootstrap.min.css set `[hidden] { display: none !important; }` so we also need the `!important` here to be able to override the default hidden behavior on the sphinx rendered scikit-learn.org. See: https://github.com/scikit-learn/scikit-learn/issues/21755 */display: inline-block !important;position: relative;}#sk-container-id-1 div.sk-text-repr-fallback {display: none;}</style><div id=\"sk-container-id-1\" class=\"sk-top-container\"><div class=\"sk-text-repr-fallback\"><pre>KNeighborsClassifier()</pre><b>In a Jupyter environment, please rerun this cell to show the HTML representation or trust the notebook. <br />On GitHub, the HTML representation is unable to render, please try loading this page with nbviewer.org.</b></div><div class=\"sk-container\" hidden><div class=\"sk-item\"><div class=\"sk-estimator sk-toggleable\"><input class=\"sk-toggleable__control sk-hidden--visually\" id=\"sk-estimator-id-1\" type=\"checkbox\" checked><label for=\"sk-estimator-id-1\" class=\"sk-toggleable__label sk-toggleable__label-arrow\">KNeighborsClassifier</label><div class=\"sk-toggleable__content\"><pre>KNeighborsClassifier()</pre></div></div></div></div></div>"
     },
     "execution_count": 17,
     "metadata": {},
     "output_type": "execute_result"
    }
   ],
   "source": [
    "# 모델 인스턴스 생성\n",
    "model = KNeighborsClassifier()\n",
    "model"
   ],
   "metadata": {
    "collapsed": false,
    "ExecuteTime": {
     "end_time": "2024-02-26T02:31:46.879863Z",
     "start_time": "2024-02-26T02:31:46.756205700Z"
    }
   },
   "execution_count": 17
  },
  {
   "cell_type": "code",
   "outputs": [
    {
     "data": {
      "text/plain": "KNeighborsClassifier()",
      "text/html": "<style>#sk-container-id-2 {color: black;}#sk-container-id-2 pre{padding: 0;}#sk-container-id-2 div.sk-toggleable {background-color: white;}#sk-container-id-2 label.sk-toggleable__label {cursor: pointer;display: block;width: 100%;margin-bottom: 0;padding: 0.3em;box-sizing: border-box;text-align: center;}#sk-container-id-2 label.sk-toggleable__label-arrow:before {content: \"▸\";float: left;margin-right: 0.25em;color: #696969;}#sk-container-id-2 label.sk-toggleable__label-arrow:hover:before {color: black;}#sk-container-id-2 div.sk-estimator:hover label.sk-toggleable__label-arrow:before {color: black;}#sk-container-id-2 div.sk-toggleable__content {max-height: 0;max-width: 0;overflow: hidden;text-align: left;background-color: #f0f8ff;}#sk-container-id-2 div.sk-toggleable__content pre {margin: 0.2em;color: black;border-radius: 0.25em;background-color: #f0f8ff;}#sk-container-id-2 input.sk-toggleable__control:checked~div.sk-toggleable__content {max-height: 200px;max-width: 100%;overflow: auto;}#sk-container-id-2 input.sk-toggleable__control:checked~label.sk-toggleable__label-arrow:before {content: \"▾\";}#sk-container-id-2 div.sk-estimator input.sk-toggleable__control:checked~label.sk-toggleable__label {background-color: #d4ebff;}#sk-container-id-2 div.sk-label input.sk-toggleable__control:checked~label.sk-toggleable__label {background-color: #d4ebff;}#sk-container-id-2 input.sk-hidden--visually {border: 0;clip: rect(1px 1px 1px 1px);clip: rect(1px, 1px, 1px, 1px);height: 1px;margin: -1px;overflow: hidden;padding: 0;position: absolute;width: 1px;}#sk-container-id-2 div.sk-estimator {font-family: monospace;background-color: #f0f8ff;border: 1px dotted black;border-radius: 0.25em;box-sizing: border-box;margin-bottom: 0.5em;}#sk-container-id-2 div.sk-estimator:hover {background-color: #d4ebff;}#sk-container-id-2 div.sk-parallel-item::after {content: \"\";width: 100%;border-bottom: 1px solid gray;flex-grow: 1;}#sk-container-id-2 div.sk-label:hover label.sk-toggleable__label {background-color: #d4ebff;}#sk-container-id-2 div.sk-serial::before {content: \"\";position: absolute;border-left: 1px solid gray;box-sizing: border-box;top: 0;bottom: 0;left: 50%;z-index: 0;}#sk-container-id-2 div.sk-serial {display: flex;flex-direction: column;align-items: center;background-color: white;padding-right: 0.2em;padding-left: 0.2em;position: relative;}#sk-container-id-2 div.sk-item {position: relative;z-index: 1;}#sk-container-id-2 div.sk-parallel {display: flex;align-items: stretch;justify-content: center;background-color: white;position: relative;}#sk-container-id-2 div.sk-item::before, #sk-container-id-2 div.sk-parallel-item::before {content: \"\";position: absolute;border-left: 1px solid gray;box-sizing: border-box;top: 0;bottom: 0;left: 50%;z-index: -1;}#sk-container-id-2 div.sk-parallel-item {display: flex;flex-direction: column;z-index: 1;position: relative;background-color: white;}#sk-container-id-2 div.sk-parallel-item:first-child::after {align-self: flex-end;width: 50%;}#sk-container-id-2 div.sk-parallel-item:last-child::after {align-self: flex-start;width: 50%;}#sk-container-id-2 div.sk-parallel-item:only-child::after {width: 0;}#sk-container-id-2 div.sk-dashed-wrapped {border: 1px dashed gray;margin: 0 0.4em 0.5em 0.4em;box-sizing: border-box;padding-bottom: 0.4em;background-color: white;}#sk-container-id-2 div.sk-label label {font-family: monospace;font-weight: bold;display: inline-block;line-height: 1.2em;}#sk-container-id-2 div.sk-label-container {text-align: center;}#sk-container-id-2 div.sk-container {/* jupyter's `normalize.less` sets `[hidden] { display: none; }` but bootstrap.min.css set `[hidden] { display: none !important; }` so we also need the `!important` here to be able to override the default hidden behavior on the sphinx rendered scikit-learn.org. See: https://github.com/scikit-learn/scikit-learn/issues/21755 */display: inline-block !important;position: relative;}#sk-container-id-2 div.sk-text-repr-fallback {display: none;}</style><div id=\"sk-container-id-2\" class=\"sk-top-container\"><div class=\"sk-text-repr-fallback\"><pre>KNeighborsClassifier()</pre><b>In a Jupyter environment, please rerun this cell to show the HTML representation or trust the notebook. <br />On GitHub, the HTML representation is unable to render, please try loading this page with nbviewer.org.</b></div><div class=\"sk-container\" hidden><div class=\"sk-item\"><div class=\"sk-estimator sk-toggleable\"><input class=\"sk-toggleable__control sk-hidden--visually\" id=\"sk-estimator-id-2\" type=\"checkbox\" checked><label for=\"sk-estimator-id-2\" class=\"sk-toggleable__label sk-toggleable__label-arrow\">KNeighborsClassifier</label><div class=\"sk-toggleable__content\"><pre>KNeighborsClassifier()</pre></div></div></div></div></div>"
     },
     "execution_count": 18,
     "metadata": {},
     "output_type": "execute_result"
    }
   ],
   "source": [
    "# 학습 진행 => 학습용 데이터로 진행\n",
    "model.fit(xTrain,yTrain)"
   ],
   "metadata": {
    "collapsed": false,
    "ExecuteTime": {
     "end_time": "2024-02-26T02:31:46.883861600Z",
     "start_time": "2024-02-26T02:31:46.772205700Z"
    }
   },
   "execution_count": 18
  },
  {
   "cell_type": "markdown",
   "source": [
    "(5) 테스트 진행\n",
    "- 학습에 사용되지 않은 데이터로 진행\n",
    "- score() 메서드"
   ],
   "metadata": {
    "collapsed": false
   }
  },
  {
   "cell_type": "code",
   "outputs": [
    {
     "data": {
      "text/plain": "1.0"
     },
     "execution_count": 19,
     "metadata": {},
     "output_type": "execute_result"
    }
   ],
   "source": [
    "model.score(xVal,yVal)"
   ],
   "metadata": {
    "collapsed": false,
    "ExecuteTime": {
     "end_time": "2024-02-26T02:31:46.884866500Z",
     "start_time": "2024-02-26T02:31:46.786489Z"
    }
   },
   "execution_count": 19
  },
  {
   "cell_type": "markdown",
   "source": [
    "(6) 모델 활용 예측\n",
    "- 새로운 데이터로 진행( 테스트용 데이터셋 )"
   ],
   "metadata": {
    "collapsed": false
   }
  },
  {
   "cell_type": "code",
   "outputs": [
    {
     "data": {
      "text/plain": "array([1, 1, 0, 0, 1, 0, 0, 0, 0, 0], dtype=int64)"
     },
     "execution_count": 20,
     "metadata": {},
     "output_type": "execute_result"
    }
   ],
   "source": [
    "model.predict(xTest)"
   ],
   "metadata": {
    "collapsed": false,
    "ExecuteTime": {
     "end_time": "2024-02-26T02:31:46.910412900Z",
     "start_time": "2024-02-26T02:31:46.802489900Z"
    }
   },
   "execution_count": 20
  },
  {
   "cell_type": "code",
   "outputs": [
    {
     "data": {
      "text/plain": "45    1\n48    1\n12    0\n15    0\n40    1\n25    0\n21    0\n32    0\n33    0\n30    0\nName: Species, dtype: int64"
     },
     "execution_count": 21,
     "metadata": {},
     "output_type": "execute_result"
    }
   ],
   "source": [
    "yTest"
   ],
   "metadata": {
    "collapsed": false,
    "ExecuteTime": {
     "end_time": "2024-02-26T02:31:46.947931700Z",
     "start_time": "2024-02-26T02:31:46.816843Z"
    }
   },
   "execution_count": 21
  }
 ],
 "metadata": {
  "kernelspec": {
   "display_name": "EXAM_ML",
   "language": "python",
   "name": "python3"
  },
  "language_info": {
   "codemirror_mode": {
    "name": "ipython",
    "version": 3
   },
   "file_extension": ".py",
   "mimetype": "text/x-python",
   "name": "python",
   "nbconvert_exporter": "python",
   "pygments_lexer": "ipython3",
   "version": "3.9.18"
  }
 },
 "nbformat": 4,
 "nbformat_minor": 2
}
