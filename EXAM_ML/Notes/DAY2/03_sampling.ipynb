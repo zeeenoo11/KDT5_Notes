{
 "cells": [
  {
   "cell_type": "markdown",
   "source": [
    "#### 표본추출/샘플링\n",
    "- 전체 데이터에서 일부 데이터를 추출\n",
    "\n",
    "- 복원추출 : 추출된 데이터를 다시 추가\n",
    "- 비복원추출 : 추출된 데이터는 추가되지 않음"
   ],
   "metadata": {
    "collapsed": false
   },
   "id": "91775e9de8dc745d"
  },
  {
   "cell_type": "code",
   "execution_count": 1,
   "id": "initial_id",
   "metadata": {
    "collapsed": true,
    "ExecuteTime": {
     "end_time": "2024-02-26T01:17:13.976952800Z",
     "start_time": "2024-02-26T01:17:11.740180100Z"
    }
   },
   "outputs": [],
   "source": [
    "import pandas as pd"
   ]
  },
  {
   "cell_type": "code",
   "outputs": [
    {
     "data": {
      "text/plain": "   kor  eng  math\n0   10   30    50\n1   20   40    60\n2   30   50    70",
      "text/html": "<div>\n<style scoped>\n    .dataframe tbody tr th:only-of-type {\n        vertical-align: middle;\n    }\n\n    .dataframe tbody tr th {\n        vertical-align: top;\n    }\n\n    .dataframe thead th {\n        text-align: right;\n    }\n</style>\n<table border=\"1\" class=\"dataframe\">\n  <thead>\n    <tr style=\"text-align: right;\">\n      <th></th>\n      <th>kor</th>\n      <th>eng</th>\n      <th>math</th>\n    </tr>\n  </thead>\n  <tbody>\n    <tr>\n      <th>0</th>\n      <td>10</td>\n      <td>30</td>\n      <td>50</td>\n    </tr>\n    <tr>\n      <th>1</th>\n      <td>20</td>\n      <td>40</td>\n      <td>60</td>\n    </tr>\n    <tr>\n      <th>2</th>\n      <td>30</td>\n      <td>50</td>\n      <td>70</td>\n    </tr>\n  </tbody>\n</table>\n</div>"
     },
     "execution_count": 2,
     "metadata": {},
     "output_type": "execute_result"
    }
   ],
   "source": [
    "# 임의의 데이터 생성\n",
    "data_df = pd.DataFrame({'kor': [10,20,30],\n",
    "                        'eng': [30,40,50],\n",
    "                        'math': [50,60,70]})\n",
    "data_df"
   ],
   "metadata": {
    "collapsed": false,
    "ExecuteTime": {
     "end_time": "2024-02-26T01:17:49.627947600Z",
     "start_time": "2024-02-26T01:17:49.613904100Z"
    }
   },
   "id": "f28e1debbbd8a4c7",
   "execution_count": 2
  },
  {
   "cell_type": "code",
   "outputs": [
    {
     "name": "stdout",
     "output_type": "stream",
     "text": [
      "\n",
      "1회\n",
      "   eng  kor\n",
      "0   30   10\n",
      "1   40   20\n",
      "2   50   30\n",
      "\n",
      "2회\n",
      "   kor  math\n",
      "0   10    50\n",
      "1   20    60\n",
      "2   30    70\n",
      "\n",
      "3회\n",
      "   eng  math\n",
      "0   30    50\n",
      "1   40    60\n",
      "2   50    70\n",
      "\n",
      "4회\n",
      "   math  eng\n",
      "0    50   30\n",
      "1    60   40\n",
      "2    70   50\n",
      "\n",
      "5회\n",
      "   eng  kor\n",
      "0   30   10\n",
      "1   40   20\n",
      "2   50   30\n"
     ]
    }
   ],
   "source": [
    "# 1개의 샘플/표본 데이터 추출 (기본=비복원)\n",
    "# [ .sample ]\n",
    "for cnt in range(1,6):\n",
    "    print(f'\\n{cnt}회')\n",
    "    # print(data_df.sample(n=2))  # row 단위로 랜덤 추출\n",
    "    print(data_df.sample(n=2, axis='columns'))  # col 단위로 랜덤 추출"
   ],
   "metadata": {
    "collapsed": false,
    "ExecuteTime": {
     "end_time": "2024-02-26T01:21:03.536448700Z",
     "start_time": "2024-02-26T01:21:03.516677500Z"
    }
   },
   "id": "72e7fece609a42f0",
   "execution_count": 5
  },
  {
   "cell_type": "code",
   "outputs": [
    {
     "name": "stdout",
     "output_type": "stream",
     "text": [
      "\n",
      "1회\n",
      "   eng  math  math  kor\n",
      "0   30    50    50   10\n",
      "1   40    60    60   20\n",
      "2   50    70    70   30\n",
      "\n",
      "2회\n",
      "   eng  eng  kor  math\n",
      "0   30   30   10    50\n",
      "1   40   40   20    60\n",
      "2   50   50   30    70\n",
      "\n",
      "3회\n",
      "   math  math  eng  kor\n",
      "0    50    50   30   10\n",
      "1    60    60   40   20\n",
      "2    70    70   50   30\n",
      "\n",
      "4회\n",
      "   math  eng  math  kor\n",
      "0    50   30    50   10\n",
      "1    60   40    60   20\n",
      "2    70   50    70   30\n",
      "\n",
      "5회\n",
      "   kor  math  math  kor\n",
      "0   10    50    50   10\n",
      "1   20    60    60   20\n",
      "2   30    70    70   30\n"
     ]
    }
   ],
   "source": [
    "# 1개의 샘플/표본 데이터 추출 (복원)\n",
    "# [ .sample ( replace=True ) ]\n",
    "for cnt in range(1,6):\n",
    "    print(f'\\n{cnt}회')\n",
    "    # print(data_df.sample(n=2))  # row 단위로 랜덤 추출\n",
    "    print(data_df.sample(n=4, axis='columns', replace=True))  # col 단위로 랜덤 추출"
   ],
   "metadata": {
    "collapsed": false,
    "ExecuteTime": {
     "end_time": "2024-02-26T01:25:45.597400500Z",
     "start_time": "2024-02-26T01:25:45.575393400Z"
    }
   },
   "id": "88b9e0620589a29d",
   "execution_count": 7
  },
  {
   "cell_type": "code",
   "outputs": [],
   "source": [
    "# 복원은 전체 데이터 수 초과 가능\n",
    "# : 이번 학습엔 복원으로 -> 다시 02_find_fish 로"
   ],
   "metadata": {
    "collapsed": false
   },
   "id": "4df415198c79339d"
  }
 ],
 "metadata": {
  "kernelspec": {
   "display_name": "Python 3",
   "language": "python",
   "name": "python3"
  },
  "language_info": {
   "codemirror_mode": {
    "name": "ipython",
    "version": 2
   },
   "file_extension": ".py",
   "mimetype": "text/x-python",
   "name": "python",
   "nbconvert_exporter": "python",
   "pygments_lexer": "ipython2",
   "version": "2.7.6"
  }
 },
 "nbformat": 4,
 "nbformat_minor": 5
}
