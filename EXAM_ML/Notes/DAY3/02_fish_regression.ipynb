{
 "cells": [
  {
   "cell_type": "markdown",
   "source": [
    "### 목표 : 무게에 따른 길이를 예측해주는 모델\n",
    "    - 데이터  : fish.csv\n",
    "- feature : Weight\n",
    "- target  : Length"
   ],
   "metadata": {
    "collapsed": false
   },
   "id": "a4ddd79b7272a76f"
  },
  {
   "cell_type": "code",
   "execution_count": 33,
   "id": "initial_id",
   "metadata": {
    "collapsed": true,
    "ExecuteTime": {
     "end_time": "2024-02-27T04:37:39.475942Z",
     "start_time": "2024-02-27T04:37:39.456942Z"
    }
   },
   "outputs": [],
   "source": [
    "# 0. 모듈 준비\n",
    "import numpy as np\n",
    "import pandas as pd\n",
    "import matplotlib.pyplot as plt\n",
    "from sklearn.model_selection import train_test_split\n",
    "from sklearn.preprocessing import StandardScaler\n",
    "from sklearn.linear_model import LinearRegression\n",
    "import seaborn as sns"
   ]
  },
  {
   "cell_type": "code",
   "outputs": [
    {
     "name": "stdout",
     "output_type": "stream",
     "text": [
      "<class 'pandas.core.frame.DataFrame'>\n",
      "RangeIndex: 159 entries, 0 to 158\n",
      "Data columns (total 3 columns):\n",
      " #   Column   Non-Null Count  Dtype  \n",
      "---  ------   --------------  -----  \n",
      " 0   Species  159 non-null    object \n",
      " 1   Weight   159 non-null    float64\n",
      " 2   Length   159 non-null    float64\n",
      "dtypes: float64(2), object(1)\n",
      "memory usage: 3.9+ KB\n"
     ]
    },
    {
     "data": {
      "text/plain": "(  Species  Weight  Length\n 0   Bream   242.0    25.4\n 1   Bream   290.0    26.3\n 2   Bream   340.0    26.5\n 3   Bream   363.0    29.0\n 4   Bream   430.0    29.0,\n None)"
     },
     "execution_count": 34,
     "metadata": {},
     "output_type": "execute_result"
    }
   ],
   "source": [
    "# 1. 데이터 준비\n",
    "fish_df = pd.read_csv('../DATA/fish.csv', usecols=[0,1,2])\n",
    "fish_df.head(), fish_df.info()"
   ],
   "metadata": {
    "collapsed": false,
    "ExecuteTime": {
     "end_time": "2024-02-27T04:37:39.505943Z",
     "start_time": "2024-02-27T04:37:39.492944Z"
    }
   },
   "id": "4eab7a9dee40ccb2",
   "execution_count": 34
  },
  {
   "cell_type": "code",
   "outputs": [
    {
     "name": "stdout",
     "output_type": "stream",
     "text": [
      "<class 'pandas.core.frame.DataFrame'>\n",
      "Index: 56 entries, 72 to 127\n",
      "Data columns (total 3 columns):\n",
      " #   Column   Non-Null Count  Dtype  \n",
      "---  ------   --------------  -----  \n",
      " 0   Species  56 non-null     object \n",
      " 1   Weight   56 non-null     float64\n",
      " 2   Length   56 non-null     float64\n",
      "dtypes: float64(2), object(1)\n",
      "memory usage: 1.8+ KB\n"
     ]
    },
    {
     "data": {
      "text/plain": "(None,\n     Species  Weight  Length\n 72    Perch     5.9     8.4\n 73    Perch    32.0    13.7\n 74    Perch    40.0    15.0\n 75    Perch    51.5    16.2\n 76    Perch    70.0    17.4\n 77    Perch   100.0    18.0\n 78    Perch    78.0    18.7\n 79    Perch    80.0    19.0\n 80    Perch    85.0    19.6\n 81    Perch    85.0    20.0\n 82    Perch   110.0    21.0\n 83    Perch   115.0    21.0\n 84    Perch   125.0    21.0\n 85    Perch   130.0    21.3\n 86    Perch   120.0    22.0\n 87    Perch   120.0    22.0\n 88    Perch   130.0    22.0\n 89    Perch   135.0    22.0\n 90    Perch   110.0    22.0\n 91    Perch   130.0    22.5\n 92    Perch   150.0    22.5\n 93    Perch   145.0    22.7\n 94    Perch   150.0    23.0\n 95    Perch   170.0    23.5\n 96    Perch   225.0    24.0\n 97    Perch   145.0    24.0\n 98    Perch   188.0    24.6\n 99    Perch   180.0    25.0\n 100   Perch   197.0    25.6\n 101   Perch   218.0    26.5\n 102   Perch   300.0    27.3\n 103   Perch   260.0    27.5\n 104   Perch   265.0    27.5\n 105   Perch   250.0    27.5\n 106   Perch   250.0    28.0\n 107   Perch   300.0    28.7\n 108   Perch   320.0    30.0\n 109   Perch   514.0    32.8\n 110   Perch   556.0    34.5\n 111   Perch   840.0    35.0\n 112   Perch   685.0    36.5\n 113   Perch   700.0    36.0\n 114   Perch   700.0    37.0\n 115   Perch   690.0    37.0\n 116   Perch   900.0    39.0\n 117   Perch   650.0    39.0\n 118   Perch   820.0    39.0\n 119   Perch   850.0    40.0\n 120   Perch   900.0    40.0\n 121   Perch  1015.0    40.0\n 122   Perch   820.0    40.0\n 123   Perch  1100.0    42.0\n 124   Perch  1000.0    43.0\n 125   Perch  1100.0    43.0\n 126   Perch  1000.0    43.5\n 127   Perch  1000.0    44.0)"
     },
     "execution_count": 35,
     "metadata": {},
     "output_type": "execute_result"
    }
   ],
   "source": [
    "# 1-2. 학습에 사용할 데이터 추출 => Perch행 추출\n",
    "mask = fish_df['Species'].isin(['Perch'])\n",
    "perch_df = fish_df[mask]\n",
    "perch_df.info(), perch_df"
   ],
   "metadata": {
    "collapsed": false,
    "ExecuteTime": {
     "end_time": "2024-02-27T04:37:39.641427Z",
     "start_time": "2024-02-27T04:37:39.624464Z"
    }
   },
   "id": "755759221957d26b",
   "execution_count": 35
  },
  {
   "cell_type": "code",
   "outputs": [
    {
     "data": {
      "text/plain": "  Species  Weight  Length\n0   Perch     5.9     8.4\n1   Perch    32.0    13.7\n2   Perch    40.0    15.0\n3   Perch    51.5    16.2\n4   Perch    70.0    17.4",
      "text/html": "<div>\n<style scoped>\n    .dataframe tbody tr th:only-of-type {\n        vertical-align: middle;\n    }\n\n    .dataframe tbody tr th {\n        vertical-align: top;\n    }\n\n    .dataframe thead th {\n        text-align: right;\n    }\n</style>\n<table border=\"1\" class=\"dataframe\">\n  <thead>\n    <tr style=\"text-align: right;\">\n      <th></th>\n      <th>Species</th>\n      <th>Weight</th>\n      <th>Length</th>\n    </tr>\n  </thead>\n  <tbody>\n    <tr>\n      <th>0</th>\n      <td>Perch</td>\n      <td>5.9</td>\n      <td>8.4</td>\n    </tr>\n    <tr>\n      <th>1</th>\n      <td>Perch</td>\n      <td>32.0</td>\n      <td>13.7</td>\n    </tr>\n    <tr>\n      <th>2</th>\n      <td>Perch</td>\n      <td>40.0</td>\n      <td>15.0</td>\n    </tr>\n    <tr>\n      <th>3</th>\n      <td>Perch</td>\n      <td>51.5</td>\n      <td>16.2</td>\n    </tr>\n    <tr>\n      <th>4</th>\n      <td>Perch</td>\n      <td>70.0</td>\n      <td>17.4</td>\n    </tr>\n  </tbody>\n</table>\n</div>"
     },
     "execution_count": 36,
     "metadata": {},
     "output_type": "execute_result"
    }
   ],
   "source": [
    "# 1-3. 인덱스 정리\n",
    "perch_df = perch_df.reset_index(drop=True)\n",
    "perch_df.head()"
   ],
   "metadata": {
    "collapsed": false,
    "ExecuteTime": {
     "end_time": "2024-02-27T04:37:39.671426Z",
     "start_time": "2024-02-27T04:37:39.650427Z"
    }
   },
   "id": "f891d091daa6d754",
   "execution_count": 36
  },
  {
   "cell_type": "markdown",
   "source": [
    "<hr>\n",
    "\n",
    "### 3) 데이터 전처리\n",
    "- 결측치, 이상치, 중복값 처리\n",
    "- 데이터 분포, 컬럼 분포, 최빈값, 고유값"
   ],
   "metadata": {
    "collapsed": false
   },
   "id": "a9dffa72c481f0a8"
  },
  {
   "cell_type": "code",
   "outputs": [
    {
     "data": {
      "text/plain": "<Figure size 640x480 with 1 Axes>",
      "image/png": "[encoded data removed]"
     },
     "metadata": {},
     "output_type": "display_data"
    }
   ],
   "source": [
    "# 3-1. 데이터 분포\n",
    "# 1) 무게와 길이에 대한 시각화\n",
    "plt.plot(perch_df['Weight'], perch_df['Length'], 'go')\n",
    "plt.xlabel('Weight'), plt.ylabel('Length')\n",
    "plt.title('Perch Weight vs Length')\n",
    "plt.show()"
   ],
   "metadata": {
    "collapsed": false,
    "ExecuteTime": {
     "end_time": "2024-02-27T04:37:39.897530Z",
     "start_time": "2024-02-27T04:37:39.742997Z"
    }
   },
   "id": "b6e7bd3ba72fbab0",
   "execution_count": 37
  },
  {
   "cell_type": "code",
   "outputs": [
    {
     "data": {
      "text/plain": "          Weight    Length\nWeight  1.000000  0.958656\nLength  0.958656  1.000000",
      "text/html": "<div>\n<style scoped>\n    .dataframe tbody tr th:only-of-type {\n        vertical-align: middle;\n    }\n\n    .dataframe tbody tr th {\n        vertical-align: top;\n    }\n\n    .dataframe thead th {\n        text-align: right;\n    }\n</style>\n<table border=\"1\" class=\"dataframe\">\n  <thead>\n    <tr style=\"text-align: right;\">\n      <th></th>\n      <th>Weight</th>\n      <th>Length</th>\n    </tr>\n  </thead>\n  <tbody>\n    <tr>\n      <th>Weight</th>\n      <td>1.000000</td>\n      <td>0.958656</td>\n    </tr>\n    <tr>\n      <th>Length</th>\n      <td>0.958656</td>\n      <td>1.000000</td>\n    </tr>\n  </tbody>\n</table>\n</div>"
     },
     "execution_count": 38,
     "metadata": {},
     "output_type": "execute_result"
    }
   ],
   "source": [
    "# 2) 무게와 길이에 대한 상관 계수\n",
    "perch_df.corr(numeric_only=True)"
   ],
   "metadata": {
    "collapsed": false,
    "ExecuteTime": {
     "end_time": "2024-02-27T04:37:39.912237Z",
     "start_time": "2024-02-27T04:37:39.899537Z"
    }
   },
   "id": "1eebb8b18de36a39",
   "execution_count": 38
  },
  {
   "cell_type": "code",
   "outputs": [],
   "source": [
    "# [ 분석 결과 ] 무게에 따른 길이는 비례 관계\n",
    "# 무게 + 연산 => 길이\n"
   ],
   "metadata": {
    "collapsed": false,
    "ExecuteTime": {
     "end_time": "2024-02-27T04:37:39.927257Z",
     "start_time": "2024-02-27T04:37:39.914219Z"
    }
   },
   "id": "6cd72590be55c035",
   "execution_count": 39
  },
  {
   "cell_type": "code",
   "outputs": [
    {
     "data": {
      "text/plain": "  Species  Weight  Length\n0   Perch     5.9     8.4\n1   Perch    32.0    13.7\n2   Perch    40.0    15.0",
      "text/html": "<div>\n<style scoped>\n    .dataframe tbody tr th:only-of-type {\n        vertical-align: middle;\n    }\n\n    .dataframe tbody tr th {\n        vertical-align: top;\n    }\n\n    .dataframe thead th {\n        text-align: right;\n    }\n</style>\n<table border=\"1\" class=\"dataframe\">\n  <thead>\n    <tr style=\"text-align: right;\">\n      <th></th>\n      <th>Species</th>\n      <th>Weight</th>\n      <th>Length</th>\n    </tr>\n  </thead>\n  <tbody>\n    <tr>\n      <th>0</th>\n      <td>Perch</td>\n      <td>5.9</td>\n      <td>8.4</td>\n    </tr>\n    <tr>\n      <th>1</th>\n      <td>Perch</td>\n      <td>32.0</td>\n      <td>13.7</td>\n    </tr>\n    <tr>\n      <th>2</th>\n      <td>Perch</td>\n      <td>40.0</td>\n      <td>15.0</td>\n    </tr>\n  </tbody>\n</table>\n</div>"
     },
     "execution_count": 40,
     "metadata": {},
     "output_type": "execute_result"
    }
   ],
   "source": [
    "# 3 가지 자료로 연관성을 찾아보기\n",
    "perch_df.iloc[:3]"
   ],
   "metadata": {
    "collapsed": false,
    "ExecuteTime": {
     "end_time": "2024-02-27T04:37:39.942811Z",
     "start_time": "2024-02-27T04:37:39.928258Z"
    }
   },
   "id": "148d2775d6b8762c",
   "execution_count": 40
  },
  {
   "cell_type": "code",
   "outputs": [
    {
     "data": {
      "text/plain": "0      -0.22\n1      -0.30\n2       0.00\n3       1.10\n4       3.60\n5       9.00\n6       3.90\n7       4.00\n8       4.40\n9       4.00\n10      8.00\n11      9.00\n12     11.00\n13     11.70\n14      9.00\n15      9.00\n16     11.00\n17     12.00\n18      7.00\n19     10.50\n20     14.50\n21     13.30\n22     14.00\n23     17.50\n24     28.00\n25     12.00\n26     20.00\n27     18.00\n28     20.80\n29     24.10\n30     39.70\n31     31.50\n32     32.50\n33     29.50\n34     29.00\n35     38.30\n36     41.00\n37     77.00\n38     83.70\n39    140.00\n40    107.50\n41    111.00\n42    110.00\n43    108.00\n44    148.00\n45     98.00\n46    132.00\n47    137.00\n48    147.00\n49    170.00\n50    131.00\n51    185.00\n52    164.00\n53    184.00\n54    163.50\n55    163.00\ndtype: float64"
     },
     "execution_count": 41,
     "metadata": {},
     "output_type": "execute_result"
    }
   ],
   "source": [
    "\n",
    "model = (perch_df.Weight / 5) + 7\n",
    "model - perch_df.Length     # index 80부터 10이상 차이난다"
   ],
   "metadata": {
    "collapsed": false,
    "ExecuteTime": {
     "end_time": "2024-02-27T04:37:40.003993Z",
     "start_time": "2024-02-27T04:37:39.988473Z"
    }
   },
   "id": "ea3e25209c6cbcfd",
   "execution_count": 41
  },
  {
   "cell_type": "code",
   "outputs": [],
   "source": [],
   "metadata": {
    "collapsed": false,
    "ExecuteTime": {
     "end_time": "2024-02-27T04:37:40.050509Z",
     "start_time": "2024-02-27T04:37:40.031988Z"
    }
   },
   "id": "67b0a688b205ead5",
   "execution_count": 41
  },
  {
   "cell_type": "markdown",
   "source": [
    "<hr>\n",
    "\n",
    "### 4) 학습 진행\n",
    "- 학습 방법 : 지도학습 + 회귀(예측) => 선형회귀 LinearRegression"
   ],
   "metadata": {
    "collapsed": false
   },
   "id": "44f63beab475fa58"
  },
  {
   "cell_type": "code",
   "outputs": [
    {
     "data": {
      "text/plain": "LinearRegression()",
      "text/html": "<style>#sk-container-id-2 {color: black;}#sk-container-id-2 pre{padding: 0;}#sk-container-id-2 div.sk-toggleable {background-color: white;}#sk-container-id-2 label.sk-toggleable__label {cursor: pointer;display: block;width: 100%;margin-bottom: 0;padding: 0.3em;box-sizing: border-box;text-align: center;}#sk-container-id-2 label.sk-toggleable__label-arrow:before {content: \"▸\";float: left;margin-right: 0.25em;color: #696969;}#sk-container-id-2 label.sk-toggleable__label-arrow:hover:before {color: black;}#sk-container-id-2 div.sk-estimator:hover label.sk-toggleable__label-arrow:before {color: black;}#sk-container-id-2 div.sk-toggleable__content {max-height: 0;max-width: 0;overflow: hidden;text-align: left;background-color: #f0f8ff;}#sk-container-id-2 div.sk-toggleable__content pre {margin: 0.2em;color: black;border-radius: 0.25em;background-color: #f0f8ff;}#sk-container-id-2 input.sk-toggleable__control:checked~div.sk-toggleable__content {max-height: 200px;max-width: 100%;overflow: auto;}#sk-container-id-2 input.sk-toggleable__control:checked~label.sk-toggleable__label-arrow:before {content: \"▾\";}#sk-container-id-2 div.sk-estimator input.sk-toggleable__control:checked~label.sk-toggleable__label {background-color: #d4ebff;}#sk-container-id-2 div.sk-label input.sk-toggleable__control:checked~label.sk-toggleable__label {background-color: #d4ebff;}#sk-container-id-2 input.sk-hidden--visually {border: 0;clip: rect(1px 1px 1px 1px);clip: rect(1px, 1px, 1px, 1px);height: 1px;margin: -1px;overflow: hidden;padding: 0;position: absolute;width: 1px;}#sk-container-id-2 div.sk-estimator {font-family: monospace;background-color: #f0f8ff;border: 1px dotted black;border-radius: 0.25em;box-sizing: border-box;margin-bottom: 0.5em;}#sk-container-id-2 div.sk-estimator:hover {background-color: #d4ebff;}#sk-container-id-2 div.sk-parallel-item::after {content: \"\";width: 100%;border-bottom: 1px solid gray;flex-grow: 1;}#sk-container-id-2 div.sk-label:hover label.sk-toggleable__label {background-color: #d4ebff;}#sk-container-id-2 div.sk-serial::before {content: \"\";position: absolute;border-left: 1px solid gray;box-sizing: border-box;top: 0;bottom: 0;left: 50%;z-index: 0;}#sk-container-id-2 div.sk-serial {display: flex;flex-direction: column;align-items: center;background-color: white;padding-right: 0.2em;padding-left: 0.2em;position: relative;}#sk-container-id-2 div.sk-item {position: relative;z-index: 1;}#sk-container-id-2 div.sk-parallel {display: flex;align-items: stretch;justify-content: center;background-color: white;position: relative;}#sk-container-id-2 div.sk-item::before, #sk-container-id-2 div.sk-parallel-item::before {content: \"\";position: absolute;border-left: 1px solid gray;box-sizing: border-box;top: 0;bottom: 0;left: 50%;z-index: -1;}#sk-container-id-2 div.sk-parallel-item {display: flex;flex-direction: column;z-index: 1;position: relative;background-color: white;}#sk-container-id-2 div.sk-parallel-item:first-child::after {align-self: flex-end;width: 50%;}#sk-container-id-2 div.sk-parallel-item:last-child::after {align-self: flex-start;width: 50%;}#sk-container-id-2 div.sk-parallel-item:only-child::after {width: 0;}#sk-container-id-2 div.sk-dashed-wrapped {border: 1px dashed gray;margin: 0 0.4em 0.5em 0.4em;box-sizing: border-box;padding-bottom: 0.4em;background-color: white;}#sk-container-id-2 div.sk-label label {font-family: monospace;font-weight: bold;display: inline-block;line-height: 1.2em;}#sk-container-id-2 div.sk-label-container {text-align: center;}#sk-container-id-2 div.sk-container {/* jupyter's `normalize.less` sets `[hidden] { display: none; }` but bootstrap.min.css set `[hidden] { display: none !important; }` so we also need the `!important` here to be able to override the default hidden behavior on the sphinx rendered scikit-learn.org. See: https://github.com/scikit-learn/scikit-learn/issues/21755 */display: inline-block !important;position: relative;}#sk-container-id-2 div.sk-text-repr-fallback {display: none;}</style><div id=\"sk-container-id-2\" class=\"sk-top-container\"><div class=\"sk-text-repr-fallback\"><pre>LinearRegression()</pre><b>In a Jupyter environment, please rerun this cell to show the HTML representation or trust the notebook. <br />On GitHub, the HTML representation is unable to render, please try loading this page with nbviewer.org.</b></div><div class=\"sk-container\" hidden><div class=\"sk-item\"><div class=\"sk-estimator sk-toggleable\"><input class=\"sk-toggleable__control sk-hidden--visually\" id=\"sk-estimator-id-2\" type=\"checkbox\" checked><label for=\"sk-estimator-id-2\" class=\"sk-toggleable__label sk-toggleable__label-arrow\">LinearRegression</label><div class=\"sk-toggleable__content\"><pre>LinearRegression()</pre></div></div></div></div></div>"
     },
     "execution_count": 42,
     "metadata": {},
     "output_type": "execute_result"
    }
   ],
   "source": [
    "# 모델 인스턴스 생성\n",
    "model = LinearRegression()\n",
    "# 학습\n",
    "# model.fit(perch_df[['Weight']]) # 1차원이라 오류 발생\n",
    "model.fit(perch_df[['Weight']], perch_df['Length'])"
   ],
   "metadata": {
    "collapsed": false,
    "ExecuteTime": {
     "end_time": "2024-02-27T04:37:40.140621Z",
     "start_time": "2024-02-27T04:37:40.117509Z"
    }
   },
   "id": "e8cdf5ba77792be8",
   "execution_count": 42
  },
  {
   "cell_type": "code",
   "outputs": [
    {
     "name": "stdout",
     "output_type": "stream",
     "text": [
      "피처에 할당되는 가중치 계수 : 0.024879845124891074\n",
      "수식에 사용되는 절편 계수 : 18.382802913636723\n"
     ]
    }
   ],
   "source": [
    "# 학습 후 속성 확인\n",
    "print('피처에 할당되는 가중치 계수 :', model.coef_[0]) # array로 반환\n",
    "print('수식에 사용되는 절편 계수 :', model.intercept_)"
   ],
   "metadata": {
    "collapsed": false,
    "ExecuteTime": {
     "end_time": "2024-02-27T04:37:40.230914Z",
     "start_time": "2024-02-27T04:37:40.211883Z"
    }
   },
   "id": "782fb1d4244d00d6",
   "execution_count": 43
  },
  {
   "cell_type": "code",
   "outputs": [
    {
     "data": {
      "text/plain": "0     18.529594\n1     19.178958\n2     19.377997\n3     19.664115\n4     20.124392\n5     20.870787\n6     20.323431\n7     20.373191\n8     20.497590\n9     20.497590\n10    21.119586\n11    21.243985\n12    21.492784\n13    21.617183\n14    21.368384\n15    21.368384\n16    21.617183\n17    21.741582\n18    21.119586\n19    21.617183\n20    22.114780\n21    21.990380\n22    22.114780\n23    22.612377\n24    23.980768\n25    21.990380\n26    23.060214\n27    22.861175\n28    23.284132\n29    23.806609\n30    25.846756\n31    24.851563\n32    24.975962\n33    24.602764\n34    24.602764\n35    25.846756\n36    26.344353\n37    31.171043\n38    32.215997\n39    39.281873\n40    35.425497\n41    35.798695\n42    35.798695\n43    35.549896\n44    40.774664\n45    34.554702\n46    38.784276\n47    39.530671\n48    40.774664\n49    43.635846\n50    38.784276\n51    45.750633\n52    43.262648\n53    45.750633\n54    43.262648\n55    43.262648\nName: Weight, dtype: float64"
     },
     "execution_count": 44,
     "metadata": {},
     "output_type": "execute_result"
    }
   ],
   "source": [
    "# 수식 생성\n",
    "(perch_df['Weight'] * model.coef_[0]) + model.intercept_"
   ],
   "metadata": {
    "collapsed": false,
    "ExecuteTime": {
     "end_time": "2024-02-27T04:37:40.381966Z",
     "start_time": "2024-02-27T04:37:40.374954Z"
    }
   },
   "id": "47132f74b5c1a198",
   "execution_count": 44
  },
  {
   "cell_type": "markdown",
   "source": [
    "<hr>\n",
    "\n",
    "### 5) 테스트 (아래 정확한 개념으로 정리되어 있음 R2)"
   ],
   "metadata": {
    "collapsed": false
   },
   "id": "de8687cb8a45e0bc"
  },
  {
   "cell_type": "code",
   "outputs": [
    {
     "data": {
      "text/plain": "0.919021073244782"
     },
     "execution_count": 45,
     "metadata": {},
     "output_type": "execute_result"
    }
   ],
   "source": [
    "# 정확도 확인\n",
    "model.score(perch_df[['Weight']], perch_df['Length'])"
   ],
   "metadata": {
    "collapsed": false,
    "ExecuteTime": {
     "end_time": "2024-02-27T04:37:40.503467Z",
     "start_time": "2024-02-27T04:37:40.483563Z"
    }
   },
   "id": "ec94a77062b8ce43",
   "execution_count": 45
  },
  {
   "cell_type": "markdown",
   "source": [
    "### 오후 수업\n",
    "1. (개념) 최적 적합\n",
    "2. (개념) 선형 회귀"
   ],
   "metadata": {
    "collapsed": false
   },
   "id": "88decec8e104d1e3"
  },
  {
   "cell_type": "code",
   "outputs": [],
   "source": [
    "# 과대 적합 (Overfitting) \n",
    "# : 훈련 데이터셋에 특화되어 시험에 오차가 큰 것\n",
    "#   (너무 훈련값 회귀에 정확함)\n",
    "#   우린 predict() 에서 점수가 높아야 함\n",
    "\n",
    "# 과소 적합\n",
    "# : 훈련 데이터셋 조차 맞추지 못하는 것\n",
    "\n",
    "# 최적 적합\n",
    "# : 훈련 데이터셋의 규칙이 일반화된 모델\n",
    "#   조건:\n",
    "#   1. 편중되지 않고 다양함\n",
    "#   2. 양질의 많은 데이터\n",
    "#   3. 적정 모델 복잡도\n",
    "\n",
    "# [ 선형 회귀 Linear Regression ]\n",
    "# - 종류\n",
    "#   - 회귀 : 선형, 다항, 다중 회귀\n",
    "#   - 분류 : 로지스틱만 분류\n",
    "\n",
    "# - 목표 : 오차를 최소화!!\n",
    "#          -> 비용/손실함수\n",
    "#             예) Mean Square Error ((예측-실제)^2)\n",
    "\n",
    "# [ R^2 ] \n",
    "# : 회귀 모델의 정확도 지표\n",
    "#   1.0에 가까울 수록 좋은 것; 오차가 작다는 뜻"
   ],
   "metadata": {
    "collapsed": false
   },
   "id": "cb1d2483aa9b9cb5",
   "execution_count": 48
  },
  {
   "cell_type": "markdown",
   "source": [
    "### 5) 테스트"
   ],
   "metadata": {
    "collapsed": false
   },
   "id": "cc787ef628c44d31"
  },
  {
   "cell_type": "code",
   "outputs": [
    {
     "data": {
      "text/plain": "0.919021073244782"
     },
     "execution_count": 50,
     "metadata": {},
     "output_type": "execute_result"
    }
   ],
   "source": [
    "# 결정 계수 R2 \n",
    "# : 얼마나 정답에 근사하게 결과를 예측해내는지를 나타내는 계수값\n",
    "#   1.0에 가까울 수록 좋은 것; 오차가 작다는 뜻\n",
    "model.score(perch_df[['Weight']], perch_df['Length'])"
   ],
   "metadata": {
    "collapsed": false,
    "ExecuteTime": {
     "end_time": "2024-02-27T04:43:42.091511Z",
     "start_time": "2024-02-27T04:43:42.080490Z"
    }
   },
   "id": "13d936c497591a69",
   "execution_count": 50
  },
  {
   "cell_type": "code",
   "outputs": [
    {
     "data": {
      "text/plain": "6.483571428571426"
     },
     "execution_count": 52,
     "metadata": {},
     "output_type": "execute_result"
    }
   ],
   "source": [
    "# 예측값\n",
    "y_pre = model.predict(perch_df[['Weight']])\n",
    "# 오차값 \n",
    "error_sr = y_pre.round(1) - perch_df.Length\n",
    "# => R2\n",
    "(error_sr**2).sum() / error_sr.shape[0]"
   ],
   "metadata": {
    "collapsed": false,
    "ExecuteTime": {
     "end_time": "2024-02-27T04:46:59.698347Z",
     "start_time": "2024-02-27T04:46:59.677370Z"
    }
   },
   "id": "b2e71f41b948d161",
   "execution_count": 52
  },
  {
   "cell_type": "code",
   "outputs": [
    {
     "data": {
      "text/plain": "24    0.0\nName: Length, dtype: float64"
     },
     "execution_count": 54,
     "metadata": {},
     "output_type": "execute_result"
    }
   ],
   "source": [
    "# 정답과 완벽하게 똑같은 갯수 찾기\n",
    "error_sr[ error_sr == 0]    # 1개 맞춤"
   ],
   "metadata": {
    "collapsed": false,
    "ExecuteTime": {
     "end_time": "2024-02-27T04:48:42.041069Z",
     "start_time": "2024-02-27T04:48:42.030047Z"
    }
   },
   "id": "61f4aceeefc817",
   "execution_count": 54
  },
  {
   "cell_type": "markdown",
   "source": [
    "<hr>\n",
    "모듈로 한 방에 할 수 있다\n",
    "\n",
    "### 6) 성능평가 : R2 찾는 모듈\n",
    "- 결정계수 값 : 1.0 에 가까울 수록 좋음\n",
    "- 오차평균 값 : 0.0 에 가까울 수록 (낮을 수록) 좋음\n",
    "- 활용 모듈   : sklearn.metrics"
   ],
   "metadata": {
    "collapsed": false
   },
   "id": "2d8ca81e9c14b518"
  },
  {
   "cell_type": "code",
   "outputs": [],
   "source": [
    "from sklearn.metrics import mean_absolute_error, mean_squared_error, r2_score"
   ],
   "metadata": {
    "collapsed": false,
    "ExecuteTime": {
     "end_time": "2024-02-27T04:53:23.847082Z",
     "start_time": "2024-02-27T04:53:23.833060Z"
    }
   },
   "id": "9a0682bee7b90887",
   "execution_count": 55
  },
  {
   "cell_type": "code",
   "outputs": [
    {
     "name": "stdout",
     "output_type": "stream",
     "text": [
      "1.3.0\n"
     ]
    },
    {
     "data": {
      "text/plain": "2.5442523272804674"
     },
     "execution_count": 65,
     "metadata": {},
     "output_type": "execute_result"
    }
   ],
   "source": [
    "import sklearn\n",
    "print(sklearn.__version__) #해봐 해봐해봐해\n",
    "# 성능평가\n",
    "# : 성능평가 지표는 의뢰측에서 설정\n",
    "\n",
    "# 1) R2 : 결정 계수 값 ~1.0\n",
    "r2_score(perch_df.Length, y_pre)    # 0.91902\n",
    "# 2) MSE : 평균제곱오차 0~\n",
    "mean_squared_error(perch_df.Length, y_pre)  # 6.4732\n",
    "# 3) MAE : 평균 절대값 오차 0~\n",
    "mean_absolute_error(perch_df.Length, y_pre) # 1.851505\n",
    "# 4) RMSE : 루트 평균제곱오차 \n",
    "#           1.4버전에 추가\n",
    "mean_squared_error(perch_df.Length, y_pre, squared=False)"
   ],
   "metadata": {
    "collapsed": false,
    "ExecuteTime": {
     "end_time": "2024-02-27T05:21:18.503862Z",
     "start_time": "2024-02-27T05:21:18.487342Z"
    }
   },
   "id": "91547ba4d532c3da",
   "execution_count": 65
  },
  {
   "cell_type": "code",
   "outputs": [],
   "source": [
    "# HD현대 AI Challenge\n",
    "# - 규칙 항목에 평가기준 : MAE 로 나와 있음\n",
    "# - public score 30%\n",
    "# - private score 70%\n",
    "# - 결과 제출 시 private score 기준\n",
    "# https://dacon.io/competitions/official/236158/overview/rules"
   ],
   "metadata": {
    "collapsed": false
   },
   "id": "a608bc9d11c1725f"
  },
  {
   "cell_type": "markdown",
   "source": [
    "03_fish_KNN_Regression.ipyb 로 이동 오키"
   ],
   "metadata": {
    "collapsed": false
   },
   "id": "476f09bda9b9bfe0"
  }
 ],
 "metadata": {
  "kernelspec": {
   "display_name": "Python 3",
   "language": "python",
   "name": "python3"
  },
  "language_info": {
   "codemirror_mode": {
    "name": "ipython",
    "version": 2
   },
   "file_extension": ".py",
   "mimetype": "text/x-python",
   "name": "python",
   "nbconvert_exporter": "python",
   "pygments_lexer": "ipython2",
   "version": "2.7.6"
  }
 },
 "nbformat": 4,
 "nbformat_minor": 5
}
