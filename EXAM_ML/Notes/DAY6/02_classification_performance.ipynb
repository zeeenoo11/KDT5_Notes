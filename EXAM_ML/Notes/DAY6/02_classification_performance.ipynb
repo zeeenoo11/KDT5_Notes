{
 "cells": [
  {
   "cell_type": "markdown",
   "metadata": {},
   "source": [
    "### 분류 모델 성능 지표\n",
    "- 모델 구현 후 성능 평가 방식\n",
    "- 정확도(Accuracy) : 불균형 데이터에 부적합\n",
    "- 보완 평가 방식 : 정밀도, 재현율, F1 점수, 혼돈행렬 테이블"
   ]
  },
  {
   "cell_type": "markdown",
   "metadata": {},
   "source": [
    "1. 임의 데이터"
   ]
  },
  {
   "cell_type": "code",
   "execution_count": 2,
   "metadata": {},
   "outputs": [],
   "source": [
    "# 1. 임의 데이터\n",
    "y_true = [0, 1, 1, 0]\n",
    "y_pre = [1, 1, 1, 0]"
   ]
  },
  {
   "cell_type": "markdown",
   "metadata": {},
   "source": [
    "2. 분류 평가 지표"
   ]
  },
  {
   "cell_type": "code",
   "execution_count": 3,
   "metadata": {},
   "outputs": [
    {
     "name": "stdout",
     "output_type": "stream",
     "text": [
      "분류 정확도 : 0.75\n"
     ]
    }
   ],
   "source": [
    "# 2-1. 분류 정확도 accuracy\n",
    "from sklearn.metrics import accuracy_score\n",
    "\n",
    "ret = accuracy_score(y_true, y_pre)\n",
    "print('분류 정확도 :', ret)"
   ]
  },
  {
   "cell_type": "code",
   "execution_count": 4,
   "metadata": {},
   "outputs": [
    {
     "name": "stdout",
     "output_type": "stream",
     "text": [
      "정밀도 precision : 0.6666666666666666\n"
     ]
    }
   ],
   "source": [
    "# 2-2. 정밀도 precision\n",
    "from sklearn.metrics import precision_score\n",
    "\n",
    "ret = precision_score(y_true, y_pre)\n",
    "print('분류 정밀도 precision :', ret)"
   ]
  },
  {
   "cell_type": "code",
   "execution_count": 5,
   "metadata": {},
   "outputs": [
    {
     "name": "stdout",
     "output_type": "stream",
     "text": [
      "재현율 recall : 1.0\n"
     ]
    }
   ],
   "source": [
    "# 2-3. 재현율 recall\n",
    "from sklearn.metrics import recall_score\n",
    "\n",
    "ret = recall_score(y_true, y_pre)\n",
    "print('분류 재현율 recall :', ret)"
   ]
  },
  {
   "cell_type": "code",
   "execution_count": 6,
   "metadata": {},
   "outputs": [
    {
     "name": "stdout",
     "output_type": "stream",
     "text": [
      "f1 점수 : 0.8\n"
     ]
    }
   ],
   "source": [
    "# 2-4. f1 점수 f1_score\n",
    "from sklearn.metrics import f1_score\n",
    "\n",
    "ret = f1_score(y_true, y_pre)\n",
    "print('f1 점수 :', ret)"
   ]
  },
  {
   "cell_type": "code",
   "execution_count": 7,
   "metadata": {},
   "outputs": [],
   "source": [
    "# [ trade off ]\n",
    "# \n",
    "# threshold 설명 : 필요시 임계값을 수정할 수 있다\n",
    "# - 내일 cross_val_predict 할 예정"
   ]
  },
  {
   "cell_type": "code",
   "execution_count": 8,
   "metadata": {},
   "outputs": [
    {
     "name": "stdout",
     "output_type": "stream",
     "text": [
      "혼돈행렬값 :\n",
      " [[1 1]\n",
      " [0 2]]\n"
     ]
    }
   ],
   "source": [
    "# 2-5. 혼돈행렬값 출력\n",
    "from sklearn.metrics import confusion_matrix\n",
    "\n",
    "ret = confusion_matrix(y_true, y_pre)\n",
    "print('혼돈행렬값 :\\n', ret)\n",
    "# TN    FN\n",
    "# FP    TP"
   ]
  },
  {
   "cell_type": "code",
   "execution_count": 9,
   "metadata": {},
   "outputs": [],
   "source": [
    "# 3. 정확도, 정밀도, 재현율, f1_score 직접 계산\n",
    "# 1) 정확도 : (1+2)/(1+1+2+0) = 3/4\n",
    "# 2) 정밀도 : 2/2 = 1\n",
    "# 3) 재현율 : 2/(1+2) = 2/3\n",
    "# 4) f1_score : 2 * (1 * 2/3) / (1+2/3) = 4/5 (=0.8)\n",
    "\n",
    "# f1_score 계산식 : 2 * (밀*재) / (밀+재)"
   ]
  },
  {
   "cell_type": "code",
   "execution_count": 16,
   "metadata": {},
   "outputs": [
    {
     "data": {
      "image/png": "[encoded data removed]",
      "text/plain": [
       "<Figure size 640x480 with 2 Axes>"
      ]
     },
     "metadata": {},
     "output_type": "display_data"
    }
   ],
   "source": [
    "# \n",
    "import matplotlib.pyplot as plt\n",
    "from sklearn.metrics import ConfusionMatrixDisplay\n",
    "\n",
    "conplot = ConfusionMatrixDisplay(confusion_matrix=ret, display_labels=[False, True])\n",
    "conplot.plot(cmap='Pastel1')\n",
    "plt.show()"
   ]
  },
  {
   "cell_type": "markdown",
   "metadata": {},
   "source": [
    "지난 수업 연속"
   ]
  },
  {
   "cell_type": "code",
   "execution_count": 17,
   "metadata": {},
   "outputs": [],
   "source": [
    "# 모르는 부분\n",
    "# TODO OvR : 이진 분류? 왜 이진 분류가 여기서 나올까"
   ]
  },
  {
   "cell_type": "code",
   "execution_count": 18,
   "metadata": {},
   "outputs": [],
   "source": [
    "# DAY5의 02파일 : 실행하니 오류 발생\n",
    "# : y contains previously unseen labels: ['Bream' 'Parkki' 'Perch' 'Pike' 'Roach' 'Smelt' 'Whitefish']\n",
    "\n",
    "# [ .inverse_transform() ] 으로 수치를 다시 반환\n",
    "\n",
    "# print(\"model.classes_ \", model.classes_)\n",
    "# labels = encoder.inverse_transform(model.classes_)\n",
    "\n",
    "# print(\"타겟 문자열 라벨\", labels)\n",
    "\n",
    "# -> plot에 사용"
   ]
  },
  {
   "cell_type": "code",
   "execution_count": 19,
   "metadata": {},
   "outputs": [],
   "source": [
    "# 다중 분류\n",
    "# 왜 안함?\n",
    "\n",
    "# 개념 수업"
   ]
  },
  {
   "cell_type": "code",
   "execution_count": null,
   "metadata": {},
   "outputs": [],
   "source": [
    "# 03으로"
   ]
  }
 ],
 "metadata": {
  "kernelspec": {
   "display_name": "EXAM_MML",
   "language": "python",
   "name": "python3"
  },
  "language_info": {
   "codemirror_mode": {
    "name": "ipython",
    "version": 3
   },
   "file_extension": ".py",
   "mimetype": "text/x-python",
   "name": "python",
   "nbconvert_exporter": "python",
   "pygments_lexer": "ipython3",
   "version": "3.9.18"
  }
 },
 "nbformat": 4,
 "nbformat_minor": 2
}
