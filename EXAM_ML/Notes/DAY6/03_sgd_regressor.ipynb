{
 "cells": [
  {
   "cell_type": "markdown",
   "metadata": {},
   "source": [
    "##### 목표 : 미니배치기반 기계학습 진행 실습\n",
    "- 확률적경사하강법 기반의 알고리즘 적용 모델\n",
    "- 데이터의 처음부터 끝까지(에포크) 학습 후 가중치와 절편 업데이트 하는 방식  \n",
    "  => 에포크를 미니배치만큼 나눠서 학습 후 가중치와 절편 업데이트 진행함  \n",
    "<hr>\n",
    "\n",
    "- 장점\n",
    "1) 온라인 학습, 점진적 학습 가능 => partial_fit() : 기존 모델에 추가로 1에포크 학습\n",
    "2) 기존의 다른 모델보다 속도 빠름 => 랜덤으로 한 개 추출 후 학습 진행\n",
    "- 단점\n",
    "1) 전체 학습보다 정확도는 떨어질 수 있음"
   ]
  },
  {
   "cell_type": "markdown",
   "metadata": {},
   "source": [
    "1. Data prepare"
   ]
  },
  {
   "cell_type": "code",
   "execution_count": 1,
   "metadata": {},
   "outputs": [
    {
     "data": {
      "text/html": [
       "<div>\n",
       "<style scoped>\n",
       "    .dataframe tbody tr th:only-of-type {\n",
       "        vertical-align: middle;\n",
       "    }\n",
       "\n",
       "    .dataframe tbody tr th {\n",
       "        vertical-align: top;\n",
       "    }\n",
       "\n",
       "    .dataframe thead th {\n",
       "        text-align: right;\n",
       "    }\n",
       "</style>\n",
       "<table border=\"1\" class=\"dataframe\">\n",
       "  <thead>\n",
       "    <tr style=\"text-align: right;\">\n",
       "      <th></th>\n",
       "      <th>Species</th>\n",
       "      <th>Weight</th>\n",
       "      <th>Length</th>\n",
       "      <th>Diagonal</th>\n",
       "      <th>Height</th>\n",
       "      <th>Width</th>\n",
       "    </tr>\n",
       "  </thead>\n",
       "  <tbody>\n",
       "    <tr>\n",
       "      <th>0</th>\n",
       "      <td>Bream</td>\n",
       "      <td>242.0</td>\n",
       "      <td>25.4</td>\n",
       "      <td>30.0</td>\n",
       "      <td>11.5200</td>\n",
       "      <td>4.0200</td>\n",
       "    </tr>\n",
       "    <tr>\n",
       "      <th>1</th>\n",
       "      <td>Bream</td>\n",
       "      <td>290.0</td>\n",
       "      <td>26.3</td>\n",
       "      <td>31.2</td>\n",
       "      <td>12.4800</td>\n",
       "      <td>4.3056</td>\n",
       "    </tr>\n",
       "    <tr>\n",
       "      <th>2</th>\n",
       "      <td>Bream</td>\n",
       "      <td>340.0</td>\n",
       "      <td>26.5</td>\n",
       "      <td>31.1</td>\n",
       "      <td>12.3778</td>\n",
       "      <td>4.6961</td>\n",
       "    </tr>\n",
       "    <tr>\n",
       "      <th>3</th>\n",
       "      <td>Bream</td>\n",
       "      <td>363.0</td>\n",
       "      <td>29.0</td>\n",
       "      <td>33.5</td>\n",
       "      <td>12.7300</td>\n",
       "      <td>4.4555</td>\n",
       "    </tr>\n",
       "    <tr>\n",
       "      <th>4</th>\n",
       "      <td>Bream</td>\n",
       "      <td>430.0</td>\n",
       "      <td>29.0</td>\n",
       "      <td>34.0</td>\n",
       "      <td>12.4440</td>\n",
       "      <td>5.1340</td>\n",
       "    </tr>\n",
       "    <tr>\n",
       "      <th>...</th>\n",
       "      <td>...</td>\n",
       "      <td>...</td>\n",
       "      <td>...</td>\n",
       "      <td>...</td>\n",
       "      <td>...</td>\n",
       "      <td>...</td>\n",
       "    </tr>\n",
       "    <tr>\n",
       "      <th>154</th>\n",
       "      <td>Smelt</td>\n",
       "      <td>12.2</td>\n",
       "      <td>12.2</td>\n",
       "      <td>13.4</td>\n",
       "      <td>2.0904</td>\n",
       "      <td>1.3936</td>\n",
       "    </tr>\n",
       "    <tr>\n",
       "      <th>155</th>\n",
       "      <td>Smelt</td>\n",
       "      <td>13.4</td>\n",
       "      <td>12.4</td>\n",
       "      <td>13.5</td>\n",
       "      <td>2.4300</td>\n",
       "      <td>1.2690</td>\n",
       "    </tr>\n",
       "    <tr>\n",
       "      <th>156</th>\n",
       "      <td>Smelt</td>\n",
       "      <td>12.2</td>\n",
       "      <td>13.0</td>\n",
       "      <td>13.8</td>\n",
       "      <td>2.2770</td>\n",
       "      <td>1.2558</td>\n",
       "    </tr>\n",
       "    <tr>\n",
       "      <th>157</th>\n",
       "      <td>Smelt</td>\n",
       "      <td>19.7</td>\n",
       "      <td>14.3</td>\n",
       "      <td>15.2</td>\n",
       "      <td>2.8728</td>\n",
       "      <td>2.0672</td>\n",
       "    </tr>\n",
       "    <tr>\n",
       "      <th>158</th>\n",
       "      <td>Smelt</td>\n",
       "      <td>19.9</td>\n",
       "      <td>15.0</td>\n",
       "      <td>16.2</td>\n",
       "      <td>2.9322</td>\n",
       "      <td>1.8792</td>\n",
       "    </tr>\n",
       "  </tbody>\n",
       "</table>\n",
       "<p>159 rows × 6 columns</p>\n",
       "</div>"
      ],
      "text/plain": [
       "    Species  Weight  Length  Diagonal   Height   Width\n",
       "0     Bream   242.0    25.4      30.0  11.5200  4.0200\n",
       "1     Bream   290.0    26.3      31.2  12.4800  4.3056\n",
       "2     Bream   340.0    26.5      31.1  12.3778  4.6961\n",
       "3     Bream   363.0    29.0      33.5  12.7300  4.4555\n",
       "4     Bream   430.0    29.0      34.0  12.4440  5.1340\n",
       "..      ...     ...     ...       ...      ...     ...\n",
       "154   Smelt    12.2    12.2      13.4   2.0904  1.3936\n",
       "155   Smelt    13.4    12.4      13.5   2.4300  1.2690\n",
       "156   Smelt    12.2    13.0      13.8   2.2770  1.2558\n",
       "157   Smelt    19.7    14.3      15.2   2.8728  2.0672\n",
       "158   Smelt    19.9    15.0      16.2   2.9322  1.8792\n",
       "\n",
       "[159 rows x 6 columns]"
      ]
     },
     "execution_count": 1,
     "metadata": {},
     "output_type": "execute_result"
    }
   ],
   "source": [
    "import pandas as pd\n",
    "\n",
    "fishDF = pd.read_csv('../../DATA/fish.csv')\n",
    "fishDF"
   ]
  },
  {
   "cell_type": "markdown",
   "metadata": {},
   "source": [
    "2. Data preprocessing for train"
   ]
  },
  {
   "cell_type": "code",
   "execution_count": 2,
   "metadata": {},
   "outputs": [
    {
     "name": "stdout",
     "output_type": "stream",
     "text": [
      "shape: (159, 5) (159,)\n",
      "[train] shape : (119, 5) (119,)\n",
      "[test] shape : (40, 5) (40,)\n"
     ]
    }
   ],
   "source": [
    "# 2-1. split feature and target\n",
    "featureDF = fishDF.drop(['Species'], axis=1)\n",
    "targetDF = fishDF['Species']\n",
    "print('shape:', featureDF.shape, targetDF.shape)\n",
    "\n",
    "# 2-2. split train and test\n",
    "from sklearn.model_selection import train_test_split\n",
    "\n",
    "X_train, X_test, y_train, y_test = train_test_split(featureDF, targetDF, \n",
    "                                                    random_state=41,stratify=targetDF)\n",
    "print('[train] shape :', X_train.shape, y_train.shape)\n",
    "print('[test] shape :', X_test.shape, y_test.shape)\n",
    "\n",
    "# 2-3. feature scaling\n",
    "from sklearn.preprocessing import StandardScaler\n",
    "\n",
    "scaler = StandardScaler()\n",
    "X_train_scaled = scaler.fit_transform(X_train)\n",
    "X_test_scaled = scaler.transform(X_test)"
   ]
  },
  {
   "cell_type": "markdown",
   "metadata": {},
   "source": [
    "3. 학습 진행 : SGD Classifier\n",
    "- : 확률적경사하강법 기반의 분류"
   ]
  },
  {
   "cell_type": "code",
   "execution_count": 3,
   "metadata": {},
   "outputs": [
    {
     "name": "stdout",
     "output_type": "stream",
     "text": [
      "[기본 SGD] 학습 점수 : 0.941, 테스트 점수 : 0.950\n"
     ]
    },
    {
     "name": "stderr",
     "output_type": "stream",
     "text": [
      "c:\\Users\\wjs31\\.conda\\envs\\EXAM_MML\\lib\\site-packages\\sklearn\\linear_model\\_stochastic_gradient.py:713: ConvergenceWarning: Maximum number of iteration reached before convergence. Consider increasing max_iter to improve the fit.\n",
      "  warnings.warn(\n"
     ]
    }
   ],
   "source": [
    "# Create model1 : SGD Classifier\n",
    "from sklearn.linear_model import SGDClassifier\n",
    "\n",
    "model1 = SGDClassifier(random_state=41, verbose=0, loss='log_loss', n_iter_no_change=999)\n",
    "# n_iter_no_change= : \n",
    "model1.fit(X_train_scaled, y_train)\n",
    "\n",
    "# Check scores\n",
    "train_score1 = model1.score(X_train_scaled, y_train)\n",
    "test_score1 = model1.score(X_test_scaled, y_test)\n",
    "print(f'[기본 SGD] 학습 점수 : {train_score1:.3f}, 테스트 점수 : {test_score1:.3f}')\n",
    "\n"
   ]
  },
  {
   "cell_type": "markdown",
   "metadata": {},
   "source": [
    "##### 최적의 학습 횟수(n_iter_) 찾기\n",
    "- max_iter를 변경하면 성능이 좋아진다!"
   ]
  },
  {
   "cell_type": "code",
   "execution_count": 4,
   "metadata": {},
   "outputs": [
    {
     "name": "stdout",
     "output_type": "stream",
     "text": [
      "model.n_iter : 1000\n"
     ]
    }
   ],
   "source": [
    " # max_iter 값에 따른 n_iter_와 성능 차이\n",
    " \n",
    "print('model.n_iter :', model1.n_iter_)      \n",
    "# n_iter_no_change 변경 없을 때 : 34, 성능 0.882\n",
    "# n_iter_no_change = 1000 : 1000, 성능 : 0.950"
   ]
  },
  {
   "cell_type": "markdown",
   "metadata": {},
   "source": [
    "1 에포크 씩 점진적으로 학습 진행 => partial_fit()"
   ]
  },
  {
   "cell_type": "code",
   "execution_count": 5,
   "metadata": {},
   "outputs": [
    {
     "name": "stdout",
     "output_type": "stream",
     "text": [
      "['Bream' 'Parkki' 'Perch' 'Pike' 'Roach' 'Smelt' 'Whitefish']\n",
      "[n_iter_ = 1] 학습 점수 : 0.723, 테스트 점수 : 0.700\n"
     ]
    }
   ],
   "source": [
    "# 모델 인스턴스 생성\n",
    "import numpy as np\n",
    "\n",
    "# n_iter_no_change=1 인 model2 생성\n",
    "model2 = SGDClassifier(random_state=41, verbose=0, loss='log_loss', n_iter_no_change=1)\n",
    "\n",
    "print(np.unique(y_train))   # class 정보를 직접 입력\n",
    "model2.partial_fit(X_train_scaled, y_train, classes=np.unique(y_train))\n",
    "# partial_fit() : \n",
    "# classes : 타겟의 클래스 (종류), \n",
    "\n",
    "# Check scores\n",
    "train_score2 = model2.score(X_train_scaled, y_train)\n",
    "test_score2 = model2.score(X_test_scaled, y_test)\n",
    "print(f'[n_iter_ = 1] 학습 점수 : {train_score2:.3f}, 테스트 점수 : {test_score2:.3f}')"
   ]
  },
  {
   "cell_type": "code",
   "execution_count": 6,
   "metadata": {},
   "outputs": [
    {
     "data": {
      "image/png": "[encoded data removed]",
      "text/plain": [
       "<Figure size 600x600 with 1 Axes>"
      ]
     },
     "metadata": {},
     "output_type": "display_data"
    }
   ],
   "source": [
    "# for 반복 : model에 선언된 n_iter_n_c 가 1 이므로\n",
    "#            반복 실행 시 1 에포크 씩 학습한다\n",
    "train_score, test_score = [], []\n",
    "for n in range(100):\n",
    "    model2.partial_fit(X_train_scaled, y_train, classes=np.unique(y_train))\n",
    "    train_score2 = model2.score(X_train_scaled, y_train)\n",
    "    test_score2 = model2.score(X_test_scaled, y_test)\n",
    "    train_score.append(train_score2)\n",
    "    test_score.append(test_score2)\n",
    "    if abs(test_score2 - train_score2) > 0.03:  # test와 train의 차이가 작을 때\n",
    "        if test_score2 > 0.90:\n",
    "            break\n",
    "\n",
    "# 시각화\n",
    "import matplotlib.pyplot as plt\n",
    "\n",
    "plt.figure(figsize=(6, 6))\n",
    "plt.plot(train_score,'#125512', label='train score')\n",
    "plt.plot(test_score, '#D3926F', label='test score')\n",
    "plt.xlabel('Epochs')\n",
    "plt.ylabel('Accuracy')\n",
    "plt.legend()\n",
    "plt.show()"
   ]
  },
  {
   "cell_type": "markdown",
   "metadata": {},
   "source": [
    "##### penalty, alpha 적용\n",
    "1) penalty=L2 :  \n",
    "2) alpha=0.0001 : 가중치의 크기를 조절하는 가중치 정도\n",
    "- 과대적합 시 규제는 강하게 적용 -> 가중치의 값을 작게 -> 완만한 그래프\n",
    "- "
   ]
  },
  {
   "cell_type": "code",
   "execution_count": 9,
   "metadata": {},
   "outputs": [
    {
     "name": "stdout",
     "output_type": "stream",
     "text": [
      "train score : 0.748\n",
      "test score : 0.700\n"
     ]
    }
   ],
   "source": [
    "# 모델 인스턴스 생성\n",
    "\n",
    "model3 = SGDClassifier(loss='log_loss', penalty='l2', alpha=0.0000001, random_state=42)\n",
    "model3.fit(X_train_scaled, y_train)\n",
    "# 학습 점수와 테스트 점수 계산\n",
    "train_score3 = model3.score(X_train_scaled, y_train)\n",
    "test_score3 = model3.score(X_test_scaled, y_test)\n",
    "print(f'train score : {train_score3:.3f}')\n",
    "print(f'test score : {test_score3:.3f}')\n",
    "\n",
    "# 이런 식으로 가중치를 조절할 수 있다~"
   ]
  },
  {
   "cell_type": "code",
   "execution_count": null,
   "metadata": {},
   "outputs": [],
   "source": [
    "# fin."
   ]
  }
 ],
 "metadata": {
  "kernelspec": {
   "display_name": "EXAM_MML",
   "language": "python",
   "name": "python3"
  },
  "language_info": {
   "codemirror_mode": {
    "name": "ipython",
    "version": 3
   },
   "file_extension": ".py",
   "mimetype": "text/x-python",
   "name": "python",
   "nbconvert_exporter": "python",
   "pygments_lexer": "ipython3",
   "version": "3.9.18"
  }
 },
 "nbformat": 4,
 "nbformat_minor": 2
}
