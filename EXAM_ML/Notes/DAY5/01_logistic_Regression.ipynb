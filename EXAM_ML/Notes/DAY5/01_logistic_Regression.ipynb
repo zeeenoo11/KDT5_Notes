{
 "cells": [
  {
   "cell_type": "code",
   "execution_count": null,
   "metadata": {},
   "outputs": [],
   "source": []
  },
  {
   "cell_type": "code",
   "execution_count": null,
   "metadata": {},
   "outputs": [],
   "source": []
  },
  {
   "cell_type": "code",
   "execution_count": null,
   "metadata": {},
   "outputs": [],
   "source": [
    "# Load Module\n",
    "from sklearn.linear_model import LogisticRegression\n",
    "# 모델 생성\n",
    "model = LogisticRegression(max_iter=1000)   # 경고 발생시 큰 값 입력\n",
    "model.fit(featureDF, targetSR)"
   ]
  },
  {
   "cell_type": "code",
   "execution_count": null,
   "metadata": {},
   "outputs": [],
   "source": [
    "# 모델 점수 평가\n",
    "print(model.score(featureDF, targetSR))\n",
    "\n",
    "# 학습 후 결정된 모델 파라미터 확인\n",
    "print('classes_ :', model.classes_)                     # target의 종류 : \n",
    "print('feature_name_in_ :', model.feature_names_in_)    # feature 4개\n",
    "print('n_iter_ :', model.n_iter_)                       # \n",
    "# The n_iter_ attribute is used to store the number of iterations a model has been trained for.\n",
    "print('coef_ :', model.coef_)                           # 가중치는 12개\n",
    "print('intercept_ :', model.intercept_)                 # 절편 3개\n",
    "\n",
    "# => 12개, 3개인 이유 : target이 3 종류(class)이기 때문"
   ]
  },
  {
   "cell_type": "markdown",
   "metadata": {},
   "source": [
    "##### coef 가 12개인 이유 설명:"
   ]
  },
  {
   "cell_type": "code",
   "execution_count": null,
   "metadata": {},
   "outputs": [],
   "source": [
    "# [ 다중 분류 ]\n",
    "# [OvR/OvA]\n",
    "#   과일  index\n",
    "# - 사과    0  사과 vs 나머지\n",
    "# - 배      1    배 vs 나머지\n",
    "# - 바나나  2 \n",
    "\n",
    "# [OvO]\n",
    "# 과일 => 과일을 분류하는 모델 OvO  타깃*나머지/중복 : 5*4/2 = 10\n",
    "# 타겟\n",
    "# 사과   => 사과 vs 배      사과 vs 바나나      사과 vs 수박\n",
    "# 배     => 배 vs 사과      배vs 바나나         배vs 수박\n",
    "# 바나나 => 바나나 vs사과    바나나 vs 배       \n",
    "# 수박   => 수박 vs 사과    수박 vs 배\n",
    "# 키위   => 키위 vs 사과    키위 vs 배\n",
    "\n",
    "# [OvA/OvR] -> 3개 모델\n",
    "# Setosa \n",
    "# Vers ..."
   ]
  },
  {
   "cell_type": "code",
   "execution_count": null,
   "metadata": {},
   "outputs": [],
   "source": [
    "# [ LogisticRegression ]\n",
    "# - 다양한 파라미터를 설명 \n",
    "# \n",
    "# 파라미터 설명\n",
    "# [ penalty= ]\n",
    "# : 규제 penalty : 가중치 w를 조정하는 것\n",
    "# - 예) LinearReg : y = f1*w1 + f2*w2 + b\n",
    "#                  임의로 w2=0 등 조정하는 것\n",
    "# \n",
    "# [ verbose ]\n",
    "# : 동작 과정을 출력함\n",
    "# \n",
    "# [ solver='ibfgs' ]\n",
    "# : 최적화 문제 사용 알고리즘\n",
    "#   변경이 필요한 조건이 따로 있음 (데이터가 작거나 클래스가 다양하거나)\n",
    "# -----------------------------------------------------------------------\n",
    "# [ 경사하강법 ]\n",
    "# : a가 양수인 2차 곡선에서, 기울기가 0에 가까워지는 방향으로 학습하는 것\n",
    "#   가중치가 기울기이므로 가장 정확하거나 빠른 방법으로 하강하는 길을 찾아야함\n",
    "#   다양한 방법이 있다\n",
    "#   => SGD 확률적 경사하강법"
   ]
  },
  {
   "cell_type": "markdown",
   "metadata": {},
   "source": [
    "##### 목표 : "
   ]
  },
  {
   "cell_type": "code",
   "execution_count": null,
   "metadata": {},
   "outputs": [],
   "source": [
    "from sklearn.datasets import load_iris\n",
    "import pandas as pd\n",
    "import numpy as np"
   ]
  },
  {
   "cell_type": "code",
   "execution_count": null,
   "metadata": {},
   "outputs": [],
   "source": [
    "# Load Data\n",
    "iris = load_iris()\n",
    "iris    # dict 형태: Bunch 타입으로 dict와 유사한 scikit-learn class"
   ]
  },
  {
   "cell_type": "code",
   "execution_count": null,
   "metadata": {},
   "outputs": [],
   "source": [
    "iris = load_iris(return_X_y=True, as_frame=True) \n",
    "print(iris[0].head())\n",
    "print(iris[1].info())   # 'target', int\n",
    "\n",
    "featureDF = iris[0]\n",
    "targetSR  = iris[1]"
   ]
  },
  {
   "cell_type": "markdown",
   "metadata": {},
   "source": [
    "##### 2) 모델 학습 진행"
   ]
  },
  {
   "cell_type": "code",
   "execution_count": 11,
   "metadata": {},
   "outputs": [
    {
     "data": {
      "text/plain": [
       "array([[0.   , 0.235, 0.765]])"
      ]
     },
     "execution_count": 11,
     "metadata": {},
     "output_type": "execute_result"
    }
   ],
   "source": [
    "# 추가 설명\n",
    "\n",
    "# 각 분류 클래스에 대한 확률 값\n",
    "np.round( model.predict_proba(featureDF.iloc[[-1]]), 3)"
   ]
  },
  {
   "cell_type": "code",
   "execution_count": 10,
   "metadata": {},
   "outputs": [],
   "source": [
    "# fin."
   ]
  }
 ],
 "metadata": {
  "kernelspec": {
   "display_name": "EXAM_MML",
   "language": "python",
   "name": "python3"
  },
  "language_info": {
   "codemirror_mode": {
    "name": "ipython",
    "version": 3
   },
   "file_extension": ".py",
   "mimetype": "text/x-python",
   "name": "python",
   "nbconvert_exporter": "python",
   "pygments_lexer": "ipython3",
   "version": "3.9.18"
  }
 },
 "nbformat": 4,
 "nbformat_minor": 2
}
