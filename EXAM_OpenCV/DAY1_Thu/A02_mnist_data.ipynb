{
 "cells": [
  {
   "cell_type": "code",
   "execution_count": 3,
   "metadata": {},
   "outputs": [],
   "source": [
    "#### 이미지 raw data에서 데이터 추출"
   ]
  },
  {
   "cell_type": "code",
   "execution_count": 4,
   "metadata": {},
   "outputs": [],
   "source": [
    "# 1. 파일 입출력 방식\n",
    "#   - with open() as~\n",
    "\n",
    "file_path = '../DATA/MNIST/t10k-images.idx3-ubyte'"
   ]
  },
  {
   "cell_type": "code",
   "execution_count": 5,
   "metadata": {},
   "outputs": [],
   "source": [
    "# 파일 읽기 : mode = 'br' (binary read)\n",
    "#   - 쓰기 :  bw\n",
    "with open (file_path, 'br') as f:\n",
    "    all_data = f.read()"
   ]
  },
  {
   "cell_type": "code",
   "execution_count": 6,
   "metadata": {},
   "outputs": [
    {
     "name": "stdout",
     "output_type": "stream",
     "text": [
      "<class 'bytes'> 7840016\n",
      "b\"\\x00\\x00\\x08\\x03\\x00\\x00'\\x10\\x00\\x00\\x00\\x1c\\x00\\x00\\x00\\x1c\\x00\\x00\\x00\\x00\\x00\\x00\\x00\\x00\\x00\\x00\\x00\\x00\\x00\\x00\\x00\\x00\\x00\\x00\\x00\\x00\\x00\\x00\\x00\\x00\\x00\\x00\\x00\\x00\\x00\\x00\\x00\\x00\\x00\\x00\\x00\\x00\\x00\\x00\\x00\\x00\\x00\\x00\\x00\\x00\\x00\\x00\\x00\\x00\\x00\\x00\\x00\\x00\\x00\\x00\\x00\\x00\\x00\\x00\\x00\\x00\\x00\\x00\\x00\\x00\\x00\\x00\\x00\\x00\\x00\\x00\\x00\\x00\\x00\\x00\\x00\\x00\\x00\\x00\\x00\\x00\\x00\\x00\\x00\\x00\"\n"
     ]
    }
   ],
   "source": [
    "print(type(all_data), len(all_data))\n",
    "print(all_data[:100])"
   ]
  },
  {
   "cell_type": "code",
   "execution_count": 7,
   "metadata": {},
   "outputs": [
    {
     "name": "stdout",
     "output_type": "stream",
     "text": [
      "b'\\x00\\x00\\x08\\x03' b\"\\x00\\x00'\\x10\" b'\\x00\\x00\\x00\\x1c' b'\\x00\\x00\\x00\\x1c'\n"
     ]
    }
   ],
   "source": [
    "with open (file_path, 'br') as f:\n",
    "    magic_number = f.read(4)\n",
    "    data_len = f.read(4)\n",
    "    row = f.read(4)\n",
    "    col = f.read(4)\n",
    "\n",
    "print(magic_number, data_len, row, col)"
   ]
  },
  {
   "cell_type": "markdown",
   "metadata": {},
   "source": [
    "<hr>\n",
    "\n",
    "2. 파이썬의 byte 데이터 변환 모듈 struct 사용"
   ]
  },
  {
   "cell_type": "code",
   "execution_count": 8,
   "metadata": {},
   "outputs": [],
   "source": [
    "# 바이트를 알아볼 수 있게 변환\n",
    "#  - struct.unpack('format', data)\n",
    "#    - format : 데이터 타입\n",
    "#       - i : int\n",
    "#       - f : float\n",
    "#       - s : string\n",
    "#       - b : byte\n",
    "#       - > : big-endian; 큰 단위가 앞에 오는 방식\n",
    "#    - data : 바이트 데이터\n",
    "\n",
    "\n",
    "save_file = '../DATA/MNIST/t10k-images.idx3-ubyte'"
   ]
  },
  {
   "cell_type": "code",
   "execution_count": 9,
   "metadata": {},
   "outputs": [],
   "source": [
    "# 모듈 로딩\n",
    "import struct"
   ]
  },
  {
   "cell_type": "code",
   "execution_count": 13,
   "metadata": {},
   "outputs": [],
   "source": [
    "# 데이터 추출 및 저장 관련 변수\n",
    "# - 학습용 : train.csv\n",
    "# - 테스트용 : test.csv\n",
    "# - 위치 : ../DATA/text/\n",
    "\n",
    "data_dir = '../DATA/text/'\n",
    "train_file = data_dir + 'train.csv'\n",
    "test_file = data_dir + 'test.csv'\n"
   ]
  },
  {
   "cell_type": "code",
   "execution_count": null,
   "metadata": {},
   "outputs": [],
   "source": [
    "# Define Function\n",
    "# function  : read raw data and save as csv\n",
    "# func name : to_csv\n",
    "# parameter : file_name, numbers of data\n",
    "# return    : True or False\n",
    "\n",
    "def to_csv(file_name, maxdata):\n",
    "    # 1. load raw data\n",
    "    lbl_f = open(file_name, 'rb')   # label file\n",
    "    img_f = open(file_name, 'rb')   # image file\n",
    "    \n",
    "    # 2. Create csv file\n",
    "    csv_f = open(file_name+'.csv', 'w', encoding='utf-8')\n",
    "\n",
    "\n",
    "    \n",
    "    "
   ]
  }
 ],
 "metadata": {
  "kernelspec": {
   "display_name": "Torch_PY38",
   "language": "python",
   "name": "python3"
  },
  "language_info": {
   "codemirror_mode": {
    "name": "ipython",
    "version": 3
   },
   "file_extension": ".py",
   "mimetype": "text/x-python",
   "name": "python",
   "nbconvert_exporter": "python",
   "pygments_lexer": "ipython3",
   "version": "3.8.18"
  }
 },
 "nbformat": 4,
 "nbformat_minor": 2
}
