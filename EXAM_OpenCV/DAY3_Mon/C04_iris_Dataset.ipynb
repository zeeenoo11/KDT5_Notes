{
 "cells": [
  {
   "cell_type": "markdown",
   "metadata": {},
   "source": [
    "#### iris.csv 에서 데이터를 가져와 Dataset 만들기"
   ]
  },
  {
   "cell_type": "code",
   "execution_count": 3,
   "metadata": {},
   "outputs": [
    {
     "name": "stdout",
     "output_type": "stream",
     "text": [
      "[[5.1 3.5 1.4 0.2]\n",
      " [4.9 3.  1.4 0.2]\n",
      " [4.7 3.2 1.3 0.2]\n",
      " [4.6 3.1 1.5 0.2]\n",
      " [5.  3.6 1.4 0.2]\n",
      " [5.4 3.9 1.7 0.4]\n",
      " [4.6 3.4 1.4 0.3]\n",
      " [5.  3.4 1.5 0.2]\n",
      " [4.4 2.9 1.4 0.2]\n",
      " [4.9 3.1 1.5 0.1]]\n",
      "[0 0 0 0 0 0 0 0 0 0]\n"
     ]
    }
   ],
   "source": [
    "# 1. Load Data\n",
    "from sklearn.datasets import load_iris\n",
    "iris = load_iris()\n",
    "X = iris.data\n",
    "y = iris.target\n",
    "print(X[:10], y[:10], sep='\\n')"
   ]
  },
  {
   "cell_type": "code",
   "execution_count": 4,
   "metadata": {},
   "outputs": [
    {
     "name": "stdout",
     "output_type": "stream",
     "text": [
      "(96, 4) (24, 4) (30, 4) (96,) (24,) (30,)\n"
     ]
    }
   ],
   "source": [
    "# 2. Split Data\n",
    "from sklearn.model_selection import train_test_split\n",
    "\n",
    "X_train, X_test, y_train, y_test = train_test_split(X, y, test_size=0.2, random_state=11, stratify=y)\n",
    "X_train, X_val, y_train, y_val = train_test_split(X_train, y_train, test_size=0.2, random_state=11, stratify=y_train)\n",
    "print(X_train.shape, X_val.shape, X_test.shape, y_train.shape, y_val.shape, y_test.shape)"
   ]
  },
  {
   "cell_type": "code",
   "execution_count": 30,
   "metadata": {},
   "outputs": [],
   "source": [
    "# 3. Dataset class\n",
    "import torch\n",
    "import numpy as np\n",
    "from torch.utils.data import Dataset, DataLoader\n",
    "\n",
    "class IrisDataset(Dataset):\n",
    "    def __init__(self, X, y):\n",
    "        super(IrisDataset, self).__init__()\n",
    "        self.X = torch.tensor(X, dtype=torch.float32)\n",
    "        self.y = torch.tensor(y, dtype=torch.long)\n",
    "        self.classes = np.unique(self.y).tolist()\n",
    "        self.len = len(self.X)\n",
    "\n",
    "    def __len__(self):\n",
    "        return len(self.X)\n",
    "\n",
    "    def __getitem__(self, idx):\n",
    "        return self.X[idx], self.y[idx]"
   ]
  },
  {
   "cell_type": "code",
   "execution_count": 33,
   "metadata": {},
   "outputs": [
    {
     "name": "stdout",
     "output_type": "stream",
     "text": [
      "(tensor([5.7000, 4.4000, 1.5000, 0.4000]), tensor(0))\n",
      "(tensor([4.9000, 2.5000, 4.5000, 1.7000]), tensor(2))\n",
      "(tensor([6.5000, 2.8000, 4.6000, 1.5000]), tensor(1))\n"
     ]
    },
    {
     "data": {
      "text/plain": [
       "[0, 1, 2]"
      ]
     },
     "execution_count": 33,
     "metadata": {},
     "output_type": "execute_result"
    }
   ],
   "source": [
    "train_dataset = IrisDataset(X_train, y_train)\n",
    "val_dataset = IrisDataset(X_val, y_val)\n",
    "test_dataset = IrisDataset(X_test, y_test)\n",
    "\n",
    "print(train_dataset[0], val_dataset[0], test_dataset[0], sep='\\n')\n",
    "train_dataset.classes"
   ]
  },
  {
   "cell_type": "code",
   "execution_count": 34,
   "metadata": {},
   "outputs": [
    {
     "name": "stdout",
     "output_type": "stream",
     "text": [
      "24 6 8\n"
     ]
    }
   ],
   "source": [
    "# 4. DataLoader\n",
    "Batch_size = 4\n",
    "train_loader = DataLoader(train_dataset, batch_size=Batch_size, shuffle=True)\n",
    "val_loader = DataLoader(val_dataset, batch_size=Batch_size, shuffle=False)  # shuffle할 필요 없대\n",
    "test_loader = DataLoader(test_dataset, batch_size=Batch_size, shuffle=False)\n",
    "\n",
    "print(len(train_loader), len(val_loader), len(test_loader))"
   ]
  },
  {
   "cell_type": "code",
   "execution_count": 56,
   "metadata": {},
   "outputs": [],
   "source": [
    "# Check Data\n",
    "def print_batch_data(loader, epoch, batch_size=1, shuffle=False, drop_last=False, sampler=None):\n",
    "    print(f'설정 값 : batch_size={batch_size}, shuffle={shuffle}, drop_last={drop_last}, sampler={sampler}')\n",
    "    \n",
    "    for ep in range(epoch):\n",
    "        print(f'Epoch {ep+1} : {len(loader)}개')\n",
    "        for i, (X_batch, y_batch) in enumerate(loader):\n",
    "            print(f'Batch {i+1} - X_batch : {X_batch.shape}, y_batch : {y_batch.shape}, x : {X_batch}, y : {y_batch}')\n",
    "            if i == 1:\n",
    "                break"
   ]
  },
  {
   "cell_type": "code",
   "execution_count": 57,
   "metadata": {},
   "outputs": [
    {
     "name": "stdout",
     "output_type": "stream",
     "text": [
      "설정 값 : batch_size=4, shuffle=True, drop_last=False, sampler=None\n",
      "Epoch 1 : 24개\n",
      "Batch 1 - X_batch : torch.Size([4, 4]), y_batch : torch.Size([4]), x : tensor([[5.0000, 3.3000, 1.4000, 0.2000],\n",
      "        [6.7000, 3.3000, 5.7000, 2.1000],\n",
      "        [5.2000, 4.1000, 1.5000, 0.1000],\n",
      "        [6.4000, 2.8000, 5.6000, 2.2000]]), y : tensor([0, 2, 0, 2])\n",
      "Batch 2 - X_batch : torch.Size([4, 4]), y_batch : torch.Size([4]), x : tensor([[6.3000, 3.3000, 6.0000, 2.5000],\n",
      "        [6.7000, 3.1000, 5.6000, 2.4000],\n",
      "        [4.7000, 3.2000, 1.6000, 0.2000],\n",
      "        [5.0000, 3.5000, 1.6000, 0.6000]]), y : tensor([2, 2, 0, 0])\n",
      "설정 값 : batch_size=4, shuffle=False, drop_last=False, sampler=None\n",
      "Epoch 1 : 24개\n",
      "Batch 1 - X_batch : torch.Size([4, 4]), y_batch : torch.Size([4]), x : tensor([[4.7000, 3.2000, 1.3000, 0.2000],\n",
      "        [6.4000, 3.1000, 5.5000, 1.8000],\n",
      "        [5.9000, 3.2000, 4.8000, 1.8000],\n",
      "        [4.4000, 2.9000, 1.4000, 0.2000]]), y : tensor([0, 2, 1, 0])\n",
      "Batch 2 - X_batch : torch.Size([4, 4]), y_batch : torch.Size([4]), x : tensor([[5.8000, 2.7000, 5.1000, 1.9000],\n",
      "        [6.3000, 2.5000, 4.9000, 1.5000],\n",
      "        [6.9000, 3.1000, 5.1000, 2.3000],\n",
      "        [5.7000, 3.0000, 4.2000, 1.2000]]), y : tensor([2, 1, 2, 1])\n"
     ]
    }
   ],
   "source": [
    "print_batch_data(train_loader, 1, batch_size=4, shuffle=True, drop_last=False, sampler=None)\n",
    "print_batch_data(train_loader, 1, batch_size=4, shuffle=False, drop_last=False, sampler=None)"
   ]
  },
  {
   "cell_type": "code",
   "execution_count": null,
   "metadata": {},
   "outputs": [],
   "source": []
  },
  {
   "cell_type": "code",
   "execution_count": 35,
   "metadata": {},
   "outputs": [
    {
     "data": {
      "text/plain": [
       "(tensor([5.7000, 4.4000, 1.5000, 0.4000]), tensor(0))"
      ]
     },
     "execution_count": 35,
     "metadata": {},
     "output_type": "execute_result"
    }
   ],
   "source": [
    "train_loader.dataset[0]"
   ]
  },
  {
   "cell_type": "code",
   "execution_count": 45,
   "metadata": {},
   "outputs": [],
   "source": [
    "# 5. Model\n",
    "import torch.nn as nn\n",
    "import torch.nn.functional as F\n",
    "\n",
    "class IrisModel(nn.Module):\n",
    "    def __init__(self):\n",
    "        super(IrisModel, self).__init__()\n",
    "        self.fc1 = nn.Linear(4, 64)\n",
    "        self.fc2 = nn.Linear(64, 32)\n",
    "        self.fc3 = nn.Linear(32, 3)\n",
    "\n",
    "    def forward(self, x):\n",
    "        x = F.relu(self.fc1(x))\n",
    "        x = F.relu(self.fc2(x))\n",
    "        x = self.fc3(x)\n",
    "        return x"
   ]
  },
  {
   "cell_type": "code",
   "execution_count": 46,
   "metadata": {},
   "outputs": [
    {
     "name": "stdout",
     "output_type": "stream",
     "text": [
      "Epoch 1, Loss 0.9330677647764484\n",
      "Epoch 1, Val Accuracy 0.6666666865348816\n",
      "Epoch 2, Loss 0.6015017291841408\n",
      "Epoch 2, Val Accuracy 0.6666666865348816\n",
      "Epoch 3, Loss 0.4566278137887518\n",
      "Epoch 3, Val Accuracy 0.7916666865348816\n",
      "Epoch 4, Loss 0.387158243819916\n",
      "Epoch 4, Val Accuracy 0.9583333730697632\n",
      "Epoch 5, Loss 0.3351638998525838\n",
      "Epoch 5, Val Accuracy 1.0\n",
      "Epoch 6, Loss 0.2918877634219825\n",
      "Epoch 6, Val Accuracy 1.0\n",
      "Epoch 7, Loss 0.2533090479288755\n",
      "Epoch 7, Val Accuracy 1.0\n",
      "Epoch 8, Loss 0.22127276432244494\n",
      "Epoch 8, Val Accuracy 1.0\n",
      "Epoch 9, Loss 0.19561310027105114\n",
      "Epoch 9, Val Accuracy 1.0\n",
      "Epoch 10, Loss 0.17553900572723555\n",
      "Epoch 10, Val Accuracy 1.0\n",
      "Epoch 11, Loss 0.14777544578282686\n",
      "Epoch 11, Val Accuracy 1.0\n",
      "Epoch 12, Loss 0.1436383337143828\n",
      "Epoch 12, Val Accuracy 1.0\n",
      "Epoch 13, Loss 0.14217925674468765\n",
      "Epoch 13, Val Accuracy 1.0\n",
      "Epoch 14, Loss 0.14088552772712623\n",
      "Epoch 14, Val Accuracy 1.0\n",
      "Epoch 15, Loss 0.13965322589016674\n",
      "Epoch 15, Val Accuracy 1.0\n",
      "Epoch 16, Loss 0.13842716214336784\n",
      "Epoch 16, Val Accuracy 1.0\n",
      "Epoch 17, Loss 0.1372447235395763\n",
      "Epoch 17, Val Accuracy 1.0\n",
      "Epoch 18, Loss 0.13607889656668704\n",
      "Epoch 18, Val Accuracy 1.0\n",
      "Epoch 19, Loss 0.13494677598888907\n",
      "Epoch 19, Val Accuracy 1.0\n",
      "Epoch 20, Loss 0.1338400357884287\n",
      "Early Stopping : Learning Rate < 0.0001\n"
     ]
    }
   ],
   "source": [
    "# 6. Train & Test\n",
    "import torch.optim as optim\n",
    "from torch.optim import lr_scheduler\n",
    "\n",
    "Epochs = 30\n",
    "model = IrisModel()\n",
    "criterion = nn.CrossEntropyLoss()\n",
    "optimizer = optim.Adam(model.parameters(), lr=0.001)\n",
    "scheduler = optim.lr_scheduler.StepLR(optimizer, step_size=10, gamma=0.1)\n",
    "# stepLR vs ReduceLROnPlateau\n",
    "#   - stepLR: step_size마다 gamma배 만큼 lr을 줄임\n",
    "#   - ReduceLROnPlateau: val_loss가 줄어들지 않을 때 lr을 줄임\n",
    "#   - 이 예제에서 stepLR을 사용한 이유 : 여기서 val_loss가 주는 건 의미가 없대\n",
    "\n",
    "for epoch in range(Epochs):\n",
    "    model.train()\n",
    "    running_loss = 0.0\n",
    "    for i, data in enumerate(train_loader.dataset):\n",
    "        inputs, labels = data\n",
    "        optimizer.zero_grad()\n",
    "        outputs = model(inputs)\n",
    "        loss = criterion(outputs, labels)\n",
    "        loss.backward()\n",
    "        optimizer.step()\n",
    "        running_loss += loss.item()\n",
    "    print(f'Epoch {epoch+1}, Loss {running_loss/len(train_loader.dataset)}')\n",
    "    scheduler.step()\n",
    "    if scheduler.get_last_lr()[0] < 0.0001:\n",
    "        print('Early Stopping : Learning Rate < 0.0001')\n",
    "        break\n",
    "\n",
    "    model.eval()\n",
    "    correct = 0\n",
    "    total = 0\n",
    "    with torch.no_grad():\n",
    "        for data in val_loader.dataset:\n",
    "            inputs, labels = data\n",
    "            outputs = model(inputs)\n",
    "            # print(outputs)\n",
    "            predicted = torch.argmax(outputs)\n",
    "            total += labels\n",
    "            correct += (predicted == labels).sum().item()\n",
    "    print(f'Epoch {epoch+1}, Val Accuracy {correct/total}')"
   ]
  },
  {
   "cell_type": "code",
   "execution_count": 22,
   "metadata": {},
   "outputs": [
    {
     "name": "stdout",
     "output_type": "stream",
     "text": [
      "Test Accuracy 1.0\n"
     ]
    }
   ],
   "source": [
    "# 7. Test\n",
    "model.eval()\n",
    "correct = 0\n",
    "total = 0\n",
    "with torch.no_grad():\n",
    "    for data in test_loader.dataset:\n",
    "        inputs, labels = data\n",
    "        outputs = model(inputs)\n",
    "        predicted = torch.argmax(outputs)\n",
    "        total += labels\n",
    "        correct += (predicted == labels).sum().item()\n",
    "print(f'Test Accuracy {correct/total}')"
   ]
  },
  {
   "cell_type": "code",
   "execution_count": 44,
   "metadata": {},
   "outputs": [
    {
     "name": "stdout",
     "output_type": "stream",
     "text": [
      "setosa\n",
      "virginica\n",
      "versicolor\n"
     ]
    }
   ],
   "source": [
    "# 8. New Data\n",
    "import numpy as np\n",
    "new_data = np.array([[5.1, 3.5, 1, 0.2], [6.2, 2, 5.4, 2.3], [7.2, 3.6, 3, 2.5]])\n",
    "new_data = torch.tensor(new_data, dtype=torch.float32)\n",
    "model.eval()\n",
    "with torch.no_grad():\n",
    "    for data in new_data:\n",
    "        outputs = model(data)\n",
    "        predicted = torch.argmax(outputs)\n",
    "        # {0: 'setosa', 1: 'versicolor', 2: 'virginica'} 으로 변환\n",
    "        if predicted == 0:\n",
    "            print('setosa')\n",
    "        elif predicted == 1:\n",
    "            print('versicolor')\n",
    "        else:\n",
    "            print('virginica')"
   ]
  },
  {
   "cell_type": "code",
   "execution_count": 41,
   "metadata": {},
   "outputs": [
    {
     "data": {
      "image/png": "[encoded data removed]",
      "text/plain": [
       "<Figure size 640x480 with 1 Axes>"
      ]
     },
     "metadata": {},
     "output_type": "display_data"
    }
   ],
   "source": [
    "# Visualize\n",
    "import matplotlib.pyplot as plt\n",
    "\n",
    "# 1) data 분배 그래프 + new_data 그래프\n",
    "fig, ax = plt.subplots()\n",
    "for i in range(3):\n",
    "    ax.scatter(X[y == i][:, 0], X[y == i][:, 1], label=iris.target_names[i])\n",
    "ax.scatter(new_data[:, 0], new_data[:, 1], label='New Data', marker='x')\n",
    "ax.legend()\n",
    "plt.show()\n"
   ]
  },
  {
   "cell_type": "code",
   "execution_count": null,
   "metadata": {},
   "outputs": [],
   "source": []
  }
 ],
 "metadata": {
  "kernelspec": {
   "display_name": "Torch_PY38",
   "language": "python",
   "name": "python3"
  },
  "language_info": {
   "codemirror_mode": {
    "name": "ipython",
    "version": 3
   },
   "file_extension": ".py",
   "mimetype": "text/x-python",
   "name": "python",
   "nbconvert_exporter": "python",
   "pygments_lexer": "ipython3",
   "version": "3.8.18"
  }
 },
 "nbformat": 4,
 "nbformat_minor": 2
}
