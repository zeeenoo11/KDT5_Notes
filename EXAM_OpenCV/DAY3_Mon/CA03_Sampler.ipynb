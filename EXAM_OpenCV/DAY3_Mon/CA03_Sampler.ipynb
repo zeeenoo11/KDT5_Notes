{
 "cells": [
  {
   "cell_type": "markdown",
   "metadata": {},
   "source": [
    "Sampler 사용해보기"
   ]
  },
  {
   "cell_type": "code",
   "execution_count": 4,
   "metadata": {},
   "outputs": [],
   "source": [
    "import os\n",
    "import sys\n",
    "import torch\n",
    "import torch.nn as nn\n",
    "import torch.optim as optim\n",
    "import torchvision\n",
    "import torchvision.transforms as transforms\n",
    "from torch.functional import F\n",
    "import numpy as np\n",
    "from PIL import Image\n",
    "import matplotlib.pyplot as plt"
   ]
  },
  {
   "cell_type": "code",
   "execution_count": 5,
   "metadata": {},
   "outputs": [],
   "source": [
    "pork_folder = '../DATA/Pork_images/'\n",
    "beef_folder = '../DATA/Beef_images/'\n",
    "pork_images, beef_images = os.listdir(pork_folder), os.listdir(beef_folder)"
   ]
  },
  {
   "cell_type": "code",
   "execution_count": 6,
   "metadata": {},
   "outputs": [
    {
     "name": "stdout",
     "output_type": "stream",
     "text": [
      "1000273355264_i1_750.jpg\n",
      "1000522472927_i1_750.jpg\n",
      "1000531208174_i1_750.jpg\n",
      "1000546285252_i1_750.jpg\n",
      "4-thuc-pham-dai-ky-thit-lon-loai-thu-4.jpg\n",
      "fresh-pork-meat-cooking-pork-loin-tray_75924-26230.jpg\n",
      "fresh-pork-neck-raw-or-collar-pork-on-board-with-ingredients-for-marinated_1339-154331.jpg\n",
      "Gia-heo-hoi-mien-Nam-xuong-doc-thi-truong-xuat.jpg\n",
      "meat_144627-27534.jpg\n",
      "pork-meat-large-piece-of-raw-pork-on-a-dark-rustic-table_256259-522.jpg\n",
      "raw-pork-meat-isolated_1203-6736.jpg_size=626&ext=jpg&ga=GA1.1.1546980028.jpg\n",
      "raw-pork-meat_1472-13371.jpg\n",
      "%EC%83%9D-%EC%87%A0%EA%B3%A0%EA%B8%B0-%EC%8A%A4%ED%85%8C%EC%9D%B4%ED%81%AC-%EC%BB%A4%ED%8B%80%EB%A6%BF%EA%B3%BC-%ED%96%A5%EC%8B%A0%EB%A3%8C%EB%A5%BC-%EA%B3%81%EB%93%A4%EC%9D%B8-%EC%83%A4%EC%8A%90%EB%A6%AD.jpg\n",
      "1000045412772_i1_750.jpg\n",
      "1000520047500_i1_750.jpg\n",
      "1000555929992_i1_750.jpg\n",
      "4H3PG5YFPJDIHN6FYSKPYDWOSA.jpg\n",
      "860x860_%EC%97%90%EC%9D%B4%EC%A7%95%EA%B7%B8%EB%9D%BC%EC%9A%B4%EB%93%9C_%EA%B0%88%EB%A6%AD%EC%97%90%EC%9D%B4%EC%A7%95%EC%86%8C%EA%B3%A0%EA%B8%B0%EC%A0%95%EA%B8%B0%EB%B0%B0%EC%86%A1.jpg\n",
      "ANIAHJJQANMU3SJQVMQGTFN7MU.jpg\n"
     ]
    }
   ],
   "source": [
    "# 오류 없는 이미지 파일명 리스트 생성\n",
    "valid_pork_images, valid_beef_images = [], []\n",
    "for image in pork_images:\n",
    "    # 로드 오류 시 파일명 출력\n",
    "    try:\n",
    "        img = Image.open(pork_folder + image)\n",
    "        valid_pork_images.append(image)\n",
    "    except:\n",
    "        print(image)\n",
    "        continue\n",
    "for image in beef_images:\n",
    "    try:\n",
    "        img = Image.open(beef_folder + image)\n",
    "        valid_beef_images.append(image)\n",
    "    except:\n",
    "        print(image)\n",
    "        continue"
   ]
  },
  {
   "cell_type": "code",
   "execution_count": 7,
   "metadata": {},
   "outputs": [
    {
     "name": "stdout",
     "output_type": "stream",
     "text": [
      "png-transparent-black-iberian-pig-ham-boston-butt-pork-sirloin-steak-ham-beef-animal-source-foods-pork.jpg\n",
      "Pork : 227 torch.Size([3, 600, 600]) torch.float32\n",
      "Beef : 207 torch.Size([3, 600, 600]) torch.float32\n"
     ]
    }
   ],
   "source": [
    "# .Compose로 해보기, .convert('RGB') 추가\n",
    "transform = transforms.Compose([\n",
    "    transforms.Resize((600, 600)),\n",
    "    transforms.ToTensor()\n",
    "])\n",
    "pork_data, beef_data = [], []\n",
    "for image in valid_pork_images:\n",
    "    img = Image.open(pork_folder + image)\n",
    "    if img.mode == 'RGBA':\n",
    "        img = img.convert('RGB')\n",
    "    img = transform(img)\n",
    "    if img.shape[0] != 3:\n",
    "        print(image)\n",
    "    else:\n",
    "        pork_data.append(img)\n",
    "print('Pork :', len(pork_data), pork_data[0].shape, pork_data[0].dtype)\n",
    "\n",
    "for image in valid_beef_images:\n",
    "    img = Image.open(beef_folder + image)\n",
    "    if img.mode == 'RGBA':\n",
    "        img = img.convert('RGB')\n",
    "    img = transform(img)\n",
    "    beef_data.append(img)\n",
    "print('Beef :', len(beef_data), beef_data[0].shape, beef_data[0].dtype)"
   ]
  },
  {
   "cell_type": "code",
   "execution_count": 8,
   "metadata": {},
   "outputs": [],
   "source": [
    "# class MeatDataset : __init__ (super), __len__, __getitem__ 구현\n",
    "from torch.utils.data import Dataset, DataLoader\n",
    "\n",
    "class MeatDataset(Dataset):\n",
    "    def __init__(self, data, label):\n",
    "        super(MeatDataset, self).__init__()\n",
    "        self.data = data\n",
    "        self.label = torch.tensor(label, dtype=torch.long)\n",
    "    \n",
    "    def __len__(self):\n",
    "        return len(self.data)\n",
    "    \n",
    "    def __getitem__(self, idx):\n",
    "        return self.data[idx], self.label[idx]"
   ]
  },
  {
   "cell_type": "code",
   "execution_count": 9,
   "metadata": {},
   "outputs": [
    {
     "data": {
      "text/plain": [
       "434"
      ]
     },
     "execution_count": 9,
     "metadata": {},
     "output_type": "execute_result"
    }
   ],
   "source": [
    "# label 생성\n",
    "pork_label = [0] * len(pork_data)\n",
    "beef_label = [1] * len(beef_data)\n",
    "labels = pork_label + beef_label\n",
    "len(labels)"
   ]
  },
  {
   "cell_type": "code",
   "execution_count": 16,
   "metadata": {},
   "outputs": [
    {
     "name": "stdout",
     "output_type": "stream",
     "text": [
      "Pork ratio : 0.5230414746543779 Beef ratio : 0.4769585253456221\n"
     ]
    }
   ],
   "source": [
    "# 클래스별 비율 계산\n",
    "pork_ratio = len(pork_data) / len(labels)\n",
    "beef_ratio = len(beef_data) / len(labels)\n",
    "print('Pork ratio :', pork_ratio, 'Beef ratio :', beef_ratio)"
   ]
  },
  {
   "cell_type": "code",
   "execution_count": 17,
   "metadata": {},
   "outputs": [
    {
     "name": "stdout",
     "output_type": "stream",
     "text": [
      "Dataset : 434\n",
      "Train : 347 Test : 87\n",
      "Train : 44 Test : 11\n"
     ]
    }
   ],
   "source": [
    "# dataset 생성\n",
    "pork_dataset = MeatDataset(pork_data, pork_label)\n",
    "beef_dataset = MeatDataset(beef_data, beef_label)\n",
    "\n",
    "# 결합\n",
    "dataset = torch.utils.data.ConcatDataset([pork_dataset, beef_dataset])\n",
    "print('Dataset :', len(dataset))\n",
    "\n",
    "# split\n",
    "from sklearn.model_selection import train_test_split\n",
    "\n",
    "train_data, test_data = train_test_split(dataset, test_size=0.2, random_state=11, shuffle=True, stratify=labels)\n",
    "print('Train :', len(train_data), 'Test :', len(test_data))\n",
    "\n",
    "# Sampler 생성 : WeightedRandomSampler\n",
    "from torch.utils.data import WeightedRandomSampler\n",
    "\n",
    "# 클래스별 비율 계산\n",
    "pork_ratio = len(pork_data) / len(labels)\n",
    "beef_ratio = len(beef_data) / len(labels)\n",
    "# print('Pork ratio :', pork_ratio, 'Beef ratio :', beef_ratio)\n",
    "\n",
    "sampler = WeightedRandomSampler([pork_ratio, beef_ratio], len(train_data), replacement=True)\n",
    "# WeightedRandomSampler(weights, num_samples, replacement=True)\n",
    "# - weights : 각 샘플이 선택될 확률 : \n",
    "# - num_samples : 샘플 개수\n",
    "# - replacement : True이면 복원추출, False이면 비복원추출\n",
    "\n",
    "# dataloader 생성\n",
    "Batch = 8   # 모든 배치 수는 8\n",
    "train_loader = DataLoader(train_data, batch_size=Batch, sampler=sampler, shuffle=False)     # sampler 추가시 shuffle=False\n",
    "test_loader = DataLoader(test_data, batch_size=Batch, shuffle=False)\n",
    "print('Train :', len(train_loader), 'Test :', len(test_loader))"
   ]
  },
  {
   "cell_type": "code",
   "execution_count": 18,
   "metadata": {},
   "outputs": [],
   "source": [
    "class MeatModel(nn.Module):\n",
    "    def __init__(self):\n",
    "        super(MeatModel, self).__init__()\n",
    "        self.conv1 = nn.Conv2d(3, 32, kernel_size=3, padding=1)  # (3, 600, 600) -> (32, 600, 600), 가로세로는 일정\n",
    "        self.conv2 = nn.Conv2d(32, 64, kernel_size=3, padding=1)  # (32, 600, 600) -> (64, 600, 600)\n",
    "        self.pool = nn.MaxPool2d(kernel_size=2)  # (64, 600, 600) -> (64, 300, 300) -> (64, 150, 150)\n",
    "        self.fc1 = nn.Linear(64 * 150 * 150, 128)\n",
    "        self.fc2 = nn.Linear(128, 2)    # 0, 1이면 2개의 클래스, 1인가 2인가?\n",
    "        \n",
    "    def forward(self, x):\n",
    "        y = F.relu(self.conv1(x))   # (3, 600, 600) -> (32, 600, 600)\n",
    "        y = self.pool(y)            # (32, 600, 600) -> (32, 300, 300)\n",
    "        y = F.relu(self.conv2(y))   # (32, 300, 300) -> (64, 300, 300)\n",
    "        y = self.pool(y)            # (64, 300, 300) -> (64, 150, 150)\n",
    "        \n",
    "        y = y.view(-1, 64 * 150 * 150)  # 1차원으로 펼치기 : ?? 근데 왜 300이지? -> 150 맞다! fc1을 300으로 해서 오류\n",
    "        y = F.relu(self.fc1(y))    # (64 * 150 * 150) -> (128)\n",
    "        y = self.fc2(y)            # (128) -> (2)\n",
    "        return y"
   ]
  },
  {
   "cell_type": "code",
   "execution_count": 20,
   "metadata": {},
   "outputs": [
    {
     "name": "stdout",
     "output_type": "stream",
     "text": [
      "torch.Size([8, 3, 600, 600]) tensor([1, 1, 1, 1, 1, 1, 1, 1])\n",
      "Epoch : 0 Iter : 0 Loss : 0.7327685356140137\n",
      "torch.Size([8, 3, 600, 600]) tensor([0, 1, 1, 1, 1, 0, 0, 0])\n",
      "Epoch : 0 Iter : 3 Loss : 0.0007033762522041798\n",
      "torch.Size([8, 3, 600, 600]) tensor([1, 0, 0, 1, 0, 0, 1, 1])\n",
      "Epoch : 0 Iter : 6 Loss : 3.5762778338721546e-07\n",
      "torch.Size([8, 3, 600, 600]) tensor([1, 1, 1, 0, 0, 1, 0, 1])\n",
      "Epoch : 0 Iter : 9 Loss : 2.7178732125321403e-05\n",
      "torch.Size([8, 3, 600, 600]) tensor([1, 1, 0, 0, 0, 0, 1, 1])\n",
      "Epoch : 0 Iter : 12 Loss : 0.0\n",
      "torch.Size([8, 3, 600, 600]) tensor([1, 0, 1, 1, 0, 1, 0, 1])\n",
      "Epoch : 0 Iter : 15 Loss : 2.9802316703353426e-07\n",
      "torch.Size([8, 3, 600, 600]) tensor([1, 1, 1, 0, 1, 1, 0, 0])\n",
      "Epoch : 0 Iter : 18 Loss : 5.215404144109925e-07\n",
      "torch.Size([8, 3, 600, 600]) tensor([0, 1, 0, 0, 0, 1, 1, 0])\n",
      "Epoch : 0 Iter : 21 Loss : 0.0\n",
      "torch.Size([8, 3, 600, 600]) tensor([0, 1, 0, 0, 1, 0, 0, 0])\n",
      "Epoch : 0 Iter : 24 Loss : 0.0\n",
      "torch.Size([8, 3, 600, 600]) tensor([1, 0, 1, 1, 1, 0, 1, 0])\n",
      "Epoch : 0 Iter : 27 Loss : 0.0\n",
      "torch.Size([8, 3, 600, 600]) tensor([0, 1, 1, 0, 0, 0, 1, 1])\n",
      "Epoch : 0 Iter : 30 Loss : 0.0\n",
      "torch.Size([8, 3, 600, 600]) tensor([0, 0, 1, 0, 0, 1, 1, 1])\n",
      "Epoch : 0 Iter : 33 Loss : 0.0\n",
      "torch.Size([8, 3, 600, 600]) tensor([1, 0, 1, 1, 0, 1, 1, 1])\n",
      "Epoch : 0 Iter : 36 Loss : 0.0\n",
      "torch.Size([8, 3, 600, 600]) tensor([0, 0, 0, 0, 0, 1, 0, 0])\n",
      "Epoch : 0 Iter : 39 Loss : 0.0\n",
      "torch.Size([8, 3, 600, 600]) tensor([1, 0, 0, 0, 1, 0, 0, 1])\n",
      "Epoch : 0 Iter : 42 Loss : 0.0\n",
      "Accuracy : 0.5172413793103449\n"
     ]
    }
   ],
   "source": [
    "# model evaluation test\n",
    "model = MeatModel()\n",
    "criterion = nn.CrossEntropyLoss()\n",
    "optimizer = optim.Adam(model.parameters(), lr=0.001)\n",
    "\n",
    "# train\n",
    "Epoch = 3\n",
    "for epoch in range(Epoch):\n",
    "    model.train()\n",
    "    for i, (data, label) in enumerate(train_loader):\n",
    "        optimizer.zero_grad()\n",
    "        output = model(data)\n",
    "        label = label.view(-1)\n",
    "        loss = criterion(output, label)\n",
    "        loss.backward()\n",
    "        optimizer.step()\n",
    "        \n",
    "        if i % 3 == 0:  # 이거 왜 0만 출력? -> break 위치 잘못 ㅠ\n",
    "            print(data.shape, label)\n",
    "            print(f'Epoch : {epoch} Iter : {i} Loss : {loss.item()}')\n",
    "    break\n",
    "\n",
    "\n",
    "# test\n",
    "model.eval()\n",
    "with torch.no_grad():\n",
    "    correct = 0\n",
    "    total = 0\n",
    "    for i, (data, label) in enumerate(test_loader):\n",
    "        output = model(data)\n",
    "        label = label.view(-1)\n",
    "        _, predicted = torch.max(output, 1)\n",
    "        total += label.size(0)\n",
    "        correct += (predicted == label).sum().item()\n",
    "    print('Accuracy :', correct / total)"
   ]
  },
  {
   "cell_type": "markdown",
   "metadata": {},
   "source": [
    "Accuracy 0.5172"
   ]
  },
  {
   "cell_type": "code",
   "execution_count": 22,
   "metadata": {},
   "outputs": [
    {
     "data": {
      "text/plain": [
       "(torch.Size([1, 3, 600, 600]), torch.Size([1, 3, 600, 600]))"
      ]
     },
     "execution_count": 22,
     "metadata": {},
     "output_type": "execute_result"
    }
   ],
   "source": [
    "# new_data\n",
    "new_pork = Image.open('../DATA/pork3.jpg')\n",
    "new_beef = Image.open('../DATA/beef.jpg')\n",
    "\n",
    "def preprocess_img(img):\n",
    "    transform = transforms.Compose([\n",
    "        transforms.Resize((600, 600)),\n",
    "        transforms.ToTensor()\n",
    "    ])\n",
    "    img = img.convert('RGB')\n",
    "    img = transform(img)\n",
    "    img = img.unsqueeze(0)\n",
    "    return img\n",
    "\n",
    "preprocess_img(new_pork).shape, preprocess_img(new_beef).shape"
   ]
  },
  {
   "cell_type": "code",
   "execution_count": 23,
   "metadata": {},
   "outputs": [
    {
     "data": {
      "text/plain": [
       "(tensor([0]), tensor([0]))"
      ]
     },
     "execution_count": 23,
     "metadata": {},
     "output_type": "execute_result"
    }
   ],
   "source": [
    "def predict_img(img):\n",
    "    model.eval()\n",
    "    with torch.no_grad():\n",
    "        output = model(img)\n",
    "        _, predicted = torch.max(output, 1)\n",
    "        return predicted\n",
    "\n",
    "predict_img(preprocess_img(new_pork)), predict_img(preprocess_img(new_beef))"
   ]
  },
  {
   "cell_type": "code",
   "execution_count": null,
   "metadata": {},
   "outputs": [],
   "source": [
    "# ㅠㅠ 둘 다 돼지고기로 예측함"
   ]
  }
 ],
 "metadata": {
  "kernelspec": {
   "display_name": "Torch_PY38",
   "language": "python",
   "name": "python3"
  },
  "language_info": {
   "codemirror_mode": {
    "name": "ipython",
    "version": 3
   },
   "file_extension": ".py",
   "mimetype": "text/x-python",
   "name": "python",
   "nbconvert_exporter": "python",
   "pygments_lexer": "ipython3",
   "version": "3.8.18"
  }
 },
 "nbformat": 4,
 "nbformat_minor": 2
}
