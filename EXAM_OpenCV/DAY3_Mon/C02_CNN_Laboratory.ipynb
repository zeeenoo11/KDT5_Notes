{
 "cells": [
  {
   "cell_type": "code",
   "execution_count": 4,
   "metadata": {},
   "outputs": [],
   "source": [
    "# Load Module\n",
    "import torch\n",
    "import torch.nn as nn\n",
    "import cv2"
   ]
  },
  {
   "cell_type": "code",
   "execution_count": 3,
   "metadata": {},
   "outputs": [],
   "source": [
    "filename = '../DATA/angryping.jpg'"
   ]
  },
  {
   "cell_type": "code",
   "execution_count": 6,
   "metadata": {},
   "outputs": [
    {
     "name": "stdout",
     "output_type": "stream",
     "text": [
      "(535, 473, 3) 3\n",
      "(50, 50, 3) 3\n",
      "(535, 473) 2 --- (50, 50) 2\n"
     ]
    }
   ],
   "source": [
    "img_np = cv2.imread(filename)/255.0\n",
    "print(img_np.shape, img_np.ndim)\n",
    "\n",
    "img_np2 = cv2.resize(img_np, (50, 50))\n",
    "print(img_np2.shape, img_np2.ndim)\n",
    "\n",
    "gray_np = cv2.imread(filename, cv2.IMREAD_GRAYSCALE)/255.0\n",
    "gray_np2 = cv2.resize(gray_np, (50, 50))\n",
    "print(gray_np.shape, gray_np.ndim, '---', gray_np2.shape, gray_np2.ndim)\n"
   ]
  },
  {
   "cell_type": "code",
   "execution_count": 7,
   "metadata": {},
   "outputs": [],
   "source": [
    "imshow = cv2.imshow('image', img_np2)\n",
    "cv2.waitKey(0)\n",
    "cv2.destroyAllWindows()"
   ]
  },
  {
   "cell_type": "code",
   "execution_count": 10,
   "metadata": {},
   "outputs": [
    {
     "name": "stdout",
     "output_type": "stream",
     "text": [
      "torch.Size([50, 50, 3]) 3 --- torch.Size([50, 50]) 2\n"
     ]
    }
   ],
   "source": [
    "# numpy to tensor\n",
    "img_tensor = torch.tensor(img_np2, dtype=torch.float32)\n",
    "gray_tensor = torch.tensor(gray_np2, dtype=torch.float32)\n",
    "print(img_tensor.shape, img_tensor.ndim, '---', gray_tensor.shape, gray_tensor.ndim)"
   ]
  },
  {
   "cell_type": "code",
   "execution_count": 12,
   "metadata": {},
   "outputs": [
    {
     "name": "stdout",
     "output_type": "stream",
     "text": [
      "torch.Size([3, 50, 50]) 3 --- torch.Size([1, 50, 50]) 3\n"
     ]
    }
   ],
   "source": [
    "# Pytorch 이미지 데이터 형식 : (C, H, W) -> (H, W, C)\n",
    "# - permute()\n",
    "color_hwc = img_tensor.permute(2, 0, 1)\n",
    "gray_hwc = gray_tensor.unsqueeze(0)\n",
    "print(color_hwc.shape, color_hwc.ndim, '---', gray_hwc.shape, gray_hwc.ndim)"
   ]
  },
  {
   "cell_type": "markdown",
   "metadata": {},
   "source": [
    "#### CNN Layer 살펴보기"
   ]
  },
  {
   "cell_type": "code",
   "execution_count": 14,
   "metadata": {},
   "outputs": [
    {
     "name": "stdout",
     "output_type": "stream",
     "text": [
      "torch.Size([1, 48, 48])\n"
     ]
    }
   ],
   "source": [
    "# 이미지 데이터로 conv2D\n",
    "# 1. 흑백 이미지\n",
    "con_Layer = nn.Conv2d(in_channels=1, out_channels=1, kernel_size=3, stride=1, padding=0)\n",
    "# - 커널은 3x3, 이미지 크기는 50x50\n",
    "#   => 50 % 3 = 2 이므로 48만큼만 스캔, 48x48 출력\n",
    "\n",
    "output = con_Layer(gray_hwc)\n",
    "print(output.shape)     # torch.Size([1, 48, 48]) => 2만큼 짤린 것을 확인"
   ]
  },
  {
   "cell_type": "code",
   "execution_count": 16,
   "metadata": {},
   "outputs": [
    {
     "name": "stdout",
     "output_type": "stream",
     "text": [
      "torch.Size([8, 48, 48])\n"
     ]
    }
   ],
   "source": [
    "# out_channels를 8로 변경\n",
    "con_Layer = nn.Conv2d(in_channels=1, out_channels=8, kernel_size=3, stride=1, padding=0)\n",
    "output = con_Layer(gray_hwc)\n",
    "print(output.shape)     # torch.Size([8, 48, 48]) => 8개의 채널이 생성됨!!"
   ]
  },
  {
   "cell_type": "code",
   "execution_count": 19,
   "metadata": {},
   "outputs": [
    {
     "name": "stdout",
     "output_type": "stream",
     "text": [
      "Conv2d(1, 8, kernel_size=(3, 3), stride=(1, 1))\n",
      "Conv2d(8, 16, kernel_size=(3, 3), stride=(1, 1))\n"
     ]
    }
   ],
   "source": [
    "# conv2D 한 번 더\n",
    "con_Layer1 = nn.Conv2d(in_channels=1, out_channels=8, kernel_size=3, stride=1, padding=0)\n",
    "con_Layer2 = nn.Conv2d(in_channels=8, out_channels=16, kernel_size=3, stride=1, padding=0)\n",
    "print(con_Layer1, con_Layer2, sep='\\n')"
   ]
  },
  {
   "cell_type": "code",
   "execution_count": 22,
   "metadata": {},
   "outputs": [
    {
     "name": "stdout",
     "output_type": "stream",
     "text": [
      "torch.Size([8, 48, 48])\n",
      "torch.Size([8, 50, 50])\n",
      "torch.Size([8, 52, 52])\n"
     ]
    }
   ],
   "source": [
    "# Padding의 차이 확인\n",
    "con_Layer_p0 = nn.Conv2d(in_channels=1, out_channels=8, kernel_size=3, stride=1, padding=0)\n",
    "con_Layer_p1 = nn.Conv2d(in_channels=1, out_channels=8, kernel_size=3, stride=1, padding=1)\n",
    "con_Layer_p2 = nn.Conv2d(in_channels=1, out_channels=8, kernel_size=3, stride=1, padding=2)\n",
    "print(con_Layer_p0(gray_hwc).shape, con_Layer_p1(gray_hwc).shape, con_Layer_p2(gray_hwc).shape, sep='\\n')\n",
    "# - torch.Size([8, 48, 48])\n",
    "# - torch.Size([8, 50, 50])\n",
    "# - torch.Size([8, 52, 52])"
   ]
  },
  {
   "cell_type": "code",
   "execution_count": null,
   "metadata": {},
   "outputs": [],
   "source": [
    "# Kernel을 "
   ]
  }
 ],
 "metadata": {
  "kernelspec": {
   "display_name": "Torch_PY38",
   "language": "python",
   "name": "python3"
  },
  "language_info": {
   "codemirror_mode": {
    "name": "ipython",
    "version": 3
   },
   "file_extension": ".py",
   "mimetype": "text/x-python",
   "name": "python",
   "nbconvert_exporter": "python",
   "pygments_lexer": "ipython3",
   "version": "3.8.18"
  }
 },
 "nbformat": 4,
 "nbformat_minor": 2
}
