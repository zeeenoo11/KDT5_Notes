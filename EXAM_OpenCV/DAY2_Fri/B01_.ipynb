{
 "cells": [
  {
   "cell_type": "markdown",
   "metadata": {},
   "source": []
  },
  {
   "cell_type": "code",
   "execution_count": 1,
   "metadata": {},
   "outputs": [],
   "source": [
    "# 0. Load Module\n",
    "import cv2\n",
    "import numpy as np"
   ]
  },
  {
   "cell_type": "markdown",
   "metadata": {},
   "source": [
    "1. 이미지 데이터 로딩\n",
    "- 컬러 / 회색 이미지 변환 로딩 가능"
   ]
  },
  {
   "cell_type": "code",
   "execution_count": 2,
   "metadata": {},
   "outputs": [],
   "source": [
    "file = '../DATA/4eefb07a29ea1780f2dbf055792cdfd7.jpg'"
   ]
  },
  {
   "cell_type": "code",
   "execution_count": 3,
   "metadata": {},
   "outputs": [],
   "source": [
    "# Load Color Image\n",
    "img_rgb = cv2.imread(file, cv2.IMREAD_COLOR)"
   ]
  },
  {
   "cell_type": "code",
   "execution_count": 4,
   "metadata": {},
   "outputs": [
    {
     "name": "stdout",
     "output_type": "stream",
     "text": [
      "Data Info\n",
      "Shape : (535, 473, 3),  Data Type : uint8,  Dim : 3D,  Size : 759165 bytes\n",
      "Shape : (535, 473),  Data Type : uint8,  Dim : 2D,  Size : 253055 bytes\n"
     ]
    }
   ],
   "source": [
    "# Check data info\n",
    "print('Data Info')\n",
    "print(f'Shape : {img_rgb.shape},  Data Type : {img_rgb.dtype},  Dim : {img_rgb.ndim}D,  Size : {img_rgb.size} bytes')\n",
    "# grayscale\n",
    "img_gray = cv2.imread(file, cv2.IMREAD_GRAYSCALE)\n",
    "print(f'Shape : {img_gray.shape},  Data Type : {img_gray.dtype},  Dim : {img_gray.ndim}D,  Size : {img_gray.size} bytes')"
   ]
  },
  {
   "cell_type": "code",
   "execution_count": 5,
   "metadata": {},
   "outputs": [
    {
     "name": "stdout",
     "output_type": "stream",
     "text": [
      "27\n"
     ]
    }
   ],
   "source": [
    "# 이미지 창 띄우기\n",
    "#    - cv2.imshow('창 이름', 이미지 객체)\n",
    "cv2.imshow('Color Image', img_rgb)\n",
    "\n",
    "# waitKey : 이미지 출력 위 키보드 입력 대기\n",
    "#    - 응답 없음 방지\n",
    "#    - 0 : 무한대기, 1~ : 대기시간(ms); 1000 = 1초\n",
    "#   - 반환값 : 입력된 키보드 값\n",
    "\n",
    "retval = cv2.waitKey(0)\n",
    "print(retval)   # 종료할 때 누른 값이 반환됨! (ESC : 27, 엔터 : 13)\n",
    "\n",
    "# 창 닫기\n",
    "cv2.destroyAllWindows()"
   ]
  },
  {
   "cell_type": "code",
   "execution_count": 6,
   "metadata": {},
   "outputs": [],
   "source": [
    "# 이미지 출력 기본형\n",
    "import cv2\n",
    "\n",
    "img_file = '../DATA/4eefb07a29ea1780f2dbf055792cdfd7.jpg'\n",
    "img = cv2.imread(img_file, cv2.IMREAD_COLOR)\n",
    "img_name = 'PINGU'\n",
    "\n",
    "if img is not None:\n",
    "    cv2.imshow(img_name, img)\n",
    "    cv2.waitKey()\n",
    "    cv2.destroyAllWindows()\n",
    "else:\n",
    "    print('No image file.')"
   ]
  },
  {
   "cell_type": "code",
   "execution_count": 7,
   "metadata": {},
   "outputs": [
    {
     "name": "stdout",
     "output_type": "stream",
     "text": [
      "Key : 27\n"
     ]
    }
   ],
   "source": [
    "# 이미지 화면 출력 : 특정 키 입력 시 종료\n",
    "\n",
    "if img is not None:\n",
    "    cv2.imshow(img_name, img)\n",
    "    while True:\n",
    "        key = cv2.waitKey()\n",
    "        print(f'Key : {key}')\n",
    "        if key == 27:\n",
    "            cv2.destroyAllWindows()\n",
    "            break\n",
    "else:\n",
    "    print('No image file.')"
   ]
  },
  {
   "cell_type": "markdown",
   "metadata": {},
   "source": [
    "회색 이미지 저장"
   ]
  },
  {
   "cell_type": "code",
   "execution_count": 8,
   "metadata": {},
   "outputs": [],
   "source": [
    "img_gray = cv2.imread(img_file, cv2.IMREAD_GRAYSCALE)\n",
    "\n",
    "save_file = '../DATA/graypingu.jpg'\n",
    "gray_file = cv2.imwrite(save_file, img_gray)"
   ]
  },
  {
   "cell_type": "markdown",
   "metadata": {},
   "source": [
    "이미지 채널 분리 : B, G, R"
   ]
  },
  {
   "cell_type": "code",
   "execution_count": 15,
   "metadata": {},
   "outputs": [],
   "source": [
    "import cv2\n",
    "\n",
    "img_file = '../DATA/dd4ef5892c4048cbb43f47afc38a9f5f.jpg'\n",
    "img = cv2.imread(img_file, cv2.IMREAD_COLOR)\n",
    "img_b, img_g, img_r = cv2.split(img)\n",
    "\n",
    "cv2.imshow('Original Image', img)\n",
    "cv2.waitKey(3000)  # Display for 3 seconds\n",
    "cv2.imshow('Blue Channel', img_b)\n",
    "cv2.waitKey(3000)  # Display for 3 seconds\n",
    "cv2.imshow('Green Channel', img_g)\n",
    "cv2.waitKey(3000)  # Display for 3 seconds\n",
    "cv2.imshow('Red Channel', img_r)\n",
    "cv2.waitKey()  # Wait for any key press\n",
    "\n",
    "cv2.destroyAllWindows()"
   ]
  },
  {
   "cell_type": "code",
   "execution_count": 17,
   "metadata": {},
   "outputs": [],
   "source": [
    "# ndarray로 분리\n",
    "# - 3번째 차원이 색상 채널을 의미\n",
    "\n",
    "b, g, r = img[:, :, 0], img[:, :, 1], img[:, :, 2]\n",
    "\n",
    "cv2.imshow('Original Image', img)\n",
    "cv2.waitKey(3000)  # Display for 3 seconds\n",
    "cv2.imshow('Blue Channel', b)\n",
    "cv2.waitKey(3000)  # Display for 3 seconds\n",
    "cv2.imshow('Green Channel', g)\n",
    "cv2.waitKey(3000)  # Display for 3 seconds\n",
    "cv2.imshow('Red Channel', r)\n",
    "cv2.waitKey()  # Wait for any key press\n",
    "\n",
    "cv2.destroyAllWindows()"
   ]
  },
  {
   "cell_type": "code",
   "execution_count": 21,
   "metadata": {},
   "outputs": [],
   "source": [
    "# 채널 병합 / 변경\n",
    "# - cv2.merge( (b, g, r) ) : 채널 병합\n",
    "\n",
    "img = cv2.merge((r, g, b))  # Green, Blue, Red 순서로 변경\n",
    "\n",
    "cv2.imshow('bgr', cv2.merge((b, g, r)))\n",
    "cv2.waitKey(1000)\n",
    "cv2.imshow('rgb', cv2.merge((r, g, b)))\n",
    "cv2.waitKey(1000)\n",
    "cv2.imshow('brg', cv2.merge((b, r, g)))\n",
    "cv2.waitKey(1000)\n",
    "cv2.imshow('gbr', cv2.merge((g, b, r)))\n",
    "cv2.waitKey(1000)\n",
    "cv2.imshow('grb', cv2.merge((g, r, b)))\n",
    "\n",
    "cv2.waitKey()\n",
    "cv2.destroyAllWindows()\n"
   ]
  },
  {
   "cell_type": "code",
   "execution_count": 23,
   "metadata": {},
   "outputs": [],
   "source": [
    "# BGR => HSV\n",
    "# - cv2.cvtColor(이미지 객체, cv2.COLOR_BGR2HSV)\n",
    "\n",
    "img = cv2.imread(img_file, cv2.IMREAD_COLOR)\n",
    "\n",
    "img_hsv = cv2.cvtColor(img, cv2.COLOR_BGR2HSV)\n",
    "planes = cv2.split(img_hsv)\n",
    "\n",
    "cv2.imshow('Original Image', img)\n",
    "cv2.waitKey(3000)  # Display for 3 seconds\n",
    "cv2.imshow('HSV Image', img_hsv)\n",
    "cv2.waitKey(3000)  # Display for 3 seconds\n",
    "\n",
    "cv2.imshow('Hue', planes[0])\n",
    "cv2.waitKey(3000)  # Display for 3 seconds\n",
    "cv2.imshow('Saturation', planes[1])\n",
    "cv2.waitKey(3000)  # Display for 3 seconds\n",
    "cv2.imshow('Value', planes[2])\n",
    "cv2.waitKey()  # Wait for any key press\n",
    "\n",
    "cv2.destroyAllWindows()\n"
   ]
  },
  {
   "cell_type": "markdown",
   "metadata": {},
   "source": [
    "오후 수업"
   ]
  },
  {
   "cell_type": "code",
   "execution_count": null,
   "metadata": {},
   "outputs": [],
   "source": []
  }
 ],
 "metadata": {
  "kernelspec": {
   "display_name": "Torch_PY38",
   "language": "python",
   "name": "python3"
  },
  "language_info": {
   "codemirror_mode": {
    "name": "ipython",
    "version": 3
   },
   "file_extension": ".py",
   "mimetype": "text/x-python",
   "name": "python",
   "nbconvert_exporter": "python",
   "pygments_lexer": "ipython3",
   "version": "3.8.18"
  }
 },
 "nbformat": 4,
 "nbformat_minor": 2
}
