{
 "cells": [
  {
   "cell_type": "code",
   "execution_count": 1,
   "metadata": {},
   "outputs": [],
   "source": [
    "# 0. Load Module\n",
    "import cv2\n",
    "import numpy as np"
   ]
  },
  {
   "cell_type": "markdown",
   "metadata": {},
   "source": [
    "#### 얼굴 인식"
   ]
  },
  {
   "cell_type": "code",
   "execution_count": 59,
   "metadata": {},
   "outputs": [
    {
     "name": "stdout",
     "output_type": "stream",
     "text": [
      "< cv2.CascadeClassifier 000001C0CA57EBD0>\n"
     ]
    }
   ],
   "source": [
    "# 객체 인식 모델 로딩\n",
    "# - cv2.CascadeClassifier.load(모델 파일 경로)\n",
    "# - retval: 성공 여부(True/False)\n",
    "\n",
    "model_file = '../DATA/haarcascades/haarcascade_frontalface_alt.xml'\n",
    "img_file = '../DATA/sinyou.jpg'\n",
    "retval = cv2.CascadeClassifier.load(model_file)\n",
    "\n",
    "\n",
    "def face_dectection(model, img_file, retval, DETECTION=False):\n",
    "    img = cv2.imread(img_file, cv2.IMREAD_COLOR)\n",
    "    TEST = False\n",
    "    if TEST:\n",
    "        cv2.imshow('Face Detection', img)\n",
    "        cv2.waitKey()\n",
    "        cv2.destroyAllWindows()\n",
    "\n",
    "# 얼굴 검출\n",
    "    imgnp = np.array(img)\n",
    "    retval = cv2.CascadeClassifier(model)  \n",
    "    faces_detection = retval.detectMultiScale(imgnp)  # 얼굴 검출\n",
    "    if DETECTION:\n",
    "        print(f'** face detection : {faces_detection}')\n",
    "\n",
    "# ROI 영역 표시\n",
    "    for (x, y, w, h) in faces_detection:\n",
    "        cv2.rectangle(imgnp, (x, y), (x+w, y+h), (0, 255, 0), 2)\n",
    "\n",
    "    cv2.imshow('Face Detection', imgnp)\n",
    "\n",
    "# 키보드 입력 대기\n",
    "    if cv2.waitKey() or cv2.getWindowProperty('Face Detection', cv2.WND_PROP_VISIBLE) < 1:\n",
    "        cv2.destroyAllWindows()\n",
    "\n",
    "model_smile = '../DATA//haarcascades/haarcascade_smile.xml'\n",
    "img = '../DATA/sinyou.jpg'\n",
    "img2 = '../DATA/newjeans2.jpg'\n",
    "\n",
    "face_dectection(model_smile, img2, retval)"
   ]
  },
  {
   "cell_type": "code",
   "execution_count": 67,
   "metadata": {},
   "outputs": [],
   "source": [
    "# 여러 모델을 이용한 객체 검출 함수\n",
    "\n",
    "def object_detection(models, img_file, DETECTION=False):\n",
    "    img = cv2.imread(img_file, cv2.IMREAD_COLOR)\n",
    "    imgnp = np.array(img)\n",
    "    for model in models:\n",
    "        retval = cv2.CascadeClassifier(model)\n",
    "        objects_detection = retval.detectMultiScale(imgnp)\n",
    "        if DETECTION:\n",
    "            print(f'** {model} detection : {objects_detection}')\n",
    "        random_color = np.random.randint(0, 255, 3).tolist()\n",
    "        for (x, y, w, h) in objects_detection:\n",
    "            cv2.rectangle(imgnp, (x, y), (x+w, y+h), random_color, 2)\n",
    "    cv2.imshow('Object Detection', imgnp)\n",
    "    if cv2.waitKey() or cv2.getWindowProperty('Object Detection', cv2.WND_PROP_VISIBLE) < 1:\n",
    "        cv2.destroyAllWindows()\n",
    "\n",
    "models = ['../DATA/haarcascades/haarcascade_frontalface_alt.xml', '../DATA/haarcascades/haarcascade_eye_tree_eyeglasses.xml']\n",
    "img = '../DATA/KakaoTalk_20240316_181834098.jpg'\n",
    "object_detection(models, img, False)"
   ]
  },
  {
   "cell_type": "code",
   "execution_count": null,
   "metadata": {},
   "outputs": [],
   "source": []
  }
 ],
 "metadata": {
  "kernelspec": {
   "display_name": "Torch_PY38",
   "language": "python",
   "name": "python3"
  },
  "language_info": {
   "codemirror_mode": {
    "name": "ipython",
    "version": 3
   },
   "file_extension": ".py",
   "mimetype": "text/x-python",
   "name": "python",
   "nbconvert_exporter": "python",
   "pygments_lexer": "ipython3",
   "version": "3.8.18"
  }
 },
 "nbformat": 4,
 "nbformat_minor": 2
}
