{
 "cells": [
  {
   "cell_type": "markdown",
   "metadata": {},
   "source": [
    "XGboost, LightGBM"
   ]
  },
  {
   "cell_type": "code",
   "execution_count": 23,
   "metadata": {},
   "outputs": [
    {
     "name": "stdout",
     "output_type": "stream",
     "text": [
      "XGBoost :  2.0.3\n",
      "LightGBM :  4.3.0\n"
     ]
    }
   ],
   "source": [
    "# 0. 설치 여부 확인\n",
    "import xgboost\n",
    "import lightgbm\n",
    "\n",
    "\n",
    "print('XGBoost : ', xgboost.__version__)\n",
    "print('LightGBM : ', lightgbm.__version__)"
   ]
  },
  {
   "cell_type": "code",
   "execution_count": 24,
   "metadata": {},
   "outputs": [],
   "source": [
    "# 1. Load Data\n",
    "feature_name_file = '../../DATA/human_activity/features.txt'\n",
    "label_file = '../../DATA/human_activity/activity_labels.txt'\n",
    "\n",
    "x_train_file = '../../DATA/human_activity/train/X_train.txt'\n",
    "y_train_file = '../../DATA/human_activity/train/y_train.txt'\n",
    "\n",
    "x_test_file = '../../DATA/human_activity/test/X_test.txt'\n",
    "y_test_file = '../../DATA/human_activity/test/y_test.txt'"
   ]
  },
  {
   "cell_type": "code",
   "execution_count": 25,
   "metadata": {},
   "outputs": [
    {
     "name": "stdout",
     "output_type": "stream",
     "text": [
      "<class 'pandas.core.frame.DataFrame'>\n",
      "RangeIndex: 561 entries, 0 to 560\n",
      "Data columns (total 2 columns):\n",
      " #   Column    Non-Null Count  Dtype \n",
      "---  ------    --------------  ----- \n",
      " 0   col_id    561 non-null    int64 \n",
      " 1   col_name  561 non-null    object\n",
      "dtypes: int64(1), object(1)\n",
      "memory usage: 8.9+ KB\n",
      "0\n",
      "84\n"
     ]
    }
   ],
   "source": [
    "# 2. Data Preprocessing \n",
    "import pandas as pd\n",
    "import numpy as np\n",
    "# 1)\n",
    "feature_nameDF = pd.read_csv(feature_name_file, sep='\\s+',                     # 1개 이상의 공백\n",
    "                             header=None, names=['col_id', 'col_name'])\n",
    "feature_nameDF.info()\n",
    "\n",
    "# 2) Check duplication\n",
    "print(feature_nameDF.col_id.duplicated().sum())     # 0\n",
    "print(feature_nameDF.col_name.duplicated().sum())   # 84"
   ]
  },
  {
   "cell_type": "code",
   "execution_count": 26,
   "metadata": {},
   "outputs": [
    {
     "data": {
      "text/html": [
       "<div>\n",
       "<style scoped>\n",
       "    .dataframe tbody tr th:only-of-type {\n",
       "        vertical-align: middle;\n",
       "    }\n",
       "\n",
       "    .dataframe tbody tr th {\n",
       "        vertical-align: top;\n",
       "    }\n",
       "\n",
       "    .dataframe thead th {\n",
       "        text-align: right;\n",
       "    }\n",
       "</style>\n",
       "<table border=\"1\" class=\"dataframe\">\n",
       "  <thead>\n",
       "    <tr style=\"text-align: right;\">\n",
       "      <th></th>\n",
       "      <th>col_id</th>\n",
       "      <th>col_name</th>\n",
       "    </tr>\n",
       "  </thead>\n",
       "  <tbody>\n",
       "    <tr>\n",
       "      <th>0</th>\n",
       "      <td>1</td>\n",
       "      <td>tBodyAcc-mean()-X</td>\n",
       "    </tr>\n",
       "    <tr>\n",
       "      <th>1</th>\n",
       "      <td>2</td>\n",
       "      <td>tBodyAcc-mean()-Y</td>\n",
       "    </tr>\n",
       "    <tr>\n",
       "      <th>2</th>\n",
       "      <td>3</td>\n",
       "      <td>tBodyAcc-mean()-Z</td>\n",
       "    </tr>\n",
       "    <tr>\n",
       "      <th>3</th>\n",
       "      <td>4</td>\n",
       "      <td>tBodyAcc-std()-X</td>\n",
       "    </tr>\n",
       "    <tr>\n",
       "      <th>4</th>\n",
       "      <td>5</td>\n",
       "      <td>tBodyAcc-std()-Y</td>\n",
       "    </tr>\n",
       "    <tr>\n",
       "      <th>...</th>\n",
       "      <td>...</td>\n",
       "      <td>...</td>\n",
       "    </tr>\n",
       "    <tr>\n",
       "      <th>472</th>\n",
       "      <td>557</td>\n",
       "      <td>angle(tBodyGyroMean,gravityMean)</td>\n",
       "    </tr>\n",
       "    <tr>\n",
       "      <th>473</th>\n",
       "      <td>558</td>\n",
       "      <td>angle(tBodyGyroJerkMean,gravityMean)</td>\n",
       "    </tr>\n",
       "    <tr>\n",
       "      <th>474</th>\n",
       "      <td>559</td>\n",
       "      <td>angle(X,gravityMean)</td>\n",
       "    </tr>\n",
       "    <tr>\n",
       "      <th>475</th>\n",
       "      <td>560</td>\n",
       "      <td>angle(Y,gravityMean)</td>\n",
       "    </tr>\n",
       "    <tr>\n",
       "      <th>476</th>\n",
       "      <td>561</td>\n",
       "      <td>angle(Z,gravityMean)</td>\n",
       "    </tr>\n",
       "  </tbody>\n",
       "</table>\n",
       "<p>477 rows × 2 columns</p>\n",
       "</div>"
      ],
      "text/plain": [
       "     col_id                              col_name\n",
       "0         1                     tBodyAcc-mean()-X\n",
       "1         2                     tBodyAcc-mean()-Y\n",
       "2         3                     tBodyAcc-mean()-Z\n",
       "3         4                      tBodyAcc-std()-X\n",
       "4         5                      tBodyAcc-std()-Y\n",
       "..      ...                                   ...\n",
       "472     557      angle(tBodyGyroMean,gravityMean)\n",
       "473     558  angle(tBodyGyroJerkMean,gravityMean)\n",
       "474     559                  angle(X,gravityMean)\n",
       "475     560                  angle(Y,gravityMean)\n",
       "476     561                  angle(Z,gravityMean)\n",
       "\n",
       "[477 rows x 2 columns]"
      ]
     },
     "execution_count": 26,
     "metadata": {},
     "output_type": "execute_result"
    }
   ],
   "source": [
    "# 2-2. Delete duplications\n",
    "mask = feature_nameDF.col_name.duplicated()\n",
    "feature_nameDF[mask].head()\n",
    "\n",
    "# 1) Set duplicated index\n",
    "dup_idxs = feature_nameDF[mask].index\n",
    "feature_nameDF = feature_nameDF.drop(dup_idxs)\n",
    "feature_nameDF.reset_index(drop=True, inplace=True)\n",
    "feature_nameDF"
   ]
  },
  {
   "cell_type": "code",
   "execution_count": 36,
   "metadata": {},
   "outputs": [
    {
     "name": "stdout",
     "output_type": "stream",
     "text": [
      "<class 'pandas.core.frame.DataFrame'>\n",
      "RangeIndex: 477 entries, 0 to 476\n",
      "Columns: 7352 entries, 0 to 7351\n",
      "dtypes: float64(7352)\n",
      "memory usage: 26.8 MB\n"
     ]
    }
   ],
   "source": [
    "# 2) Drop duplication : x_train\n",
    "x_trainDF = pd.read_csv(x_train_file, sep='\\s+', header=None)\n",
    "x_trainDF= x_trainDF.T.drop(x_trainDF.T[dup_idxs])\n",
    "x_trainDF.reset_index(drop=True, inplace=True)\n",
    "x_trainDF.info()    # 26.8 MB"
   ]
  },
  {
   "cell_type": "code",
   "execution_count": 34,
   "metadata": {},
   "outputs": [
    {
     "data": {
      "text/html": [
       "<div>\n",
       "<style scoped>\n",
       "    .dataframe tbody tr th:only-of-type {\n",
       "        vertical-align: middle;\n",
       "    }\n",
       "\n",
       "    .dataframe tbody tr th {\n",
       "        vertical-align: top;\n",
       "    }\n",
       "\n",
       "    .dataframe thead th {\n",
       "        text-align: right;\n",
       "    }\n",
       "</style>\n",
       "<table border=\"1\" class=\"dataframe\">\n",
       "  <thead>\n",
       "    <tr style=\"text-align: right;\">\n",
       "      <th></th>\n",
       "      <th>0</th>\n",
       "      <th>1</th>\n",
       "      <th>2</th>\n",
       "      <th>3</th>\n",
       "      <th>4</th>\n",
       "      <th>5</th>\n",
       "      <th>6</th>\n",
       "      <th>7</th>\n",
       "      <th>8</th>\n",
       "      <th>9</th>\n",
       "      <th>...</th>\n",
       "      <th>7342</th>\n",
       "      <th>7343</th>\n",
       "      <th>7344</th>\n",
       "      <th>7345</th>\n",
       "      <th>7346</th>\n",
       "      <th>7347</th>\n",
       "      <th>7348</th>\n",
       "      <th>7349</th>\n",
       "      <th>7350</th>\n",
       "      <th>7351</th>\n",
       "    </tr>\n",
       "  </thead>\n",
       "  <tbody>\n",
       "    <tr>\n",
       "      <th>0</th>\n",
       "      <td>5</td>\n",
       "      <td>5</td>\n",
       "      <td>5</td>\n",
       "      <td>5</td>\n",
       "      <td>5</td>\n",
       "      <td>5</td>\n",
       "      <td>5</td>\n",
       "      <td>5</td>\n",
       "      <td>5</td>\n",
       "      <td>5</td>\n",
       "      <td>...</td>\n",
       "      <td>2</td>\n",
       "      <td>2</td>\n",
       "      <td>2</td>\n",
       "      <td>2</td>\n",
       "      <td>2</td>\n",
       "      <td>2</td>\n",
       "      <td>2</td>\n",
       "      <td>2</td>\n",
       "      <td>2</td>\n",
       "      <td>2</td>\n",
       "    </tr>\n",
       "  </tbody>\n",
       "</table>\n",
       "<p>1 rows × 7352 columns</p>\n",
       "</div>"
      ],
      "text/plain": [
       "   0     1     2     3     4     5     6     7     8     9     ...  7342  \\\n",
       "0     5     5     5     5     5     5     5     5     5     5  ...     2   \n",
       "\n",
       "   7343  7344  7345  7346  7347  7348  7349  7350  7351  \n",
       "0     2     2     2     2     2     2     2     2     2  \n",
       "\n",
       "[1 rows x 7352 columns]"
      ]
     },
     "execution_count": 34,
     "metadata": {},
     "output_type": "execute_result"
    }
   ],
   "source": [
    "# 3) Drop duplication : not for y\n",
    "y_trainDF = pd.read_csv(y_train_file, sep='\\s+', header=None)\n",
    "y_trainDF.T"
   ]
  },
  {
   "cell_type": "code",
   "execution_count": 38,
   "metadata": {},
   "outputs": [
    {
     "name": "stdout",
     "output_type": "stream",
     "text": [
      "<class 'pandas.core.frame.DataFrame'>\n",
      "RangeIndex: 477 entries, 0 to 476\n",
      "Columns: 2947 entries, 0 to 2946\n",
      "dtypes: float64(2947)\n",
      "memory usage: 10.7 MB\n"
     ]
    }
   ],
   "source": [
    "# 4) x_test\n",
    "x_testDF = pd.read_csv(x_test_file, sep='\\s+', header=None)\n",
    "x_testDF= x_testDF.T.drop(x_testDF.T[dup_idxs])\n",
    "x_testDF.reset_index(drop=True, inplace=True)\n",
    "x_testDF.info()     # 10.7 MB"
   ]
  },
  {
   "cell_type": "code",
   "execution_count": null,
   "metadata": {},
   "outputs": [],
   "source": []
  }
 ],
 "metadata": {
  "kernelspec": {
   "display_name": "EXAM_MML",
   "language": "python",
   "name": "python3"
  },
  "language_info": {
   "codemirror_mode": {
    "name": "ipython",
    "version": 3
   },
   "file_extension": ".py",
   "mimetype": "text/x-python",
   "name": "python",
   "nbconvert_exporter": "python",
   "pygments_lexer": "ipython3",
   "version": "3.9.18"
  }
 },
 "nbformat": 4,
 "nbformat_minor": 2
}
