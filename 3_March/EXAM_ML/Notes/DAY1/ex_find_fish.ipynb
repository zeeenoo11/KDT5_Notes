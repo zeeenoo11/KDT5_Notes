{
 "cells": [
  {
   "cell_type": "markdown",
   "source": [
    "### 목표 : 생선 품종 분류 모델\n",
    "1) 데이터 : fish.csv\n",
    "2) 피쳐   : Weight, Length\n",
    "3) 타겟   : Species\n",
    "4) 기계학습: 지도학습 + 분류 (도미, 빙어 분류는 이진 분류)"
   ],
   "metadata": {
    "collapsed": false
   },
   "id": "74bbda729f70bb44"
  },
  {
   "cell_type": "code",
   "execution_count": 34,
   "id": "initial_id",
   "metadata": {
    "collapsed": true,
    "ExecuteTime": {
     "end_time": "2024-02-23T07:48:50.374180300Z",
     "start_time": "2024-02-23T07:48:49.623066800Z"
    }
   },
   "outputs": [
    {
     "data": {
      "text/plain": "    Species  Weight  Length  Diagonal   Height   Width\n0     Bream   242.0    25.4      30.0  11.5200  4.0200\n1     Bream   290.0    26.3      31.2  12.4800  4.3056\n2     Bream   340.0    26.5      31.1  12.3778  4.6961\n3     Bream   363.0    29.0      33.5  12.7300  4.4555\n4     Bream   430.0    29.0      34.0  12.4440  5.1340\n..      ...     ...     ...       ...      ...     ...\n154   Smelt    12.2    12.2      13.4   2.0904  1.3936\n155   Smelt    13.4    12.4      13.5   2.4300  1.2690\n156   Smelt    12.2    13.0      13.8   2.2770  1.2558\n157   Smelt    19.7    14.3      15.2   2.8728  2.0672\n158   Smelt    19.9    15.0      16.2   2.9322  1.8792\n\n[159 rows x 6 columns]",
      "text/html": "<div>\n<style scoped>\n    .dataframe tbody tr th:only-of-type {\n        vertical-align: middle;\n    }\n\n    .dataframe tbody tr th {\n        vertical-align: top;\n    }\n\n    .dataframe thead th {\n        text-align: right;\n    }\n</style>\n<table border=\"1\" class=\"dataframe\">\n  <thead>\n    <tr style=\"text-align: right;\">\n      <th></th>\n      <th>Species</th>\n      <th>Weight</th>\n      <th>Length</th>\n      <th>Diagonal</th>\n      <th>Height</th>\n      <th>Width</th>\n    </tr>\n  </thead>\n  <tbody>\n    <tr>\n      <th>0</th>\n      <td>Bream</td>\n      <td>242.0</td>\n      <td>25.4</td>\n      <td>30.0</td>\n      <td>11.5200</td>\n      <td>4.0200</td>\n    </tr>\n    <tr>\n      <th>1</th>\n      <td>Bream</td>\n      <td>290.0</td>\n      <td>26.3</td>\n      <td>31.2</td>\n      <td>12.4800</td>\n      <td>4.3056</td>\n    </tr>\n    <tr>\n      <th>2</th>\n      <td>Bream</td>\n      <td>340.0</td>\n      <td>26.5</td>\n      <td>31.1</td>\n      <td>12.3778</td>\n      <td>4.6961</td>\n    </tr>\n    <tr>\n      <th>3</th>\n      <td>Bream</td>\n      <td>363.0</td>\n      <td>29.0</td>\n      <td>33.5</td>\n      <td>12.7300</td>\n      <td>4.4555</td>\n    </tr>\n    <tr>\n      <th>4</th>\n      <td>Bream</td>\n      <td>430.0</td>\n      <td>29.0</td>\n      <td>34.0</td>\n      <td>12.4440</td>\n      <td>5.1340</td>\n    </tr>\n    <tr>\n      <th>...</th>\n      <td>...</td>\n      <td>...</td>\n      <td>...</td>\n      <td>...</td>\n      <td>...</td>\n      <td>...</td>\n    </tr>\n    <tr>\n      <th>154</th>\n      <td>Smelt</td>\n      <td>12.2</td>\n      <td>12.2</td>\n      <td>13.4</td>\n      <td>2.0904</td>\n      <td>1.3936</td>\n    </tr>\n    <tr>\n      <th>155</th>\n      <td>Smelt</td>\n      <td>13.4</td>\n      <td>12.4</td>\n      <td>13.5</td>\n      <td>2.4300</td>\n      <td>1.2690</td>\n    </tr>\n    <tr>\n      <th>156</th>\n      <td>Smelt</td>\n      <td>12.2</td>\n      <td>13.0</td>\n      <td>13.8</td>\n      <td>2.2770</td>\n      <td>1.2558</td>\n    </tr>\n    <tr>\n      <th>157</th>\n      <td>Smelt</td>\n      <td>19.7</td>\n      <td>14.3</td>\n      <td>15.2</td>\n      <td>2.8728</td>\n      <td>2.0672</td>\n    </tr>\n    <tr>\n      <th>158</th>\n      <td>Smelt</td>\n      <td>19.9</td>\n      <td>15.0</td>\n      <td>16.2</td>\n      <td>2.9322</td>\n      <td>1.8792</td>\n    </tr>\n  </tbody>\n</table>\n<p>159 rows × 6 columns</p>\n</div>"
     },
     "execution_count": 34,
     "metadata": {},
     "output_type": "execute_result"
    }
   ],
   "source": [
    "# 0. 모듈 로딩, 데이터 준비\n",
    "import pandas as pd\n",
    "import matplotlib.pyplot as plt\n",
    "\n",
    "data_file = 'DATA/fish.csv'\n",
    "fishDF = pd.read_csv(data_file)\n",
    "fishDF"
   ]
  },
  {
   "cell_type": "code",
   "outputs": [
    {
     "name": "stdout",
     "output_type": "stream",
     "text": [
      "<class 'pandas.core.frame.DataFrame'>\n",
      "RangeIndex: 159 entries, 0 to 158\n",
      "Data columns (total 6 columns):\n",
      " #   Column    Non-Null Count  Dtype  \n",
      "---  ------    --------------  -----  \n",
      " 0   Species   159 non-null    object \n",
      " 1   Weight    159 non-null    float64\n",
      " 2   Length    159 non-null    float64\n",
      " 3   Diagonal  159 non-null    float64\n",
      " 4   Height    159 non-null    float64\n",
      " 5   Width     159 non-null    float64\n",
      "dtypes: float64(5), object(1)\n",
      "memory usage: 7.6+ KB\n"
     ]
    }
   ],
   "source": [
    "fishDF.info()"
   ],
   "metadata": {
    "collapsed": false,
    "ExecuteTime": {
     "end_time": "2024-02-23T06:32:19.640465500Z",
     "start_time": "2024-02-23T06:32:19.605477400Z"
    }
   },
   "id": "b2282ec8d190eb48",
   "execution_count": 3
  },
  {
   "cell_type": "code",
   "outputs": [
    {
     "data": {
      "text/plain": "    Species  Weight  Length\n0     Bream   242.0    25.4\n1     Bream   290.0    26.3\n2     Bream   340.0    26.5\n3     Bream   363.0    29.0\n4     Bream   430.0    29.0\n..      ...     ...     ...\n154   Smelt    12.2    12.2\n155   Smelt    13.4    12.4\n156   Smelt    12.2    13.0\n157   Smelt    19.7    14.3\n158   Smelt    19.9    15.0\n\n[159 rows x 3 columns]",
      "text/html": "<div>\n<style scoped>\n    .dataframe tbody tr th:only-of-type {\n        vertical-align: middle;\n    }\n\n    .dataframe tbody tr th {\n        vertical-align: top;\n    }\n\n    .dataframe thead th {\n        text-align: right;\n    }\n</style>\n<table border=\"1\" class=\"dataframe\">\n  <thead>\n    <tr style=\"text-align: right;\">\n      <th></th>\n      <th>Species</th>\n      <th>Weight</th>\n      <th>Length</th>\n    </tr>\n  </thead>\n  <tbody>\n    <tr>\n      <th>0</th>\n      <td>Bream</td>\n      <td>242.0</td>\n      <td>25.4</td>\n    </tr>\n    <tr>\n      <th>1</th>\n      <td>Bream</td>\n      <td>290.0</td>\n      <td>26.3</td>\n    </tr>\n    <tr>\n      <th>2</th>\n      <td>Bream</td>\n      <td>340.0</td>\n      <td>26.5</td>\n    </tr>\n    <tr>\n      <th>3</th>\n      <td>Bream</td>\n      <td>363.0</td>\n      <td>29.0</td>\n    </tr>\n    <tr>\n      <th>4</th>\n      <td>Bream</td>\n      <td>430.0</td>\n      <td>29.0</td>\n    </tr>\n    <tr>\n      <th>...</th>\n      <td>...</td>\n      <td>...</td>\n      <td>...</td>\n    </tr>\n    <tr>\n      <th>154</th>\n      <td>Smelt</td>\n      <td>12.2</td>\n      <td>12.2</td>\n    </tr>\n    <tr>\n      <th>155</th>\n      <td>Smelt</td>\n      <td>13.4</td>\n      <td>12.4</td>\n    </tr>\n    <tr>\n      <th>156</th>\n      <td>Smelt</td>\n      <td>12.2</td>\n      <td>13.0</td>\n    </tr>\n    <tr>\n      <th>157</th>\n      <td>Smelt</td>\n      <td>19.7</td>\n      <td>14.3</td>\n    </tr>\n    <tr>\n      <th>158</th>\n      <td>Smelt</td>\n      <td>19.9</td>\n      <td>15.0</td>\n    </tr>\n  </tbody>\n</table>\n<p>159 rows × 3 columns</p>\n</div>"
     },
     "execution_count": 4,
     "metadata": {},
     "output_type": "execute_result"
    }
   ],
   "source": [
    "# 필요한 열만 가져오기\n",
    "fishDF = pd.read_csv(data_file, usecols=['Species', 'Weight', 'Length'])\n",
    "fishDF"
   ],
   "metadata": {
    "collapsed": false,
    "ExecuteTime": {
     "end_time": "2024-02-23T06:32:19.687463900Z",
     "start_time": "2024-02-23T06:32:19.615985800Z"
    }
   },
   "id": "5417214b64d76943",
   "execution_count": 4
  },
  {
   "cell_type": "code",
   "outputs": [
    {
     "data": {
      "text/plain": "4"
     },
     "execution_count": 5,
     "metadata": {},
     "output_type": "execute_result"
    }
   ],
   "source": [
    "# 1. 데이터 전처리\n",
    "fishDF.isna().sum() # 결측치 : 0\n",
    "fishDF.duplicated().sum()   # 중복데이터 : 4"
   ],
   "metadata": {
    "collapsed": false,
    "ExecuteTime": {
     "end_time": "2024-02-23T06:32:19.757624300Z",
     "start_time": "2024-02-23T06:32:19.629972900Z"
    }
   },
   "id": "557d4efdf996e8a4",
   "execution_count": 5
  },
  {
   "cell_type": "code",
   "outputs": [
    {
     "name": "stdout",
     "output_type": "stream",
     "text": [
      "<class 'pandas.core.frame.DataFrame'>\n",
      "Index: 49 entries, 0 to 158\n",
      "Data columns (total 6 columns):\n",
      " #   Column    Non-Null Count  Dtype  \n",
      "---  ------    --------------  -----  \n",
      " 0   Species   49 non-null     object \n",
      " 1   Weight    49 non-null     float64\n",
      " 2   Length    49 non-null     float64\n",
      " 3   Diagonal  49 non-null     float64\n",
      " 4   Height    49 non-null     float64\n",
      " 5   Width     49 non-null     float64\n",
      "dtypes: float64(5), object(1)\n",
      "memory usage: 2.7+ KB\n"
     ]
    }
   ],
   "source": [
    "# 2. 'Bream', 'Smelt' 행만 뽑아오기\n",
    "fishDF = fishDF[fishDF['Species'].isin(['Bream', 'Smelt'])]\n",
    "\n",
    "# mask 사용\n",
    "mask = fishDF.Species.isin(['Bream', 'Smelt'])\n",
    "twofishDF = fishDF[mask]\n",
    "twofishDF.info()\n",
    "\n",
    "# reset index\n",
    "twofishDF = twofishDF.reset_index(drop=True)"
   ],
   "metadata": {
    "collapsed": false,
    "ExecuteTime": {
     "end_time": "2024-02-23T08:12:52.841013Z",
     "start_time": "2024-02-23T08:12:52.830003Z"
    }
   },
   "id": "f3877fec387a6b8",
   "execution_count": 49
  },
  {
   "cell_type": "code",
   "outputs": [
    {
     "data": {
      "text/plain": "   Weight  Length\n0   242.0    25.4\n1   290.0    26.3\n2   340.0    26.5\n3   363.0    29.0\n4   430.0    29.0",
      "text/html": "<div>\n<style scoped>\n    .dataframe tbody tr th:only-of-type {\n        vertical-align: middle;\n    }\n\n    .dataframe tbody tr th {\n        vertical-align: top;\n    }\n\n    .dataframe thead th {\n        text-align: right;\n    }\n</style>\n<table border=\"1\" class=\"dataframe\">\n  <thead>\n    <tr style=\"text-align: right;\">\n      <th></th>\n      <th>Weight</th>\n      <th>Length</th>\n    </tr>\n  </thead>\n  <tbody>\n    <tr>\n      <th>0</th>\n      <td>242.0</td>\n      <td>25.4</td>\n    </tr>\n    <tr>\n      <th>1</th>\n      <td>290.0</td>\n      <td>26.3</td>\n    </tr>\n    <tr>\n      <th>2</th>\n      <td>340.0</td>\n      <td>26.5</td>\n    </tr>\n    <tr>\n      <th>3</th>\n      <td>363.0</td>\n      <td>29.0</td>\n    </tr>\n    <tr>\n      <th>4</th>\n      <td>430.0</td>\n      <td>29.0</td>\n    </tr>\n  </tbody>\n</table>\n</div>"
     },
     "execution_count": 50,
     "metadata": {},
     "output_type": "execute_result"
    }
   ],
   "source": [
    "# 3. 학습용 데이터 준비 : 피처와 타겟을 분리\n",
    "feature = twofishDF[['Weight', 'Length']]\n",
    "feature.head()"
   ],
   "metadata": {
    "collapsed": false,
    "ExecuteTime": {
     "end_time": "2024-02-23T08:12:57.885006900Z",
     "start_time": "2024-02-23T08:12:57.866998200Z"
    }
   },
   "id": "400753d352ad9cb4",
   "execution_count": 50
  },
  {
   "cell_type": "code",
   "outputs": [
    {
     "data": {
      "text/plain": "(   Species  Weight  Length  Diagonal   Height   Width\n 0        0   242.0    25.4      30.0  11.5200  4.0200\n 1        0   290.0    26.3      31.2  12.4800  4.3056\n 2        0   340.0    26.5      31.1  12.3778  4.6961\n 3        0   363.0    29.0      33.5  12.7300  4.4555\n 4        0   430.0    29.0      34.0  12.4440  5.1340,\n     Species  Weight  Length  Diagonal  Height   Width\n 44        1    12.2    12.2      13.4  2.0904  1.3936\n 45        1    13.4    12.4      13.5  2.4300  1.2690\n 46        1    12.2    13.0      13.8  2.2770  1.2558\n 47        1    19.7    14.3      15.2  2.8728  2.0672\n 48        1    19.9    15.0      16.2  2.9322  1.8792)"
     },
     "execution_count": 51,
     "metadata": {},
     "output_type": "execute_result"
    }
   ],
   "source": [
    "target = twofishDF['Species']\n",
    "target.head()\n",
    "# bool 로 변환 : bream = 0, smelt = 1\n",
    "target.replace(['Bream', 'Smelt'], [0, 1], inplace=True)\n",
    "\n",
    "twofishDF.head(), twofishDF.tail()"
   ],
   "metadata": {
    "collapsed": false,
    "ExecuteTime": {
     "end_time": "2024-02-23T08:12:58.322460900Z",
     "start_time": "2024-02-23T08:12:58.294738800Z"
    }
   },
   "id": "8f20d6210e69963",
   "execution_count": 51
  },
  {
   "cell_type": "code",
   "outputs": [
    {
     "data": {
      "text/plain": "KNeighborsClassifier()",
      "text/html": "<style>#sk-container-id-5 {color: black;}#sk-container-id-5 pre{padding: 0;}#sk-container-id-5 div.sk-toggleable {background-color: white;}#sk-container-id-5 label.sk-toggleable__label {cursor: pointer;display: block;width: 100%;margin-bottom: 0;padding: 0.3em;box-sizing: border-box;text-align: center;}#sk-container-id-5 label.sk-toggleable__label-arrow:before {content: \"▸\";float: left;margin-right: 0.25em;color: #696969;}#sk-container-id-5 label.sk-toggleable__label-arrow:hover:before {color: black;}#sk-container-id-5 div.sk-estimator:hover label.sk-toggleable__label-arrow:before {color: black;}#sk-container-id-5 div.sk-toggleable__content {max-height: 0;max-width: 0;overflow: hidden;text-align: left;background-color: #f0f8ff;}#sk-container-id-5 div.sk-toggleable__content pre {margin: 0.2em;color: black;border-radius: 0.25em;background-color: #f0f8ff;}#sk-container-id-5 input.sk-toggleable__control:checked~div.sk-toggleable__content {max-height: 200px;max-width: 100%;overflow: auto;}#sk-container-id-5 input.sk-toggleable__control:checked~label.sk-toggleable__label-arrow:before {content: \"▾\";}#sk-container-id-5 div.sk-estimator input.sk-toggleable__control:checked~label.sk-toggleable__label {background-color: #d4ebff;}#sk-container-id-5 div.sk-label input.sk-toggleable__control:checked~label.sk-toggleable__label {background-color: #d4ebff;}#sk-container-id-5 input.sk-hidden--visually {border: 0;clip: rect(1px 1px 1px 1px);clip: rect(1px, 1px, 1px, 1px);height: 1px;margin: -1px;overflow: hidden;padding: 0;position: absolute;width: 1px;}#sk-container-id-5 div.sk-estimator {font-family: monospace;background-color: #f0f8ff;border: 1px dotted black;border-radius: 0.25em;box-sizing: border-box;margin-bottom: 0.5em;}#sk-container-id-5 div.sk-estimator:hover {background-color: #d4ebff;}#sk-container-id-5 div.sk-parallel-item::after {content: \"\";width: 100%;border-bottom: 1px solid gray;flex-grow: 1;}#sk-container-id-5 div.sk-label:hover label.sk-toggleable__label {background-color: #d4ebff;}#sk-container-id-5 div.sk-serial::before {content: \"\";position: absolute;border-left: 1px solid gray;box-sizing: border-box;top: 0;bottom: 0;left: 50%;z-index: 0;}#sk-container-id-5 div.sk-serial {display: flex;flex-direction: column;align-items: center;background-color: white;padding-right: 0.2em;padding-left: 0.2em;position: relative;}#sk-container-id-5 div.sk-item {position: relative;z-index: 1;}#sk-container-id-5 div.sk-parallel {display: flex;align-items: stretch;justify-content: center;background-color: white;position: relative;}#sk-container-id-5 div.sk-item::before, #sk-container-id-5 div.sk-parallel-item::before {content: \"\";position: absolute;border-left: 1px solid gray;box-sizing: border-box;top: 0;bottom: 0;left: 50%;z-index: -1;}#sk-container-id-5 div.sk-parallel-item {display: flex;flex-direction: column;z-index: 1;position: relative;background-color: white;}#sk-container-id-5 div.sk-parallel-item:first-child::after {align-self: flex-end;width: 50%;}#sk-container-id-5 div.sk-parallel-item:last-child::after {align-self: flex-start;width: 50%;}#sk-container-id-5 div.sk-parallel-item:only-child::after {width: 0;}#sk-container-id-5 div.sk-dashed-wrapped {border: 1px dashed gray;margin: 0 0.4em 0.5em 0.4em;box-sizing: border-box;padding-bottom: 0.4em;background-color: white;}#sk-container-id-5 div.sk-label label {font-family: monospace;font-weight: bold;display: inline-block;line-height: 1.2em;}#sk-container-id-5 div.sk-label-container {text-align: center;}#sk-container-id-5 div.sk-container {/* jupyter's `normalize.less` sets `[hidden] { display: none; }` but bootstrap.min.css set `[hidden] { display: none !important; }` so we also need the `!important` here to be able to override the default hidden behavior on the sphinx rendered scikit-learn.org. See: https://github.com/scikit-learn/scikit-learn/issues/21755 */display: inline-block !important;position: relative;}#sk-container-id-5 div.sk-text-repr-fallback {display: none;}</style><div id=\"sk-container-id-5\" class=\"sk-top-container\"><div class=\"sk-text-repr-fallback\"><pre>KNeighborsClassifier()</pre><b>In a Jupyter environment, please rerun this cell to show the HTML representation or trust the notebook. <br />On GitHub, the HTML representation is unable to render, please try loading this page with nbviewer.org.</b></div><div class=\"sk-container\" hidden><div class=\"sk-item\"><div class=\"sk-estimator sk-toggleable\"><input class=\"sk-toggleable__control sk-hidden--visually\" id=\"sk-estimator-id-5\" type=\"checkbox\" checked><label for=\"sk-estimator-id-5\" class=\"sk-toggleable__label sk-toggleable__label-arrow\">KNeighborsClassifier</label><div class=\"sk-toggleable__content\"><pre>KNeighborsClassifier()</pre></div></div></div></div></div>"
     },
     "execution_count": 52,
     "metadata": {},
     "output_type": "execute_result"
    }
   ],
   "source": [
    "# 4. 모델 학습\n",
    "#   - 알고리즘 구현 인스턴스 생성 -> 지도학습 -분류 알고리즘 중 선택 : KNN\n",
    "#   - 학습 진행 메서드 => fit()\n",
    "from sklearn.neighbors import KNeighborsClassifier\n",
    "\n",
    "# 4-1. KNN 인스턴스 생성\n",
    "model = KNeighborsClassifier()\n",
    "model"
   ],
   "metadata": {
    "collapsed": false,
    "ExecuteTime": {
     "end_time": "2024-02-23T08:12:58.740980700Z",
     "start_time": "2024-02-23T08:12:58.725693300Z"
    }
   },
   "id": "ec050343d00a80dc",
   "execution_count": 52
  },
  {
   "cell_type": "code",
   "outputs": [
    {
     "data": {
      "text/plain": "KNeighborsClassifier()",
      "text/html": "<style>#sk-container-id-6 {color: black;}#sk-container-id-6 pre{padding: 0;}#sk-container-id-6 div.sk-toggleable {background-color: white;}#sk-container-id-6 label.sk-toggleable__label {cursor: pointer;display: block;width: 100%;margin-bottom: 0;padding: 0.3em;box-sizing: border-box;text-align: center;}#sk-container-id-6 label.sk-toggleable__label-arrow:before {content: \"▸\";float: left;margin-right: 0.25em;color: #696969;}#sk-container-id-6 label.sk-toggleable__label-arrow:hover:before {color: black;}#sk-container-id-6 div.sk-estimator:hover label.sk-toggleable__label-arrow:before {color: black;}#sk-container-id-6 div.sk-toggleable__content {max-height: 0;max-width: 0;overflow: hidden;text-align: left;background-color: #f0f8ff;}#sk-container-id-6 div.sk-toggleable__content pre {margin: 0.2em;color: black;border-radius: 0.25em;background-color: #f0f8ff;}#sk-container-id-6 input.sk-toggleable__control:checked~div.sk-toggleable__content {max-height: 200px;max-width: 100%;overflow: auto;}#sk-container-id-6 input.sk-toggleable__control:checked~label.sk-toggleable__label-arrow:before {content: \"▾\";}#sk-container-id-6 div.sk-estimator input.sk-toggleable__control:checked~label.sk-toggleable__label {background-color: #d4ebff;}#sk-container-id-6 div.sk-label input.sk-toggleable__control:checked~label.sk-toggleable__label {background-color: #d4ebff;}#sk-container-id-6 input.sk-hidden--visually {border: 0;clip: rect(1px 1px 1px 1px);clip: rect(1px, 1px, 1px, 1px);height: 1px;margin: -1px;overflow: hidden;padding: 0;position: absolute;width: 1px;}#sk-container-id-6 div.sk-estimator {font-family: monospace;background-color: #f0f8ff;border: 1px dotted black;border-radius: 0.25em;box-sizing: border-box;margin-bottom: 0.5em;}#sk-container-id-6 div.sk-estimator:hover {background-color: #d4ebff;}#sk-container-id-6 div.sk-parallel-item::after {content: \"\";width: 100%;border-bottom: 1px solid gray;flex-grow: 1;}#sk-container-id-6 div.sk-label:hover label.sk-toggleable__label {background-color: #d4ebff;}#sk-container-id-6 div.sk-serial::before {content: \"\";position: absolute;border-left: 1px solid gray;box-sizing: border-box;top: 0;bottom: 0;left: 50%;z-index: 0;}#sk-container-id-6 div.sk-serial {display: flex;flex-direction: column;align-items: center;background-color: white;padding-right: 0.2em;padding-left: 0.2em;position: relative;}#sk-container-id-6 div.sk-item {position: relative;z-index: 1;}#sk-container-id-6 div.sk-parallel {display: flex;align-items: stretch;justify-content: center;background-color: white;position: relative;}#sk-container-id-6 div.sk-item::before, #sk-container-id-6 div.sk-parallel-item::before {content: \"\";position: absolute;border-left: 1px solid gray;box-sizing: border-box;top: 0;bottom: 0;left: 50%;z-index: -1;}#sk-container-id-6 div.sk-parallel-item {display: flex;flex-direction: column;z-index: 1;position: relative;background-color: white;}#sk-container-id-6 div.sk-parallel-item:first-child::after {align-self: flex-end;width: 50%;}#sk-container-id-6 div.sk-parallel-item:last-child::after {align-self: flex-start;width: 50%;}#sk-container-id-6 div.sk-parallel-item:only-child::after {width: 0;}#sk-container-id-6 div.sk-dashed-wrapped {border: 1px dashed gray;margin: 0 0.4em 0.5em 0.4em;box-sizing: border-box;padding-bottom: 0.4em;background-color: white;}#sk-container-id-6 div.sk-label label {font-family: monospace;font-weight: bold;display: inline-block;line-height: 1.2em;}#sk-container-id-6 div.sk-label-container {text-align: center;}#sk-container-id-6 div.sk-container {/* jupyter's `normalize.less` sets `[hidden] { display: none; }` but bootstrap.min.css set `[hidden] { display: none !important; }` so we also need the `!important` here to be able to override the default hidden behavior on the sphinx rendered scikit-learn.org. See: https://github.com/scikit-learn/scikit-learn/issues/21755 */display: inline-block !important;position: relative;}#sk-container-id-6 div.sk-text-repr-fallback {display: none;}</style><div id=\"sk-container-id-6\" class=\"sk-top-container\"><div class=\"sk-text-repr-fallback\"><pre>KNeighborsClassifier()</pre><b>In a Jupyter environment, please rerun this cell to show the HTML representation or trust the notebook. <br />On GitHub, the HTML representation is unable to render, please try loading this page with nbviewer.org.</b></div><div class=\"sk-container\" hidden><div class=\"sk-item\"><div class=\"sk-estimator sk-toggleable\"><input class=\"sk-toggleable__control sk-hidden--visually\" id=\"sk-estimator-id-6\" type=\"checkbox\" checked><label for=\"sk-estimator-id-6\" class=\"sk-toggleable__label sk-toggleable__label-arrow\">KNeighborsClassifier</label><div class=\"sk-toggleable__content\"><pre>KNeighborsClassifier()</pre></div></div></div></div></div>"
     },
     "execution_count": 53,
     "metadata": {},
     "output_type": "execute_result"
    }
   ],
   "source": [
    "# 4-2. 학습 진행\n",
    "# - .fit( feature, label )\n",
    "model.fit(feature, target)"
   ],
   "metadata": {
    "collapsed": false,
    "ExecuteTime": {
     "end_time": "2024-02-23T08:12:59.170835600Z",
     "start_time": "2024-02-23T08:12:59.143264500Z"
    }
   },
   "id": "af16b570909012d0",
   "execution_count": 53
  },
  {
   "cell_type": "code",
   "outputs": [
    {
     "name": "stdout",
     "output_type": "stream",
     "text": [
      "classes_ : [0 1]\n",
      "feature_names_in_ : ['Weight' 'Length']\n",
      "n_features_in_ : 2\n"
     ]
    }
   ],
   "source": [
    "# 학습 후 속성 확인\n",
    "print('classes_ :', model.classes_)\n",
    "print('feature_names_in_ :', model.feature_names_in_)\n",
    "print('n_features_in_ :', model.n_features_in_)"
   ],
   "metadata": {
    "collapsed": false,
    "ExecuteTime": {
     "end_time": "2024-02-23T08:12:59.531500700Z",
     "start_time": "2024-02-23T08:12:59.524809Z"
    }
   },
   "id": "cb3cbceff60a496f",
   "execution_count": 54
  },
  {
   "cell_type": "code",
   "outputs": [
    {
     "data": {
      "text/plain": "1.0"
     },
     "execution_count": 55,
     "metadata": {},
     "output_type": "execute_result"
    }
   ],
   "source": [
    "# 5. 학습 후 테스트 -> 메서드 : score()\n",
    "# - 결과값 : 0.0 ~ 1.0 (100%)\n",
    "# - 사용 데이터 : 학습에 사용되지 않은 데이터 \n",
    "model.score(feature, target)"
   ],
   "metadata": {
    "collapsed": false,
    "ExecuteTime": {
     "end_time": "2024-02-23T08:13:00.063636Z",
     "start_time": "2024-02-23T08:13:00.030490300Z"
    }
   },
   "id": "2a8f880ddbc24eb5",
   "execution_count": 55
  },
  {
   "cell_type": "code",
   "outputs": [
    {
     "data": {
      "text/plain": "array([1], dtype=int64)"
     },
     "execution_count": 89,
     "metadata": {},
     "output_type": "execute_result"
    }
   ],
   "source": [
    "# 6. 예측: 서비스에 모델 활용 시 사용 \n",
    "# - 메서드 : predict(), predict_proba()\n",
    "# - 조건 : 학습 시 전달된 데이터와 동일한 형태의 데이터 전달\n",
    "# [ 무게, 길이 ]\n",
    "new_data = pd.DataFrame([[21.8, 17]], columns=['Weight', 'Length'])\n",
    "\n",
    "# 학습 시 제공된 데이터와 동일한 형태로 제공\n",
    "pred_y = model.predict(new_data)\n",
    "\n",
    "pred_y  # : 1"
   ],
   "metadata": {
    "collapsed": false,
    "ExecuteTime": {
     "end_time": "2024-02-23T08:34:19.163407100Z",
     "start_time": "2024-02-23T08:34:19.133771500Z"
    }
   },
   "id": "d55be76d4c60c057",
   "execution_count": 89
  },
  {
   "cell_type": "code",
   "outputs": [
    {
     "data": {
      "text/plain": "array([[0., 1.]])"
     },
     "execution_count": 57,
     "metadata": {},
     "output_type": "execute_result"
    }
   ],
   "source": [
    "# 예측 확률\n",
    "model.predict_proba(new_data)"
   ],
   "metadata": {
    "collapsed": false,
    "ExecuteTime": {
     "end_time": "2024-02-23T08:13:01.392041200Z",
     "start_time": "2024-02-23T08:13:01.383041400Z"
    }
   },
   "id": "de943262179bdf29",
   "execution_count": 57
  },
  {
   "cell_type": "code",
   "outputs": [
    {
     "data": {
      "text/plain": "(array([[ 2.75862284,  3.42052628,  9.57705592, 10.4       , 10.73312629]]),\n array([[48, 47, 45, 46, 44]], dtype=int64))"
     },
     "execution_count": 70,
     "metadata": {},
     "output_type": "execute_result"
    }
   ],
   "source": [
    "# 데이터와 최근접 이웃 데이터\n",
    "dis, idx = model.kneighbors(new_data)\n",
    "model.kneighbors(new_data)\n",
    "# 여기서 출력된 5개의 점이 new_data와 가장 가까운 점\n",
    "# 반환 : 거리, 원소 번호\n",
    "#        여기서 원소 번호는 인덱스\n",
    "#        처리 중 np.array로 정렬하기 때문"
   ],
   "metadata": {
    "collapsed": false,
    "ExecuteTime": {
     "end_time": "2024-02-23T08:25:10.038326100Z",
     "start_time": "2024-02-23T08:25:10.017771400Z"
    }
   },
   "id": "3e2a12e9e762454e",
   "execution_count": 70
  },
  {
   "cell_type": "code",
   "outputs": [
    {
     "data": {
      "text/plain": "(RangeIndex(start=0, stop=49, step=1), (49, 2))"
     },
     "execution_count": 71,
     "metadata": {},
     "output_type": "execute_result"
    }
   ],
   "source": [
    "feature.index, feature.shape"
   ],
   "metadata": {
    "collapsed": false,
    "ExecuteTime": {
     "end_time": "2024-02-23T08:25:11.346037700Z",
     "start_time": "2024-02-23T08:25:11.326942800Z"
    }
   },
   "id": "bb855c3866ac7c55",
   "execution_count": 71
  },
  {
   "cell_type": "code",
   "outputs": [
    {
     "data": {
      "text/plain": "<Figure size 640x480 with 1 Axes>",
      "image/png": "[encoded data removed]"
     },
     "metadata": {},
     "output_type": "display_data"
    }
   ],
   "source": [
    "## [확인] Weight & Length 시각화\n",
    "# pandas의 Series, DataFrame의 plot() 매서드\n",
    "colormap = ['Orange', 'blue']\n",
    "feature.plot.scatter(x='Weight', y='Length', title='Smelt & Bream') # , colormap=colormap)\n",
    "\n",
    "plt.show()"
   ],
   "metadata": {
    "collapsed": false,
    "ExecuteTime": {
     "end_time": "2024-02-23T08:25:12.005829700Z",
     "start_time": "2024-02-23T08:25:11.899551400Z"
    }
   },
   "id": "5d03bd44b3a7f713",
   "execution_count": 72
  },
  {
   "cell_type": "code",
   "outputs": [
    {
     "data": {
      "text/plain": "<Figure size 640x480 with 1 Axes>",
      "image/png": "[encoded data removed]"
     },
     "metadata": {},
     "output_type": "display_data"
    }
   ],
   "source": [
    "# 전체 그래프 구조 설정\n",
    "feature.plot.scatter(x='Weight', y='Length', title='Smelt & Bream')\n",
    "\n",
    "# 데이터 scatter 그리기\n",
    "plt.scatter(x=feature.Weight, y=feature.Length)\n",
    "\n",
    "# ㅐㅅ로운 데이터 시각화\n",
    "plt.plot(new_data.Weight, new_data.Length, 'ro')\n",
    "\n",
    "# 새로운 데이터의 k개 최근접 이웃 데이터 시각화\n",
    "xs = feature.iloc[idx[0]].Weight\n",
    "ys = feature.iloc[idx[0]].Length\n",
    "\n",
    "plt.scatter(x=xs, y=ys, marker='D', color='g')\n",
    "\n",
    "plt.show()"
   ],
   "metadata": {
    "collapsed": false,
    "ExecuteTime": {
     "end_time": "2024-02-23T08:35:45.080259500Z",
     "start_time": "2024-02-23T08:35:44.952966Z"
    }
   },
   "id": "591fd85bcd9b175a",
   "execution_count": 91
  },
  {
   "cell_type": "code",
   "outputs": [
    {
     "data": {
      "text/plain": "<Figure size 640x480 with 1 Axes>",
      "image/png": "[encoded data removed]"
     },
     "metadata": {},
     "output_type": "display_data"
    }
   ],
   "source": [
    "# 새로운 new_data 넣어보기\n",
    "new_data = pd.DataFrame([[160, 21]], columns=['Weight', 'Length'])\n",
    "dis, idx = model.kneighbors(new_data)\n",
    "\n",
    "# 전체 그래프 구조 설정\n",
    "feature.plot.scatter(x='Weight', y='Length', title='Smelt & Bream')\n",
    "\n",
    "# 데이터 scatter 그리기\n",
    "plt.scatter(x=feature.Weight, y=feature.Length)\n",
    "\n",
    "# ㅐㅅ로운 데이터 시각화\n",
    "plt.plot(new_data.Weight, new_data.Length, 'ro')\n",
    "\n",
    "# 새로운 데이터의 k개 최근접 이웃 데이터 시각화\n",
    "xs = feature.iloc[idx[0]].Weight\n",
    "ys = feature.iloc[idx[0]].Length\n",
    "\n",
    "plt.scatter(x=xs, y=ys, marker='D', color='g')\n",
    "\n",
    "plt.show()"
   ],
   "metadata": {
    "collapsed": false,
    "ExecuteTime": {
     "end_time": "2024-02-23T08:44:39.511176600Z",
     "start_time": "2024-02-23T08:44:39.400945400Z"
    }
   },
   "id": "4585ac4384d5a6ff",
   "execution_count": 94
  },
  {
   "cell_type": "code",
   "outputs": [],
   "source": [],
   "metadata": {
    "collapsed": false
   },
   "id": "3d1da0d94e8a8531"
  }
 ],
 "metadata": {
  "kernelspec": {
   "display_name": "Python 3",
   "language": "python",
   "name": "python3"
  },
  "language_info": {
   "codemirror_mode": {
    "name": "ipython",
    "version": 2
   },
   "file_extension": ".py",
   "mimetype": "text/x-python",
   "name": "python",
   "nbconvert_exporter": "python",
   "pygments_lexer": "ipython2",
   "version": "2.7.6"
  }
 },
 "nbformat": 4,
 "nbformat_minor": 5
}
