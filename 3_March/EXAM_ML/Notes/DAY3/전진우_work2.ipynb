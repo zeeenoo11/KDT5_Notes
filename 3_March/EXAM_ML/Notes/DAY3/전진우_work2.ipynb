{
 "cells": [
  {
   "cell_type": "markdown",
   "id": "b8e864dcbc1f5cdc",
   "metadata": {
    "collapsed": false
   },
   "source": [
    "### 목표 : 당뇨병 예측 모델 구현\n",
    "- 데이터 : scikit-learn dataset\n",
    "- 피쳐 : 10\n",
    "- 타겟 : 정수값"
   ]
  },
  {
   "cell_type": "markdown",
   "id": "8e91d4f3ac17d25a",
   "metadata": {
    "collapsed": false
   },
   "source": [
    "1. load_diabetes() : 정규화된 데이터셋 불러오기"
   ]
  },
  {
   "cell_type": "code",
   "execution_count": 2,
   "id": "28436b9f439c8f83",
   "metadata": {
    "ExecuteTime": {
     "end_time": "2024-02-28T00:08:12.624303Z",
     "start_time": "2024-02-28T00:08:12.592995Z"
    },
    "collapsed": false
   },
   "outputs": [
    {
     "data": {
      "text/plain": [
       "(          age       sex       bmi        bp        s1        s2        s3  \\\n",
       " 0    0.038076  0.050680  0.061696  0.021872 -0.044223 -0.034821 -0.043401   \n",
       " 1   -0.001882 -0.044642 -0.051474 -0.026328 -0.008449 -0.019163  0.074412   \n",
       " 2    0.085299  0.050680  0.044451 -0.005670 -0.045599 -0.034194 -0.032356   \n",
       " 3   -0.089063 -0.044642 -0.011595 -0.036656  0.012191  0.024991 -0.036038   \n",
       " 4    0.005383 -0.044642 -0.036385  0.021872  0.003935  0.015596  0.008142   \n",
       " ..        ...       ...       ...       ...       ...       ...       ...   \n",
       " 437  0.041708  0.050680  0.019662  0.059744 -0.005697 -0.002566 -0.028674   \n",
       " 438 -0.005515  0.050680 -0.015906 -0.067642  0.049341  0.079165 -0.028674   \n",
       " 439  0.041708  0.050680 -0.015906  0.017293 -0.037344 -0.013840 -0.024993   \n",
       " 440 -0.045472 -0.044642  0.039062  0.001215  0.016318  0.015283 -0.028674   \n",
       " 441 -0.045472 -0.044642 -0.073030 -0.081413  0.083740  0.027809  0.173816   \n",
       " \n",
       "            s4        s5        s6  \n",
       " 0   -0.002592  0.019907 -0.017646  \n",
       " 1   -0.039493 -0.068332 -0.092204  \n",
       " 2   -0.002592  0.002861 -0.025930  \n",
       " 3    0.034309  0.022688 -0.009362  \n",
       " 4   -0.002592 -0.031988 -0.046641  \n",
       " ..        ...       ...       ...  \n",
       " 437 -0.002592  0.031193  0.007207  \n",
       " 438  0.034309 -0.018114  0.044485  \n",
       " 439 -0.011080 -0.046883  0.015491  \n",
       " 440  0.026560  0.044529 -0.025930  \n",
       " 441 -0.039493 -0.004222  0.003064  \n",
       " \n",
       " [442 rows x 10 columns],\n",
       " 0      151.0\n",
       " 1       75.0\n",
       " 2      141.0\n",
       " 3      206.0\n",
       " 4      135.0\n",
       "        ...  \n",
       " 437    178.0\n",
       " 438    104.0\n",
       " 439    132.0\n",
       " 440    220.0\n",
       " 441     57.0\n",
       " Name: target, Length: 442, dtype: float64)"
      ]
     },
     "execution_count": 2,
     "metadata": {},
     "output_type": "execute_result"
    }
   ],
   "source": [
    "# 0. 모듈 불러오기\n",
    "import pandas as pd\n",
    "import numpy as np\n",
    "import matplotlib.pyplot as plt\n",
    "import seaborn as sns\n",
    "from sklearn.datasets import load_diabetes\n",
    "from sklearn.model_selection import train_test_split\n",
    "from sklearn.linear_model import LinearRegression\n",
    "from sklearn.metrics import mean_squared_error, r2_score, mean_absolute_error\n",
    "from sklearn.preprocessing import StandardScaler\n",
    "from sklearn.neighbors import KNeighborsRegressor\n",
    "from sklearn.neighbors import KNeighborsClassifier\n",
    "from sklearn.svm import SVC\n",
    "\n",
    "# 1. 데이터 불러오기\n",
    "features_df, target_sr = load_diabetes(return_X_y=True, as_frame=True)\n",
    "features_df, target_sr"
   ]
  },
  {
   "cell_type": "markdown",
   "id": "ebc248364a8775f2",
   "metadata": {
    "collapsed": false
   },
   "source": [
    "2. 데이터 전처리 : 결측값, 중복값, 이상치 확인 -> 이상 없음"
   ]
  },
  {
   "cell_type": "code",
   "execution_count": 3,
   "id": "8c298fc5eac61504",
   "metadata": {
    "ExecuteTime": {
     "end_time": "2024-02-28T00:08:12.684312Z",
     "start_time": "2024-02-28T00:08:12.661303Z"
    },
    "collapsed": false
   },
   "outputs": [
    {
     "name": "stdout",
     "output_type": "stream",
     "text": [
      "<class 'pandas.core.frame.DataFrame'>\n",
      "RangeIndex: 442 entries, 0 to 441\n",
      "Data columns (total 10 columns):\n",
      " #   Column  Non-Null Count  Dtype  \n",
      "---  ------  --------------  -----  \n",
      " 0   age     442 non-null    float64\n",
      " 1   sex     442 non-null    float64\n",
      " 2   bmi     442 non-null    float64\n",
      " 3   bp      442 non-null    float64\n",
      " 4   s1      442 non-null    float64\n",
      " 5   s2      442 non-null    float64\n",
      " 6   s3      442 non-null    float64\n",
      " 7   s4      442 non-null    float64\n",
      " 8   s5      442 non-null    float64\n",
      " 9   s6      442 non-null    float64\n",
      "dtypes: float64(10)\n",
      "memory usage: 34.7 KB\n"
     ]
    }
   ],
   "source": [
    "# 2. 데이터 전처리\n",
    "features_df.info()  # 모두 float, 정규화, 결측값 없음"
   ]
  },
  {
   "cell_type": "code",
   "execution_count": 4,
   "id": "4998323988124b9f",
   "metadata": {
    "ExecuteTime": {
     "end_time": "2024-02-28T00:08:12.820542Z",
     "start_time": "2024-02-28T00:08:12.795023Z"
    },
    "collapsed": false
   },
   "outputs": [
    {
     "data": {
      "text/plain": [
       "0"
      ]
     },
     "execution_count": 4,
     "metadata": {},
     "output_type": "execute_result"
    }
   ],
   "source": [
    "# 2-1. 중복값 확인\n",
    "features_df.duplicated().sum()  # 중복값 없음"
   ]
  },
  {
   "cell_type": "code",
   "execution_count": 5,
   "id": "bf159166ebc37cc2",
   "metadata": {
    "ExecuteTime": {
     "end_time": "2024-02-28T00:08:13.229406Z",
     "start_time": "2024-02-28T00:08:12.891240Z"
    },
    "collapsed": false
   },
   "outputs": [
    {
     "data": {
      "image/png": "[encoded data removed]",
      "text/plain": [
       "<Figure size 640x480 with 1 Axes>"
      ]
     },
     "metadata": {},
     "output_type": "display_data"
    }
   ],
   "source": [
    "# 2-2. 이상치 확인\n",
    "plt.boxplot(features_df)\n",
    "plt.xlabel('Features')\n",
    "plt.xticks(range(1, 11), features_df.columns)\n",
    "plt.show()  # bmi, s1, s2, s3, s4, s5, s6에서 많은 이상치를 보임"
   ]
  },
  {
   "cell_type": "markdown",
   "id": "6f91255fb5ed7f48",
   "metadata": {
    "collapsed": false
   },
   "source": [
    "2-3. 이상치 제거 : bmi, s5 먼저 찾고 생각난 부분, 우선 두 피처에만 적용 -> 점수는 더 감소\n",
    "                   ToDo) 전체 데이터에도 적용하면 상관 계수가 달라질까"
   ]
  },
  {
   "cell_type": "code",
   "execution_count": 6,
   "id": "3500331a1301ab87",
   "metadata": {
    "ExecuteTime": {
     "end_time": "2024-02-28T00:08:13.259572Z",
     "start_time": "2024-02-28T00:08:13.233412Z"
    },
    "collapsed": false
   },
   "outputs": [
    {
     "data": {
      "text/plain": [
       "(256    0.160855\n",
       " 366    0.137143\n",
       " 367    0.170555\n",
       " Name: bmi, dtype: float64,\n",
       " 23     0.133597\n",
       " 169    0.133597\n",
       " 322    0.133397\n",
       " 353    0.132376\n",
       " Name: s5, dtype: float64)"
      ]
     },
     "execution_count": 6,
     "metadata": {},
     "output_type": "execute_result"
    }
   ],
   "source": [
    "\n",
    "# 2-3. 이상치 제거\n",
    "# 1) boxplot에서 이상치를 제거하는 함수\n",
    "def remove_outliers(data, threshold=1.5):\n",
    "    \"\"\"\n",
    "    이상치 제거 함수\n",
    "    :param data: 이상치를 제거할 데이터 (numpy array 형태)\n",
    "    :param threshold: 정상 범주의 IQR 배수 (기본 1.5)\n",
    "    :return: 이상치 제거 데이터\n",
    "    \"\"\"\n",
    "    # 상위 3 분위와 하위 3 분위의 값 구하기\n",
    "    Q1 = np.percentile(data.tolist(), 25)\n",
    "    Q3 = np.percentile(data.tolist(), 75)\n",
    "    IQR = Q3 - Q1\n",
    "    \n",
    "    # 이상치 제거\n",
    "    mask = (data < Q1 - threshold * IQR) | (data > Q3 + threshold * IQR)\n",
    "    filtered_data = data[mask]\n",
    "    return filtered_data\n",
    "\n",
    "# 2) 이상치 확인\n",
    "remove_outliers(features_df.bmi), remove_outliers(features_df.s5)"
   ]
  },
  {
   "cell_type": "code",
   "execution_count": 7,
   "id": "5363d0e6083a52d3",
   "metadata": {
    "ExecuteTime": {
     "end_time": "2024-02-28T00:08:13.289708Z",
     "start_time": "2024-02-28T00:08:13.262572Z"
    },
    "collapsed": false
   },
   "outputs": [
    {
     "name": "stdout",
     "output_type": "stream",
     "text": [
      "[256, 366, 367, 23, 169, 322, 353]\n"
     ]
    },
    {
     "data": {
      "text/plain": [
       "((442, 10), (442,), (435, 10), (435,))"
      ]
     },
     "execution_count": 7,
     "metadata": {},
     "output_type": "execute_result"
    }
   ],
   "source": [
    "# 3) bmi, s5 이상치 제거\n",
    "remove_index = remove_outliers(features_df.bmi).index.tolist() + remove_outliers(features_df.s5).index.tolist()\n",
    "print(remove_index)\n",
    "remove_feature = features_df.drop(remove_index)\n",
    "remove_target = target_sr.drop(remove_index)\n",
    "features_df.shape, target_sr.shape, remove_feature.shape, remove_target.shape\n",
    "# remove 배제 이유: 맨 아래 기술"
   ]
  },
  {
   "cell_type": "code",
   "execution_count": 8,
   "id": "692341412da58ce1",
   "metadata": {
    "ExecuteTime": {
     "end_time": "2024-02-28T00:17:53.848978Z",
     "start_time": "2024-02-28T00:17:53.827468Z"
    },
    "collapsed": false
   },
   "outputs": [
    {
     "data": {
      "text/html": [
       "<div>\n",
       "<style scoped>\n",
       "    .dataframe tbody tr th:only-of-type {\n",
       "        vertical-align: middle;\n",
       "    }\n",
       "\n",
       "    .dataframe tbody tr th {\n",
       "        vertical-align: top;\n",
       "    }\n",
       "\n",
       "    .dataframe thead th {\n",
       "        text-align: right;\n",
       "    }\n",
       "</style>\n",
       "<table border=\"1\" class=\"dataframe\">\n",
       "  <thead>\n",
       "    <tr style=\"text-align: right;\">\n",
       "      <th></th>\n",
       "      <th>age</th>\n",
       "      <th>sex</th>\n",
       "      <th>bmi</th>\n",
       "      <th>bp</th>\n",
       "      <th>s1</th>\n",
       "      <th>s2</th>\n",
       "      <th>s3</th>\n",
       "      <th>s4</th>\n",
       "      <th>s5</th>\n",
       "      <th>s6</th>\n",
       "      <th>target</th>\n",
       "    </tr>\n",
       "  </thead>\n",
       "  <tbody>\n",
       "    <tr>\n",
       "      <th>target</th>\n",
       "      <td>0.194932</td>\n",
       "      <td>0.036903</td>\n",
       "      <td>0.574823</td>\n",
       "      <td>0.449506</td>\n",
       "      <td>0.215694</td>\n",
       "      <td>0.180674</td>\n",
       "      <td>0.385981</td>\n",
       "      <td>0.423731</td>\n",
       "      <td>0.575893</td>\n",
       "      <td>0.375032</td>\n",
       "      <td>1.000000</td>\n",
       "    </tr>\n",
       "    <tr>\n",
       "      <th>s5</th>\n",
       "      <td>0.286796</td>\n",
       "      <td>0.151388</td>\n",
       "      <td>0.457699</td>\n",
       "      <td>0.399436</td>\n",
       "      <td>0.509800</td>\n",
       "      <td>0.344229</td>\n",
       "      <td>0.387384</td>\n",
       "      <td>0.602651</td>\n",
       "      <td>1.000000</td>\n",
       "      <td>0.451860</td>\n",
       "      <td>0.575893</td>\n",
       "    </tr>\n",
       "    <tr>\n",
       "      <th>bmi</th>\n",
       "      <td>0.203580</td>\n",
       "      <td>0.073584</td>\n",
       "      <td>1.000000</td>\n",
       "      <td>0.416603</td>\n",
       "      <td>0.260150</td>\n",
       "      <td>0.271497</td>\n",
       "      <td>0.360118</td>\n",
       "      <td>0.408489</td>\n",
       "      <td>0.457699</td>\n",
       "      <td>0.383985</td>\n",
       "      <td>0.574823</td>\n",
       "    </tr>\n",
       "    <tr>\n",
       "      <th>bp</th>\n",
       "      <td>0.331357</td>\n",
       "      <td>0.238087</td>\n",
       "      <td>0.416603</td>\n",
       "      <td>1.000000</td>\n",
       "      <td>0.242578</td>\n",
       "      <td>0.190699</td>\n",
       "      <td>0.173908</td>\n",
       "      <td>0.252653</td>\n",
       "      <td>0.399436</td>\n",
       "      <td>0.388973</td>\n",
       "      <td>0.449506</td>\n",
       "    </tr>\n",
       "    <tr>\n",
       "      <th>s4</th>\n",
       "      <td>0.209861</td>\n",
       "      <td>0.331368</td>\n",
       "      <td>0.408489</td>\n",
       "      <td>0.252653</td>\n",
       "      <td>0.542130</td>\n",
       "      <td>0.684504</td>\n",
       "      <td>0.734327</td>\n",
       "      <td>1.000000</td>\n",
       "      <td>0.602651</td>\n",
       "      <td>0.402672</td>\n",
       "      <td>0.423731</td>\n",
       "    </tr>\n",
       "    <tr>\n",
       "      <th>s3</th>\n",
       "      <td>0.075838</td>\n",
       "      <td>0.378771</td>\n",
       "      <td>0.360118</td>\n",
       "      <td>0.173908</td>\n",
       "      <td>0.059632</td>\n",
       "      <td>0.204450</td>\n",
       "      <td>1.000000</td>\n",
       "      <td>0.734327</td>\n",
       "      <td>0.387384</td>\n",
       "      <td>0.260602</td>\n",
       "      <td>0.385981</td>\n",
       "    </tr>\n",
       "    <tr>\n",
       "      <th>s6</th>\n",
       "      <td>0.302941</td>\n",
       "      <td>0.199028</td>\n",
       "      <td>0.383985</td>\n",
       "      <td>0.388973</td>\n",
       "      <td>0.322951</td>\n",
       "      <td>0.303352</td>\n",
       "      <td>0.260602</td>\n",
       "      <td>0.402672</td>\n",
       "      <td>0.451860</td>\n",
       "      <td>1.000000</td>\n",
       "      <td>0.375032</td>\n",
       "    </tr>\n",
       "    <tr>\n",
       "      <th>s1</th>\n",
       "      <td>0.267296</td>\n",
       "      <td>0.034819</td>\n",
       "      <td>0.260150</td>\n",
       "      <td>0.242578</td>\n",
       "      <td>1.000000</td>\n",
       "      <td>0.907633</td>\n",
       "      <td>0.059632</td>\n",
       "      <td>0.542130</td>\n",
       "      <td>0.509800</td>\n",
       "      <td>0.322951</td>\n",
       "      <td>0.215694</td>\n",
       "    </tr>\n",
       "    <tr>\n",
       "      <th>age</th>\n",
       "      <td>1.000000</td>\n",
       "      <td>0.170637</td>\n",
       "      <td>0.203580</td>\n",
       "      <td>0.331357</td>\n",
       "      <td>0.267296</td>\n",
       "      <td>0.224652</td>\n",
       "      <td>0.075838</td>\n",
       "      <td>0.209861</td>\n",
       "      <td>0.286796</td>\n",
       "      <td>0.302941</td>\n",
       "      <td>0.194932</td>\n",
       "    </tr>\n",
       "    <tr>\n",
       "      <th>s2</th>\n",
       "      <td>0.224652</td>\n",
       "      <td>0.143430</td>\n",
       "      <td>0.271497</td>\n",
       "      <td>0.190699</td>\n",
       "      <td>0.907633</td>\n",
       "      <td>1.000000</td>\n",
       "      <td>0.204450</td>\n",
       "      <td>0.684504</td>\n",
       "      <td>0.344229</td>\n",
       "      <td>0.303352</td>\n",
       "      <td>0.180674</td>\n",
       "    </tr>\n",
       "    <tr>\n",
       "      <th>sex</th>\n",
       "      <td>0.170637</td>\n",
       "      <td>1.000000</td>\n",
       "      <td>0.073584</td>\n",
       "      <td>0.238087</td>\n",
       "      <td>0.034819</td>\n",
       "      <td>0.143430</td>\n",
       "      <td>0.378771</td>\n",
       "      <td>0.331368</td>\n",
       "      <td>0.151388</td>\n",
       "      <td>0.199028</td>\n",
       "      <td>0.036903</td>\n",
       "    </tr>\n",
       "  </tbody>\n",
       "</table>\n",
       "</div>"
      ],
      "text/plain": [
       "             age       sex       bmi        bp        s1        s2        s3  \\\n",
       "target  0.194932  0.036903  0.574823  0.449506  0.215694  0.180674  0.385981   \n",
       "s5      0.286796  0.151388  0.457699  0.399436  0.509800  0.344229  0.387384   \n",
       "bmi     0.203580  0.073584  1.000000  0.416603  0.260150  0.271497  0.360118   \n",
       "bp      0.331357  0.238087  0.416603  1.000000  0.242578  0.190699  0.173908   \n",
       "s4      0.209861  0.331368  0.408489  0.252653  0.542130  0.684504  0.734327   \n",
       "s3      0.075838  0.378771  0.360118  0.173908  0.059632  0.204450  1.000000   \n",
       "s6      0.302941  0.199028  0.383985  0.388973  0.322951  0.303352  0.260602   \n",
       "s1      0.267296  0.034819  0.260150  0.242578  1.000000  0.907633  0.059632   \n",
       "age     1.000000  0.170637  0.203580  0.331357  0.267296  0.224652  0.075838   \n",
       "s2      0.224652  0.143430  0.271497  0.190699  0.907633  1.000000  0.204450   \n",
       "sex     0.170637  1.000000  0.073584  0.238087  0.034819  0.143430  0.378771   \n",
       "\n",
       "              s4        s5        s6    target  \n",
       "target  0.423731  0.575893  0.375032  1.000000  \n",
       "s5      0.602651  1.000000  0.451860  0.575893  \n",
       "bmi     0.408489  0.457699  0.383985  0.574823  \n",
       "bp      0.252653  0.399436  0.388973  0.449506  \n",
       "s4      1.000000  0.602651  0.402672  0.423731  \n",
       "s3      0.734327  0.387384  0.260602  0.385981  \n",
       "s6      0.402672  0.451860  1.000000  0.375032  \n",
       "s1      0.542130  0.509800  0.322951  0.215694  \n",
       "age     0.209861  0.286796  0.302941  0.194932  \n",
       "s2      0.684504  0.344229  0.303352  0.180674  \n",
       "sex     0.331368  0.151388  0.199028  0.036903  "
      ]
     },
     "execution_count": 8,
     "metadata": {},
     "output_type": "execute_result"
    }
   ],
   "source": [
    "# 이상치 제거한 상관 계수\n",
    "corr_df = pd.concat([remove_feature, remove_target], axis=1)\n",
    "corr_df.corr().abs().sort_values('target', ascending=False)"
   ]
  },
  {
   "cell_type": "markdown",
   "id": "4acc44af6167ad0",
   "metadata": {
    "collapsed": false
   },
   "source": [
    "2-3. 상관 계수 확인 : "
   ]
  },
  {
   "cell_type": "code",
   "execution_count": 9,
   "id": "4312bfc9498b3734",
   "metadata": {
    "ExecuteTime": {
     "end_time": "2024-02-28T00:08:13.335052Z",
     "start_time": "2024-02-28T00:08:13.292709Z"
    },
    "collapsed": false
   },
   "outputs": [
    {
     "data": {
      "text/html": [
       "<div>\n",
       "<style scoped>\n",
       "    .dataframe tbody tr th:only-of-type {\n",
       "        vertical-align: middle;\n",
       "    }\n",
       "\n",
       "    .dataframe tbody tr th {\n",
       "        vertical-align: top;\n",
       "    }\n",
       "\n",
       "    .dataframe thead th {\n",
       "        text-align: right;\n",
       "    }\n",
       "</style>\n",
       "<table border=\"1\" class=\"dataframe\">\n",
       "  <thead>\n",
       "    <tr style=\"text-align: right;\">\n",
       "      <th></th>\n",
       "      <th>age</th>\n",
       "      <th>sex</th>\n",
       "      <th>bmi</th>\n",
       "      <th>bp</th>\n",
       "      <th>s1</th>\n",
       "      <th>s2</th>\n",
       "      <th>s3</th>\n",
       "      <th>s4</th>\n",
       "      <th>s5</th>\n",
       "      <th>s6</th>\n",
       "      <th>target</th>\n",
       "    </tr>\n",
       "  </thead>\n",
       "  <tbody>\n",
       "    <tr>\n",
       "      <th>target</th>\n",
       "      <td>0.187889</td>\n",
       "      <td>0.043062</td>\n",
       "      <td>0.586450</td>\n",
       "      <td>0.441482</td>\n",
       "      <td>0.212022</td>\n",
       "      <td>0.174054</td>\n",
       "      <td>0.394789</td>\n",
       "      <td>0.430453</td>\n",
       "      <td>0.565883</td>\n",
       "      <td>0.382483</td>\n",
       "      <td>1.000000</td>\n",
       "    </tr>\n",
       "    <tr>\n",
       "      <th>bmi</th>\n",
       "      <td>0.185085</td>\n",
       "      <td>0.088161</td>\n",
       "      <td>1.000000</td>\n",
       "      <td>0.395411</td>\n",
       "      <td>0.249777</td>\n",
       "      <td>0.261170</td>\n",
       "      <td>0.366811</td>\n",
       "      <td>0.413807</td>\n",
       "      <td>0.446157</td>\n",
       "      <td>0.388680</td>\n",
       "      <td>0.586450</td>\n",
       "    </tr>\n",
       "    <tr>\n",
       "      <th>s5</th>\n",
       "      <td>0.270774</td>\n",
       "      <td>0.149916</td>\n",
       "      <td>0.446157</td>\n",
       "      <td>0.393480</td>\n",
       "      <td>0.515503</td>\n",
       "      <td>0.318357</td>\n",
       "      <td>0.398577</td>\n",
       "      <td>0.617859</td>\n",
       "      <td>1.000000</td>\n",
       "      <td>0.464669</td>\n",
       "      <td>0.565883</td>\n",
       "    </tr>\n",
       "    <tr>\n",
       "      <th>bp</th>\n",
       "      <td>0.335428</td>\n",
       "      <td>0.241010</td>\n",
       "      <td>0.395411</td>\n",
       "      <td>1.000000</td>\n",
       "      <td>0.242464</td>\n",
       "      <td>0.185548</td>\n",
       "      <td>0.178762</td>\n",
       "      <td>0.257650</td>\n",
       "      <td>0.393480</td>\n",
       "      <td>0.390430</td>\n",
       "      <td>0.441482</td>\n",
       "    </tr>\n",
       "    <tr>\n",
       "      <th>s4</th>\n",
       "      <td>0.203841</td>\n",
       "      <td>0.332115</td>\n",
       "      <td>0.413807</td>\n",
       "      <td>0.257650</td>\n",
       "      <td>0.542207</td>\n",
       "      <td>0.659817</td>\n",
       "      <td>0.738493</td>\n",
       "      <td>1.000000</td>\n",
       "      <td>0.617859</td>\n",
       "      <td>0.417212</td>\n",
       "      <td>0.430453</td>\n",
       "    </tr>\n",
       "    <tr>\n",
       "      <th>s3</th>\n",
       "      <td>0.075181</td>\n",
       "      <td>0.379090</td>\n",
       "      <td>0.366811</td>\n",
       "      <td>0.178762</td>\n",
       "      <td>0.051519</td>\n",
       "      <td>0.196455</td>\n",
       "      <td>1.000000</td>\n",
       "      <td>0.738493</td>\n",
       "      <td>0.398577</td>\n",
       "      <td>0.273697</td>\n",
       "      <td>0.394789</td>\n",
       "    </tr>\n",
       "    <tr>\n",
       "      <th>s6</th>\n",
       "      <td>0.301731</td>\n",
       "      <td>0.208133</td>\n",
       "      <td>0.388680</td>\n",
       "      <td>0.390430</td>\n",
       "      <td>0.325717</td>\n",
       "      <td>0.290600</td>\n",
       "      <td>0.273697</td>\n",
       "      <td>0.417212</td>\n",
       "      <td>0.464669</td>\n",
       "      <td>1.000000</td>\n",
       "      <td>0.382483</td>\n",
       "    </tr>\n",
       "    <tr>\n",
       "      <th>s1</th>\n",
       "      <td>0.260061</td>\n",
       "      <td>0.035277</td>\n",
       "      <td>0.249777</td>\n",
       "      <td>0.242464</td>\n",
       "      <td>1.000000</td>\n",
       "      <td>0.896663</td>\n",
       "      <td>0.051519</td>\n",
       "      <td>0.542207</td>\n",
       "      <td>0.515503</td>\n",
       "      <td>0.325717</td>\n",
       "      <td>0.212022</td>\n",
       "    </tr>\n",
       "    <tr>\n",
       "      <th>age</th>\n",
       "      <td>1.000000</td>\n",
       "      <td>0.173737</td>\n",
       "      <td>0.185085</td>\n",
       "      <td>0.335428</td>\n",
       "      <td>0.260061</td>\n",
       "      <td>0.219243</td>\n",
       "      <td>0.075181</td>\n",
       "      <td>0.203841</td>\n",
       "      <td>0.270774</td>\n",
       "      <td>0.301731</td>\n",
       "      <td>0.187889</td>\n",
       "    </tr>\n",
       "    <tr>\n",
       "      <th>s2</th>\n",
       "      <td>0.219243</td>\n",
       "      <td>0.142637</td>\n",
       "      <td>0.261170</td>\n",
       "      <td>0.185548</td>\n",
       "      <td>0.896663</td>\n",
       "      <td>1.000000</td>\n",
       "      <td>0.196455</td>\n",
       "      <td>0.659817</td>\n",
       "      <td>0.318357</td>\n",
       "      <td>0.290600</td>\n",
       "      <td>0.174054</td>\n",
       "    </tr>\n",
       "    <tr>\n",
       "      <th>sex</th>\n",
       "      <td>0.173737</td>\n",
       "      <td>1.000000</td>\n",
       "      <td>0.088161</td>\n",
       "      <td>0.241010</td>\n",
       "      <td>0.035277</td>\n",
       "      <td>0.142637</td>\n",
       "      <td>0.379090</td>\n",
       "      <td>0.332115</td>\n",
       "      <td>0.149916</td>\n",
       "      <td>0.208133</td>\n",
       "      <td>0.043062</td>\n",
       "    </tr>\n",
       "  </tbody>\n",
       "</table>\n",
       "</div>"
      ],
      "text/plain": [
       "             age       sex       bmi        bp        s1        s2        s3  \\\n",
       "target  0.187889  0.043062  0.586450  0.441482  0.212022  0.174054  0.394789   \n",
       "bmi     0.185085  0.088161  1.000000  0.395411  0.249777  0.261170  0.366811   \n",
       "s5      0.270774  0.149916  0.446157  0.393480  0.515503  0.318357  0.398577   \n",
       "bp      0.335428  0.241010  0.395411  1.000000  0.242464  0.185548  0.178762   \n",
       "s4      0.203841  0.332115  0.413807  0.257650  0.542207  0.659817  0.738493   \n",
       "s3      0.075181  0.379090  0.366811  0.178762  0.051519  0.196455  1.000000   \n",
       "s6      0.301731  0.208133  0.388680  0.390430  0.325717  0.290600  0.273697   \n",
       "s1      0.260061  0.035277  0.249777  0.242464  1.000000  0.896663  0.051519   \n",
       "age     1.000000  0.173737  0.185085  0.335428  0.260061  0.219243  0.075181   \n",
       "s2      0.219243  0.142637  0.261170  0.185548  0.896663  1.000000  0.196455   \n",
       "sex     0.173737  1.000000  0.088161  0.241010  0.035277  0.142637  0.379090   \n",
       "\n",
       "              s4        s5        s6    target  \n",
       "target  0.430453  0.565883  0.382483  1.000000  \n",
       "bmi     0.413807  0.446157  0.388680  0.586450  \n",
       "s5      0.617859  1.000000  0.464669  0.565883  \n",
       "bp      0.257650  0.393480  0.390430  0.441482  \n",
       "s4      1.000000  0.617859  0.417212  0.430453  \n",
       "s3      0.738493  0.398577  0.273697  0.394789  \n",
       "s6      0.417212  0.464669  1.000000  0.382483  \n",
       "s1      0.542207  0.515503  0.325717  0.212022  \n",
       "age     0.203841  0.270774  0.301731  0.187889  \n",
       "s2      0.659817  0.318357  0.290600  0.174054  \n",
       "sex     0.332115  0.149916  0.208133  0.043062  "
      ]
     },
     "execution_count": 9,
     "metadata": {},
     "output_type": "execute_result"
    }
   ],
   "source": [
    "# 2-3. 상관계수 확인\n",
    "# 1) 타겟과 합치기\n",
    "corr_df = pd.concat([features_df, target_sr], axis=1)\n",
    "corr_df.corr().abs().sort_values('target', ascending=False) \n",
    "# bmi와 s5가 각각 0.576, 0.575으로 높은 상관 관계를 보임"
   ]
  },
  {
   "cell_type": "code",
   "execution_count": 10,
   "id": "eeb8ff2986bec7ea",
   "metadata": {
    "ExecuteTime": {
     "end_time": "2024-02-28T00:08:13.878222Z",
     "start_time": "2024-02-28T00:08:13.341052Z"
    },
    "collapsed": false
   },
   "outputs": [
    {
     "data": {
      "image/png": "[encoded data removed]",
      "text/plain": [
       "<Figure size 1000x1000 with 2 Axes>"
      ]
     },
     "metadata": {},
     "output_type": "display_data"
    }
   ],
   "source": [
    "# 2-4. feature 시각화\n",
    "plt.figure(figsize=(10, 10))\n",
    "plt.subplot(2, 1, 1)\n",
    "plt.scatter(features_df.bmi, target_sr)\n",
    "plt.title('BMI vs Target')\n",
    "\n",
    "plt.subplot(2, 1, 2)\n",
    "plt.scatter(features_df.s5, target_sr)\n",
    "plt.title('S5 vs Target')\n",
    "plt.show()  # 우상향의 경향성이 보인다."
   ]
  },
  {
   "cell_type": "code",
   "execution_count": 11,
   "id": "84775115610ed15c",
   "metadata": {
    "ExecuteTime": {
     "end_time": "2024-02-28T00:08:13.908925Z",
     "start_time": "2024-02-28T00:08:13.881228Z"
    },
    "collapsed": false
   },
   "outputs": [
    {
     "name": "stdout",
     "output_type": "stream",
     "text": [
      "knn score: 0.4201000881070408\n"
     ]
    }
   ],
   "source": [
    "# 3. KNN 모델 적용\n",
    "# 3-1. 학습 데이터 분리\n",
    "feature = features_df[['bmi', 's5']]\n",
    "X_train, X_test, y_train, y_test = train_test_split(feature, target_sr, test_size=0.3, random_state=42)\n",
    "\n",
    "# 3-2. 모델 생성\n",
    "knn = KNeighborsRegressor()     # 주영: 연속형엔 회귀!\n",
    "knn.fit(X_train, y_train)\n",
    "knn.score(X_test, y_test)\n",
    "y_pred = knn.predict(X_test)\n",
    "print('knn score:',knn.score(X_test, y_test))"
   ]
  },
  {
   "cell_type": "code",
   "execution_count": 12,
   "id": "b3f8ea8f8eda79f",
   "metadata": {
    "ExecuteTime": {
     "end_time": "2024-02-28T00:08:13.923925Z",
     "start_time": "2024-02-28T00:08:13.911927Z"
    },
    "collapsed": false
   },
   "outputs": [
    {
     "name": "stdout",
     "output_type": "stream",
     "text": [
      "R2 : 0.4201000881070408\n",
      "RMSE : 55.95067645246768\n",
      "MAE : 44.06015037593985\n",
      "--------------------------------------------------\n",
      "n_neighbors의 값을 지정하지 않은 기본(=5)값으로 KNN 모델을 생성했을 때의 결과,\n",
      "test score : 0.4201, R2 : 0.4201 으로 나옴.\n"
     ]
    }
   ],
   "source": [
    "# 4. 모델 평가 : RMSE, R2, MAE\n",
    "# 1) R2\n",
    "r2 = r2_score(y_test, y_pred)\n",
    "print('R2 :', r2)\n",
    "# 2) RMSE\n",
    "rmse = mean_squared_error(y_test, y_pred, squared=False)\n",
    "print('RMSE :', rmse)\n",
    "# 3) MAE\n",
    "mae = mean_absolute_error(y_test, y_pred)\n",
    "print('MAE :', mae)\n",
    "\n",
    "print(f\"\"\"{'-'*50}\n",
    "n_neighbors의 값을 지정하지 않은 기본(=5)값으로 KNN 모델을 생성했을 때의 결과,\n",
    "test score : {knn.score(X_test, y_test):.4f}, R2 : {r2:.4f} 으로 나옴.\"\"\")"
   ]
  },
  {
   "cell_type": "code",
   "execution_count": 13,
   "id": "f1c9cef021cedbf5",
   "metadata": {
    "ExecuteTime": {
     "end_time": "2024-02-28T00:08:26.302119Z",
     "start_time": "2024-02-28T00:08:13.925926Z"
    },
    "collapsed": false
   },
   "outputs": [
    {
     "name": "stdout",
     "output_type": "stream",
     "text": [
      "최대 test score : 0.5139764780942386\n",
      "해당 n_neighbors 값 : 52\n"
     ]
    },
    {
     "data": {
      "image/png": "[encoded data removed]",
      "text/plain": [
       "<Figure size 640x480 with 1 Axes>"
      ]
     },
     "metadata": {},
     "output_type": "display_data"
    }
   ],
   "source": [
    "# 5. 모델 개선 : 적정 n_neighbors 찾기\n",
    "max_n = len(X_train)\n",
    "train_scores = []\n",
    "test_scores = []\n",
    "for n in range(1, max_n+1):\n",
    "    knn = KNeighborsRegressor(n_neighbors=n)    \n",
    "    knn.fit(X_train, y_train)\n",
    "    train_scores.append(knn.score(X_train,y_train))\n",
    "    test_scores.append(knn.score(X_test, y_test))\n",
    "\n",
    "# score 최대값 찾기\n",
    "print('최대 test score :', max(test_scores))\n",
    "k = test_scores.index(max(test_scores))+1\n",
    "print('해당 n_neighbors 값 :', k)\n",
    "\n",
    "# 시각화\n",
    "plt.plot(test_scores)\n",
    "plt.plot(train_scores)\n",
    "plt.legend(['test score', 'train score'])\n",
    "plt.xlabel('n_neighbors')\n",
    "plt.ylabel('score')\n",
    "plt.show()"
   ]
  },
  {
   "cell_type": "code",
   "execution_count": 14,
   "id": "2356293ecd671e16",
   "metadata": {
    "ExecuteTime": {
     "end_time": "2024-02-28T00:08:26.317208Z",
     "start_time": "2024-02-28T00:08:26.303623Z"
    },
    "collapsed": false
   },
   "outputs": [
    {
     "name": "stdout",
     "output_type": "stream",
     "text": [
      "n_neighbors : 52\n",
      "test score: 0.5139764780942386\n",
      "------------------------------\n",
      "R2 : 0.5139764780942386\n",
      "RMSE : 51.22210997960747\n",
      "MAE : 41.95676691729323\n"
     ]
    }
   ],
   "source": [
    "# 5-2. 확인\n",
    "# 최대 score를 기록한 n_neighbor 값 사용\n",
    "knn = KNeighborsRegressor(n_neighbors=k)\n",
    "knn.fit(X_train, y_train)\n",
    "y_pred = knn.predict(X_test)\n",
    "print('n_neighbors :', k)\n",
    "print('test score:', knn.score(X_test, y_test))\n",
    "print('-'*30)\n",
    "# 1) R2\n",
    "r2 = r2_score(y_test, y_pred)\n",
    "print('R2 :', r2)\n",
    "# 2) RMSE\n",
    "rmse = mean_squared_error(y_test, y_pred, squared=False)\n",
    "print('RMSE :', rmse)\n",
    "# 3) MAE\n",
    "mae = mean_absolute_error(y_test, y_pred)\n",
    "print('MAE :', mae)"
   ]
  },
  {
   "cell_type": "code",
   "execution_count": 15,
   "id": "c558d21f438a4609",
   "metadata": {
    "ExecuteTime": {
     "end_time": "2024-02-28T00:08:26.332402Z",
     "start_time": "2024-02-28T00:08:26.318309Z"
    },
    "collapsed": false
   },
   "outputs": [
    {
     "name": "stdout",
     "output_type": "stream",
     "text": [
      "test score 값이 최대가 되도록 n_neighbors의 값을 조정할 때\n",
      "test score : 0.5140, R2 : 0.5140 으로 나옴.\n",
      "이는 조정하지 않았을 때보다 더 큰 값을 나타냄.\n"
     ]
    }
   ],
   "source": [
    "# 6. 평가\n",
    "print(f\"\"\"test score 값이 최대가 되도록 n_neighbors의 값을 조정할 때\n",
    "test score : {knn.score(X_test, y_test):.4f}, R2 : {r2:.4f} 으로 나옴.\n",
    "이는 조정하지 않았을 때보다 더 큰 값을 나타냄.\"\"\")"
   ]
  },
  {
   "cell_type": "code",
   "execution_count": 16,
   "id": "c8d98ddb14218553",
   "metadata": {
    "ExecuteTime": {
     "end_time": "2024-02-28T00:08:27.255387Z",
     "start_time": "2024-02-28T00:08:26.334403Z"
    },
    "collapsed": false
   },
   "outputs": [
    {
     "name": "stdout",
     "output_type": "stream",
     "text": [
      "최적의 n_neighbors : 38\n",
      "maximum test score : 0.3601161005853817\n"
     ]
    },
    {
     "data": {
      "image/png": "[encoded data removed]",
      "text/plain": [
       "<Figure size 640x480 with 1 Axes>"
      ]
     },
     "metadata": {},
     "output_type": "display_data"
    }
   ],
   "source": [
    "# 이상치를 제거했을 때\n",
    "# : remove_feature, remove_target\n",
    "X_train, X_test, y_train, y_test = train_test_split(remove_feature, remove_target, test_size=0.3, random_state=42)\n",
    "\n",
    "# 5-1. 최적의 n_neighbors 찾기\n",
    "train_scores, test_scores = [], []\n",
    "for k in range(1, 100):\n",
    "    knn = KNeighborsRegressor(n_neighbors=k)\n",
    "    knn.fit(X_train, y_train)\n",
    "    train_scores.append(knn.score(X_train, y_train))\n",
    "    test_scores.append(knn.score(X_test, y_test))\n",
    "\n",
    "# 최적의 n_neighbors 찾기\n",
    "k = test_scores.index(max(test_scores))\n",
    "print(f'최적의 n_neighbors : {k}')\n",
    "print('maximum test score :', max(test_scores))\n",
    "\n",
    "# 그래프 그리기\n",
    "plt.plot(range(1, 100), train_scores, label='train scores')\n",
    "plt.plot(range(1, 100), test_scores, label='test scores')\n",
    "plt.xlabel('n_neighbors')\n",
    "plt.ylabel('test score')\n",
    "plt.legend()\n",
    "plt.grid()\n",
    "plt.show()"
   ]
  },
  {
   "cell_type": "code",
   "execution_count": 17,
   "id": "b995cdee23982c4c",
   "metadata": {
    "ExecuteTime": {
     "end_time": "2024-02-28T00:08:27.270820Z",
     "start_time": "2024-02-28T00:08:27.259103Z"
    },
    "collapsed": false
   },
   "outputs": [],
   "source": [
    "# 이상치 제거 시 최대 score가 0.36으로 감소"
   ]
  },
  {
   "cell_type": "code",
   "execution_count": 18,
   "id": "7ce085c63d01affa",
   "metadata": {
    "ExecuteTime": {
     "end_time": "2024-02-28T00:08:27.286813Z",
     "start_time": "2024-02-28T00:08:27.272821Z"
    },
    "collapsed": false
   },
   "outputs": [],
   "source": [
    "# 주영: random_state 를 바꿔가며 가장 높은 점수를 찾기\n"
   ]
  },
  {
   "cell_type": "code",
   "execution_count": 19,
   "id": "803d168b",
   "metadata": {},
   "outputs": [],
   "source": [
    "# pipeline 실행\n",
    "from sklearn.pipeline import make_pipeline\n"
   ]
  },
  {
   "cell_type": "code",
   "execution_count": 21,
   "id": "c65da69b",
   "metadata": {},
   "outputs": [
    {
     "data": {
      "text/plain": [
       "array([ 72.,  96., 275., 214., 140.,  88.,  69., 140.,  51., 248., 182.,\n",
       "       101.,  96., 103.,  77.,  55., 232.,  55., 102., 150., 220., 220.,\n",
       "        72., 150., 182.,  48., 155.,  91., 275., 140., 217.,  94.,  94.,\n",
       "        71.,  42.,  91.,  47., 115.,  84., 202., 113., 200.,  89., 237.,\n",
       "       131.,  72., 118.,  91., 101., 308.,  91.,  91., 150., 178., 259.,\n",
       "       128.,  91., 275.,  65.,  96.,  91., 134., 137., 144., 155., 258.,\n",
       "       101., 173., 118., 104.,  39., 182., 220., 116.,  65., 131., 129.,\n",
       "       128., 101., 180., 248., 140., 214.,  87.,  51., 116.,  91., 131.,\n",
       "       202., 230., 259., 182., 118., 178., 275., 128., 109., 128.,  96.,\n",
       "       150.,  99.,  99.,  71., 263.,  90.,  48., 202.,  91., 230., 128.,\n",
       "       258., 200., 103., 150., 220.,  77., 178.,  95., 113.,  91., 128.,\n",
       "        63., 109., 185., 140.,  80., 128.,  89., 268.,  72., 128.])"
      ]
     },
     "execution_count": 21,
     "metadata": {},
     "output_type": "execute_result"
    }
   ],
   "source": [
    "from sklearn.pipeline import Pipeline\n",
    "from sklearn.preprocessing import StandardScaler\n",
    "from sklearn.linear_model import LogisticRegression\n",
    "\n",
    "# Define the pipeline steps\n",
    "pipeline_steps = [\n",
    "    ('scaler', StandardScaler()),\n",
    "    ('classifier', LogisticRegression())\n",
    "]\n",
    "\n",
    "# Create the pipeline\n",
    "make_pipeline = Pipeline(pipeline_steps)\n",
    "\n",
    "# Train the pipeline\n",
    "make_pipeline.fit(X_train, y_train)\n",
    "\n",
    "# Make predictions using the pipeline\n",
    "predictions = make_pipeline.predict(X_test)\n",
    "predictions"
   ]
  },
  {
   "cell_type": "code",
   "execution_count": null,
   "id": "9341f19a",
   "metadata": {},
   "outputs": [],
   "source": []
  }
 ],
 "metadata": {
  "kernelspec": {
   "display_name": "Python 3",
   "language": "python",
   "name": "python3"
  },
  "language_info": {
   "codemirror_mode": {
    "name": "ipython",
    "version": 3
   },
   "file_extension": ".py",
   "mimetype": "text/x-python",
   "name": "python",
   "nbconvert_exporter": "python",
   "pygments_lexer": "ipython3",
   "version": "3.9.18"
  }
 },
 "nbformat": 4,
 "nbformat_minor": 5
}
