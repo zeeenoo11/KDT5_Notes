{
 "cells": [
  {
   "cell_type": "markdown",
   "id": "eb49369117028fdf",
   "metadata": {
    "collapsed": false
   },
   "source": [
    "### 이상치 데이터 처리\n",
    "- 피처/특성에 데이터 값의 범위를 벗어나는 데이터를 의미  "
   ]
  },
  {
   "cell_type": "markdown",
   "id": "519d8fe7adfbfa4d",
   "metadata": {
    "collapsed": false
   },
   "source": [
    "- 종류 : 잘못 입력된 경우와 자연적으로 생성된 경우  \n",
    "1) 잘못 입력된 데이터 : 입력 시 오타              => 제거 또는 대체\n",
    "2) 자연 생성 데이터   : 연봉, 키, 몸무게, 나이    => 분리해서 전용 모델/식별용 피쳐로 전환\n",
    "\n",
    "- 탐지  \n",
    "1) 시각화 확인  \n",
    "2) 데이터의 분포를 확인 : Z-score / IQR (Turkey Fences)\n",
    "\n",
    "- 처리\n",
    "1) 삭제 / 대체 / 분리 모델 / 파생 변수 추가"
   ]
  },
  {
   "cell_type": "markdown",
   "id": "9ba657e262c4f766",
   "metadata": {
    "collapsed": false
   },
   "source": [
    "긱스 최고 - 굿  \n",
    "Z-score는 표준 정규분포 분석에서 사용되는 지표입니다.   \n",
    "표준 정규분포에서, 첨보값은 평균(μ)에서 deviation(표준편차)만큼 떨어져 있습니다.   \n",
    "따라서 Z-score는 해당 값을 평균 1σ 범위 내에 벗어나는 것으로 표시합니다."
   ]
  },
  {
   "cell_type": "markdown",
   "id": "21ba72ffd9a548f4",
   "metadata": {
    "collapsed": false
   },
   "source": [
    "분리하기\n",
    "예) 연봉이 2000, 3000, ... 중에 100,000 이 있을 때\n",
    "    해당 특수한 경우만 0, 1 로 구분하는 피처 생성"
   ]
  },
  {
   "cell_type": "code",
   "execution_count": 21,
   "id": "1ed6821fe14f4351",
   "metadata": {
    "ExecuteTime": {
     "end_time": "2024-02-28T01:08:17.873541Z",
     "start_time": "2024-02-28T01:08:17.856697Z"
    },
    "collapsed": false
   },
   "outputs": [
    {
     "name": "stdout",
     "output_type": "stream",
     "text": [
      "<class 'pandas.core.frame.DataFrame'>\n",
      "RangeIndex: 11 entries, 0 to 10\n",
      "Data columns (total 1 columns):\n",
      " #   Column  Non-Null Count  Dtype\n",
      "---  ------  --------------  -----\n",
      " 0   num     11 non-null     int64\n",
      "dtypes: int64(1)\n",
      "memory usage: 216.0 bytes\n"
     ]
    }
   ],
   "source": [
    "# 0. 준비하기\n",
    "import pandas as pd\n",
    "import matplotlib.pyplot as plt\n",
    "\n",
    "dataDF = pd.DataFrame({'num':[1,4,3,2,4,5,-14,2,1,15,2]})\n",
    "dataDF.info()"
   ]
  },
  {
   "cell_type": "code",
   "execution_count": 22,
   "id": "eb2d000032231fc0",
   "metadata": {
    "ExecuteTime": {
     "end_time": "2024-02-28T01:08:18.024131Z",
     "start_time": "2024-02-28T01:08:17.929613Z"
    },
    "collapsed": false
   },
   "outputs": [
    {
     "data": {
      "image/png": "[encoded data removed]",
      "text/plain": [
       "<Figure size 640x480 with 1 Axes>"
      ]
     },
     "metadata": {},
     "output_type": "display_data"
    }
   ],
   "source": [
    "# 1. 데이터 전처리\n",
    "# 1-1. 데이터 확인\n",
    "plt.plot(dataDF, 'bo')\n",
    "plt.title('Data Distribution')\n",
    "plt.show()      # 15, -14 두 값이 크게 벗어난다."
   ]
  },
  {
   "cell_type": "code",
   "execution_count": 23,
   "id": "2024ee78b3564ff1",
   "metadata": {
    "ExecuteTime": {
     "end_time": "2024-02-28T01:08:18.130332Z",
     "start_time": "2024-02-28T01:08:18.025130Z"
    },
    "collapsed": false
   },
   "outputs": [
    {
     "data": {
      "image/png": "[encoded data removed]",
      "text/plain": [
       "<Figure size 640x480 with 1 Axes>"
      ]
     },
     "metadata": {},
     "output_type": "display_data"
    }
   ],
   "source": [
    "# 히스토그램으로 확인하기\n",
    "plt.hist(dataDF['num'], bins=10)\n",
    "plt.title('Data Distribution')\n",
    "plt.show()      # 양 끝단은 버릴 것"
   ]
  },
  {
   "cell_type": "code",
   "execution_count": 24,
   "id": "a9229d788d870e42",
   "metadata": {
    "ExecuteTime": {
     "end_time": "2024-02-28T01:08:18.145841Z",
     "start_time": "2024-02-28T01:08:18.131337Z"
    },
    "collapsed": false
   },
   "outputs": [
    {
     "data": {
      "text/plain": [
       "num    0\n",
       "dtype: int64"
      ]
     },
     "execution_count": 24,
     "metadata": {},
     "output_type": "execute_result"
    }
   ],
   "source": [
    "# 2-2. 불필요 데이터 체크 => 결측치, 이상치\n",
    "# 결측치\n",
    "dataDF.isnull().sum()"
   ]
  },
  {
   "cell_type": "code",
   "execution_count": 25,
   "id": "5c9acdced6c0a7ab",
   "metadata": {
    "ExecuteTime": {
     "end_time": "2024-02-28T01:08:18.160865Z",
     "start_time": "2024-02-28T01:08:18.147845Z"
    },
    "collapsed": false
   },
   "outputs": [],
   "source": [
    "# 이상치 탐지 : 방법 1 - 평균과 편차를 이용한 탐지 : Z-score\n",
    "# Z-score = (데이터 - 평균)/표준편차\n",
    "mean_val = dataDF['num'].mean()\n",
    "std_val = dataDF['num'].std()\n",
    "\n",
    "z_data = ((dataDF - mean_val) / std_val)"
   ]
  },
  {
   "cell_type": "code",
   "execution_count": 33,
   "id": "fb36521a7c114c78",
   "metadata": {
    "ExecuteTime": {
     "end_time": "2024-02-28T01:11:22.778347Z",
     "start_time": "2024-02-28T01:11:22.763345Z"
    },
    "collapsed": false
   },
   "outputs": [
    {
     "data": {
      "text/html": [
       "<div>\n",
       "<style scoped>\n",
       "    .dataframe tbody tr th:only-of-type {\n",
       "        vertical-align: middle;\n",
       "    }\n",
       "\n",
       "    .dataframe tbody tr th {\n",
       "        vertical-align: top;\n",
       "    }\n",
       "\n",
       "    .dataframe thead th {\n",
       "        text-align: right;\n",
       "    }\n",
       "</style>\n",
       "<table border=\"1\" class=\"dataframe\">\n",
       "  <thead>\n",
       "    <tr style=\"text-align: right;\">\n",
       "      <th></th>\n",
       "      <th>num</th>\n",
       "    </tr>\n",
       "  </thead>\n",
       "  <tbody>\n",
       "    <tr>\n",
       "      <th>0</th>\n",
       "      <td>1.0</td>\n",
       "    </tr>\n",
       "    <tr>\n",
       "      <th>1</th>\n",
       "      <td>4.0</td>\n",
       "    </tr>\n",
       "    <tr>\n",
       "      <th>2</th>\n",
       "      <td>3.0</td>\n",
       "    </tr>\n",
       "    <tr>\n",
       "      <th>3</th>\n",
       "      <td>2.0</td>\n",
       "    </tr>\n",
       "    <tr>\n",
       "      <th>4</th>\n",
       "      <td>4.0</td>\n",
       "    </tr>\n",
       "    <tr>\n",
       "      <th>5</th>\n",
       "      <td>5.0</td>\n",
       "    </tr>\n",
       "    <tr>\n",
       "      <th>6</th>\n",
       "      <td>NaN</td>\n",
       "    </tr>\n",
       "    <tr>\n",
       "      <th>7</th>\n",
       "      <td>2.0</td>\n",
       "    </tr>\n",
       "    <tr>\n",
       "      <th>8</th>\n",
       "      <td>1.0</td>\n",
       "    </tr>\n",
       "    <tr>\n",
       "      <th>9</th>\n",
       "      <td>NaN</td>\n",
       "    </tr>\n",
       "    <tr>\n",
       "      <th>10</th>\n",
       "      <td>2.0</td>\n",
       "    </tr>\n",
       "  </tbody>\n",
       "</table>\n",
       "</div>"
      ],
      "text/plain": [
       "    num\n",
       "0   1.0\n",
       "1   4.0\n",
       "2   3.0\n",
       "3   2.0\n",
       "4   4.0\n",
       "5   5.0\n",
       "6   NaN\n",
       "7   2.0\n",
       "8   1.0\n",
       "9   NaN\n",
       "10  2.0"
      ]
     },
     "execution_count": 33,
     "metadata": {},
     "output_type": "execute_result"
    }
   ],
   "source": [
    "# 양끝단 제거를 위한 기준값 => 1.0\n",
    "base = 1.0\n",
    "mask = z_data.abs() > base\n",
    "dataDF[~mask]"
   ]
  },
  {
   "cell_type": "code",
   "execution_count": 41,
   "id": "8dfa42fe2eca3d05",
   "metadata": {
    "ExecuteTime": {
     "end_time": "2024-02-28T01:14:14.815726Z",
     "start_time": "2024-02-28T01:14:14.798728Z"
    },
    "collapsed": false
   },
   "outputs": [
    {
     "data": {
      "text/html": [
       "<div>\n",
       "<style scoped>\n",
       "    .dataframe tbody tr th:only-of-type {\n",
       "        vertical-align: middle;\n",
       "    }\n",
       "\n",
       "    .dataframe tbody tr th {\n",
       "        vertical-align: top;\n",
       "    }\n",
       "\n",
       "    .dataframe thead th {\n",
       "        text-align: right;\n",
       "    }\n",
       "</style>\n",
       "<table border=\"1\" class=\"dataframe\">\n",
       "  <thead>\n",
       "    <tr style=\"text-align: right;\">\n",
       "      <th></th>\n",
       "      <th>num</th>\n",
       "    </tr>\n",
       "  </thead>\n",
       "  <tbody>\n",
       "    <tr>\n",
       "      <th>0</th>\n",
       "      <td>1.0</td>\n",
       "    </tr>\n",
       "    <tr>\n",
       "      <th>1</th>\n",
       "      <td>4.0</td>\n",
       "    </tr>\n",
       "    <tr>\n",
       "      <th>2</th>\n",
       "      <td>3.0</td>\n",
       "    </tr>\n",
       "    <tr>\n",
       "      <th>3</th>\n",
       "      <td>2.0</td>\n",
       "    </tr>\n",
       "    <tr>\n",
       "      <th>4</th>\n",
       "      <td>4.0</td>\n",
       "    </tr>\n",
       "    <tr>\n",
       "      <th>5</th>\n",
       "      <td>5.0</td>\n",
       "    </tr>\n",
       "    <tr>\n",
       "      <th>7</th>\n",
       "      <td>2.0</td>\n",
       "    </tr>\n",
       "    <tr>\n",
       "      <th>8</th>\n",
       "      <td>1.0</td>\n",
       "    </tr>\n",
       "    <tr>\n",
       "      <th>10</th>\n",
       "      <td>2.0</td>\n",
       "    </tr>\n",
       "  </tbody>\n",
       "</table>\n",
       "</div>"
      ],
      "text/plain": [
       "    num\n",
       "0   1.0\n",
       "1   4.0\n",
       "2   3.0\n",
       "3   2.0\n",
       "4   4.0\n",
       "5   5.0\n",
       "7   2.0\n",
       "8   1.0\n",
       "10  2.0"
      ]
     },
     "execution_count": 41,
     "metadata": {},
     "output_type": "execute_result"
    }
   ],
   "source": [
    "dataDF[~mask].dropna()  # 2 행 삭제\n",
    "# inplace 가 안 먹힘 - 그치 ㄴㄷ"
   ]
  },
  {
   "cell_type": "code",
   "execution_count": 53,
   "id": "8a7a42b0444538eb",
   "metadata": {
    "ExecuteTime": {
     "end_time": "2024-02-28T01:48:18.603733Z",
     "start_time": "2024-02-28T01:48:18.591222Z"
    },
    "collapsed": false
   },
   "outputs": [
    {
     "data": {
      "text/plain": [
       "(num    1.5\n",
       " Name: 0.25, dtype: float64,\n",
       " num    4.0\n",
       " Name: 0.75, dtype: float64,\n",
       " num    2.5\n",
       " dtype: float64,\n",
       " num   -2.25\n",
       " dtype: float64,\n",
       " num    7.75\n",
       " dtype: float64)"
      ]
     },
     "execution_count": 53,
     "metadata": {},
     "output_type": "execute_result"
    }
   ],
   "source": [
    "# 이상치 탐지 - 방법 2 : 데이터를 4등분해서 가운데 데이터를 기준으로 이상치 탐지\n",
    "threshold = 1.5\n",
    "Q1 = dataDF.quantile(0.25)\n",
    "Q3 = dataDF.quantile(0.75)\n",
    "\n",
    "IQR = Q3 - Q1\n",
    "lower_bound = Q1 - threshold * IQR\n",
    "upper_bound = Q3 + threshold * IQR\n",
    "\n",
    "Q1, Q3, IQR, lower_bound, upper_bound"
   ]
  },
  {
   "cell_type": "code",
   "execution_count": 45,
   "id": "f356ae04a211a02a",
   "metadata": {
    "ExecuteTime": {
     "end_time": "2024-02-28T01:24:32.577201Z",
     "start_time": "2024-02-28T01:24:32.515613Z"
    },
    "collapsed": false
   },
   "outputs": [
    {
     "data": {
      "image/png": "[encoded data removed]",
      "text/plain": [
       "<Figure size 640x480 with 1 Axes>"
      ]
     },
     "metadata": {},
     "output_type": "display_data"
    }
   ],
   "source": [
    "bp_obj = plt.boxplot(dataDF['num'], vert=False)\n",
    "plt.show()"
   ]
  },
  {
   "cell_type": "code",
   "execution_count": null,
   "id": "d9c980dccb0c61c1",
   "metadata": {
    "collapsed": false
   },
   "outputs": [],
   "source": []
  },
  {
   "cell_type": "code",
   "execution_count": 50,
   "id": "4c9993dbb34d7741",
   "metadata": {
    "ExecuteTime": {
     "end_time": "2024-02-28T01:46:45.608736Z",
     "start_time": "2024-02-28T01:46:45.590716Z"
    },
    "collapsed": false
   },
   "outputs": [
    {
     "data": {
      "text/plain": [
       "[<matplotlib.lines.Line2D at 0x1bfbb0f1670>,\n",
       " <matplotlib.lines.Line2D at 0x1bfbb0f1910>]"
      ]
     },
     "execution_count": 50,
     "metadata": {},
     "output_type": "execute_result"
    }
   ],
   "source": [
    "# boxplot의 반환값은 리스트로 나옴\n",
    "bp_obj.keys()   # ['whiskers', 'caps', 'boxes', 'medians', 'fliers', 'means']\n",
    "bp_obj['whiskers']  # 얘가 1.5*IQR 범위"
   ]
  },
  {
   "cell_type": "markdown",
   "id": "a2406d594f27bf9c",
   "metadata": {
    "collapsed": false
   },
   "source": [
    "boxes: the main body of the boxplot showing the quartiles and the median's confidence intervals if enabled.\n",
    "medians: horizontal lines at the median of each box.\n",
    "whiskers: the vertical lines extending to the most extreme, non-outlier data points.\n",
    "caps: the horizontal lines at the ends of the whiskers.\n",
    "fliers: points representing data that extend beyond the whiskers (fliers).\n",
    "means: points or lines representing the means."
   ]
  },
  {
   "cell_type": "code",
   "execution_count": 58,
   "id": "c6ab95649709d526",
   "metadata": {
    "ExecuteTime": {
     "end_time": "2024-02-28T01:58:04.370824Z",
     "start_time": "2024-02-28T01:58:04.357805Z"
    },
    "collapsed": false
   },
   "outputs": [
    {
     "data": {
      "text/plain": [
       "(array([1, 1]), array([1, 1]))"
      ]
     },
     "execution_count": 58,
     "metadata": {},
     "output_type": "execute_result"
    }
   ],
   "source": [
    "bp_obj['whiskers'][0].get_ydata(), bp_obj['whiskers'][1].get_ydata()   # 하위 25%, 상위 25%"
   ]
  },
  {
   "cell_type": "code",
   "execution_count": 56,
   "id": "f998b76896b23a97",
   "metadata": {
    "ExecuteTime": {
     "end_time": "2024-02-28T01:53:39.388462Z",
     "start_time": "2024-02-28T01:53:39.378463Z"
    },
    "collapsed": false
   },
   "outputs": [
    {
     "data": {
      "text/plain": [
       "array([0.925, 1.075, 1.075, 0.925, 0.925])"
      ]
     },
     "execution_count": 56,
     "metadata": {},
     "output_type": "execute_result"
    }
   ],
   "source": [
    "bp_obj['boxes'][0].get_ydata(), bp_obj['boxes'][1].get_ydata()"
   ]
  },
  {
   "cell_type": "code",
   "execution_count": null,
   "id": "e0486b540a87e069",
   "metadata": {
    "collapsed": false
   },
   "outputs": [],
   "source": [
    "# 함수를 만들어두기\n",
    "## boxes는 뭐줌?"
   ]
  },
  {
   "cell_type": "code",
   "execution_count": 26,
   "id": "5715e5362024b3b",
   "metadata": {
    "ExecuteTime": {
     "end_time": "2024-02-28T01:08:18.190846Z",
     "start_time": "2024-02-28T01:08:18.177848Z"
    },
    "collapsed": false
   },
   "outputs": [],
   "source": []
  },
  {
   "cell_type": "markdown",
   "id": "ff15bba63e32ed8d",
   "metadata": {
    "collapsed": false
   },
   "source": [
    "히히 ㅈ ㅔ 욕리스트에 머 적으려고 햇서요?ㅠ\n",
    "그zz냥 욕 한 걸 모아둘랬는디 \n",
    "뭘 확인해요 내가 복붙한건데 ㅋㅋㅋㅋㅋㅋㅋㅋ\n",
    "긱스가 한줄 아나 네 - 내가 전진우 전용 긱스  ㅇㅈ \n",
    "세상 당황\n",
    "저걸 어떻게 맞췄지?>?> 했음  개웃기네\n",
    "에휴 진짜 교수 진짜 민폐 개쩐다 그러고 돈받아간게 레전드 마지막 날까지 쳐잔것도 ㄱ레전드네\n",
    "쉬는시간 달라ㅜ  ㅋㅋㅋㅋㅋㅋㅋ 목소리 죽을라하노\n",
    "왜 보세용 ㄷ 승민씨 오점뭐 죽이나 드세요  헐 .... 오좀 봐요 ㅋㅋㅋㅋㅋㅋㅋ��점 링거\n",
    " "
   ]
  }
 ],
 "metadata": {
  "kernelspec": {
   "display_name": "Python 3",
   "language": "python",
   "name": "python3"
  },
  "language_info": {
   "codemirror_mode": {
    "name": "ipython",
    "version": 2
   },
   "file_extension": ".py",
   "mimetype": "text/x-python",
   "name": "python",
   "nbconvert_exporter": "python",
   "pygments_lexer": "ipython2",
   "version": "2.7.6"
  }
 },
 "nbformat": 4,
 "nbformat_minor": 5
}
