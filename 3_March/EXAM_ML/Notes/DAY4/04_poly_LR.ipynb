{
 "cells": [
  {
   "cell_type": "markdown",
   "id": "923ffaf54a786fbf",
   "metadata": {
    "collapsed": false
   },
   "source": [
    "### 목표 : 선형회귀 -> 곡선 회귀 (다항 회귀)\n",
    "- 특성공학 -> 피처 추출/선택/생성\n",
    "- 비선형의 데이터에 대한 피처 생성 => 곡선 형태의 회귀선 수식\n",
    "- 모듈 : sklearn.preprocessing 내에 포함\n",
    "- Data : fish.csv\n",
    "- feature : Perch Height, Length, Width\n",
    "- target : Weight\n",
    "- 학습 유형 : 지도학습"
   ]
  },
  {
   "cell_type": "code",
   "execution_count": 57,
   "id": "f2d8b673",
   "metadata": {},
   "outputs": [],
   "source": [
    "import pandas as pd\n",
    "import numpy as np\n",
    "import matplotlib.pyplot as plt\n",
    "import seaborn as sns\n",
    "from sklearn.linear_model import LinearRegression\n",
    "from sklearn.metrics import mean_squared_error, mean_absolute_error, r2_score\n",
    "from sklearn.preprocessing import StandardScaler, MinMaxScaler, RobustScaler\n",
    "from sklearn.preprocessing import PolynomialFeatures\n",
    "from sklearn.model_selection import train_test_split\n"
   ]
  },
  {
   "cell_type": "markdown",
   "id": "732294f6",
   "metadata": {},
   "source": [
    "1. 전처리 피처 조합 생성 살펴보기"
   ]
  },
  {
   "cell_type": "code",
   "execution_count": 58,
   "id": "initial_id",
   "metadata": {
    "collapsed": true
   },
   "outputs": [
    {
     "data": {
      "text/html": [
       "<style>#sk-container-id-4 {color: black;}#sk-container-id-4 pre{padding: 0;}#sk-container-id-4 div.sk-toggleable {background-color: white;}#sk-container-id-4 label.sk-toggleable__label {cursor: pointer;display: block;width: 100%;margin-bottom: 0;padding: 0.3em;box-sizing: border-box;text-align: center;}#sk-container-id-4 label.sk-toggleable__label-arrow:before {content: \"▸\";float: left;margin-right: 0.25em;color: #696969;}#sk-container-id-4 label.sk-toggleable__label-arrow:hover:before {color: black;}#sk-container-id-4 div.sk-estimator:hover label.sk-toggleable__label-arrow:before {color: black;}#sk-container-id-4 div.sk-toggleable__content {max-height: 0;max-width: 0;overflow: hidden;text-align: left;background-color: #f0f8ff;}#sk-container-id-4 div.sk-toggleable__content pre {margin: 0.2em;color: black;border-radius: 0.25em;background-color: #f0f8ff;}#sk-container-id-4 input.sk-toggleable__control:checked~div.sk-toggleable__content {max-height: 200px;max-width: 100%;overflow: auto;}#sk-container-id-4 input.sk-toggleable__control:checked~label.sk-toggleable__label-arrow:before {content: \"▾\";}#sk-container-id-4 div.sk-estimator input.sk-toggleable__control:checked~label.sk-toggleable__label {background-color: #d4ebff;}#sk-container-id-4 div.sk-label input.sk-toggleable__control:checked~label.sk-toggleable__label {background-color: #d4ebff;}#sk-container-id-4 input.sk-hidden--visually {border: 0;clip: rect(1px 1px 1px 1px);clip: rect(1px, 1px, 1px, 1px);height: 1px;margin: -1px;overflow: hidden;padding: 0;position: absolute;width: 1px;}#sk-container-id-4 div.sk-estimator {font-family: monospace;background-color: #f0f8ff;border: 1px dotted black;border-radius: 0.25em;box-sizing: border-box;margin-bottom: 0.5em;}#sk-container-id-4 div.sk-estimator:hover {background-color: #d4ebff;}#sk-container-id-4 div.sk-parallel-item::after {content: \"\";width: 100%;border-bottom: 1px solid gray;flex-grow: 1;}#sk-container-id-4 div.sk-label:hover label.sk-toggleable__label {background-color: #d4ebff;}#sk-container-id-4 div.sk-serial::before {content: \"\";position: absolute;border-left: 1px solid gray;box-sizing: border-box;top: 0;bottom: 0;left: 50%;z-index: 0;}#sk-container-id-4 div.sk-serial {display: flex;flex-direction: column;align-items: center;background-color: white;padding-right: 0.2em;padding-left: 0.2em;position: relative;}#sk-container-id-4 div.sk-item {position: relative;z-index: 1;}#sk-container-id-4 div.sk-parallel {display: flex;align-items: stretch;justify-content: center;background-color: white;position: relative;}#sk-container-id-4 div.sk-item::before, #sk-container-id-4 div.sk-parallel-item::before {content: \"\";position: absolute;border-left: 1px solid gray;box-sizing: border-box;top: 0;bottom: 0;left: 50%;z-index: -1;}#sk-container-id-4 div.sk-parallel-item {display: flex;flex-direction: column;z-index: 1;position: relative;background-color: white;}#sk-container-id-4 div.sk-parallel-item:first-child::after {align-self: flex-end;width: 50%;}#sk-container-id-4 div.sk-parallel-item:last-child::after {align-self: flex-start;width: 50%;}#sk-container-id-4 div.sk-parallel-item:only-child::after {width: 0;}#sk-container-id-4 div.sk-dashed-wrapped {border: 1px dashed gray;margin: 0 0.4em 0.5em 0.4em;box-sizing: border-box;padding-bottom: 0.4em;background-color: white;}#sk-container-id-4 div.sk-label label {font-family: monospace;font-weight: bold;display: inline-block;line-height: 1.2em;}#sk-container-id-4 div.sk-label-container {text-align: center;}#sk-container-id-4 div.sk-container {/* jupyter's `normalize.less` sets `[hidden] { display: none; }` but bootstrap.min.css set `[hidden] { display: none !important; }` so we also need the `!important` here to be able to override the default hidden behavior on the sphinx rendered scikit-learn.org. See: https://github.com/scikit-learn/scikit-learn/issues/21755 */display: inline-block !important;position: relative;}#sk-container-id-4 div.sk-text-repr-fallback {display: none;}</style><div id=\"sk-container-id-4\" class=\"sk-top-container\"><div class=\"sk-text-repr-fallback\"><pre>PolynomialFeatures()</pre><b>In a Jupyter environment, please rerun this cell to show the HTML representation or trust the notebook. <br />On GitHub, the HTML representation is unable to render, please try loading this page with nbviewer.org.</b></div><div class=\"sk-container\" hidden><div class=\"sk-item\"><div class=\"sk-estimator sk-toggleable\"><input class=\"sk-toggleable__control sk-hidden--visually\" id=\"sk-estimator-id-4\" type=\"checkbox\" checked><label for=\"sk-estimator-id-4\" class=\"sk-toggleable__label sk-toggleable__label-arrow\">PolynomialFeatures</label><div class=\"sk-toggleable__content\"><pre>PolynomialFeatures()</pre></div></div></div></div></div>"
      ],
      "text/plain": [
       "PolynomialFeatures()"
      ]
     },
     "execution_count": 58,
     "metadata": {},
     "output_type": "execute_result"
    }
   ],
   "source": [
    "# 인스턴스 생성\n",
    "poly = PolynomialFeatures()\n",
    "# degree : 차원 설정\n",
    "# order : 메모리에 저장되는 순서\n",
    "# include_bias = False -> 1 빼기\n",
    "\n",
    "poly.fit([[2,3]])"
   ]
  },
  {
   "cell_type": "code",
   "execution_count": 59,
   "id": "210847d4",
   "metadata": {},
   "outputs": [
    {
     "data": {
      "text/plain": [
       "array([[1., 2., 3., 4., 6., 9.]])"
      ]
     },
     "execution_count": 59,
     "metadata": {},
     "output_type": "execute_result"
    }
   ],
   "source": [
    "poly.transform([[2,3]])"
   ]
  },
  {
   "cell_type": "code",
   "execution_count": 60,
   "id": "fb7a46dd",
   "metadata": {},
   "outputs": [
    {
     "data": {
      "text/plain": [
       "array(['1', 'x0', 'x1', 'x0^2', 'x0 x1', 'x1^2'], dtype=object)"
      ]
     },
     "execution_count": 60,
     "metadata": {},
     "output_type": "execute_result"
    }
   ],
   "source": [
    "poly.get_feature_names_out() # 피쳐 이름"
   ]
  },
  {
   "cell_type": "markdown",
   "id": "a15ebebc",
   "metadata": {},
   "source": [
    "2. Perch 데이터를 최대한 만족하는 회귀선 찾기"
   ]
  },
  {
   "cell_type": "code",
   "execution_count": 61,
   "id": "72c437d4",
   "metadata": {},
   "outputs": [
    {
     "name": "stdout",
     "output_type": "stream",
     "text": [
      "<class 'pandas.core.frame.DataFrame'>\n",
      "RangeIndex: 159 entries, 0 to 158\n",
      "Data columns (total 5 columns):\n",
      " #   Column   Non-Null Count  Dtype  \n",
      "---  ------   --------------  -----  \n",
      " 0   Species  159 non-null    object \n",
      " 1   Weight   159 non-null    float64\n",
      " 2   Length   159 non-null    float64\n",
      " 3   Height   159 non-null    float64\n",
      " 4   Width    159 non-null    float64\n",
      "dtypes: float64(4), object(1)\n",
      "memory usage: 6.3+ KB\n"
     ]
    }
   ],
   "source": [
    "# 1. 데이터 준비\n",
    "dataDF = pd.read_csv('../DATA/fish.csv', usecols=[0,1,2,4,5])\n",
    "dataDF.info()"
   ]
  },
  {
   "cell_type": "code",
   "execution_count": 62,
   "id": "2b27083f",
   "metadata": {},
   "outputs": [
    {
     "data": {
      "text/plain": [
       "(  Species  Weight  Length  Height   Width\n",
       " 0   Perch     5.9     8.4  2.1120  1.4080\n",
       " 1   Perch    32.0    13.7  3.5280  1.9992\n",
       " 2   Perch    40.0    15.0  3.8240  2.4320\n",
       " 3   Perch    51.5    16.2  4.5924  2.6316\n",
       " 4   Perch    70.0    17.4  4.5880  2.9415,\n",
       "    Species  Weight  Length   Height   Width\n",
       " 51   Perch  1100.0    42.0  12.8002  6.8684\n",
       " 52   Perch  1000.0    43.0  11.9328  7.2772\n",
       " 53   Perch  1100.0    43.0  12.5125  7.4165\n",
       " 54   Perch  1000.0    43.5  12.6040  8.1420\n",
       " 55   Perch  1000.0    44.0  12.4888  7.5958)"
      ]
     },
     "execution_count": 62,
     "metadata": {},
     "output_type": "execute_result"
    }
   ],
   "source": [
    "# perch만 추출\n",
    "perchDF = dataDF[dataDF['Species']=='Perch']\n",
    "perchDF.reset_index(drop=True, inplace=True)\n",
    "perchDF.head(), perchDF.tail()"
   ]
  },
  {
   "cell_type": "code",
   "execution_count": 63,
   "id": "cf5521bd",
   "metadata": {},
   "outputs": [
    {
     "data": {
      "text/plain": [
       "0"
      ]
     },
     "execution_count": 63,
     "metadata": {},
     "output_type": "execute_result"
    }
   ],
   "source": [
    "# 2. 데이터 확인\n",
    "# - 학습 유형 결정을 위한 단계\n",
    "# - 피처 스케일링 진행 여부 체크\n",
    "\n",
    "# 2-1. 중복값, 결측치, 이상치 확인\n",
    "# 1) 결측치 확인\n",
    "perchDF.isnull().sum()  # 모두 0\n",
    "# 2) 중복값 확인\n",
    "perchDF.duplicated().sum()  # 0"
   ]
  },
  {
   "cell_type": "code",
   "execution_count": 67,
   "id": "6275469f",
   "metadata": {},
   "outputs": [
    {
     "data": {
      "image/png": "[encoded data removed]",
      "text/plain": [
       "<Figure size 1000x300 with 4 Axes>"
      ]
     },
     "metadata": {},
     "output_type": "display_data"
    }
   ],
   "source": [
    "# 3) 이상치 확인\n",
    "plt.figure(figsize=(10,3))\n",
    "for col in range(1, len(perchDF.columns)):\n",
    "    plt.subplot(1,4,col)\n",
    "    plt.boxplot(perchDF.iloc[:,col])\n",
    "    plt.xticks([])\n",
    "    plt.xlabel(perchDF.columns[col])\n",
    "plt.tight_layout()\n",
    "plt.show()  # 이상치가 보이진 않음"
   ]
  },
  {
   "cell_type": "code",
   "execution_count": null,
   "id": "0325f2f1",
   "metadata": {},
   "outputs": [],
   "source": []
  },
  {
   "cell_type": "code",
   "execution_count": 75,
   "id": "023d5538",
   "metadata": {},
   "outputs": [],
   "source": [
    "# 3. 스케일링\n",
    "# : 네 피처의 값의 범위가 크게 차이나므로 정규화 진행\n",
    "#   스케일러의 종류 : StandardScaler, MinMaxScaler, RobustScaler\n",
    "# - 어떤 스케일러가 좋을지 판단하기\n",
    "\n",
    "# 1) feature 와 target 구분\n",
    "featureDF = perchDF.iloc[:,1:]\n",
    "targetSR = perchDF.iloc[:,0]\n",
    "\n",
    "# 2) train, test 분리\n",
    "X_train, X_test, y_train, y_test = train_test_split(featureDF, targetSR, test_size=0.3, random_state=123)"
   ]
  },
  {
   "cell_type": "code",
   "execution_count": 76,
   "id": "21ca2c93",
   "metadata": {},
   "outputs": [
    {
     "name": "stdout",
     "output_type": "stream",
     "text": [
      "(39, 4) -8.540177112501205e-18 1.0000000000000002\n",
      "(39, 4) 0.4468408703337931 0.30975274507827777\n",
      "(39, 4) 0.1816260634356117 0.5879633155993566\n"
     ]
    }
   ],
   "source": [
    "for scaler in [StandardScaler(), MinMaxScaler(), RobustScaler()]:\n",
    "    scaler.fit(X_train)\n",
    "    df = scaler.transform(X_train)\n",
    "    print(df.shape, df.mean(), df.std())"
   ]
  },
  {
   "cell_type": "code",
   "execution_count": null,
   "id": "389a5d8e",
   "metadata": {},
   "outputs": [],
   "source": []
  }
 ],
 "metadata": {
  "kernelspec": {
   "display_name": "Python 3",
   "language": "python",
   "name": "python3"
  },
  "language_info": {
   "codemirror_mode": {
    "name": "ipython",
    "version": 3
   },
   "file_extension": ".py",
   "mimetype": "text/x-python",
   "name": "python",
   "nbconvert_exporter": "python",
   "pygments_lexer": "ipython3",
   "version": "3.9.18"
  }
 },
 "nbformat": 4,
 "nbformat_minor": 5
}
