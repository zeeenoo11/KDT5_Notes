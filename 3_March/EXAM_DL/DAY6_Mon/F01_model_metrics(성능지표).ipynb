{
 "cells": [
  {
   "cell_type": "markdown",
   "metadata": {},
   "source": [
    "### 모델 성능평가 지표 살펴보기 => 다중분류\n",
    "- sklearn : metrics   \n",
    "    (accuracy_score, confusion_matrix, classification_report)\n",
    "- torch : torchmetrics"
   ]
  },
  {
   "cell_type": "markdown",
   "metadata": {},
   "source": [
    "0. Load Module"
   ]
  },
  {
   "cell_type": "code",
   "execution_count": 6,
   "metadata": {},
   "outputs": [],
   "source": [
    "import torch\n",
    "import torchmetrics.functional.classification as metrics\n",
    "import sklearn.metrics as skm\n",
    "import numpy as np\n",
    "import matplotlib.pyplot as plt"
   ]
  },
  {
   "cell_type": "markdown",
   "metadata": {},
   "source": [
    "1. Set Data"
   ]
  },
  {
   "cell_type": "code",
   "execution_count": 7,
   "metadata": {},
   "outputs": [],
   "source": [
    "target = torch.tensor([2, 1, 0, 0])\n",
    "preds = torch.tensor([2, 1, 0, 1])  # 임의의 데이터 : 다중분류 0, 1, 2"
   ]
  },
  {
   "cell_type": "markdown",
   "metadata": {},
   "source": [
    "2. 성능 평가"
   ]
  },
  {
   "cell_type": "code",
   "execution_count": 8,
   "metadata": {},
   "outputs": [
    {
     "name": "stdout",
     "output_type": "stream",
     "text": [
      "tensor([[1, 1, 0],\n",
      "        [0, 1, 0],\n",
      "        [0, 0, 1]])\n"
     ]
    }
   ],
   "source": [
    "# 혼돈 행렬 Confusion Metrix\n",
    "con = metrics.confusion_matrix(preds, target, task='multiclass', num_classes=3)\n",
    "print(con)"
   ]
  },
  {
   "cell_type": "code",
   "execution_count": 9,
   "metadata": {},
   "outputs": [
    {
     "name": "stdout",
     "output_type": "stream",
     "text": [
      "Target ==> tensor([2, 1, 0, 0])\n",
      "Pred ==> tensor([2, 1, 0, 1])\n",
      "\n",
      "Precision : 0.75 \n",
      "Recall : 0.75 \n",
      "F1 Score : 0.75 \n",
      "Accuracy : 0.75\n"
     ]
    }
   ],
   "source": [
    "# micro : 균형 데이터셋\n",
    "pre = metrics.precision(preds, target, task='multiclass', num_classes=3, average='micro')\n",
    "recall = metrics.recall(preds, target, task='multiclass', num_classes=3, average='micro')\n",
    "f1 = metrics.f1_score(preds, target, task='multiclass', num_classes=3, average='micro')\n",
    "accuracy = metrics.accuracy(preds, target, task='multiclass', num_classes=3, average='micro')\n",
    "metrics.multiclass_accuracy(preds, target, num_classes=3, average='micro')\n",
    "\n",
    "print(f'Target ==> {target}')\n",
    "print(f'Pred ==> {preds}')\n",
    "print()\n",
    "print(f'Precision : {pre} \\nRecall : {recall} \\nF1 Score : {f1} \\nAccuracy : {accuracy}')"
   ]
  },
  {
   "cell_type": "markdown",
   "metadata": {},
   "source": [
    "2-2. 성능평가 : scikit-learn"
   ]
  },
  {
   "cell_type": "code",
   "execution_count": 10,
   "metadata": {},
   "outputs": [
    {
     "name": "stdout",
     "output_type": "stream",
     "text": [
      "[[1 1 0]\n",
      " [0 1 0]\n",
      " [0 0 1]]\n"
     ]
    },
    {
     "data": {
      "image/png": "[encoded data removed]",
      "text/plain": [
       "<Figure size 640x480 with 2 Axes>"
      ]
     },
     "metadata": {},
     "output_type": "display_data"
    }
   ],
   "source": [
    "# Confusion Metrix\n",
    "\n",
    "# Tensor ==> Numpy\n",
    "# 1)\n",
    "np.array(target)\n",
    "# 2)\n",
    "target.numpy()\n",
    "\n",
    "preds = preds.numpy()\n",
    "target = target.numpy()\n",
    "\n",
    "# (정답, 예측)\n",
    "con = skm.confusion_matrix(target, preds)\n",
    "print(con)\n",
    "\n",
    "corrDisplay = skm.ConfusionMatrixDisplay(confusion_matrix=con, display_labels=np.unique(target))\n",
    "corrDisplay.plot()\n",
    "plt.show()"
   ]
  },
  {
   "cell_type": "code",
   "execution_count": 11,
   "metadata": {},
   "outputs": [],
   "source": [
    "# 다중분류 성능 분석 - micro : 균형데이터셋\n",
    "p_score = skm.precision_score(target, preds, average='micro')\n",
    "r_score = skm.recall_score(target, preds, average='micro')\n",
    "f_score = skm.f1_score(target, preds, average='micro')\n",
    "a_score = skm.accuracy_score(target, preds)\n",
    "report = skm.classification_report(target, preds)"
   ]
  },
  {
   "cell_type": "code",
   "execution_count": 12,
   "metadata": {},
   "outputs": [
    {
     "name": "stdout",
     "output_type": "stream",
     "text": [
      "Target -> [2 1 0 0]\n",
      "Pred -> [2 1 0 1]\n",
      "Precision : 0.75 \n",
      "Recall : 0.75 \n",
      "F1 Score : 0.75 \n",
      "Accuracy : 0.75\n",
      "              precision    recall  f1-score   support\n",
      "\n",
      "           0       1.00      0.50      0.67         2\n",
      "           1       0.50      1.00      0.67         1\n",
      "           2       1.00      1.00      1.00         1\n",
      "\n",
      "    accuracy                           0.75         4\n",
      "   macro avg       0.83      0.83      0.78         4\n",
      "weighted avg       0.88      0.75      0.75         4\n",
      "\n"
     ]
    }
   ],
   "source": [
    "print(f'Target -> {target}')\n",
    "print(f'Pred -> {preds}')\n",
    "print(f'Precision : {p_score} \\nRecall : {r_score} \\nF1 Score : {f_score} \\nAccuracy : {a_score}')\n",
    "print(report)"
   ]
  },
  {
   "cell_type": "code",
   "execution_count": null,
   "metadata": {},
   "outputs": [],
   "source": []
  },
  {
   "cell_type": "code",
   "execution_count": null,
   "metadata": {},
   "outputs": [],
   "source": []
  }
 ],
 "metadata": {
  "kernelspec": {
   "display_name": "Torch_PY38",
   "language": "python",
   "name": "python3"
  },
  "language_info": {
   "codemirror_mode": {
    "name": "ipython",
    "version": 3
   },
   "file_extension": ".py",
   "mimetype": "text/x-python",
   "name": "python",
   "nbconvert_exporter": "python",
   "pygments_lexer": "ipython3",
   "version": "3.8.18"
  }
 },
 "nbformat": 4,
 "nbformat_minor": 2
}
