{
 "cells": [
  {
   "cell_type": "markdown",
   "metadata": {},
   "source": [
    "### 텐서 살펴보기\n",
    "Pytorch에서 데이터 저장 자료형  \n",
    "모델 입력, 출력 데이터 형태"
   ]
  },
  {
   "cell_type": "markdown",
   "metadata": {},
   "source": [
    "1. 데이터 준비"
   ]
  },
  {
   "cell_type": "code",
   "execution_count": 3,
   "metadata": {},
   "outputs": [],
   "source": [
    "# Load Module\n",
    "import torch"
   ]
  },
  {
   "cell_type": "markdown",
   "metadata": {},
   "source": [
    "Tensor 속성 관련 함수"
   ]
  },
  {
   "cell_type": "code",
   "execution_count": 4,
   "metadata": {},
   "outputs": [],
   "source": [
    "# 매개변수 : 텐서 인스텐스, 텐서 변수명\n",
    "def print_attribute(tensor, name):\n",
    "    print(f'[ Tensor {name}\\'s Attribute ]')\n",
    "    print(f' - tensor.shape : {tensor.shape}')\n",
    "    print(f' - tensor.ndim : {tensor.ndim}D')\n",
    "    print(f' - tensor.dtype : {tensor.dtype}')\n",
    "    print(f' - tensor.device : {tensor.device}')\n",
    "    print(f' - tensor.requires_grad : {tensor.requires_grad}')\n",
    "    print(f' - tensor.data :\\n{tensor.data}')"
   ]
  },
  {
   "cell_type": "markdown",
   "metadata": {},
   "source": [
    "Tensor 생성 (1) 특정 데이터 타입의 텐서 생성\n",
    "- 타입별 텐서 클래스 생성자 활용\n",
    "- 예) IntTensor(), FloatTensor(), DoubleTensor()"
   ]
  },
  {
   "cell_type": "code",
   "execution_count": 5,
   "metadata": {},
   "outputs": [
    {
     "name": "stderr",
     "output_type": "stream",
     "text": [
      "C:\\Users\\wjs31\\AppData\\Local\\Temp\\ipykernel_45476\\2411395638.py:3: DeprecationWarning: an integer is required (got type float).  Implicit conversion to integers using __int__ is deprecated, and may be removed in a future version of Python.\n",
      "  t2 = torch.IntTensor([10.2, 20.])\n"
     ]
    }
   ],
   "source": [
    "# 정수 타입 텐서 생성\n",
    "t1 = torch.IntTensor(10)\n",
    "t2 = torch.IntTensor([10.2, 20.])\n",
    "t3 = torch.BoolTensor([1, 0, 1, -1])\n",
    "t4 = torch.FloatTensor([10, 20])"
   ]
  },
  {
   "cell_type": "code",
   "execution_count": 6,
   "metadata": {},
   "outputs": [
    {
     "name": "stdout",
     "output_type": "stream",
     "text": [
      "[ Tensor t1's Attribute ]\n",
      " - tensor.shape : torch.Size([10])\n",
      " - tensor.ndim : 1D\n",
      " - tensor.dtype : torch.int32\n",
      " - tensor.device : cpu\n",
      " - tensor.requires_grad : False\n",
      " - tensor.data :\n",
      "tensor([1602228592,       1304,          0,          0,          0,          0,\n",
      "                 0,          0,          0,          0], dtype=torch.int32)\n",
      "\n",
      "[ Tensor t2's Attribute ]\n",
      " - tensor.shape : torch.Size([2])\n",
      " - tensor.ndim : 1D\n",
      " - tensor.dtype : torch.int32\n",
      " - tensor.device : cpu\n",
      " - tensor.requires_grad : False\n",
      " - tensor.data :\n",
      "tensor([10, 20], dtype=torch.int32)\n",
      "\n",
      "[ Tensor t3's Attribute ]\n",
      " - tensor.shape : torch.Size([4])\n",
      " - tensor.ndim : 1D\n",
      " - tensor.dtype : torch.bool\n",
      " - tensor.device : cpu\n",
      " - tensor.requires_grad : False\n",
      " - tensor.data :\n",
      "tensor([ True, False,  True,  True])\n",
      "\n",
      "[ Tensor t4's Attribute ]\n",
      " - tensor.shape : torch.Size([2])\n",
      " - tensor.ndim : 1D\n",
      " - tensor.dtype : torch.float32\n",
      " - tensor.device : cpu\n",
      " - tensor.requires_grad : False\n",
      " - tensor.data :\n",
      "tensor([10., 20.])\n",
      "\n"
     ]
    }
   ],
   "source": [
    "for idx, i in enumerate([t1, t2, t3, t4]):\n",
    "    print_attribute(i, 't'+f'{idx+1}')\n",
    "    print()"
   ]
  },
  {
   "cell_type": "code",
   "execution_count": 7,
   "metadata": {},
   "outputs": [],
   "source": [
    "#  IntTensor : 실수(10.2)를 넣어도 정수 타입으로 잡힘  \n",
    "#  FloatTensor : 정수 넣어도 실수 타입 반환"
   ]
  },
  {
   "cell_type": "markdown",
   "metadata": {},
   "source": [
    "<hr>\n",
    "\n",
    "Tensor 생성 (2) 원하는 값으로 생성 => torch.tensor()"
   ]
  },
  {
   "cell_type": "code",
   "execution_count": 8,
   "metadata": {},
   "outputs": [
    {
     "name": "stdout",
     "output_type": "stream",
     "text": [
      "[ Tensor t1's Attribute ]\n",
      " - tensor.shape : torch.Size([])\n",
      " - tensor.ndim : 0D\n",
      " - tensor.dtype : torch.int64\n",
      " - tensor.device : cpu\n",
      " - tensor.requires_grad : False\n",
      " - tensor.data :\n",
      "10\n",
      "\n",
      "[ Tensor t2's Attribute ]\n",
      " - tensor.shape : torch.Size([])\n",
      " - tensor.ndim : 0D\n",
      " - tensor.dtype : torch.float32\n",
      " - tensor.device : cpu\n",
      " - tensor.requires_grad : False\n",
      " - tensor.data :\n",
      "10.100000381469727\n",
      "\n",
      "[ Tensor t3's Attribute ]\n",
      " - tensor.shape : torch.Size([2])\n",
      " - tensor.ndim : 1D\n",
      " - tensor.dtype : torch.int64\n",
      " - tensor.device : cpu\n",
      " - tensor.requires_grad : False\n",
      " - tensor.data :\n",
      "tensor([10, 20])\n",
      "\n",
      "[ Tensor t4's Attribute ]\n",
      " - tensor.shape : torch.Size([2, 2])\n",
      " - tensor.ndim : 2D\n",
      " - tensor.dtype : torch.int64\n",
      " - tensor.device : cpu\n",
      " - tensor.requires_grad : False\n",
      " - tensor.data :\n",
      "tensor([[10, 20],\n",
      "        [30, 40]])\n",
      "\n",
      "[ Tensor t5's Attribute ]\n",
      " - tensor.shape : torch.Size([])\n",
      " - tensor.ndim : 0D\n",
      " - tensor.dtype : torch.float32\n",
      " - tensor.device : cpu\n",
      " - tensor.requires_grad : False\n",
      " - tensor.data :\n",
      "10.0\n",
      "\n",
      "[ Tensor t6's Attribute ]\n",
      " - tensor.shape : torch.Size([])\n",
      " - tensor.ndim : 0D\n",
      " - tensor.dtype : torch.bool\n",
      " - tensor.device : cpu\n",
      " - tensor.requires_grad : False\n",
      " - tensor.data :\n",
      "True\n",
      "\n"
     ]
    }
   ],
   "source": [
    "t1 = torch.tensor(10)\n",
    "t2 = torch.tensor(10.1)\n",
    "t3 = torch.tensor([10, 20])\n",
    "t4 = torch.tensor([[10, 20], [30, 40]])\n",
    "t1_2 = torch.tensor(10, dtype=torch.float32)\n",
    "t1_3 = torch.tensor(10, dtype=torch.bool)\n",
    "\n",
    "for idx, i in enumerate([t1, t2, t3, t4, t1_2, t1_3]):\n",
    "    print_attribute(i, 't'+f'{idx+1}')\n",
    "    print()"
   ]
  },
  {
   "cell_type": "code",
   "execution_count": 9,
   "metadata": {},
   "outputs": [],
   "source": [
    "# 자동으로 데이터 타입 지정\n",
    "# 임의 데이터 타입 지정 가능 : \n",
    "#   - .float or .int\n",
    "#   - .int8 등으로 용량 줄이기"
   ]
  },
  {
   "cell_type": "markdown",
   "metadata": {},
   "source": [
    "Tensor 생성 (3) 특정 값으로 채우기"
   ]
  },
  {
   "cell_type": "code",
   "execution_count": 10,
   "metadata": {},
   "outputs": [
    {
     "name": "stdout",
     "output_type": "stream",
     "text": [
      "[ Tensor t1's Attribute ]\n",
      " - tensor.shape : torch.Size([2, 2])\n",
      " - tensor.ndim : 2D\n",
      " - tensor.dtype : torch.int8\n",
      " - tensor.device : cpu\n",
      " - tensor.requires_grad : False\n",
      " - tensor.data :\n",
      "tensor([[0, 0],\n",
      "        [0, 0]], dtype=torch.int8)\n",
      "\n",
      "[ Tensor t2's Attribute ]\n",
      " - tensor.shape : torch.Size([2, 2])\n",
      " - tensor.ndim : 2D\n",
      " - tensor.dtype : torch.int8\n",
      " - tensor.device : cpu\n",
      " - tensor.requires_grad : False\n",
      " - tensor.data :\n",
      "tensor([[1, 1],\n",
      "        [1, 1]], dtype=torch.int8)\n",
      "\n",
      "[ Tensor t3's Attribute ]\n",
      " - tensor.shape : torch.Size([2, 2])\n",
      " - tensor.ndim : 2D\n",
      " - tensor.dtype : torch.int8\n",
      " - tensor.device : cpu\n",
      " - tensor.requires_grad : False\n",
      " - tensor.data :\n",
      "tensor([[10, 10],\n",
      "        [10, 10]], dtype=torch.int8)\n",
      "\n",
      "[ Tensor t4's Attribute ]\n",
      " - tensor.shape : torch.Size([2, 2])\n",
      " - tensor.ndim : 2D\n",
      " - tensor.dtype : torch.int8\n",
      " - tensor.device : cpu\n",
      " - tensor.requires_grad : False\n",
      " - tensor.data :\n",
      "tensor([[1, 0],\n",
      "        [0, 1]], dtype=torch.int8)\n",
      "\n",
      "[ Tensor t5's Attribute ]\n",
      " - tensor.shape : torch.Size([1, 3])\n",
      " - tensor.ndim : 2D\n",
      " - tensor.dtype : torch.float32\n",
      " - tensor.device : cpu\n",
      " - tensor.requires_grad : False\n",
      " - tensor.data :\n",
      "tensor([[1., 0., 0.]])\n",
      "\n",
      "[ Tensor t6's Attribute ]\n",
      " - tensor.shape : torch.Size([10])\n",
      " - tensor.ndim : 1D\n",
      " - tensor.dtype : torch.int8\n",
      " - tensor.device : cpu\n",
      " - tensor.requires_grad : False\n",
      " - tensor.data :\n",
      "tensor([0, 1, 2, 3, 4, 5, 6, 7, 8, 9], dtype=torch.int8)\n",
      "\n"
     ]
    }
   ],
   "source": [
    "t1 = torch.zeros(2, 2, dtype=torch.int8)\n",
    "t2 = torch.ones(2, 2, dtype=torch.int8)\n",
    "t3 = torch.full((2, 2), 10, dtype=torch.int8)\n",
    "t4 = torch.eye(2, dtype=torch.int8)\n",
    "t5 = torch.eye(1, 3)                    # tensor([[1., 0., 0.]])\n",
    "t6 = torch.arange(10, dtype=torch.int8) # GeeX 추천 ; tensor([0, 1, 2, 3, 4, 5, 6, 7, 8, 9])\n",
    "\n",
    "for idx, i in enumerate([t1, t2, t3, t4, t5, t6]):\n",
    "    print_attribute(i, 't'+f'{idx+1}')\n",
    "    print()"
   ]
  },
  {
   "cell_type": "code",
   "execution_count": 11,
   "metadata": {},
   "outputs": [
    {
     "name": "stdout",
     "output_type": "stream",
     "text": [
      "torch.Size([2, 6])\n"
     ]
    }
   ],
   "source": [
    "# 이미 존재하는 텐서와 동일한 shape으로 잡고 값 채우기 => zero_like(), ones_like()\n",
    "img = torch.Tensor([[2, 3, 4, 5, 6, 7], [2, 3, 4, 5, 6, 7]])\n",
    "print(img.shape)"
   ]
  },
  {
   "cell_type": "code",
   "execution_count": 12,
   "metadata": {},
   "outputs": [
    {
     "name": "stdout",
     "output_type": "stream",
     "text": [
      "tensor([[0., 0., 0., 0., 0., 0.],\n",
      "        [0., 0., 0., 0., 0., 0.]])\n"
     ]
    }
   ],
   "source": [
    "zero_img = torch.zeros_like(img)\n",
    "print(zero_img)     # 동일한 shape으로 1을 채움"
   ]
  },
  {
   "cell_type": "code",
   "execution_count": 13,
   "metadata": {},
   "outputs": [
    {
     "name": "stdout",
     "output_type": "stream",
     "text": [
      "tensor([[7., 7., 7., 7., 7., 7.],\n",
      "        [7., 7., 7., 7., 7., 7.]])\n"
     ]
    }
   ],
   "source": [
    "full_img = torch.full_like(img, 7)\n",
    "print(full_img)"
   ]
  },
  {
   "cell_type": "code",
   "execution_count": 14,
   "metadata": {},
   "outputs": [
    {
     "name": "stdout",
     "output_type": "stream",
     "text": [
      "tensor([[1, 0, 0, 0, 0, 0, 0],\n",
      "        [0, 1, 0, 0, 0, 0, 0],\n",
      "        [0, 0, 1, 0, 0, 0, 0],\n",
      "        [0, 0, 0, 1, 0, 0, 0],\n",
      "        [0, 0, 0, 0, 1, 0, 0],\n",
      "        [0, 0, 0, 0, 0, 1, 0],\n",
      "        [0, 0, 0, 0, 0, 0, 1]], dtype=torch.int8)\n"
     ]
    }
   ],
   "source": [
    "# 대각선 방향으로 1 채우기 => eye()\n",
    "t1 = torch.eye(7, dtype=torch.int8)\n",
    "print(t1)"
   ]
  },
  {
   "cell_type": "markdown",
   "metadata": {},
   "source": [
    "Tensor 생성 (4) 랜덤 값 채우기"
   ]
  },
  {
   "cell_type": "code",
   "execution_count": 15,
   "metadata": {},
   "outputs": [
    {
     "name": "stdout",
     "output_type": "stream",
     "text": [
      "tensor([[0.4657, 0.2328, 0.4527],\n",
      "        [0.5871, 0.4086, 0.1272]])\n",
      "tensor([[ 1.5869,  1.1268, -1.2274],\n",
      "        [-0.8216, -1.7861,  0.6167]])\n",
      "tensor([[8, 4, 6],\n",
      "        [2, 2, 2]])\n"
     ]
    }
   ],
   "source": [
    "torch.manual_seed(12)\n",
    "t1 = torch.rand(2, 3)       # [0, 1) 사이\n",
    "t2 = torch.randn(2, 3)      # Standard Normal 분포에서 랜덤 생성\n",
    "t3 = torch.randint(low=1, high=10, size=(2, 3))     # low <= x , high\n",
    "\n",
    "for idx, i in enumerate([t1, t2, t3]):\n",
    "    print(i)"
   ]
  },
  {
   "cell_type": "markdown",
   "metadata": {},
   "source": [
    "Tensor 생성 방법 (5) : Ndarray 객체 활용 => torch.from_numpy(), torch.as_tensor(), tensor()"
   ]
  },
  {
   "cell_type": "code",
   "execution_count": 16,
   "metadata": {},
   "outputs": [
    {
     "name": "stdout",
     "output_type": "stream",
     "text": [
      "[11 22 33] int32\n"
     ]
    }
   ],
   "source": [
    "# 데이터 생성\n",
    "import numpy as np\n",
    "\n",
    "data = np.array([11, 22, 33])\n",
    "print(data, data.dtype)"
   ]
  },
  {
   "cell_type": "code",
   "execution_count": 17,
   "metadata": {},
   "outputs": [
    {
     "name": "stdout",
     "output_type": "stream",
     "text": [
      "tensor([11, 22, 33], dtype=torch.int32)\n",
      "tensor([11, 22, 33], dtype=torch.int32)\n",
      "tensor([11, 22, 33], dtype=torch.int32)\n"
     ]
    }
   ],
   "source": [
    "t1 = torch.from_numpy(data)\n",
    "t2 = torch.as_tensor(data)\n",
    "t3 = torch.tensor(data)\n",
    "\n",
    "for i in [t1, t2, t3]:\n",
    "    print(i)"
   ]
  },
  {
   "cell_type": "code",
   "execution_count": 18,
   "metadata": {},
   "outputs": [
    {
     "data": {
      "text/plain": [
       "array([100,  22,  33])"
      ]
     },
     "execution_count": 18,
     "metadata": {},
     "output_type": "execute_result"
    }
   ],
   "source": [
    "# 원소 변경\n",
    "data[0] = 100\n",
    "data"
   ]
  },
  {
   "cell_type": "code",
   "execution_count": 19,
   "metadata": {},
   "outputs": [
    {
     "name": "stdout",
     "output_type": "stream",
     "text": [
      "tensor([100,  22,  33], dtype=torch.int32)\n",
      "tensor([100,  22,  33], dtype=torch.int32)\n",
      "tensor([11, 22, 33], dtype=torch.int32)\n"
     ]
    }
   ],
   "source": [
    "for i in [t1, t2, t3]:\n",
    "    print(i)\n",
    "    \n",
    "# from_numpy(), as_tensor() => 데이터 공유 (원본따라 변경)\n",
    "# tensor() => 복사본 생성 (원본과 분리)"
   ]
  },
  {
   "cell_type": "code",
   "execution_count": 21,
   "metadata": {},
   "outputs": [],
   "source": [
    "# fin, 연산 부분은 02 파일에"
   ]
  },
  {
   "cell_type": "code",
   "execution_count": null,
   "metadata": {},
   "outputs": [],
   "source": []
  }
 ],
 "metadata": {
  "kernelspec": {
   "display_name": "Torch_PY38",
   "language": "python",
   "name": "python3"
  },
  "language_info": {
   "codemirror_mode": {
    "name": "ipython",
    "version": 3
   },
   "file_extension": ".py",
   "mimetype": "text/x-python",
   "name": "python",
   "nbconvert_exporter": "python",
   "pygments_lexer": "ipython3",
   "version": "3.8.18"
  }
 },
 "nbformat": 4,
 "nbformat_minor": 2
}
