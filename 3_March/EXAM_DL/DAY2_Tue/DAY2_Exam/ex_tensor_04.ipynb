{
 "cells": [
  {
   "cell_type": "markdown",
   "metadata": {},
   "source": [
    "### Tensor shape 변경 \n",
    "- reshape(), view() :  원소 갯수가 유지됨!, 기존 텐서 공유함"
   ]
  },
  {
   "cell_type": "code",
   "execution_count": 2,
   "metadata": {},
   "outputs": [],
   "source": [
    "# 모듈 로딩 \n",
    "import torch"
   ]
  },
  {
   "cell_type": "code",
   "execution_count": 3,
   "metadata": {},
   "outputs": [
    {
     "name": "stdout",
     "output_type": "stream",
     "text": [
      "torch.Size([2, 3]) torch.int64 0 (3, 1) True\n",
      "tensor([[1, 2, 3],\n",
      "        [4, 5, 6]]) 4176146862400 4176146862400 4176146862424\n"
     ]
    }
   ],
   "source": [
    "# 텐서 데이터 생성\n",
    "t1=torch.tensor([[1,2,3], [4,5,6]])\n",
    "print( t1.shape, t1.dtype, t1.storage_offset(), t1.stride(), t1.is_contiguous())\n",
    "print(t1, t1.data_ptr(), t1[0].data_ptr(), t1[1].data_ptr())"
   ]
  },
  {
   "cell_type": "code",
   "execution_count": 4,
   "metadata": {},
   "outputs": [
    {
     "name": "stdout",
     "output_type": "stream",
     "text": [
      "4176146862400\n",
      "4176146862400\n",
      "4176146862400\n"
     ]
    }
   ],
   "source": [
    "print(t1.data_ptr())\n",
    "print(t1.view(2,3).data_ptr())\n",
    "print(t1.reshape(2,3).data_ptr())"
   ]
  },
  {
   "cell_type": "code",
   "execution_count": 5,
   "metadata": {},
   "outputs": [
    {
     "name": "stdout",
     "output_type": "stream",
     "text": [
      "torch.Size([3, 2]) torch.int64 0 (1, 3) False\n",
      "tensor([[1, 4],\n",
      "        [2, 5],\n",
      "        [3, 6]]) 4176146862400 4176146862400 4176146862408\n"
     ]
    }
   ],
   "source": [
    "t2=t1.T\n",
    "print(t2.shape, t2.dtype, t2.storage_offset(), t2.stride(), t2.is_contiguous() )\n",
    "print(t2, t2.data_ptr(), t2[0].data_ptr(), t2[1].data_ptr())"
   ]
  },
  {
   "cell_type": "code",
   "execution_count": 6,
   "metadata": {},
   "outputs": [
    {
     "name": "stdout",
     "output_type": "stream",
     "text": [
      "torch.Size([2, 3]) torch.int64 0 (3, 1) True\n",
      "tensor([[1, 4, 2],\n",
      "        [5, 3, 6]]) 4176146862656 4176146862656 4176146862680\n"
     ]
    }
   ],
   "source": [
    "t3=t2.reshape(-1,3)\n",
    "print(t3.shape, t3.dtype, t3.storage_offset(), t3.stride(), t3.is_contiguous() )\n",
    "print(t3, t3.data_ptr(), t3[0].data_ptr(), t3[1].data_ptr())"
   ]
  },
  {
   "cell_type": "code",
   "execution_count": 7,
   "metadata": {},
   "outputs": [
    {
     "data": {
      "text/plain": [
       "tensor([[1],\n",
       "        [2],\n",
       "        [3],\n",
       "        [4],\n",
       "        [5],\n",
       "        [6]])"
      ]
     },
     "execution_count": 7,
     "metadata": {},
     "output_type": "execute_result"
    }
   ],
   "source": [
    "# [2,3] ===> [6,1] 형태 변경 : 원소 동일 6개\n",
    "t1.view(6,1)"
   ]
  },
  {
   "cell_type": "code",
   "execution_count": 8,
   "metadata": {},
   "outputs": [
    {
     "data": {
      "text/plain": [
       "tensor([[1],\n",
       "        [2],\n",
       "        [3],\n",
       "        [4],\n",
       "        [5],\n",
       "        [6]])"
      ]
     },
     "execution_count": 8,
     "metadata": {},
     "output_type": "execute_result"
    }
   ],
   "source": [
    "# [2,3] ===> [6,1] 형태 변경 : 원소 동일 6개\n",
    "# -1 : 원소 수를 알아서 행에 할당\n",
    "t1.view(-1, 1)"
   ]
  },
  {
   "cell_type": "code",
   "execution_count": 9,
   "metadata": {},
   "outputs": [],
   "source": [
    "# [2,3] ===> [6,1] 형태 변경 : 원소 동일 6개\n",
    "# -1 : 원소 수를 알아서 열을 할당\n",
    "t1_1=t1.view(6, -1)"
   ]
  },
  {
   "cell_type": "code",
   "execution_count": 10,
   "metadata": {},
   "outputs": [
    {
     "name": "stdout",
     "output_type": "stream",
     "text": [
      "4176146862400 4176146862424 4176146862400 4176146862400\n"
     ]
    }
   ],
   "source": [
    "# tensor.reshape()\n",
    "t1_2=t1.reshape(-1, 3)\n",
    "\n",
    "print(t1.data_ptr(), t1[1].data_ptr(), t1_1.data_ptr(), t1_2.data_ptr())\n"
   ]
  },
  {
   "cell_type": "code",
   "execution_count": 11,
   "metadata": {},
   "outputs": [],
   "source": [
    "# 원소 수 유지되어야 함!\n",
    "# RuntimeError: shape '[-1, 7]' is invalid for input of size 6\n",
    "# t1.reshape(-1, 7)"
   ]
  },
  {
   "cell_type": "markdown",
   "metadata": {},
   "source": [
    "- 전치 : 열<->형 변경 "
   ]
  },
  {
   "cell_type": "code",
   "execution_count": 12,
   "metadata": {},
   "outputs": [
    {
     "name": "stdout",
     "output_type": "stream",
     "text": [
      "torch.Size([2, 3])\n",
      "torch.Size([3, 2]) False 4176146862400\n"
     ]
    }
   ],
   "source": [
    "print(t1.shape)\n",
    "\n",
    "t2=t1.T\n",
    "print(t2.shape, t2.is_contiguous(), t2.data_ptr())"
   ]
  },
  {
   "cell_type": "code",
   "execution_count": 13,
   "metadata": {},
   "outputs": [],
   "source": [
    "# RuntimeError: view size is not compatible with input tensor's size and stride\n",
    "#t2.view(-1,6)"
   ]
  },
  {
   "cell_type": "code",
   "execution_count": 14,
   "metadata": {},
   "outputs": [
    {
     "name": "stdout",
     "output_type": "stream",
     "text": [
      "tensor([[1, 4, 2, 5, 3, 6]]) True\n",
      "4176146862400 4176146862400 4176146862720\n"
     ]
    }
   ],
   "source": [
    "t3=t2.reshape(-1, 6)\n",
    "print(t3, t3.is_contiguous())\n",
    "print(t1.data_ptr(), t2.data_ptr(), t3.data_ptr())"
   ]
  },
  {
   "cell_type": "markdown",
   "metadata": {},
   "source": [
    "### 텐서 데이터의 메모리 저장 정보 즉 메타데이터 \n",
    "- 현재 저장 형태, 검색 방향 정보, 시작 정보"
   ]
  },
  {
   "cell_type": "code",
   "execution_count": 15,
   "metadata": {},
   "outputs": [
    {
     "name": "stdout",
     "output_type": "stream",
     "text": [
      "torch.Size([2, 3]) 2\n",
      "t1.storage() =>  1\n",
      " 2\n",
      " 3\n",
      " 4\n",
      " 5\n",
      " 6\n",
      "[torch.storage.TypedStorage(dtype=torch.int64, device=cpu) of size 6]\n",
      "t1.storage_offset() => 0\n",
      "t1.stride() => (3, 1)\n",
      "t1.is_contiguous() => True\n"
     ]
    },
    {
     "name": "stderr",
     "output_type": "stream",
     "text": [
      "C:\\Users\\Public\\Documents\\ESTsoft\\CreatorTemp\\ipykernel_26540\\2628774720.py:3: UserWarning: TypedStorage is deprecated. It will be removed in the future and UntypedStorage will be the only storage class. This should only matter to you if you are using storages directly.  To access UntypedStorage directly, use tensor.untyped_storage() instead of tensor.storage()\n",
      "  print( f't1.storage() => {t1.storage()}')\n"
     ]
    }
   ],
   "source": [
    "t1=torch.tensor([[1,2,3], [4,5,6]])\n",
    "print( t1.shape, t1.ndim )\n",
    "print( f't1.storage() => {t1.storage()}')\n",
    "print( f't1.storage_offset() => {t1.storage_offset()}')\n",
    "print( f't1.stride() => {t1.stride()}')\n",
    "print( f't1.is_contiguous() => {t1.is_contiguous()}')"
   ]
  },
  {
   "cell_type": "code",
   "execution_count": 16,
   "metadata": {},
   "outputs": [
    {
     "name": "stdout",
     "output_type": "stream",
     "text": [
      "t2.storage() =>  1\n",
      " 2\n",
      " 3\n",
      " 4\n",
      " 5\n",
      " 6\n",
      "[torch.storage.TypedStorage(dtype=torch.int64, device=cpu) of size 6]\n",
      "t2.storage_offset() => 0\n",
      "t2.stride() => (2, 1)\n",
      "t2.is_contiguous() => True\n"
     ]
    }
   ],
   "source": [
    "t2=t1.view(-1, 2)\n",
    "print( f't2.storage() => {t2.storage()}')\n",
    "print( f't2.storage_offset() => {t2.storage_offset()}')\n",
    "print( f't2.stride() => {t2.stride()}')\n",
    "print( f't2.is_contiguous() => {t2.is_contiguous()}')"
   ]
  },
  {
   "cell_type": "markdown",
   "metadata": {},
   "source": [
    "### 차원 제거/추가 \n",
    "- tensor.squeeze() : 텐서에서 차원이 1인 것 제거\n",
    "- tensor.unsqueeze(dim) : 텐서에 차원 1인 것 추가"
   ]
  },
  {
   "cell_type": "code",
   "execution_count": 17,
   "metadata": {},
   "outputs": [],
   "source": [
    "# 데이터 생성\n",
    "t1=torch.tensor([[1,2], [3,4]])\n",
    "t2=torch.tensor([[1,2,3,4]]) \n",
    "t3=torch.tensor([[[1,2,3,4]]]) "
   ]
  },
  {
   "cell_type": "code",
   "execution_count": 18,
   "metadata": {},
   "outputs": [
    {
     "name": "stdout",
     "output_type": "stream",
     "text": [
      "t1=> torch.Size([2, 2]), 2D, 4176146923520\n",
      "t2=> torch.Size([1, 4]), 2D, 4176146923648\n",
      "t3=> torch.Size([1, 1, 4]), 3D, 4176146923712\n"
     ]
    }
   ],
   "source": [
    "print(f't1=> {t1.shape}, {t1.ndim}D, {t1.data_ptr()}')\n",
    "print(f't2=> {t2.shape}, {t2.ndim}D, {t2.data_ptr()}')\n",
    "print(f't3=> {t3.shape}, {t3.ndim}D, {t3.data_ptr()}')"
   ]
  },
  {
   "cell_type": "code",
   "execution_count": 19,
   "metadata": {},
   "outputs": [
    {
     "name": "stdout",
     "output_type": "stream",
     "text": [
      "t1 차원 축소 => torch.Size([2, 2]), 2D, 4176146923520\n",
      "t2 차원 축소 => torch.Size([4]), 1D, 4176146923648\n",
      "t3 차원 축소 => torch.Size([4]), 1D, 4176146923712\n",
      "t3 차원 축소 => torch.Size([1, 1, 4]), 3D, 4176146923712\n"
     ]
    }
   ],
   "source": [
    "t11=t1.squeeze()\n",
    "t22=t2.squeeze()\n",
    "t33=t3.squeeze()\n",
    "t44=t3.squeeze(dim=2)\n",
    "print(f't1 차원 축소 => {t11.shape}, {t11.ndim}D, {t11.data_ptr()}')\n",
    "print(f't2 차원 축소 => {t22.shape}, {t22.ndim}D, {t22.data_ptr()}')\n",
    "print(f't3 차원 축소 => {t33.shape}, {t33.ndim}D, {t33.data_ptr()}')\n",
    "print(f't3 차원 축소 => {t44.shape}, {t44.ndim}D, {t44.data_ptr()}')"
   ]
  },
  {
   "cell_type": "code",
   "execution_count": 20,
   "metadata": {},
   "outputs": [
    {
     "name": "stdout",
     "output_type": "stream",
     "text": [
      "t1 정보 => torch.Size([2, 2]), 2D, 4176146923520, (2, 1)\n"
     ]
    }
   ],
   "source": [
    "## 원소/요소 수 변경 없이 1 차원 증가 시키기 =>  torch.unsqueeze(dim)\n",
    "print(f't1 정보 => {t1.shape}, {t1.ndim}D, {t1.data_ptr()}, {t1.stride()}')"
   ]
  },
  {
   "cell_type": "code",
   "execution_count": 21,
   "metadata": {},
   "outputs": [
    {
     "name": "stdout",
     "output_type": "stream",
     "text": [
      "t1 차원 추가 => torch.Size([1, 2, 2]), 3D, 4176146923520, (4, 2, 1)\n",
      "t2 차원 추가 => torch.Size([2, 2, 1]), 3D, 4176146923520, (2, 1, 1)\n"
     ]
    }
   ],
   "source": [
    "t11=t1.unsqueeze(dim=0)\n",
    "t22=t1.unsqueeze(dim=-1)\n",
    "\n",
    "print(f't1 차원 추가 => {t11.shape}, {t11.ndim}D, {t11.data_ptr()}, {t11.stride()}')\n",
    "print(f't2 차원 추가 => {t22.shape}, {t22.ndim}D, {t22.data_ptr()}, {t22.stride()}')"
   ]
  },
  {
   "cell_type": "markdown",
   "metadata": {},
   "source": [
    "### Tensor 차원/형태 변경"
   ]
  },
  {
   "cell_type": "code",
   "execution_count": 27,
   "metadata": {},
   "outputs": [
    {
     "name": "stdout",
     "output_type": "stream",
     "text": [
      "t1  => torch.Size([1, 3, 2]), 3D \n"
     ]
    }
   ],
   "source": [
    "t1=torch.tensor([[[1,2], [11,22], [44,55]]])\n",
    "\n",
    "print(f't1  => {t1.shape}, {t1.ndim}D ')"
   ]
  },
  {
   "cell_type": "code",
   "execution_count": 29,
   "metadata": {},
   "outputs": [
    {
     "name": "stdout",
     "output_type": "stream",
     "text": [
      "t11  => torch.Size([2, 3, 1]), 3D \n"
     ]
    }
   ],
   "source": [
    "# 2개의 차원을 변경하는 메서드\n",
    "t11=t1.transpose(0, 2)\n",
    "print(f't11  => {t11.shape}, {t11.ndim}D ')"
   ]
  },
  {
   "cell_type": "code",
   "execution_count": 30,
   "metadata": {},
   "outputs": [
    {
     "name": "stdout",
     "output_type": "stream",
     "text": [
      "t22  => torch.Size([3, 2, 1]), 3D \n"
     ]
    }
   ],
   "source": [
    "# 모든 차원을 변경하는 메서드\n",
    "t22=t1.permute(1,2,0)\n",
    "print(f't22  => {t22.shape}, {t22.ndim}D')"
   ]
  },
  {
   "cell_type": "code",
   "execution_count": 32,
   "metadata": {},
   "outputs": [
    {
     "name": "stdout",
     "output_type": "stream",
     "text": [
      "4176146863168, 4176146863168, 4176146863168\n"
     ]
    }
   ],
   "source": [
    "print(f'{t1.data_ptr()}, {t22.data_ptr()}, {t11.data_ptr()}')"
   ]
  },
  {
   "cell_type": "code",
   "execution_count": 34,
   "metadata": {},
   "outputs": [
    {
     "data": {
      "text/plain": [
       "torch.Size([1, 3, 2])"
      ]
     },
     "execution_count": 34,
     "metadata": {},
     "output_type": "execute_result"
    }
   ],
   "source": [
    "t1.shape"
   ]
  },
  {
   "cell_type": "code",
   "execution_count": 35,
   "metadata": {},
   "outputs": [
    {
     "data": {
      "text/plain": [
       "torch.Size([1, 1, 3, 2])"
      ]
     },
     "execution_count": 35,
     "metadata": {},
     "output_type": "execute_result"
    }
   ],
   "source": [
    "t1[None].shape"
   ]
  },
  {
   "cell_type": "code",
   "execution_count": null,
   "metadata": {},
   "outputs": [],
   "source": []
  }
 ],
 "metadata": {
  "kernelspec": {
   "display_name": "TORCH_PY38",
   "language": "python",
   "name": "python3"
  },
  "language_info": {
   "codemirror_mode": {
    "name": "ipython",
    "version": 3
   },
   "file_extension": ".py",
   "mimetype": "text/x-python",
   "name": "python",
   "nbconvert_exporter": "python",
   "pygments_lexer": "ipython3",
   "version": "3.8.18"
  }
 },
 "nbformat": 4,
 "nbformat_minor": 2
}
