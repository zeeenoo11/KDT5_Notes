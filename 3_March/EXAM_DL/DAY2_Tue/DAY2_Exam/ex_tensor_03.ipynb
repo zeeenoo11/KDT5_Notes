{
 "cells": [
  {
   "cell_type": "markdown",
   "metadata": {},
   "source": [
    "## 행렬 곱셈 \n",
    "- 피쳐와 가중치 연산에 활용\n",
    "- tensor.matmul()"
   ]
  },
  {
   "cell_type": "code",
   "execution_count": 1,
   "metadata": {},
   "outputs": [],
   "source": [
    "# 모듈 로딩\n",
    "import torch"
   ]
  },
  {
   "cell_type": "code",
   "execution_count": 2,
   "metadata": {},
   "outputs": [],
   "source": [
    "data=torch.tensor([[1,2], [3,4]])\n",
    "w=torch.tensor([7])"
   ]
  },
  {
   "cell_type": "code",
   "execution_count": 3,
   "metadata": {},
   "outputs": [
    {
     "name": "stdout",
     "output_type": "stream",
     "text": [
      "data.shape => torch.Size([2, 2])\n",
      "w.shape => torch.Size([1])\n"
     ]
    }
   ],
   "source": [
    "print(f'data.shape => {data.shape}')\n",
    "print(f'w.shape => {w.shape}')"
   ]
  },
  {
   "cell_type": "code",
   "execution_count": 5,
   "metadata": {},
   "outputs": [
    {
     "name": "stdout",
     "output_type": "stream",
     "text": [
      "data.mul(w) : tensor([[ 7, 14],\n",
      "        [21, 28]])\n"
     ]
    }
   ],
   "source": [
    "# 원소단위 곱셈 => 인덱스에 1:1 대응하도록 브로드캐스팅\n",
    "print(f'data.mul(w) : {data.mul(w)}')"
   ]
  },
  {
   "cell_type": "code",
   "execution_count": 11,
   "metadata": {},
   "outputs": [
    {
     "name": "stdout",
     "output_type": "stream",
     "text": [
      "torch.Size([2])\n",
      "data.matmul(w) : tensor([23, 53])\n"
     ]
    }
   ],
   "source": [
    "# 행열단위 곱셈 =>행x열 : (행, 열) x (원소수, )\n",
    "w=torch.tensor([7, 8])\n",
    "print(w.shape)\n",
    "print(f'data.matmul(w) : {data.matmul(w)}')\n",
    "\n"
   ]
  },
  {
   "cell_type": "code",
   "execution_count": 12,
   "metadata": {},
   "outputs": [
    {
     "name": "stdout",
     "output_type": "stream",
     "text": [
      "data.matmul(w2)\n",
      " tensor([[23],\n",
      "        [53]])\n"
     ]
    }
   ],
   "source": [
    "# 행열단위 곱셈 =>행x열 : (행, 열) x (행, 열)\n",
    "w2=torch.tensor([[7], [8]])\n",
    "print(f'data.matmul(w2)\\n {data.matmul(w2)}')"
   ]
  },
  {
   "cell_type": "code",
   "execution_count": null,
   "metadata": {},
   "outputs": [],
   "source": []
  }
 ],
 "metadata": {
  "kernelspec": {
   "display_name": "TORCH_PY38",
   "language": "python",
   "name": "python3"
  },
  "language_info": {
   "codemirror_mode": {
    "name": "ipython",
    "version": 3
   },
   "file_extension": ".py",
   "mimetype": "text/x-python",
   "name": "python",
   "nbconvert_exporter": "python",
   "pygments_lexer": "ipython3",
   "version": "3.8.18"
  }
 },
 "nbformat": 4,
 "nbformat_minor": 2
}
