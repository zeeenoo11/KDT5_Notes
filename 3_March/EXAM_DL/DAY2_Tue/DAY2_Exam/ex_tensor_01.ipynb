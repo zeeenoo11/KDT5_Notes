{
 "cells": [
  {
   "cell_type": "markdown",
   "metadata": {},
   "source": [
    "### 텐서(Tensor) 살펴보기\n",
    "- Pytorch에서 데이터 저장 자료형\n",
    "- 모델 입력(input), 출력(output) 데이터 형태"
   ]
  },
  {
   "cell_type": "markdown",
   "metadata": {},
   "source": [
    "- 모듈 로딩"
   ]
  },
  {
   "cell_type": "code",
   "execution_count": 1,
   "metadata": {},
   "outputs": [],
   "source": [
    "import torch"
   ]
  },
  {
   "cell_type": "markdown",
   "metadata": {},
   "source": [
    "- Tensor 속성 관련 함수"
   ]
  },
  {
   "cell_type": "code",
   "execution_count": 5,
   "metadata": {},
   "outputs": [],
   "source": [
    "# 매개변수 : 텐서 인스턴스, 텐서 변수명\n",
    "def print_attribute(tensor, name):\n",
    "    print(f'[ Tensor {name}\\'s Attribute ]')\n",
    "    print(f' - tensor.shape  : {tensor.shape}')\n",
    "    print(f' - tensor.ndim   : {tensor.ndim}D')\n",
    "    print(f' - tensor.dtype  : {tensor.dtype}')\n",
    "    print(f' - tensor.device : {tensor.device}')\n",
    "    print(f' - tensor.requires_grad : {tensor.requires_grad}')\n",
    "    print(f' - tensor.data \\n{tensor.data}')"
   ]
  },
  {
   "cell_type": "markdown",
   "metadata": {},
   "source": [
    "- Tensor 생성 (1) 특정 데이터 타입의 텐서 생성\n",
    "    * 타입별 텐서 클래스 생성자 활용\n",
    "    * 예) IntTensor(), FloatTensor(), BoolTensor()"
   ]
  },
  {
   "cell_type": "code",
   "execution_count": 18,
   "metadata": {},
   "outputs": [
    {
     "name": "stderr",
     "output_type": "stream",
     "text": [
      "C:\\Users\\Public\\Documents\\ESTsoft\\CreatorTemp\\ipykernel_28916\\1055985587.py:3: DeprecationWarning: an integer is required (got type float).  Implicit conversion to integers using __int__ is deprecated, and may be removed in a future version of Python.\n",
      "  t2=torch.IntTensor([10.4,20.5])\n"
     ]
    }
   ],
   "source": [
    "# 정수 타입 텐서 생성\n",
    "t1=torch.IntTensor(10, 8)\n",
    "t2=torch.IntTensor([10.4,20.5])\n",
    "t3=torch.BoolTensor([1,1,0,-1])\n",
    "t4=torch.FloatTensor([10,20])"
   ]
  },
  {
   "cell_type": "code",
   "execution_count": 19,
   "metadata": {},
   "outputs": [
    {
     "name": "stdout",
     "output_type": "stream",
     "text": [
      "[ Tensor t1's Attribute ]\n",
      " - tensor.shape  : torch.Size([10, 8])\n",
      " - tensor.ndim   : 2D\n",
      " - tensor.dtype  : torch.int32\n",
      " - tensor.device : cpu\n",
      " - tensor.requires_grad : False\n",
      " - tensor.data \n",
      "tensor([[1224933696,       1369,          0,          0,          0,          0,\n",
      "                  0,          0],\n",
      "        [         0,          0,          0,          0,          0,          0,\n",
      "                  0,          0],\n",
      "        [         0,          0,          0,          0,          0,          0,\n",
      "                  0,          0],\n",
      "        [         0,          0,          0,          0,          0,          0,\n",
      "                  0,          0],\n",
      "        [         0,          0,          0,          0,          0,          0,\n",
      "                  0,          0],\n",
      "        [         0,          0,          0,          0,          0,          0,\n",
      "                  0,          0],\n",
      "        [         0,          0,          0,          0,          0,          0,\n",
      "                  0,          0],\n",
      "        [         0,          0,          0,          0,          0,          0,\n",
      "                  0,          0],\n",
      "        [         0,          0,          0,          0,          0,          0,\n",
      "                  0,          0],\n",
      "        [         0,          0,          0,          0,          0,          0,\n",
      "                  0,          0]], dtype=torch.int32)\n",
      "[ Tensor t2's Attribute ]\n",
      " - tensor.shape  : torch.Size([2])\n",
      " - tensor.ndim   : 1D\n",
      " - tensor.dtype  : torch.int32\n",
      " - tensor.device : cpu\n",
      " - tensor.requires_grad : False\n",
      " - tensor.data \n",
      "tensor([10, 20], dtype=torch.int32)\n",
      "[ Tensor t3's Attribute ]\n",
      " - tensor.shape  : torch.Size([4])\n",
      " - tensor.ndim   : 1D\n",
      " - tensor.dtype  : torch.bool\n",
      " - tensor.device : cpu\n",
      " - tensor.requires_grad : False\n",
      " - tensor.data \n",
      "tensor([ True,  True, False,  True])\n",
      "[ Tensor t4's Attribute ]\n",
      " - tensor.shape  : torch.Size([2])\n",
      " - tensor.ndim   : 1D\n",
      " - tensor.dtype  : torch.float32\n",
      " - tensor.device : cpu\n",
      " - tensor.requires_grad : False\n",
      " - tensor.data \n",
      "tensor([10., 20.])\n"
     ]
    }
   ],
   "source": [
    "print_attribute(t1, 't1')\n",
    "print_attribute(t2, 't2')\n",
    "print_attribute(t3, 't3')\n",
    "print_attribute(t4, 't4')"
   ]
  },
  {
   "cell_type": "markdown",
   "metadata": {},
   "source": [
    "- Tensor 생성 (2) 원하는 값으로 텐서 생성 => torch.tensor()"
   ]
  },
  {
   "cell_type": "code",
   "execution_count": 22,
   "metadata": {},
   "outputs": [
    {
     "name": "stdout",
     "output_type": "stream",
     "text": [
      "[ Tensor t1's Attribute ]\n",
      " - tensor.shape  : torch.Size([])\n",
      " - tensor.ndim   : 0D\n",
      " - tensor.dtype  : torch.int64\n",
      " - tensor.device : cpu\n",
      " - tensor.requires_grad : False\n",
      " - tensor.data \n",
      "10\n"
     ]
    }
   ],
   "source": [
    "t1=torch.tensor(10)     # scalar 데이터, int64\n",
    "print_attribute(t1, 't1')\n"
   ]
  },
  {
   "cell_type": "code",
   "execution_count": 24,
   "metadata": {},
   "outputs": [
    {
     "name": "stdout",
     "output_type": "stream",
     "text": [
      "[ Tensor t1's Attribute ]\n",
      " - tensor.shape  : torch.Size([])\n",
      " - tensor.ndim   : 0D\n",
      " - tensor.dtype  : torch.float32\n",
      " - tensor.device : cpu\n",
      " - tensor.requires_grad : False\n",
      " - tensor.data \n",
      "10.0\n"
     ]
    }
   ],
   "source": [
    "t1=torch.tensor(10.)     # scalar 데이터, float32\n",
    "print_attribute(t1, 't1')"
   ]
  },
  {
   "cell_type": "code",
   "execution_count": 26,
   "metadata": {},
   "outputs": [
    {
     "name": "stdout",
     "output_type": "stream",
     "text": [
      "[ Tensor t1's Attribute ]\n",
      " - tensor.shape  : torch.Size([])\n",
      " - tensor.ndim   : 0D\n",
      " - tensor.dtype  : torch.bool\n",
      " - tensor.device : cpu\n",
      " - tensor.requires_grad : False\n",
      " - tensor.data \n",
      "True\n"
     ]
    }
   ],
   "source": [
    "# dtype 매개변수 : 원하는 데이터 타입 지정 가능 \n",
    "t1=torch.tensor(10., dtype=torch.bool)     # scalar 데이터, float32 --> bool\n",
    "print_attribute(t1, 't1')"
   ]
  },
  {
   "cell_type": "code",
   "execution_count": 27,
   "metadata": {},
   "outputs": [
    {
     "name": "stdout",
     "output_type": "stream",
     "text": [
      "[ Tensor t1's Attribute ]\n",
      " - tensor.shape  : torch.Size([3])\n",
      " - tensor.ndim   : 1D\n",
      " - tensor.dtype  : torch.int8\n",
      " - tensor.device : cpu\n",
      " - tensor.requires_grad : False\n",
      " - tensor.data \n",
      "tensor([1, 2, 3], dtype=torch.int8)\n"
     ]
    }
   ],
   "source": [
    "t1=torch.tensor([1,2,3], dtype=torch.int8)     # 1D 데이터\n",
    "print_attribute(t1, 't1')"
   ]
  },
  {
   "cell_type": "code",
   "execution_count": 28,
   "metadata": {},
   "outputs": [
    {
     "name": "stdout",
     "output_type": "stream",
     "text": [
      "[ Tensor t1's Attribute ]\n",
      " - tensor.shape  : torch.Size([1, 3])\n",
      " - tensor.ndim   : 2D\n",
      " - tensor.dtype  : torch.int8\n",
      " - tensor.device : cpu\n",
      " - tensor.requires_grad : False\n",
      " - tensor.data \n",
      "tensor([[1, 2, 3]], dtype=torch.int8)\n"
     ]
    }
   ],
   "source": [
    "t1=torch.tensor([[1,2,3]], dtype=torch.int8)     # 2D 데이터\n",
    "print_attribute(t1, 't1')"
   ]
  },
  {
   "cell_type": "markdown",
   "metadata": {},
   "source": [
    "- Tensor 생성 (3) 특정 값으로 채운 텐서 => 0, 1 등의 값"
   ]
  },
  {
   "cell_type": "code",
   "execution_count": 31,
   "metadata": {},
   "outputs": [
    {
     "name": "stdout",
     "output_type": "stream",
     "text": [
      "[ Tensor t1's Attribute ]\n",
      " - tensor.shape  : torch.Size([5, 5])\n",
      " - tensor.ndim   : 2D\n",
      " - tensor.dtype  : torch.int8\n",
      " - tensor.device : cpu\n",
      " - tensor.requires_grad : False\n",
      " - tensor.data \n",
      "tensor([[0, 0, 0, 0, 0],\n",
      "        [0, 0, 0, 0, 0],\n",
      "        [0, 0, 0, 0, 0],\n",
      "        [0, 0, 0, 0, 0],\n",
      "        [0, 0, 0, 0, 0]], dtype=torch.int8)\n"
     ]
    }
   ],
   "source": [
    "#0으로 채운 텐서\n",
    "t1=torch.zeros((5,5), dtype=torch.int8)\n",
    "print_attribute(t1, 't1')"
   ]
  },
  {
   "cell_type": "code",
   "execution_count": 33,
   "metadata": {},
   "outputs": [
    {
     "name": "stdout",
     "output_type": "stream",
     "text": [
      "[ Tensor t1's Attribute ]\n",
      " - tensor.shape  : torch.Size([2, 4])\n",
      " - tensor.ndim   : 2D\n",
      " - tensor.dtype  : torch.int8\n",
      " - tensor.device : cpu\n",
      " - tensor.requires_grad : False\n",
      " - tensor.data \n",
      "tensor([[1, 1, 1, 1],\n",
      "        [1, 1, 1, 1]], dtype=torch.int8)\n"
     ]
    }
   ],
   "source": [
    "#1으로 채운 텐서\n",
    "t1=torch.ones((2,4), dtype=torch.int8)\n",
    "print_attribute(t1, 't1')"
   ]
  },
  {
   "cell_type": "code",
   "execution_count": 34,
   "metadata": {},
   "outputs": [
    {
     "name": "stdout",
     "output_type": "stream",
     "text": [
      "torch.Size([2, 6])\n"
     ]
    }
   ],
   "source": [
    "# 이미 존재하는 텐서와 동일한  shape으로 잡고 값 채우기 => zeros_like(), ones_like(), full_like()\n",
    "img=torch.tensor([[2,3,4,5,6,7], [2,3,4,5,6,7]])\n",
    "print(img.shape)"
   ]
  },
  {
   "cell_type": "code",
   "execution_count": 35,
   "metadata": {},
   "outputs": [
    {
     "name": "stdout",
     "output_type": "stream",
     "text": [
      "tensor([[0, 0, 0, 0, 0, 0],\n",
      "        [0, 0, 0, 0, 0, 0]])\n"
     ]
    }
   ],
   "source": [
    "zero_img = torch.zeros_like(img)\n",
    "print(zero_img)"
   ]
  },
  {
   "cell_type": "code",
   "execution_count": 36,
   "metadata": {},
   "outputs": [
    {
     "name": "stdout",
     "output_type": "stream",
     "text": [
      "tensor([[1, 1, 1, 1, 1, 1],\n",
      "        [1, 1, 1, 1, 1, 1]])\n"
     ]
    }
   ],
   "source": [
    "one_img = torch.ones_like(img)\n",
    "print(one_img)"
   ]
  },
  {
   "cell_type": "code",
   "execution_count": 37,
   "metadata": {},
   "outputs": [
    {
     "name": "stdout",
     "output_type": "stream",
     "text": [
      "tensor([[7, 7, 7, 7, 7, 7],\n",
      "        [7, 7, 7, 7, 7, 7]])\n"
     ]
    }
   ],
   "source": [
    "full_img = torch.full_like(img, 7)\n",
    "print(full_img)"
   ]
  },
  {
   "cell_type": "code",
   "execution_count": 38,
   "metadata": {},
   "outputs": [
    {
     "name": "stdout",
     "output_type": "stream",
     "text": [
      "tensor([[1., 0., 0., 0., 0.],\n",
      "        [0., 1., 0., 0., 0.],\n",
      "        [0., 0., 1., 0., 0.],\n",
      "        [0., 0., 0., 1., 0.],\n",
      "        [0., 0., 0., 0., 1.]])\n"
     ]
    }
   ],
   "source": [
    "# 대각선 방향으로 1채우기 => eye()\n",
    "t1=torch.eye(5)\n",
    "print(t1)"
   ]
  },
  {
   "cell_type": "code",
   "execution_count": 42,
   "metadata": {},
   "outputs": [
    {
     "name": "stdout",
     "output_type": "stream",
     "text": [
      "tensor([[1., 0., 0.],\n",
      "        [0., 1., 0.],\n",
      "        [0., 0., 1.]])\n"
     ]
    }
   ],
   "source": [
    "t1=torch.eye(3)\n",
    "print(t1)"
   ]
  },
  {
   "cell_type": "markdown",
   "metadata": {},
   "source": [
    "- Tensor 생성 방법 (4) : 임의의 값으로 Tensor 생성  => torch.rand(), torch.randn(), torch.randint()"
   ]
  },
  {
   "cell_type": "code",
   "execution_count": 57,
   "metadata": {},
   "outputs": [
    {
     "data": {
      "text/plain": [
       "tensor([[[ 0.1284,  0.5735, -0.1670],\n",
       "         [ 0.3593,  0.4641,  0.4174]],\n",
       "\n",
       "        [[-0.6457,  0.1431, -0.4029],\n",
       "         [-0.3369, -0.7002, -0.4296]]])"
      ]
     },
     "execution_count": 57,
     "metadata": {},
     "output_type": "execute_result"
    }
   ],
   "source": [
    "t1=torch.randn(2, 2, 3)\n",
    "t1"
   ]
  },
  {
   "cell_type": "markdown",
   "metadata": {},
   "source": [
    "- Tensor 생성 방법 (5) : Ndarray 객체 활용 => torch.from_numpy(), torch.as_tensor(), tensor()"
   ]
  },
  {
   "cell_type": "code",
   "execution_count": 44,
   "metadata": {},
   "outputs": [
    {
     "name": "stdout",
     "output_type": "stream",
     "text": [
      "[11 22 33] <class 'numpy.ndarray'>\n"
     ]
    }
   ],
   "source": [
    "# 데이터생성\n",
    "import numpy as np\n",
    "\n",
    "data=np.array([11,22,33])\n",
    "print(data, type(data))"
   ]
  },
  {
   "cell_type": "code",
   "execution_count": 45,
   "metadata": {},
   "outputs": [
    {
     "name": "stdout",
     "output_type": "stream",
     "text": [
      "tensor([11, 22, 33], dtype=torch.int32)\n"
     ]
    }
   ],
   "source": [
    "t1=torch.from_numpy(data)\n",
    "print(t1)"
   ]
  },
  {
   "cell_type": "code",
   "execution_count": 46,
   "metadata": {},
   "outputs": [
    {
     "name": "stdout",
     "output_type": "stream",
     "text": [
      "tensor([11, 22, 33], dtype=torch.int32)\n"
     ]
    }
   ],
   "source": [
    "t2=torch.as_tensor(data)\n",
    "print(t2)"
   ]
  },
  {
   "cell_type": "code",
   "execution_count": 47,
   "metadata": {},
   "outputs": [
    {
     "name": "stdout",
     "output_type": "stream",
     "text": [
      "tensor([11, 22, 33], dtype=torch.int32)\n"
     ]
    }
   ],
   "source": [
    "t3=torch.tensor(data)\n",
    "print(t3)"
   ]
  },
  {
   "cell_type": "code",
   "execution_count": 48,
   "metadata": {},
   "outputs": [],
   "source": [
    "# ndarray 원소 변경\n",
    "data[0]=100"
   ]
  },
  {
   "cell_type": "code",
   "execution_count": 49,
   "metadata": {},
   "outputs": [
    {
     "name": "stdout",
     "output_type": "stream",
     "text": [
      "[100  22  33]\n",
      "tensor([100,  22,  33], dtype=torch.int32)\n",
      "tensor([100,  22,  33], dtype=torch.int32)\n",
      "tensor([11, 22, 33], dtype=torch.int32)\n"
     ]
    }
   ],
   "source": [
    "# from_numpy(), as_tensor() ==> 데이터 공유\n",
    "# tensor() ==> 복사본 생성 \n",
    "print(data, t1, t2, t3, sep='\\n')"
   ]
  },
  {
   "cell_type": "markdown",
   "metadata": {},
   "source": [
    "- 브로드캐스팅 연산"
   ]
  },
  {
   "cell_type": "code",
   "execution_count": 58,
   "metadata": {},
   "outputs": [
    {
     "name": "stdout",
     "output_type": "stream",
     "text": [
      "m1.shape => torch.Size([1, 2]), m2.shape => torch.Size([1])\n"
     ]
    }
   ],
   "source": [
    "m1= torch.FloatTensor([[1,2]])\n",
    "m2= torch.FloatTensor([3])\n",
    "\n",
    "print(f'm1.shape => {m1.shape}, m2.shape => {m2.shape}')"
   ]
  },
  {
   "cell_type": "code",
   "execution_count": 59,
   "metadata": {},
   "outputs": [
    {
     "name": "stdout",
     "output_type": "stream",
     "text": [
      "m3.shape => torch.Size([1, 2])\n",
      "m3 =>\n",
      "tensor([[4., 5.]])\n"
     ]
    }
   ],
   "source": [
    "m3= m1 + m2\n",
    "print(f'm3.shape => {m3.shape}\\nm3 =>\\n{m3}')"
   ]
  },
  {
   "cell_type": "code",
   "execution_count": 60,
   "metadata": {},
   "outputs": [
    {
     "name": "stdout",
     "output_type": "stream",
     "text": [
      "m1.shape => torch.Size([1, 2]), m2.shape => torch.Size([2, 1])\n"
     ]
    }
   ],
   "source": [
    "m1= torch.FloatTensor([[1,2]])\n",
    "m2= torch.FloatTensor([[3], [4]])\n",
    "\n",
    "print(f'm1.shape => {m1.shape}, m2.shape => {m2.shape}')"
   ]
  },
  {
   "cell_type": "code",
   "execution_count": 61,
   "metadata": {},
   "outputs": [
    {
     "name": "stdout",
     "output_type": "stream",
     "text": [
      "m3.shape => torch.Size([2, 2])\n",
      "m3 =>\n",
      "tensor([[4., 5.],\n",
      "        [5., 6.]])\n"
     ]
    }
   ],
   "source": [
    "m3= m1 + m2\n",
    "print(f'm3.shape => {m3.shape}\\nm3 =>\\n{m3}')"
   ]
  },
  {
   "cell_type": "code",
   "execution_count": 63,
   "metadata": {},
   "outputs": [
    {
     "name": "stdout",
     "output_type": "stream",
     "text": [
      "m3.shape => torch.Size([2, 2])\n",
      "m3 =>\n",
      "tensor([[3., 6.],\n",
      "        [4., 8.]])\n",
      "m4.shape => torch.Size([2, 2])\n",
      "m3 =>\n",
      "tensor([[3., 6.],\n",
      "        [4., 8.]])\n"
     ]
    }
   ],
   "source": [
    "m3= m1 * m2\n",
    "m4= m1.mul(m2)\n",
    "\n",
    "print(f'm3.shape => {m3.shape}\\nm3 =>\\n{m3}')\n",
    "\n",
    "print(f'm4.shape => {m4.shape}\\nm3 =>\\n{m4}')"
   ]
  },
  {
   "cell_type": "code",
   "execution_count": 65,
   "metadata": {},
   "outputs": [
    {
     "data": {
      "text/plain": [
       "(tensor([[4., 5.],\n",
       "         [5., 6.]]),\n",
       " tensor([[-2., -1.],\n",
       "         [-3., -2.]]),\n",
       " tensor([[3., 6.],\n",
       "         [4., 8.]]),\n",
       " tensor([[0.3333, 0.6667],\n",
       "         [0.2500, 0.5000]]))"
      ]
     },
     "execution_count": 65,
     "metadata": {},
     "output_type": "execute_result"
    }
   ],
   "source": [
    "# 원소 단위 연산 수행 메서드들\n",
    "m1.add(m2) , m1.sub(m2), m1.mul(m2), m1.div(m2)"
   ]
  },
  {
   "cell_type": "code",
   "execution_count": 66,
   "metadata": {},
   "outputs": [
    {
     "data": {
      "text/plain": [
       "tensor([[11.]])"
      ]
     },
     "execution_count": 66,
     "metadata": {},
     "output_type": "execute_result"
    }
   ],
   "source": [
    "# 행렬 단위 연산 수행 메서드들\n",
    "m1.matmul(m2)"
   ]
  },
  {
   "cell_type": "code",
   "execution_count": null,
   "metadata": {},
   "outputs": [],
   "source": []
  }
 ],
 "metadata": {
  "kernelspec": {
   "display_name": "TORCH_PY38",
   "language": "python",
   "name": "python3"
  },
  "language_info": {
   "codemirror_mode": {
    "name": "ipython",
    "version": 3
   },
   "file_extension": ".py",
   "mimetype": "text/x-python",
   "name": "python",
   "nbconvert_exporter": "python",
   "pygments_lexer": "ipython3",
   "version": "3.8.18"
  }
 },
 "nbformat": 4,
 "nbformat_minor": 2
}
