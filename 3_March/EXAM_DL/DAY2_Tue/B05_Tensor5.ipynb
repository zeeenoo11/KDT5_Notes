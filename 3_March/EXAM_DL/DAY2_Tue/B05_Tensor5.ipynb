{
 "cells": [
  {
   "cell_type": "markdown",
   "metadata": {},
   "source": [
    "#### 텐서 연결 & 결합"
   ]
  },
  {
   "cell_type": "code",
   "execution_count": 2,
   "metadata": {},
   "outputs": [],
   "source": [
    "import torch"
   ]
  },
  {
   "cell_type": "code",
   "execution_count": 11,
   "metadata": {},
   "outputs": [
    {
     "data": {
      "text/plain": [
       "(tensor([[0.4657, 0.2328, 0.4527, 0.5871, 0.4086, 0.1272, 0.6373, 0.2421, 0.7312,\n",
       "          0.7224],\n",
       "         [0.1992, 0.6948, 0.5830, 0.6318, 0.5559, 0.1262, 0.9790, 0.8443, 0.1256,\n",
       "          0.4456]]),\n",
       " tensor([0, 1, 0, 0, 1, 0, 1, 1, 0, 0]),\n",
       " tensor([[1, 1, 0, 1, 1, 0, 0, 0, 0, 0],\n",
       "         [0, 0, 1, 1, 1, 1, 0, 0, 0, 0]]))"
      ]
     },
     "execution_count": 11,
     "metadata": {},
     "output_type": "execute_result"
    }
   ],
   "source": [
    "# 텐서 데이터 생성\n",
    "torch.manual_seed(12)\n",
    "\n",
    "X = torch.rand(2, 10)   # 임의의 0 ~ 1 실수\n",
    "y = torch.randint(0, 2, (10, )) # low ~ high, shape -> 0 or 1\n",
    "y2 = torch.randint(0, 2, (2, 10))\n",
    "X, y, y2"
   ]
  },
  {
   "cell_type": "code",
   "execution_count": 10,
   "metadata": {},
   "outputs": [
    {
     "name": "stdout",
     "output_type": "stream",
     "text": [
      "X -> torch.Size([2, 10]), 2D\n",
      "y -> torch.Size([10]), 1D\n",
      "y2 -> torch.Size([2, 10]), 2D\n"
     ]
    }
   ],
   "source": [
    "print(f'X -> {X.shape}, {X.ndim}D')\n",
    "print(f'y -> {y.shape}, {y.ndim}D')\n",
    "print(f'y2 -> {y2.shape}, {y2.ndim}D')"
   ]
  },
  {
   "cell_type": "code",
   "execution_count": 21,
   "metadata": {},
   "outputs": [
    {
     "name": "stdout",
     "output_type": "stream",
     "text": [
      "tensor([[0.4657, 0.2328, 0.4527, 0.5871, 0.4086, 0.1272, 0.6373, 0.2421, 0.7312,\n",
      "         0.7224, 1.0000, 1.0000, 0.0000, 1.0000, 1.0000, 0.0000, 0.0000, 0.0000,\n",
      "         0.0000, 0.0000],\n",
      "        [0.1992, 0.6948, 0.5830, 0.6318, 0.5559, 0.1262, 0.9790, 0.8443, 0.1256,\n",
      "         0.4456, 0.0000, 0.0000, 1.0000, 1.0000, 1.0000, 1.0000, 0.0000, 0.0000,\n",
      "         0.0000, 0.0000]])\n",
      "torch.Size([2, 20])\n",
      "2\n"
     ]
    }
   ],
   "source": [
    "# tensor 연결 .cat\n",
    "xy1 = torch.cat([X, y2], dim=1)\n",
    "print(xy1)\n",
    "print(xy1.size())\n",
    "print(xy1.ndim)"
   ]
  },
  {
   "cell_type": "code",
   "execution_count": 16,
   "metadata": {},
   "outputs": [
    {
     "data": {
      "text/plain": [
       "tensor([[1., 4.],\n",
       "        [2., 5.],\n",
       "        [3., 6.]])"
      ]
     },
     "execution_count": 16,
     "metadata": {},
     "output_type": "execute_result"
    }
   ],
   "source": [
    "# tensor 연결 .stack\n",
    "x = torch.FloatTensor([1, 4])\n",
    "y = torch.FloatTensor([2, 5])\n",
    "z = torch.FloatTensor([3, 6])\n",
    "torch.stack([x, y, z])\n",
    "torch.cat([x.unsqueeze(0), y.unsqueeze(0), z.unsqueeze(0)], dim=0)\n"
   ]
  },
  {
   "cell_type": "code",
   "execution_count": 24,
   "metadata": {},
   "outputs": [
    {
     "name": "stdout",
     "output_type": "stream",
     "text": [
      "tensor([1., 1.]) tensor([10, 12])\n"
     ]
    }
   ],
   "source": [
    "# max 값 : dim=1 => 1\n",
    "max_value = xy1.max(dim=1)[0]   # '행' 중에서 최대; axis=1 와 반대!\n",
    "max_index = xy1.max(dim=1)[1]   \n",
    "print(max_value, max_index)     # 집계 연산이므로"
   ]
  },
  {
   "cell_type": "code",
   "execution_count": 25,
   "metadata": {},
   "outputs": [
    {
     "name": "stdout",
     "output_type": "stream",
     "text": [
      "tensor([0.4657, 0.6948, 0.5830, 0.6318, 0.5559, 0.1272, 0.9790, 0.8443, 0.7312,\n",
      "        0.7224, 1.0000, 1.0000, 1.0000, 1.0000, 1.0000, 1.0000, 0.0000, 0.0000,\n",
      "        0.0000, 0.0000]) tensor([0, 1, 1, 1, 1, 0, 1, 1, 0, 0, 0, 0, 1, 0, 0, 1, 0, 0, 0, 0])\n"
     ]
    }
   ],
   "source": [
    "# dim=0 -> 전체 \n",
    "max_value = xy1.max(dim=0)[0]   # '열' 중에서 최대\n",
    "max_index = xy1.max(dim=0)[1]\n",
    "print(max_value, max_index)     # 집계함수(max, sum, mode, mean 등등)는 항상 이 형식이다"
   ]
  },
  {
   "cell_type": "code",
   "execution_count": 26,
   "metadata": {},
   "outputs": [],
   "source": [
    "# 다시 tensor4로 돌아감"
   ]
  },
  {
   "cell_type": "code",
   "execution_count": null,
   "metadata": {},
   "outputs": [],
   "source": []
  }
 ],
 "metadata": {
  "kernelspec": {
   "display_name": "Torch_PY38",
   "language": "python",
   "name": "python3"
  },
  "language_info": {
   "codemirror_mode": {
    "name": "ipython",
    "version": 3
   },
   "file_extension": ".py",
   "mimetype": "text/x-python",
   "name": "python",
   "nbconvert_exporter": "python",
   "pygments_lexer": "ipython3",
   "version": "3.8.18"
  }
 },
 "nbformat": 4,
 "nbformat_minor": 2
}
