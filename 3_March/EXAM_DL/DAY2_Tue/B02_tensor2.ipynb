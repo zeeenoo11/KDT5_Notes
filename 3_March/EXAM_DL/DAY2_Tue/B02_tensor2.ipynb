{
 "cells": [
  {
   "cell_type": "markdown",
   "metadata": {},
   "source": [
    "### 인덱싱과 슬라이싱, 연산"
   ]
  },
  {
   "cell_type": "code",
   "execution_count": 2,
   "metadata": {},
   "outputs": [],
   "source": [
    "import numpy as np\n",
    "import torch"
   ]
  },
  {
   "cell_type": "code",
   "execution_count": 9,
   "metadata": {},
   "outputs": [],
   "source": [
    "points = torch.tensor([[4, 2], [5, 3], [6,4]], dtype=torch.int16)"
   ]
  },
  {
   "cell_type": "code",
   "execution_count": 14,
   "metadata": {},
   "outputs": [
    {
     "name": "stdout",
     "output_type": "stream",
     "text": [
      "tensor(3, dtype=torch.int16)\n",
      "tensor(4, dtype=torch.int16)\n",
      "tensor([[5, 3],\n",
      "        [6, 4]], dtype=torch.int16)\n"
     ]
    }
   ],
   "source": [
    "# 텐서의 원소 1개 접근\n",
    "# 데이터 3 추출\n",
    "print(points[1, 1])\n",
    "# 마지막 4 추출\n",
    "print(points[-1, -1])\n",
    "# 1번 행부터 나머지 모든 행 추출\n",
    "print(points[1:])"
   ]
  },
  {
   "cell_type": "code",
   "execution_count": 18,
   "metadata": {},
   "outputs": [
    {
     "name": "stdout",
     "output_type": "stream",
     "text": [
      "tensor([[-0.2398, -0.7151,  0.1491],\n",
      "        [-0.4795,  1.2635,  0.4994]])\n",
      "tensor([[[-1.2539],\n",
      "         [ 0.1546],\n",
      "         [-1.7640]],\n",
      "\n",
      "        [[ 1.2387],\n",
      "         [-1.6125],\n",
      "         [ 1.4627]]])\n",
      "tensor([[[[ 0.4086],\n",
      "          [-0.8017],\n",
      "          [-1.1879]],\n",
      "\n",
      "         [[ 0.0696],\n",
      "          [ 1.0405],\n",
      "          [-0.0313]]],\n",
      "\n",
      "\n",
      "        [[[ 1.2275],\n",
      "          [-1.3613],\n",
      "          [ 0.2629]],\n",
      "\n",
      "         [[-0.9269],\n",
      "          [-0.0401],\n",
      "          [ 0.2373]]]])\n"
     ]
    }
   ],
   "source": [
    "# randn 설명 (신기하다)\n",
    "print(torch.randn(2, 3))\n",
    "print(torch.randn(2, 3, 1))        # (3,1)이 2개        \n",
    "print(torch.randn(2, 2, 3, 1))     # (3,1) 2개가 2개    (배치, 층, 행, 열)"
   ]
  },
  {
   "cell_type": "markdown",
   "metadata": {},
   "source": [
    "브로드캐스팅 : 크기 다른 행렬들 사칙연산 수행"
   ]
  },
  {
   "cell_type": "code",
   "execution_count": 20,
   "metadata": {},
   "outputs": [
    {
     "name": "stdout",
     "output_type": "stream",
     "text": [
      "torch.Size([1, 2])\n",
      "tensor([[6., 8.]]) torch.Size([1, 2])\n"
     ]
    }
   ],
   "source": [
    "# Case 1 : 같은 크기 행렬\n",
    "m1 = torch.FloatTensor([[2, 3]])    # [1,2]\n",
    "m2 = torch.FloatTensor([[4, 5]])\n",
    "print(m1.shape)\n",
    "m3 = m1 + m2\n",
    "print(m3, m3.shape)"
   ]
  },
  {
   "cell_type": "code",
   "execution_count": 23,
   "metadata": {},
   "outputs": [
    {
     "name": "stdout",
     "output_type": "stream",
     "text": [
      "torch.Size([1])\n",
      "tensor([[6., 7.]]) torch.Size([1, 2])\n"
     ]
    }
   ],
   "source": [
    "# Case 2 : 벡터와 행렬\n",
    "m1 = torch.FloatTensor([[2, 3]])\n",
    "m2 = torch.FloatTensor([4])        # [1]\n",
    "print(m2.shape)\n",
    "m3 = m1 + m2\n",
    "print(m3, m3.shape)     # [6., 7.] => 둘 다 적용"
   ]
  },
  {
   "cell_type": "code",
   "execution_count": 25,
   "metadata": {},
   "outputs": [
    {
     "name": "stdout",
     "output_type": "stream",
     "text": [
      "torch.Size([2, 1])\n",
      "tensor([[6., 7.],\n",
      "        [7., 8.]]) torch.Size([2, 2])\n"
     ]
    }
   ],
   "source": [
    "# Case 3 : 크기 다른 두 행렬\n",
    "m1 = torch.FloatTensor([[2, 3]])    # (1, 2)\n",
    "m2 = torch.FloatTensor([[4], [5]])  # (2, 1)\n",
    "print(m2.shape)\n",
    "m3 = m1 + m2\n",
    "print(m3, m3.shape)     # 각 요소에 적용 : 행렬 방식"
   ]
  },
  {
   "cell_type": "code",
   "execution_count": 29,
   "metadata": {},
   "outputs": [
    {
     "name": "stdout",
     "output_type": "stream",
     "text": [
      "tensor([[ 8., 12.],\n",
      "        [10., 15.]]) \n",
      " torch.Size([2, 2])\n",
      "tensor([[ 8., 12.],\n",
      "        [10., 15.]]) \n",
      " torch.Size([2, 2])\n"
     ]
    }
   ],
   "source": [
    "m3 = m1 * m2\n",
    "m4 = m1.mul(m2)     #   곱하기 연산\n",
    "print(m3, '\\n', m3.shape)\n",
    "print(m4, '\\n', m4.shape)"
   ]
  },
  {
   "cell_type": "code",
   "execution_count": 30,
   "metadata": {},
   "outputs": [
    {
     "data": {
      "text/plain": [
       "(tensor([[6., 7.],\n",
       "         [7., 8.]]),\n",
       " tensor([[-2., -1.],\n",
       "         [-3., -2.]]),\n",
       " tensor([[ 8., 12.],\n",
       "         [10., 15.]]),\n",
       " tensor([[0.5000, 0.7500],\n",
       "         [0.4000, 0.6000]]))"
      ]
     },
     "execution_count": 30,
     "metadata": {},
     "output_type": "execute_result"
    }
   ],
   "source": [
    "# 원소 단위 연산자 .add .sub .mul .div\n",
    "m1.add(m2), m1.sub(m2), m1.mul(m2), m1.div(m2)"
   ]
  },
  {
   "cell_type": "code",
   "execution_count": 31,
   "metadata": {},
   "outputs": [],
   "source": [
    "# 점심시간! fin"
   ]
  },
  {
   "cell_type": "code",
   "execution_count": null,
   "metadata": {},
   "outputs": [],
   "source": []
  }
 ],
 "metadata": {
  "kernelspec": {
   "display_name": "Torch_PY38",
   "language": "python",
   "name": "python3"
  },
  "language_info": {
   "codemirror_mode": {
    "name": "ipython",
    "version": 3
   },
   "file_extension": ".py",
   "mimetype": "text/x-python",
   "name": "python",
   "nbconvert_exporter": "python",
   "pygments_lexer": "ipython3",
   "version": "3.8.18"
  }
 },
 "nbformat": 4,
 "nbformat_minor": 2
}
