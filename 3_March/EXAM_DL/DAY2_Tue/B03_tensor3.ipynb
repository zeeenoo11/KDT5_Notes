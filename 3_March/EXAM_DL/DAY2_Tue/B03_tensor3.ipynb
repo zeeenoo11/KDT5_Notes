{
 "cells": [
  {
   "cell_type": "markdown",
   "metadata": {},
   "source": [
    "\n",
    "행열 곱셈 : 테이블 1의 행 X 테이블2의 열\n",
    "    -> tensor.matmul( )\n",
    "    "
   ]
  },
  {
   "cell_type": "code",
   "execution_count": 2,
   "metadata": {},
   "outputs": [],
   "source": [
    "import torch\n",
    "data = torch.tensor([[1, 2], [3, 4]])\n",
    "w = torch.tensor([7])"
   ]
  },
  {
   "cell_type": "code",
   "execution_count": 3,
   "metadata": {},
   "outputs": [
    {
     "name": "stdout",
     "output_type": "stream",
     "text": [
      "data.shape : torch.Size([2, 2])\n",
      "w.shape : torch.Size([1])\n"
     ]
    }
   ],
   "source": [
    "print(f'data.shape : {data.shape}')\n",
    "print(f'w.shape : {w.shape}')"
   ]
  },
  {
   "cell_type": "code",
   "execution_count": 4,
   "metadata": {},
   "outputs": [
    {
     "name": "stdout",
     "output_type": "stream",
     "text": [
      "data * w : tensor([[ 7, 14],\n",
      "        [21, 28]])\n",
      "data.mul(w) : tensor([[ 7, 14],\n",
      "        [21, 28]])\n"
     ]
    }
   ],
   "source": [
    "# 원소 단위 곱셈 : 인덱스에 1:1 대응하도록 브로드캐스팅\n",
    "print(f'data * w : {data * w}')\n",
    "print(f'data.mul(w) : {data.mul(w)}')"
   ]
  },
  {
   "cell_type": "code",
   "execution_count": 13,
   "metadata": {},
   "outputs": [
    {
     "name": "stdout",
     "output_type": "stream",
     "text": [
      "size mismatch, got input (2), mat (2x2), vec (1)\n",
      "\n",
      "torch.Size([2])\n",
      "data.matmul(w1) :\n",
      "tensor([23, 53])\n",
      "\n",
      "torch.Size([2, 1])\n",
      "data.matmul(w2) :\n",
      "tensor([[23],\n",
      "        [53]])\n"
     ]
    }
   ],
   "source": [
    "# 행열 단위 곱셈 : 행x열 : (행, 열) x (행, 열)\n",
    "# w : 스칼라 값\n",
    "try:\n",
    "    print(f'data.matmul(w) : {data.matmul(w)}')\n",
    "except Exception as e:\n",
    "    print(e)\n",
    "print()\n",
    "\n",
    "# \n",
    "w1 = torch.tensor([7, 8])\n",
    "print(w1.shape)\n",
    "print(f'data.matmul(w1) :\\n{data.matmul(w1)}')  # tensor([23, 53])\n",
    "print()\n",
    "\n",
    "# 벡터 값\n",
    "w2 = torch.tensor([[7], [8]])\n",
    "print(w2.shape)\n",
    "print(f'data.matmul(w2) :\\n{data.matmul(w2)}')   # tensor([[23],\n",
    "#                                                          [53]])"
   ]
  },
  {
   "cell_type": "code",
   "execution_count": null,
   "metadata": {},
   "outputs": [],
   "source": [
    "# 바로 4번으로?"
   ]
  },
  {
   "cell_type": "code",
   "execution_count": null,
   "metadata": {},
   "outputs": [],
   "source": []
  }
 ],
 "metadata": {
  "kernelspec": {
   "display_name": "Torch_PY38",
   "language": "python",
   "name": "python3"
  },
  "language_info": {
   "codemirror_mode": {
    "name": "ipython",
    "version": 3
   },
   "file_extension": ".py",
   "mimetype": "text/x-python",
   "name": "python",
   "nbconvert_exporter": "python",
   "pygments_lexer": "ipython3",
   "version": "3.8.18"
  }
 },
 "nbformat": 4,
 "nbformat_minor": 2
}
