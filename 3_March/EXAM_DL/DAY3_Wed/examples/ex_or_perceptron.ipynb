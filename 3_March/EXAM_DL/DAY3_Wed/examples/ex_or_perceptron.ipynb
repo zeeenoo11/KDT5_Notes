{
 "cells": [
  {
   "cell_type": "markdown",
   "metadata": {},
   "source": [
    "- [1] OR GATE 연산"
   ]
  },
  {
   "cell_type": "code",
   "execution_count": 13,
   "metadata": {},
   "outputs": [],
   "source": [
    "# ---------------------------------------------------------\n",
    "# 함  수  명 : or_gate\n",
    "# 함수  기능 : OR 연산 수행  즉, 2개 입력 시 1개 이상 1이면 1\n",
    "# 매개  변수 : x1, x2\n",
    "# 반  환  값 : 정수 0 또는 1\n",
    "# ---------------------------------------------------------\n",
    "def or_gate(x1, x2):\n",
    "    # 입력값 x1에 대한 가중치 w1, x2에 대한 가중치 w2\n",
    "    w1, w2 = 0.6, 0.6\n",
    "\n",
    "    # bias 편향값\n",
    "    b = -0.5\n",
    "\n",
    "    # 연산 결과\n",
    "    result = x1*w1 + x2*w2 + b\n",
    "\n",
    "    # 결과가 0보다 작거나 같으면 0, 0보다 크면 1을 반환합니다.\n",
    "    return 0 if result <= 0 else 1\n",
    "    \n",
    "  "
   ]
  },
  {
   "cell_type": "code",
   "execution_count": 14,
   "metadata": {},
   "outputs": [
    {
     "name": "stdout",
     "output_type": "stream",
     "text": [
      "입력값: 0 0 / 결과: 0\n",
      "입력값: 0 1 / 결과: 1\n",
      "입력값: 1 0 / 결과: 1\n",
      "입력값: 1 1 / 결과: 1\n"
     ]
    }
   ],
   "source": [
    "# 입력값 데이터 생성\n",
    "input_list = [(0, 0), (0, 1), (1, 0), (1, 1)]\n",
    "\n",
    "\n",
    "# 입력에 대한 결과 출력\n",
    "for x1, x2 in input_list:\n",
    "\n",
    "    # or gate의 결과 저장\n",
    "    or_result = or_gate(x1, x2)\n",
    "\n",
    "    # 결과 출력\n",
    "    print(f\"입력값: {x1} {x2} / 결과: {or_result}\")  "
   ]
  },
  {
   "cell_type": "markdown",
   "metadata": {},
   "source": [
    "- [2] AND GATE 연산"
   ]
  },
  {
   "cell_type": "code",
   "execution_count": 8,
   "metadata": {},
   "outputs": [],
   "source": [
    "# --------------------------------------------------------------------\n",
    "# 함  수  명 : and_gate\n",
    "# 함수  기능 : AND 연산 수행  즉, 2개 입력 시 2개 모두 1인 경우 만 1\n",
    "# 매개  변수 : x1, x2\n",
    "# 반  환  값 : 정수 0 또는 1\n",
    "# --------------------------------------------------------------------\n",
    "def and_gate(x1, x2):\n",
    "    # 입력값 x1에 대한 가중치 w1, x2에 대한 가중치 w2\n",
    "    w1, w2 = 0.6, 0.6\n",
    "\n",
    "    # bias 편향값\n",
    "    b = -0.7\n",
    "\n",
    "    # 연산 결과\n",
    "    result = x1*w1 + x2*w2 + b\n",
    "\n",
    "    # 결과가 0보다 작거나 같으면 0, 0보다 크면 1을 반환\n",
    "    return 0 if result <= 0 else 1"
   ]
  },
  {
   "cell_type": "code",
   "execution_count": 9,
   "metadata": {},
   "outputs": [
    {
     "name": "stdout",
     "output_type": "stream",
     "text": [
      "입력값: 0 0 / 결과: 0\n",
      "입력값: 0 1 / 결과: 0\n",
      "입력값: 1 0 / 결과: 0\n",
      "입력값: 1 1 / 결과: 1\n"
     ]
    }
   ],
   "source": [
    "# 입력값 데이터 생성\n",
    "input_list = [(0, 0), (0, 1), (1, 0), (1, 1)]\n",
    "\n",
    "\n",
    "\n",
    "# 입력에 대한 결과 출력\n",
    "for x1, x2 in input_list:\n",
    "    # and gate의 결과 저장\n",
    "    and_result = and_gate(x1, x2)\n",
    "\n",
    "    # 결과 출력\n",
    "    print(f\"입력값: {x1} {x2} / 결과: {and_result}\")"
   ]
  },
  {
   "cell_type": "markdown",
   "metadata": {},
   "source": [
    "- [3] NAND GATE 연산"
   ]
  },
  {
   "cell_type": "code",
   "execution_count": 10,
   "metadata": {},
   "outputs": [],
   "source": [
    "# --------------------------------------------------------------------\n",
    "# 함  수  명 : nand_gate\n",
    "# 함수  기능 : NAND 연산 수행  즉, 2개 입력 시 2개 모두 1인 경우 만 1\n",
    "# 매개  변수 : x1, x2\n",
    "# 반  환  값 : 정수 0 또는 1\n",
    "# --------------------------------------------------------------------\n",
    "def nand_gate(x1, x2):\n",
    "    # 입력값 x1에 대한 가중치 w1, x2에 대한 가중치 w2\n",
    "    w1, w2 = 0.6, 0.6\n",
    "\n",
    "    # bias 편향값\n",
    "    b = -0.7\n",
    "    # 연산 결과\n",
    "    result = x1*w1 + x2*w2 + b\n",
    "\n",
    "    # 결과가 0보다 작거나 같으면 1, 0보다 크면 0을 반환\n",
    "    return 1 if result <= 0 else 0"
   ]
  },
  {
   "cell_type": "code",
   "execution_count": 11,
   "metadata": {},
   "outputs": [
    {
     "name": "stdout",
     "output_type": "stream",
     "text": [
      "입력값: 0 0 / 결과: 1\n",
      "입력값: 0 1 / 결과: 1\n",
      "입력값: 1 0 / 결과: 1\n",
      "입력값: 1 1 / 결과: 0\n"
     ]
    }
   ],
   "source": [
    "# 입력값 데이터 생성\n",
    "input_list = [(0, 0), (0, 1), (1, 0), (1, 1)]\n",
    "\n",
    "\n",
    "\n",
    "# 입력에 대한 결과 출력\n",
    "for x1, x2 in input_list:\n",
    "    # and gate의 결과 저장\n",
    "    nand_result = nand_gate(x1, x2)\n",
    "\n",
    "    # 결과 출력\n",
    "    print(f\"입력값: {x1} {x2} / 결과: {nand_result}\")"
   ]
  },
  {
   "cell_type": "markdown",
   "metadata": {},
   "source": [
    "- [4] XOR GATE 연산"
   ]
  },
  {
   "cell_type": "code",
   "execution_count": 15,
   "metadata": {},
   "outputs": [
    {
     "name": "stdout",
     "output_type": "stream",
     "text": [
      "입력값: 0 0 / 결과: 0\n",
      "입력값: 0 1 / 결과: 1\n",
      "입력값: 1 0 / 결과: 1\n",
      "입력값: 1 1 / 결과: 0\n"
     ]
    }
   ],
   "source": [
    "# 입력값 데이터 생성\n",
    "input_list = [(0, 0), (0, 1), (1, 0), (1, 1)]\n",
    "\n",
    "\n",
    "\n",
    "# 입력에 대한 결과 출력\n",
    "for x1, x2 in input_list:\n",
    "    # or, nand gate의 결과 저장\n",
    "    or_result = or_gate(x1, x2)\n",
    "    nand_result = nand_gate(x1, x2)\n",
    "    \n",
    "    # x0r gate 결과 저장\n",
    "    xor_result = and_gate(or_result, nand_result)\n",
    "\n",
    "    # 결과 출력\n",
    "    print(f\"입력값: {x1} {x2} / 결과: {xor_result}\")"
   ]
  }
 ],
 "metadata": {
  "kernelspec": {
   "display_name": "TORCH_PY38",
   "language": "python",
   "name": "python3"
  },
  "language_info": {
   "codemirror_mode": {
    "name": "ipython",
    "version": 3
   },
   "file_extension": ".py",
   "mimetype": "text/x-python",
   "name": "python",
   "nbconvert_exporter": "python",
   "pygments_lexer": "ipython3",
   "version": "3.8.18"
  }
 },
 "nbformat": 4,
 "nbformat_minor": 2
}
