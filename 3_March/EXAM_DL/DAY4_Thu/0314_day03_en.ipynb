{
 "cells": [
  {
   "cell_type": "markdown",
   "metadata": {},
   "source": [
    "#### [ 미니 테스트  2024-03-14 ]<hr>"
   ]
  },
  {
   "cell_type": "markdown",
   "metadata": {},
   "source": [
    "[1] 지도학습에 대한 설명과 종류에 대해서 간략하게 설명해 주세요."
   ]
  },
  {
   "cell_type": "markdown",
   "metadata": {},
   "source": [
    "데이터와 라벨을 주고 정답을 알려주면서 기계를 학습하는 방법, 종류에는 회귀와 분류가 있다."
   ]
  },
  {
   "cell_type": "markdown",
   "metadata": {},
   "source": [
    "[2] 지도학습의 학습 프로세스를 간략하게 설명해 주세요."
   ]
  },
  {
   "cell_type": "markdown",
   "metadata": {},
   "source": [
    "데이터확인(상관계수 및 시각화) -> 데이터 전처리(인코딩, 범주화, 스케일링, 이상치-중복치-결측치 제거 or 대체) -> 데이터셋 나누기 -> 모델 학습 -> 모델 평가 -> 예측 -> 활용"
   ]
  },
  {
   "cell_type": "markdown",
   "metadata": {},
   "source": [
    "[3] 선형회귀 대해 간략하게 설명해주세요.  \n",
    "    - 개념  \n",
    "    - 조건  \n",
    "    - 동작원리  \n",
    "    - 선형식  \n",
    "    - 오차/잔차 계산 방법  "
   ]
  },
  {
   "cell_type": "markdown",
   "metadata": {},
   "source": [
    "- 선형회귀는 데이터에 대한 선형 관계를 가정하여 데이터를 예측하는 모델\n",
    "- 상관계수를 봤을때, 상관계수가 높거나,  산점도를 확인 했을때, 데이터가 선형적으로 분포되어 있어야 한다.\n",
    "- 오차가 가장 적은 선을 찾는다.\n",
    "- 선형식 : 예측값 = 가중치 * 입력값 + 절편\n",
    "- 오차/잔차 계산 방법 : 오차 = 타겟값 - 예측"
   ]
  },
  {
   "cell_type": "markdown",
   "metadata": {},
   "source": [
    "[4] 로지스틱회귀 대해 간략하게 설명해주세요.  \n",
    "   - 개념  \n",
    "   - 조건  \n",
    "   - 동작원리  \n",
    "   - 선형식  \n",
    "   - 오차/잔차 계산 방법  "
   ]
  },
  {
   "cell_type": "markdown",
   "metadata": {},
   "source": [
    "- 로지스틱회귀는 분류 문제를 해결하기 위한 회귀 모델 : 2진 분류 / 0 아니면 1\n",
    "- 타겟의 개수가 2개이고, 예측값이 0과 1 사이여야 한다. \n",
    "- \n",
    "- \n",
    "- 타겟이 1일때 오차값 + 타겟이 0일때 오차값 / 오차함수가 총 두개"
   ]
  },
  {
   "cell_type": "markdown",
   "metadata": {},
   "source": [
    "[5] Fashion MNIST 데이터셋에서 10개 카테고리 중 하나를 선택해서 2진 분류로 구현해 주세요.  \n",
    "- 데이터셋 : scikit-learn의 datasets 사용\n",
    "    - from sklearn.datasets import fetch_openml \n",
    "    - db_name = 'Fashion-MNIST'\n",
    "    - fashion_data = fetch_openml(name=db_name, parser='auto')"
   ]
  },
  {
   "cell_type": "markdown",
   "source": [
    "[1] 모듈 로딩"
   ],
   "metadata": {
    "collapsed": false
   }
  },
  {
   "cell_type": "code",
   "execution_count": 1,
   "metadata": {
    "ExecuteTime": {
     "end_time": "2024-03-14T05:37:58.427867200Z",
     "start_time": "2024-03-14T05:37:52.954262700Z"
    }
   },
   "outputs": [],
   "source": [
    "from sklearn.datasets import fetch_openml\n",
    "import pandas as pd\n",
    "import torch\n",
    "import torch.nn as nn      # LinearRegressoion 기능의 클래스 Linear\n",
    "import torch.nn.functional as F\n",
    "import torch.optim as optim\n",
    "from sklearn.preprocessing import OneHotEncoder"
   ]
  },
  {
   "cell_type": "code",
   "execution_count": 2,
   "metadata": {
    "ExecuteTime": {
     "end_time": "2024-03-14T05:38:02.103238500Z",
     "start_time": "2024-03-14T05:37:58.433412200Z"
    }
   },
   "outputs": [],
   "source": [
    "fashion_data = fetch_openml(name='Fashion-MNIST', parser='auto',as_frame=True) "
   ]
  },
  {
   "cell_type": "code",
   "outputs": [
    {
     "data": {
      "text/plain": "(['pixel1',\n  'pixel2',\n  'pixel3',\n  'pixel4',\n  'pixel5',\n  'pixel6',\n  'pixel7',\n  'pixel8',\n  'pixel9',\n  'pixel10',\n  'pixel11',\n  'pixel12',\n  'pixel13',\n  'pixel14',\n  'pixel15',\n  'pixel16',\n  'pixel17',\n  'pixel18',\n  'pixel19',\n  'pixel20',\n  'pixel21',\n  'pixel22',\n  'pixel23',\n  'pixel24',\n  'pixel25',\n  'pixel26',\n  'pixel27',\n  'pixel28',\n  'pixel29',\n  'pixel30',\n  'pixel31',\n  'pixel32',\n  'pixel33',\n  'pixel34',\n  'pixel35',\n  'pixel36',\n  'pixel37',\n  'pixel38',\n  'pixel39',\n  'pixel40',\n  'pixel41',\n  'pixel42',\n  'pixel43',\n  'pixel44',\n  'pixel45',\n  'pixel46',\n  'pixel47',\n  'pixel48',\n  'pixel49',\n  'pixel50',\n  'pixel51',\n  'pixel52',\n  'pixel53',\n  'pixel54',\n  'pixel55',\n  'pixel56',\n  'pixel57',\n  'pixel58',\n  'pixel59',\n  'pixel60',\n  'pixel61',\n  'pixel62',\n  'pixel63',\n  'pixel64',\n  'pixel65',\n  'pixel66',\n  'pixel67',\n  'pixel68',\n  'pixel69',\n  'pixel70',\n  'pixel71',\n  'pixel72',\n  'pixel73',\n  'pixel74',\n  'pixel75',\n  'pixel76',\n  'pixel77',\n  'pixel78',\n  'pixel79',\n  'pixel80',\n  'pixel81',\n  'pixel82',\n  'pixel83',\n  'pixel84',\n  'pixel85',\n  'pixel86',\n  'pixel87',\n  'pixel88',\n  'pixel89',\n  'pixel90',\n  'pixel91',\n  'pixel92',\n  'pixel93',\n  'pixel94',\n  'pixel95',\n  'pixel96',\n  'pixel97',\n  'pixel98',\n  'pixel99',\n  'pixel100',\n  'pixel101',\n  'pixel102',\n  'pixel103',\n  'pixel104',\n  'pixel105',\n  'pixel106',\n  'pixel107',\n  'pixel108',\n  'pixel109',\n  'pixel110',\n  'pixel111',\n  'pixel112',\n  'pixel113',\n  'pixel114',\n  'pixel115',\n  'pixel116',\n  'pixel117',\n  'pixel118',\n  'pixel119',\n  'pixel120',\n  'pixel121',\n  'pixel122',\n  'pixel123',\n  'pixel124',\n  'pixel125',\n  'pixel126',\n  'pixel127',\n  'pixel128',\n  'pixel129',\n  'pixel130',\n  'pixel131',\n  'pixel132',\n  'pixel133',\n  'pixel134',\n  'pixel135',\n  'pixel136',\n  'pixel137',\n  'pixel138',\n  'pixel139',\n  'pixel140',\n  'pixel141',\n  'pixel142',\n  'pixel143',\n  'pixel144',\n  'pixel145',\n  'pixel146',\n  'pixel147',\n  'pixel148',\n  'pixel149',\n  'pixel150',\n  'pixel151',\n  'pixel152',\n  'pixel153',\n  'pixel154',\n  'pixel155',\n  'pixel156',\n  'pixel157',\n  'pixel158',\n  'pixel159',\n  'pixel160',\n  'pixel161',\n  'pixel162',\n  'pixel163',\n  'pixel164',\n  'pixel165',\n  'pixel166',\n  'pixel167',\n  'pixel168',\n  'pixel169',\n  'pixel170',\n  'pixel171',\n  'pixel172',\n  'pixel173',\n  'pixel174',\n  'pixel175',\n  'pixel176',\n  'pixel177',\n  'pixel178',\n  'pixel179',\n  'pixel180',\n  'pixel181',\n  'pixel182',\n  'pixel183',\n  'pixel184',\n  'pixel185',\n  'pixel186',\n  'pixel187',\n  'pixel188',\n  'pixel189',\n  'pixel190',\n  'pixel191',\n  'pixel192',\n  'pixel193',\n  'pixel194',\n  'pixel195',\n  'pixel196',\n  'pixel197',\n  'pixel198',\n  'pixel199',\n  'pixel200',\n  'pixel201',\n  'pixel202',\n  'pixel203',\n  'pixel204',\n  'pixel205',\n  'pixel206',\n  'pixel207',\n  'pixel208',\n  'pixel209',\n  'pixel210',\n  'pixel211',\n  'pixel212',\n  'pixel213',\n  'pixel214',\n  'pixel215',\n  'pixel216',\n  'pixel217',\n  'pixel218',\n  'pixel219',\n  'pixel220',\n  'pixel221',\n  'pixel222',\n  'pixel223',\n  'pixel224',\n  'pixel225',\n  'pixel226',\n  'pixel227',\n  'pixel228',\n  'pixel229',\n  'pixel230',\n  'pixel231',\n  'pixel232',\n  'pixel233',\n  'pixel234',\n  'pixel235',\n  'pixel236',\n  'pixel237',\n  'pixel238',\n  'pixel239',\n  'pixel240',\n  'pixel241',\n  'pixel242',\n  'pixel243',\n  'pixel244',\n  'pixel245',\n  'pixel246',\n  'pixel247',\n  'pixel248',\n  'pixel249',\n  'pixel250',\n  'pixel251',\n  'pixel252',\n  'pixel253',\n  'pixel254',\n  'pixel255',\n  'pixel256',\n  'pixel257',\n  'pixel258',\n  'pixel259',\n  'pixel260',\n  'pixel261',\n  'pixel262',\n  'pixel263',\n  'pixel264',\n  'pixel265',\n  'pixel266',\n  'pixel267',\n  'pixel268',\n  'pixel269',\n  'pixel270',\n  'pixel271',\n  'pixel272',\n  'pixel273',\n  'pixel274',\n  'pixel275',\n  'pixel276',\n  'pixel277',\n  'pixel278',\n  'pixel279',\n  'pixel280',\n  'pixel281',\n  'pixel282',\n  'pixel283',\n  'pixel284',\n  'pixel285',\n  'pixel286',\n  'pixel287',\n  'pixel288',\n  'pixel289',\n  'pixel290',\n  'pixel291',\n  'pixel292',\n  'pixel293',\n  'pixel294',\n  'pixel295',\n  'pixel296',\n  'pixel297',\n  'pixel298',\n  'pixel299',\n  'pixel300',\n  'pixel301',\n  'pixel302',\n  'pixel303',\n  'pixel304',\n  'pixel305',\n  'pixel306',\n  'pixel307',\n  'pixel308',\n  'pixel309',\n  'pixel310',\n  'pixel311',\n  'pixel312',\n  'pixel313',\n  'pixel314',\n  'pixel315',\n  'pixel316',\n  'pixel317',\n  'pixel318',\n  'pixel319',\n  'pixel320',\n  'pixel321',\n  'pixel322',\n  'pixel323',\n  'pixel324',\n  'pixel325',\n  'pixel326',\n  'pixel327',\n  'pixel328',\n  'pixel329',\n  'pixel330',\n  'pixel331',\n  'pixel332',\n  'pixel333',\n  'pixel334',\n  'pixel335',\n  'pixel336',\n  'pixel337',\n  'pixel338',\n  'pixel339',\n  'pixel340',\n  'pixel341',\n  'pixel342',\n  'pixel343',\n  'pixel344',\n  'pixel345',\n  'pixel346',\n  'pixel347',\n  'pixel348',\n  'pixel349',\n  'pixel350',\n  'pixel351',\n  'pixel352',\n  'pixel353',\n  'pixel354',\n  'pixel355',\n  'pixel356',\n  'pixel357',\n  'pixel358',\n  'pixel359',\n  'pixel360',\n  'pixel361',\n  'pixel362',\n  'pixel363',\n  'pixel364',\n  'pixel365',\n  'pixel366',\n  'pixel367',\n  'pixel368',\n  'pixel369',\n  'pixel370',\n  'pixel371',\n  'pixel372',\n  'pixel373',\n  'pixel374',\n  'pixel375',\n  'pixel376',\n  'pixel377',\n  'pixel378',\n  'pixel379',\n  'pixel380',\n  'pixel381',\n  'pixel382',\n  'pixel383',\n  'pixel384',\n  'pixel385',\n  'pixel386',\n  'pixel387',\n  'pixel388',\n  'pixel389',\n  'pixel390',\n  'pixel391',\n  'pixel392',\n  'pixel393',\n  'pixel394',\n  'pixel395',\n  'pixel396',\n  'pixel397',\n  'pixel398',\n  'pixel399',\n  'pixel400',\n  'pixel401',\n  'pixel402',\n  'pixel403',\n  'pixel404',\n  'pixel405',\n  'pixel406',\n  'pixel407',\n  'pixel408',\n  'pixel409',\n  'pixel410',\n  'pixel411',\n  'pixel412',\n  'pixel413',\n  'pixel414',\n  'pixel415',\n  'pixel416',\n  'pixel417',\n  'pixel418',\n  'pixel419',\n  'pixel420',\n  'pixel421',\n  'pixel422',\n  'pixel423',\n  'pixel424',\n  'pixel425',\n  'pixel426',\n  'pixel427',\n  'pixel428',\n  'pixel429',\n  'pixel430',\n  'pixel431',\n  'pixel432',\n  'pixel433',\n  'pixel434',\n  'pixel435',\n  'pixel436',\n  'pixel437',\n  'pixel438',\n  'pixel439',\n  'pixel440',\n  'pixel441',\n  'pixel442',\n  'pixel443',\n  'pixel444',\n  'pixel445',\n  'pixel446',\n  'pixel447',\n  'pixel448',\n  'pixel449',\n  'pixel450',\n  'pixel451',\n  'pixel452',\n  'pixel453',\n  'pixel454',\n  'pixel455',\n  'pixel456',\n  'pixel457',\n  'pixel458',\n  'pixel459',\n  'pixel460',\n  'pixel461',\n  'pixel462',\n  'pixel463',\n  'pixel464',\n  'pixel465',\n  'pixel466',\n  'pixel467',\n  'pixel468',\n  'pixel469',\n  'pixel470',\n  'pixel471',\n  'pixel472',\n  'pixel473',\n  'pixel474',\n  'pixel475',\n  'pixel476',\n  'pixel477',\n  'pixel478',\n  'pixel479',\n  'pixel480',\n  'pixel481',\n  'pixel482',\n  'pixel483',\n  'pixel484',\n  'pixel485',\n  'pixel486',\n  'pixel487',\n  'pixel488',\n  'pixel489',\n  'pixel490',\n  'pixel491',\n  'pixel492',\n  'pixel493',\n  'pixel494',\n  'pixel495',\n  'pixel496',\n  'pixel497',\n  'pixel498',\n  'pixel499',\n  'pixel500',\n  'pixel501',\n  'pixel502',\n  'pixel503',\n  'pixel504',\n  'pixel505',\n  'pixel506',\n  'pixel507',\n  'pixel508',\n  'pixel509',\n  'pixel510',\n  'pixel511',\n  'pixel512',\n  'pixel513',\n  'pixel514',\n  'pixel515',\n  'pixel516',\n  'pixel517',\n  'pixel518',\n  'pixel519',\n  'pixel520',\n  'pixel521',\n  'pixel522',\n  'pixel523',\n  'pixel524',\n  'pixel525',\n  'pixel526',\n  'pixel527',\n  'pixel528',\n  'pixel529',\n  'pixel530',\n  'pixel531',\n  'pixel532',\n  'pixel533',\n  'pixel534',\n  'pixel535',\n  'pixel536',\n  'pixel537',\n  'pixel538',\n  'pixel539',\n  'pixel540',\n  'pixel541',\n  'pixel542',\n  'pixel543',\n  'pixel544',\n  'pixel545',\n  'pixel546',\n  'pixel547',\n  'pixel548',\n  'pixel549',\n  'pixel550',\n  'pixel551',\n  'pixel552',\n  'pixel553',\n  'pixel554',\n  'pixel555',\n  'pixel556',\n  'pixel557',\n  'pixel558',\n  'pixel559',\n  'pixel560',\n  'pixel561',\n  'pixel562',\n  'pixel563',\n  'pixel564',\n  'pixel565',\n  'pixel566',\n  'pixel567',\n  'pixel568',\n  'pixel569',\n  'pixel570',\n  'pixel571',\n  'pixel572',\n  'pixel573',\n  'pixel574',\n  'pixel575',\n  'pixel576',\n  'pixel577',\n  'pixel578',\n  'pixel579',\n  'pixel580',\n  'pixel581',\n  'pixel582',\n  'pixel583',\n  'pixel584',\n  'pixel585',\n  'pixel586',\n  'pixel587',\n  'pixel588',\n  'pixel589',\n  'pixel590',\n  'pixel591',\n  'pixel592',\n  'pixel593',\n  'pixel594',\n  'pixel595',\n  'pixel596',\n  'pixel597',\n  'pixel598',\n  'pixel599',\n  'pixel600',\n  'pixel601',\n  'pixel602',\n  'pixel603',\n  'pixel604',\n  'pixel605',\n  'pixel606',\n  'pixel607',\n  'pixel608',\n  'pixel609',\n  'pixel610',\n  'pixel611',\n  'pixel612',\n  'pixel613',\n  'pixel614',\n  'pixel615',\n  'pixel616',\n  'pixel617',\n  'pixel618',\n  'pixel619',\n  'pixel620',\n  'pixel621',\n  'pixel622',\n  'pixel623',\n  'pixel624',\n  'pixel625',\n  'pixel626',\n  'pixel627',\n  'pixel628',\n  'pixel629',\n  'pixel630',\n  'pixel631',\n  'pixel632',\n  'pixel633',\n  'pixel634',\n  'pixel635',\n  'pixel636',\n  'pixel637',\n  'pixel638',\n  'pixel639',\n  'pixel640',\n  'pixel641',\n  'pixel642',\n  'pixel643',\n  'pixel644',\n  'pixel645',\n  'pixel646',\n  'pixel647',\n  'pixel648',\n  'pixel649',\n  'pixel650',\n  'pixel651',\n  'pixel652',\n  'pixel653',\n  'pixel654',\n  'pixel655',\n  'pixel656',\n  'pixel657',\n  'pixel658',\n  'pixel659',\n  'pixel660',\n  'pixel661',\n  'pixel662',\n  'pixel663',\n  'pixel664',\n  'pixel665',\n  'pixel666',\n  'pixel667',\n  'pixel668',\n  'pixel669',\n  'pixel670',\n  'pixel671',\n  'pixel672',\n  'pixel673',\n  'pixel674',\n  'pixel675',\n  'pixel676',\n  'pixel677',\n  'pixel678',\n  'pixel679',\n  'pixel680',\n  'pixel681',\n  'pixel682',\n  'pixel683',\n  'pixel684',\n  'pixel685',\n  'pixel686',\n  'pixel687',\n  'pixel688',\n  'pixel689',\n  'pixel690',\n  'pixel691',\n  'pixel692',\n  'pixel693',\n  'pixel694',\n  'pixel695',\n  'pixel696',\n  'pixel697',\n  'pixel698',\n  'pixel699',\n  'pixel700',\n  'pixel701',\n  'pixel702',\n  'pixel703',\n  'pixel704',\n  'pixel705',\n  'pixel706',\n  'pixel707',\n  'pixel708',\n  'pixel709',\n  'pixel710',\n  'pixel711',\n  'pixel712',\n  'pixel713',\n  'pixel714',\n  'pixel715',\n  'pixel716',\n  'pixel717',\n  'pixel718',\n  'pixel719',\n  'pixel720',\n  'pixel721',\n  'pixel722',\n  'pixel723',\n  'pixel724',\n  'pixel725',\n  'pixel726',\n  'pixel727',\n  'pixel728',\n  'pixel729',\n  'pixel730',\n  'pixel731',\n  'pixel732',\n  'pixel733',\n  'pixel734',\n  'pixel735',\n  'pixel736',\n  'pixel737',\n  'pixel738',\n  'pixel739',\n  'pixel740',\n  'pixel741',\n  'pixel742',\n  'pixel743',\n  'pixel744',\n  'pixel745',\n  'pixel746',\n  'pixel747',\n  'pixel748',\n  'pixel749',\n  'pixel750',\n  'pixel751',\n  'pixel752',\n  'pixel753',\n  'pixel754',\n  'pixel755',\n  'pixel756',\n  'pixel757',\n  'pixel758',\n  'pixel759',\n  'pixel760',\n  'pixel761',\n  'pixel762',\n  'pixel763',\n  'pixel764',\n  'pixel765',\n  'pixel766',\n  'pixel767',\n  'pixel768',\n  'pixel769',\n  'pixel770',\n  'pixel771',\n  'pixel772',\n  'pixel773',\n  'pixel774',\n  'pixel775',\n  'pixel776',\n  'pixel777',\n  'pixel778',\n  'pixel779',\n  'pixel780',\n  'pixel781',\n  'pixel782',\n  'pixel783',\n  'pixel784'],\n ['class'],\n None)"
     },
     "execution_count": 3,
     "metadata": {},
     "output_type": "execute_result"
    }
   ],
   "source": [
    "fashion_data['feature_names'], fashion_data['target_names'], fashion_data['categories']  # DF면 categories 속성 볼 수 없음 - 고유값 확인 속성\n",
    "# DF의 경우 target.unique()"
   ],
   "metadata": {
    "collapsed": false,
    "ExecuteTime": {
     "end_time": "2024-03-14T05:38:02.160029300Z",
     "start_time": "2024-03-14T05:38:02.123772900Z"
    }
   },
   "execution_count": 3
  },
  {
   "cell_type": "markdown",
   "source": [
    "[2] 데이터 가공 및 전처리 <hr>\n",
    "- 결측 / 중복 / 이상치 => 없음\n",
    "- 다중분류 ==> 2진분류 변환 : target 변환\n",
    "- 표준화 ==> 이미지 동일 크기 및 색상 채널 : 동일 크기(28*28)와 채널(흑백 1)\n",
    "- 정규화 ==> 피쳐 정규화 / 타겟 정규화"
   ],
   "metadata": {
    "collapsed": false
   }
  },
  {
   "cell_type": "code",
   "execution_count": 4,
   "metadata": {
    "ExecuteTime": {
     "end_time": "2024-03-14T05:38:02.243580300Z",
     "start_time": "2024-03-14T05:38:02.139350900Z"
    }
   },
   "outputs": [],
   "source": [
    "# 정규화 ==> 피쳐 정규화 : 784개는 색상값 즉, 0 ~ 255 범위의 값\n",
    "feature = fashion_data.data / 255.   # 실수로 나누기 ! => 정수/실수 = 실수 => 형변환\n",
    "target = fashion_data.target"
   ]
  },
  {
   "cell_type": "code",
   "execution_count": 5,
   "metadata": {
    "ExecuteTime": {
     "end_time": "2024-03-14T05:38:02.258649100Z",
     "start_time": "2024-03-14T05:38:02.247838300Z"
    }
   },
   "outputs": [
    {
     "data": {
      "text/plain": "((70000, 784), (70000,))"
     },
     "execution_count": 5,
     "metadata": {},
     "output_type": "execute_result"
    }
   ],
   "source": [
    "feature.shape, target.shape"
   ]
  },
  {
   "cell_type": "code",
   "outputs": [],
   "source": [
    "target = target.astype('float')"
   ],
   "metadata": {
    "collapsed": false,
    "ExecuteTime": {
     "end_time": "2024-03-14T05:38:02.286353600Z",
     "start_time": "2024-03-14T05:38:02.264223600Z"
    }
   },
   "execution_count": 6
  },
  {
   "cell_type": "code",
   "execution_count": 7,
   "metadata": {
    "ExecuteTime": {
     "end_time": "2024-03-14T05:38:02.289424700Z",
     "start_time": "2024-03-14T05:38:02.276974300Z"
    }
   },
   "outputs": [
    {
     "data": {
      "text/plain": "class\n9.0    7000\n0.0    7000\n3.0    7000\n2.0    7000\n7.0    7000\n5.0    7000\n1.0    7000\n6.0    7000\n4.0    7000\n8.0    7000\nName: count, dtype: int64"
     },
     "execution_count": 7,
     "metadata": {},
     "output_type": "execute_result"
    }
   ],
   "source": [
    "target.value_counts() # 0과 나머지"
   ]
  },
  {
   "cell_type": "code",
   "execution_count": 8,
   "metadata": {
    "ExecuteTime": {
     "end_time": "2024-03-14T05:38:02.323671600Z",
     "start_time": "2024-03-14T05:38:02.293563700Z"
    }
   },
   "outputs": [
    {
     "data": {
      "text/plain": "class\n1.0    63000\n0.0     7000\nName: count, dtype: int64"
     },
     "execution_count": 8,
     "metadata": {},
     "output_type": "execute_result"
    }
   ],
   "source": [
    "# 다중분류  ==> 2진분류 변환 : target 변환\n",
    "target.replace([1,2,3,4,5,6,7,8,9],1, inplace = True)\n",
    "target.value_counts()"
   ]
  },
  {
   "cell_type": "code",
   "outputs": [],
   "source": [
    "# 원핫 인코딩\n",
    "# sparse_output = False : ndarray 타입으로 반환\n",
    "# encoder = OneHotEncoder(sparse=False) \n",
    "# encoder.fit([target])"
   ],
   "metadata": {
    "collapsed": false,
    "ExecuteTime": {
     "end_time": "2024-03-14T05:38:02.324728Z",
     "start_time": "2024-03-14T05:38:02.307136400Z"
    }
   },
   "execution_count": 9
  },
  {
   "cell_type": "code",
   "outputs": [],
   "source": [
    "# encoder.transform([target]) # sparse = False 라서 바로 풀려서 반환"
   ],
   "metadata": {
    "collapsed": false,
    "ExecuteTime": {
     "end_time": "2024-03-14T05:38:02.348656900Z",
     "start_time": "2024-03-14T05:38:02.322674500Z"
    }
   },
   "execution_count": 10
  },
  {
   "cell_type": "code",
   "outputs": [],
   "source": [
    "# target = encoder.transform([target])"
   ],
   "metadata": {
    "collapsed": false,
    "ExecuteTime": {
     "end_time": "2024-03-14T05:38:02.350734600Z",
     "start_time": "2024-03-14T05:38:02.337174200Z"
    }
   },
   "execution_count": 11
  },
  {
   "cell_type": "code",
   "outputs": [],
   "source": [
    "# target.shape, target.ndim"
   ],
   "metadata": {
    "collapsed": false,
    "ExecuteTime": {
     "end_time": "2024-03-14T05:38:02.371664200Z",
     "start_time": "2024-03-14T05:38:02.353117900Z"
    }
   },
   "execution_count": 12
  },
  {
   "cell_type": "code",
   "outputs": [],
   "source": [
    "# encoder.transform([target]).toarray()  # 풀기 위해서 toarray() # sparse = False 하면 그럴 필요 없음"
   ],
   "metadata": {
    "collapsed": false,
    "ExecuteTime": {
     "end_time": "2024-03-14T05:38:02.381058900Z",
     "start_time": "2024-03-14T05:38:02.368623200Z"
    }
   },
   "execution_count": 13
  },
  {
   "cell_type": "markdown",
   "source": [
    "[3] 학습 준비 <hr>\n",
    "- 텐서화\n",
    "- 데이터셋 준비 : 훈련용, 테스트용\n",
    "- 학습 방법 : 지도학습 - 이진분류 => Linear 클래스 + Sigmoid 함수\n",
    "- 최적화 방법 : 경사하강법 기반의 방법 => Adm, SGD, ...\n",
    "- 손실 함수 : 이진분류 손실 계산 함수=> binary_cross_entropy"
   ],
   "metadata": {
    "collapsed": false
   }
  },
  {
   "cell_type": "code",
   "outputs": [],
   "source": [
    "### ===> 데이터셋 준비 : 60000개 훈련, 10000개 테스트"
   ],
   "metadata": {
    "collapsed": false,
    "ExecuteTime": {
     "end_time": "2024-03-14T05:38:02.409224400Z",
     "start_time": "2024-03-14T05:38:02.383522800Z"
    }
   },
   "execution_count": 14
  },
  {
   "cell_type": "code",
   "outputs": [
    {
     "data": {
      "text/plain": "(0        1.0\n 1        0.0\n 2        0.0\n 3        1.0\n 4        0.0\n         ... \n 59995    1.0\n 59996    1.0\n 59997    1.0\n 59998    0.0\n 59999    1.0\n Name: class, Length: 60000, dtype: float64,\n 60000    1.0\n 60001    1.0\n 60002    1.0\n 60003    1.0\n 60004    1.0\n         ... \n 69995    1.0\n 69996    1.0\n 69997    1.0\n 69998    1.0\n 69999    1.0\n Name: class, Length: 10000, dtype: float64)"
     },
     "execution_count": 15,
     "metadata": {},
     "output_type": "execute_result"
    }
   ],
   "source": [
    "limit = 60000\n",
    "xtrain = feature[:limit]\n",
    "ytrain = target[:limit]\n",
    "\n",
    "xtest = feature[limit:]\n",
    "ytest = target[limit:]\n",
    "ytrain, ytest"
   ],
   "metadata": {
    "collapsed": false,
    "ExecuteTime": {
     "end_time": "2024-03-14T05:38:02.411304100Z",
     "start_time": "2024-03-14T05:38:02.404050800Z"
    }
   },
   "execution_count": 15
  },
  {
   "cell_type": "code",
   "execution_count": 16,
   "metadata": {
    "ExecuteTime": {
     "end_time": "2024-03-14T05:38:02.473762700Z",
     "start_time": "2024-03-14T05:38:02.414475300Z"
    }
   },
   "outputs": [],
   "source": [
    "# 텐서로 바꾸기\n",
    "xtrain = torch.tensor(xtrain.values, dtype = torch.float32)\n",
    "xtest = torch.tensor(xtest.values, dtype = torch.float32)"
   ]
  },
  {
   "cell_type": "code",
   "execution_count": 17,
   "metadata": {
    "ExecuteTime": {
     "end_time": "2024-03-14T05:38:02.489293200Z",
     "start_time": "2024-03-14T05:38:02.479006900Z"
    }
   },
   "outputs": [
    {
     "data": {
      "text/plain": "(torch.Size([60000, 784]), 2)"
     },
     "execution_count": 17,
     "metadata": {},
     "output_type": "execute_result"
    }
   ],
   "source": [
    "xtrain.shape, xtrain.ndim"
   ]
  },
  {
   "cell_type": "code",
   "execution_count": 18,
   "metadata": {
    "ExecuteTime": {
     "end_time": "2024-03-14T05:38:02.518570Z",
     "start_time": "2024-03-14T05:38:02.493434Z"
    }
   },
   "outputs": [],
   "source": [
    "ytrain = torch.tensor(ytrain.values, dtype = torch.float32).unsqueeze(dim = 1)\n",
    "ytest = torch.tensor(ytest.values, dtype = torch.float32).unsqueeze(dim = 1)"
   ]
  },
  {
   "cell_type": "code",
   "execution_count": 19,
   "metadata": {
    "ExecuteTime": {
     "end_time": "2024-03-14T05:38:02.520615900Z",
     "start_time": "2024-03-14T05:38:02.506839900Z"
    }
   },
   "outputs": [
    {
     "data": {
      "text/plain": "(torch.Size([60000, 1]), torch.Size([10000, 1]))"
     },
     "execution_count": 19,
     "metadata": {},
     "output_type": "execute_result"
    }
   ],
   "source": [
    "ytrain.shape, ytest.shape"
   ]
  },
  {
   "cell_type": "code",
   "outputs": [
    {
     "data": {
      "text/plain": "tensor([[0., 1.],\n        [1., 0.],\n        [1., 0.],\n        ...,\n        [0., 1.],\n        [1., 0.],\n        [0., 1.]])"
     },
     "execution_count": 20,
     "metadata": {},
     "output_type": "execute_result"
    }
   ],
   "source": [
    "# 텐서 원핫 인코딩\n",
    "y_one_hot = torch.zeros(60000,2)\n",
    "y_one_hot.scatter_(1, ytrain.long(), 1)"
   ],
   "metadata": {
    "collapsed": false,
    "ExecuteTime": {
     "end_time": "2024-03-14T05:38:02.570584900Z",
     "start_time": "2024-03-14T05:38:02.522192500Z"
    }
   },
   "execution_count": 20
  },
  {
   "cell_type": "code",
   "outputs": [
    {
     "data": {
      "text/plain": "Linear(in_features=784, out_features=1, bias=True)"
     },
     "execution_count": 21,
     "metadata": {},
     "output_type": "execute_result"
    }
   ],
   "source": [
    "## 학습 인스턴스 생성\n",
    "in_,out_ = xtrain.shape[1], ytrain.shape[1]\n",
    "model = nn.Linear(in_,out_)\n",
    "model"
   ],
   "metadata": {
    "collapsed": false,
    "ExecuteTime": {
     "end_time": "2024-03-14T05:38:02.572710200Z",
     "start_time": "2024-03-14T05:38:02.536952400Z"
    }
   },
   "execution_count": 21
  },
  {
   "cell_type": "code",
   "outputs": [],
   "source": [
    "## 최적화 인스턴스 생성\n",
    "optimizer = (optim.Adam(model.parameters()))"
   ],
   "metadata": {
    "collapsed": false,
    "ExecuteTime": {
     "end_time": "2024-03-14T05:38:03.531081400Z",
     "start_time": "2024-03-14T05:38:02.553102200Z"
    }
   },
   "execution_count": 22
  },
  {
   "cell_type": "markdown",
   "source": [],
   "metadata": {
    "collapsed": false
   }
  },
  {
   "cell_type": "markdown",
   "source": [
    "[4] 학습 <hr>\n",
    "- 반복횟수만큼 학습을 진행"
   ],
   "metadata": {
    "collapsed": false
   }
  },
  {
   "cell_type": "code",
   "outputs": [
    {
     "name": "stdout",
     "output_type": "stream",
     "text": [
      "[ 0 / 150 ] loss = 0.6112843751907349 accuracy = 0.8416333198547363 \n",
      "[ 1 / 150 ] loss = 0.5468428134918213 accuracy = 0.893666684627533 \n",
      "[ 2 / 150 ] loss = 0.49641385674476624 accuracy = 0.8990499973297119 \n",
      "[ 3 / 150 ] loss = 0.4582933187484741 accuracy = 0.8998500108718872 \n",
      "[ 4 / 150 ] loss = 0.4303247630596161 accuracy = 0.8999666571617126 \n",
      "[ 5 / 150 ] loss = 0.41029274463653564 accuracy = 0.8999999761581421 \n",
      "[ 6 / 150 ] loss = 0.39616483449935913 accuracy = 0.8999999761581421 \n",
      "[ 7 / 150 ] loss = 0.386227011680603 accuracy = 0.8999999761581421 \n",
      "[ 8 / 150 ] loss = 0.3791200816631317 accuracy = 0.8999999761581421 \n",
      "[ 9 / 150 ] loss = 0.3738144338130951 accuracy = 0.8999999761581421 \n",
      "[ 10 / 150 ] loss = 0.369557648897171 accuracy = 0.8999999761581421 \n",
      "[ 11 / 150 ] loss = 0.3658168911933899 accuracy = 0.8999999761581421 \n",
      "[ 12 / 150 ] loss = 0.36222678422927856 accuracy = 0.8999999761581421 \n",
      "[ 13 / 150 ] loss = 0.35854727029800415 accuracy = 0.8999999761581421 \n",
      "[ 14 / 150 ] loss = 0.3546304702758789 accuracy = 0.8999999761581421 \n",
      "[ 15 / 150 ] loss = 0.350396066904068 accuracy = 0.8999999761581421 \n",
      "[ 16 / 150 ] loss = 0.3458130955696106 accuracy = 0.8999999761581421 \n",
      "[ 17 / 150 ] loss = 0.3408866226673126 accuracy = 0.9000166654586792 \n",
      "[ 18 / 150 ] loss = 0.3356477618217468 accuracy = 0.9000166654586792 \n",
      "[ 19 / 150 ] loss = 0.3301464915275574 accuracy = 0.9000166654586792 \n",
      "[ 20 / 150 ] loss = 0.3244462311267853 accuracy = 0.9000166654586792 \n",
      "[ 21 / 150 ] loss = 0.3186192810535431 accuracy = 0.9000166654586792 \n",
      "[ 22 / 150 ] loss = 0.31274330615997314 accuracy = 0.9000333547592163 \n",
      "[ 23 / 150 ] loss = 0.306897908449173 accuracy = 0.9000499844551086 \n",
      "[ 24 / 150 ] loss = 0.30116137862205505 accuracy = 0.9000499844551086 \n",
      "[ 25 / 150 ] loss = 0.2956075668334961 accuracy = 0.9000333547592163 \n",
      "[ 26 / 150 ] loss = 0.2903022766113281 accuracy = 0.9000333547592163 \n",
      "[ 27 / 150 ] loss = 0.28529998660087585 accuracy = 0.9000499844551086 \n",
      "[ 28 / 150 ] loss = 0.2806403338909149 accuracy = 0.9000999927520752 \n",
      "[ 29 / 150 ] loss = 0.2763453722000122 accuracy = 0.9002166390419006 \n",
      "[ 30 / 150 ] loss = 0.27241766452789307 accuracy = 0.9003166556358337 \n",
      "[ 31 / 150 ] loss = 0.2688397467136383 accuracy = 0.9005833268165588 \n",
      "[ 32 / 150 ] loss = 0.2655755877494812 accuracy = 0.9010166525840759 \n",
      "[ 33 / 150 ] loss = 0.2625737488269806 accuracy = 0.901449978351593 \n",
      "[ 34 / 150 ] loss = 0.25977298617362976 accuracy = 0.9023833274841309 \n",
      "[ 35 / 150 ] loss = 0.25710824131965637 accuracy = 0.9035166501998901 \n",
      "[ 36 / 150 ] loss = 0.2545178532600403 accuracy = 0.9050499796867371 \n",
      "[ 37 / 150 ] loss = 0.2519497275352478 accuracy = 0.9067166447639465 \n",
      "[ 38 / 150 ] loss = 0.24936582148075104 accuracy = 0.9086333513259888 \n",
      "[ 39 / 150 ] loss = 0.24674446880817413 accuracy = 0.9107166528701782 \n",
      "[ 40 / 150 ] loss = 0.24408045411109924 accuracy = 0.912766695022583 \n",
      "[ 41 / 150 ] loss = 0.24138271808624268 accuracy = 0.9145833253860474 \n",
      "[ 42 / 150 ] loss = 0.2386706918478012 accuracy = 0.9157000184059143 \n",
      "[ 43 / 150 ] loss = 0.23596997559070587 accuracy = 0.9164166450500488 \n",
      "[ 44 / 150 ] loss = 0.23330774903297424 accuracy = 0.9172833561897278 \n",
      "[ 45 / 150 ] loss = 0.23070912063121796 accuracy = 0.9178166389465332 \n",
      "[ 46 / 150 ] loss = 0.22819440066814423 accuracy = 0.9181666374206543 \n",
      "[ 47 / 150 ] loss = 0.22577740252017975 accuracy = 0.918583333492279 \n",
      "[ 48 / 150 ] loss = 0.22346504032611847 accuracy = 0.9187666773796082 \n",
      "[ 49 / 150 ] loss = 0.22125767171382904 accuracy = 0.9190666675567627 \n",
      "[ 50 / 150 ] loss = 0.21915030479431152 accuracy = 0.9192500114440918 \n",
      "[ 51 / 150 ] loss = 0.21713408827781677 accuracy = 0.9195666909217834 \n",
      "[ 52 / 150 ] loss = 0.21519777178764343 accuracy = 0.9200166463851929 \n",
      "[ 53 / 150 ] loss = 0.2133294939994812 accuracy = 0.9207833409309387 \n",
      "[ 54 / 150 ] loss = 0.21151788532733917 accuracy = 0.9214000105857849 \n",
      "[ 55 / 150 ] loss = 0.20975306630134583 accuracy = 0.9221166372299194 \n",
      "[ 56 / 150 ] loss = 0.20802736282348633 accuracy = 0.9231166839599609 \n",
      "[ 57 / 150 ] loss = 0.20633545517921448 accuracy = 0.9243999719619751 \n",
      "[ 58 / 150 ] loss = 0.20467440783977509 accuracy = 0.9259333610534668 \n",
      "[ 59 / 150 ] loss = 0.20304343104362488 accuracy = 0.9277666807174683 \n",
      "[ 60 / 150 ] loss = 0.20144332945346832 accuracy = 0.9291499853134155 \n",
      "[ 61 / 150 ] loss = 0.19987612962722778 accuracy = 0.9306666851043701 \n",
      "[ 62 / 150 ] loss = 0.19834432005882263 accuracy = 0.9321666955947876 \n",
      "[ 63 / 150 ] loss = 0.1968504935503006 accuracy = 0.933733344078064 \n",
      "[ 64 / 150 ] loss = 0.19539684057235718 accuracy = 0.9352166652679443 \n",
      "[ 65 / 150 ] loss = 0.19398485124111176 accuracy = 0.9366833567619324 \n",
      "[ 66 / 150 ] loss = 0.19261503219604492 accuracy = 0.9383166432380676 \n",
      "[ 67 / 150 ] loss = 0.1912870705127716 accuracy = 0.939466655254364 \n",
      "[ 68 / 150 ] loss = 0.1899997442960739 accuracy = 0.940500020980835 \n",
      "[ 69 / 150 ] loss = 0.18875105679035187 accuracy = 0.9414666891098022 \n",
      "[ 70 / 150 ] loss = 0.18753865361213684 accuracy = 0.9425166845321655 \n",
      "[ 71 / 150 ] loss = 0.18635985255241394 accuracy = 0.9434000253677368 \n",
      "[ 72 / 150 ] loss = 0.18521195650100708 accuracy = 0.9441166520118713 \n",
      "[ 73 / 150 ] loss = 0.18409262597560883 accuracy = 0.944683313369751 \n",
      "[ 74 / 150 ] loss = 0.18299970030784607 accuracy = 0.9452333450317383 \n",
      "[ 75 / 150 ] loss = 0.18193155527114868 accuracy = 0.9458833336830139 \n",
      "[ 76 / 150 ] loss = 0.18088698387145996 accuracy = 0.9464333057403564 \n",
      "[ 77 / 150 ] loss = 0.17986524105072021 accuracy = 0.9466500282287598 \n",
      "[ 78 / 150 ] loss = 0.17886586487293243 accuracy = 0.9467499852180481 \n",
      "[ 79 / 150 ] loss = 0.1778886914253235 accuracy = 0.9472166895866394 \n",
      "[ 80 / 150 ] loss = 0.1769336462020874 accuracy = 0.9476333260536194 \n",
      "[ 81 / 150 ] loss = 0.1760006844997406 accuracy = 0.9478833079338074 \n",
      "[ 82 / 150 ] loss = 0.1750897765159607 accuracy = 0.9480666518211365 \n",
      "[ 83 / 150 ] loss = 0.17420069873332977 accuracy = 0.9482166767120361 \n",
      "[ 84 / 150 ] loss = 0.17333313822746277 accuracy = 0.9485166668891907 \n",
      "[ 85 / 150 ] loss = 0.17248661816120148 accuracy = 0.9487333297729492 \n",
      "[ 86 / 150 ] loss = 0.17166054248809814 accuracy = 0.9488833546638489 \n",
      "[ 87 / 150 ] loss = 0.17085422575473785 accuracy = 0.9490333199501038 \n",
      "[ 88 / 150 ] loss = 0.17006686329841614 accuracy = 0.9492833614349365 \n",
      "[ 89 / 150 ] loss = 0.1692976951599121 accuracy = 0.949316680431366 \n",
      "[ 90 / 150 ] loss = 0.16854596138000488 accuracy = 0.9494500160217285 \n",
      "[ 91 / 150 ] loss = 0.16781090199947357 accuracy = 0.9495333433151245 \n",
      "[ 92 / 150 ] loss = 0.16709189116954803 accuracy = 0.9495499730110168 \n",
      "[ 93 / 150 ] loss = 0.1663883477449417 accuracy = 0.949733316898346 \n",
      "[ 94 / 150 ] loss = 0.16569973528385162 accuracy = 0.9499833583831787 \n",
      "[ 95 / 150 ] loss = 0.16502568125724792 accuracy = 0.9502999782562256 \n",
      "[ 96 / 150 ] loss = 0.16436578333377838 accuracy = 0.9505166411399841 \n",
      "[ 97 / 150 ] loss = 0.16371969878673553 accuracy = 0.9506499767303467 \n",
      "[ 98 / 150 ] loss = 0.1630871593952179 accuracy = 0.9507499933242798 \n",
      "[ 99 / 150 ] loss = 0.1624678373336792 accuracy = 0.9509333372116089 \n",
      "[ 100 / 150 ] loss = 0.16186146438121796 accuracy = 0.9511333107948303 \n",
      "[ 101 / 150 ] loss = 0.1612677425146103 accuracy = 0.9514666795730591 \n",
      "[ 102 / 150 ] loss = 0.16068635880947113 accuracy = 0.9514833092689514 \n",
      "[ 103 / 150 ] loss = 0.16011695563793182 accuracy = 0.9516500234603882 \n",
      "[ 104 / 150 ] loss = 0.15955927968025208 accuracy = 0.9519333243370056 \n",
      "[ 105 / 150 ] loss = 0.15901288390159607 accuracy = 0.952049970626831 \n",
      "[ 106 / 150 ] loss = 0.15847750008106232 accuracy = 0.9520666599273682 \n",
      "[ 107 / 150 ] loss = 0.15795275568962097 accuracy = 0.9521499872207642 \n",
      "[ 108 / 150 ] loss = 0.15743835270404816 accuracy = 0.9522666931152344 \n",
      "[ 109 / 150 ] loss = 0.15693393349647522 accuracy = 0.9524999856948853 \n",
      "[ 110 / 150 ] loss = 0.15643927454948425 accuracy = 0.9527166485786438 \n",
      "[ 111 / 150 ] loss = 0.1559540331363678 accuracy = 0.9529666900634766 \n",
      "[ 112 / 150 ] loss = 0.15547800064086914 accuracy = 0.9530333280563354 \n",
      "[ 113 / 150 ] loss = 0.15501092374324799 accuracy = 0.9531999826431274 \n",
      "[ 114 / 150 ] loss = 0.15455257892608643 accuracy = 0.9531999826431274 \n",
      "[ 115 / 150 ] loss = 0.15410272777080536 accuracy = 0.9532333612442017 \n",
      "[ 116 / 150 ] loss = 0.15366123616695404 accuracy = 0.9532333612442017 \n",
      "[ 117 / 150 ] loss = 0.15322783589363098 accuracy = 0.9532999992370605 \n",
      "[ 118 / 150 ] loss = 0.15280234813690186 accuracy = 0.9532333612442017 \n",
      "[ 119 / 150 ] loss = 0.15238463878631592 accuracy = 0.9532166719436646 \n",
      "[ 120 / 150 ] loss = 0.15197443962097168 accuracy = 0.9532833099365234 \n",
      "[ 121 / 150 ] loss = 0.1515716165304184 accuracy = 0.9533666372299194 \n",
      "[ 122 / 150 ] loss = 0.15117599070072174 accuracy = 0.9533833265304565 \n",
      "[ 123 / 150 ] loss = 0.1507873684167862 accuracy = 0.9534333348274231 \n",
      "[ 124 / 150 ] loss = 0.15040557086467743 accuracy = 0.9535166621208191 \n",
      "[ 125 / 150 ] loss = 0.15003041923046112 accuracy = 0.9535166621208191 \n",
      "[ 126 / 150 ] loss = 0.14966177940368652 accuracy = 0.9535333514213562 \n",
      "[ 127 / 150 ] loss = 0.14929945766925812 accuracy = 0.9535666704177856 \n",
      "[ 128 / 150 ] loss = 0.14894331991672516 accuracy = 0.9536499977111816 \n",
      "[ 129 / 150 ] loss = 0.1485932320356369 accuracy = 0.9536166787147522 \n",
      "[ 130 / 150 ] loss = 0.14824898540973663 accuracy = 0.9536499977111816 \n",
      "[ 131 / 150 ] loss = 0.14791055023670197 accuracy = 0.9537166953086853 \n",
      "[ 132 / 150 ] loss = 0.1475776880979538 accuracy = 0.9537666440010071 \n",
      "[ 133 / 150 ] loss = 0.14725033938884735 accuracy = 0.9538499712944031 \n",
      "[ 134 / 150 ] loss = 0.1469283550977707 accuracy = 0.9538166522979736 \n",
      "[ 135 / 150 ] loss = 0.14661161601543427 accuracy = 0.9538666605949402 \n",
      "[ 136 / 150 ] loss = 0.14630000293254852 accuracy = 0.9539333581924438 \n",
      "[ 137 / 150 ] loss = 0.1459933966398239 accuracy = 0.9539999961853027 \n",
      "[ 138 / 150 ] loss = 0.14569169282913208 accuracy = 0.9540333151817322 \n",
      "[ 139 / 150 ] loss = 0.14539480209350586 accuracy = 0.9540333151817322 \n",
      "[ 140 / 150 ] loss = 0.1451025903224945 accuracy = 0.9539666771888733 \n",
      "[ 141 / 150 ] loss = 0.14481495320796967 accuracy = 0.9540500044822693 \n",
      "[ 142 / 150 ] loss = 0.14453180134296417 accuracy = 0.9540833234786987 \n",
      "[ 143 / 150 ] loss = 0.14425303041934967 accuracy = 0.9541500210762024 \n",
      "[ 144 / 150 ] loss = 0.143978551030159 accuracy = 0.9541333317756653 \n",
      "[ 145 / 150 ] loss = 0.143708273768425 accuracy = 0.9541500210762024 \n",
      "[ 146 / 150 ] loss = 0.1434420645236969 accuracy = 0.9541333317756653 \n",
      "[ 147 / 150 ] loss = 0.14317987859249115 accuracy = 0.9542666673660278 \n",
      "[ 148 / 150 ] loss = 0.14292164146900177 accuracy = 0.9543333053588867 \n",
      "[ 149 / 150 ] loss = 0.1426672488451004 accuracy = 0.9544000029563904 \n",
      "[ 150 / 150 ] loss = 0.14241664111614227 accuracy = 0.9544000029563904 \n"
     ]
    }
   ],
   "source": [
    "# 학습 횟수 => 샘플 처음부터 끝까지 읽는 것 기준으로 횟수 지정\n",
    "epochs = 150 \n",
    "loss_accuracy = [[],[]]\n",
    "min_loss = 100.0\n",
    "for epoch in range(epochs+1):\n",
    "    # 모델 학습\n",
    "    ypre = model(xtrain)\n",
    "    # 분류값 변환\n",
    "    ypre2 = F.sigmoid(ypre)\n",
    "    loss = F.binary_cross_entropy(ypre2,ytrain)\n",
    "    \n",
    "    optimizer.zero_grad()\n",
    "    loss.backward() # 손실함수 계산값으로 미분 진행하여 새로운 W, b 계산\n",
    "    optimizer.step() # 업데이트\n",
    "    \n",
    "    # 정확도 계산 => 예측값을 0과 1로 변환 => 정단과 비교\n",
    "    train_accuracy = (ytrain == (ypre2 >=0.5)).sum() / ytrain.shape[0]\n",
    "    \n",
    "    loss_accuracy[0].append(loss.item())\n",
    "    loss_accuracy[1].append(train_accuracy)\n",
    "    print(f'[ {epoch} / {epochs} ] loss = {loss.item()} accuracy = {train_accuracy} ')\n",
    "    "
   ],
   "metadata": {
    "collapsed": false,
    "ExecuteTime": {
     "end_time": "2024-03-14T05:38:05.283341600Z",
     "start_time": "2024-03-14T05:38:03.537380500Z"
    }
   },
   "execution_count": 23
  },
  {
   "cell_type": "code",
   "outputs": [
    {
     "data": {
      "text/plain": "tensor(1.)"
     },
     "execution_count": 26,
     "metadata": {},
     "output_type": "execute_result"
    }
   ],
   "source": [
    "(ypre2.argmax(dim=1) == ytrain.argmax(dim=1)).sum() / ytrain.shape[0]"
   ],
   "metadata": {
    "collapsed": false,
    "ExecuteTime": {
     "end_time": "2024-03-14T06:06:49.386373900Z",
     "start_time": "2024-03-14T06:06:49.374676300Z"
    }
   },
   "execution_count": 26
  },
  {
   "cell_type": "code",
   "outputs": [
    {
     "data": {
      "text/plain": "Text(0.5, 1.0, '[training loss and accuracy]')"
     },
     "execution_count": 24,
     "metadata": {},
     "output_type": "execute_result"
    },
    {
     "data": {
      "text/plain": "<Figure size 640x480 with 2 Axes>",
      "image/png": "[encoded data removed]"
     },
     "metadata": {},
     "output_type": "display_data"
    }
   ],
   "source": [
    "# 손실과 정확도 시각화\n",
    "import matplotlib.pyplot as plt\n",
    "\n",
    "fig, ax1 = plt.subplots()\n",
    "ax1.plot(loss_accuracy[0], label = 'training loss')\n",
    "ax1.legend()\n",
    "ax1.twinx()\n",
    "plt.plot(loss_accuracy[1], label = 'training accuracy', color = 'red')\n",
    "plt.legend()\n",
    "plt.title('[training loss and accuracy]')\n"
   ],
   "metadata": {
    "collapsed": false,
    "ExecuteTime": {
     "end_time": "2024-03-14T05:38:06.077259900Z",
     "start_time": "2024-03-14T05:38:05.289656300Z"
    }
   },
   "execution_count": 24
  }
 ],
 "metadata": {
  "kernelspec": {
   "display_name": "TORCH_PY38",
   "language": "python",
   "name": "python3"
  },
  "language_info": {
   "codemirror_mode": {
    "name": "ipython",
    "version": 3
   },
   "file_extension": ".py",
   "mimetype": "text/x-python",
   "name": "python",
   "nbconvert_exporter": "python",
   "pygments_lexer": "ipython3",
   "version": "3.8.18"
  }
 },
 "nbformat": 4,
 "nbformat_minor": 2
}
