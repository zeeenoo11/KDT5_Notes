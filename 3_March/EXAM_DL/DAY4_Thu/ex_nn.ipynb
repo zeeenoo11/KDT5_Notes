{
 "cells": [
  {
   "cell_type": "markdown",
   "source": [
    "### 인공신경망 모델 클래스 만들기 <hr>\n",
    "- 부모 클래스 : nn.Module 상속 받음\n",
    "- 필수 오버라이딩 메서드 : __init__(), forward()"
   ],
   "metadata": {
    "collapsed": false
   },
   "id": "1e0f588adccbfff0"
  },
  {
   "cell_type": "markdown",
   "source": [
    "[1] 모듈로딩 <hr>"
   ],
   "metadata": {
    "collapsed": false
   },
   "id": "5feb978ef1c427c8"
  },
  {
   "cell_type": "code",
   "outputs": [],
   "source": [
    "import torch\n",
    "import torch.nn.functional as F\n",
    "import torch.optim as optim\n",
    "import torch.nn as nn"
   ],
   "metadata": {
    "collapsed": false,
    "ExecuteTime": {
     "end_time": "2024-03-14T08:24:55.593948100Z",
     "start_time": "2024-03-14T08:24:55.585642800Z"
    }
   },
   "id": "6cc0246b08e7588b",
   "execution_count": 4
  },
  {
   "cell_type": "code",
   "outputs": [],
   "source": [
    "# 로지스틱 회귀 모델 클래스 생성\n",
    "# - Lenear + sigmoid\n",
    "\n",
    "class LogicLinear(nn.Module): # nn.Module : 부모클래스\n",
    "    \n",
    "    # 모델 구조설정\n",
    "    def __init__(self, in_,out_):\n",
    "        super().__init__()\n",
    "        self.layer = nn.Linear(in_,10)\n",
    "        self.af = nn.Sigmoid()\n",
    "        self.layer2 = nn.Linear(10,out_)\n",
    "        self.af2 = nn.Sigmoid()\n",
    "        \n",
    "    # 순방향 학습 진행 콜백 함수\n",
    "    def forward(self, x): # 입력데이터 : x\n",
    "        y = self.layer(x)\n",
    "        y = self.af(y)\n",
    "        y = self.layer2(y)\n",
    "        y = self.af2(y)\n",
    "        return y\n",
    "    pass"
   ],
   "metadata": {
    "collapsed": false,
    "ExecuteTime": {
     "end_time": "2024-03-14T08:41:35.556834400Z",
     "start_time": "2024-03-14T08:41:35.549430800Z"
    }
   },
   "id": "ed24369f95b3d8fe",
   "execution_count": 19
  },
  {
   "cell_type": "code",
   "outputs": [
    {
     "data": {
      "text/plain": "LogicLinear(\n  (layer): Linear(in_features=10, out_features=10, bias=True)\n  (af): Sigmoid()\n  (layer2): Linear(in_features=10, out_features=3, bias=True)\n  (af2): Sigmoid()\n)"
     },
     "execution_count": 20,
     "metadata": {},
     "output_type": "execute_result"
    }
   ],
   "source": [
    "ll = LogicLinear(10,3)\n",
    "ll # 모델 구조 확인"
   ],
   "metadata": {
    "collapsed": false,
    "ExecuteTime": {
     "end_time": "2024-03-14T08:41:40.603680200Z",
     "start_time": "2024-03-14T08:41:40.594342100Z"
    }
   },
   "id": "c10c8ada3d6e29d9",
   "execution_count": 20
  },
  {
   "cell_type": "code",
   "outputs": [
    {
     "name": "stdout",
     "output_type": "stream",
     "text": [
      "Parameter containing:\n",
      "tensor([[ 0.1659, -0.2932, -0.1688, -0.1135, -0.2807,  0.1000,  0.0317, -0.2497,\n",
      "         -0.1201,  0.1523],\n",
      "        [ 0.0450,  0.1298, -0.1458,  0.0288,  0.2169, -0.0479,  0.2709, -0.2749,\n",
      "         -0.1965, -0.2674],\n",
      "        [ 0.1395, -0.1427, -0.1591, -0.1647, -0.1727, -0.0817, -0.0062,  0.1231,\n",
      "          0.0966,  0.0104],\n",
      "        [ 0.0428, -0.2141, -0.0407, -0.2395,  0.2364, -0.0706,  0.1263,  0.0209,\n",
      "          0.1036,  0.2747],\n",
      "        [-0.0250, -0.2883,  0.0386,  0.2493,  0.2765, -0.1420,  0.0756, -0.1438,\n",
      "          0.1782, -0.2330],\n",
      "        [-0.1559,  0.0290, -0.2273, -0.2101, -0.1333,  0.2507, -0.1888,  0.2235,\n",
      "         -0.3105, -0.0673],\n",
      "        [ 0.0362,  0.0706, -0.0765,  0.0312, -0.0380, -0.2154, -0.0604,  0.1708,\n",
      "         -0.0930,  0.0890],\n",
      "        [ 0.0449,  0.0934,  0.1582, -0.0819,  0.0393,  0.0063,  0.0165,  0.2418,\n",
      "          0.2702, -0.0527],\n",
      "        [-0.2230,  0.0659,  0.0525,  0.0217,  0.0420, -0.1189,  0.0781,  0.2868,\n",
      "         -0.0645,  0.0805],\n",
      "        [-0.1725, -0.2210, -0.0601,  0.2157,  0.1376,  0.0488,  0.0043,  0.0569,\n",
      "         -0.0622, -0.2650]], requires_grad=True)\n",
      "Parameter containing:\n",
      "tensor([ 0.1124, -0.2002, -0.0625,  0.0420,  0.1690,  0.2242, -0.1968, -0.2550,\n",
      "        -0.2106, -0.1103], requires_grad=True)\n",
      "Parameter containing:\n",
      "tensor([[-0.1727,  0.2552,  0.2550,  0.0249,  0.0104, -0.1444,  0.0354, -0.0947,\n",
      "         -0.2001, -0.1311],\n",
      "        [-0.0470, -0.1497, -0.1005,  0.2802,  0.0567,  0.2367, -0.1140, -0.1754,\n",
      "         -0.1331,  0.0418],\n",
      "        [-0.2964,  0.0906, -0.1013,  0.2952, -0.2039,  0.0462,  0.0199,  0.1101,\n",
      "         -0.0386,  0.0193]], requires_grad=True)\n",
      "Parameter containing:\n",
      "tensor([0.1444, 0.1793, 0.1806], requires_grad=True)\n"
     ]
    }
   ],
   "source": [
    "for pram in ll.parameters():\n",
    "    print(pram)"
   ],
   "metadata": {
    "collapsed": false,
    "ExecuteTime": {
     "end_time": "2024-03-14T08:41:43.985631500Z",
     "start_time": "2024-03-14T08:41:43.969914300Z"
    }
   },
   "id": "ad39b09c3c65c85e",
   "execution_count": 21
  },
  {
   "cell_type": "code",
   "outputs": [],
   "source": [
    "ll.forward()"
   ],
   "metadata": {
    "collapsed": false
   },
   "id": "5dc93a091c792e43"
  }
 ],
 "metadata": {
  "kernelspec": {
   "display_name": "Python 3",
   "language": "python",
   "name": "python3"
  },
  "language_info": {
   "codemirror_mode": {
    "name": "ipython",
    "version": 2
   },
   "file_extension": ".py",
   "mimetype": "text/x-python",
   "name": "python",
   "nbconvert_exporter": "python",
   "pygments_lexer": "ipython2",
   "version": "2.7.6"
  }
 },
 "nbformat": 4,
 "nbformat_minor": 5
}
