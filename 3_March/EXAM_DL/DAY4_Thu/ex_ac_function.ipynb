{
 "cells": [
  {
   "cell_type": "markdown",
   "source": [
    "### softmax(), sigmoid() 함수 <hr>\n",
    "- sigmod() : y = wx + b 결과 1개를 전달 ===> 반환 : 0.0 ~ 1.0 사이 값으로 변환 => 이진분류(양성일 확률 구함)\n",
    "- softmax() : y = wx + b 결과 여러 개를 전달 ===> 반환 : 여러개의 결과값의 합이 1.0이 되도록 변환 => 다중분류"
   ],
   "metadata": {
    "collapsed": false
   },
   "id": "19e87e7ad9f72ba"
  },
  {
   "cell_type": "code",
   "outputs": [],
   "source": [
    "# 모듈로딩\n",
    "import torch                     # 파이토치 기본 모듈로 텐서 및 기본 함수들\n",
    "import torch.nn.functional as F  # 파이토치 인공신경망 관련 함수들\n",
    "import torch.optim as optim      #"
   ],
   "metadata": {
    "collapsed": false,
    "ExecuteTime": {
     "end_time": "2024-03-14T01:30:37.820228900Z",
     "start_time": "2024-03-14T01:30:37.815218700Z"
    }
   },
   "id": "76b579b28326b448",
   "execution_count": 4
  },
  {
   "cell_type": "code",
   "outputs": [
    {
     "data": {
      "text/plain": "torch.Size([5])"
     },
     "execution_count": 6,
     "metadata": {},
     "output_type": "execute_result"
    }
   ],
   "source": [
    "# 임의의 데이터 생성\n",
    "data1 = torch.tensor([1,2,1,1,2])\n",
    "data1.shape"
   ],
   "metadata": {
    "collapsed": false,
    "ExecuteTime": {
     "end_time": "2024-03-14T01:30:44.446310900Z",
     "start_time": "2024-03-14T01:30:44.422244Z"
    }
   },
   "id": "cf94f5ee63db9883",
   "execution_count": 6
  },
  {
   "cell_type": "code",
   "outputs": [
    {
     "data": {
      "text/plain": "tensor([0.7311, 0.8808, 0.7311, 0.7311, 0.8808])"
     },
     "execution_count": 7,
     "metadata": {},
     "output_type": "execute_result"
    }
   ],
   "source": [
    "F.sigmoid(data1) # 양성(1)일 확률 반환"
   ],
   "metadata": {
    "collapsed": false,
    "ExecuteTime": {
     "end_time": "2024-03-14T01:30:53.164250700Z",
     "start_time": "2024-03-14T01:30:53.139941900Z"
    }
   },
   "id": "34b1644e79b2bc9a",
   "execution_count": 7
  },
  {
   "cell_type": "code",
   "outputs": [
    {
     "data": {
      "text/plain": "tensor([[1, 2, 1, 1, 2]])"
     },
     "execution_count": 22,
     "metadata": {},
     "output_type": "execute_result"
    }
   ],
   "source": [
    "data2 = data1.unsqueeze(dim = 0)\n",
    "data2"
   ],
   "metadata": {
    "collapsed": false,
    "ExecuteTime": {
     "end_time": "2024-03-14T01:35:42.726762Z",
     "start_time": "2024-03-14T01:35:42.717213300Z"
    }
   },
   "id": "c266bdde498198e5",
   "execution_count": 22
  },
  {
   "cell_type": "code",
   "outputs": [
    {
     "data": {
      "text/plain": "tensor([[0.1185, 0.3222, 0.1185, 0.1185, 0.3222]])"
     },
     "execution_count": 25,
     "metadata": {},
     "output_type": "execute_result"
    }
   ],
   "source": [
    "F.softmax(data2.float(), dim = 1)"
   ],
   "metadata": {
    "collapsed": false,
    "ExecuteTime": {
     "end_time": "2024-03-14T01:36:55.187984700Z",
     "start_time": "2024-03-14T01:36:55.179735600Z"
    }
   },
   "id": "76fe3a3a77129888",
   "execution_count": 25
  },
  {
   "cell_type": "code",
   "outputs": [
    {
     "data": {
      "text/plain": "tensor([[ 0.3752, -0.0933, -1.0279],\n        [-0.1889, -1.2705, -0.7497]])"
     },
     "execution_count": 27,
     "metadata": {},
     "output_type": "execute_result"
    }
   ],
   "source": [
    "input = torch.randn(2,3)\n",
    "input"
   ],
   "metadata": {
    "collapsed": false,
    "ExecuteTime": {
     "end_time": "2024-03-14T01:37:57.242264200Z",
     "start_time": "2024-03-14T01:37:57.229695300Z"
    }
   },
   "id": "38af65f2726114f9",
   "execution_count": 27
  },
  {
   "cell_type": "code",
   "outputs": [
    {
     "data": {
      "text/plain": "(tensor([[0.5343, 0.3344, 0.1313],\n         [0.5236, 0.1775, 0.2989]]),\n tensor([1.0000, 1.0000]))"
     },
     "execution_count": 39,
     "metadata": {},
     "output_type": "execute_result"
    }
   ],
   "source": [
    "output = F.softmax(input, dim = 1)\n",
    "output, output.sum(dim = 1)"
   ],
   "metadata": {
    "collapsed": false,
    "ExecuteTime": {
     "end_time": "2024-03-14T01:40:48.865851300Z",
     "start_time": "2024-03-14T01:40:48.847122200Z"
    }
   },
   "id": "d117dd3902bb864",
   "execution_count": 39
  },
  {
   "cell_type": "code",
   "outputs": [
    {
     "data": {
      "text/plain": "(tensor([0.5343, 0.5236]), tensor([0, 0]))"
     },
     "execution_count": 44,
     "metadata": {},
     "output_type": "execute_result"
    }
   ],
   "source": [
    "output.max(dim=1)[0], output.max(dim = 1)[1]  # 최댓값 , 인덱스"
   ],
   "metadata": {
    "collapsed": false,
    "ExecuteTime": {
     "end_time": "2024-03-14T01:41:54.045121500Z",
     "start_time": "2024-03-14T01:41:54.034831600Z"
    }
   },
   "id": "c0b98f52dc362687",
   "execution_count": 44
  },
  {
   "cell_type": "code",
   "outputs": [
    {
     "data": {
      "text/plain": "tensor([0, 0])"
     },
     "execution_count": 47,
     "metadata": {},
     "output_type": "execute_result"
    }
   ],
   "source": [
    "output.argmax(dim =1) # 인덱스만 반환"
   ],
   "metadata": {
    "collapsed": false,
    "ExecuteTime": {
     "end_time": "2024-03-14T01:42:23.872982900Z",
     "start_time": "2024-03-14T01:42:23.860279200Z"
    }
   },
   "id": "99e03e2ef15cf356",
   "execution_count": 47
  }
 ],
 "metadata": {
  "kernelspec": {
   "display_name": "Python 3",
   "language": "python",
   "name": "python3"
  },
  "language_info": {
   "codemirror_mode": {
    "name": "ipython",
    "version": 2
   },
   "file_extension": ".py",
   "mimetype": "text/x-python",
   "name": "python",
   "nbconvert_exporter": "python",
   "pygments_lexer": "ipython2",
   "version": "2.7.6"
  }
 },
 "nbformat": 4,
 "nbformat_minor": 5
}
