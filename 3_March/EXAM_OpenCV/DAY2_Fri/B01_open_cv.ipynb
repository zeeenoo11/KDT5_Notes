{
 "cells": [
  {
   "cell_type": "markdown",
   "metadata": {},
   "source": []
  },
  {
   "cell_type": "code",
   "execution_count": 1,
   "metadata": {},
   "outputs": [],
   "source": [
    "# 0. Load Module\n",
    "import cv2\n",
    "import numpy as np"
   ]
  },
  {
   "cell_type": "markdown",
   "metadata": {},
   "source": [
    "1. 이미지 데이터 로딩\n",
    "- 컬러 / 회색 이미지 변환 로딩 가능"
   ]
  },
  {
   "cell_type": "code",
   "execution_count": 2,
   "metadata": {},
   "outputs": [],
   "source": [
    "file = '../DATA/4eefb07a29ea1780f2dbf055792cdfd7.jpg'"
   ]
  },
  {
   "cell_type": "code",
   "execution_count": 3,
   "metadata": {},
   "outputs": [],
   "source": [
    "# Load Color Image\n",
    "img_rgb = cv2.imread(file, cv2.IMREAD_COLOR)"
   ]
  },
  {
   "cell_type": "markdown",
   "metadata": {},
   "source": [
    "이미지 데이터 확인\n",
    "- ( width, height, channel ), uint8"
   ]
  },
  {
   "cell_type": "code",
   "execution_count": 4,
   "metadata": {},
   "outputs": [
    {
     "name": "stdout",
     "output_type": "stream",
     "text": [
      "Data Info\n",
      "Shape : (535, 473, 3),  Data Type : uint8,  Dim : 3D,  Size : 759165 bytes\n",
      "Shape : (535, 473),  Data Type : uint8,  Dim : 2D,  Size : 253055 bytes\n"
     ]
    }
   ],
   "source": [
    "# Check data info\n",
    "print('Data Info')\n",
    "print(f'Shape : {img_rgb.shape},  Data Type : {img_rgb.dtype},  Dim : {img_rgb.ndim}D,  Size : {img_rgb.size} bytes')\n",
    "# grayscale\n",
    "img_gray = cv2.imread(file, cv2.IMREAD_GRAYSCALE)\n",
    "print(f'Shape : {img_gray.shape},  Data Type : {img_gray.dtype},  Dim : {img_gray.ndim}D,  Size : {img_gray.size} bytes')"
   ]
  },
  {
   "cell_type": "code",
   "execution_count": 5,
   "metadata": {},
   "outputs": [
    {
     "name": "stdout",
     "output_type": "stream",
     "text": [
      "32\n"
     ]
    }
   ],
   "source": [
    "# 이미지 창 띄우기\n",
    "#    - cv2.imshow('창 이름', 이미지 객체)\n",
    "cv2.imshow('Color Image', img_rgb)\n",
    "\n",
    "# waitKey : 이미지 출력 위 키보드 입력 대기\n",
    "#    - 응답 없음 방지\n",
    "#    - 0 : 무한대기, 1~ : 대기시간(ms); 1000 = 1초\n",
    "#   - 반환값 : 입력된 키보드 값\n",
    "\n",
    "retval = cv2.waitKey(0)\n",
    "print(retval)   # 종료할 때 누른 값이 반환됨! (ESC : 27, 엔터 : 13)\n",
    "\n",
    "# 창 닫기\n",
    "cv2.destroyAllWindows()"
   ]
  },
  {
   "cell_type": "code",
   "execution_count": 6,
   "metadata": {},
   "outputs": [],
   "source": [
    "# 이미지 출력 기본형\n",
    "import cv2\n",
    "\n",
    "img_file = '../DATA/4eefb07a29ea1780f2dbf055792cdfd7.jpg'\n",
    "img = cv2.imread(img_file, cv2.IMREAD_COLOR)\n",
    "img_name = 'PINGU'\n",
    "\n",
    "if img is not None:\n",
    "    cv2.imshow(img_name, img)\n",
    "    cv2.waitKey()\n",
    "    cv2.destroyAllWindows()\n",
    "else:\n",
    "    print('No image file.')"
   ]
  },
  {
   "cell_type": "code",
   "execution_count": 7,
   "metadata": {},
   "outputs": [
    {
     "name": "stdout",
     "output_type": "stream",
     "text": [
      "Key : 32\n",
      "Key : 32\n",
      "Key : 32\n",
      "Key : 27\n"
     ]
    }
   ],
   "source": [
    "# 이미지 화면 출력 : 특정 키 입력 시 종료\n",
    "\n",
    "if img is not None:\n",
    "    cv2.imshow(img_name, img)\n",
    "    while True:\n",
    "        key = cv2.waitKey()\n",
    "        print(f'Key : {key}')\n",
    "        if key == 27:\n",
    "            cv2.destroyAllWindows()\n",
    "            break\n",
    "else:\n",
    "    print('No image file.')"
   ]
  },
  {
   "cell_type": "markdown",
   "metadata": {},
   "source": [
    "회색 이미지 저장"
   ]
  },
  {
   "cell_type": "code",
   "execution_count": 8,
   "metadata": {},
   "outputs": [],
   "source": [
    "img_gray = cv2.imread(img_file, cv2.IMREAD_GRAYSCALE)\n",
    "\n",
    "save_file = '../DATA/graypingu.jpg'\n",
    "gray_file = cv2.imwrite(save_file, img_gray)"
   ]
  },
  {
   "cell_type": "markdown",
   "metadata": {},
   "source": [
    "이미지 채널 분리 : B, G, R"
   ]
  },
  {
   "cell_type": "code",
   "execution_count": 9,
   "metadata": {},
   "outputs": [],
   "source": [
    "import cv2\n",
    "\n",
    "img_file = '../DATA/dd4ef5892c4048cbb43f47afc38a9f5f.jpg'\n",
    "img = cv2.imread(img_file, cv2.IMREAD_COLOR)\n",
    "img_b, img_g, img_r = cv2.split(img)\n",
    "\n",
    "cv2.imshow('Original Image', img)\n",
    "cv2.waitKey(3000)  # Display for 3 seconds\n",
    "cv2.imshow('Blue Channel', img_b)\n",
    "cv2.waitKey(3000)  # Display for 3 seconds\n",
    "cv2.imshow('Green Channel', img_g)\n",
    "cv2.waitKey(3000)  # Display for 3 seconds\n",
    "cv2.imshow('Red Channel', img_r)\n",
    "cv2.waitKey()  # Wait for any key press\n",
    "\n",
    "cv2.destroyAllWindows()"
   ]
  },
  {
   "cell_type": "code",
   "execution_count": 10,
   "metadata": {},
   "outputs": [],
   "source": [
    "# ndarray로 분리\n",
    "# - 3번째 차원이 색상 채널을 의미\n",
    "\n",
    "b, g, r = img[:, :, 0], img[:, :, 1], img[:, :, 2]\n",
    "\n",
    "cv2.imshow('Original Image', img)\n",
    "cv2.waitKey(3000)  # Display for 3 seconds\n",
    "cv2.imshow('Blue Channel', b)\n",
    "cv2.waitKey(3000)  # Display for 3 seconds\n",
    "cv2.imshow('Green Channel', g)\n",
    "cv2.waitKey(3000)  # Display for 3 seconds\n",
    "cv2.imshow('Red Channel', r)\n",
    "cv2.waitKey()  # Wait for any key press\n",
    "\n",
    "cv2.destroyAllWindows()"
   ]
  },
  {
   "cell_type": "code",
   "execution_count": 11,
   "metadata": {},
   "outputs": [],
   "source": [
    "# 채널 병합 / 변경\n",
    "# - cv2.merge( (b, g, r) ) : 채널 병합\n",
    "\n",
    "img = cv2.merge((r, g, b))  # Green, Blue, Red 순서로 변경\n",
    "\n",
    "cv2.imshow('bgr', cv2.merge((b, g, r)))\n",
    "cv2.waitKey(1000)\n",
    "cv2.imshow('rgb', cv2.merge((r, g, b)))\n",
    "cv2.waitKey(1000)\n",
    "cv2.imshow('brg', cv2.merge((b, r, g)))\n",
    "cv2.waitKey(1000)\n",
    "cv2.imshow('gbr', cv2.merge((g, b, r)))\n",
    "cv2.waitKey(1000)\n",
    "cv2.imshow('grb', cv2.merge((g, r, b)))\n",
    "\n",
    "cv2.waitKey()\n",
    "cv2.destroyAllWindows()\n"
   ]
  },
  {
   "cell_type": "code",
   "execution_count": 12,
   "metadata": {},
   "outputs": [],
   "source": [
    "# BGR => HSV\n",
    "# - cv2.cvtColor(이미지 객체, cv2.COLOR_BGR2HSV)\n",
    "\n",
    "img = cv2.imread(img_file, cv2.IMREAD_COLOR)\n",
    "\n",
    "img_hsv = cv2.cvtColor(img, cv2.COLOR_BGR2HSV)\n",
    "planes = cv2.split(img_hsv)\n",
    "\n",
    "cv2.imshow('Original Image', img)\n",
    "cv2.waitKey(3000)  # Display for 3 seconds\n",
    "cv2.imshow('HSV Image', img_hsv)\n",
    "cv2.waitKey(3000)  # Display for 3 seconds\n",
    "\n",
    "cv2.imshow('Hue', planes[0])\n",
    "cv2.waitKey(3000)  # Display for 3 seconds\n",
    "cv2.imshow('Saturation', planes[1])\n",
    "cv2.waitKey(3000)  # Display for 3 seconds\n",
    "cv2.imshow('Value', planes[2])\n",
    "cv2.waitKey()  # Wait for any key press\n",
    "\n",
    "cv2.destroyAllWindows()\n"
   ]
  },
  {
   "cell_type": "markdown",
   "metadata": {},
   "source": [
    "오후 수업\n",
    "\n",
    "<hr>"
   ]
  },
  {
   "cell_type": "markdown",
   "metadata": {},
   "source": [
    "이미지 창 제어"
   ]
  },
  {
   "cell_type": "code",
   "execution_count": 13,
   "metadata": {},
   "outputs": [],
   "source": [
    "# 이미지창 띄우기\n",
    "cv2.imshow('Color Image', img_rgb)\n",
    "# x 버튼으로 창 닫기\n",
    "#   - cv2.getWindowProperty('창 이름', cv2.WND_PROP_VISIBLE) : 창이 닫혀있으면 0, 열려있으면 1 반환\n",
    "\n",
    "if cv2.waitKey() or cv2.getWindowProperty('Color Image', cv2.WND_PROP_VISIBLE) < 1:\n",
    "    cv2.destroyAllWindows()"
   ]
  },
  {
   "cell_type": "markdown",
   "metadata": {},
   "source": [
    "도화지 만들기"
   ]
  },
  {
   "cell_type": "code",
   "execution_count": 14,
   "metadata": {},
   "outputs": [
    {
     "data": {
      "text/plain": [
       "((500, 500), dtype('uint8'))"
      ]
     },
     "execution_count": 14,
     "metadata": {},
     "output_type": "execute_result"
    }
   ],
   "source": [
    "img = np.zeros((500, 500), dtype=np.uint8)\n",
    "img.shape, img.dtype"
   ]
  },
  {
   "cell_type": "code",
   "execution_count": 15,
   "metadata": {},
   "outputs": [
    {
     "data": {
      "text/plain": [
       "((500, 500, 3), dtype('uint8'))"
      ]
     },
     "execution_count": 15,
     "metadata": {},
     "output_type": "execute_result"
    }
   ],
   "source": [
    "img_white = np.full((500, 500, 3), 255, dtype=np.uint8)\n",
    "img_white.shape, img_white.dtype"
   ]
  },
  {
   "cell_type": "code",
   "execution_count": 16,
   "metadata": {},
   "outputs": [],
   "source": [
    "cv2.imshow('White Canvas', img_white)\n",
    "cv2.imshow('Black Canvas', img)\n",
    "cv2.waitKey()\n",
    "cv2.destroyAllWindows()"
   ]
  },
  {
   "cell_type": "markdown",
   "metadata": {},
   "source": [
    "도형 그리기"
   ]
  },
  {
   "cell_type": "code",
   "execution_count": 17,
   "metadata": {},
   "outputs": [],
   "source": [
    "# 1. 직선 : cv2.line(img, start, end, color, thickness)\n",
    "cv2.line(img_white, (50, 50), (450, 50), (0, 0, 255), 5)    # 빨간색(0, 0, 255) 두께 5\n",
    "cv2.line(img_white, (50, 100), (450, 100), (255, 0, 0), 7)  # 파란색(255, 0, 0) 두께 10\n",
    "cv2.line(img_white, (50, 150), (450, 150), (96, 96, 129), 10)  # 초록색(0, 255, 0) 두께 15\n",
    "\n",
    "# 2. 사각형 : cv2.rectangle(img, start, end, color, thickness)\n",
    "cv2.rectangle(img_white, (50, 200), (450, 300), (0, 0, 255), 2)    # 빨간색(0, 0, 255) 두께 5\n",
    "\n",
    "# 3. 4연결선 : cv2.line(img, start, end, color, thickness, cv2.LINE_4)\n",
    "cv2.line(img_white, (50, 350), (150, 450), (0, 0, 255), 5, cv2.LINE_4)    # 빨간색(0, 0, 255) 두께 5\n",
    "\n",
    "# 4. 8연결선 : cv2.line(img, start, end, color, thickness, cv2.LINE_8)\n",
    "cv2.line(img_white, (100, 350), (200, 450), (180, 85, 44), 5, cv2.LINE_8)    # 파란색(255, 0, 0) 두께 5\n",
    "# rgb(44, 85, 180)rgb(129, 96, 96)\n",
    "cv2.imshow('Line', img_white)\n",
    "cv2.waitKey()\n",
    "cv2.destroyAllWindows()"
   ]
  },
  {
   "cell_type": "code",
   "execution_count": 44,
   "metadata": {},
   "outputs": [],
   "source": [
    "new_canvas = np.full((1000, 1000, 3), 255, dtype=np.uint8)\n",
    "\n",
    "# 5. 원 : cv2.circle(img, center, radian, color, thickness)\n",
    "cv2.circle(new_canvas, (250, 250), 70, (0, 100, 0), 3)  # 빨간색(0, 0, 255) 두께 3\n",
    "# 1) 원 안에 눈동자처럼 검은 색 원 넣기\n",
    "cv2.circle(new_canvas, (250, 250), 30, (0, 100, 0), -1)  # 검은색(0, 0, 0) 두께 -1(채우기)\n",
    "\n",
    "# 2) 타원 : 원을 행성처럼 감싸는 타원 만들기\n",
    "# - cv2.ellipse(img, center, axes, angle, startAngle, endAngle, color, thickness)\n",
    "cv2.ellipse(new_canvas, (250, 250), (100, 50), 30, 300, 10, (0, 0, 255), 3) # 빨간색(0, 0, 255) 두께 3\n",
    "\n",
    "\n",
    "# 6. 다각형 : cv2.polylines(img, points, is_closed, color, thickness)\n",
    "# - points : numpy array로 선분의 시작점과 끝점을 저장 [ [x1, y1], [x2, y2], ... ]\n",
    "# - is_closed : 닫힌 도형 여부 (True : 닫힌 도형, False : 열린 도형)\n",
    "# 1) 지그재그 파란색\n",
    "pt1 = np.array([[50, 400], [150, 400], [100, 450], [200, 450]], np.int32)\n",
    "cv2.polylines(new_canvas, [pt1], True, (255, 0, 0), 3)\n",
    "\n",
    "# 2) 삼각형 초록색\n",
    "pt2 = np.array([[250, 400], [350, 400], [300, 450]], np.int32)\n",
    "cv2.polylines(new_canvas, [pt2], True, (0, 255, 0), 3)\n",
    "\n",
    "# 3) 팔각형 보라색\n",
    "pt3 = np.array([[400, 400], [500, 400], [550, 450], [450, 500], [400, 500], [350, 450]], np.int32)\n",
    "cv2.polylines(new_canvas, [pt3], True, (255, 0, 255), 3)\n",
    "\n",
    "# 7. 단어 입력 : cv2.putText(img, text, org, font, fontScale, color, thickness)\n",
    "# - org : 텍스트 시작 위치\n",
    "# - font : 폰트 종류; cv2.FONT_HERSHEY_XXX\n",
    "# - fontScale : 폰트 크기\n",
    "# - thickness : 폰트 두께\n",
    "cv2.putText(new_canvas, 'Zigzag', (50, 380), cv2.FONT_HERSHEY_SIMPLEX, 1, (0, 0, 0), 2)\n",
    "cv2.putText(new_canvas, 'Triangle', (250, 380), cv2.FONT_HERSHEY_SIMPLEX, 1, (0, 0, 0), 2)\n",
    "cv2.putText(new_canvas, 'Octagon', (400, 380), cv2.FONT_HERSHEY_SIMPLEX, 1, (0, 0, 0), 2)\n",
    "\n",
    "\n",
    "cv2.imshow('Shapes', new_canvas)\n",
    "cv2.waitKey()\n",
    "cv2.destroyAllWindows()"
   ]
  }
 ],
 "metadata": {
  "kernelspec": {
   "display_name": "Torch_PY38",
   "language": "python",
   "name": "python3"
  },
  "language_info": {
   "codemirror_mode": {
    "name": "ipython",
    "version": 3
   },
   "file_extension": ".py",
   "mimetype": "text/x-python",
   "name": "python",
   "nbconvert_exporter": "python",
   "pygments_lexer": "ipython3",
   "version": "3.8.18"
  }
 },
 "nbformat": 4,
 "nbformat_minor": 2
}
