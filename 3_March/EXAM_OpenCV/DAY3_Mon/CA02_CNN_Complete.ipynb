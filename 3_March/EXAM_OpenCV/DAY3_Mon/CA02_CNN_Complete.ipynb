{
 "cells": [
  {
   "cell_type": "code",
   "execution_count": 7,
   "metadata": {},
   "outputs": [],
   "source": []
  },
  {
   "cell_type": "code",
   "execution_count": 2,
   "metadata": {},
   "outputs": [
    {
     "name": "stdout",
     "output_type": "stream",
     "text": [
      "(600, 600) RGB\n",
      "(600, 600) RGB\n"
     ]
    }
   ],
   "source": [
    "# New data로 test\n",
    "from PIL import Image\n",
    "import torch\n",
    "import torch.nn as nn\n",
    "\n",
    "def img_to_tensor(dir):\n",
    "    new_img = Image.open(dir)\n",
    "    new_img = new_img.resize((600, 600))\n",
    "    print(new_img.size, new_img.mode)\n",
    "\n",
    "new_pork = img_to_tensor('../DATA/pork3.jpg')\n",
    "new_beef = img_to_tensor('../DATA/beef.jpg')"
   ]
  },
  {
   "cell_type": "code",
   "execution_count": 8,
   "metadata": {},
   "outputs": [],
   "source": [
    "from torchvision import transforms\n",
    "import torch.nn.functional as F\n",
    "\n",
    "class MeatModel(nn.Module):\n",
    "    def __init__(self):\n",
    "        super(MeatModel, self).__init__()\n",
    "        self.conv1 = nn.Conv2d(3, 32, kernel_size=3, padding=1)  # (3, 600, 600) -> (32, 600, 600), 가로세로는 일정\n",
    "        self.conv2 = nn.Conv2d(32, 64, kernel_size=3, padding=1)  # (32, 600, 600) -> (64, 600, 600)\n",
    "        self.pool = nn.MaxPool2d(kernel_size=2)  # (64, 600, 600) -> (64, 300, 300) -> (64, 150, 150)\n",
    "        self.fc1 = nn.Linear(64 * 150 * 150, 128)\n",
    "        self.fc2 = nn.Linear(128, 2)    # 0, 1이면 2개의 클래스, 1인가 2인가?\n",
    "        \n",
    "    def forward(self, x):\n",
    "        y = F.relu(self.conv1(x))   # (3, 600, 600) -> (32, 600, 600)\n",
    "        y = self.pool(y)            # (32, 600, 600) -> (32, 300, 300)\n",
    "        y = F.relu(self.conv2(y))   # (32, 300, 300) -> (64, 300, 300)\n",
    "        y = self.pool(y)            # (64, 300, 300) -> (64, 150, 150)\n",
    "        \n",
    "        y = y.view(-1, 64 * 150 * 150)  # 1차원으로 펼치기 : ?? 근데 왜 300이지? -> 150 맞다! fc1을 300으로 해서 오류\n",
    "        y = F.relu(self.fc1(y))    # (64 * 150 * 150) -> (128)\n",
    "        y = self.fc2(y)            # (128) -> (2)\n",
    "        return y"
   ]
  },
  {
   "cell_type": "code",
   "execution_count": 9,
   "metadata": {},
   "outputs": [
    {
     "ename": "RuntimeError",
     "evalue": "Invalid magic number; corrupt file?",
     "output_type": "error",
     "traceback": [
      "\u001b[1;31m---------------------------------------------------------------------------\u001b[0m",
      "\u001b[1;31mRuntimeError\u001b[0m                              Traceback (most recent call last)",
      "Cell \u001b[1;32mIn[9], line 5\u001b[0m\n\u001b[0;32m      2\u001b[0m \u001b[38;5;28;01mimport\u001b[39;00m \u001b[38;5;21;01mpickle\u001b[39;00m\n\u001b[0;32m      3\u001b[0m \u001b[38;5;28;01mimport\u001b[39;00m \u001b[38;5;21;01mtorch\u001b[39;00m\n\u001b[1;32m----> 5\u001b[0m model \u001b[38;5;241m=\u001b[39m \u001b[43mtorch\u001b[49m\u001b[38;5;241;43m.\u001b[39;49m\u001b[43mload\u001b[49m\u001b[43m(\u001b[49m\u001b[38;5;124;43m'\u001b[39;49m\u001b[38;5;124;43mmeat_model.pkl\u001b[39;49m\u001b[38;5;124;43m'\u001b[39;49m\u001b[43m)\u001b[49m\n",
      "File \u001b[1;32mc:\\Users\\wjs31\\anaconda3\\envs\\Torch_PY38\\lib\\site-packages\\torch\\serialization.py:1040\u001b[0m, in \u001b[0;36mload\u001b[1;34m(f, map_location, pickle_module, weights_only, mmap, **pickle_load_args)\u001b[0m\n\u001b[0;32m   1038\u001b[0m     \u001b[38;5;28;01mexcept\u001b[39;00m \u001b[38;5;167;01mRuntimeError\u001b[39;00m \u001b[38;5;28;01mas\u001b[39;00m e:\n\u001b[0;32m   1039\u001b[0m         \u001b[38;5;28;01mraise\u001b[39;00m pickle\u001b[38;5;241m.\u001b[39mUnpicklingError(UNSAFE_MESSAGE \u001b[38;5;241m+\u001b[39m \u001b[38;5;28mstr\u001b[39m(e)) \u001b[38;5;28;01mfrom\u001b[39;00m \u001b[38;5;28;01mNone\u001b[39;00m\n\u001b[1;32m-> 1040\u001b[0m \u001b[38;5;28;01mreturn\u001b[39;00m \u001b[43m_legacy_load\u001b[49m\u001b[43m(\u001b[49m\u001b[43mopened_file\u001b[49m\u001b[43m,\u001b[49m\u001b[43m \u001b[49m\u001b[43mmap_location\u001b[49m\u001b[43m,\u001b[49m\u001b[43m \u001b[49m\u001b[43mpickle_module\u001b[49m\u001b[43m,\u001b[49m\u001b[43m \u001b[49m\u001b[38;5;241;43m*\u001b[39;49m\u001b[38;5;241;43m*\u001b[39;49m\u001b[43mpickle_load_args\u001b[49m\u001b[43m)\u001b[49m\n",
      "File \u001b[1;32mc:\\Users\\wjs31\\anaconda3\\envs\\Torch_PY38\\lib\\site-packages\\torch\\serialization.py:1260\u001b[0m, in \u001b[0;36m_legacy_load\u001b[1;34m(f, map_location, pickle_module, **pickle_load_args)\u001b[0m\n\u001b[0;32m   1258\u001b[0m magic_number \u001b[38;5;241m=\u001b[39m pickle_module\u001b[38;5;241m.\u001b[39mload(f, \u001b[38;5;241m*\u001b[39m\u001b[38;5;241m*\u001b[39mpickle_load_args)\n\u001b[0;32m   1259\u001b[0m \u001b[38;5;28;01mif\u001b[39;00m magic_number \u001b[38;5;241m!=\u001b[39m MAGIC_NUMBER:\n\u001b[1;32m-> 1260\u001b[0m     \u001b[38;5;28;01mraise\u001b[39;00m \u001b[38;5;167;01mRuntimeError\u001b[39;00m(\u001b[38;5;124m\"\u001b[39m\u001b[38;5;124mInvalid magic number; corrupt file?\u001b[39m\u001b[38;5;124m\"\u001b[39m)\n\u001b[0;32m   1261\u001b[0m protocol_version \u001b[38;5;241m=\u001b[39m pickle_module\u001b[38;5;241m.\u001b[39mload(f, \u001b[38;5;241m*\u001b[39m\u001b[38;5;241m*\u001b[39mpickle_load_args)\n\u001b[0;32m   1262\u001b[0m \u001b[38;5;28;01mif\u001b[39;00m protocol_version \u001b[38;5;241m!=\u001b[39m PROTOCOL_VERSION:\n",
      "\u001b[1;31mRuntimeError\u001b[0m: Invalid magic number; corrupt file?"
     ]
    }
   ],
   "source": [
    "# load model from pickle\n",
    "import pickle\n",
    "import torch\n",
    "\n",
    "model = torch.load('meat_model.pkl')"
   ]
  },
  {
   "cell_type": "code",
   "execution_count": 10,
   "metadata": {},
   "outputs": [
    {
     "ename": "NameError",
     "evalue": "name 'model' is not defined",
     "output_type": "error",
     "traceback": [
      "\u001b[1;31m---------------------------------------------------------------------------\u001b[0m",
      "\u001b[1;31mNameError\u001b[0m                                 Traceback (most recent call last)",
      "Cell \u001b[1;32mIn[10], line 3\u001b[0m\n\u001b[0;32m      1\u001b[0m \u001b[38;5;66;03m# New data로 test\u001b[39;00m\n\u001b[1;32m----> 3\u001b[0m \u001b[43mmodel\u001b[49m\u001b[38;5;241m.\u001b[39meval()\n\u001b[0;32m      4\u001b[0m pred \u001b[38;5;241m=\u001b[39m model(new_pork)\n\u001b[0;32m      5\u001b[0m \u001b[38;5;28mprint\u001b[39m(pred)\n",
      "\u001b[1;31mNameError\u001b[0m: name 'model' is not defined"
     ]
    }
   ],
   "source": [
    "# New data로 test\n",
    "\n",
    "model.eval()\n",
    "pred = model(new_pork)\n",
    "print(pred)"
   ]
  },
  {
   "cell_type": "code",
   "execution_count": null,
   "metadata": {},
   "outputs": [],
   "source": [
    "# ㅠㅠ 로드 실패로 new data 확인 불가\n",
    "# 대신 삼겹살은 성공"
   ]
  }
 ],
 "metadata": {
  "kernelspec": {
   "display_name": "Torch_PY38",
   "language": "python",
   "name": "python3"
  },
  "language_info": {
   "codemirror_mode": {
    "name": "ipython",
    "version": 3
   },
   "file_extension": ".py",
   "mimetype": "text/x-python",
   "name": "python",
   "nbconvert_exporter": "python",
   "pygments_lexer": "ipython3",
   "version": "3.8.18"
  }
 },
 "nbformat": 4,
 "nbformat_minor": 2
}
