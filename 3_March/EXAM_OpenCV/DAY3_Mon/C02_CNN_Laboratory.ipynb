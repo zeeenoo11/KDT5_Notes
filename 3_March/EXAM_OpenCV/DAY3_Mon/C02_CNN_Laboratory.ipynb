{
 "cells": [
  {
   "cell_type": "code",
   "execution_count": 44,
   "metadata": {},
   "outputs": [],
   "source": [
    "# Load Module\n",
    "import torch\n",
    "import torch.nn as nn\n",
    "import cv2"
   ]
  },
  {
   "cell_type": "code",
   "execution_count": 45,
   "metadata": {},
   "outputs": [],
   "source": [
    "filename = '../DATA/angryping.jpg'"
   ]
  },
  {
   "cell_type": "code",
   "execution_count": 46,
   "metadata": {},
   "outputs": [
    {
     "name": "stdout",
     "output_type": "stream",
     "text": [
      "(535, 473, 3) 3\n",
      "(50, 50, 3) 3\n",
      "(535, 473) 2 --- (50, 50) 2\n"
     ]
    }
   ],
   "source": [
    "img_np = cv2.imread(filename)/255.0\n",
    "print(img_np.shape, img_np.ndim)\n",
    "\n",
    "img_np2 = cv2.resize(img_np, (50, 50))\n",
    "print(img_np2.shape, img_np2.ndim)\n",
    "\n",
    "gray_np = cv2.imread(filename, cv2.IMREAD_GRAYSCALE)/255.0\n",
    "gray_np2 = cv2.resize(gray_np, (50, 50))\n",
    "print(gray_np.shape, gray_np.ndim, '---', gray_np2.shape, gray_np2.ndim)\n"
   ]
  },
  {
   "cell_type": "code",
   "execution_count": 47,
   "metadata": {},
   "outputs": [],
   "source": [
    "imshow = cv2.imshow('image', img_np2)\n",
    "cv2.waitKey(0)\n",
    "cv2.destroyAllWindows()"
   ]
  },
  {
   "cell_type": "code",
   "execution_count": 48,
   "metadata": {},
   "outputs": [
    {
     "name": "stdout",
     "output_type": "stream",
     "text": [
      "torch.Size([50, 50, 3]) 3 --- torch.Size([50, 50]) 2\n"
     ]
    }
   ],
   "source": [
    "# numpy to tensor\n",
    "img_tensor = torch.tensor(img_np2, dtype=torch.float32)\n",
    "gray_tensor = torch.tensor(gray_np2, dtype=torch.float32)\n",
    "print(img_tensor.shape, img_tensor.ndim, '---', gray_tensor.shape, gray_tensor.ndim)"
   ]
  },
  {
   "cell_type": "code",
   "execution_count": 49,
   "metadata": {},
   "outputs": [
    {
     "name": "stdout",
     "output_type": "stream",
     "text": [
      "torch.Size([3, 50, 50]) 3 --- torch.Size([1, 50, 50]) 3\n"
     ]
    }
   ],
   "source": [
    "# Pytorch 이미지 데이터 형식 : (C, H, W) -> (H, W, C)\n",
    "# - permute()\n",
    "color_hwc = img_tensor.permute(2, 0, 1)\n",
    "gray_hwc = gray_tensor.unsqueeze(0)\n",
    "print(color_hwc.shape, color_hwc.ndim, '---', gray_hwc.shape, gray_hwc.ndim)"
   ]
  },
  {
   "cell_type": "markdown",
   "metadata": {},
   "source": [
    "#### CNN Layer 살펴보기"
   ]
  },
  {
   "cell_type": "code",
   "execution_count": 50,
   "metadata": {},
   "outputs": [
    {
     "name": "stdout",
     "output_type": "stream",
     "text": [
      "torch.Size([1, 48, 48])\n"
     ]
    }
   ],
   "source": [
    "# 이미지 데이터로 conv2D\n",
    "# 1. 흑백 이미지\n",
    "con_Layer = nn.Conv2d(in_channels=1, out_channels=1, kernel_size=3, stride=1, padding=0)\n",
    "# - 커널은 3x3, 이미지 크기는 50x50\n",
    "#   => (3-1) = 2만큼 짤림; 50x50 => 48x48\n",
    "#   => (50-3+1) = 48\n",
    "\n",
    "output = con_Layer(gray_hwc)\n",
    "print(output.shape)     # torch.Size([1, 48, 48]) => 2만큼 짤린 것을 확인"
   ]
  },
  {
   "cell_type": "code",
   "execution_count": 51,
   "metadata": {},
   "outputs": [
    {
     "name": "stdout",
     "output_type": "stream",
     "text": [
      "torch.Size([8, 48, 48])\n"
     ]
    }
   ],
   "source": [
    "# out_channels를 8로 변경\n",
    "con_Layer = nn.Conv2d(in_channels=1, out_channels=8, kernel_size=3, stride=1, padding=0)\n",
    "output = con_Layer(gray_hwc)\n",
    "print(output.shape)     # torch.Size([8, 48, 48]) => 8개의 채널이 생성됨!!"
   ]
  },
  {
   "cell_type": "code",
   "execution_count": 52,
   "metadata": {},
   "outputs": [
    {
     "name": "stdout",
     "output_type": "stream",
     "text": [
      "Conv2d(1, 8, kernel_size=(3, 3), stride=(1, 1))\n",
      "Conv2d(8, 16, kernel_size=(3, 3), stride=(1, 1))\n"
     ]
    }
   ],
   "source": [
    "# conv2D 한 번 더\n",
    "con_Layer1 = nn.Conv2d(in_channels=1, out_channels=8, kernel_size=3, stride=1, padding=0)\n",
    "con_Layer2 = nn.Conv2d(in_channels=8, out_channels=16, kernel_size=3, stride=1, padding=0)\n",
    "print(con_Layer1, con_Layer2, sep='\\n')"
   ]
  },
  {
   "cell_type": "code",
   "execution_count": 53,
   "metadata": {},
   "outputs": [
    {
     "name": "stdout",
     "output_type": "stream",
     "text": [
      "torch.Size([8, 48, 48])\n",
      "torch.Size([8, 50, 50])\n",
      "torch.Size([8, 52, 52])\n"
     ]
    }
   ],
   "source": [
    "# Padding의 차이 확인\n",
    "con_Layer_p0 = nn.Conv2d(in_channels=1, out_channels=8, kernel_size=3, stride=1, padding=0)\n",
    "con_Layer_p1 = nn.Conv2d(in_channels=1, out_channels=8, kernel_size=3, stride=1, padding=1)\n",
    "con_Layer_p2 = nn.Conv2d(in_channels=1, out_channels=8, kernel_size=3, stride=1, padding=2)\n",
    "print(con_Layer_p0(gray_hwc).shape, con_Layer_p1(gray_hwc).shape, con_Layer_p2(gray_hwc).shape, sep='\\n')\n",
    "# - torch.Size([8, 48, 48])\n",
    "# - torch.Size([8, 50, 50])\n",
    "# - torch.Size([8, 52, 52])"
   ]
  },
  {
   "cell_type": "code",
   "execution_count": 54,
   "metadata": {},
   "outputs": [
    {
     "name": "stdout",
     "output_type": "stream",
     "text": [
      "torch.Size([8, 46, 46])\n"
     ]
    }
   ],
   "source": [
    "# Kernel : 5x5 이면?\n",
    "con_Layer_k5 = nn.Conv2d(in_channels=1, out_channels=8, kernel_size=5, stride=1, padding=0)\n",
    "print(con_Layer_k5(gray_hwc).shape)     \n",
    "# - torch.Size([8, 46, 46]) : (5-1) 만큼 짤림\n"
   ]
  },
  {
   "cell_type": "code",
   "execution_count": 55,
   "metadata": {},
   "outputs": [
    {
     "name": "stdout",
     "output_type": "stream",
     "text": [
      "torch.Size([8, 48, 48])\n",
      "torch.Size([8, 24, 24])\n"
     ]
    }
   ],
   "source": [
    "# Stride : 2로 변경\n",
    "con_Layer_s1 = nn.Conv2d(in_channels=1, out_channels=8, kernel_size=3, stride=1, padding=0)\n",
    "con_Layer_s2 = nn.Conv2d(in_channels=1, out_channels=8, kernel_size=3, stride=2, padding=0)\n",
    "print(con_Layer_s1(gray_hwc).shape, con_Layer_s2(gray_hwc).shape, sep='\\n')\n",
    "# - torch.Size([8, 48, 48])\n",
    "# - torch.Size([8, 24, 24]) : 확연히 줆; 시간 단축 및 메모리 효율성 증가\n",
    "#  => (50-3+1)/1 = 48, stride=2 이면 (50-3+1)/2 = 24"
   ]
  },
  {
   "cell_type": "code",
   "execution_count": 61,
   "metadata": {},
   "outputs": [
    {
     "name": "stdout",
     "output_type": "stream",
     "text": [
      "torch.Size([8, 46, 46])\n",
      "torch.Size([16, 44, 44])\n"
     ]
    }
   ],
   "source": [
    "# convXD + AF = F.relu()\n",
    "from torch.nn.functional import relu\n",
    "\n",
    "con_Layer_for_pool = nn.Conv2d(in_channels=1, out_channels=8, kernel_size=5, stride=1, padding=0)\n",
    "output = con_Layer_for_pool(gray_hwc)\n",
    "\n",
    "relu_1 = relu(input=output)\n",
    "print(relu_1.shape)\n",
    "\n",
    "relu_2 = relu(input=con_Layer2(relu_1))\n",
    "print(relu_2.shape)"
   ]
  },
  {
   "cell_type": "code",
   "execution_count": 56,
   "metadata": {},
   "outputs": [],
   "source": [
    "# Pooling\n",
    "# - Conv에서 추출한 특징을 다운샘플링\n",
    "# - 결과 : (C, H, W) -> (C, H/2, W/2)\n",
    "\n",
    "# Max Pooling(kernel=3, stride=1) : 3x3의 영역에서 가장 큰 값만 추출"
   ]
  },
  {
   "cell_type": "code",
   "execution_count": 64,
   "metadata": {},
   "outputs": [
    {
     "data": {
      "text/plain": [
       "torch.Size([16, 14, 14])"
      ]
     },
     "execution_count": 64,
     "metadata": {},
     "output_type": "execute_result"
    }
   ],
   "source": [
    "# 2번째 Conv2D + AF 결과인 피처맵 전달\n",
    "# MaxPool2d(kernel_size=3, stride=None) : (H-3+1)//3, (W-3+1)//3 = (14, 14)\n",
    "pool_1 = nn.MaxPool2d(kernel_size=3)    # stride=None : kernel size와 같은 값으로 설정!!!!\n",
    "fm1 = pool_1(relu_2)\n",
    "fm1.shape   # (44, 44)를 kernel size 3으로 3x3 영역에서 가장 큰 값만 추출 => 44 // 3 = 14"
   ]
  },
  {
   "cell_type": "code",
   "execution_count": 63,
   "metadata": {},
   "outputs": [
    {
     "data": {
      "text/plain": [
       "torch.Size([16, 21, 21])"
      ]
     },
     "execution_count": 63,
     "metadata": {},
     "output_type": "execute_result"
    }
   ],
   "source": [
    "# MaxPool2d(kernel=3, stride=2) : (H-3)//2 + 1\n",
    "pool_2 = nn.MaxPool2d(kernel_size=3, stride=2) \n",
    "fm2 = pool_2(relu_2)\n",
    "fm2.shape   # stride = 2 : (44 - 2) // 2 = 21"
   ]
  },
  {
   "cell_type": "markdown",
   "metadata": {},
   "source": [
    "#### 추출된 피처맵 확인"
   ]
  },
  {
   "cell_type": "code",
   "execution_count": 69,
   "metadata": {},
   "outputs": [
    {
     "name": "stdout",
     "output_type": "stream",
     "text": [
      "gray_hwc :  torch.Size([1, 50, 50])\n",
      "relu1 :  torch.Size([5, 46, 46])\n",
      "relu2 :  torch.Size([3, 42, 42])\n",
      "mp1 :  torch.Size([3, 14, 14])\n"
     ]
    }
   ],
   "source": [
    "# 구성 : Conv2D + Conv2D + Pooling\n",
    "print('gray_hwc : ', gray_hwc.shape)    # torch.Size([1, 50, 50])\n",
    "\n",
    "con_Layer_k5_1 = nn.Conv2d(in_channels=1, out_channels=5, kernel_size=5, stride=1, padding=0)\n",
    "output1 = relu(con_Layer_k5_1(gray_hwc))    # torch.Size([5, 46, 46]) : in=1, out=5, kernel=5, stride=1, padding=0\n",
    "print('relu1 : ', output1.shape)\n",
    "\n",
    "con_Layer_k5_2 = nn.Conv2d(in_channels=5, out_channels=3, kernel_size=5, stride=1, padding=0)\n",
    "output2 = relu(con_Layer_k5_2(output1))     # torch.Size([3, 42, 42]) : in=5, out=3, kernel=5, stride=1, padding=0\n",
    "print('relu2 : ', output2.shape)\n",
    "\n",
    "mp1 = pool_1(output2)       # torch.Size([3, 14, 14]) : kernel=3, stride=None\n",
    "print('mp1 : ', mp1.shape)"
   ]
  },
  {
   "cell_type": "code",
   "execution_count": 71,
   "metadata": {},
   "outputs": [
    {
     "name": "stdout",
     "output_type": "stream",
     "text": [
      "torch.Size([50, 50])\n"
     ]
    },
    {
     "data": {
      "image/png": "[encoded data removed]",
      "text/plain": [
       "<Figure size 640x480 with 1 Axes>"
      ]
     },
     "metadata": {},
     "output_type": "display_data"
    }
   ],
   "source": [
    "# 시각화\n",
    "import matplotlib.pyplot as plt\n",
    "\n",
    "# 3D -> 2D\n",
    "gray_img = gray_hwc.squeeze(0)\n",
    "print(gray_img.shape)\n",
    "\n",
    "# .imshow()\n",
    "plt.imshow(gray_img, cmap='gray')\n",
    "plt.show()"
   ]
  },
  {
   "cell_type": "code",
   "execution_count": 91,
   "metadata": {},
   "outputs": [
    {
     "name": "stdout",
     "output_type": "stream",
     "text": [
      "torch.Size([46, 46])\n"
     ]
    },
    {
     "data": {
      "image/png": "[encoded data removed]",
      "text/plain": [
       "<Figure size 1500x1000 with 5 Axes>"
      ]
     },
     "metadata": {},
     "output_type": "display_data"
    },
    {
     "name": "stdout",
     "output_type": "stream",
     "text": [
      "=> conv2d(1, 5, 5, 1, 0) + relu\n",
      "torch.Size([42, 42])\n"
     ]
    },
    {
     "data": {
      "image/png": "[encoded data removed]",
      "text/plain": [
       "<Figure size 900x1000 with 3 Axes>"
      ]
     },
     "metadata": {},
     "output_type": "display_data"
    },
    {
     "name": "stdout",
     "output_type": "stream",
     "text": [
      "=> conv2d(5, 3, 5, 1, 0) + relu\n"
     ]
    }
   ],
   "source": [
    "# 첫 번째 Conv2D Layer 추출 피처맵\n",
    "def feature_plot(fmap):\n",
    "    plt.figure(figsize=(len(fmap)*3, 10))\n",
    "    for idx in range(fmap.shape[0]):\n",
    "        if idx == 0:\n",
    "            print(fmap[idx].shape)\n",
    "        plt.subplot(1, fmap.shape[0], idx+1)\n",
    "        plt.imshow(fmap[idx].detach().numpy(), cmap='gray')  # .detach() : gradient 계산 없는 tensor로 변환\n",
    "        plt.title(f'feature map {idx+1}')\n",
    "        plt.axis('off')\n",
    "    plt.show()\n",
    "\n",
    "feature_plot(output1)\n",
    "print('=> conv2d(1, 5, 5, 1, 0) + relu')\n",
    "feature_plot(output2)\n",
    "print('=> conv2d(5, 3, 5, 1, 0) + relu')"
   ]
  },
  {
   "cell_type": "code",
   "execution_count": null,
   "metadata": {},
   "outputs": [],
   "source": []
  }
 ],
 "metadata": {
  "kernelspec": {
   "display_name": "Torch_PY38",
   "language": "python",
   "name": "python3"
  },
  "language_info": {
   "codemirror_mode": {
    "name": "ipython",
    "version": 3
   },
   "file_extension": ".py",
   "mimetype": "text/x-python",
   "name": "python",
   "nbconvert_exporter": "python",
   "pygments_lexer": "ipython3",
   "version": "3.8.18"
  }
 },
 "nbformat": 4,
 "nbformat_minor": 2
}
