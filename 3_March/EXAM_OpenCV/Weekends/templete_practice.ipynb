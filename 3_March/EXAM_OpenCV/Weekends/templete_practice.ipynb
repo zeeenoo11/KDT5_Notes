{
 "cells": [
  {
   "cell_type": "code",
   "execution_count": null,
   "metadata": {},
   "outputs": [],
   "source": []
  },
  {
   "cell_type": "code",
   "execution_count": 2,
   "metadata": {},
   "outputs": [
    {
     "name": "stdout",
     "output_type": "stream",
     "text": [
      "(tensor([1.]), tensor(0))\n"
     ]
    },
    {
     "name": "stderr",
     "output_type": "stream",
     "text": [
      "C:\\Users\\wjs31\\AppData\\Local\\Temp\\ipykernel_17456\\443029677.py:18: UserWarning: To copy construct from a tensor, it is recommended to use sourceTensor.clone().detach() or sourceTensor.clone().detach().requires_grad_(True), rather than torch.tensor(sourceTensor).\n",
      "  self.x = torch.tensor(x, dtype=torch.float32)\n",
      "C:\\Users\\wjs31\\AppData\\Local\\Temp\\ipykernel_17456\\443029677.py:19: UserWarning: To copy construct from a tensor, it is recommended to use sourceTensor.clone().detach() or sourceTensor.clone().detach().requires_grad_(True), rather than torch.tensor(sourceTensor).\n",
      "  self.y = torch.tensor(y, dtype=torch.long)\n"
     ]
    }
   ],
   "source": [
    "import torch\n",
    "from torch.utils.data import DataLoader, Dataset\n",
    "import torch.nn as nn\n",
    "import torch.optim as optim\n",
    "\n",
    "DEBUG = True\n",
    "\n",
    "# 1. Data Load\n",
    "\n",
    "\n",
    "\n",
    "# 2. Dataset and Dataloader\n",
    "# 2-1. Dataset\n",
    "x_data = torch.tensor([[1.0], [2.0], [3.0], [4.0]], dtype=torch.float32)\n",
    "y_data = torch.tensor([0, 0, 1, 1], dtype=torch.long)\n",
    "\n",
    "class YourDataset(Dataset):\n",
    "    def __init__(self, x, y):\n",
    "        self.x = torch.tensor(x, dtype=torch.float32)\n",
    "        self.y = torch.tensor(y, dtype=torch.long)\n",
    "\n",
    "    def __len__(self):\n",
    "        return len(self.x)\n",
    "\n",
    "    def __getitem__(self, idx):\n",
    "        return self.x[idx], self.y[idx]\n",
    "\n",
    "dataset = YourDataset(x_data, y_data)\n",
    "if DEBUG:\n",
    "    print(dataset[0])\n"
   ]
  },
  {
   "cell_type": "code",
   "execution_count": null,
   "metadata": {},
   "outputs": [],
   "source": [
    "\n",
    "# 2-2. Dataloader\n",
    "Batchs = 32\n",
    "dataloader = DataLoader(dataset, batch_size=Batchs, shuffle=True, drop_last=True)\n",
    "# - drop_last: 마지막 배치가 batch_size보다 작을 때 버릴지 여부\n",
    "if DEBUG:\n",
    "    for x, y in dataloader:\n",
    "        print(x, y)\n",
    "        break\n",
    "\n",
    "\n",
    "# 3. Model\n",
    "class YourModel(nn.Module):\n",
    "    def __init__(self, IN, hidden, OUT):\n",
    "        super(YourModel, self).__init__()\n",
    "        self.in_layer = nn.Linear(IN, hidden[0])\n",
    "        self.hidden = nn.ModuleList(\n",
    "            [nn.Linear(hidden[i], hidden[i+1]) for i in range(len(hidden)-1)]\n",
    "            )\n",
    "        self.out_layer = nn.Linear(hidden[-1], OUT)\n",
    "        self.relu = nn.ReLU()\n",
    "        self.sigmoid = nn.Sigmoid()\n",
    "        self.softmax = nn.Softmax(dim=1)\n",
    "        \n",
    "\n",
    "    def forward(self, x):\n",
    "        y = self.relu(self.in_layer(x))\n",
    "        y = self.relu(self.hidden(y))\n",
    "        if OUT == 1:\n",
    "            y = self.sigmoid(self.out_layer(y))   # 이진분류\n",
    "        else:\n",
    "            y = self.softmax(self.out_layer(y))   # 다중분류\n",
    "        return y\n"
   ]
  },
  {
   "cell_type": "code",
   "execution_count": null,
   "metadata": {},
   "outputs": [],
   "source": [
    "\n",
    "len_x = len(x_data[0])\n",
    "IN, hidden, OUT = len_x, [64, 32, 16], 2\n",
    "model = YourModel(IN, hidden, OUT)\n"
   ]
  },
  {
   "cell_type": "code",
   "execution_count": null,
   "metadata": {},
   "outputs": [],
   "source": [
    "\n",
    "# 4. Training\n",
    "def train(model, dataloader):\n",
    "    \n",
    "    pass\n",
    "\n"
   ]
  },
  {
   "cell_type": "code",
   "execution_count": null,
   "metadata": {},
   "outputs": [],
   "source": [
    "\n",
    "# 5. Testing\n",
    "def test(model, dataloader):\n",
    "    # TODO: Implement your testing loop here\n",
    "    pass\n",
    "\n",
    "# TODO: Call the train and test functions with your model and dataloader\n"
   ]
  }
 ],
 "metadata": {
  "kernelspec": {
   "display_name": "Torch_PY38",
   "language": "python",
   "name": "python3"
  },
  "language_info": {
   "codemirror_mode": {
    "name": "ipython",
    "version": 3
   },
   "file_extension": ".py",
   "mimetype": "text/x-python",
   "name": "python",
   "nbconvert_exporter": "python",
   "pygments_lexer": "ipython3",
   "version": "3.8.18"
  }
 },
 "nbformat": 4,
 "nbformat_minor": 2
}
