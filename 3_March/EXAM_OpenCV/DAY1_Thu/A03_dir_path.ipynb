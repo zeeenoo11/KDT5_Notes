{
 "cells": [
  {
   "cell_type": "code",
   "execution_count": 1,
   "metadata": {},
   "outputs": [],
   "source": [
    "#### 폴더 및 파일 다루기"
   ]
  },
  {
   "cell_type": "code",
   "execution_count": 2,
   "metadata": {},
   "outputs": [],
   "source": [
    "# Load Module\n",
    "import os"
   ]
  },
  {
   "cell_type": "code",
   "execution_count": 25,
   "metadata": {},
   "outputs": [
    {
     "name": "stdout",
     "output_type": "stream",
     "text": [
      ".exists : 경로가 유효한가 - True\n",
      ".isdir : 폴더인가 - True\n",
      ".isfile : 파일인가 - False\n",
      "['t10k-images.idx3-ubyte', 't10k-labels.idx1-ubyte', 'train-images.idx3-ubyte', 'train-labels.idx1-ubyte']\n",
      ".listdir : 폴더 내 파일 목록\n",
      "t10k-images.idx3-ubyte True\n",
      "t10k-labels.idx1-ubyte True\n",
      "train-images.idx3-ubyte True\n",
      "train-labels.idx1-ubyte True\n"
     ]
    }
   ],
   "source": [
    "# 특정 폴더 내 모든 데이터 리스트 확인하기\n",
    "my_folder = '../DATA/MNIST/'\n",
    "\n",
    "# 해당 폴더 또는 파일이 존재하는지 검사 (True/False)\n",
    "print('.exists : 경로가 유효한가 -', os.path.exists(my_folder))\n",
    "\n",
    "# 해당 경로가 폴더인지 파일인지 확인하기\n",
    "print('.isdir : 폴더인가 -', os.path.isdir(my_folder))\n",
    "print('.isfile : 파일인가 -', os.path.isfile(my_folder))\n",
    "\n",
    "# 해당 경로의 파일 또는 폴더 목록 확인하기\n",
    "data_list = os.listdir(my_folder)\n",
    "print(data_list)    # list 형태 : 아래처럼 하나씩 출력하는 게 보기 좋다\n",
    "\n",
    "print('.listdir : 폴더 내 파일 목록')\n",
    "for data in data_list:\n",
    "    print(data, os.path.isfile(my_folder + data))    # 폴더 여부 확인\n"
   ]
  },
  {
   "cell_type": "code",
   "execution_count": 21,
   "metadata": {},
   "outputs": [
    {
     "name": "stdout",
     "output_type": "stream",
     "text": [
      "[0]  MNIST 폴더 내 목록 :\n",
      "   1. t10k-images.idx3-ubyte\n",
      "   2. t10k-labels.idx1-ubyte\n",
      "   3. train-images.idx3-ubyte\n",
      "   4. train-labels.idx1-ubyte\n",
      "[1]  t10k.csv\n",
      "[2]  text 폴더 내 목록 :\n",
      "   1. train.csv\n"
     ]
    }
   ],
   "source": [
    "# data 폴더 아래에 파일은 파일명만 출력, 폴더라면 폴더 아래 데이터 리스트 출력\n",
    "data_path = '../DATA/'\n",
    "data_list = os.listdir(data_path)\n",
    "for idx, data in enumerate(data_list):\n",
    "    if os.path.isdir(data_path + data):\n",
    "        print(f'[{idx}] ', data, '폴더 내 목록 :')\n",
    "        sub_data_list = os.listdir(data_path + data)\n",
    "        for idx, sub_data in enumerate(sub_data_list):\n",
    "            print(f'   {idx+1}.', sub_data)\n",
    "    else:\n",
    "        print(f'[{idx}] ', data)\n"
   ]
  },
  {
   "cell_type": "code",
   "execution_count": 15,
   "metadata": {},
   "outputs": [
    {
     "name": "stdout",
     "output_type": "stream",
     "text": [
      "폴더 : MNIST\n",
      "  t10k-images.idx3-ubyte\n",
      "  t10k-labels.idx1-ubyte\n",
      "  train-images.idx3-ubyte\n",
      "  train-labels.idx1-ubyte\n",
      "파일 : t10k.csv\n",
      "폴더 : text\n",
      "  train.csv\n"
     ]
    }
   ],
   "source": [
    "# 강사님 풀이\n",
    "datalist = os.listdir(data_path)\n",
    "\n",
    "for data_name in datalist:\n",
    "    if os.path.isdir(data_path + data_name):\n",
    "        print(f'폴더 : {data_name}')\n",
    "        sub_datalist = os.listdir(data_path + data_name)\n",
    "        for sub_data in sub_datalist:\n",
    "            print(f'  {sub_data}')\n",
    "    else:\n",
    "        print(f'파일 : {data_name}')"
   ]
  },
  {
   "cell_type": "code",
   "execution_count": 26,
   "metadata": {},
   "outputs": [
    {
     "name": "stdout",
     "output_type": "stream",
     "text": [
      "폴더 : MNIST\n",
      "폴더 : text\n",
      "  t10k.csv\n",
      "  train.csv\n"
     ]
    }
   ],
   "source": [
    "# 원하는 데이터 파일(확장자)만 가져오기\n",
    "data_list = os.listdir(data_path)\n",
    "for folder in data_list:\n",
    "    print(f'폴더 : {folder}')\n",
    "    if os.path.isdir(data_path + folder):\n",
    "        sub_data_list = os.listdir(data_path + folder)\n",
    "        for data in sub_data_list:\n",
    "            if data.endswith('.csv'):   \n",
    "            # .endswith 대신 .split('.')[-1] == 'csv'도 가능\n",
    "            # if data.split('.')[-1] == 'csv':\n",
    "            # if os.path.splitext(data)[-1] == '.csv':\n",
    "                print(f'  {data}')\n",
    "    else:\n",
    "        print(f'파일 : {folder}')\n"
   ]
  },
  {
   "cell_type": "code",
   "execution_count": 27,
   "metadata": {},
   "outputs": [],
   "source": [
    "import cv2"
   ]
  },
  {
   "cell_type": "code",
   "execution_count": 28,
   "metadata": {},
   "outputs": [
    {
     "name": "stdout",
     "output_type": "stream",
     "text": [
      "4.9.0\n"
     ]
    }
   ],
   "source": [
    "# Check version\n",
    "print(cv2.__version__)"
   ]
  },
  {
   "cell_type": "code",
   "execution_count": null,
   "metadata": {},
   "outputs": [],
   "source": []
  }
 ],
 "metadata": {
  "kernelspec": {
   "display_name": "Torch_PY38",
   "language": "python",
   "name": "python3"
  },
  "language_info": {
   "codemirror_mode": {
    "name": "ipython",
    "version": 3
   },
   "file_extension": ".py",
   "mimetype": "text/x-python",
   "name": "python",
   "nbconvert_exporter": "python",
   "pygments_lexer": "ipython3",
   "version": "3.8.18"
  }
 },
 "nbformat": 4,
 "nbformat_minor": 2
}
