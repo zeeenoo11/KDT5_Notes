{
 "cells": [
  {
   "cell_type": "code",
   "execution_count": null,
   "metadata": {},
   "outputs": [],
   "source": []
  },
  {
   "cell_type": "code",
   "execution_count": 1,
   "metadata": {},
   "outputs": [],
   "source": [
    "import numpy as np"
   ]
  },
  {
   "cell_type": "code",
   "execution_count": 23,
   "metadata": {},
   "outputs": [
    {
     "name": "stdout",
     "output_type": "stream",
     "text": [
      "1-1.\n",
      "[0. 0.]\n",
      "\n",
      "1-2.\n",
      "[1. 1. 1. 1. 1. 1. 1. 1. 1. 1.] [1 1 1 1 1 1 1 1 1 1]\n",
      "[[ True  True  True  True  True]\n",
      " [ True  True  True  True  True]]\n",
      "\n",
      "1-3.\n",
      "[[13  2 10  6  2]\n",
      " [11  9  4  6  6]]\n",
      "1-4.\n",
      "[[0.88453942 0.60320224 0.84452318 0.65646265 0.97351427]\n",
      " [0.81496859 0.17079719 0.58010088 0.33799674 0.70806874]]\n",
      "\n",
      "1-5.\n",
      "[[ 0.43652245  0.79544455  0.46450325 -0.49364655 -1.87913635]\n",
      " [ 0.73041199 -1.69194614 -1.51322706  1.24126754 -0.29948311]]\n",
      "\n",
      "1-6.\n",
      "[0 1 2 3 4 5 6 7 8 9]\n",
      "[1 3 5 4 2 8 6 9 0 7]\n",
      "\n",
      "1-7.\n",
      "[0.   0.25 0.5  0.75 1.  ]\n",
      "\n"
     ]
    }
   ],
   "source": [
    "# 1. Generate ndarray type data\n",
    "print('1-1.')\n",
    "# 1) filled with 0\n",
    "print(np.zeros(2))\n",
    "print()\n",
    "# 2) filled with 1\n",
    "print('1-2.')\n",
    "print(np.ones(10), np.ones(10, dtype=int))\n",
    "print(np.ones((2, 5), dtype=np.bool_))\n",
    "print()\n",
    "# 3) filled with a random number\n",
    "print('1-3.')\n",
    "print(np.random.randint(1, 15, (2, 5)))\n",
    "# 4) 0 <= x < 1\n",
    "print('1-4.')\n",
    "print(np.random.rand(2, 5))\n",
    "print()\n",
    "# 5) normal distribution\n",
    "print('1-5.')\n",
    "print(np.random.randn(2, 5))\n",
    "print()\n",
    "# 6) shuffle\n",
    "print('1-6.')\n",
    "a = np.arange(10)\n",
    "print(a)\n",
    "np.random.shuffle(a)    # shuffle in place : no return value\n",
    "print(a)\n",
    "print()\n",
    "# 7) linspace : start, end, number of elements\n",
    "print('1-7.')\n",
    "print(np.linspace(0, 1, 5))     # seperated equally\n",
    "print()"
   ]
  },
  {
   "cell_type": "code",
   "execution_count": 27,
   "metadata": {},
   "outputs": [
    {
     "name": "stdout",
     "output_type": "stream",
     "text": [
      "4.134586981198687\n",
      "0.41345869811986874\n",
      "0.6231585931655167\n",
      "None\n"
     ]
    }
   ],
   "source": [
    "data = np.random.rand(2, 5)\n",
    "print(data.sum())\n",
    "print(data.mean())\n",
    "print(data.max())\n",
    "print(data.base)    # .base : return the original data; if it's original, return None"
   ]
  },
  {
   "cell_type": "code",
   "execution_count": 30,
   "metadata": {},
   "outputs": [
    {
     "name": "stdout",
     "output_type": "stream",
     "text": [
      "1. 9\n",
      "2. 3\n",
      "3. [0.3191008  0.86453206 1.45981987 1.52759155 1.80629925 2.30465127\n",
      " 2.83933689 2.94590659 3.51142839 4.13458698]\n",
      "4. [3.19100804e-01 1.74047551e-01 1.03608386e-01 7.02171457e-03\n",
      " 1.95700592e-03 9.75277844e-04 5.21467044e-04 5.55725854e-05\n",
      " 3.14275084e-05 1.95843219e-05]\n",
      "5. 0.19499237757857987\n"
     ]
    }
   ],
   "source": [
    "print('1.', data.argmax())    # return the index of the maximum value\n",
    "print('2.', data.argmin())    # return the index of the minimum value\n",
    "print('3.', data.cumsum())    # return the cumulative sum\n",
    "print('4.', data.cumprod())    # return the cumulative product\n",
    "print('5.', data.std())    # return the standard deviation\n"
   ]
  },
  {
   "cell_type": "code",
   "execution_count": 37,
   "metadata": {},
   "outputs": [
    {
     "name": "stdout",
     "output_type": "stream",
     "text": [
      "[[0.3191008  0.54543125 0.59528782 0.06777168 0.2787077 ]\n",
      " [0.49835201 0.53468563 0.1065697  0.5655218  0.62315859]]\n",
      "(40, 8)\n",
      "True\n",
      "False\n"
     ]
    }
   ],
   "source": [
    "# strides : 메모리 이동 단위 (dim 간의 간격 / 요소 간의 간격)\n",
    "print(data)\n",
    "print(data.strides)   # (40, 8) : 40 bytes for row, 8 bytes for column\n",
    "# 데이터는 (2,5)인데 40인 이유 : 8바이트 * 5개 = 40바이트; 8바이트는 double형의 크기\n",
    "print()\n",
    "\n",
    "# order : 열 우선 저장 (C) / 행 우선 저장 (F)\n",
    "print(data.flags.c_contiguous)  # True: 열 우선 저장이란 뜻\n",
    "print(data.flags.f_contiguous)  # False: 행 우선 저장이란 뜻"
   ]
  },
  {
   "cell_type": "code",
   "execution_count": 40,
   "metadata": {},
   "outputs": [
    {
     "name": "stdout",
     "output_type": "stream",
     "text": [
      "Copy=True : [[ 5  8 12 10  1]\n",
      " [ 2 11  4  8  9]]\n",
      "Copy=False : [[ 5  8 12 10  1]\n",
      " [ 2 11  4  8  9]]\n",
      "\n",
      "Order=C : [[ 5  8 12 10  1]\n",
      " [ 2 11  4  8  9]]\n",
      "Order=F : [[ 5  8 12 10  1]\n",
      " [ 2 11  4  8  9]]\n",
      "Order=K : [[ 5  8 12 10  1]\n",
      " [ 2 11  4  8  9]]\n",
      "\n",
      "Subok=True : [[ 5  8 12 10  1]\n",
      " [ 2 11  4  8  9]]\n",
      "Subok=False : [[ 5  8 12 10  1]\n",
      " [ 2 11  4  8  9]]\n",
      "\n",
      "Ndmin=0 : [[ 5  8 12 10  1]\n",
      " [ 2 11  4  8  9]]\n",
      "Ndmin=2 : [[ 5  8 12 10  1]\n",
      " [ 2 11  4  8  9]]\n",
      "\n",
      "Like=object : [[ 5  8 12 10  1]\n",
      " [ 2 11  4  8  9]]\n",
      "Like=data : [[ 5  8 12 10  1]\n",
      " [ 2 11  4  8  9]]\n",
      "\n"
     ]
    }
   ],
   "source": [
    "# 객체 생성 매개변수 분석\n",
    "object = np.random.randint(1, 15, (2, 5))\n",
    "np.array(object, dtype=None, copy=True, order='C', subok=False, ndmin=0, like=None)\n",
    "# dtype : 데이터 타입 지정; None일 경우 자동으로 결정\n",
    "# copy : 복사 여부; True일 경우 복사본 생성\n",
    "print('Copy=True :', np.array(object, copy=True))\n",
    "print('Copy=False :', np.array(object, copy=False))\n",
    "print()\n",
    "# order : 저장 순서 (C / F); K : like에 의해 결정\n",
    "print('Order=C :', np.array(object, order='C'))\n",
    "print('Order=F :', np.array(object, order='F'))\n",
    "print('Order=K :', np.array(object, order='K'))\n",
    "print()\n",
    "# subok : 하위 클래스 생성 여부\n",
    "print('Subok=True :', np.array(object, subok=True))\n",
    "print('Subok=False :', np.array(object, subok=False))\n",
    "print()\n",
    "# ndmin : 최소 차원; 0일 경우 최소 차원으로 생성, 2일 경우 2차원으로 생성\n",
    "print('Ndmin=0 :', np.array(object, ndmin=0))\n",
    "print('Ndmin=2 :', np.array(object, ndmin=2))\n",
    "print()\n",
    "# like : 생성할 배열과 같은 속성을 가진 배열 생성\n",
    "print('Like=object :', np.array(object, like=object))\n",
    "print('Like=data :', np.array(object, like=data))\n",
    "print()"
   ]
  },
  {
   "cell_type": "code",
   "execution_count": null,
   "metadata": {},
   "outputs": [],
   "source": []
  }
 ],
 "metadata": {
  "kernelspec": {
   "display_name": "Torch_PY38",
   "language": "python",
   "name": "python3"
  },
  "language_info": {
   "codemirror_mode": {
    "name": "ipython",
    "version": 3
   },
   "file_extension": ".py",
   "mimetype": "text/x-python",
   "name": "python",
   "nbconvert_exporter": "python",
   "pygments_lexer": "ipython3",
   "version": "3.8.18"
  }
 },
 "nbformat": 4,
 "nbformat_minor": 2
}
