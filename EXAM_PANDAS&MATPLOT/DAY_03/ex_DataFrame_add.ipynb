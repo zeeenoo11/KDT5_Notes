{
 "nbformat": 4,
 "nbformat_minor": 0,
 "metadata": {
  "colab": {
   "provenance": []
  },
  "kernelspec": {
   "name": "python3",
   "language": "python",
   "display_name": "Python 3 (ipykernel)"
  },
  "language_info": {
   "name": "python"
  }
 },
 "cells": [
  {
   "cell_type": "markdown",
   "source": [
    "# DataFrame 행/열 추가"
   ],
   "metadata": {
    "id": "KBC5qJXtHAm4"
   }
  },
  {
   "cell_type": "markdown",
   "source": [
    "### (1~3) 준비하기 ----------------------"
   ],
   "metadata": {
    "id": "Y3O-MWJP-bUL"
   }
  },
  {
   "cell_type": "code",
   "source": [
    "# 1. 모듈 로딩\n",
    "import pandas as pd\n",
    "\n",
    "# 2. 데이터 준비 : dict 타입의 데이터 생성\n",
    "exam = {'이름' :['갓기','현길', '시명', '주영'],\n",
    "        '국어' : [60, 70, 100, 90],\n",
    "        '미술' : [80, 20, 40, 80],\n",
    "        '수학' : [90, 100, 90, 60],\n",
    "        '체육' : [0, 30, 70, 50]}\n",
    "\n",
    "# 3. DataFrame에 데이터 저장\n",
    "examDF=pd.DataFrame(exam)\n",
    "examDF"
   ],
   "metadata": {
    "colab": {
     "base_uri": "https://localhost:8080/",
     "height": 175
    },
    "id": "kmK4Ws5UHZ-k",
    "outputId": "06c1099a-9170-4760-abfe-ff2d3660aef7",
    "ExecuteTime": {
     "end_time": "2024-02-01T12:25:17.101792400Z",
     "start_time": "2024-02-01T12:25:15.629563100Z"
    }
   },
   "execution_count": 1,
   "outputs": [
    {
     "data": {
      "text/plain": "   이름   국어  미술   수학  체육\n0  갓기   60  80   90   0\n1  현길   70  20  100  30\n2  시명  100  40   90  70\n3  주영   90  80   60  50",
      "text/html": "<div>\n<style scoped>\n    .dataframe tbody tr th:only-of-type {\n        vertical-align: middle;\n    }\n\n    .dataframe tbody tr th {\n        vertical-align: top;\n    }\n\n    .dataframe thead th {\n        text-align: right;\n    }\n</style>\n<table border=\"1\" class=\"dataframe\">\n  <thead>\n    <tr style=\"text-align: right;\">\n      <th></th>\n      <th>이름</th>\n      <th>국어</th>\n      <th>미술</th>\n      <th>수학</th>\n      <th>체육</th>\n    </tr>\n  </thead>\n  <tbody>\n    <tr>\n      <th>0</th>\n      <td>갓기</td>\n      <td>60</td>\n      <td>80</td>\n      <td>90</td>\n      <td>0</td>\n    </tr>\n    <tr>\n      <th>1</th>\n      <td>현길</td>\n      <td>70</td>\n      <td>20</td>\n      <td>100</td>\n      <td>30</td>\n    </tr>\n    <tr>\n      <th>2</th>\n      <td>시명</td>\n      <td>100</td>\n      <td>40</td>\n      <td>90</td>\n      <td>70</td>\n    </tr>\n    <tr>\n      <th>3</th>\n      <td>주영</td>\n      <td>90</td>\n      <td>80</td>\n      <td>60</td>\n      <td>50</td>\n    </tr>\n  </tbody>\n</table>\n</div>"
     },
     "execution_count": 1,
     "metadata": {},
     "output_type": "execute_result"
    }
   ]
  },
  {
   "cell_type": "markdown",
   "source": [
    "### (4) 저장된 데이터 속성 확인 ; 함수로 만들어버리기\n",
    "---"
   ],
   "metadata": {
    "id": "SSI-8ldvInUE"
   }
  },
  {
   "cell_type": "code",
   "source": [
    "def printattribute(df, df_name):\n",
    "  print('-----',df_name,'Attribute','-----')\n",
    "  print(f'index \\n{examDF.index}\\n')\n",
    "  print(f'columns \\n{examDF.columns}\\n')\n",
    "  print(f'shape \\n{examDF.shape}\\n')\n",
    "  print(f'ndim \\n{examDF.ndim}\\n')\n",
    "  print(f'dtypes \\n{examDF.dtypes}\\n')"
   ],
   "metadata": {
    "id": "V9wZvNteIfy5",
    "ExecuteTime": {
     "end_time": "2024-02-01T12:25:17.113074Z",
     "start_time": "2024-02-01T12:25:17.098791100Z"
    }
   },
   "execution_count": 2,
   "outputs": []
  },
  {
   "cell_type": "code",
   "source": [
    "printattribute(examDF, 'examDF')"
   ],
   "metadata": {
    "colab": {
     "base_uri": "https://localhost:8080/"
    },
    "id": "TieMnDrlIxMK",
    "outputId": "83492c57-a022-47e0-eda3-296b7e5410bc",
    "ExecuteTime": {
     "end_time": "2024-02-01T12:25:17.143572500Z",
     "start_time": "2024-02-01T12:25:17.105790900Z"
    }
   },
   "execution_count": 3,
   "outputs": [
    {
     "name": "stdout",
     "output_type": "stream",
     "text": [
      "----- examDF Attribute -----\n",
      "index \n",
      "RangeIndex(start=0, stop=4, step=1)\n",
      "\n",
      "columns \n",
      "Index(['이름', '국어', '미술', '수학', '체육'], dtype='object')\n",
      "\n",
      "shape \n",
      "(4, 5)\n",
      "\n",
      "ndim \n",
      "2\n",
      "\n",
      "dtypes \n",
      "이름    object\n",
      "국어     int64\n",
      "미술     int64\n",
      "수학     int64\n",
      "체육     int64\n",
      "dtype: object\n"
     ]
    }
   ]
  },
  {
   "cell_type": "markdown",
   "source": [
    "### (5) DataFrame에 컬럼(Column) 추가"
   ],
   "metadata": {
    "id": "QDSwp0bUKBAI"
   }
  },
  {
   "cell_type": "code",
   "source": [
    "examDF.columns"
   ],
   "metadata": {
    "colab": {
     "base_uri": "https://localhost:8080/"
    },
    "id": "4Ktsg10-OF1M",
    "outputId": "18dff18e-1839-4abf-d43c-1d6d85698847",
    "ExecuteTime": {
     "end_time": "2024-02-01T12:25:17.259492100Z",
     "start_time": "2024-02-01T12:25:17.118074200Z"
    }
   },
   "execution_count": 4,
   "outputs": [
    {
     "data": {
      "text/plain": "Index(['이름', '국어', '미술', '수학', '체육'], dtype='object')"
     },
     "execution_count": 4,
     "metadata": {},
     "output_type": "execute_result"
    }
   ]
  },
  {
   "cell_type": "code",
   "source": [
    "# 5-1. 행 수 만큼 값을 추가\n",
    "examDF['영어'] = [90, 80, 70, 80]\n",
    "examDF"
   ],
   "metadata": {
    "colab": {
     "base_uri": "https://localhost:8080/",
     "height": 175
    },
    "id": "wgbnkzAqOk4x",
    "outputId": "16c1fc58-090a-4035-9584-ab18754b589e",
    "ExecuteTime": {
     "end_time": "2024-02-01T12:25:17.293489700Z",
     "start_time": "2024-02-01T12:25:17.133513800Z"
    }
   },
   "execution_count": 5,
   "outputs": [
    {
     "data": {
      "text/plain": "   이름   국어  미술   수학  체육  영어\n0  갓기   60  80   90   0  90\n1  현길   70  20  100  30  80\n2  시명  100  40   90  70  70\n3  주영   90  80   60  50  80",
      "text/html": "<div>\n<style scoped>\n    .dataframe tbody tr th:only-of-type {\n        vertical-align: middle;\n    }\n\n    .dataframe tbody tr th {\n        vertical-align: top;\n    }\n\n    .dataframe thead th {\n        text-align: right;\n    }\n</style>\n<table border=\"1\" class=\"dataframe\">\n  <thead>\n    <tr style=\"text-align: right;\">\n      <th></th>\n      <th>이름</th>\n      <th>국어</th>\n      <th>미술</th>\n      <th>수학</th>\n      <th>체육</th>\n      <th>영어</th>\n    </tr>\n  </thead>\n  <tbody>\n    <tr>\n      <th>0</th>\n      <td>갓기</td>\n      <td>60</td>\n      <td>80</td>\n      <td>90</td>\n      <td>0</td>\n      <td>90</td>\n    </tr>\n    <tr>\n      <th>1</th>\n      <td>현길</td>\n      <td>70</td>\n      <td>20</td>\n      <td>100</td>\n      <td>30</td>\n      <td>80</td>\n    </tr>\n    <tr>\n      <th>2</th>\n      <td>시명</td>\n      <td>100</td>\n      <td>40</td>\n      <td>90</td>\n      <td>70</td>\n      <td>70</td>\n    </tr>\n    <tr>\n      <th>3</th>\n      <td>주영</td>\n      <td>90</td>\n      <td>80</td>\n      <td>60</td>\n      <td>50</td>\n      <td>80</td>\n    </tr>\n  </tbody>\n</table>\n</div>"
     },
     "execution_count": 5,
     "metadata": {},
     "output_type": "execute_result"
    }
   ]
  },
  {
   "cell_type": "code",
   "source": [
    "# 5-2. 1개의 데이터 즉 값추가 시 모든 행에 동일한 값으로 저장\n",
    "examDF['과학'] = 50\n",
    "# examDF['과학'] = [ 10, 20 ] # 리스트로는 길이가 안 맞아 오류\n",
    "examDF"
   ],
   "metadata": {
    "colab": {
     "base_uri": "https://localhost:8080/",
     "height": 175
    },
    "id": "vhDjfrNhOt66",
    "outputId": "18e95ae3-919d-43ee-c5d4-09df901d3f2a",
    "ExecuteTime": {
     "end_time": "2024-02-01T12:25:17.331049800Z",
     "start_time": "2024-02-01T12:25:17.141572600Z"
    }
   },
   "execution_count": 6,
   "outputs": [
    {
     "data": {
      "text/plain": "   이름   국어  미술   수학  체육  영어  과학\n0  갓기   60  80   90   0  90  50\n1  현길   70  20  100  30  80  50\n2  시명  100  40   90  70  70  50\n3  주영   90  80   60  50  80  50",
      "text/html": "<div>\n<style scoped>\n    .dataframe tbody tr th:only-of-type {\n        vertical-align: middle;\n    }\n\n    .dataframe tbody tr th {\n        vertical-align: top;\n    }\n\n    .dataframe thead th {\n        text-align: right;\n    }\n</style>\n<table border=\"1\" class=\"dataframe\">\n  <thead>\n    <tr style=\"text-align: right;\">\n      <th></th>\n      <th>이름</th>\n      <th>국어</th>\n      <th>미술</th>\n      <th>수학</th>\n      <th>체육</th>\n      <th>영어</th>\n      <th>과학</th>\n    </tr>\n  </thead>\n  <tbody>\n    <tr>\n      <th>0</th>\n      <td>갓기</td>\n      <td>60</td>\n      <td>80</td>\n      <td>90</td>\n      <td>0</td>\n      <td>90</td>\n      <td>50</td>\n    </tr>\n    <tr>\n      <th>1</th>\n      <td>현길</td>\n      <td>70</td>\n      <td>20</td>\n      <td>100</td>\n      <td>30</td>\n      <td>80</td>\n      <td>50</td>\n    </tr>\n    <tr>\n      <th>2</th>\n      <td>시명</td>\n      <td>100</td>\n      <td>40</td>\n      <td>90</td>\n      <td>70</td>\n      <td>70</td>\n      <td>50</td>\n    </tr>\n    <tr>\n      <th>3</th>\n      <td>주영</td>\n      <td>90</td>\n      <td>80</td>\n      <td>60</td>\n      <td>50</td>\n      <td>80</td>\n      <td>50</td>\n    </tr>\n  </tbody>\n</table>\n</div>"
     },
     "execution_count": 6,
     "metadata": {},
     "output_type": "execute_result"
    }
   ]
  },
  {
   "cell_type": "code",
   "source": [
    "# 5-3. 숫자로 열 입력\n",
    "examDF[77] = 0    # 열을 숫자로 지정할 수 있다\n",
    "examDF"
   ],
   "metadata": {
    "colab": {
     "base_uri": "https://localhost:8080/",
     "height": 175
    },
    "id": "WF--w1QdPDdj",
    "outputId": "eb117d59-1e0b-4fa5-f518-0213cc22982a",
    "ExecuteTime": {
     "end_time": "2024-02-01T12:25:17.367049200Z",
     "start_time": "2024-02-01T12:25:17.157984Z"
    }
   },
   "execution_count": 7,
   "outputs": [
    {
     "data": {
      "text/plain": "   이름   국어  미술   수학  체육  영어  과학  77\n0  갓기   60  80   90   0  90  50   0\n1  현길   70  20  100  30  80  50   0\n2  시명  100  40   90  70  70  50   0\n3  주영   90  80   60  50  80  50   0",
      "text/html": "<div>\n<style scoped>\n    .dataframe tbody tr th:only-of-type {\n        vertical-align: middle;\n    }\n\n    .dataframe tbody tr th {\n        vertical-align: top;\n    }\n\n    .dataframe thead th {\n        text-align: right;\n    }\n</style>\n<table border=\"1\" class=\"dataframe\">\n  <thead>\n    <tr style=\"text-align: right;\">\n      <th></th>\n      <th>이름</th>\n      <th>국어</th>\n      <th>미술</th>\n      <th>수학</th>\n      <th>체육</th>\n      <th>영어</th>\n      <th>과학</th>\n      <th>77</th>\n    </tr>\n  </thead>\n  <tbody>\n    <tr>\n      <th>0</th>\n      <td>갓기</td>\n      <td>60</td>\n      <td>80</td>\n      <td>90</td>\n      <td>0</td>\n      <td>90</td>\n      <td>50</td>\n      <td>0</td>\n    </tr>\n    <tr>\n      <th>1</th>\n      <td>현길</td>\n      <td>70</td>\n      <td>20</td>\n      <td>100</td>\n      <td>30</td>\n      <td>80</td>\n      <td>50</td>\n      <td>0</td>\n    </tr>\n    <tr>\n      <th>2</th>\n      <td>시명</td>\n      <td>100</td>\n      <td>40</td>\n      <td>90</td>\n      <td>70</td>\n      <td>70</td>\n      <td>50</td>\n      <td>0</td>\n    </tr>\n    <tr>\n      <th>3</th>\n      <td>주영</td>\n      <td>90</td>\n      <td>80</td>\n      <td>60</td>\n      <td>50</td>\n      <td>80</td>\n      <td>50</td>\n      <td>0</td>\n    </tr>\n  </tbody>\n</table>\n</div>"
     },
     "execution_count": 7,
     "metadata": {},
     "output_type": "execute_result"
    }
   ]
  },
  {
   "cell_type": "markdown",
   "source": [
    "### (6) DataFrame에 행(row) 추가  \n",
    "- 방법 : DF객체변수명.loc[새로운 행 인덱스] = [컬럼 수 만큼의 데이터]\n",
    "- 방법2 : DF객체변수명.loc[새로운 행 인덱스] = 데이터\n",
    "\n",
    "- 불가(iloc) : DF객체변수명.iloc[새로운 행 인덱스] = 데이터\n",
    "  => 인덱스 할당(iloc)은 데이터가 존재해야함"
   ],
   "metadata": {
    "id": "u078aqxRQJcF"
   }
  },
  {
   "cell_type": "code",
   "source": [
    "examDF.index"
   ],
   "metadata": {
    "colab": {
     "base_uri": "https://localhost:8080/"
    },
    "id": "oeMNMRhNQ9Df",
    "outputId": "dc35daec-57d8-4ba9-c475-1747913c29e3",
    "ExecuteTime": {
     "end_time": "2024-02-01T12:25:17.982953900Z",
     "start_time": "2024-02-01T12:25:17.174901700Z"
    }
   },
   "execution_count": 8,
   "outputs": [
    {
     "data": {
      "text/plain": "RangeIndex(start=0, stop=4, step=1)"
     },
     "execution_count": 8,
     "metadata": {},
     "output_type": "execute_result"
    }
   ]
  },
  {
   "cell_type": "code",
   "source": [
    "# 방법1 : 컬럼 수 만큼의 데이터를 가진 행 추가\n",
    "examDF.loc[4] = ['동현',90, 80,99,87,67,80,100]\n",
    "examDF"
   ],
   "metadata": {
    "colab": {
     "base_uri": "https://localhost:8080/",
     "height": 206
    },
    "id": "9-WZkiOMQ_e1",
    "outputId": "4a65e101-a92e-43c8-deba-16cb97d12902",
    "ExecuteTime": {
     "end_time": "2024-02-01T12:25:18.034479700Z",
     "start_time": "2024-02-01T12:25:17.185367800Z"
    }
   },
   "execution_count": 9,
   "outputs": [
    {
     "data": {
      "text/plain": "   이름   국어  미술   수학  체육  영어  과학   77\n0  갓기   60  80   90   0  90  50    0\n1  현길   70  20  100  30  80  50    0\n2  시명  100  40   90  70  70  50    0\n3  주영   90  80   60  50  80  50    0\n4  동현   90  80   99  87  67  80  100",
      "text/html": "<div>\n<style scoped>\n    .dataframe tbody tr th:only-of-type {\n        vertical-align: middle;\n    }\n\n    .dataframe tbody tr th {\n        vertical-align: top;\n    }\n\n    .dataframe thead th {\n        text-align: right;\n    }\n</style>\n<table border=\"1\" class=\"dataframe\">\n  <thead>\n    <tr style=\"text-align: right;\">\n      <th></th>\n      <th>이름</th>\n      <th>국어</th>\n      <th>미술</th>\n      <th>수학</th>\n      <th>체육</th>\n      <th>영어</th>\n      <th>과학</th>\n      <th>77</th>\n    </tr>\n  </thead>\n  <tbody>\n    <tr>\n      <th>0</th>\n      <td>갓기</td>\n      <td>60</td>\n      <td>80</td>\n      <td>90</td>\n      <td>0</td>\n      <td>90</td>\n      <td>50</td>\n      <td>0</td>\n    </tr>\n    <tr>\n      <th>1</th>\n      <td>현길</td>\n      <td>70</td>\n      <td>20</td>\n      <td>100</td>\n      <td>30</td>\n      <td>80</td>\n      <td>50</td>\n      <td>0</td>\n    </tr>\n    <tr>\n      <th>2</th>\n      <td>시명</td>\n      <td>100</td>\n      <td>40</td>\n      <td>90</td>\n      <td>70</td>\n      <td>70</td>\n      <td>50</td>\n      <td>0</td>\n    </tr>\n    <tr>\n      <th>3</th>\n      <td>주영</td>\n      <td>90</td>\n      <td>80</td>\n      <td>60</td>\n      <td>50</td>\n      <td>80</td>\n      <td>50</td>\n      <td>0</td>\n    </tr>\n    <tr>\n      <th>4</th>\n      <td>동현</td>\n      <td>90</td>\n      <td>80</td>\n      <td>99</td>\n      <td>87</td>\n      <td>67</td>\n      <td>80</td>\n      <td>100</td>\n    </tr>\n  </tbody>\n</table>\n</div>"
     },
     "execution_count": 9,
     "metadata": {},
     "output_type": "execute_result"
    }
   ]
  },
  {
   "cell_type": "code",
   "source": [
    "# 방법 2 : 1개 데이터를 가진 행을 추가\n",
    "examDF.loc[5] = 0   # 이름까지도 0으로 입력\n",
    "examDF"
   ],
   "metadata": {
    "colab": {
     "base_uri": "https://localhost:8080/",
     "height": 238
    },
    "id": "XAqbfsJgSLMr",
    "outputId": "3491fd0d-6660-41bf-b3eb-678a4789b09e",
    "ExecuteTime": {
     "end_time": "2024-02-01T12:25:18.075478800Z",
     "start_time": "2024-02-01T12:25:17.215640400Z"
    }
   },
   "execution_count": 10,
   "outputs": [
    {
     "data": {
      "text/plain": "   이름   국어  미술   수학  체육  영어  과학   77\n0  갓기   60  80   90   0  90  50    0\n1  현길   70  20  100  30  80  50    0\n2  시명  100  40   90  70  70  50    0\n3  주영   90  80   60  50  80  50    0\n4  동현   90  80   99  87  67  80  100\n5   0    0   0    0   0   0   0    0",
      "text/html": "<div>\n<style scoped>\n    .dataframe tbody tr th:only-of-type {\n        vertical-align: middle;\n    }\n\n    .dataframe tbody tr th {\n        vertical-align: top;\n    }\n\n    .dataframe thead th {\n        text-align: right;\n    }\n</style>\n<table border=\"1\" class=\"dataframe\">\n  <thead>\n    <tr style=\"text-align: right;\">\n      <th></th>\n      <th>이름</th>\n      <th>국어</th>\n      <th>미술</th>\n      <th>수학</th>\n      <th>체육</th>\n      <th>영어</th>\n      <th>과학</th>\n      <th>77</th>\n    </tr>\n  </thead>\n  <tbody>\n    <tr>\n      <th>0</th>\n      <td>갓기</td>\n      <td>60</td>\n      <td>80</td>\n      <td>90</td>\n      <td>0</td>\n      <td>90</td>\n      <td>50</td>\n      <td>0</td>\n    </tr>\n    <tr>\n      <th>1</th>\n      <td>현길</td>\n      <td>70</td>\n      <td>20</td>\n      <td>100</td>\n      <td>30</td>\n      <td>80</td>\n      <td>50</td>\n      <td>0</td>\n    </tr>\n    <tr>\n      <th>2</th>\n      <td>시명</td>\n      <td>100</td>\n      <td>40</td>\n      <td>90</td>\n      <td>70</td>\n      <td>70</td>\n      <td>50</td>\n      <td>0</td>\n    </tr>\n    <tr>\n      <th>3</th>\n      <td>주영</td>\n      <td>90</td>\n      <td>80</td>\n      <td>60</td>\n      <td>50</td>\n      <td>80</td>\n      <td>50</td>\n      <td>0</td>\n    </tr>\n    <tr>\n      <th>4</th>\n      <td>동현</td>\n      <td>90</td>\n      <td>80</td>\n      <td>99</td>\n      <td>87</td>\n      <td>67</td>\n      <td>80</td>\n      <td>100</td>\n    </tr>\n    <tr>\n      <th>5</th>\n      <td>0</td>\n      <td>0</td>\n      <td>0</td>\n      <td>0</td>\n      <td>0</td>\n      <td>0</td>\n      <td>0</td>\n      <td>0</td>\n    </tr>\n  </tbody>\n</table>\n</div>"
     },
     "execution_count": 10,
     "metadata": {},
     "output_type": "execute_result"
    }
   ]
  },
  {
   "cell_type": "code",
   "source": [
    "# 불가 (iloc) : 행 추가엔 iloc 불가; 현재 인덱스에 없는 범위는 불가\n",
    "examDF.index[5] = ['iloc안됨',9,9,9,9,9,9,9]   # TypeError"
   ],
   "metadata": {
    "id": "jd2iE_R_RhlD",
    "ExecuteTime": {
     "end_time": "2024-02-01T12:25:19.580961300Z",
     "start_time": "2024-02-01T12:25:17.223963700Z"
    }
   },
   "execution_count": 11,
   "outputs": [
    {
     "ename": "TypeError",
     "evalue": "Index does not support mutable operations",
     "output_type": "error",
     "traceback": [
      "\u001B[1;31m---------------------------------------------------------------------------\u001B[0m",
      "\u001B[1;31mTypeError\u001B[0m                                 Traceback (most recent call last)",
      "Cell \u001B[1;32mIn[11], line 2\u001B[0m\n\u001B[0;32m      1\u001B[0m \u001B[38;5;66;03m# 불가 (iloc) : 행 추가엔 iloc 불가; 현재 인덱스에 없는 범위는 불가\u001B[39;00m\n\u001B[1;32m----> 2\u001B[0m examDF\u001B[38;5;241m.\u001B[39mindex[\u001B[38;5;241m5\u001B[39m] \u001B[38;5;241m=\u001B[39m [\u001B[38;5;124m'\u001B[39m\u001B[38;5;124miloc안됨\u001B[39m\u001B[38;5;124m'\u001B[39m,\u001B[38;5;241m9\u001B[39m,\u001B[38;5;241m9\u001B[39m,\u001B[38;5;241m9\u001B[39m,\u001B[38;5;241m9\u001B[39m,\u001B[38;5;241m9\u001B[39m,\u001B[38;5;241m9\u001B[39m,\u001B[38;5;241m9\u001B[39m]\n",
      "File \u001B[1;32mC:\\ProgramData\\anaconda3\\Lib\\site-packages\\pandas\\core\\indexes\\base.py:5157\u001B[0m, in \u001B[0;36mIndex.__setitem__\u001B[1;34m(self, key, value)\u001B[0m\n\u001B[0;32m   5155\u001B[0m \u001B[38;5;129m@final\u001B[39m\n\u001B[0;32m   5156\u001B[0m \u001B[38;5;28;01mdef\u001B[39;00m \u001B[38;5;21m__setitem__\u001B[39m(\u001B[38;5;28mself\u001B[39m, key, value):\n\u001B[1;32m-> 5157\u001B[0m     \u001B[38;5;28;01mraise\u001B[39;00m \u001B[38;5;167;01mTypeError\u001B[39;00m(\u001B[38;5;124m\"\u001B[39m\u001B[38;5;124mIndex does not support mutable operations\u001B[39m\u001B[38;5;124m\"\u001B[39m)\n",
      "\u001B[1;31mTypeError\u001B[0m: Index does not support mutable operations"
     ]
    }
   ]
  },
  {
   "cell_type": "code",
   "source": [],
   "metadata": {
    "id": "beDXWGQHS0EP",
    "ExecuteTime": {
     "start_time": "2024-02-01T12:25:18.897965700Z"
    }
   },
   "execution_count": null,
   "outputs": []
  }
 ]
}
