{
 "cells": [
  {
   "cell_type": "markdown",
   "id": "822d2d97-2d5d-48c0-ab98-eec64ec387bc",
   "metadata": {},
   "source": [
    "# [Series 객체 원소 인덱싱 & 슬라이싱]\n",
    "### (1) 모듈 로딩 -------------------"
   ]
  },
  {
   "cell_type": "code",
   "execution_count": 1,
   "id": "e8573d67-7bc0-42fe-9ac2-e3e39b5f9ed6",
   "metadata": {},
   "outputs": [],
   "source": [
    "from pandas import Series"
   ]
  },
  {
   "cell_type": "markdown",
   "id": "89b559aa-b285-40c4-b5ee-85ec837a5572",
   "metadata": {},
   "source": [
    "### (2) 데이터 준비 ---------------------"
   ]
  },
  {
   "cell_type": "code",
   "execution_count": 4,
   "id": "da9e37f2-71eb-4fd3-b5be-2e7d8a8aebfa",
   "metadata": {},
   "outputs": [],
   "source": [
    "datas = {'name':'홍길동', 'age':12, 'job':'도적'}"
   ]
  },
  {
   "cell_type": "markdown",
   "id": "c8ec58d6-6224-448e-abf7-dbf4266ce836",
   "metadata": {},
   "source": [
    "### (3) Series 객체 생성 ---------------------"
   ]
  },
  {
   "cell_type": "code",
   "execution_count": 6,
   "id": "0cdee1c9-476f-4b1a-b920-ea78d79107ab",
   "metadata": {},
   "outputs": [
    {
     "data": {
      "text/plain": [
       "name    홍길동\n",
       "age      12\n",
       "job      도적\n",
       "dtype: object"
      ]
     },
     "execution_count": 6,
     "metadata": {},
     "output_type": "execute_result"
    }
   ],
   "source": [
    "sr1 = Series(datas)\n",
    "sr1"
   ]
  },
  {
   "cell_type": "markdown",
   "id": "57c7b003-0839-424b-951f-e2f40deab281",
   "metadata": {},
   "source": [
    "### (4) 인덱싱으로 원소 읽기 --------------------"
   ]
  },
  {
   "cell_type": "code",
   "execution_count": 10,
   "id": "094e3e27-6c81-4175-8ad9-79fa5793b914",
   "metadata": {},
   "outputs": [
    {
     "data": {
      "text/plain": [
       "(12, 12, Index(['name', 'age', 'job'], dtype='object'))"
      ]
     },
     "execution_count": 10,
     "metadata": {},
     "output_type": "execute_result"
    }
   ],
   "source": [
    "# 한 개의 원소 읽기\n",
    "sr1['age'], sr1[1], sr1.index"
   ]
  },
  {
   "cell_type": "code",
   "execution_count": 11,
   "id": "1cf82996-34cb-409c-9439-62509f0c7257",
   "metadata": {},
   "outputs": [
    {
     "data": {
      "text/plain": [
       "('홍길동', '도적', '홍길동', '도적')"
      ]
     },
     "execution_count": 11,
     "metadata": {},
     "output_type": "execute_result"
    }
   ],
   "source": [
    "# 이름과 직업 데이터 읽기\n",
    "sr1['name'], sr1['job'], sr1[0], sr1[2]"
   ]
  },
  {
   "cell_type": "code",
   "execution_count": 12,
   "id": "d86350cf-eb50-405c-8ae5-095d560abcbb",
   "metadata": {},
   "outputs": [],
   "source": [
    "# 슬라이싱 결과의 타입\n",
    "a=[1,2,3]    # list\n",
    "b=(11,22,33) # tuple"
   ]
  },
  {
   "cell_type": "code",
   "execution_count": 23,
   "id": "7a0cbef4-603a-4d4a-88fe-51d1f35ec6a4",
   "metadata": {},
   "outputs": [
    {
     "data": {
      "text/plain": [
       "([1], list)"
      ]
     },
     "execution_count": 23,
     "metadata": {},
     "output_type": "execute_result"
    }
   ],
   "source": [
    "a[:1], type(a[:1])   # list slicing -> list"
   ]
  },
  {
   "cell_type": "code",
   "execution_count": 24,
   "id": "018ba9de-9cc4-4275-af54-057aea10185c",
   "metadata": {},
   "outputs": [
    {
     "data": {
      "text/plain": [
       "((11,), tuple)"
      ]
     },
     "execution_count": 24,
     "metadata": {},
     "output_type": "execute_result"
    }
   ],
   "source": [
    "b[:1], type(b[:1])  # tuple slicing -> tuple"
   ]
  },
  {
   "cell_type": "code",
   "execution_count": 32,
   "id": "e2717e27-2ddd-4d21-b1c5-0ff06b81cf03",
   "metadata": {},
   "outputs": [
    {
     "data": {
      "text/plain": [
       "(pandas.core.series.Series,\n",
       " name    홍길동\n",
       " job      도적\n",
       " dtype: object)"
      ]
     },
     "execution_count": 32,
     "metadata": {},
     "output_type": "execute_result"
    }
   ],
   "source": [
    "# ret : \n",
    "ret = sr1[['name', 'job']]\n",
    "ret2 = sr1[[0,2]]\n",
    "type(ret), ret"
   ]
  },
  {
   "cell_type": "code",
   "execution_count": 27,
   "id": "04b20d12-e4a3-4a0b-8e7d-e41816a3bed4",
   "metadata": {},
   "outputs": [
    {
     "data": {
      "text/plain": [
       "(pandas.core.series.Series,\n",
       " name    홍길동\n",
       " job      도적\n",
       " dtype: object)"
      ]
     },
     "execution_count": 27,
     "metadata": {},
     "output_type": "execute_result"
    }
   ],
   "source": [
    "type(ret2), ret2"
   ]
  },
  {
   "cell_type": "markdown",
   "id": "4420f406-2eac-4610-90e6-c5565796e09a",
   "metadata": {},
   "source": [
    "### (4) 슬라이싱으로 원소 읽기 -------------"
   ]
  },
  {
   "cell_type": "code",
   "execution_count": 30,
   "id": "eacc6317-42c8-4182-b590-811a6ed9c41b",
   "metadata": {},
   "outputs": [
    {
     "data": {
      "text/plain": [
       "name    홍길동\n",
       "age      12\n",
       "dtype: object"
      ]
     },
     "execution_count": 30,
     "metadata": {},
     "output_type": "execute_result"
    }
   ],
   "source": [
    "# 위치 인덱스로 슬라이싱\n",
    "sr1[:2]    # 잘 적용됨!"
   ]
  },
  {
   "cell_type": "code",
   "execution_count": 31,
   "id": "b97d667f-7dc9-4a37-9ccb-22d83efcccd0",
   "metadata": {},
   "outputs": [
    {
     "data": {
      "text/plain": [
       "name    홍길동\n",
       "dtype: object"
      ]
     },
     "execution_count": 31,
     "metadata": {},
     "output_type": "execute_result"
    }
   ],
   "source": [
    "sr1[:-2]"
   ]
  },
  {
   "cell_type": "markdown",
   "id": "62d3e22d-8e49-4288-9e7e-7723a9fc03f6",
   "metadata": {},
   "source": [
    "### 레이블 인덱스로 슬라이싱\n",
    "    * 레이블(분류)로 슬라이싱: 끝= 진짜 끝! (원랜 -1)"
   ]
  },
  {
   "cell_type": "code",
   "execution_count": 35,
   "id": "f4d9a6d5-066b-4277-aff2-006858f9803c",
   "metadata": {},
   "outputs": [
    {
     "data": {
      "text/plain": [
       "name    홍길동\n",
       "age      12\n",
       "job      도적\n",
       "dtype: object"
      ]
     },
     "execution_count": 35,
     "metadata": {},
     "output_type": "execute_result"
    }
   ],
   "source": [
    "sr1['name':'job']"
   ]
  },
  {
   "cell_type": "code",
   "execution_count": 34,
   "id": "3f63d506-0b77-4d59-92e0-ce6571109b8d",
   "metadata": {},
   "outputs": [
    {
     "data": {
      "text/plain": [
       "name    홍길동\n",
       "age      12\n",
       "dtype: object"
      ]
     },
     "execution_count": 34,
     "metadata": {},
     "output_type": "execute_result"
    }
   ],
   "source": [
    "sr1['name':'age']"
   ]
  },
  {
   "cell_type": "code",
   "execution_count": null,
   "id": "70f1e147-ffa5-4226-88fb-a03f20cf9504",
   "metadata": {},
   "outputs": [],
   "source": []
  }
 ],
 "metadata": {
  "kernelspec": {
   "display_name": "Python 3 (ipykernel)",
   "language": "python",
   "name": "python3"
  },
  "language_info": {
   "codemirror_mode": {
    "name": "ipython",
    "version": 3
   },
   "file_extension": ".py",
   "mimetype": "text/x-python",
   "name": "python",
   "nbconvert_exporter": "python",
   "pygments_lexer": "ipython3",
   "version": "3.8.18"
  }
 },
 "nbformat": 4,
 "nbformat_minor": 5
}
