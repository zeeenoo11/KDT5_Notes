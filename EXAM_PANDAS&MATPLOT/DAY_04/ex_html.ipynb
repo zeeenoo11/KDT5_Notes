{
 "cells": [
  {
   "cell_type": "code",
   "execution_count": 1,
   "metadata": {},
   "outputs": [],
   "source": [
    "# [ html ]"
   ]
  },
  {
   "cell_type": "code",
   "execution_count": 7,
   "metadata": {},
   "outputs": [
    {
     "name": "stdout",
     "output_type": "stream",
     "text": [
      "[    0      1   2\n",
      "0  번호     이름  전공\n",
      "1   1    홍길동  의적\n",
      "2   2    마징가  로봇\n",
      "3   4    베트맨  박쥐\n",
      "4   5  스파이더맨  거미,      0     1   2\n",
      "0  과일명    가격  수량\n",
      "1   사과  1000  32\n",
      "2  바나나  3000  10\n",
      "3   수박  5800   2]\n"
     ]
    }
   ],
   "source": [
    "# 1. 모듈 로딩\n",
    "import pandas as pd\n",
    "\n",
    "# 2. 데이터 준비\n",
    "file = '../DATA/test.html'\n",
    "\n",
    "# 3. DataFrame\n",
    "df = pd.read_html(file, encoding='utf-8')\n",
    "print(df)"
   ]
  },
  {
   "cell_type": "code",
   "execution_count": 6,
   "metadata": {},
   "outputs": [
    {
     "data": {
      "text/plain": [
       "list"
      ]
     },
     "execution_count": 6,
     "metadata": {},
     "output_type": "execute_result"
    }
   ],
   "source": [
    "type(df)\n",
    "# 파일 내 표를 데이터프레임으로 제시하는데, 여러 표가 있을 때 여러 데이터 프레임이 생기고\n",
    "# 전체적으론 리스트로 반환한다. [ DF1, DF2, ... ]"
   ]
  },
  {
   "cell_type": "code",
   "execution_count": 8,
   "metadata": {},
   "outputs": [],
   "source": [
    "# to_csv(file.csv) : (스쳐가는) 파일 저장 방법"
   ]
  },
  {
   "cell_type": "code",
   "execution_count": null,
   "metadata": {},
   "outputs": [],
   "source": [
    "# 복습 : .describe(include=all) : 수치 데이터 외 모든 정보를 반환\n",
    "# Fin."
   ]
  }
 ],
 "metadata": {
  "kernelspec": {
   "display_name": "My_38",
   "language": "python",
   "name": "python3"
  },
  "language_info": {
   "codemirror_mode": {
    "name": "ipython",
    "version": 3
   },
   "file_extension": ".py",
   "mimetype": "text/x-python",
   "name": "python",
   "nbconvert_exporter": "python",
   "pygments_lexer": "ipython3",
   "version": "3.8.18"
  }
 },
 "nbformat": 4,
 "nbformat_minor": 2
}
